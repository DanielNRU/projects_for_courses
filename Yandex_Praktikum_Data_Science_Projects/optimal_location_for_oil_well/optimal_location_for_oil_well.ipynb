{
 "cells": [
  {
   "cell_type": "markdown",
   "metadata": {},
   "source": [
    "# Выбор оптимальной локации для нефтяной скважины"
   ]
  },
  {
   "cell_type": "markdown",
   "metadata": {},
   "source": [
    "Мы работаем в добывающей компании «ГлавРосГосНефть». Нужно решить, где бурить новую скважину.\n",
    "\n",
    "Нам предоставлены пробы нефти в трёх регионах: в каждом 10 000 месторождений, где измерили качество нефти и объём её запасов. \n",
    "Необходимо построить модель машинного обучения, которая поможет определить регион, где добыча принесёт наибольшую прибыль и проанализировать возможную прибыль и риски техникой *Bootstrap.*\n",
    "\n",
    "Шаги для выбора локации:\n",
    "\n",
    "- В избранном регионе ищут месторождения, для каждого определяют значения признаков;\n",
    "- Строят модель и оценивают объём запасов;\n",
    "- Выбирают месторождения с самым высокими оценками значений. Количество месторождений зависит от бюджета компании и стоимости разработки одной скважины;\n",
    "- Прибыль равна суммарной прибыли отобранных месторождений."
   ]
  },
  {
   "cell_type": "markdown",
   "metadata": {},
   "source": [
    "**Описание данных:**\n",
    "\n",
    "Данные геологоразведки трёх регионов находятся в файлах: \n",
    "* `/datasets/geo_data_0.csv`\n",
    "* `/datasets/geo_data_1.csv`\n",
    "* `/datasets/geo_data_2.csv`\n",
    "\n",
    "Содержат следующие признаки:\n",
    "\n",
    "* **id** — уникальный идентификатор скважины;\n",
    "* **f0, f1, f2** — три признака точек (неважно, что они означают, но сами признаки значимы);\n",
    "* **product** — объём запасов в скважине (тыс. баррелей)."
   ]
  },
  {
   "cell_type": "markdown",
   "metadata": {},
   "source": [
    "**Условия задачи:**\n",
    "    \n",
    "* Для обучения модели подходит только линейная регрессия (остальные — недостаточно предсказуемые).\n",
    "* При разведке региона исследуют 500 точек, из которых с помощью машинного обучения выбирают 200 лучших для разработки.\n",
    "* Бюджет на разработку скважин в регионе — 10 млрд рублей.\n",
    "* При нынешних ценах один баррель сырья приносит 450 рублей дохода. Доход с каждой единицы продукта составляет 450 тыс. рублей, поскольку объём указан в тысячах баррелей.\n",
    "* После оценки рисков нужно оставить лишь те регионы, в которых вероятность убытков меньше 2.5%. Среди них выбирают регион с наибольшей средней прибылью.\n",
    "* Данные синтетические: детали контрактов и характеристики месторождений не разглашаются."
   ]
  },
  {
   "cell_type": "markdown",
   "metadata": {},
   "source": [
    "### Импортируем необходимые библиотеки"
   ]
  },
  {
   "cell_type": "code",
   "execution_count": 1,
   "metadata": {},
   "outputs": [],
   "source": [
    "# библиотека для работы с данными\n",
    "import pandas as pd\n",
    "# библиотека для создания графиков\n",
    "import matplotlib.pyplot as plt\n",
    "# функция для создания легенды на графиках\n",
    "from matplotlib.patches import Patch\n",
    "# библиотека для визуализации данных\n",
    "import seaborn as sns\n",
    "# библиотека для работы с массивами и матрицами\n",
    "import numpy as np\n",
    "\n",
    "# функция для разделения данных на обучающий и тестовый наборы\n",
    "from sklearn.model_selection import train_test_split\n",
    "\n",
    "# классы для подготовки данных\n",
    "from sklearn.preprocessing import (\n",
    "    # для стандартизации признаков\n",
    "    StandardScaler,    \n",
    ")\n",
    "# класс для объединения преобразований признаков\n",
    "from sklearn.compose import ColumnTransformer\n",
    "\n",
    "\n",
    "# функция для работы с метрикой из sklearn.metrics\n",
    "from sklearn.metrics import mean_squared_error     \n",
    "\n",
    "# модели из sklearn для построения классификаторов и регрессоров\n",
    "# логистическая регрессия\n",
    "from sklearn.linear_model import LogisticRegression\n",
    "# линейная регрессия\n",
    "from sklearn.linear_model import LinearRegression\n",
    "\n",
    "# задаём значение констант\n",
    "# для воспроизводимости результатов\n",
    "RANDOM_STATE = 42\n",
    "\n",
    "# задаём стиль для графиков\n",
    "sns.set_style(\"darkgrid\")\n",
    "\n",
    "# Импорт os для работы с операционной системой\n",
    "import os\n",
    "\n",
    "# игнорируем предупреждения\n",
    "import warnings\n",
    "warnings.simplefilter(\"ignore\")"
   ]
  },
  {
   "cell_type": "markdown",
   "metadata": {},
   "source": [
    "## Загрузка и подготовка данных"
   ]
  },
  {
   "cell_type": "markdown",
   "metadata": {},
   "source": [
    "### Загрузим данные"
   ]
  },
  {
   "cell_type": "markdown",
   "metadata": {},
   "source": [
    "Считаем CSV-файлы в датафреймы"
   ]
  },
  {
   "cell_type": "code",
   "execution_count": 2,
   "metadata": {},
   "outputs": [
    {
     "name": "stdout",
     "output_type": "stream",
     "text": [
      "Данные загружены из локальной директории: geo_data_0.csv\n",
      "Данные загружены из локальной директории: geo_data_1.csv\n",
      "Данные загружены из локальной директории: geo_data_2.csv\n"
     ]
    }
   ],
   "source": [
    "local_path = '/datasets/'\n",
    "online_path = 'https://xxx/datasets/'\n",
    "\n",
    "files = [\n",
    "    'geo_data_0.csv',\n",
    "    'geo_data_1.csv',\n",
    "    'geo_data_2.csv'\n",
    "]\n",
    "\n",
    "dfs = []\n",
    "\n",
    "# Чтение файлов и создание датафреймов\n",
    "for file_name in files:\n",
    "    local_file_path = local_path + file_name\n",
    "    online_file_path = online_path + file_name\n",
    "    try:\n",
    "        if os.path.exists(local_file_path):\n",
    "            # Получение имени датафрейма из имени файла\n",
    "            df_name = file_name.split('.')[0]  \n",
    "            df = pd.read_csv(local_file_path)\n",
    "            print(f\"Данные загружены из локальной директории: {file_name}\")\n",
    "        elif os.path.exists(online_file_path):\n",
    "            # Получение имени датафрейма из имени файла\n",
    "            df_name = file_name.split('.')[0]  \n",
    "            df = pd.read_csv(online_file_path)\n",
    "            print(f\"Данные загружены из сети: {file_name}\")\n",
    "        # Присвоение датафрейму имени    \n",
    "        globals()[df_name] = df  \n",
    "        df.name = df_name\n",
    "        # Добавление датафрейма в список dfs   \n",
    "        dfs.append(df)           \n",
    "    except Exception as e:\n",
    "        print(f\"Произошла ошибка при чтении файла {file_name}: {e}\")"
   ]
  },
  {
   "cell_type": "code",
   "execution_count": 3,
   "metadata": {},
   "outputs": [],
   "source": [
    "# задаём целевой признак\n",
    "target = 'product'"
   ]
  },
  {
   "cell_type": "markdown",
   "metadata": {},
   "source": [
    "### Просмотрим информацию о датафреймах"
   ]
  },
  {
   "cell_type": "markdown",
   "metadata": {},
   "source": [
    "Напишем функцию для просмотра информации о датафреймах"
   ]
  },
  {
   "cell_type": "code",
   "execution_count": 4,
   "metadata": {},
   "outputs": [],
   "source": [
    "def info_func(df):\n",
    "    '''\n",
    "    функция для просмотра характеристик датафреймов, \n",
    "    проверки наличия пропусков и дубликатов в данных\n",
    "    функция info_func принимает на вход DataFrame df и выводит первые несколько строк \n",
    "    этого DataFrame, а также общую информацию о нем, количество пустых значений\n",
    "    и количество явных дубликатов в этом DataFrame.\n",
    "\n",
    "    Parameters:\n",
    "    df (DataFrame): Исходный DataFrame, для которого требуется вывести информацию.\n",
    "    target: Целевой признак\n",
    "\n",
    "    Returns:\n",
    "    None: Функция не возвращает значений, она лишь выводит информацию о DataFrame.\n",
    "    '''\n",
    "    print('-'*22,'Исходный датафрейм', df.name, '-'*22)\n",
    "    display(df.head())\n",
    "    print('')\n",
    "    print('')\n",
    "    print('-'*12,'Общая информация о датафрейме', df.name,'-'*12)\n",
    "    print('')\n",
    "    print('')\n",
    "    display(df.info())\n",
    "    \n",
    "    print('-'*10,'Количество пустых значений в датафрейме',df.name,'-'*10)\n",
    "    print('')\n",
    "    print('')\n",
    "    display(df.isna().sum())\n",
    "    print('-'*10,'Количество явных дубликатов в датафрейме',df.name,'-'*10)\n",
    "    display(df.duplicated().sum())\n",
    "        \n",
    "    dup_id = df['id'].value_counts()\n",
    "    print('-'*10,'Количество неявных дубликатов в датафрейме', df.name, ' в столбце id','-'*10)\n",
    "    print(len(df) - dup_id.count())\n",
    "    name = df.name\n",
    "    df = df.drop_duplicates(subset='id', keep=False)\n",
    "    df.name = name \n",
    "    \n",
    "    print('-'*10,'Графики распределения признаков датафрейма',df.name,'-'*10)\n",
    "    # Построение графиков распределения\n",
    "    num_cols = df.select_dtypes(include=['number']).columns\n",
    "    n_cols = 2\n",
    "    n_rows = (len(num_cols) + n_cols - 1) // n_cols  # Вычисление количества строк\n",
    "\n",
    "    fig, axes = plt.subplots(n_rows, n_cols, figsize=(15, 5 * n_rows))\n",
    "    axes = axes.flatten()  # Преобразование массива осей в одномерный массив\n",
    "\n",
    "    for i, col in enumerate(num_cols):\n",
    "        sns.histplot(df[col], kde=True, ax=axes[i])\n",
    "        axes[i].set_title(f'Распределение признака: {col}')\n",
    "        axes[i].set_xlabel(col)\n",
    "        axes[i].set_ylabel('Частота')\n",
    "        axes[i].grid(True)\n",
    "\n",
    "    # Удаление пустых подграфиков\n",
    "    for i in range(len(num_cols), len(axes)):\n",
    "        fig.delaxes(axes[i])\n",
    "\n",
    "    plt.tight_layout()\n",
    "    plt.show()\n",
    "    \n",
    "    print('-'*10,'Матрица корреляции признаков датафрейма',df.name,'-'*10)\n",
    "    \n",
    "    # Вычисление матрицы корреляции\n",
    "    corr_matrix = df.corr()\n",
    "\n",
    "    # Построение тепловой карты корреляционной матрицы\n",
    "    plt.figure(figsize=(12, 8))\n",
    "    sns.heatmap(corr_matrix, annot=True, fmt=\".2f\", cmap=\"coolwarm\", cbar=True, square=True)\n",
    "    plt.title('Матрица корреляции признаков')\n",
    "    plt.show()"
   ]
  },
  {
   "cell_type": "markdown",
   "metadata": {},
   "source": [
    "Применим к датафреймам функцию `info_func`"
   ]
  },
  {
   "cell_type": "code",
   "execution_count": 5,
   "metadata": {
    "scrolled": false
   },
   "outputs": [
    {
     "name": "stdout",
     "output_type": "stream",
     "text": [
      "---------------------- Исходный датафрейм geo_data_0 ----------------------\n"
     ]
    },
    {
     "data": {
      "text/html": [
       "<div>\n",
       "<style scoped>\n",
       "    .dataframe tbody tr th:only-of-type {\n",
       "        vertical-align: middle;\n",
       "    }\n",
       "\n",
       "    .dataframe tbody tr th {\n",
       "        vertical-align: top;\n",
       "    }\n",
       "\n",
       "    .dataframe thead th {\n",
       "        text-align: right;\n",
       "    }\n",
       "</style>\n",
       "<table border=\"1\" class=\"dataframe\">\n",
       "  <thead>\n",
       "    <tr style=\"text-align: right;\">\n",
       "      <th></th>\n",
       "      <th>id</th>\n",
       "      <th>f0</th>\n",
       "      <th>f1</th>\n",
       "      <th>f2</th>\n",
       "      <th>product</th>\n",
       "    </tr>\n",
       "  </thead>\n",
       "  <tbody>\n",
       "    <tr>\n",
       "      <th>0</th>\n",
       "      <td>txEyH</td>\n",
       "      <td>0.705745</td>\n",
       "      <td>-0.497823</td>\n",
       "      <td>1.221170</td>\n",
       "      <td>105.280062</td>\n",
       "    </tr>\n",
       "    <tr>\n",
       "      <th>1</th>\n",
       "      <td>2acmU</td>\n",
       "      <td>1.334711</td>\n",
       "      <td>-0.340164</td>\n",
       "      <td>4.365080</td>\n",
       "      <td>73.037750</td>\n",
       "    </tr>\n",
       "    <tr>\n",
       "      <th>2</th>\n",
       "      <td>409Wp</td>\n",
       "      <td>1.022732</td>\n",
       "      <td>0.151990</td>\n",
       "      <td>1.419926</td>\n",
       "      <td>85.265647</td>\n",
       "    </tr>\n",
       "    <tr>\n",
       "      <th>3</th>\n",
       "      <td>iJLyR</td>\n",
       "      <td>-0.032172</td>\n",
       "      <td>0.139033</td>\n",
       "      <td>2.978566</td>\n",
       "      <td>168.620776</td>\n",
       "    </tr>\n",
       "    <tr>\n",
       "      <th>4</th>\n",
       "      <td>Xdl7t</td>\n",
       "      <td>1.988431</td>\n",
       "      <td>0.155413</td>\n",
       "      <td>4.751769</td>\n",
       "      <td>154.036647</td>\n",
       "    </tr>\n",
       "  </tbody>\n",
       "</table>\n",
       "</div>"
      ],
      "text/plain": [
       "      id        f0        f1        f2     product\n",
       "0  txEyH  0.705745 -0.497823  1.221170  105.280062\n",
       "1  2acmU  1.334711 -0.340164  4.365080   73.037750\n",
       "2  409Wp  1.022732  0.151990  1.419926   85.265647\n",
       "3  iJLyR -0.032172  0.139033  2.978566  168.620776\n",
       "4  Xdl7t  1.988431  0.155413  4.751769  154.036647"
      ]
     },
     "metadata": {},
     "output_type": "display_data"
    },
    {
     "name": "stdout",
     "output_type": "stream",
     "text": [
      "\n",
      "\n",
      "------------ Общая информация о датафрейме geo_data_0 ------------\n",
      "\n",
      "\n",
      "<class 'pandas.core.frame.DataFrame'>\n",
      "RangeIndex: 100000 entries, 0 to 99999\n",
      "Data columns (total 5 columns):\n",
      " #   Column   Non-Null Count   Dtype  \n",
      "---  ------   --------------   -----  \n",
      " 0   id       100000 non-null  object \n",
      " 1   f0       100000 non-null  float64\n",
      " 2   f1       100000 non-null  float64\n",
      " 3   f2       100000 non-null  float64\n",
      " 4   product  100000 non-null  float64\n",
      "dtypes: float64(4), object(1)\n",
      "memory usage: 3.8+ MB\n"
     ]
    },
    {
     "data": {
      "text/plain": [
       "None"
      ]
     },
     "metadata": {},
     "output_type": "display_data"
    },
    {
     "name": "stdout",
     "output_type": "stream",
     "text": [
      "---------- Количество пустых значений в датафрейме geo_data_0 ----------\n",
      "\n",
      "\n"
     ]
    },
    {
     "data": {
      "text/plain": [
       "id         0\n",
       "f0         0\n",
       "f1         0\n",
       "f2         0\n",
       "product    0\n",
       "dtype: int64"
      ]
     },
     "metadata": {},
     "output_type": "display_data"
    },
    {
     "name": "stdout",
     "output_type": "stream",
     "text": [
      "---------- Количество явных дубликатов в датафрейме geo_data_0 ----------\n"
     ]
    },
    {
     "data": {
      "text/plain": [
       "0"
      ]
     },
     "metadata": {},
     "output_type": "display_data"
    },
    {
     "name": "stdout",
     "output_type": "stream",
     "text": [
      "---------- Количество неявных дубликатов в датафрейме geo_data_0  в столбце id ----------\n",
      "10\n",
      "---------- Графики распределения признаков датафрейма geo_data_0 ----------\n"
     ]
    },
    {
     "data": {
      "image/png": "[encoded data removed]",
      "text/plain": [
       "<Figure size 1080x720 with 4 Axes>"
      ]
     },
     "metadata": {},
     "output_type": "display_data"
    },
    {
     "name": "stdout",
     "output_type": "stream",
     "text": [
      "---------- Матрица корреляции признаков датафрейма geo_data_0 ----------\n"
     ]
    },
    {
     "data": {
      "image/png": "[encoded data removed]",
      "text/plain": [
       "<Figure size 864x576 with 2 Axes>"
      ]
     },
     "metadata": {},
     "output_type": "display_data"
    },
    {
     "name": "stdout",
     "output_type": "stream",
     "text": [
      "---------------------- Исходный датафрейм geo_data_1 ----------------------\n"
     ]
    },
    {
     "data": {
      "text/html": [
       "<div>\n",
       "<style scoped>\n",
       "    .dataframe tbody tr th:only-of-type {\n",
       "        vertical-align: middle;\n",
       "    }\n",
       "\n",
       "    .dataframe tbody tr th {\n",
       "        vertical-align: top;\n",
       "    }\n",
       "\n",
       "    .dataframe thead th {\n",
       "        text-align: right;\n",
       "    }\n",
       "</style>\n",
       "<table border=\"1\" class=\"dataframe\">\n",
       "  <thead>\n",
       "    <tr style=\"text-align: right;\">\n",
       "      <th></th>\n",
       "      <th>id</th>\n",
       "      <th>f0</th>\n",
       "      <th>f1</th>\n",
       "      <th>f2</th>\n",
       "      <th>product</th>\n",
       "    </tr>\n",
       "  </thead>\n",
       "  <tbody>\n",
       "    <tr>\n",
       "      <th>0</th>\n",
       "      <td>kBEdx</td>\n",
       "      <td>-15.001348</td>\n",
       "      <td>-8.276000</td>\n",
       "      <td>-0.005876</td>\n",
       "      <td>3.179103</td>\n",
       "    </tr>\n",
       "    <tr>\n",
       "      <th>1</th>\n",
       "      <td>62mP7</td>\n",
       "      <td>14.272088</td>\n",
       "      <td>-3.475083</td>\n",
       "      <td>0.999183</td>\n",
       "      <td>26.953261</td>\n",
       "    </tr>\n",
       "    <tr>\n",
       "      <th>2</th>\n",
       "      <td>vyE1P</td>\n",
       "      <td>6.263187</td>\n",
       "      <td>-5.948386</td>\n",
       "      <td>5.001160</td>\n",
       "      <td>134.766305</td>\n",
       "    </tr>\n",
       "    <tr>\n",
       "      <th>3</th>\n",
       "      <td>KcrkZ</td>\n",
       "      <td>-13.081196</td>\n",
       "      <td>-11.506057</td>\n",
       "      <td>4.999415</td>\n",
       "      <td>137.945408</td>\n",
       "    </tr>\n",
       "    <tr>\n",
       "      <th>4</th>\n",
       "      <td>AHL4O</td>\n",
       "      <td>12.702195</td>\n",
       "      <td>-8.147433</td>\n",
       "      <td>5.004363</td>\n",
       "      <td>134.766305</td>\n",
       "    </tr>\n",
       "  </tbody>\n",
       "</table>\n",
       "</div>"
      ],
      "text/plain": [
       "      id         f0         f1        f2     product\n",
       "0  kBEdx -15.001348  -8.276000 -0.005876    3.179103\n",
       "1  62mP7  14.272088  -3.475083  0.999183   26.953261\n",
       "2  vyE1P   6.263187  -5.948386  5.001160  134.766305\n",
       "3  KcrkZ -13.081196 -11.506057  4.999415  137.945408\n",
       "4  AHL4O  12.702195  -8.147433  5.004363  134.766305"
      ]
     },
     "metadata": {},
     "output_type": "display_data"
    },
    {
     "name": "stdout",
     "output_type": "stream",
     "text": [
      "\n",
      "\n",
      "------------ Общая информация о датафрейме geo_data_1 ------------\n",
      "\n",
      "\n",
      "<class 'pandas.core.frame.DataFrame'>\n",
      "RangeIndex: 100000 entries, 0 to 99999\n",
      "Data columns (total 5 columns):\n",
      " #   Column   Non-Null Count   Dtype  \n",
      "---  ------   --------------   -----  \n",
      " 0   id       100000 non-null  object \n",
      " 1   f0       100000 non-null  float64\n",
      " 2   f1       100000 non-null  float64\n",
      " 3   f2       100000 non-null  float64\n",
      " 4   product  100000 non-null  float64\n",
      "dtypes: float64(4), object(1)\n",
      "memory usage: 3.8+ MB\n"
     ]
    },
    {
     "data": {
      "text/plain": [
       "None"
      ]
     },
     "metadata": {},
     "output_type": "display_data"
    },
    {
     "name": "stdout",
     "output_type": "stream",
     "text": [
      "---------- Количество пустых значений в датафрейме geo_data_1 ----------\n",
      "\n",
      "\n"
     ]
    },
    {
     "data": {
      "text/plain": [
       "id         0\n",
       "f0         0\n",
       "f1         0\n",
       "f2         0\n",
       "product    0\n",
       "dtype: int64"
      ]
     },
     "metadata": {},
     "output_type": "display_data"
    },
    {
     "name": "stdout",
     "output_type": "stream",
     "text": [
      "---------- Количество явных дубликатов в датафрейме geo_data_1 ----------\n"
     ]
    },
    {
     "data": {
      "text/plain": [
       "0"
      ]
     },
     "metadata": {},
     "output_type": "display_data"
    },
    {
     "name": "stdout",
     "output_type": "stream",
     "text": [
      "---------- Количество неявных дубликатов в датафрейме geo_data_1  в столбце id ----------\n",
      "4\n",
      "---------- Графики распределения признаков датафрейма geo_data_1 ----------\n"
     ]
    },
    {
     "data": {
      "image/png": "[encoded data removed]",
      "text/plain": [
       "<Figure size 1080x720 with 4 Axes>"
      ]
     },
     "metadata": {},
     "output_type": "display_data"
    },
    {
     "name": "stdout",
     "output_type": "stream",
     "text": [
      "---------- Матрица корреляции признаков датафрейма geo_data_1 ----------\n"
     ]
    },
    {
     "data": {
      "image/png": "[encoded data removed]",
      "text/plain": [
       "<Figure size 864x576 with 2 Axes>"
      ]
     },
     "metadata": {},
     "output_type": "display_data"
    },
    {
     "name": "stdout",
     "output_type": "stream",
     "text": [
      "---------------------- Исходный датафрейм geo_data_2 ----------------------\n"
     ]
    },
    {
     "data": {
      "text/html": [
       "<div>\n",
       "<style scoped>\n",
       "    .dataframe tbody tr th:only-of-type {\n",
       "        vertical-align: middle;\n",
       "    }\n",
       "\n",
       "    .dataframe tbody tr th {\n",
       "        vertical-align: top;\n",
       "    }\n",
       "\n",
       "    .dataframe thead th {\n",
       "        text-align: right;\n",
       "    }\n",
       "</style>\n",
       "<table border=\"1\" class=\"dataframe\">\n",
       "  <thead>\n",
       "    <tr style=\"text-align: right;\">\n",
       "      <th></th>\n",
       "      <th>id</th>\n",
       "      <th>f0</th>\n",
       "      <th>f1</th>\n",
       "      <th>f2</th>\n",
       "      <th>product</th>\n",
       "    </tr>\n",
       "  </thead>\n",
       "  <tbody>\n",
       "    <tr>\n",
       "      <th>0</th>\n",
       "      <td>fwXo0</td>\n",
       "      <td>-1.146987</td>\n",
       "      <td>0.963328</td>\n",
       "      <td>-0.828965</td>\n",
       "      <td>27.758673</td>\n",
       "    </tr>\n",
       "    <tr>\n",
       "      <th>1</th>\n",
       "      <td>WJtFt</td>\n",
       "      <td>0.262778</td>\n",
       "      <td>0.269839</td>\n",
       "      <td>-2.530187</td>\n",
       "      <td>56.069697</td>\n",
       "    </tr>\n",
       "    <tr>\n",
       "      <th>2</th>\n",
       "      <td>ovLUW</td>\n",
       "      <td>0.194587</td>\n",
       "      <td>0.289035</td>\n",
       "      <td>-5.586433</td>\n",
       "      <td>62.871910</td>\n",
       "    </tr>\n",
       "    <tr>\n",
       "      <th>3</th>\n",
       "      <td>q6cA6</td>\n",
       "      <td>2.236060</td>\n",
       "      <td>-0.553760</td>\n",
       "      <td>0.930038</td>\n",
       "      <td>114.572842</td>\n",
       "    </tr>\n",
       "    <tr>\n",
       "      <th>4</th>\n",
       "      <td>WPMUX</td>\n",
       "      <td>-0.515993</td>\n",
       "      <td>1.716266</td>\n",
       "      <td>5.899011</td>\n",
       "      <td>149.600746</td>\n",
       "    </tr>\n",
       "  </tbody>\n",
       "</table>\n",
       "</div>"
      ],
      "text/plain": [
       "      id        f0        f1        f2     product\n",
       "0  fwXo0 -1.146987  0.963328 -0.828965   27.758673\n",
       "1  WJtFt  0.262778  0.269839 -2.530187   56.069697\n",
       "2  ovLUW  0.194587  0.289035 -5.586433   62.871910\n",
       "3  q6cA6  2.236060 -0.553760  0.930038  114.572842\n",
       "4  WPMUX -0.515993  1.716266  5.899011  149.600746"
      ]
     },
     "metadata": {},
     "output_type": "display_data"
    },
    {
     "name": "stdout",
     "output_type": "stream",
     "text": [
      "\n",
      "\n",
      "------------ Общая информация о датафрейме geo_data_2 ------------\n",
      "\n",
      "\n",
      "<class 'pandas.core.frame.DataFrame'>\n",
      "RangeIndex: 100000 entries, 0 to 99999\n",
      "Data columns (total 5 columns):\n",
      " #   Column   Non-Null Count   Dtype  \n",
      "---  ------   --------------   -----  \n",
      " 0   id       100000 non-null  object \n",
      " 1   f0       100000 non-null  float64\n",
      " 2   f1       100000 non-null  float64\n",
      " 3   f2       100000 non-null  float64\n",
      " 4   product  100000 non-null  float64\n",
      "dtypes: float64(4), object(1)\n",
      "memory usage: 3.8+ MB\n"
     ]
    },
    {
     "data": {
      "text/plain": [
       "None"
      ]
     },
     "metadata": {},
     "output_type": "display_data"
    },
    {
     "name": "stdout",
     "output_type": "stream",
     "text": [
      "---------- Количество пустых значений в датафрейме geo_data_2 ----------\n",
      "\n",
      "\n"
     ]
    },
    {
     "data": {
      "text/plain": [
       "id         0\n",
       "f0         0\n",
       "f1         0\n",
       "f2         0\n",
       "product    0\n",
       "dtype: int64"
      ]
     },
     "metadata": {},
     "output_type": "display_data"
    },
    {
     "name": "stdout",
     "output_type": "stream",
     "text": [
      "---------- Количество явных дубликатов в датафрейме geo_data_2 ----------\n"
     ]
    },
    {
     "data": {
      "text/plain": [
       "0"
      ]
     },
     "metadata": {},
     "output_type": "display_data"
    },
    {
     "name": "stdout",
     "output_type": "stream",
     "text": [
      "---------- Количество неявных дубликатов в датафрейме geo_data_2  в столбце id ----------\n",
      "4\n",
      "---------- Графики распределения признаков датафрейма geo_data_2 ----------\n"
     ]
    },
    {
     "data": {
      "image/png": "[encoded data removed]",
      "text/plain": [
       "<Figure size 1080x720 with 4 Axes>"
      ]
     },
     "metadata": {},
     "output_type": "display_data"
    },
    {
     "name": "stdout",
     "output_type": "stream",
     "text": [
      "---------- Матрица корреляции признаков датафрейма geo_data_2 ----------\n"
     ]
    },
    {
     "data": {
      "image/png": "[encoded data removed]",
      "text/plain": [
       "<Figure size 864x576 with 2 Axes>"
      ]
     },
     "metadata": {},
     "output_type": "display_data"
    }
   ],
   "source": [
    "for df in dfs:\n",
    "    info_func(df)"
   ]
  },
  {
   "cell_type": "markdown",
   "metadata": {},
   "source": [
    "* Каждый датафрейм содержит 100 000 строк, данные соответствуют описанию\n",
    "* Пропущенные значения и явные дубликаты отсутствуют\n",
    "* Удалено неявных дубликатов в датафреймах:\n",
    " * `geo_data_0.csv` - 10\n",
    " * `geo_data_1.csv` - 4\n",
    " * `geo_data_2.csv` - 4"
   ]
  },
  {
   "cell_type": "markdown",
   "metadata": {},
   "source": [
    "В регионе `geo_data_1` наблюдается не нормальное распределение признаков, целевой признак коррелирует с признаком `f2` на 100%"
   ]
  },
  {
   "cell_type": "markdown",
   "metadata": {},
   "source": [
    "### Подготовка данных"
   ]
  },
  {
   "cell_type": "markdown",
   "metadata": {},
   "source": [
    "Переенесём столбец id в индексы, он не требуется для обучения моделей"
   ]
  },
  {
   "cell_type": "code",
   "execution_count": 6,
   "metadata": {},
   "outputs": [
    {
     "name": "stdout",
     "output_type": "stream",
     "text": [
      "Количество явных дубликатов для:\n",
      "                                 geo_data_0 - 0\n",
      "                                 geo_data_1 - 0\n",
      "                                 geo_data_2 - 0\n"
     ]
    }
   ],
   "source": [
    "print(f'Количество явных дубликатов для:')\n",
    "for df in dfs:\n",
    "    df.set_index('id', inplace=True)\n",
    "    print(f'                                 {df.name} - {df.duplicated().sum()}')"
   ]
  },
  {
   "cell_type": "code",
   "execution_count": 7,
   "metadata": {},
   "outputs": [],
   "source": [
    "features = ['f0','f1','f2']"
   ]
  },
  {
   "cell_type": "markdown",
   "metadata": {},
   "source": [
    "## Обучение и проверка модели"
   ]
  },
  {
   "cell_type": "markdown",
   "metadata": {},
   "source": [
    "Напишем функцию для обучения и проверки модели"
   ]
  },
  {
   "cell_type": "code",
   "execution_count": 8,
   "metadata": {},
   "outputs": [],
   "source": [
    "def model_tr(df, target, features):\n",
    "    # Разобьём данные на тренировочную и валидационную выборки\n",
    "\n",
    "    X = df[features]\n",
    "    y = df[target]\n",
    "\n",
    "    X_train, X_valid, y_train, y_valid = train_test_split(\n",
    "        X, \n",
    "        y,\n",
    "        test_size=.25,\n",
    "        random_state=RANDOM_STATE)\n",
    "    \n",
    "    # Выберем метод масштабирования\n",
    "    scaler = StandardScaler()\n",
    "\n",
    "    # Настрока масштабирования на тренировочной выборке\n",
    "    scaler.fit(X_train[features])\n",
    "\n",
    "    # Масштабирование тренировочной выборки \n",
    "    X_train_scaled = scaler.transform(X_train[features])\n",
    "\n",
    "    # Масштабирование валидационной выборки \n",
    "    X_valid_scaled = scaler.transform(X_valid[features])\n",
    "    \n",
    "    # создадим тренировочный и валидационный датафреймы из отмасштабированных данных\n",
    "    X_train = pd.DataFrame(X_train_scaled, columns=features)\n",
    "    X_valid = pd.DataFrame(X_valid_scaled, columns=features)\n",
    "    \n",
    "    # Объявим модель\n",
    "    model = LinearRegression()\n",
    "\n",
    "    # Обучим модель\n",
    "    model.fit(X_train, y_train)\n",
    "\n",
    "    # Получим предсказания\n",
    "    pred = model.predict(X_valid)\n",
    "    \n",
    "    print(f'Средний запас сырья в {df.name}: {pred.mean():.2f}')\n",
    "    print(f'RMSE модели: {mean_squared_error(y_valid, pred, squared=False):.2f}')\n",
    "    \n",
    "    df_result = pd.DataFrame([], columns=['cor', 'pred'])\n",
    "    df_result['cor'] = y_valid\n",
    "    df_result['pred'] = pred\n",
    "    \n",
    "    return df_result"
   ]
  },
  {
   "cell_type": "markdown",
   "metadata": {},
   "source": [
    "Применим функцию для обучения моделей `model_tr`"
   ]
  },
  {
   "cell_type": "code",
   "execution_count": 9,
   "metadata": {},
   "outputs": [
    {
     "name": "stdout",
     "output_type": "stream",
     "text": [
      "Средний запас сырья в geo_data_0: 92.40\n",
      "RMSE модели: 37.76\n"
     ]
    }
   ],
   "source": [
    "df_0 = model_tr(geo_data_0, target, features)"
   ]
  },
  {
   "cell_type": "code",
   "execution_count": 10,
   "metadata": {},
   "outputs": [
    {
     "name": "stdout",
     "output_type": "stream",
     "text": [
      "Средний запас сырья в geo_data_1: 68.71\n",
      "RMSE модели: 0.89\n"
     ]
    }
   ],
   "source": [
    "df_1 = model_tr(geo_data_1, target, features)"
   ]
  },
  {
   "cell_type": "code",
   "execution_count": 11,
   "metadata": {},
   "outputs": [
    {
     "name": "stdout",
     "output_type": "stream",
     "text": [
      "Средний запас сырья в geo_data_2: 94.77\n",
      "RMSE модели: 40.15\n"
     ]
    }
   ],
   "source": [
    "df_2 = model_tr(geo_data_2, target, features)"
   ]
  },
  {
   "cell_type": "markdown",
   "metadata": {},
   "source": [
    "Средний запас сырья и RMSE модели больше всего в регионе `geo_data_2` - 94.77, меньше всего в регионе `geo_data_1` 68.71"
   ]
  },
  {
   "cell_type": "markdown",
   "metadata": {},
   "source": [
    "## Подготовка к расчёту прибыли"
   ]
  },
  {
   "cell_type": "markdown",
   "metadata": {},
   "source": [
    "### Зададим константы для ключевых значений"
   ]
  },
  {
   "cell_type": "code",
   "execution_count": 12,
   "metadata": {},
   "outputs": [],
   "source": [
    "POINTS_COUNT_EXAMINED = 500\n",
    "POINTS_COUNT_BEST = 200\n",
    "BUDGET = 10_000_000_000\n",
    "INCOME_FROM_ONE_UNIT = 450000"
   ]
  },
  {
   "cell_type": "markdown",
   "metadata": {},
   "source": [
    "### Рассчитаем достаточный объём сырья для безубыточной разработки разработки новой скважины"
   ]
  },
  {
   "cell_type": "code",
   "execution_count": 13,
   "metadata": {},
   "outputs": [
    {
     "name": "stdout",
     "output_type": "stream",
     "text": [
      "Объём сырья для безубыточной разработки должен составлять не менее:       111.11,тыс.баррелей\n"
     ]
    }
   ],
   "source": [
    "print(f'Объём сырья для безубыточной разработки должен составлять не менее: \\\n",
    "      {BUDGET/POINTS_COUNT_BEST/INCOME_FROM_ONE_UNIT:.2f},тыс.баррелей')"
   ]
  },
  {
   "cell_type": "markdown",
   "metadata": {},
   "source": [
    "Самый высокий средний запас сырья в регионе `geo_data_2` составляет 94.77, что меньше необходимого для безубыточной разработки новой скважины объема в 111.11. Поскольку средние запасы сырья по всем регионам недостаточны для безубыточной разработки, необходимо выбирать скважины с максимальными запасами."
   ]
  },
  {
   "cell_type": "markdown",
   "metadata": {},
   "source": [
    "### Напишем функцию для рассчёта прибыли по выбранным скважинам и предсказаниям модели"
   ]
  },
  {
   "cell_type": "code",
   "execution_count": 14,
   "metadata": {},
   "outputs": [],
   "source": [
    "def calculate_revenue(predictions, target, count):\n",
    "    \"\"\"\n",
    "    Функция для расчета прибыли от выбранных скважин.\n",
    "    \n",
    "    Parameters:\n",
    "    predictions (array-like): предсказания модели.\n",
    "    target (array-like): целевые значения (истинные запасы).\n",
    "    count (int): количество лучших скважин для разработки.\n",
    "    \n",
    "    Returns:\n",
    "    profit (float): прибыль от выбранных скважин.\n",
    "    \"\"\"\n",
    "    # Создадим DataFrame из предсказаний и целевых значений\n",
    "    data = pd.DataFrame({\n",
    "        'prediction': predictions,\n",
    "        'target': target\n",
    "    })\n",
    "\n",
    "    # Сбросим индексы для избегания дубликатов\n",
    "    data = data.reset_index(drop=True)\n",
    "\n",
    "    # Отсортируем по предсказаниям\n",
    "    data_sorted = data.sort_values(by='prediction', ascending=False)\n",
    "\n",
    "    # Возьмем только первые `count` значений\n",
    "    selected = data_sorted.head(count)\n",
    "\n",
    "    # Расчет прибыли\n",
    "    total_revenue = selected['target'].sum() * INCOME_FROM_ONE_UNIT\n",
    "    profit = total_revenue - BUDGET\n",
    "\n",
    "    return profit"
   ]
  },
  {
   "cell_type": "markdown",
   "metadata": {},
   "source": [
    "## Расчёт прибыли и рисков "
   ]
  },
  {
   "cell_type": "code",
   "execution_count": 15,
   "metadata": {},
   "outputs": [],
   "source": [
    "def analyze_region(df, target, features, n_bootstraps=1000):\n",
    "    \"\"\"\n",
    "    Функция для анализа региона: обучение модели, выполнение бутстрап и расчет прибыли и рисков.\n",
    "    \n",
    "    Parameters:\n",
    "    df (DataFrame): данные региона.\n",
    "    target (str): название столбца с целевыми значениями.\n",
    "    features (list): список названий столбцов с признаками.\n",
    "    n_bootstraps (int): количество бутстрап-итераций.\n",
    "    \n",
    "    Returns:\n",
    "    profits (array): массив значений прибыли для каждой итерации бутстрап.\n",
    "    mean_profit (float): средняя прибыль.\n",
    "    risk (float): вероятность убытков.\n",
    "    \"\"\"\n",
    "    # Обучим модель и получим предсказания\n",
    "    result = model_tr(df, target, features)\n",
    "    predictions = result['pred']\n",
    "    true_values = result['cor']\n",
    "    \n",
    "    # Создадим DataFrame из предсказаний и целевых значений\n",
    "    data = pd.DataFrame({\n",
    "        'prediction': predictions,\n",
    "        'target': true_values\n",
    "    })\n",
    "\n",
    "    # Выполним бутстрап и расчет прибыли\n",
    "    profits = []\n",
    "    for i in range(n_bootstraps):\n",
    "        # Выполним бутстрап с возвращением\n",
    "        sample = data.sample(n=POINTS_COUNT_EXAMINED, replace=True, random_state=RANDOM_STATE+i)\n",
    "        sample_predictions = sample['prediction']\n",
    "        sample_target = sample['target']\n",
    "        \n",
    "        # Рассчитаем прибыль для текущей выборки\n",
    "        profit = calculate_revenue(sample_predictions, sample_target, POINTS_COUNT_BEST)\n",
    "        profits.append(profit)\n",
    "        \n",
    "    profits = np.array(profits)\n",
    "    \n",
    "    # Расчитаем среднюю прибыль и риски\n",
    "    mean_profit = profits.mean()\n",
    "    lower_bound = np.percentile(profits, 2.5)\n",
    "    upper_bound = np.percentile(profits, 97.5)\n",
    "    risk = (profits < 0).mean()\n",
    "    \n",
    "    # Вывод результатов\n",
    "    print(f'Средняя прибыль в регионе {df.name}: {mean_profit/1000000:.2f} млн. руб.')\n",
    "    print(f'95%-ный доверительный интервал: от {lower_bound/1000000:.2f} до {upper_bound/1000000:.2f} млн. руб.')\n",
    "    print(f'Риск убытков: {risk * 100:.2f}%')\n",
    "    \n",
    "    return profits, mean_profit, risk"
   ]
  },
  {
   "cell_type": "code",
   "execution_count": 16,
   "metadata": {},
   "outputs": [
    {
     "name": "stdout",
     "output_type": "stream",
     "text": [
      "\n",
      "Анализ региона: geo_data_0\n",
      "Средний запас сырья в geo_data_0: 92.40\n",
      "RMSE модели: 37.76\n",
      "Средняя прибыль в регионе geo_data_0: 404.12 млн. руб.\n",
      "95%-ный доверительный интервал: от -79.94 до 933.66 млн. руб.\n",
      "Риск убытков: 5.80%\n",
      "\n",
      "Анализ региона: geo_data_1\n",
      "Средний запас сырья в geo_data_1: 68.71\n",
      "RMSE модели: 0.89\n",
      "Средняя прибыль в регионе geo_data_1: 442.00 млн. руб.\n",
      "95%-ный доверительный интервал: от 54.34 до 812.36 млн. руб.\n",
      "Риск убытков: 1.40%\n",
      "\n",
      "Анализ региона: geo_data_2\n",
      "Средний запас сырья в geo_data_2: 94.77\n",
      "RMSE модели: 40.15\n",
      "Средняя прибыль в регионе geo_data_2: 376.54 млн. руб.\n",
      "95%-ный доверительный интервал: от -144.75 до 909.00 млн. руб.\n",
      "Риск убытков: 8.40%\n"
     ]
    }
   ],
   "source": [
    "# Выполним анализ для каждого региона\n",
    "for df in dfs:\n",
    "    print(f'\\nАнализ региона: {df.name}')\n",
    "    analyze_region(df, target, features)"
   ]
  },
  {
   "cell_type": "markdown",
   "metadata": {},
   "source": [
    "**Вывод**\n",
    "\n",
    "Исходя из анализа трех регионов для разработки новой скважины, следует сделать следующие выводы:\n",
    "\n",
    "1. **Средний запас сырья:** Самый высокий средний запас сырья наблюдается в регионе `geo_data_2` и составляет 94.77 тыс. баррелей, в то время как в регионе `geo_data_1` этот показатель значительно ниже и составляет 68.71 тыс. баррелей.\n",
    "\n",
    "2. **Прогнозная точность модели:** Модель линейной регрессии показывает наилучшие результаты в регионе `geo_data_1`, где среднеквадратичная ошибка составляет всего 0.89 тыс. баррелей. В других регионах ошибка немного выше: 37.76 тыс. баррелей для `geo_data_0` и 40.15 тыс. баррелей для `geo_data_2`.\n",
    "\n",
    "3. **Прибыль и риски:** Риск убытков наибольший в регионе `geo_data_2` и составляет 8.4%, что выше установленного порога в 2.5%. В регионах `geo_data_0` и `geo_data_1` риск убытков составляет 5.8% и 1.4% соответственно.\n",
    "\n",
    "4. **Предполагаемая прибыль:** Средняя прибыль от разработки скважин ожидается наибольшей в регионе `geo_data_1` и составляет 442 млн. рублей, с 95%-ным доверительным интервалом от 54.34 до 812.36 млн. рублей. Средняя прибыль в регионе `geo_data_2` составляет 376.54 млн. рублей, но при этом существует риск убытков, так как нижняя граница доверительного интервала отрицательная (-144.75 млн. рублей).\n",
    "\n",
    "Исходя из анализа, регион `geo_data_1` представляется наиболее предпочтительным для разработки новой скважины, так как он обладает хорошим средним запасом сырья, низким риском убытков и достаточно точной моделью прогнозирования."
   ]
  }
 ],
 "metadata": {
  "ExecuteTimeLog": [
   {
    "duration": 81,
    "start_time": "2024-06-09T03:04:35.484Z"
   },
   {
    "duration": 1828,
    "start_time": "2024-06-09T03:12:37.563Z"
   },
   {
    "duration": 3558,
    "start_time": "2024-06-09T03:13:14.585Z"
   },
   {
    "duration": 3,
    "start_time": "2024-06-09T03:13:37.397Z"
   },
   {
    "duration": 323,
    "start_time": "2024-06-09T03:13:39.150Z"
   },
   {
    "duration": 4,
    "start_time": "2024-06-09T03:14:08.437Z"
   },
   {
    "duration": 4,
    "start_time": "2024-06-09T03:14:19.758Z"
   },
   {
    "duration": 4,
    "start_time": "2024-06-09T03:15:05.774Z"
   },
   {
    "duration": 16,
    "start_time": "2024-06-09T03:15:19.713Z"
   },
   {
    "duration": 695,
    "start_time": "2024-06-09T03:17:07.096Z"
   },
   {
    "duration": 3,
    "start_time": "2024-06-09T03:18:31.322Z"
   },
   {
    "duration": 70,
    "start_time": "2024-06-09T03:19:18.826Z"
   },
   {
    "duration": 203,
    "start_time": "2024-06-09T03:22:02.314Z"
   },
   {
    "duration": 74,
    "start_time": "2024-06-09T03:22:36.638Z"
   },
   {
    "duration": 78,
    "start_time": "2024-06-09T03:29:18.104Z"
   },
   {
    "duration": 176,
    "start_time": "2024-06-09T03:29:27.603Z"
   },
   {
    "duration": 4,
    "start_time": "2024-06-09T03:29:47.380Z"
   },
   {
    "duration": 430,
    "start_time": "2024-06-09T03:29:57.679Z"
   },
   {
    "duration": 7,
    "start_time": "2024-06-09T03:33:47.105Z"
   },
   {
    "duration": 578,
    "start_time": "2024-06-09T03:34:32.921Z"
   },
   {
    "duration": 6,
    "start_time": "2024-06-09T03:39:47.992Z"
   },
   {
    "duration": 193,
    "start_time": "2024-06-09T03:39:53.281Z"
   },
   {
    "duration": 5,
    "start_time": "2024-06-09T03:40:22.317Z"
   },
   {
    "duration": 15,
    "start_time": "2024-06-09T03:40:23.366Z"
   },
   {
    "duration": 425,
    "start_time": "2024-06-09T03:40:25.268Z"
   },
   {
    "duration": 2,
    "start_time": "2024-06-09T03:40:25.825Z"
   },
   {
    "duration": 875,
    "start_time": "2024-06-09T03:40:27.820Z"
   },
   {
    "duration": 6,
    "start_time": "2024-06-09T03:41:45.417Z"
   },
   {
    "duration": 7,
    "start_time": "2024-06-09T03:41:53.005Z"
   },
   {
    "duration": 15,
    "start_time": "2024-06-09T03:41:55.169Z"
   },
   {
    "duration": 431,
    "start_time": "2024-06-09T03:41:56.560Z"
   },
   {
    "duration": 3,
    "start_time": "2024-06-09T03:41:57.097Z"
   },
   {
    "duration": 748,
    "start_time": "2024-06-09T03:41:58.732Z"
   },
   {
    "duration": 5,
    "start_time": "2024-06-09T03:43:27.544Z"
   },
   {
    "duration": 15,
    "start_time": "2024-06-09T03:43:28.076Z"
   },
   {
    "duration": 446,
    "start_time": "2024-06-09T03:43:29.065Z"
   },
   {
    "duration": 2,
    "start_time": "2024-06-09T03:43:29.817Z"
   },
   {
    "duration": 574,
    "start_time": "2024-06-09T03:43:31.064Z"
   },
   {
    "duration": 6,
    "start_time": "2024-06-09T03:44:50.748Z"
   },
   {
    "duration": 17,
    "start_time": "2024-06-09T03:44:51.476Z"
   },
   {
    "duration": 426,
    "start_time": "2024-06-09T03:44:52.709Z"
   },
   {
    "duration": 2,
    "start_time": "2024-06-09T03:44:53.137Z"
   },
   {
    "duration": 531,
    "start_time": "2024-06-09T03:44:54.821Z"
   },
   {
    "duration": 6,
    "start_time": "2024-06-09T03:47:23.721Z"
   },
   {
    "duration": 16,
    "start_time": "2024-06-09T03:47:24.105Z"
   },
   {
    "duration": 408,
    "start_time": "2024-06-09T03:47:25.374Z"
   },
   {
    "duration": 3,
    "start_time": "2024-06-09T03:47:26.697Z"
   },
   {
    "duration": 533,
    "start_time": "2024-06-09T03:47:27.235Z"
   },
   {
    "duration": 6,
    "start_time": "2024-06-09T03:47:57.510Z"
   },
   {
    "duration": 17,
    "start_time": "2024-06-09T03:47:58.350Z"
   },
   {
    "duration": 467,
    "start_time": "2024-06-09T03:47:59.657Z"
   },
   {
    "duration": 3,
    "start_time": "2024-06-09T03:48:00.126Z"
   },
   {
    "duration": 545,
    "start_time": "2024-06-09T03:48:00.842Z"
   },
   {
    "duration": 5,
    "start_time": "2024-06-09T03:48:26.534Z"
   },
   {
    "duration": 17,
    "start_time": "2024-06-09T03:48:27.250Z"
   },
   {
    "duration": 440,
    "start_time": "2024-06-09T03:48:28.051Z"
   },
   {
    "duration": 4,
    "start_time": "2024-06-09T03:48:28.493Z"
   },
   {
    "duration": 560,
    "start_time": "2024-06-09T03:48:33.330Z"
   },
   {
    "duration": 2499,
    "start_time": "2024-06-09T04:28:28.343Z"
   },
   {
    "duration": 3,
    "start_time": "2024-06-09T04:28:30.844Z"
   },
   {
    "duration": 1566,
    "start_time": "2024-06-09T04:28:30.849Z"
   },
   {
    "duration": 7,
    "start_time": "2024-06-09T04:28:32.418Z"
   },
   {
    "duration": 461,
    "start_time": "2024-06-09T04:28:32.427Z"
   },
   {
    "duration": 2,
    "start_time": "2024-06-09T04:28:32.891Z"
   },
   {
    "duration": 125,
    "start_time": "2024-06-09T04:28:32.895Z"
   },
   {
    "duration": 2960,
    "start_time": "2024-06-09T04:29:03.994Z"
   },
   {
    "duration": 7,
    "start_time": "2024-06-09T04:34:10.421Z"
   },
   {
    "duration": 7,
    "start_time": "2024-06-09T04:34:19.796Z"
   },
   {
    "duration": 431,
    "start_time": "2024-06-09T04:34:24.109Z"
   },
   {
    "duration": 3,
    "start_time": "2024-06-09T04:34:25.452Z"
   },
   {
    "duration": 13,
    "start_time": "2024-06-09T04:34:26.908Z"
   },
   {
    "duration": 10809,
    "start_time": "2024-06-09T04:34:32.161Z"
   },
   {
    "duration": 13,
    "start_time": "2024-06-09T04:36:51.124Z"
   },
   {
    "duration": 11171,
    "start_time": "2024-06-09T04:36:57.236Z"
   },
   {
    "duration": 156,
    "start_time": "2024-06-09T04:40:45.599Z"
   },
   {
    "duration": 183,
    "start_time": "2024-06-09T04:40:51.603Z"
   },
   {
    "duration": 2529,
    "start_time": "2024-06-09T04:41:06.652Z"
   },
   {
    "duration": 3,
    "start_time": "2024-06-09T04:41:09.184Z"
   },
   {
    "duration": 1693,
    "start_time": "2024-06-09T04:41:09.190Z"
   },
   {
    "duration": 10,
    "start_time": "2024-06-09T04:41:10.885Z"
   },
   {
    "duration": 878,
    "start_time": "2024-06-09T04:41:10.897Z"
   },
   {
    "duration": 2,
    "start_time": "2024-06-09T04:41:11.776Z"
   },
   {
    "duration": 432,
    "start_time": "2024-06-09T04:41:11.780Z"
   },
   {
    "duration": 11,
    "start_time": "2024-06-09T04:43:46.542Z"
   },
   {
    "duration": 447,
    "start_time": "2024-06-09T04:43:49.543Z"
   },
   {
    "duration": 3,
    "start_time": "2024-06-09T04:43:49.992Z"
   },
   {
    "duration": 12300,
    "start_time": "2024-06-09T04:43:50.931Z"
   },
   {
    "duration": 11,
    "start_time": "2024-06-09T05:07:29.450Z"
   },
   {
    "duration": 2488,
    "start_time": "2024-06-09T05:08:57.702Z"
   },
   {
    "duration": 3,
    "start_time": "2024-06-09T05:09:00.192Z"
   },
   {
    "duration": 1624,
    "start_time": "2024-06-09T05:09:00.197Z"
   },
   {
    "duration": 16,
    "start_time": "2024-06-09T05:09:01.824Z"
   },
   {
    "duration": 474,
    "start_time": "2024-06-09T05:09:01.842Z"
   },
   {
    "duration": 3,
    "start_time": "2024-06-09T05:09:02.317Z"
   },
   {
    "duration": 13088,
    "start_time": "2024-06-09T05:09:02.321Z"
   },
   {
    "duration": 16,
    "start_time": "2024-06-09T05:09:15.411Z"
   },
   {
    "duration": 14,
    "start_time": "2024-06-09T05:17:54.361Z"
   },
   {
    "duration": 3,
    "start_time": "2024-06-09T05:19:15.408Z"
   },
   {
    "duration": 11,
    "start_time": "2024-06-09T05:19:24.024Z"
   },
   {
    "duration": 2555,
    "start_time": "2024-06-09T05:19:30.743Z"
   },
   {
    "duration": 3,
    "start_time": "2024-06-09T05:19:33.300Z"
   },
   {
    "duration": 1483,
    "start_time": "2024-06-09T05:19:33.304Z"
   },
   {
    "duration": 11,
    "start_time": "2024-06-09T05:19:34.789Z"
   },
   {
    "duration": 434,
    "start_time": "2024-06-09T05:19:34.802Z"
   },
   {
    "duration": 2,
    "start_time": "2024-06-09T05:19:35.238Z"
   },
   {
    "duration": 12482,
    "start_time": "2024-06-09T05:19:35.242Z"
   },
   {
    "duration": 18,
    "start_time": "2024-06-09T05:19:47.726Z"
   },
   {
    "duration": 15,
    "start_time": "2024-06-09T05:19:47.746Z"
   },
   {
    "duration": 22,
    "start_time": "2024-06-09T05:19:47.764Z"
   },
   {
    "duration": 89,
    "start_time": "2024-06-09T05:20:24.265Z"
   },
   {
    "duration": 93,
    "start_time": "2024-06-09T05:20:32.696Z"
   },
   {
    "duration": 122,
    "start_time": "2024-06-09T05:20:49.548Z"
   },
   {
    "duration": 105,
    "start_time": "2024-06-09T05:21:16.024Z"
   },
   {
    "duration": 3,
    "start_time": "2024-06-09T05:21:26.228Z"
   },
   {
    "duration": 10,
    "start_time": "2024-06-09T05:21:26.720Z"
   },
   {
    "duration": 7,
    "start_time": "2024-06-09T05:21:49.976Z"
   },
   {
    "duration": 10,
    "start_time": "2024-06-09T05:21:50.459Z"
   },
   {
    "duration": 33,
    "start_time": "2024-06-09T05:22:10.256Z"
   },
   {
    "duration": 106,
    "start_time": "2024-06-09T05:23:04.617Z"
   },
   {
    "duration": 16,
    "start_time": "2024-06-09T05:23:36.564Z"
   },
   {
    "duration": 93,
    "start_time": "2024-06-09T05:23:40.384Z"
   },
   {
    "duration": 95,
    "start_time": "2024-06-09T05:24:02.290Z"
   },
   {
    "duration": 92,
    "start_time": "2024-06-09T05:24:19.032Z"
   },
   {
    "duration": 92,
    "start_time": "2024-06-09T05:24:22.204Z"
   },
   {
    "duration": 99,
    "start_time": "2024-06-09T05:28:00.870Z"
   },
   {
    "duration": 9,
    "start_time": "2024-06-09T05:28:21.285Z"
   },
   {
    "duration": 2524,
    "start_time": "2024-06-09T05:28:28.249Z"
   },
   {
    "duration": 3,
    "start_time": "2024-06-09T05:28:30.776Z"
   },
   {
    "duration": 2124,
    "start_time": "2024-06-09T05:28:30.781Z"
   },
   {
    "duration": 61,
    "start_time": "2024-06-09T05:28:32.908Z"
   },
   {
    "duration": 774,
    "start_time": "2024-06-09T05:28:32.972Z"
   },
   {
    "duration": 2,
    "start_time": "2024-06-09T05:28:33.748Z"
   },
   {
    "duration": 12775,
    "start_time": "2024-06-09T05:28:33.752Z"
   },
   {
    "duration": 106,
    "start_time": "2024-06-09T05:28:46.529Z"
   },
   {
    "duration": 3,
    "start_time": "2024-06-09T05:28:46.638Z"
   },
   {
    "duration": 26,
    "start_time": "2024-06-09T05:28:46.643Z"
   },
   {
    "duration": 3,
    "start_time": "2024-06-09T05:33:49.895Z"
   },
   {
    "duration": 8,
    "start_time": "2024-06-09T08:18:15.906Z"
   },
   {
    "duration": 6,
    "start_time": "2024-06-09T08:19:19.278Z"
   },
   {
    "duration": 8,
    "start_time": "2024-06-09T08:24:50.879Z"
   },
   {
    "duration": 134,
    "start_time": "2024-06-09T08:25:10.108Z"
   },
   {
    "duration": 8,
    "start_time": "2024-06-09T08:26:15.212Z"
   },
   {
    "duration": 67,
    "start_time": "2024-06-09T08:26:21.615Z"
   },
   {
    "duration": 5,
    "start_time": "2024-06-09T08:28:36.224Z"
   },
   {
    "duration": 173,
    "start_time": "2024-06-09T08:28:41.292Z"
   },
   {
    "duration": 9,
    "start_time": "2024-06-09T08:29:31.180Z"
   },
   {
    "duration": 158,
    "start_time": "2024-06-09T08:29:36.604Z"
   },
   {
    "duration": 8,
    "start_time": "2024-06-09T08:30:30.536Z"
   },
   {
    "duration": 99,
    "start_time": "2024-06-09T08:30:34.467Z"
   },
   {
    "duration": 6,
    "start_time": "2024-06-09T08:33:31.921Z"
   },
   {
    "duration": 50,
    "start_time": "2024-06-09T08:33:35.239Z"
   },
   {
    "duration": 5,
    "start_time": "2024-06-09T08:34:12.552Z"
   },
   {
    "duration": 138,
    "start_time": "2024-06-09T08:34:17.027Z"
   },
   {
    "duration": 12,
    "start_time": "2024-06-09T08:35:42.960Z"
   },
   {
    "duration": 207,
    "start_time": "2024-06-09T08:35:47.654Z"
   },
   {
    "duration": 98,
    "start_time": "2024-06-09T08:35:58.267Z"
   },
   {
    "duration": 112,
    "start_time": "2024-06-09T08:36:03.155Z"
   },
   {
    "duration": 11,
    "start_time": "2024-06-09T08:42:43.158Z"
   },
   {
    "duration": 151,
    "start_time": "2024-06-09T08:43:02.313Z"
   },
   {
    "duration": 218,
    "start_time": "2024-06-09T08:43:11.049Z"
   },
   {
    "duration": 250,
    "start_time": "2024-06-09T08:43:15.911Z"
   },
   {
    "duration": 16,
    "start_time": "2024-06-09T08:46:37.108Z"
   },
   {
    "duration": 3,
    "start_time": "2024-06-09T09:20:05.088Z"
   },
   {
    "duration": 86,
    "start_time": "2024-06-09T09:25:50.402Z"
   },
   {
    "duration": 98,
    "start_time": "2024-06-09T09:26:00.411Z"
   },
   {
    "duration": 3,
    "start_time": "2024-06-09T09:26:05.071Z"
   },
   {
    "duration": 87,
    "start_time": "2024-06-09T09:26:22.659Z"
   },
   {
    "duration": 80,
    "start_time": "2024-06-09T09:26:26.000Z"
   },
   {
    "duration": 4,
    "start_time": "2024-06-09T09:26:31.819Z"
   },
   {
    "duration": 9,
    "start_time": "2024-06-09T09:31:03.833Z"
   },
   {
    "duration": 229,
    "start_time": "2024-06-09T09:31:30.838Z"
   },
   {
    "duration": 212,
    "start_time": "2024-06-09T09:31:34.352Z"
   },
   {
    "duration": 202,
    "start_time": "2024-06-09T09:31:35.068Z"
   },
   {
    "duration": 6,
    "start_time": "2024-06-09T09:32:24.381Z"
   },
   {
    "duration": 147,
    "start_time": "2024-06-09T09:32:37.322Z"
   },
   {
    "duration": 181,
    "start_time": "2024-06-09T09:32:40.689Z"
   },
   {
    "duration": 199,
    "start_time": "2024-06-09T09:32:41.062Z"
   },
   {
    "duration": 3,
    "start_time": "2024-06-09T09:33:18.280Z"
   },
   {
    "duration": 6,
    "start_time": "2024-06-09T09:42:39.134Z"
   },
   {
    "duration": 16,
    "start_time": "2024-06-09T09:43:23.022Z"
   },
   {
    "duration": 417,
    "start_time": "2024-06-09T09:48:06.187Z"
   },
   {
    "duration": 535,
    "start_time": "2024-06-09T09:48:16.440Z"
   },
   {
    "duration": 428,
    "start_time": "2024-06-09T09:52:03.660Z"
   },
   {
    "duration": 2,
    "start_time": "2024-06-09T09:52:05.533Z"
   },
   {
    "duration": 12,
    "start_time": "2024-06-09T09:52:06.648Z"
   },
   {
    "duration": 2585,
    "start_time": "2024-06-09T09:52:17.020Z"
   },
   {
    "duration": 3,
    "start_time": "2024-06-09T09:52:19.607Z"
   },
   {
    "duration": 2251,
    "start_time": "2024-06-09T09:52:19.611Z"
   },
   {
    "duration": 466,
    "start_time": "2024-06-09T09:52:21.864Z"
   },
   {
    "duration": 2,
    "start_time": "2024-06-09T09:52:22.332Z"
   },
   {
    "duration": 54,
    "start_time": "2024-06-09T09:52:22.336Z"
   },
   {
    "duration": 13096,
    "start_time": "2024-06-09T09:52:22.391Z"
   },
   {
    "duration": 97,
    "start_time": "2024-06-09T09:52:35.489Z"
   },
   {
    "duration": 3,
    "start_time": "2024-06-09T09:52:35.588Z"
   },
   {
    "duration": 7,
    "start_time": "2024-06-09T09:52:35.594Z"
   },
   {
    "duration": 271,
    "start_time": "2024-06-09T09:52:35.603Z"
   },
   {
    "duration": 202,
    "start_time": "2024-06-09T09:52:35.876Z"
   },
   {
    "duration": 286,
    "start_time": "2024-06-09T09:52:36.080Z"
   },
   {
    "duration": 3,
    "start_time": "2024-06-09T09:52:36.367Z"
   },
   {
    "duration": 6,
    "start_time": "2024-06-09T09:52:36.372Z"
   },
   {
    "duration": 5,
    "start_time": "2024-06-09T10:15:13.462Z"
   },
   {
    "duration": 6,
    "start_time": "2024-06-09T10:15:34.234Z"
   },
   {
    "duration": 98,
    "start_time": "2024-06-09T10:15:35.368Z"
   },
   {
    "duration": 6,
    "start_time": "2024-06-09T10:18:09.054Z"
   },
   {
    "duration": 382,
    "start_time": "2024-06-09T10:18:11.610Z"
   },
   {
    "duration": 196,
    "start_time": "2024-06-09T10:18:18.170Z"
   },
   {
    "duration": 215,
    "start_time": "2024-06-09T10:18:18.650Z"
   },
   {
    "duration": 209,
    "start_time": "2024-06-09T10:18:20.669Z"
   },
   {
    "duration": 7,
    "start_time": "2024-06-09T10:20:55.194Z"
   },
   {
    "duration": 214,
    "start_time": "2024-06-09T10:20:57.153Z"
   },
   {
    "duration": 255,
    "start_time": "2024-06-09T10:20:59.115Z"
   },
   {
    "duration": 190,
    "start_time": "2024-06-09T10:20:59.882Z"
   },
   {
    "duration": 11,
    "start_time": "2024-06-09T10:21:21.466Z"
   },
   {
    "duration": 6,
    "start_time": "2024-06-09T10:23:57.513Z"
   },
   {
    "duration": 236,
    "start_time": "2024-06-09T10:23:58.530Z"
   },
   {
    "duration": 194,
    "start_time": "2024-06-09T10:23:58.768Z"
   },
   {
    "duration": 167,
    "start_time": "2024-06-09T10:23:58.994Z"
   },
   {
    "duration": 3,
    "start_time": "2024-06-09T10:24:00.823Z"
   },
   {
    "duration": 3,
    "start_time": "2024-06-09T10:24:07.187Z"
   },
   {
    "duration": 3,
    "start_time": "2024-06-09T10:24:10.194Z"
   },
   {
    "duration": 11,
    "start_time": "2024-06-09T10:24:14.167Z"
   },
   {
    "duration": 3,
    "start_time": "2024-06-09T10:25:51.414Z"
   },
   {
    "duration": 125,
    "start_time": "2024-06-09T10:26:10.070Z"
   },
   {
    "duration": 10,
    "start_time": "2024-06-09T10:26:15.370Z"
   },
   {
    "duration": 4,
    "start_time": "2024-06-09T10:26:36.827Z"
   },
   {
    "duration": 9,
    "start_time": "2024-06-09T10:26:37.938Z"
   },
   {
    "duration": 9,
    "start_time": "2024-06-09T10:26:53.390Z"
   },
   {
    "duration": 3,
    "start_time": "2024-06-09T10:27:36.019Z"
   },
   {
    "duration": 919,
    "start_time": "2024-06-09T10:27:41.667Z"
   },
   {
    "duration": 3,
    "start_time": "2024-06-09T10:27:48.354Z"
   },
   {
    "duration": 10,
    "start_time": "2024-06-09T10:27:49.834Z"
   },
   {
    "duration": 4,
    "start_time": "2024-06-09T10:35:08.143Z"
   },
   {
    "duration": 13,
    "start_time": "2024-06-09T10:35:09.231Z"
   },
   {
    "duration": 3,
    "start_time": "2024-06-09T10:35:31.660Z"
   },
   {
    "duration": 11,
    "start_time": "2024-06-09T10:35:33.315Z"
   },
   {
    "duration": 14,
    "start_time": "2024-06-09T10:35:38.403Z"
   },
   {
    "duration": 4,
    "start_time": "2024-06-09T10:36:11.107Z"
   },
   {
    "duration": 18,
    "start_time": "2024-06-09T10:36:11.804Z"
   },
   {
    "duration": 3,
    "start_time": "2024-06-09T10:36:18.923Z"
   },
   {
    "duration": 10,
    "start_time": "2024-06-09T10:36:20.178Z"
   },
   {
    "duration": 11,
    "start_time": "2024-06-09T10:36:25.923Z"
   },
   {
    "duration": 11,
    "start_time": "2024-06-09T10:36:28.762Z"
   },
   {
    "duration": 10,
    "start_time": "2024-06-09T10:36:31.271Z"
   },
   {
    "duration": 21017,
    "start_time": "2024-06-09T10:47:12.098Z"
   },
   {
    "duration": 2574,
    "start_time": "2024-06-09T10:51:27.302Z"
   },
   {
    "duration": 3,
    "start_time": "2024-06-09T10:51:29.878Z"
   },
   {
    "duration": 1535,
    "start_time": "2024-06-09T10:51:29.883Z"
   },
   {
    "duration": 442,
    "start_time": "2024-06-09T10:51:31.420Z"
   },
   {
    "duration": 3,
    "start_time": "2024-06-09T10:51:31.863Z"
   },
   {
    "duration": 25,
    "start_time": "2024-06-09T10:51:31.867Z"
   },
   {
    "duration": 12411,
    "start_time": "2024-06-09T10:51:31.894Z"
   },
   {
    "duration": 92,
    "start_time": "2024-06-09T10:51:44.307Z"
   },
   {
    "duration": 3,
    "start_time": "2024-06-09T10:51:44.401Z"
   },
   {
    "duration": 7,
    "start_time": "2024-06-09T10:51:44.406Z"
   },
   {
    "duration": 253,
    "start_time": "2024-06-09T10:51:44.414Z"
   },
   {
    "duration": 198,
    "start_time": "2024-06-09T10:51:44.669Z"
   },
   {
    "duration": 203,
    "start_time": "2024-06-09T10:51:44.869Z"
   },
   {
    "duration": 3,
    "start_time": "2024-06-09T10:51:45.073Z"
   },
   {
    "duration": 18,
    "start_time": "2024-06-09T10:51:45.078Z"
   },
   {
    "duration": 3,
    "start_time": "2024-06-09T10:51:45.161Z"
   },
   {
    "duration": 144,
    "start_time": "2024-06-09T10:51:45.166Z"
   },
   {
    "duration": 0,
    "start_time": "2024-06-09T10:51:45.312Z"
   },
   {
    "duration": 19,
    "start_time": "2024-06-09T10:52:02.672Z"
   },
   {
    "duration": 18,
    "start_time": "2024-06-09T10:52:12.681Z"
   },
   {
    "duration": 3,
    "start_time": "2024-06-09T10:52:47.346Z"
   },
   {
    "duration": 20,
    "start_time": "2024-06-09T10:52:48.014Z"
   },
   {
    "duration": 17,
    "start_time": "2024-06-09T10:53:31.304Z"
   },
   {
    "duration": 3,
    "start_time": "2024-06-09T10:54:41.781Z"
   },
   {
    "duration": 22,
    "start_time": "2024-06-09T10:54:42.481Z"
   },
   {
    "duration": 4,
    "start_time": "2024-06-09T10:55:15.132Z"
   },
   {
    "duration": 21,
    "start_time": "2024-06-09T10:55:19.096Z"
   },
   {
    "duration": 2512,
    "start_time": "2024-06-09T10:55:37.706Z"
   },
   {
    "duration": 3,
    "start_time": "2024-06-09T10:55:40.220Z"
   },
   {
    "duration": 1472,
    "start_time": "2024-06-09T10:55:40.225Z"
   },
   {
    "duration": 426,
    "start_time": "2024-06-09T10:55:41.699Z"
   },
   {
    "duration": 3,
    "start_time": "2024-06-09T10:55:42.127Z"
   },
   {
    "duration": 12,
    "start_time": "2024-06-09T10:55:42.132Z"
   },
   {
    "duration": 12988,
    "start_time": "2024-06-09T10:55:42.146Z"
   },
   {
    "duration": 103,
    "start_time": "2024-06-09T10:55:55.136Z"
   },
   {
    "duration": 3,
    "start_time": "2024-06-09T10:55:55.241Z"
   },
   {
    "duration": 18,
    "start_time": "2024-06-09T10:55:55.247Z"
   },
   {
    "duration": 196,
    "start_time": "2024-06-09T10:55:55.267Z"
   },
   {
    "duration": 202,
    "start_time": "2024-06-09T10:55:55.465Z"
   },
   {
    "duration": 210,
    "start_time": "2024-06-09T10:55:55.669Z"
   },
   {
    "duration": 3,
    "start_time": "2024-06-09T10:55:55.880Z"
   },
   {
    "duration": 10,
    "start_time": "2024-06-09T10:55:55.884Z"
   },
   {
    "duration": 9,
    "start_time": "2024-06-09T10:55:55.896Z"
   },
   {
    "duration": 155,
    "start_time": "2024-06-09T10:55:55.906Z"
   },
   {
    "duration": 0,
    "start_time": "2024-06-09T10:55:56.063Z"
   },
   {
    "duration": 3,
    "start_time": "2024-06-09T10:56:19.783Z"
   },
   {
    "duration": 20,
    "start_time": "2024-06-09T10:56:20.854Z"
   },
   {
    "duration": 25,
    "start_time": "2024-06-09T10:56:46.006Z"
   },
   {
    "duration": 5,
    "start_time": "2024-06-09T10:57:00.620Z"
   },
   {
    "duration": 19,
    "start_time": "2024-06-09T10:57:10.187Z"
   },
   {
    "duration": 3,
    "start_time": "2024-06-09T10:58:11.273Z"
   },
   {
    "duration": 4,
    "start_time": "2024-06-09T10:59:44.950Z"
   },
   {
    "duration": 34,
    "start_time": "2024-06-09T10:59:46.863Z"
   },
   {
    "duration": 3,
    "start_time": "2024-06-09T10:59:55.204Z"
   },
   {
    "duration": 7,
    "start_time": "2024-06-09T10:59:57.950Z"
   },
   {
    "duration": 19,
    "start_time": "2024-06-09T10:59:58.491Z"
   },
   {
    "duration": 10,
    "start_time": "2024-06-09T11:00:08.078Z"
   },
   {
    "duration": 81,
    "start_time": "2024-06-09T11:01:00.072Z"
   },
   {
    "duration": 1526,
    "start_time": "2024-06-09T11:01:09.186Z"
   },
   {
    "duration": 1688,
    "start_time": "2024-06-09T11:01:35.637Z"
   },
   {
    "duration": 1509,
    "start_time": "2024-06-09T11:02:04.534Z"
   },
   {
    "duration": 5,
    "start_time": "2024-06-09T11:02:15.158Z"
   },
   {
    "duration": 1529,
    "start_time": "2024-06-09T11:02:15.903Z"
   },
   {
    "duration": 1459,
    "start_time": "2024-06-09T11:02:25.171Z"
   },
   {
    "duration": 1464,
    "start_time": "2024-06-09T11:02:50.239Z"
   },
   {
    "duration": 4,
    "start_time": "2024-06-09T11:03:08.811Z"
   },
   {
    "duration": 1506,
    "start_time": "2024-06-09T11:03:09.854Z"
   },
   {
    "duration": 2576,
    "start_time": "2024-06-09T11:04:05.393Z"
   },
   {
    "duration": 2,
    "start_time": "2024-06-09T11:04:07.972Z"
   },
   {
    "duration": 1551,
    "start_time": "2024-06-09T11:04:07.976Z"
   },
   {
    "duration": 437,
    "start_time": "2024-06-09T11:04:09.529Z"
   },
   {
    "duration": 2,
    "start_time": "2024-06-09T11:04:09.969Z"
   },
   {
    "duration": 11,
    "start_time": "2024-06-09T11:04:09.973Z"
   },
   {
    "duration": 12135,
    "start_time": "2024-06-09T11:04:09.985Z"
   },
   {
    "duration": 94,
    "start_time": "2024-06-09T11:04:22.121Z"
   },
   {
    "duration": 3,
    "start_time": "2024-06-09T11:04:22.217Z"
   },
   {
    "duration": 61,
    "start_time": "2024-06-09T11:04:22.221Z"
   },
   {
    "duration": 279,
    "start_time": "2024-06-09T11:04:22.284Z"
   },
   {
    "duration": 206,
    "start_time": "2024-06-09T11:04:22.565Z"
   },
   {
    "duration": 294,
    "start_time": "2024-06-09T11:04:22.773Z"
   },
   {
    "duration": 3,
    "start_time": "2024-06-09T11:04:23.070Z"
   },
   {
    "duration": 6,
    "start_time": "2024-06-09T11:04:23.075Z"
   },
   {
    "duration": 14,
    "start_time": "2024-06-09T11:04:23.083Z"
   },
   {
    "duration": 14,
    "start_time": "2024-06-09T11:04:23.099Z"
   },
   {
    "duration": 4468,
    "start_time": "2024-06-09T11:04:23.114Z"
   },
   {
    "duration": 4,
    "start_time": "2024-06-09T11:04:27.583Z"
   },
   {
    "duration": 5,
    "start_time": "2024-06-09T11:05:18.595Z"
   },
   {
    "duration": 4368,
    "start_time": "2024-06-09T11:05:21.668Z"
   },
   {
    "duration": 2575,
    "start_time": "2024-06-09T11:06:45.059Z"
   },
   {
    "duration": 3,
    "start_time": "2024-06-09T11:06:47.636Z"
   },
   {
    "duration": 1572,
    "start_time": "2024-06-09T11:06:47.641Z"
   },
   {
    "duration": 433,
    "start_time": "2024-06-09T11:06:49.215Z"
   },
   {
    "duration": 12,
    "start_time": "2024-06-09T11:06:49.649Z"
   },
   {
    "duration": 11,
    "start_time": "2024-06-09T11:06:49.662Z"
   },
   {
    "duration": 12345,
    "start_time": "2024-06-09T11:06:49.674Z"
   },
   {
    "duration": 100,
    "start_time": "2024-06-09T11:07:02.021Z"
   },
   {
    "duration": 3,
    "start_time": "2024-06-09T11:07:02.123Z"
   },
   {
    "duration": 8,
    "start_time": "2024-06-09T11:07:02.130Z"
   },
   {
    "duration": 227,
    "start_time": "2024-06-09T11:07:02.139Z"
   },
   {
    "duration": 296,
    "start_time": "2024-06-09T11:07:02.368Z"
   },
   {
    "duration": 203,
    "start_time": "2024-06-09T11:07:02.666Z"
   },
   {
    "duration": 3,
    "start_time": "2024-06-09T11:07:02.870Z"
   },
   {
    "duration": 13,
    "start_time": "2024-06-09T11:07:02.875Z"
   },
   {
    "duration": 7,
    "start_time": "2024-06-09T11:07:02.891Z"
   },
   {
    "duration": 9,
    "start_time": "2024-06-09T11:07:02.899Z"
   },
   {
    "duration": 4593,
    "start_time": "2024-06-09T11:07:02.910Z"
   },
   {
    "duration": 4,
    "start_time": "2024-06-09T11:07:07.505Z"
   },
   {
    "duration": 5342,
    "start_time": "2024-06-09T11:07:07.510Z"
   },
   {
    "duration": 4558,
    "start_time": "2024-06-09T11:07:46.292Z"
   },
   {
    "duration": 2538,
    "start_time": "2024-06-09T11:08:07.829Z"
   },
   {
    "duration": 4,
    "start_time": "2024-06-09T11:08:10.370Z"
   },
   {
    "duration": 1608,
    "start_time": "2024-06-09T11:08:10.376Z"
   },
   {
    "duration": 812,
    "start_time": "2024-06-09T11:08:11.987Z"
   },
   {
    "duration": 3,
    "start_time": "2024-06-09T11:08:12.800Z"
   },
   {
    "duration": 62,
    "start_time": "2024-06-09T11:08:12.804Z"
   },
   {
    "duration": 12465,
    "start_time": "2024-06-09T11:08:12.868Z"
   },
   {
    "duration": 90,
    "start_time": "2024-06-09T11:08:25.335Z"
   },
   {
    "duration": 3,
    "start_time": "2024-06-09T11:08:25.427Z"
   },
   {
    "duration": 6,
    "start_time": "2024-06-09T11:08:25.433Z"
   },
   {
    "duration": 228,
    "start_time": "2024-06-09T11:08:25.441Z"
   },
   {
    "duration": 196,
    "start_time": "2024-06-09T11:08:25.671Z"
   },
   {
    "duration": 293,
    "start_time": "2024-06-09T11:08:25.868Z"
   },
   {
    "duration": 3,
    "start_time": "2024-06-09T11:08:26.163Z"
   },
   {
    "duration": 7,
    "start_time": "2024-06-09T11:08:26.167Z"
   },
   {
    "duration": 9,
    "start_time": "2024-06-09T11:08:26.176Z"
   },
   {
    "duration": 12,
    "start_time": "2024-06-09T11:08:26.186Z"
   },
   {
    "duration": 4370,
    "start_time": "2024-06-09T11:08:26.199Z"
   },
   {
    "duration": 5,
    "start_time": "2024-06-09T11:08:30.571Z"
   },
   {
    "duration": 4726,
    "start_time": "2024-06-09T11:08:30.578Z"
   },
   {
    "duration": 4627,
    "start_time": "2024-06-09T11:09:50.356Z"
   },
   {
    "duration": 5,
    "start_time": "2024-06-09T11:12:41.378Z"
   },
   {
    "duration": 6,
    "start_time": "2024-06-09T11:12:58.385Z"
   },
   {
    "duration": 5185,
    "start_time": "2024-06-09T11:17:47.659Z"
   },
   {
    "duration": 8,
    "start_time": "2024-06-09T11:18:56.031Z"
   },
   {
    "duration": 5237,
    "start_time": "2024-06-09T11:18:57.189Z"
   },
   {
    "duration": 7,
    "start_time": "2024-06-09T11:28:26.056Z"
   },
   {
    "duration": 5388,
    "start_time": "2024-06-09T11:28:27.402Z"
   },
   {
    "duration": 9,
    "start_time": "2024-06-09T11:28:55.823Z"
   },
   {
    "duration": 5240,
    "start_time": "2024-06-09T11:28:56.482Z"
   },
   {
    "duration": 6,
    "start_time": "2024-06-09T11:29:40.019Z"
   },
   {
    "duration": 5221,
    "start_time": "2024-06-09T11:29:40.247Z"
   },
   {
    "duration": 7,
    "start_time": "2024-06-09T11:29:55.366Z"
   },
   {
    "duration": 5227,
    "start_time": "2024-06-09T11:29:56.010Z"
   },
   {
    "duration": 3400,
    "start_time": "2024-06-09T11:31:38.275Z"
   },
   {
    "duration": 2,
    "start_time": "2024-06-09T11:31:41.678Z"
   },
   {
    "duration": 1493,
    "start_time": "2024-06-09T11:31:41.682Z"
   },
   {
    "duration": 434,
    "start_time": "2024-06-09T11:31:43.177Z"
   },
   {
    "duration": 2,
    "start_time": "2024-06-09T11:31:43.613Z"
   },
   {
    "duration": 10,
    "start_time": "2024-06-09T11:31:43.617Z"
   },
   {
    "duration": 12279,
    "start_time": "2024-06-09T11:31:43.630Z"
   },
   {
    "duration": 96,
    "start_time": "2024-06-09T11:31:55.912Z"
   },
   {
    "duration": 3,
    "start_time": "2024-06-09T11:31:56.010Z"
   },
   {
    "duration": 8,
    "start_time": "2024-06-09T11:31:56.016Z"
   },
   {
    "duration": 243,
    "start_time": "2024-06-09T11:31:56.025Z"
   },
   {
    "duration": 291,
    "start_time": "2024-06-09T11:31:56.270Z"
   },
   {
    "duration": 200,
    "start_time": "2024-06-09T11:31:56.563Z"
   },
   {
    "duration": 3,
    "start_time": "2024-06-09T11:31:56.765Z"
   },
   {
    "duration": 8,
    "start_time": "2024-06-09T11:31:56.770Z"
   },
   {
    "duration": 6,
    "start_time": "2024-06-09T11:31:56.780Z"
   },
   {
    "duration": 6,
    "start_time": "2024-06-09T11:31:56.788Z"
   },
   {
    "duration": 6779,
    "start_time": "2024-06-09T11:31:56.795Z"
   },
   {
    "duration": 2569,
    "start_time": "2024-06-09T11:34:25.566Z"
   },
   {
    "duration": 2,
    "start_time": "2024-06-09T11:34:28.138Z"
   },
   {
    "duration": 2187,
    "start_time": "2024-06-09T11:34:28.142Z"
   },
   {
    "duration": 674,
    "start_time": "2024-06-09T11:34:30.331Z"
   },
   {
    "duration": 54,
    "start_time": "2024-06-09T11:34:31.007Z"
   },
   {
    "duration": 11,
    "start_time": "2024-06-09T11:34:31.063Z"
   },
   {
    "duration": 17436,
    "start_time": "2024-06-09T11:34:31.075Z"
   },
   {
    "duration": 86,
    "start_time": "2024-06-09T11:34:48.513Z"
   },
   {
    "duration": 3,
    "start_time": "2024-06-09T11:34:48.601Z"
   },
   {
    "duration": 74,
    "start_time": "2024-06-09T11:34:48.606Z"
   },
   {
    "duration": 279,
    "start_time": "2024-06-09T11:34:48.682Z"
   },
   {
    "duration": 204,
    "start_time": "2024-06-09T11:34:48.963Z"
   },
   {
    "duration": 198,
    "start_time": "2024-06-09T11:34:49.169Z"
   },
   {
    "duration": 3,
    "start_time": "2024-06-09T11:34:49.369Z"
   },
   {
    "duration": 20,
    "start_time": "2024-06-09T11:34:49.374Z"
   },
   {
    "duration": 40,
    "start_time": "2024-06-09T11:34:49.396Z"
   },
   {
    "duration": 25,
    "start_time": "2024-06-09T11:34:49.438Z"
   },
   {
    "duration": 6986,
    "start_time": "2024-06-09T11:34:49.466Z"
   },
   {
    "duration": 5,
    "start_time": "2024-06-09T11:35:24.747Z"
   },
   {
    "duration": 1615,
    "start_time": "2024-06-09T11:35:39.951Z"
   },
   {
    "duration": 448,
    "start_time": "2024-06-09T11:35:41.568Z"
   },
   {
    "duration": 2,
    "start_time": "2024-06-09T11:35:42.018Z"
   },
   {
    "duration": 38,
    "start_time": "2024-06-09T11:35:42.022Z"
   },
   {
    "duration": 13231,
    "start_time": "2024-06-09T11:35:42.062Z"
   },
   {
    "duration": 87,
    "start_time": "2024-06-09T11:35:55.295Z"
   },
   {
    "duration": 2,
    "start_time": "2024-06-09T11:35:55.384Z"
   },
   {
    "duration": 13,
    "start_time": "2024-06-09T11:35:55.388Z"
   },
   {
    "duration": 160,
    "start_time": "2024-06-09T11:35:55.403Z"
   },
   {
    "duration": 303,
    "start_time": "2024-06-09T11:35:55.567Z"
   },
   {
    "duration": 295,
    "start_time": "2024-06-09T11:35:55.872Z"
   },
   {
    "duration": 3,
    "start_time": "2024-06-09T11:35:56.170Z"
   },
   {
    "duration": 12,
    "start_time": "2024-06-09T11:35:56.175Z"
   },
   {
    "duration": 16,
    "start_time": "2024-06-09T11:35:56.189Z"
   },
   {
    "duration": 20,
    "start_time": "2024-06-09T11:35:56.207Z"
   },
   {
    "duration": 5257,
    "start_time": "2024-06-09T11:35:56.229Z"
   },
   {
    "duration": 70,
    "start_time": "2024-06-10T01:38:32.151Z"
   }
  ],
  "kernelspec": {
   "display_name": "Python 3 (ipykernel)",
   "language": "python",
   "name": "python3"
  },
  "language_info": {
   "codemirror_mode": {
    "name": "ipython",
    "version": 3
   },
   "file_extension": ".py",
   "mimetype": "text/x-python",
   "name": "python",
   "nbconvert_exporter": "python",
   "pygments_lexer": "ipython3",
   "version": "3.9.19"
  },
  "latex_envs": {
   "LaTeX_envs_menu_present": true,
   "autoclose": true,
   "autocomplete": true,
   "bibliofile": "biblio.bib",
   "cite_by": "apalike",
   "current_citInitial": 1,
   "eqLabelWithNumbers": true,
   "eqNumInitial": 1,
   "hotkeys": {
    "equation": "Ctrl-E",
    "itemize": "Ctrl-I"
   },
   "labels_anchors": false,
   "latex_user_defs": false,
   "report_style_numbering": false,
   "user_envs_cfg": false
  },
  "toc": {
   "base_numbering": 1,
   "nav_menu": {},
   "number_sections": true,
   "sideBar": true,
   "skip_h1_title": true,
   "title_cell": "Table of Contents",
   "title_sidebar": "Contents",
   "toc_cell": false,
   "toc_position": {
    "height": "calc(100% - 180px)",
    "left": "10px",
    "top": "150px",
    "width": "244.594px"
   },
   "toc_section_display": true,
   "toc_window_display": true
  }
 },
 "nbformat": 4,
 "nbformat_minor": 2
}
