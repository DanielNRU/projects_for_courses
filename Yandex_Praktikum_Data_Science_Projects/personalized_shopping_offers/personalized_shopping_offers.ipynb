{
 "cells": [
  {
   "cell_type": "markdown",
   "metadata": {
    "id": "H6cQIZr3ElW1"
   },
   "source": [
    "# Персонализация предложений в интернет-магазине"
   ]
  },
  {
   "cell_type": "markdown",
   "metadata": {},
   "source": [
    "**Описание проекта**\n",
    "\n",
    "Интернет-магазин «В один клик» продаёт разные товары: для детей, для дома, мелкую бытовую технику, косметику и даже продукты. Отчёт магазина за прошлый период показал, что активность покупателей начала снижаться. Привлекать новых клиентов уже не так эффективно: о магазине и так знает большая часть целевой аудитории. Возможный выход — удерживать активность постоянных клиентов. Сделать это можно с помощью персонализированных предложений.\n",
    "«В один клик» — современная компания, поэтому её руководство не хочет принимать решения просто так — только на основе анализа данных и бизнес-моделирования. У компании есть небольшой отдел цифровых технологий, и вам предстоит побыть в роли стажёра в этом отделе. \n",
    "Итак, нашему отделу поручили разработать решение, которое позволит персонализировать предложения постоянным клиентам, чтобы увеличить их покупательскую активность."
   ]
  },
  {
   "cell_type": "markdown",
   "metadata": {},
   "source": [
    "**Описание данных**\n",
    "\n",
    "Данные для работы находятся в нескольких таблицах.\n",
    "\n",
    "`market_file.csv`: таблица, которая содержит данные о поведении покупателя на сайте, о коммуникациях с покупателем и его продуктовом поведении.\n",
    "\n",
    "* **id** — номер покупателя в корпоративной базе данных.\n",
    "* **Покупательская активность** — рассчитанный класс покупательской активности (целевой признак): «снизилась» или «прежний уровень».\n",
    "* **Тип сервиса** — уровень сервиса, например «премиум» и «стандарт».\n",
    "* **Разрешить сообщать** — информация о том, можно ли присылать покупателю дополнительные предложения о товаре. Согласие на это даёт покупатель.\n",
    "* **Маркет_актив_6_мес** — среднемесячное значение маркетинговых коммуникаций компании, которое приходилось на покупателя за последние 6 месяцев. Это значение показывает, какое число рассылок, звонков, показов рекламы и прочего приходилось на клиента.\n",
    "* **Маркет_актив_тек_мес** — количество маркетинговых коммуникаций в текущем месяце.\n",
    "* **Длительность** — значение, которое показывает, сколько дней прошло с момента регистрации покупателя на сайте.\n",
    "* **Акционные_покупки** — среднемесячная доля покупок по акции от общего числа покупок за последние 6 месяцев.\n",
    "* **Популярная_категория** — самая популярная категория товаров у покупателя за последние 6 месяцев.\n",
    "* **Средний_просмотр_категорий_за_визит** — показывает, сколько в среднем категорий покупатель просмотрел за визит в течение последнего месяца.\n",
    "* **Неоплаченные_продукты_штук_квартал** — общее число неоплаченных товаров в корзине за последние 3 месяца.\n",
    "* **Ошибка_сервиса** — число сбоев, которые коснулись покупателя во время посещения сайта.\n",
    "* **Страниц_за_визит** — среднее количество страниц, которые просмотрел покупатель за один визит на сайт за последние 3 месяца.\n",
    "\n",
    "`market_money.csv`: таблица с данными о выручке, которую получает магазин с покупателя, то есть сколько покупатель всего потратил за период взаимодействия с сайтом.\n",
    "\n",
    "* **id** — номер покупателя в корпоративной базе данных.\n",
    "* **Период** — название периода, во время которого зафиксирована выручка. Например, 'текущий_месяц' или 'предыдущий_месяц'.\n",
    "* **Выручка** — сумма выручки за период.\n",
    "\n",
    "market_time.csv: таблица с данными о времени (в минутах), которое покупатель провёл на сайте в течение периода.\n",
    "\n",
    "* **id** — номер покупателя в корпоративной базе данных.\n",
    "* **Период** — название периода, во время которого зафиксировано общее время.\n",
    "* **минут** — значение времени, проведённого на сайте, в минутах.\n",
    "\n",
    "`money.csv`: таблица с данными о среднемесячной прибыли покупателя за последние 3 месяца: какую прибыль получает магазин от продаж каждому покупателю.\n",
    "\n",
    "* **id** — номер покупателя в корпоративной базе данных.\n",
    "* **Прибыль** — значение прибыли.\n"
   ]
  },
  {
   "cell_type": "markdown",
   "metadata": {
    "toc": true
   },
   "source": [
    "<h1>План работы<span class=\"tocSkip\"></span></h1>\n",
    "<div class=\"toc\"><ul class=\"toc-item\"><li><ul class=\"toc-item\"><li><span><a href=\"#Установим-необходимые-библиотеки\" data-toc-modified-id=\"Установим-необходимые-библиотеки-0.1\"><span class=\"toc-item-num\">0.1&nbsp;&nbsp;</span>Установим необходимые библиотеки</a></span></li><li><span><a href=\"#Импортируем-необходимые-библиотеки\" data-toc-modified-id=\"Импортируем-необходимые-библиотеки-0.2\"><span class=\"toc-item-num\">0.2&nbsp;&nbsp;</span>Импортируем необходимые библиотеки</a></span></li></ul></li><li><span><a href=\"#Загрузка-данных\" data-toc-modified-id=\"Загрузка-данных-1\"><span class=\"toc-item-num\">1&nbsp;&nbsp;</span>Загрузка данных</a></span><ul class=\"toc-item\"><li><span><a href=\"#Загрузим-данные\" data-toc-modified-id=\"Загрузим-данные-1.1\"><span class=\"toc-item-num\">1.1&nbsp;&nbsp;</span>Загрузим данные</a></span></li><li><span><a href=\"#Проверим-соответствие-данных-описанию\" data-toc-modified-id=\"Проверим-соответствие-данных-описанию-1.2\"><span class=\"toc-item-num\">1.2&nbsp;&nbsp;</span>Проверим соответствие данных описанию</a></span></li><li><span><a href=\"#Вывод\" data-toc-modified-id=\"Вывод-1.3\"><span class=\"toc-item-num\">1.3&nbsp;&nbsp;</span>Вывод</a></span></li></ul></li><li><span><a href=\"#Предобработка-данных\" data-toc-modified-id=\"Предобработка-данных-2\"><span class=\"toc-item-num\">2&nbsp;&nbsp;</span>Предобработка данных</a></span><ul class=\"toc-item\"><li><span><a href=\"#Переименуем-названия-столбцов\" data-toc-modified-id=\"Переименуем-названия-столбцов-2.1\"><span class=\"toc-item-num\">2.1&nbsp;&nbsp;</span>Переименуем названия столбцов</a></span></li><li><span><a href=\"#Проверим-данные-на-наличие-пропусков-и-явных-дубликатов\" data-toc-modified-id=\"Проверим-данные-на-наличие-пропусков-и-явных-дубликатов-2.2\"><span class=\"toc-item-num\">2.2&nbsp;&nbsp;</span>Проверим данные на наличие пропусков и явных дубликатов</a></span></li><li><span><a href=\"#Проверим-данные-на-наличие-неявных-дубликатов-и-обработаем-их\" data-toc-modified-id=\"Проверим-данные-на-наличие-неявных-дубликатов-и-обработаем-их-2.3\"><span class=\"toc-item-num\">2.3&nbsp;&nbsp;</span>Проверим данные на наличие неявных дубликатов и обработаем их</a></span></li><li><span><a href=\"#Вывод\" data-toc-modified-id=\"Вывод-2.4\"><span class=\"toc-item-num\">2.4&nbsp;&nbsp;</span>Вывод</a></span></li></ul></li><li><span><a href=\"#Исследовательский-анализ-данных\" data-toc-modified-id=\"Исследовательский-анализ-данных-3\"><span class=\"toc-item-num\">3&nbsp;&nbsp;</span>Исследовательский анализ данных</a></span><ul class=\"toc-item\"><li><span><a href=\"#Построим-гистограммы-и-круговые-диаграммы\" data-toc-modified-id=\"Построим-гистограммы-и-круговые-диаграммы-3.1\"><span class=\"toc-item-num\">3.1&nbsp;&nbsp;</span>Построим гистограммы и круговые диаграммы</a></span></li><li><span><a href=\"#Посмотрим-описательную-статистику\" data-toc-modified-id=\"Посмотрим-описательную-статистику-3.2\"><span class=\"toc-item-num\">3.2&nbsp;&nbsp;</span>Посмотрим описательную статистику</a></span></li><li><span><a href=\"#Отберём-клиентов-с-покупательской-активностью-не-менее-трёх-месяцев\" data-toc-modified-id=\"Отберём-клиентов-с-покупательской-активностью-не-менее-трёх-месяцев-3.3\"><span class=\"toc-item-num\">3.3&nbsp;&nbsp;</span>Отберём клиентов с покупательской активностью не менее трёх месяцев</a></span></li><li><span><a href=\"#Вывод\" data-toc-modified-id=\"Вывод-3.4\"><span class=\"toc-item-num\">3.4&nbsp;&nbsp;</span>Вывод</a></span></li></ul></li><li><span><a href=\"#Объединение-таблиц\" data-toc-modified-id=\"Объединение-таблиц-4\"><span class=\"toc-item-num\">4&nbsp;&nbsp;</span>Объединение таблиц</a></span><ul class=\"toc-item\"><li><span><a href=\"#Объединим-таблицы-market_file.csv,-market_money.csv,-market_time.csv\" data-toc-modified-id=\"Объединим-таблицы-market_file.csv,-market_money.csv,-market_time.csv-4.1\"><span class=\"toc-item-num\">4.1&nbsp;&nbsp;</span>Объединим таблицы market_file.csv, market_money.csv, market_time.csv</a></span></li><li><span><a href=\"#Вывод\" data-toc-modified-id=\"Вывод-4.2\"><span class=\"toc-item-num\">4.2&nbsp;&nbsp;</span>Вывод</a></span></li></ul></li><li><span><a href=\"#Корреляционный-анализ\" data-toc-modified-id=\"Корреляционный-анализ-5\"><span class=\"toc-item-num\">5&nbsp;&nbsp;</span>Корреляционный анализ</a></span></li><li><span><a href=\"#Использование-пайплайнов\" data-toc-modified-id=\"Использование-пайплайнов-6\"><span class=\"toc-item-num\">6&nbsp;&nbsp;</span>Использование пайплайнов</a></span><ul class=\"toc-item\"><li><span><a href=\"#Создадим-обучающий-и-тестовый-наборы-данных\" data-toc-modified-id=\"Создадим-обучающий-и-тестовый-наборы-данных-6.1\"><span class=\"toc-item-num\">6.1&nbsp;&nbsp;</span>Создадим обучающий и тестовый наборы данных</a></span></li><li><span><a href=\"#Создадим-списки-с-названиями-признаков-для-кодирования/масштабирования/стандартизации\" data-toc-modified-id=\"Создадим-списки-с-названиями-признаков-для-кодирования/масштабирования/стандартизации-6.2\"><span class=\"toc-item-num\">6.2&nbsp;&nbsp;</span>Создадим списки с названиями признаков для кодирования/масштабирования/стандартизации</a></span></li><li><span><a href=\"#Создадим-пайплайн-для-обработки-категориальных-признаков\" data-toc-modified-id=\"Создадим-пайплайн-для-обработки-категориальных-признаков-6.3\"><span class=\"toc-item-num\">6.3&nbsp;&nbsp;</span>Создадим пайплайн для обработки категориальных признаков</a></span></li><li><span><a href=\"#Создаём-общий-пайплайн-для-подготовки-данных\" data-toc-modified-id=\"Создаём-общий-пайплайн-для-подготовки-данных-6.4\"><span class=\"toc-item-num\">6.4&nbsp;&nbsp;</span>Создаём общий пайплайн для подготовки данных</a></span></li><li><span><a href=\"#Cоздаём-итоговый-пайплайн:-подготовка-данных-и-модель\" data-toc-modified-id=\"Cоздаём-итоговый-пайплайн:-подготовка-данных-и-модель-6.5\"><span class=\"toc-item-num\">6.5&nbsp;&nbsp;</span>Cоздаём итоговый пайплайн: подготовка данных и модель</a></span></li><li><span><a href=\"#Обучим-четыре-модели\" data-toc-modified-id=\"Обучим-четыре-модели-6.6\"><span class=\"toc-item-num\">6.6&nbsp;&nbsp;</span>Обучим четыре модели</a></span></li><li><span><a href=\"#Выберем-лучшую-модель-и-параметры-с-помощью-RandomizedSearchCV()\" data-toc-modified-id=\"Выберем-лучшую-модель-и-параметры-с-помощью-RandomizedSearchCV()-6.7\"><span class=\"toc-item-num\">6.7&nbsp;&nbsp;</span>Выберем лучшую модель и параметры с помощью <code>RandomizedSearchCV()</code></a></span></li></ul></li><li><span><a href=\"#Анализ-важности-признаков\" data-toc-modified-id=\"Анализ-важности-признаков-7\"><span class=\"toc-item-num\">7&nbsp;&nbsp;</span>Анализ важности признаков</a></span><ul class=\"toc-item\"><li><span><a href=\"#Оценим-важность-признаков-для-лучшей-модели-и-построим-график-важности-с-помощью-метода-SHAP\" data-toc-modified-id=\"Оценим-важность-признаков-для-лучшей-модели-и-построим-график-важности-с-помощью-метода-SHAP-7.1\"><span class=\"toc-item-num\">7.1&nbsp;&nbsp;</span>Оценим важность признаков для лучшей модели и построим график важности с помощью метода <code>SHAP</code></a></span></li><li><span><a href=\"#Вывод\" data-toc-modified-id=\"Вывод-7.2\"><span class=\"toc-item-num\">7.2&nbsp;&nbsp;</span>Вывод</a></span></li></ul></li><li><span><a href=\"#Сегментация-покупателей\" data-toc-modified-id=\"Сегментация-покупателей-8\"><span class=\"toc-item-num\">8&nbsp;&nbsp;</span>Сегментация покупателей</a></span><ul class=\"toc-item\"><li><span><a href=\"#Выполним-сегментацию-покупателей\" data-toc-modified-id=\"Выполним-сегментацию-покупателей-8.1\"><span class=\"toc-item-num\">8.1&nbsp;&nbsp;</span>Выполним сегментацию покупателей</a></span></li><li><span><a href=\"#Выберем-группу-покупателей-и-предложим,-как-увеличить-её-покупательскую-активность\" data-toc-modified-id=\"Выберем-группу-покупателей-и-предложим,-как-увеличить-её-покупательскую-активность-8.2\"><span class=\"toc-item-num\">8.2&nbsp;&nbsp;</span>Выберем группу покупателей и предложим, как увеличить её покупательскую активность</a></span></li><li><span><a href=\"#Вывод\" data-toc-modified-id=\"Вывод-8.3\"><span class=\"toc-item-num\">8.3&nbsp;&nbsp;</span>Вывод</a></span></li></ul></li><li><span><a href=\"#Общий-вывод\" data-toc-modified-id=\"Общий-вывод-9\"><span class=\"toc-item-num\">9&nbsp;&nbsp;</span>Общий вывод</a></span></li></ul></div>"
   ]
  },
  {
   "cell_type": "markdown",
   "metadata": {},
   "source": [
    "### Установим необходимые библиотеки"
   ]
  },
  {
   "cell_type": "code",
   "execution_count": 1,
   "metadata": {},
   "outputs": [
    {
     "name": "stdout",
     "output_type": "stream",
     "text": [
      "Requirement already satisfied: shap in /opt/conda/lib/python3.9/site-packages (0.45.1)\n",
      "Requirement already satisfied: packaging>20.9 in /opt/conda/lib/python3.9/site-packages (from shap) (21.3)\n",
      "Requirement already satisfied: pandas in /opt/conda/lib/python3.9/site-packages (from shap) (1.2.4)\n",
      "Requirement already satisfied: scipy in /opt/conda/lib/python3.9/site-packages (from shap) (1.9.1)\n",
      "Requirement already satisfied: tqdm>=4.27.0 in /opt/conda/lib/python3.9/site-packages (from shap) (4.61.2)\n",
      "Requirement already satisfied: slicer==0.0.8 in /opt/conda/lib/python3.9/site-packages (from shap) (0.0.8)\n",
      "Requirement already satisfied: numba in /opt/conda/lib/python3.9/site-packages (from shap) (0.56.0)\n",
      "Requirement already satisfied: numpy in /opt/conda/lib/python3.9/site-packages (from shap) (1.21.1)\n",
      "Requirement already satisfied: scikit-learn in /opt/conda/lib/python3.9/site-packages (from shap) (0.24.1)\n",
      "Requirement already satisfied: cloudpickle in /opt/conda/lib/python3.9/site-packages (from shap) (3.0.0)\n",
      "Requirement already satisfied: pyparsing!=3.0.5,>=2.0.2 in /opt/conda/lib/python3.9/site-packages (from packaging>20.9->shap) (2.4.7)\n",
      "Requirement already satisfied: setuptools in /opt/conda/lib/python3.9/site-packages (from numba->shap) (49.6.0.post20210108)\n",
      "Requirement already satisfied: llvmlite<0.40,>=0.39.0dev0 in /opt/conda/lib/python3.9/site-packages (from numba->shap) (0.39.0)\n",
      "Requirement already satisfied: python-dateutil>=2.7.3 in /opt/conda/lib/python3.9/site-packages (from pandas->shap) (2.8.1)\n",
      "Requirement already satisfied: pytz>=2017.3 in /opt/conda/lib/python3.9/site-packages (from pandas->shap) (2021.1)\n",
      "Requirement already satisfied: six>=1.5 in /opt/conda/lib/python3.9/site-packages (from python-dateutil>=2.7.3->pandas->shap) (1.16.0)\n",
      "Requirement already satisfied: threadpoolctl>=2.0.0 in /opt/conda/lib/python3.9/site-packages (from scikit-learn->shap) (3.1.0)\n",
      "Requirement already satisfied: joblib>=0.11 in /opt/conda/lib/python3.9/site-packages (from scikit-learn->shap) (1.1.0)\n"
     ]
    }
   ],
   "source": [
    "!pip install phik -q \n",
    "!pip install shap "
   ]
  },
  {
   "cell_type": "markdown",
   "metadata": {},
   "source": [
    "### Импортируем необходимые библиотеки"
   ]
  },
  {
   "cell_type": "code",
   "execution_count": null,
   "metadata": {},
   "outputs": [],
   "source": [
    "# импортируем библиотеку pandas\n",
    "import pandas as pd\n",
    "# импортируем библиотеку matplotlib.pyplot\n",
    "import matplotlib.pyplot as plt\n",
    "# импортируем библиотеку seaborn\n",
    "import seaborn as sns\n",
    "# импортируем библиотеку numpy\n",
    "import numpy as np\n",
    "\n",
    "# импортируем функцию phik_matrix и plot_correlation_matrix\n",
    "from phik import phik_matrix\n",
    "from phik.report import plot_correlation_matrix\n",
    "\n",
    "# загружаем класс pipeline\n",
    "from sklearn.pipeline import Pipeline\n",
    "\n",
    "# загружаем классы для подготовки данных\n",
    "from sklearn.preprocessing import (\n",
    "    OneHotEncoder,\n",
    "    OrdinalEncoder, \n",
    "    StandardScaler, \n",
    "    MinMaxScaler, \n",
    "    RobustScaler\n",
    ")\n",
    "from sklearn.compose import ColumnTransformer\n",
    "from sklearn.model_selection import train_test_split\n",
    "\n",
    "# загружаем класс для работы с пропусками\n",
    "from sklearn.impute import SimpleImputer\n",
    "\n",
    "# загружаем функцию для работы с метриками\n",
    "from sklearn.metrics import roc_auc_score\n",
    "\n",
    "# импортируем класс RandomizedSearchCV\n",
    "#from sklearn.model_selection import RandomizedSearchCV\n",
    "\n",
    "# загружаем нужные модели\n",
    "from sklearn.linear_model import LogisticRegression\n",
    "from sklearn.neighbors import KNeighborsClassifier\n",
    "from sklearn.tree import DecisionTreeClassifier\n",
    "from sklearn.svm import SVC\n",
    "\n",
    "# импортируем класс RandomizedSearchCV\n",
    "from sklearn.model_selection import RandomizedSearchCV\n",
    "\n",
    "# импортируем библиотеку для визуализации SHAP значений\n",
    "import shap\n",
    "\n",
    "# задаём значение констант\n",
    "RANDOM_STATE = 42\n",
    "TEST_SIZE = 0.25\n",
    "\n",
    "# задаём стиль для графиков\n",
    "sns.set_style(\"darkgrid\")\n",
    "\n",
    "# игнорируем предупреждения\n",
    "import warnings\n",
    "warnings.simplefilter(\"ignore\")"
   ]
  },
  {
   "cell_type": "markdown",
   "metadata": {},
   "source": [
    "## Загрузка данных"
   ]
  },
  {
   "cell_type": "markdown",
   "metadata": {},
   "source": [
    "### Загрузим данные"
   ]
  },
  {
   "cell_type": "markdown",
   "metadata": {},
   "source": [
    "Считаем CSV-файлы в датафреймы:\n",
    "* `/datasets/market_file.csv` - `market_file`\n",
    "* `/datasets/market_money.csv` - `market_money`\n",
    "* `/datasets/market_time.csv` - `market_time`\n",
    "* `/datasets/money.csv` - `money`"
   ]
  },
  {
   "cell_type": "code",
   "execution_count": null,
   "metadata": {},
   "outputs": [],
   "source": [
    "try:\n",
    "    market_file = pd.read_csv('/datasets/market_file.csv')\n",
    "    market_money = pd.read_csv('/datasets/market_money.csv')\n",
    "    market_time = pd.read_csv('/datasets/market_time.csv')\n",
    "    money = pd.read_csv('/datasets/money.csv', sep=';', decimal=',')\n",
    "except:\n",
    "    market_file = pd.read_csv('https://xxx/datasets/market_file.csv')\n",
    "    market_money = pd.read_csv('https://xxx/datasets/market_money.csv')\n",
    "    market_time = pd.read_csv('https://xxx/datasets/market_time.csv')\n",
    "    money = pd.read_csv(\n",
    "        'https://xxx/datasets/money.csv',sep=';',decimal=','\n",
    "    )\n",
    "\n",
    "# проименуем датафреймы\n",
    "market_file.name = 'market_file'\n",
    "market_money.name = 'market_money'\n",
    "market_time.name = 'market_time'\n",
    "money.name = 'money'\n",
    "\n",
    "# создадим список датафреймов\n",
    "dfs = [market_file, market_money, market_time, money]"
   ]
  },
  {
   "cell_type": "markdown",
   "metadata": {},
   "source": [
    "### Проверим соответствие данных описанию"
   ]
  },
  {
   "cell_type": "markdown",
   "metadata": {},
   "source": [
    "Напишем функцию для просмотра характеристик датафреймов"
   ]
  },
  {
   "cell_type": "code",
   "execution_count": null,
   "metadata": {},
   "outputs": [],
   "source": [
    "def info_func(df):\n",
    "    '''\n",
    "    функция info_func принимает на вход DataFrame df и выводит первые несколько строк этого DataFrame,\n",
    "    а также общую информацию о нем.\n",
    "\n",
    "    Parameters:\n",
    "    df (DataFrame): Исходный DataFrame, для которого требуется вывести информацию.\n",
    "\n",
    "    Returns:\n",
    "    None: Функция не возвращает значений, она лишь выводит информацию о DataFrame.\n",
    "    '''\n",
    "    print('-'*22,'Исходный датафрейм', df.name, '-'*22)\n",
    "    display(df.head())\n",
    "    print('')\n",
    "    print('')\n",
    "    print('-'*12,'Общая информация о датафрейме', df.name,'-'*12)\n",
    "    print('')\n",
    "    print('')\n",
    "    df.info()"
   ]
  },
  {
   "cell_type": "markdown",
   "metadata": {},
   "source": [
    "Применим к датафреймам функцию `info_func`"
   ]
  },
  {
   "cell_type": "code",
   "execution_count": null,
   "metadata": {
    "scrolled": false
   },
   "outputs": [],
   "source": [
    "for df in dfs:\n",
    "    info_func(df)"
   ]
  },
  {
   "cell_type": "markdown",
   "metadata": {},
   "source": [
    "### Вывод"
   ]
  },
  {
   "cell_type": "markdown",
   "metadata": {},
   "source": [
    "* В названии части столбцов присутствуют пробелы, заменим их на подчёркивания\n",
    "* В некоторых столбцах датафреймов содержатся опечатки: \n",
    " * в `market_file` в столбце `Тип сервиса`: \"стандартт\"\n",
    " * в `market_money` в столбце `Период`: \"предыдцщий_месяц\"\n",
    "\n",
    "Исправим это на этае предобработки данных\n",
    "\n",
    "Остальные данные во всех датафреймах соответствуют описанию."
   ]
  },
  {
   "cell_type": "markdown",
   "metadata": {},
   "source": [
    "## Предобработка данных"
   ]
  },
  {
   "cell_type": "markdown",
   "metadata": {},
   "source": [
    "### Переименуем названия столбцов"
   ]
  },
  {
   "cell_type": "code",
   "execution_count": null,
   "metadata": {},
   "outputs": [],
   "source": [
    "# переведём названия столбцов к нижнему регистру и заменим пробелы на подчёркивание\n",
    "for df in dfs:\n",
    "    df.columns = [x.lower() for x in df.columns]\n",
    "    df.columns = [x.replace(' ', '_') for x in df.columns]"
   ]
  },
  {
   "cell_type": "markdown",
   "metadata": {},
   "source": [
    "### Проверим данные на наличие пропусков и явных дубликатов"
   ]
  },
  {
   "cell_type": "markdown",
   "metadata": {},
   "source": [
    "Напишем функцию для проверки наличия пропусков и дубликатов в данных"
   ]
  },
  {
   "cell_type": "code",
   "execution_count": null,
   "metadata": {},
   "outputs": [],
   "source": [
    "def check_func(df):\n",
    "    '''\n",
    "    функция check_func принимает на вход DataFrame df и выводит количество пустых значений\n",
    "    и количество явных дубликатов в этом DataFrame.\n",
    "\n",
    "    Parameters:\n",
    "    df (DataFrame): Исходный DataFrame, для которого требуется проверить\n",
    "    наличие пустых значений и дубликатов.\n",
    "\n",
    "    Returns:\n",
    "    None: Функция не возвращает значений, она лишь выводит количество пустых значений\n",
    "    и дубликатов в DataFrame.\n",
    "    '''\n",
    "    print('-'*10,'Количество пустых значений в датафрейме',df.name,'-'*10)\n",
    "    print('')\n",
    "    print('')\n",
    "    display(df.isna().sum())\n",
    "    print('-'*10,'Количество явных дубликатов в датафрейме',df.name,'-'*10)\n",
    "    display(df.duplicated().sum())"
   ]
  },
  {
   "cell_type": "markdown",
   "metadata": {},
   "source": [
    "Применим функцию к нашим датафреймам"
   ]
  },
  {
   "cell_type": "code",
   "execution_count": null,
   "metadata": {},
   "outputs": [],
   "source": [
    "for df in dfs:\n",
    "    check_func(df)"
   ]
  },
  {
   "cell_type": "markdown",
   "metadata": {},
   "source": [
    "Пустые значения и явные дубликаты отсутствуют"
   ]
  },
  {
   "cell_type": "markdown",
   "metadata": {},
   "source": [
    "### Проверим данные на наличие неявных дубликатов и обработаем их"
   ]
  },
  {
   "cell_type": "markdown",
   "metadata": {},
   "source": [
    "Напишем функцию для вывода уникальных значений из столбцов типа object"
   ]
  },
  {
   "cell_type": "code",
   "execution_count": null,
   "metadata": {},
   "outputs": [],
   "source": [
    "def df_unique(df):\n",
    "    '''\n",
    "    функция df_unique принимает на вход DataFrame df и выводит список уникальных значений\n",
    "    для каждого столбца типа 'object'.\n",
    "\n",
    "    Parameters:\n",
    "    df (DataFrame): Исходный DataFrame, для которого требуется вывести список уникальных значений\n",
    "                   для столбцов типа 'object'.\n",
    "\n",
    "    Returns:\n",
    "    None: Функция не возвращает значений, она лишь выводит список уникальных значений\n",
    "    в столбцах типа 'object'.\n",
    "    '''\n",
    "    # выбираем столбцы типа 'object'\n",
    "    object_columns = df.select_dtypes(include=['object'])\n",
    "\n",
    "    # выводим список уникальных значений для этих столбцов\n",
    "    for column in object_columns.columns:\n",
    "        print(f'Список уникальных значений в столбце: {column}:')\n",
    "        print(object_columns[column].unique())\n",
    "        print()"
   ]
  },
  {
   "cell_type": "markdown",
   "metadata": {},
   "source": [
    "Применим функцию к нашим датафреймам"
   ]
  },
  {
   "cell_type": "code",
   "execution_count": null,
   "metadata": {},
   "outputs": [],
   "source": [
    "for df in dfs:\n",
    "    print(f'Датафрейм: {df.name}')\n",
    "    print()\n",
    "    df_unique(df)"
   ]
  },
  {
   "cell_type": "markdown",
   "metadata": {},
   "source": [
    "Заменим `стандартт` на `стандарт` в столбце `тип_сервиса` датафрейма `market_file`"
   ]
  },
  {
   "cell_type": "code",
   "execution_count": null,
   "metadata": {},
   "outputs": [],
   "source": [
    "market_file['тип_сервиса'] = market_file['тип_сервиса']\\\n",
    ".replace('стандартт', 'стандарт')"
   ]
  },
  {
   "cell_type": "markdown",
   "metadata": {},
   "source": [
    "Заменим `аксесуары` на `аксессуары` в столбце `популярная_категория` датафрейма `market_file`"
   ]
  },
  {
   "cell_type": "code",
   "execution_count": null,
   "metadata": {},
   "outputs": [],
   "source": [
    "market_file['популярная_категория'] = market_file['популярная_категория']\\\n",
    ".replace('Косметика и аксесуары', 'Косметика и аксессуары')"
   ]
  },
  {
   "cell_type": "markdown",
   "metadata": {},
   "source": [
    "Заменим `предыдцщий_месяц` на `предыдущий_месяц` в столбце `период` датафрейма `market_time`"
   ]
  },
  {
   "cell_type": "code",
   "execution_count": null,
   "metadata": {},
   "outputs": [],
   "source": [
    "market_time['период'] = market_time['период']\\\n",
    ".replace('предыдцщий_месяц', 'предыдущий_месяц')"
   ]
  },
  {
   "cell_type": "markdown",
   "metadata": {},
   "source": [
    "Повторно выведем список уникальных значений:"
   ]
  },
  {
   "cell_type": "code",
   "execution_count": null,
   "metadata": {},
   "outputs": [],
   "source": [
    "for df in dfs:\n",
    "    print(f'Датафрейм: {df.name}')\n",
    "    print()\n",
    "    df_unique(df)"
   ]
  },
  {
   "cell_type": "markdown",
   "metadata": {},
   "source": [
    "### Вывод"
   ]
  },
  {
   "cell_type": "markdown",
   "metadata": {},
   "source": [
    "* во всех датафреймах отсутствуют пропущенные значения и явные дубликаты\n",
    "* в датафреймах `market_file`, `market_money` и `market_time` удалили неявные дубликаты и исправили опечатки"
   ]
  },
  {
   "cell_type": "markdown",
   "metadata": {},
   "source": [
    "## Исследовательский анализ данных"
   ]
  },
  {
   "cell_type": "markdown",
   "metadata": {},
   "source": [
    "### Построим гистограммы и круговые диаграммы"
   ]
  },
  {
   "cell_type": "markdown",
   "metadata": {},
   "source": [
    "Напишем функцию для построения графиков для количественных и категориальных признаков"
   ]
  },
  {
   "cell_type": "code",
   "execution_count": null,
   "metadata": {},
   "outputs": [],
   "source": [
    "def graphs_for_columns(df, target=None):\n",
    "    '''\n",
    "    функция graphs_for_columns принимает на вход DataFrame df.\n",
    "    Она строит гистограммы для числовых столбцов и Pie диаграммы для категориальных столбцов.\n",
    "\n",
    "    Parameters:\n",
    "    df (DataFrame): Исходный DataFrame, для которого требуется построить графики.\n",
    "    target (str): Имя целевого столбца. По умолчанию None.\n",
    "\n",
    "    Returns:\n",
    "    None: Функция не возвращает значений, она лишь строит графики для указанных столбцов.\n",
    "    '''\n",
    "    # создаём переменную с числовыми столбцами df\n",
    "    n_columns = df.select_dtypes(include='number').columns.tolist()\n",
    "    if 'id' in n_columns:\n",
    "        n_columns.remove('id')\n",
    "    # создаём переменную с категориальными столбцами df\n",
    "    q_columns = df.select_dtypes(exclude='number').columns\n",
    "\n",
    "    num_columns = len(n_columns) + len(q_columns)\n",
    "    num_rows = (num_columns + 1) // 2\n",
    "\n",
    "    fig, axes = plt.subplots(max(num_rows, 1), 2, figsize=(15, 5 * max(num_rows, 1)))\n",
    "    fig.suptitle(f'Гистограммы и Pie диаграммы для {df.name}')\n",
    "\n",
    "    for i, column in enumerate(n_columns):\n",
    "        row = i // 2\n",
    "        col_idx = i % 2\n",
    "        ax = axes[row, col_idx] if num_rows > 1 else axes[col_idx]\n",
    "        if target and target in df.columns:\n",
    "            sns.histplot(df, bins=20, ax=ax, hue=target, x=column, legend=True)\n",
    "        else:\n",
    "            sns.histplot(df, bins=20, ax=ax, x=column)\n",
    "        ax.set_title(column)\n",
    "        ax.set_xlabel(column)\n",
    "        ax.set_ylabel(\"Частота\")\n",
    "        ax.grid(axis='y')\n",
    "\n",
    "        # добавление среднего значения и медианы\n",
    "        mean = df[column].mean()\n",
    "        median = df[column].median()\n",
    "        ax.axvline(mean, color='r', linestyle='--', label='Mean')\n",
    "        ax.axvline(median, color='g', linestyle='-', label='Median')\n",
    "\n",
    "    if target and target in df.columns:\n",
    "        handles, labels = ax.get_legend_handles_labels()\n",
    "        ax.legend(handles=handles, labels=labels)\n",
    "    else:\n",
    "        ax.legend()\n",
    "\n",
    "    if len(q_columns) > 0:\n",
    "        for j, column in enumerate(q_columns):\n",
    "            row = (len(n_columns) + j) // 2\n",
    "            col_idx = (len(n_columns) + j) % 2\n",
    "            ax = axes[row, col_idx] if num_rows > 1 else axes[col_idx]\n",
    "            df[column].value_counts().plot(\n",
    "                kind='pie',\n",
    "                autopct='%1.1f%%',\n",
    "                ax=ax,\n",
    "                colors=sns.color_palette('Blues_d'))\n",
    "            ax.set_title(column)\n",
    "            ax.set_ylabel('')\n",
    "\n",
    "    plt.tight_layout(rect=[0, 0, 1, 0.95])\n",
    "    plt.show()\n"
   ]
  },
  {
   "cell_type": "code",
   "execution_count": null,
   "metadata": {},
   "outputs": [],
   "source": [
    "# задаём целевой признак\n",
    "target = 'покупательская_активность'"
   ]
  },
  {
   "cell_type": "markdown",
   "metadata": {},
   "source": [
    "Применим функцию к нашим датафреймам"
   ]
  },
  {
   "cell_type": "code",
   "execution_count": null,
   "metadata": {
    "scrolled": false
   },
   "outputs": [],
   "source": [
    "for df in dfs:\n",
    "    graphs_for_columns(df, target)"
   ]
  },
  {
   "cell_type": "markdown",
   "metadata": {},
   "source": [
    "Распределение признаков: `маркет_актив_6 мес`, `длительность`, `средний_просмотр_категорий_за_визит`, `неоплаченные_продукты_штук_квартал`, `ошибка_сервиса`, `страниц_за_визит`, `минут` и `прибыль` - похоже на нормальное. Распределение признака `маркет_актив_тек_мес` является мультимодальным с 3 значениями: 3, 4, 5.  Распределение признака `акционные_покупки` является бимодальным с двумя пиками: около 0.2 и 1. Можно их преобразовать в категориальные. График распределения признака `выручка` сжат в левой стороне, стоит проверить наличиее анамольных значений.\n",
    "\n",
    "У целевого признака `покупательская_активность` наблюдается проблема дисбаланса классов."
   ]
  },
  {
   "cell_type": "code",
   "execution_count": null,
   "metadata": {
    "scrolled": true
   },
   "outputs": [],
   "source": [
    "market_file['покупательская_активность'].value_counts(normalize=True)"
   ]
  },
  {
   "cell_type": "markdown",
   "metadata": {},
   "source": [
    "### Посмотрим описательную статистику"
   ]
  },
  {
   "cell_type": "markdown",
   "metadata": {},
   "source": [
    "Напишем функцию для вывода описательной статистики"
   ]
  },
  {
   "cell_type": "code",
   "execution_count": null,
   "metadata": {},
   "outputs": [],
   "source": [
    "def stat_func(df):\n",
    "    '''\n",
    "    функция stat_func принимает на вход DataFrame df и выводит описательную статистику\n",
    "    для всех числовых столбцов.\n",
    "\n",
    "    Parameters:\n",
    "    df (DataFrame): Исходный DataFrame, для которого требуется вывести описательную статистику.\n",
    "\n",
    "    Returns:\n",
    "    None: Функция не возвращает значений, она лишь выводит описательную статистику\n",
    "    для числовых столбцов DataFrame.\n",
    "    '''\n",
    "    print('-'*12,'Описательная статистика',df.name,'-'*12)\n",
    "    display(df.describe().T)"
   ]
  },
  {
   "cell_type": "markdown",
   "metadata": {},
   "source": [
    "Применим функцию к нашим датафреймам"
   ]
  },
  {
   "cell_type": "code",
   "execution_count": null,
   "metadata": {},
   "outputs": [],
   "source": [
    "for df in dfs:\n",
    "    stat_func(df)"
   ]
  },
  {
   "cell_type": "markdown",
   "metadata": {},
   "source": [
    "У параметра `выручка` датафрейма `market_money` наблюдается большая разница между максимальным значением и 3-м квартилем. Расчитаем значение 99.9 квартиля."
   ]
  },
  {
   "cell_type": "code",
   "execution_count": null,
   "metadata": {},
   "outputs": [],
   "source": [
    "q_999 = market_money.выручка.quantile(0.999)"
   ]
  },
  {
   "cell_type": "markdown",
   "metadata": {},
   "source": [
    "Найдём значения, которые лежат за пределами 99.9 квартиля"
   ]
  },
  {
   "cell_type": "code",
   "execution_count": null,
   "metadata": {},
   "outputs": [],
   "source": [
    "market_money.query('выручка > @q_999')"
   ]
  },
  {
   "cell_type": "markdown",
   "metadata": {},
   "source": [
    "Удалим это аномальное значение из датафрейма `market_file`, к которому на следующем шаге будем присоединять другие датафреймы"
   ]
  },
  {
   "cell_type": "code",
   "execution_count": null,
   "metadata": {},
   "outputs": [],
   "source": [
    "market_money_n = market_money.query('id != 215380')"
   ]
  },
  {
   "cell_type": "code",
   "execution_count": null,
   "metadata": {},
   "outputs": [],
   "source": [
    "market_money_n.describe()"
   ]
  },
  {
   "cell_type": "markdown",
   "metadata": {},
   "source": [
    "Построим вновь гистограмму для признака `выручка` датафрейма `market_money_n`"
   ]
  },
  {
   "cell_type": "code",
   "execution_count": null,
   "metadata": {},
   "outputs": [],
   "source": [
    "plt.figure(figsize=(10, 6)) \n",
    "sns.histplot(market_money_n['выручка'], bins=40, palette='Blues_d')\n",
    "plt.title('Гистограмма выручки')\n",
    "plt.xlabel('выручка')\n",
    "plt.ylabel('Частота')\n",
    "\n",
    "# Добавление среднего значения и медианы\n",
    "mean = market_money_n['выручка'].mean()\n",
    "median = market_money_n['выручка'].median()\n",
    "plt.axvline(mean, color='r', linestyle='--', label='Mean')\n",
    "plt.axvline(median, color='g', linestyle='-', label='Median')\n",
    "plt.legend()\n",
    "\n",
    "plt.grid(axis='y')\n",
    "plt.show()"
   ]
  },
  {
   "cell_type": "markdown",
   "metadata": {},
   "source": [
    "Распределение признака `выручка` похоже на нормальное"
   ]
  },
  {
   "cell_type": "markdown",
   "metadata": {},
   "source": [
    "### Отберём клиентов с покупательской активностью не менее трёх месяцев"
   ]
  },
  {
   "cell_type": "code",
   "execution_count": null,
   "metadata": {},
   "outputs": [],
   "source": [
    "# отберём клиентов, которые не проявляют активность в каждом из трёх месяцев\n",
    "no_active_three_month = market_money_n.query('выручка == 0')['id'].unique().tolist()\n",
    "print(f'id пользователей активных менее трёх месяцев: {no_active_three_month}')"
   ]
  },
  {
   "cell_type": "code",
   "execution_count": null,
   "metadata": {},
   "outputs": [],
   "source": [
    "# выведем этих клиентов\n",
    "market_money_n.query('id in @no_active_three_month')"
   ]
  },
  {
   "cell_type": "code",
   "execution_count": null,
   "metadata": {
    "scrolled": true
   },
   "outputs": [],
   "source": [
    "market_money_new = market_money_n.query('id not in @no_active_three_month')\n",
    "market_money_new.shape"
   ]
  },
  {
   "cell_type": "markdown",
   "metadata": {},
   "source": [
    "### Вывод"
   ]
  },
  {
   "cell_type": "markdown",
   "metadata": {},
   "source": [
    "* Целевой признак имеет проблему дисбаланса классов\n",
    "\n",
    "* Распределение признака `маркет_актив_тек_мес` является мультимодальным, а распределение признака `акционные_покупки` является бимодальным \n",
    "* Остальные признаки имеют распределение, похожее на нормальное\n",
    "\n",
    "* У клиента с `id` - 215380 присутствует аномальное значение `выручки` в датафрейме `market_money` - 106862.2\n",
    "* В датафрейме `market_money` присутствуют данные о 3х клиентах с покупательской активностью менее 3 месяцев: 215348, 215357, 215359"
   ]
  },
  {
   "cell_type": "markdown",
   "metadata": {},
   "source": [
    "## Объединение таблиц"
   ]
  },
  {
   "cell_type": "markdown",
   "metadata": {},
   "source": [
    "### Объединим таблицы market_file.csv, market_money.csv, market_time.csv"
   ]
  },
  {
   "cell_type": "markdown",
   "metadata": {},
   "source": [
    "Трансформируем датафрейм `market_money_n`, чтобы `выручка` разделилась на столбцы: `препредыдущий_месяц`, `предыдущий_месяц` и `текущий_месяц`. "
   ]
  },
  {
   "cell_type": "code",
   "execution_count": null,
   "metadata": {},
   "outputs": [],
   "source": [
    "# создаем сводную таблицу, используя 'id' в качестве индекса и 'период' в качестве колонки\n",
    "market_money_t = market_money_new.pivot_table(\n",
    "    index='id',\n",
    "    columns='период',\n",
    "    values='выручка',\n",
    "    aggfunc='sum')"
   ]
  },
  {
   "cell_type": "code",
   "execution_count": null,
   "metadata": {},
   "outputs": [],
   "source": [
    "# переименовываем столбцы\n",
    "market_money_t = market_money_t.rename(columns={\n",
    "    'предыдущий_месяц': 'выручка_предыдущий_месяц',\n",
    "    'препредыдущий_месяц': 'выручка_препредыдущий_месяц',\n",
    "    'текущий_месяц': 'выручка_текущий_месяц'\n",
    "})\n",
    "market_money_t.head()"
   ]
  },
  {
   "cell_type": "markdown",
   "metadata": {},
   "source": [
    "Трансформируем датафрейм `market_time`, чтобы `минут` разделилась на столбцы: `предыдущий_месяц` и `текущий_месяц`"
   ]
  },
  {
   "cell_type": "code",
   "execution_count": null,
   "metadata": {},
   "outputs": [],
   "source": [
    "# создаем сводную таблицу, используя 'id' в качестве индекса и 'период' в качестве колонки\n",
    "market_time_t = market_time.pivot_table(\n",
    "    index='id',\n",
    "    columns='период',\n",
    "    values='минут',\n",
    "    aggfunc='sum')"
   ]
  },
  {
   "cell_type": "code",
   "execution_count": null,
   "metadata": {},
   "outputs": [],
   "source": [
    "# переименовываем столбцы\n",
    "market_time_t = market_time_t.rename(columns={\n",
    "    'предыдущий_месяц': 'минут_предыдущий_месяц',\n",
    "    'текущий_месяц': 'минут_текущий_месяц'\n",
    "})\n",
    "market_time_t.head()"
   ]
  },
  {
   "cell_type": "markdown",
   "metadata": {},
   "source": [
    "Объеденим таблицы"
   ]
  },
  {
   "cell_type": "code",
   "execution_count": null,
   "metadata": {},
   "outputs": [],
   "source": [
    "# присоединяем сводную таблицы market_money_t и market_time_t к market_file по 'id'\n",
    "market = (market_file\n",
    "          .merge(market_money_t, on='id')\n",
    "          .merge(market_time_t, on='id'))\n",
    "market.head()"
   ]
  },
  {
   "cell_type": "code",
   "execution_count": null,
   "metadata": {},
   "outputs": [],
   "source": [
    "print(f'Размерность датафреймов:')\n",
    "print(f'{\" \"*25} market_file: {market_file.shape}')\n",
    "print(f'{\" \"*25} market_money_new: {market_money_new.shape}')\n",
    "print(f'{\" \"*25} market_time: {market_time.shape}')\n",
    "print('')\n",
    "print(f'Размерность объединённого датафрейма market : {market.shape}')"
   ]
  },
  {
   "cell_type": "markdown",
   "metadata": {},
   "source": [
    "### Вывод\n",
    "\n",
    "В `market_file` количество строк 1300. В `market_money`  3 признака для 1296 клиентов, что соответствует 3888 строкам, в `market_time` по 2 признака для каждого из 1300 клиентов, что соответствует 2600 строкам. В итоговом датафрейме количество строк совпало с `market_file` а, количество столбцов увеличилось на 5, что соответствует количеству добавленных признаков и подтверждает корректность объединения датафреймов."
   ]
  },
  {
   "cell_type": "code",
   "execution_count": null,
   "metadata": {},
   "outputs": [],
   "source": [
    "market.shape"
   ]
  },
  {
   "cell_type": "markdown",
   "metadata": {},
   "source": [
    "## Корреляционный анализ"
   ]
  },
  {
   "cell_type": "markdown",
   "metadata": {},
   "source": [
    "Не все наши признаки имеют нормальное распределение и часть признаков является категориальными, используем библиотеку phik для рассчёта корреляции между признаками разных типов данных"
   ]
  },
  {
   "cell_type": "code",
   "execution_count": null,
   "metadata": {},
   "outputs": [],
   "source": [
    "# создаём список с наименованиями непрерывных признаков\n",
    "num_columns = ['маркет_актив_6_мес',\n",
    "               'маркет_актив_тек_мес',\n",
    "               'длительность',\n",
    "               'акционные_покупки',\n",
    "               'средний_просмотр_категорий_за_визит', \n",
    "               'неоплаченные_продукты_штук_квартал', \n",
    "               'ошибка_сервиса', \n",
    "               'страниц_за_визит', \n",
    "               'выручка_предыдущий_месяц', \n",
    "               'выручка_препредыдущий_месяц', \n",
    "               'выручка_текущий_месяц', \n",
    "               'минут_предыдущий_месяц', \n",
    "               'минут_текущий_месяц']"
   ]
  },
  {
   "cell_type": "code",
   "execution_count": null,
   "metadata": {},
   "outputs": [],
   "source": [
    "# переведим id  в индекс\n",
    "market = market.set_index('id')"
   ]
  },
  {
   "cell_type": "code",
   "execution_count": null,
   "metadata": {},
   "outputs": [],
   "source": [
    "# считаем корреляции на датафрейме market\n",
    "phik_overview = phik_matrix(market, interval_cols=num_columns) "
   ]
  },
  {
   "cell_type": "code",
   "execution_count": null,
   "metadata": {},
   "outputs": [],
   "source": [
    "# отображаем матрицу корреляции\n",
    "plot_correlation_matrix(\n",
    "    phik_overview.values,\n",
    "    x_labels=phik_overview.columns,\n",
    "    y_labels=phik_overview.index,\n",
    "    vmin=0, vmax=1, color_map='Greens',\n",
    "    title=r'correlation $\\phi_K$',\n",
    "    fontsize_factor=1.5,\n",
    "    figsize=(20, 15)\n",
    ") "
   ]
  },
  {
   "cell_type": "code",
   "execution_count": null,
   "metadata": {},
   "outputs": [],
   "source": [
    "print('Список признаков в матрице корреляции:\\n')\n",
    "for col in market:\n",
    "    print(col)"
   ]
  },
  {
   "cell_type": "markdown",
   "metadata": {},
   "source": [
    "**Вывод**\n",
    "\n",
    "* Больше всего с целевым признаком корелируют: `страниц_за_визит`, `минут_предыдущий_месяц`, `минут_текущий_месяц`, они окажут большее влияние на модель\n",
    "* Меньше всего корелируют: `маркет_актив_тек_мес`, `разрешить_сообщать`, они окажут минимальноее влияние на модель\n",
    "* Мультиколлинеарность проявляется при значении кооэффициента корреляции от 0.9, а в нашем случае все значения значительно ниже, что гооворит об отсутствии мультиколлинеарности"
   ]
  },
  {
   "cell_type": "markdown",
   "metadata": {},
   "source": [
    "## Использование пайплайнов"
   ]
  },
  {
   "cell_type": "code",
   "execution_count": null,
   "metadata": {},
   "outputs": [],
   "source": [
    "market_p = market.copy()"
   ]
  },
  {
   "cell_type": "markdown",
   "metadata": {},
   "source": [
    "Преобразуем целевой признак `покупательская_активность` в датафрейме `market_file` в бинарный тип данных: 1 - Прежний уровень, 0 - Снизилась"
   ]
  },
  {
   "cell_type": "code",
   "execution_count": null,
   "metadata": {},
   "outputs": [],
   "source": [
    "# заменяем 'Прежний уровень' на 1 и 'Снизилась' на 0 в столбце 'Покупательская активность'\n",
    "market_p['покупательская_активность'] = market_p['покупательская_активность']\\\n",
    ".replace({'Прежний уровень': 1, 'Снизилась': 0})"
   ]
  },
  {
   "cell_type": "markdown",
   "metadata": {},
   "source": [
    "Преобразуем признак `акционные_покупки` в категориальный признак `покупают_по_акции`: `1` - часто > 0.5 и `0` - редко < 0.5"
   ]
  },
  {
   "cell_type": "code",
   "execution_count": null,
   "metadata": {},
   "outputs": [],
   "source": [
    "market_p['покупают_по_акции']  = market_p['акционные_покупки']\\\n",
    ".apply( lambda x: 0 if x>= 0.5 else 1)"
   ]
  },
  {
   "cell_type": "markdown",
   "metadata": {},
   "source": [
    "Добавим новые признаки: `динамика_минут`: разница между `минут_текущий_месяц` и `минут_предыдущий_месяц` и `динамика_выручки`: разница между `выручка_текущий_месяц` - `выручка_предыдущий_месяц` + `выручка_препредыдущий_месяц`"
   ]
  },
  {
   "cell_type": "code",
   "execution_count": null,
   "metadata": {},
   "outputs": [],
   "source": [
    "market_p['динамика_минут']  = market_p['минут_текущий_месяц']\\\n",
    "- market_p['минут_предыдущий_месяц']"
   ]
  },
  {
   "cell_type": "code",
   "execution_count": null,
   "metadata": {},
   "outputs": [],
   "source": [
    "market_p['динамика_выручки']  = market_p['выручка_текущий_месяц']\\\n",
    "- 2*market_p['выручка_предыдущий_месяц']\\\n",
    "+ market_p['выручка_препредыдущий_месяц']"
   ]
  },
  {
   "cell_type": "code",
   "execution_count": null,
   "metadata": {},
   "outputs": [],
   "source": [
    "columns = ['акционные_покупки', \n",
    "           'минут_текущий_месяц', \n",
    "           'минут_предыдущий_месяц',\n",
    "           'выручка_текущий_месяц',\n",
    "           'выручка_предыдущий_месяц',\n",
    "           'выручка_препредыдущий_месяц']"
   ]
  },
  {
   "cell_type": "code",
   "execution_count": null,
   "metadata": {},
   "outputs": [],
   "source": [
    "# удалим изначальные столбцы\n",
    "for col in columns:\n",
    "    market_p = market_p.drop(col, axis=1)"
   ]
  },
  {
   "cell_type": "code",
   "execution_count": null,
   "metadata": {},
   "outputs": [],
   "source": [
    "market_p.head()"
   ]
  },
  {
   "cell_type": "markdown",
   "metadata": {},
   "source": [
    "### Создадим обучающий и тестовый наборы данных"
   ]
  },
  {
   "cell_type": "markdown",
   "metadata": {},
   "source": [
    "Подготовим данные. Чтобы сохранить пропорцию классов в тренировочной и тестовой выборках, используем стратификацию"
   ]
  },
  {
   "cell_type": "code",
   "execution_count": null,
   "metadata": {},
   "outputs": [],
   "source": [
    "X_train, X_test, y_train, y_test = train_test_split(\n",
    "    market_p.drop(target, axis=1),\n",
    "    market_p[target],\n",
    "    test_size=TEST_SIZE,\n",
    "    random_state=RANDOM_STATE,\n",
    "    stratify=market[target]\n",
    ")"
   ]
  },
  {
   "cell_type": "code",
   "execution_count": null,
   "metadata": {},
   "outputs": [],
   "source": [
    "X_train.head()"
   ]
  },
  {
   "cell_type": "markdown",
   "metadata": {},
   "source": [
    "### Создадим списки с названиями признаков для кодирования/масштабирования/стандартизации"
   ]
  },
  {
   "cell_type": "code",
   "execution_count": null,
   "metadata": {},
   "outputs": [],
   "source": [
    "ohe_columns = ['разрешить_сообщать',\n",
    "               'популярная_категория',\n",
    "               'покупают_по_акции']\n",
    "\n",
    "ord_columns = ['тип_сервиса']\n",
    "\n",
    "num_columns = ['маркет_актив_тек_мес',\n",
    "               'маркет_актив_6_мес',\n",
    "               'длительность', \n",
    "               'средний_просмотр_категорий_за_визит',\n",
    "               'неоплаченные_продукты_штук_квартал',\n",
    "               'ошибка_сервиса',\n",
    "               'страниц_за_визит', \n",
    "               'динамика_минут',\n",
    "               'динамика_выручки']"
   ]
  },
  {
   "cell_type": "markdown",
   "metadata": {},
   "source": [
    "### Создадим пайплайн для обработки категориальных признаков"
   ]
  },
  {
   "cell_type": "markdown",
   "metadata": {},
   "source": [
    "Cоздадим пайплайн для подготовки признаков из списка ohe_columns:"
   ]
  },
  {
   "cell_type": "code",
   "execution_count": null,
   "metadata": {},
   "outputs": [],
   "source": [
    "ohe_pipe = Pipeline(\n",
    "    [('simpleImputer_ohe',\n",
    "      SimpleImputer(missing_values=np.nan,\n",
    "                    strategy='most_frequent')),\n",
    "     ('ohe', \n",
    "      OneHotEncoder(drop='first', \n",
    "                    handle_unknown='error',\n",
    "                    sparse=False))\n",
    "    ]\n",
    ")"
   ]
  },
  {
   "cell_type": "markdown",
   "metadata": {},
   "source": [
    "Создадим пайплайн для подготовки признаков из списка ord_columns:"
   ]
  },
  {
   "cell_type": "code",
   "execution_count": null,
   "metadata": {},
   "outputs": [],
   "source": [
    "ord_pipe = Pipeline(\n",
    "    [(\n",
    "        'simpleImputer_before_ord',\n",
    "        SimpleImputer(\n",
    "            missing_values=np.nan, \n",
    "            strategy='most_frequent'\n",
    "        )\n",
    "    ),\n",
    "        ('ord',  \n",
    "         OrdinalEncoder(\n",
    "                categories=[\n",
    "                    ['стандарт',\n",
    "                    'премиум'], \n",
    "                ],\n",
    "             handle_unknown='use_encoded_value', \n",
    "             unknown_value=np.nan\n",
    "            )\n",
    "        ),\n",
    "     ('simpleImputer_after_ord', \n",
    "      SimpleImputer(\n",
    "         missing_values=np.nan,\n",
    "         strategy='most_frequent'\n",
    "      )\n",
    "     )\n",
    "    ]\n",
    ")"
   ]
  },
  {
   "cell_type": "markdown",
   "metadata": {},
   "source": [
    "### Создаём общий пайплайн для подготовки данных"
   ]
  },
  {
   "cell_type": "markdown",
   "metadata": {},
   "source": [
    "Объеденим пайплайны для подготовки данных"
   ]
  },
  {
   "cell_type": "code",
   "execution_count": null,
   "metadata": {},
   "outputs": [],
   "source": [
    "data_preprocessor = ColumnTransformer(\n",
    "    [('ohe', ohe_pipe, ohe_columns),\n",
    "     ('ord', ord_pipe, ord_columns),\n",
    "     ('num', MinMaxScaler(), num_columns)\n",
    "    ], \n",
    "    remainder='passthrough'\n",
    ")"
   ]
  },
  {
   "cell_type": "markdown",
   "metadata": {},
   "source": [
    "### Cоздаём итоговый пайплайн: подготовка данных и модель"
   ]
  },
  {
   "cell_type": "markdown",
   "metadata": {},
   "source": [
    "Объеденим всё в итоговый пайплайн"
   ]
  },
  {
   "cell_type": "code",
   "execution_count": null,
   "metadata": {},
   "outputs": [],
   "source": [
    "pipe_final = Pipeline([\n",
    "    ('preprocessor', data_preprocessor),\n",
    "    ('models', DecisionTreeClassifier(random_state=RANDOM_STATE))\n",
    "])"
   ]
  },
  {
   "cell_type": "markdown",
   "metadata": {},
   "source": [
    "### Обучим четыре модели"
   ]
  },
  {
   "cell_type": "markdown",
   "metadata": {},
   "source": [
    "|модель|гиперпараметр|значение гиперпараметра|\n",
    "|:-|:--------|:---:|\n",
    "|`DecisionTreeClassifier()`|`max_depth`|от 2 до 9 включительно|\n",
    "||`max_features`|от 2 до 9 включительно|\n",
    "|`KNeighborsClassifier()`|`n_neighbors`|от 2 до 9 включительно|\n",
    "|`LogisticRegression()`|`C`|от 2 до 9 включительно|\n",
    "|`SVC()`|`C`|от 1 до 9 включительно|"
   ]
  },
  {
   "cell_type": "markdown",
   "metadata": {},
   "source": [
    "Определим сетку параметров для подбора"
   ]
  },
  {
   "cell_type": "code",
   "execution_count": null,
   "metadata": {},
   "outputs": [],
   "source": [
    "param_grid = [\n",
    "    # словарь для модели DecisionTreeClassifier()\n",
    "    {\n",
    "        'models': [DecisionTreeClassifier(random_state=RANDOM_STATE,\n",
    "                class_weight='balanced')],#\n",
    "        'models__max_depth': range(2, 10),\n",
    "        'models__max_features': range(2, 10),\n",
    "        'preprocessor__num': [StandardScaler(),\n",
    "                              MinMaxScaler(),\n",
    "                              RobustScaler(),\n",
    "                              'passthrough']  \n",
    "    },\n",
    "\n",
    "\n",
    "    # словарь для модели KNeighborsClassifier() \n",
    "    {\n",
    "        'models': [KNeighborsClassifier(weights='distance')],\n",
    "        'models__n_neighbors': range(2, 10),\n",
    "        'preprocessor__num': [\n",
    "            StandardScaler(),\n",
    "            MinMaxScaler(),\n",
    "            RobustScaler(),\n",
    "            'passthrough']   \n",
    "    },\n",
    "\n",
    "    # словарь для модели LogisticRegression()\n",
    "    {\n",
    "        'models': [LogisticRegression(\n",
    "            random_state=RANDOM_STATE, \n",
    "            solver='liblinear', \n",
    "            penalty='l1'\n",
    "        )],\n",
    "        'models__C': range(1, 10),\n",
    "        'preprocessor__num': [\n",
    "            StandardScaler(), \n",
    "            MinMaxScaler(), \n",
    "            RobustScaler(), \n",
    "            'passthrough'\n",
    "        ]  \n",
    "    },\n",
    "    # словарь для модели SVC() \n",
    "   {\n",
    "       'models': [SVC(random_state=RANDOM_STATE,\n",
    "                      class_weight='balanced',\n",
    "                      kernel='poly',\n",
    "                      probability=True)],\n",
    "       'models__C': range(2, 10),\n",
    "       'preprocessor__num': [\n",
    "           StandardScaler(),\n",
    "           MinMaxScaler(),\n",
    "           RobustScaler(),\n",
    "           'passthrough'\n",
    "       ]  \n",
    "\n",
    "    }\n",
    "]"
   ]
  },
  {
   "cell_type": "markdown",
   "metadata": {},
   "source": [
    "### Выберем лучшую модель и параметры с помощью `RandomizedSearchCV()`"
   ]
  },
  {
   "cell_type": "markdown",
   "metadata": {},
   "source": [
    "В случае задачи компании «В один клик», где целью является увеличение покупательской активности постоянных клиентов, более подходящей метрикой будет `ROC AUC`. Это связано с тем, что важно выявить клиентов, которые склонны к совершению покупок, и предложить им персонализированные предложения, даже если это может привести к некоторому увеличению ложноположительных результатов. Таким образом, `ROC AUC` поможет оценить, насколько хорошо модель различает между клиентами, которые совершат покупку, и теми, кто этого не сделает.\n",
    "\n",
    "Рассчитаем метрику `ROC AUC` для тренировочной и тестовой выборок"
   ]
  },
  {
   "cell_type": "code",
   "execution_count": null,
   "metadata": {
    "scrolled": false
   },
   "outputs": [],
   "source": [
    "# определяем объект RandomizedSearchCV\n",
    "randomized_search = RandomizedSearchCV(\n",
    "    pipe_final, \n",
    "    param_grid, \n",
    "    cv=5,\n",
    "    scoring='roc_auc',\n",
    "    random_state=RANDOM_STATE,\n",
    "    n_jobs=-1\n",
    ")\n",
    "# запускаем поиск по сетке\n",
    "randomized_search.fit(X_train, y_train)\n",
    "\n",
    "# получаем лучшую модель\n",
    "best_model = randomized_search.best_estimator_\n",
    "\n",
    "# рассчитываем прогноз вероятностей классов на тестовых данных\n",
    "probabilities = best_model.predict_proba(X_test)\n",
    "probabilities_one = probabilities[:, 1]\n",
    "\n",
    "# выводим результаты\n",
    "print('Лучшая модель и её параметры:\\n\\n', best_model)\n",
    "print(f'Метрика ROC-AUC лучшей модели на тренировочной выборке: {randomized_search.best_score_}')\n",
    "print(f'Площадь ROC-кривой лучшей модели на тестовой выборке:', roc_auc_score(y_test, probabilities_one))"
   ]
  },
  {
   "cell_type": "markdown",
   "metadata": {},
   "source": [
    "## Анализ важности признаков"
   ]
  },
  {
   "cell_type": "markdown",
   "metadata": {},
   "source": [
    "### Оценим важность признаков для лучшей модели и построим график важности с помощью метода `SHAP`"
   ]
  },
  {
   "cell_type": "code",
   "execution_count": null,
   "metadata": {},
   "outputs": [],
   "source": [
    "# обучаем ColumnTransformer на тестовых данных\n",
    "data_preprocessor.fit(X_test)\n",
    "\n",
    "# применяем предварительную обработку данных к тестовому набору данных\n",
    "X_test_processed = best_model['preprocessor'].transform(X_test)\n",
    "\n",
    "# создаем explainer для модели\n",
    "explainer = shap.LinearExplainer(best_model['models'], X_test_processed)\n",
    "\n",
    "# получаем имена колонок после кодирования OneHotEncoder\n",
    "ohe_column_names = list(\n",
    "    data_preprocessor\n",
    "    .named_transformers_['ohe']['ohe']\n",
    "    .get_feature_names(input_features=ohe_columns))\n",
    "\n",
    "# получаем имена колонок после кодирования OrdinalEncoder\n",
    "ord_column_names = ord_columns\n",
    "\n",
    "# получаем имена числовых признаков\n",
    "num_column_names = num_columns\n",
    "\n",
    "# объединяем имена всех колонок\n",
    "feature_names = ohe_column_names + ord_column_names + num_column_names\n",
    "\n",
    "# преобразуем имена признаков в DataFrame\n",
    "X_test_processed = pd.DataFrame(X_test_processed, columns=feature_names)\n",
    "\n",
    "# получаем SHAP значения для предварительно обработанных данных\n",
    "shap_values = explainer(X_test_processed)\n",
    "\n",
    "# строим график SHAP значений\n",
    "shap.plots.beeswarm(shap_values, max_display=20)"
   ]
  },
  {
   "cell_type": "markdown",
   "metadata": {},
   "source": [
    "### Вывод\n",
    "* Признаки мало значимые для модели: `разрешить_сообщать_нет`, `популярная_категория_Кухонная посуда`, `маркет_актив_тек_мес`, `популярная_категория_Товары для детей`, `ошибка_сервиса`, `тип_сервиса`. Можно рассмотреть возможность удаления этих признаков из модели, чтобы уменьшить сложность модели и улучшить её интерпретируемость. \n",
    "* Признаки сильнее всего влияющие на целевой признак: `страниц_за_визит`, `средний_просмотр_категорий_за_визит`, `маркет_актив_6_мес`, `неоплаченные_продукты_штук_квартал`, `покупают_по_акции`. Количество `неоплаченные_продукты_штук_квартал` отрицательно влияет на целевой признак. Признаки сильнее всего влияющие на целевой признак могут быть ключевыми для понимания поведения целевой переменной и её предсказания. При их использовании в модели можно ожидать более точных прогнозов. Для бизнеса это означает, что эти признаки могут быть факторами, которые следует учитывать при разработке стратегий маркетинга, улучшении пользовательского опыта или оптимизации продуктов и услуг. На основе этих признаков можно сформировать более точные и персонализированные стратегии взаимодействия с клиентами или улучшения продуктовых характеристик в соответствии с предпочтениями клиентов."
   ]
  },
  {
   "cell_type": "markdown",
   "metadata": {},
   "source": [
    "## Сегментация покупателей"
   ]
  },
  {
   "cell_type": "markdown",
   "metadata": {},
   "source": [
    "### Выполним сегментацию покупателей"
   ]
  },
  {
   "cell_type": "markdown",
   "metadata": {},
   "source": [
    "Используем результаты моделирования и данные о прибыльности покупателей"
   ]
  },
  {
   "cell_type": "code",
   "execution_count": null,
   "metadata": {},
   "outputs": [],
   "source": [
    "# важные признаки\n",
    "important_features = ['страниц_за_визит',\n",
    "                      'средний_просмотр_категорий_за_визит',\n",
    "                      'маркет_актив_6_мес',\n",
    "                      'неоплаченные_продукты_штук_квартал',\n",
    "                      'акционные_покупки']"
   ]
  },
  {
   "cell_type": "code",
   "execution_count": null,
   "metadata": {},
   "outputs": [],
   "source": [
    "# получаем вероятности прогнозов для всех данных из market\n",
    "probabilities_all = best_model.predict_proba(market_p.drop('покупательская_активность', axis=1))\n",
    "\n",
    "# получаем вероятности прогнозов для класса \"0\" (отрицательный класс)\n",
    "probabilities_zero_all = probabilities_all[:, 0]"
   ]
  },
  {
   "cell_type": "code",
   "execution_count": null,
   "metadata": {},
   "outputs": [],
   "source": [
    "# создаем новый столбец в датафрейме market и заполняем его значениями вероятностей прогнозов\n",
    "market['вероятность_снижения'] = probabilities_zero_all"
   ]
  },
  {
   "cell_type": "code",
   "execution_count": null,
   "metadata": {},
   "outputs": [],
   "source": [
    "market['прибыль'] = market['выручка_препредыдущий_месяц'] + \\\n",
    "market['выручка_предыдущий_месяц'] + \\\n",
    "market['выручка_текущий_месяц']"
   ]
  },
  {
   "cell_type": "code",
   "execution_count": null,
   "metadata": {},
   "outputs": [],
   "source": [
    "market.head()"
   ]
  },
  {
   "cell_type": "code",
   "execution_count": null,
   "metadata": {},
   "outputs": [],
   "source": [
    "# определение числа столбцов и строк для размещения графиков\n",
    "num_cols = 2\n",
    "num_rows = (len(important_features) + 1) // num_cols\n",
    "\n",
    "# создание фигуры и осей\n",
    "fig, axes = plt.subplots(num_rows,\n",
    "                         num_cols,\n",
    "                         figsize=(15, 6 * num_rows))\n",
    "axes = axes.flatten()\n",
    "\n",
    "# построение графиков для каждого признака\n",
    "for i, feature in enumerate(important_features):\n",
    "    sns.scatterplot(\n",
    "        data=market,\n",
    "        x='вероятность_снижения',\n",
    "        y='прибыль',\n",
    "        hue=feature,\n",
    "        ax=axes[i],\n",
    "        palette='viridis' \n",
    "    )\n",
    "    axes[i].set_title(feature)\n",
    "    axes[i].set_xlabel('Вероятность предсказания снижения активности')\n",
    "    axes[i].set_ylabel('Прибыль за 3 месяца')\n",
    "    axes[i].legend(title=feature)\n",
    "\n",
    "# убедимся, что последние оставшиеся оси скрыты\n",
    "for j in range(i + 1, num_rows * num_cols):\n",
    "    fig.delaxes(axes[j])\n",
    "\n",
    "# добавление общего заголовка с отступом\n",
    "fig.suptitle('Корреляция выручки с наиболее важными признаками',\n",
    "             fontsize=16,\n",
    "             y=1.01)\n",
    "\n",
    "plt.tight_layout()\n",
    "plt.show()"
   ]
  },
  {
   "cell_type": "markdown",
   "metadata": {},
   "source": [
    "Исходя из диаграмм корреляции, мы можем выделить следующие сегменты клиентов:\n",
    "\n",
    "* Активные клиенты:\n",
    " * посещают более 4 страниц за визит (страниц_за_визит > 4)\n",
    " * просматривают более 3 категорий за визит (средний_просмотр_категорий_за_визит > 3)\n",
    " * активны в течение последних 6 месяцев (маркет_актив_6_мес > 4)\n",
    " * имеют менее 6 неоплаченных продуктов за квартал (неоплаченные_продукты_шт_квартал > 6)\n",
    " * не часто приобретают товары по акции (покупают_по_акции < 0.9)\n",
    "\n",
    "\n",
    "* Склонные к снижению активности:\n",
    " * посещают менее 4 страниц за визит (страниц_за_визит <= 4)\n",
    " * просматривают менее 3 категорий за визит (средний_просмотр_категорий_за_визит <= 3)\n",
    " * менее активны в течение последних 6 месяцев (маркет_актив_6_мес <= 4)\n",
    " * имеют более 6 неоплаченных продуктов за квартал (неоплаченные_продукты_шт_квартал >= 6)\n",
    " * часто приобретают товары по акции (покупают_по_акции >= 0.9)\n",
    " "
   ]
  },
  {
   "cell_type": "markdown",
   "metadata": {},
   "source": [
    "### Выберем группу покупателей и предложим, как увеличить её покупательскую активность "
   ]
  },
  {
   "cell_type": "markdown",
   "metadata": {},
   "source": [
    "Выберем группу клиентов, которые часто приобретают товары по акции (покупают_по_акции >= 0.9)"
   ]
  },
  {
   "cell_type": "code",
   "execution_count": null,
   "metadata": {},
   "outputs": [],
   "source": [
    "market.head()"
   ]
  },
  {
   "cell_type": "code",
   "execution_count": null,
   "metadata": {},
   "outputs": [],
   "source": [
    "market_a = market.query('акционные_покупки > 0.9 & вероятность_снижения > 0.8')"
   ]
  },
  {
   "cell_type": "markdown",
   "metadata": {},
   "source": [
    "Построим графики для каждого категориального признака, для выбранной группы покупателей и для всех покупателей"
   ]
  },
  {
   "cell_type": "code",
   "execution_count": null,
   "metadata": {
    "scrolled": false
   },
   "outputs": [],
   "source": [
    "columns = market_a.select_dtypes(exclude='number').columns.to_list()\n",
    "columns.remove('покупательская_активность')\n",
    "\n",
    "for col in columns:\n",
    "    print(col)\n",
    "    fig, axes = plt.subplots(1, 2, figsize=(12, 6))\n",
    "    \n",
    "    sns.countplot(x=col, data=market_a, order=market[col].value_counts().index, ax=axes[0])\n",
    "    axes[0].set_xlabel(col)\n",
    "    axes[0].set_ylabel('Количество')\n",
    "    axes[0].set_title('Исследуемый сегмент пользователей')\n",
    "    axes[0].set_xticklabels(axes[0].get_xticklabels(), rotation=90)\n",
    "    \n",
    "    sns.countplot(x=col, data=market, order=market[col].value_counts().index, ax=axes[1])\n",
    "    axes[1].set_xlabel(col)\n",
    "    axes[1].set_ylabel('Количество')\n",
    "    axes[1].set_title('Все пользователи')\n",
    "    axes[1].set_xticklabels(axes[1].get_xticklabels(), rotation=90)\n",
    "    \n",
    "    plt.tight_layout()\n",
    "    plt.show()\n",
    "    \n",
    "    print(f'Исследуемый сегмент пользователей')\n",
    "    print(market_a[col].value_counts())\n",
    "    print()\n",
    "    print(f'Все пользователи')\n",
    "    print(market[col].value_counts())\n",
    "    print()"
   ]
  },
  {
   "cell_type": "markdown",
   "metadata": {},
   "source": [
    "Среди выбранной группы клиентов, в сравнении с остальными клиентами, менее популярны группы товаров:\n",
    "\n",
    "* домашний текстиль\n",
    "* техника для красоты и здоровья\n",
    "* мелкая бытовая техника и электроника"
   ]
  },
  {
   "cell_type": "markdown",
   "metadata": {},
   "source": [
    "Сравним среднее количество маректинговых предложений для всех клиентов и для выбранной группы"
   ]
  },
  {
   "cell_type": "code",
   "execution_count": null,
   "metadata": {},
   "outputs": [],
   "source": [
    "print(f'для выбранной группы покупателей: {market_a[\"маркет_актив_6_мес\"].mean()}')\n",
    "print(f'для всех покупателей: {market[\"маркет_актив_6_мес\"].mean()}')"
   ]
  },
  {
   "cell_type": "markdown",
   "metadata": {},
   "source": [
    "Выбранной группе покупателей поступает меньше маркетинговых предложений, хотя процент согласий на получение таких предложений в этих группах схож"
   ]
  },
  {
   "cell_type": "markdown",
   "metadata": {},
   "source": [
    "### Вывод\n",
    "* для дополнительного исследования мы выбрали группу покупателей, которые в основном приобретают товар по акции\n",
    "* для увеличения покупательской активности, можно попробовать рассылать более персонафицированные предложения товаров по акции, в данной группе клиентов, в сравнении со всеми клиентами, менее популярны домашний текстиль, техника для красоты и здоровья, мелкая бытовая техника и электроника, возможно на эти группы товара реже предлагаются акции, для увеличения покупательской активности данных пользователей можно попробовать увеличить количество акций на эти группы товаров"
   ]
  },
  {
   "cell_type": "markdown",
   "metadata": {},
   "source": [
    "## Общий вывод"
   ]
  },
  {
   "cell_type": "markdown",
   "metadata": {},
   "source": [
    "**Задача:**\n",
    "\n",
    "Цель проекта состоит в разработке решения, которое позволит персонализировать предложения для постоянных клиентов интернет-магазина \"В один клик\" с целью увеличения их покупательской активности.\n",
    "\n",
    "**Исходные данные и предобработка:**\n",
    "\n",
    "Для анализа доступны несколько таблиц данных:\n",
    "\n",
    "* `market_file.csv`: содержит информацию о поведении покупателей на сайте, коммуникациях с ними и их продуктовом поведении.\n",
    "* `market_money.csv`: данные о выручке, полученной от покупателей.\n",
    "* `market_time.csv`: информация о времени, проведенном покупателями на сайте.\n",
    "* `money.csv`: данные о среднемесячной прибыли от каждого покупателя.\n",
    "\n",
    "**Предобработка данных включала в себя:**\n",
    "\n",
    "Исходные данные представлены несколькими таблицами, содержащими информацию о поведении покупателей, выручке, времени на сайте и среднемесячной прибыли. Предобработка данных включала в себя удаление неявных дубликатов, аномальных значений и объединение таблиц. Также были удалены неактивные в течение 3 месяцев пользователи. Были добавлены новые признаки: динамика_минут (разница времени, проведённого на сайте, между текущим и предыдущим месяцами) и динамика_выручки (разница выручки между текущим и предыдущим месяцами). \n",
    "\n",
    "**Поиск лучшей модели:** \n",
    "\n",
    "Для поиска лучшей модели использовался подход `RandomizedSearchCV` с использованием различных моделей классификации, таких как `DecisionTreeClassifier`, `KNeighborsClassifier`, `LogisticRegression` и `SVC`. Для кодирования использовались методы `OneHotEncoder` (для бинарных и категориальных признаков) и `OrdinalEncoder` (для упорядоченных категориальных признаков). Также было применено масштабирование числовых признаков с использованием методов `StandardScaler()`, `MinMaxScaler()`, `RobustScaler()`. Для каждой модели определялись наилучшие гиперпараметры с использованием метрики `ROC-AUC`.\n",
    "\n",
    "**Лучшая модель:**\n",
    "\n",
    "Наилучшей моделью оказалась `LogisticRegression` с регуляризацией `L1` и параметром `C=2`.\n",
    "\n",
    "**Выводы и предложения:**\n",
    "\n",
    "* Проведенный анализ данных позволил выделить ряд важных признаков, оказывающих сильное влияние на покупательскую активность: количество просмотренных страниц за визит, средний просмотр категорий за визит, количество маркетинговых активностей за последние 6 месяцев, количество неоплаченных продуктов в квартал и факт покупок по акции.\n",
    "* Результаты анализа позволяют сделать вывод о необходимости разработки и внедрения персонализированных предложений для постоянных клиентов. Это может стать ключевым фактором в увеличении их покупательской активности и улучшении общих показателей продаж.\n",
    "* Провели сегментацию постоянных клиентов:\n",
    " 1. Активные клиенты:\n",
    "  * посещают более 4 страниц за визит (страниц_за_визит > 4)\n",
    "  * просматривают более 3 категорий за визит (средний_просмотр_категорий_за_визит > 3)\n",
    "  * активны в течение последних 6 месяцев (маркет_актив6мес > 4)\n",
    "  * имеют менее 6 неоплаченных продуктов за квартал (неоплаченные_продукты_шт_квартал > 6)\n",
    "  * не часто приобретают товары по акции (покупают_по_акции < 0.9)\n",
    " 2. Склонные к снижению активности:\n",
    "  * посещают менее 4 страниц за визит (страниц_за_визит <= 4)\n",
    "  * просматривают менее 3 категорий за визит (средний_просмотр_категорий_за_визит <= 3)\n",
    "  * менее активны в течение последних 6 месяцев (маркет_актив6мес <= 4)\n",
    "  * имеют более 6 неоплаченных продуктов за квартал (неоплаченные_продукты_шт_квартал >= 6)\n",
    "  * часто приобретают товары по акции (покупают_по_акции >= 0.9)\n",
    "* Это позволит более точно настраивать персонализированные предложения и адаптировать маркетинговые стратегии к особенностям каждого сегмента.\n",
    "* Для группы покупателей, приобретающих товары по акции, рекомендуется предложить более персонализированные акционные товары. Также, предположив, что эти клиенты получают мало акционных предложений на домашний текстиль, техника для красоты и здоровья, мелкая бытовая техника и электроника, следует рассмотреть возможность увеличения предложений на данные группы товаров в рамках маркетинговых акций.\n",
    "* Для поиска новых подходов к увеличению активности покупателей важно продолжать мониторинг и анализ данных. Это позволит выявить изменения в покупательском поведении и своевременно реагировать на них."
   ]
  }
 ],
 "metadata": {
  "ExecuteTimeLog": [
   {
    "duration": 63,
    "start_time": "2024-04-25T04:57:48.693Z"
   },
   {
    "duration": 1638,
    "start_time": "2024-04-25T04:58:16.573Z"
   },
   {
    "duration": 133,
    "start_time": "2024-04-25T04:58:36.677Z"
   },
   {
    "duration": 127,
    "start_time": "2024-04-25T04:58:39.038Z"
   },
   {
    "duration": 83,
    "start_time": "2024-04-25T04:58:39.474Z"
   },
   {
    "duration": 75,
    "start_time": "2024-04-25T04:58:39.850Z"
   },
   {
    "duration": 11,
    "start_time": "2024-04-25T04:58:48.773Z"
   },
   {
    "duration": 32,
    "start_time": "2024-04-25T04:59:04.945Z"
   },
   {
    "duration": 21,
    "start_time": "2024-04-25T04:59:08.049Z"
   },
   {
    "duration": 6,
    "start_time": "2024-04-25T04:59:21.072Z"
   },
   {
    "duration": 34,
    "start_time": "2024-04-25T04:59:37.816Z"
   },
   {
    "duration": 8,
    "start_time": "2024-04-25T04:59:40.507Z"
   },
   {
    "duration": 32,
    "start_time": "2024-04-25T05:00:00.746Z"
   },
   {
    "duration": 26,
    "start_time": "2024-04-25T05:00:01.261Z"
   },
   {
    "duration": 7,
    "start_time": "2024-04-25T05:00:10.703Z"
   },
   {
    "duration": 9,
    "start_time": "2024-04-25T05:00:18.495Z"
   },
   {
    "duration": 36,
    "start_time": "2024-04-25T05:01:01.279Z"
   },
   {
    "duration": 7,
    "start_time": "2024-04-25T05:01:01.664Z"
   },
   {
    "duration": 36,
    "start_time": "2024-04-25T05:01:13.196Z"
   },
   {
    "duration": 10,
    "start_time": "2024-04-25T05:01:14.653Z"
   },
   {
    "duration": 4,
    "start_time": "2024-04-25T05:03:07.017Z"
   },
   {
    "duration": 69,
    "start_time": "2024-04-25T05:07:48.844Z"
   },
   {
    "duration": 65,
    "start_time": "2024-04-25T05:08:20.678Z"
   },
   {
    "duration": 4,
    "start_time": "2024-04-25T06:59:50.336Z"
   },
   {
    "duration": 81,
    "start_time": "2024-04-25T07:01:17.448Z"
   },
   {
    "duration": 3,
    "start_time": "2024-04-25T07:01:52.403Z"
   },
   {
    "duration": 32,
    "start_time": "2024-04-25T07:01:53.076Z"
   },
   {
    "duration": 4,
    "start_time": "2024-04-25T07:11:22.943Z"
   },
   {
    "duration": 71,
    "start_time": "2024-04-25T07:12:25.525Z"
   },
   {
    "duration": 74,
    "start_time": "2024-04-25T07:13:14.593Z"
   },
   {
    "duration": 4,
    "start_time": "2024-04-25T07:14:33.071Z"
   },
   {
    "duration": 30,
    "start_time": "2024-04-25T07:14:34.815Z"
   },
   {
    "duration": 4,
    "start_time": "2024-04-25T07:14:51.863Z"
   },
   {
    "duration": 64,
    "start_time": "2024-04-25T07:15:04.454Z"
   },
   {
    "duration": 4,
    "start_time": "2024-04-25T07:21:13.962Z"
   },
   {
    "duration": 31,
    "start_time": "2024-04-25T07:23:31.295Z"
   },
   {
    "duration": 4,
    "start_time": "2024-04-25T07:24:52.617Z"
   },
   {
    "duration": 13,
    "start_time": "2024-04-25T07:25:24.746Z"
   },
   {
    "duration": 3,
    "start_time": "2024-04-25T07:27:06.689Z"
   },
   {
    "duration": 13,
    "start_time": "2024-04-25T07:27:07.409Z"
   },
   {
    "duration": 30,
    "start_time": "2024-04-25T07:29:13.977Z"
   },
   {
    "duration": 19,
    "start_time": "2024-04-25T07:29:14.808Z"
   },
   {
    "duration": 28,
    "start_time": "2024-04-25T07:29:15.341Z"
   },
   {
    "duration": 26,
    "start_time": "2024-04-25T07:29:15.720Z"
   },
   {
    "duration": 70,
    "start_time": "2024-04-25T07:29:21.089Z"
   },
   {
    "duration": 3,
    "start_time": "2024-04-25T07:29:28.030Z"
   },
   {
    "duration": 33,
    "start_time": "2024-04-25T07:29:28.788Z"
   },
   {
    "duration": 3,
    "start_time": "2024-04-25T07:29:33.569Z"
   },
   {
    "duration": 14,
    "start_time": "2024-04-25T07:29:34.561Z"
   },
   {
    "duration": 5,
    "start_time": "2024-04-25T07:32:01.177Z"
   },
   {
    "duration": 89,
    "start_time": "2024-04-25T07:32:01.817Z"
   },
   {
    "duration": 7,
    "start_time": "2024-04-25T07:32:02.292Z"
   },
   {
    "duration": 4,
    "start_time": "2024-04-25T07:32:11.294Z"
   },
   {
    "duration": 13,
    "start_time": "2024-04-25T07:32:17.485Z"
   },
   {
    "duration": 3,
    "start_time": "2024-04-25T07:35:58.889Z"
   },
   {
    "duration": 13,
    "start_time": "2024-04-25T07:36:00.266Z"
   },
   {
    "duration": 2,
    "start_time": "2024-04-25T07:38:37.367Z"
   },
   {
    "duration": 4,
    "start_time": "2024-04-25T07:43:58.558Z"
   },
   {
    "duration": 110,
    "start_time": "2024-04-25T07:44:03.057Z"
   },
   {
    "duration": 5,
    "start_time": "2024-04-25T07:45:49.722Z"
   },
   {
    "duration": 6,
    "start_time": "2024-04-25T07:45:55.002Z"
   },
   {
    "duration": 15,
    "start_time": "2024-04-25T07:46:27.645Z"
   },
   {
    "duration": 5,
    "start_time": "2024-04-25T07:47:15.806Z"
   },
   {
    "duration": 10,
    "start_time": "2024-04-25T07:47:19.784Z"
   },
   {
    "duration": 41,
    "start_time": "2024-04-25T07:47:29.450Z"
   },
   {
    "duration": 4,
    "start_time": "2024-04-25T07:47:32.150Z"
   },
   {
    "duration": 10,
    "start_time": "2024-04-25T07:47:32.349Z"
   },
   {
    "duration": 4,
    "start_time": "2024-04-25T07:48:26.754Z"
   },
   {
    "duration": 18,
    "start_time": "2024-04-25T07:49:55.524Z"
   },
   {
    "duration": 12,
    "start_time": "2024-04-25T07:59:46.128Z"
   },
   {
    "duration": 7,
    "start_time": "2024-04-25T08:00:18.272Z"
   },
   {
    "duration": 7,
    "start_time": "2024-04-25T08:00:21.440Z"
   },
   {
    "duration": 11,
    "start_time": "2024-04-25T08:00:24.408Z"
   },
   {
    "duration": 12,
    "start_time": "2024-04-25T08:00:29.307Z"
   },
   {
    "duration": 7,
    "start_time": "2024-04-25T08:00:47.408Z"
   },
   {
    "duration": 5,
    "start_time": "2024-04-25T08:01:29.313Z"
   },
   {
    "duration": 6,
    "start_time": "2024-04-25T08:01:38.349Z"
   },
   {
    "duration": 4,
    "start_time": "2024-04-25T08:01:43.268Z"
   },
   {
    "duration": 4,
    "start_time": "2024-04-25T08:01:54.288Z"
   },
   {
    "duration": 4,
    "start_time": "2024-04-25T08:01:59.327Z"
   },
   {
    "duration": 4,
    "start_time": "2024-04-25T08:02:11.369Z"
   },
   {
    "duration": 5,
    "start_time": "2024-04-25T08:02:14.892Z"
   },
   {
    "duration": 4,
    "start_time": "2024-04-25T08:03:16.275Z"
   },
   {
    "duration": 6,
    "start_time": "2024-04-25T08:03:19.468Z"
   },
   {
    "duration": 4,
    "start_time": "2024-04-25T08:03:20.508Z"
   },
   {
    "duration": 6,
    "start_time": "2024-04-25T08:04:56.624Z"
   },
   {
    "duration": 4,
    "start_time": "2024-04-25T08:04:57.172Z"
   },
   {
    "duration": 14,
    "start_time": "2024-04-25T08:05:46.595Z"
   },
   {
    "duration": 10,
    "start_time": "2024-04-25T08:06:05.683Z"
   },
   {
    "duration": 9,
    "start_time": "2024-04-25T08:06:14.655Z"
   },
   {
    "duration": 11,
    "start_time": "2024-04-25T08:06:30.507Z"
   },
   {
    "duration": 8,
    "start_time": "2024-04-25T08:06:37.867Z"
   },
   {
    "duration": 6,
    "start_time": "2024-04-25T08:08:43.597Z"
   },
   {
    "duration": 6,
    "start_time": "2024-04-25T08:10:03.620Z"
   },
   {
    "duration": 10,
    "start_time": "2024-04-25T08:14:51.229Z"
   },
   {
    "duration": 9,
    "start_time": "2024-04-25T08:15:32.212Z"
   },
   {
    "duration": 13,
    "start_time": "2024-04-25T08:15:32.685Z"
   },
   {
    "duration": 11,
    "start_time": "2024-04-25T08:16:39.972Z"
   },
   {
    "duration": 9,
    "start_time": "2024-04-25T08:16:42.699Z"
   },
   {
    "duration": 4,
    "start_time": "2024-04-25T08:21:38.011Z"
   },
   {
    "duration": 5,
    "start_time": "2024-04-25T08:21:38.770Z"
   },
   {
    "duration": 5,
    "start_time": "2024-04-25T08:21:39.315Z"
   },
   {
    "duration": 13,
    "start_time": "2024-04-25T08:22:20.655Z"
   },
   {
    "duration": 12,
    "start_time": "2024-04-25T08:22:23.686Z"
   },
   {
    "duration": 7,
    "start_time": "2024-04-25T08:22:52.647Z"
   },
   {
    "duration": 7,
    "start_time": "2024-04-25T08:22:53.859Z"
   },
   {
    "duration": 9,
    "start_time": "2024-04-25T08:24:39.891Z"
   },
   {
    "duration": 16,
    "start_time": "2024-04-25T08:32:09.242Z"
   },
   {
    "duration": 14,
    "start_time": "2024-04-25T08:32:19.606Z"
   },
   {
    "duration": 11,
    "start_time": "2024-04-25T08:32:27.121Z"
   },
   {
    "duration": 8,
    "start_time": "2024-04-25T08:32:51.905Z"
   },
   {
    "duration": 3,
    "start_time": "2024-04-25T08:33:10.946Z"
   },
   {
    "duration": 14,
    "start_time": "2024-04-25T08:33:23.757Z"
   },
   {
    "duration": 6,
    "start_time": "2024-04-25T08:33:44.529Z"
   },
   {
    "duration": 4,
    "start_time": "2024-04-25T08:33:44.990Z"
   },
   {
    "duration": 15,
    "start_time": "2024-04-25T08:33:45.533Z"
   },
   {
    "duration": 4,
    "start_time": "2024-04-25T08:34:02.773Z"
   },
   {
    "duration": 8,
    "start_time": "2024-04-25T08:34:29.691Z"
   },
   {
    "duration": 4,
    "start_time": "2024-04-25T08:34:38.804Z"
   },
   {
    "duration": 3,
    "start_time": "2024-04-25T08:34:43.962Z"
   },
   {
    "duration": 4,
    "start_time": "2024-04-25T08:34:53.985Z"
   },
   {
    "duration": 13,
    "start_time": "2024-04-25T08:38:20.342Z"
   },
   {
    "duration": 7,
    "start_time": "2024-04-25T08:38:26.868Z"
   },
   {
    "duration": 7,
    "start_time": "2024-04-25T08:39:27.472Z"
   },
   {
    "duration": 4,
    "start_time": "2024-04-25T08:40:06.985Z"
   },
   {
    "duration": 30,
    "start_time": "2024-04-25T08:40:09.401Z"
   },
   {
    "duration": 29,
    "start_time": "2024-04-25T08:40:10.925Z"
   },
   {
    "duration": 27,
    "start_time": "2024-04-25T08:40:13.329Z"
   },
   {
    "duration": 36,
    "start_time": "2024-04-25T08:40:17.244Z"
   },
   {
    "duration": 5,
    "start_time": "2024-04-25T08:40:19.389Z"
   },
   {
    "duration": 76,
    "start_time": "2024-04-25T08:40:20.989Z"
   },
   {
    "duration": 3,
    "start_time": "2024-04-25T08:40:54.222Z"
   },
   {
    "duration": 33,
    "start_time": "2024-04-25T08:40:55.109Z"
   },
   {
    "duration": 3,
    "start_time": "2024-04-25T08:40:59.285Z"
   },
   {
    "duration": 13,
    "start_time": "2024-04-25T08:41:01.105Z"
   },
   {
    "duration": 4,
    "start_time": "2024-04-25T08:41:19.905Z"
   },
   {
    "duration": 4,
    "start_time": "2024-04-25T08:41:20.469Z"
   },
   {
    "duration": 5,
    "start_time": "2024-04-25T08:41:21.093Z"
   },
   {
    "duration": 4,
    "start_time": "2024-04-25T08:41:23.809Z"
   },
   {
    "duration": 82,
    "start_time": "2024-04-25T08:41:24.441Z"
   },
   {
    "duration": 5,
    "start_time": "2024-04-25T08:41:26.505Z"
   },
   {
    "duration": 9,
    "start_time": "2024-04-25T08:41:27.105Z"
   },
   {
    "duration": 13,
    "start_time": "2024-04-25T08:41:27.567Z"
   },
   {
    "duration": 9,
    "start_time": "2024-04-25T08:41:28.277Z"
   },
   {
    "duration": 7,
    "start_time": "2024-04-25T08:41:29.192Z"
   },
   {
    "duration": 4,
    "start_time": "2024-04-25T08:41:34.969Z"
   },
   {
    "duration": 3,
    "start_time": "2024-04-25T08:41:35.422Z"
   },
   {
    "duration": 4,
    "start_time": "2024-04-25T08:41:35.973Z"
   },
   {
    "duration": 7,
    "start_time": "2024-04-25T08:42:44.869Z"
   },
   {
    "duration": 7,
    "start_time": "2024-04-25T08:42:50.466Z"
   },
   {
    "duration": 14,
    "start_time": "2024-04-25T08:43:21.695Z"
   },
   {
    "duration": 9,
    "start_time": "2024-04-25T08:43:22.162Z"
   },
   {
    "duration": 12,
    "start_time": "2024-04-25T08:44:16.627Z"
   },
   {
    "duration": 9,
    "start_time": "2024-04-25T08:44:16.946Z"
   },
   {
    "duration": 7,
    "start_time": "2024-04-25T08:44:34.348Z"
   },
   {
    "duration": 12,
    "start_time": "2024-04-25T08:44:49.614Z"
   },
   {
    "duration": 8,
    "start_time": "2024-04-25T08:44:59.539Z"
   },
   {
    "duration": 6,
    "start_time": "2024-04-25T08:46:13.214Z"
   },
   {
    "duration": 4,
    "start_time": "2024-04-25T08:47:09.422Z"
   },
   {
    "duration": 16,
    "start_time": "2024-04-25T08:47:10.020Z"
   },
   {
    "duration": 3,
    "start_time": "2024-04-25T08:47:20.082Z"
   },
   {
    "duration": 7,
    "start_time": "2024-04-25T08:48:18.806Z"
   },
   {
    "duration": 16,
    "start_time": "2024-04-25T08:48:19.774Z"
   },
   {
    "duration": 4,
    "start_time": "2024-04-25T08:48:50.154Z"
   },
   {
    "duration": 16,
    "start_time": "2024-04-25T08:48:50.802Z"
   },
   {
    "duration": 3,
    "start_time": "2024-04-25T08:48:57.827Z"
   },
   {
    "duration": 14,
    "start_time": "2024-04-25T09:00:54.388Z"
   },
   {
    "duration": 3631,
    "start_time": "2024-04-25T09:01:44.723Z"
   },
   {
    "duration": 44,
    "start_time": "2024-04-25T09:01:57.555Z"
   },
   {
    "duration": 2449,
    "start_time": "2024-04-25T09:02:55.155Z"
   },
   {
    "duration": 4,
    "start_time": "2024-04-25T09:03:02.379Z"
   },
   {
    "duration": 4,
    "start_time": "2024-04-25T09:03:16.015Z"
   },
   {
    "duration": 18,
    "start_time": "2024-04-25T09:03:42.496Z"
   },
   {
    "duration": 14,
    "start_time": "2024-04-25T09:03:47.731Z"
   },
   {
    "duration": 3,
    "start_time": "2024-04-25T09:06:25.499Z"
   },
   {
    "duration": 1838,
    "start_time": "2024-04-25T09:07:05.271Z"
   },
   {
    "duration": 13,
    "start_time": "2024-04-25T09:08:27.575Z"
   },
   {
    "duration": 4,
    "start_time": "2024-04-25T09:08:43.613Z"
   },
   {
    "duration": 1716,
    "start_time": "2024-04-25T09:08:51.239Z"
   },
   {
    "duration": 3040,
    "start_time": "2024-04-25T09:09:19.631Z"
   },
   {
    "duration": 3300,
    "start_time": "2024-04-25T09:10:07.807Z"
   },
   {
    "duration": 1472,
    "start_time": "2024-04-25T09:10:11.109Z"
   },
   {
    "duration": 32,
    "start_time": "2024-04-25T09:10:12.582Z"
   },
   {
    "duration": 19,
    "start_time": "2024-04-25T09:10:12.616Z"
   },
   {
    "duration": 18,
    "start_time": "2024-04-25T09:10:12.637Z"
   },
   {
    "duration": 25,
    "start_time": "2024-04-25T09:10:12.657Z"
   },
   {
    "duration": 4,
    "start_time": "2024-04-25T09:10:12.683Z"
   },
   {
    "duration": 76,
    "start_time": "2024-04-25T09:10:12.688Z"
   },
   {
    "duration": 4,
    "start_time": "2024-04-25T09:10:12.765Z"
   },
   {
    "duration": 34,
    "start_time": "2024-04-25T09:10:12.771Z"
   },
   {
    "duration": 4,
    "start_time": "2024-04-25T09:10:12.806Z"
   },
   {
    "duration": 50,
    "start_time": "2024-04-25T09:10:12.811Z"
   },
   {
    "duration": 4,
    "start_time": "2024-04-25T09:10:12.862Z"
   },
   {
    "duration": 16,
    "start_time": "2024-04-25T09:10:12.867Z"
   },
   {
    "duration": 8,
    "start_time": "2024-04-25T09:10:12.885Z"
   },
   {
    "duration": 4,
    "start_time": "2024-04-25T09:10:12.894Z"
   },
   {
    "duration": 108,
    "start_time": "2024-04-25T09:10:12.900Z"
   },
   {
    "duration": 4,
    "start_time": "2024-04-25T09:10:13.009Z"
   },
   {
    "duration": 21,
    "start_time": "2024-04-25T09:10:13.015Z"
   },
   {
    "duration": 26,
    "start_time": "2024-04-25T09:10:13.037Z"
   },
   {
    "duration": 16,
    "start_time": "2024-04-25T09:10:13.065Z"
   },
   {
    "duration": 20,
    "start_time": "2024-04-25T09:10:13.083Z"
   },
   {
    "duration": 14,
    "start_time": "2024-04-25T09:10:13.105Z"
   },
   {
    "duration": 20,
    "start_time": "2024-04-25T09:10:13.120Z"
   },
   {
    "duration": 23,
    "start_time": "2024-04-25T09:10:13.142Z"
   },
   {
    "duration": 6,
    "start_time": "2024-04-25T09:10:13.167Z"
   },
   {
    "duration": 16,
    "start_time": "2024-04-25T09:10:13.175Z"
   },
   {
    "duration": 6,
    "start_time": "2024-04-25T09:10:13.194Z"
   },
   {
    "duration": 17,
    "start_time": "2024-04-25T09:10:13.202Z"
   },
   {
    "duration": 9,
    "start_time": "2024-04-25T09:10:13.221Z"
   },
   {
    "duration": 28,
    "start_time": "2024-04-25T09:10:13.231Z"
   },
   {
    "duration": 34,
    "start_time": "2024-04-25T09:10:13.261Z"
   },
   {
    "duration": 7,
    "start_time": "2024-04-25T09:10:13.296Z"
   },
   {
    "duration": 10,
    "start_time": "2024-04-25T09:10:13.305Z"
   },
   {
    "duration": 7,
    "start_time": "2024-04-25T09:10:13.317Z"
   },
   {
    "duration": 24,
    "start_time": "2024-04-25T09:10:13.326Z"
   },
   {
    "duration": 4,
    "start_time": "2024-04-25T09:10:13.352Z"
   },
   {
    "duration": 1814,
    "start_time": "2024-04-25T09:10:13.358Z"
   },
   {
    "duration": 118,
    "start_time": "2024-04-25T09:10:15.174Z"
   },
   {
    "duration": 0,
    "start_time": "2024-04-25T09:10:15.294Z"
   },
   {
    "duration": 2973,
    "start_time": "2024-04-25T09:10:19.638Z"
   },
   {
    "duration": 3436,
    "start_time": "2024-04-25T09:12:28.967Z"
   },
   {
    "duration": 1496,
    "start_time": "2024-04-25T09:12:32.405Z"
   },
   {
    "duration": 31,
    "start_time": "2024-04-25T09:12:33.903Z"
   },
   {
    "duration": 19,
    "start_time": "2024-04-25T09:12:33.936Z"
   },
   {
    "duration": 33,
    "start_time": "2024-04-25T09:12:33.957Z"
   },
   {
    "duration": 25,
    "start_time": "2024-04-25T09:12:33.992Z"
   },
   {
    "duration": 4,
    "start_time": "2024-04-25T09:12:34.019Z"
   },
   {
    "duration": 74,
    "start_time": "2024-04-25T09:12:34.024Z"
   },
   {
    "duration": 4,
    "start_time": "2024-04-25T09:12:34.100Z"
   },
   {
    "duration": 72,
    "start_time": "2024-04-25T09:12:34.107Z"
   },
   {
    "duration": 4,
    "start_time": "2024-04-25T09:12:34.180Z"
   },
   {
    "duration": 45,
    "start_time": "2024-04-25T09:12:34.185Z"
   },
   {
    "duration": 4,
    "start_time": "2024-04-25T09:12:34.232Z"
   },
   {
    "duration": 45,
    "start_time": "2024-04-25T09:12:34.237Z"
   },
   {
    "duration": 8,
    "start_time": "2024-04-25T09:12:34.284Z"
   },
   {
    "duration": 21,
    "start_time": "2024-04-25T09:12:34.293Z"
   },
   {
    "duration": 84,
    "start_time": "2024-04-25T09:12:34.315Z"
   },
   {
    "duration": 5,
    "start_time": "2024-04-25T09:12:34.400Z"
   },
   {
    "duration": 24,
    "start_time": "2024-04-25T09:12:34.406Z"
   },
   {
    "duration": 15,
    "start_time": "2024-04-25T09:12:34.432Z"
   },
   {
    "duration": 25,
    "start_time": "2024-04-25T09:12:34.448Z"
   },
   {
    "duration": 9,
    "start_time": "2024-04-25T09:12:34.475Z"
   },
   {
    "duration": 14,
    "start_time": "2024-04-25T09:12:34.486Z"
   },
   {
    "duration": 12,
    "start_time": "2024-04-25T09:12:34.502Z"
   },
   {
    "duration": 30,
    "start_time": "2024-04-25T09:12:34.515Z"
   },
   {
    "duration": 6,
    "start_time": "2024-04-25T09:12:34.547Z"
   },
   {
    "duration": 8,
    "start_time": "2024-04-25T09:12:34.559Z"
   },
   {
    "duration": 4,
    "start_time": "2024-04-25T09:12:34.570Z"
   },
   {
    "duration": 9,
    "start_time": "2024-04-25T09:12:34.575Z"
   },
   {
    "duration": 4,
    "start_time": "2024-04-25T09:12:34.585Z"
   },
   {
    "duration": 44,
    "start_time": "2024-04-25T09:12:34.591Z"
   },
   {
    "duration": 4,
    "start_time": "2024-04-25T09:12:34.637Z"
   },
   {
    "duration": 12,
    "start_time": "2024-04-25T09:12:34.642Z"
   },
   {
    "duration": 6,
    "start_time": "2024-04-25T09:12:34.655Z"
   },
   {
    "duration": 5,
    "start_time": "2024-04-25T09:12:34.662Z"
   },
   {
    "duration": 18,
    "start_time": "2024-04-25T09:12:34.669Z"
   },
   {
    "duration": 188,
    "start_time": "2024-04-25T09:12:34.688Z"
   },
   {
    "duration": 0,
    "start_time": "2024-04-25T09:12:34.877Z"
   },
   {
    "duration": 3,
    "start_time": "2024-04-25T09:13:08.760Z"
   },
   {
    "duration": 12,
    "start_time": "2024-04-25T09:13:48.831Z"
   },
   {
    "duration": 5,
    "start_time": "2024-04-25T09:14:15.784Z"
   },
   {
    "duration": 1923,
    "start_time": "2024-04-25T09:14:30.253Z"
   },
   {
    "duration": 3038,
    "start_time": "2024-04-25T09:14:33.430Z"
   },
   {
    "duration": 813,
    "start_time": "2024-04-25T09:15:19.975Z"
   },
   {
    "duration": 2599,
    "start_time": "2024-04-25T09:15:21.606Z"
   },
   {
    "duration": 1471,
    "start_time": "2024-04-25T09:15:44.092Z"
   },
   {
    "duration": 13,
    "start_time": "2024-04-25T09:16:33.543Z"
   },
   {
    "duration": 11,
    "start_time": "2024-04-25T09:16:37.491Z"
   },
   {
    "duration": 11,
    "start_time": "2024-04-25T09:16:43.993Z"
   },
   {
    "duration": 1592,
    "start_time": "2024-04-25T09:16:52.974Z"
   },
   {
    "duration": 10,
    "start_time": "2024-04-25T09:17:09.690Z"
   },
   {
    "duration": 1598,
    "start_time": "2024-04-25T09:17:14.057Z"
   },
   {
    "duration": 49,
    "start_time": "2024-04-25T10:49:56.941Z"
   },
   {
    "duration": 3927,
    "start_time": "2024-04-25T10:50:08.230Z"
   },
   {
    "duration": 2573,
    "start_time": "2024-04-25T10:50:12.160Z"
   },
   {
    "duration": 124,
    "start_time": "2024-04-25T10:50:14.735Z"
   },
   {
    "duration": 92,
    "start_time": "2024-04-25T10:50:14.861Z"
   },
   {
    "duration": 70,
    "start_time": "2024-04-25T10:50:14.955Z"
   },
   {
    "duration": 76,
    "start_time": "2024-04-25T10:50:15.027Z"
   },
   {
    "duration": 7,
    "start_time": "2024-04-25T10:50:15.105Z"
   },
   {
    "duration": 242,
    "start_time": "2024-04-25T10:50:15.114Z"
   },
   {
    "duration": 11,
    "start_time": "2024-04-25T10:50:15.357Z"
   },
   {
    "duration": 84,
    "start_time": "2024-04-25T10:50:15.370Z"
   },
   {
    "duration": 50,
    "start_time": "2024-04-25T10:50:15.456Z"
   },
   {
    "duration": 65,
    "start_time": "2024-04-25T10:50:15.508Z"
   },
   {
    "duration": 22,
    "start_time": "2024-04-25T10:50:15.576Z"
   },
   {
    "duration": 52,
    "start_time": "2024-04-25T10:50:15.600Z"
   },
   {
    "duration": 34,
    "start_time": "2024-04-25T10:50:15.654Z"
   },
   {
    "duration": 24,
    "start_time": "2024-04-25T10:50:15.689Z"
   },
   {
    "duration": 108,
    "start_time": "2024-04-25T10:50:15.715Z"
   },
   {
    "duration": 5,
    "start_time": "2024-04-25T10:50:15.825Z"
   },
   {
    "duration": 44,
    "start_time": "2024-04-25T10:50:15.832Z"
   },
   {
    "duration": 57,
    "start_time": "2024-04-25T10:50:15.878Z"
   },
   {
    "duration": 22,
    "start_time": "2024-04-25T10:50:15.937Z"
   },
   {
    "duration": 26,
    "start_time": "2024-04-25T10:50:15.961Z"
   },
   {
    "duration": 32,
    "start_time": "2024-04-25T10:50:15.989Z"
   },
   {
    "duration": 35,
    "start_time": "2024-04-25T10:50:16.023Z"
   },
   {
    "duration": 53,
    "start_time": "2024-04-25T10:50:16.060Z"
   },
   {
    "duration": 9,
    "start_time": "2024-04-25T10:50:16.115Z"
   },
   {
    "duration": 49,
    "start_time": "2024-04-25T10:50:16.126Z"
   },
   {
    "duration": 29,
    "start_time": "2024-04-25T10:50:16.178Z"
   },
   {
    "duration": 13,
    "start_time": "2024-04-25T10:50:16.209Z"
   },
   {
    "duration": 10,
    "start_time": "2024-04-25T10:50:16.224Z"
   },
   {
    "duration": 26,
    "start_time": "2024-04-25T10:50:16.235Z"
   },
   {
    "duration": 71,
    "start_time": "2024-04-25T10:50:16.263Z"
   },
   {
    "duration": 57,
    "start_time": "2024-04-25T10:50:16.336Z"
   },
   {
    "duration": 26,
    "start_time": "2024-04-25T10:50:16.396Z"
   },
   {
    "duration": 26,
    "start_time": "2024-04-25T10:50:16.424Z"
   },
   {
    "duration": 84,
    "start_time": "2024-04-25T10:50:16.452Z"
   },
   {
    "duration": 46,
    "start_time": "2024-04-25T10:50:16.538Z"
   },
   {
    "duration": 864,
    "start_time": "2024-04-25T10:50:16.586Z"
   },
   {
    "duration": 2824,
    "start_time": "2024-04-25T10:50:17.452Z"
   },
   {
    "duration": 119,
    "start_time": "2024-04-25T10:50:20.278Z"
   },
   {
    "duration": 14,
    "start_time": "2024-04-25T10:50:34.994Z"
   },
   {
    "duration": 5,
    "start_time": "2024-04-25T10:50:41.357Z"
   },
   {
    "duration": 15,
    "start_time": "2024-04-25T10:53:57.154Z"
   },
   {
    "duration": 25,
    "start_time": "2024-04-25T10:55:13.625Z"
   },
   {
    "duration": 19,
    "start_time": "2024-04-25T10:55:23.749Z"
   },
   {
    "duration": 17,
    "start_time": "2024-04-25T10:55:28.885Z"
   },
   {
    "duration": 5,
    "start_time": "2024-04-25T10:55:38.540Z"
   },
   {
    "duration": 15,
    "start_time": "2024-04-25T10:55:43.317Z"
   },
   {
    "duration": 3,
    "start_time": "2024-04-25T10:55:53.531Z"
   },
   {
    "duration": 888,
    "start_time": "2024-04-25T10:55:54.186Z"
   },
   {
    "duration": 2547,
    "start_time": "2024-04-25T10:55:55.237Z"
   },
   {
    "duration": 16,
    "start_time": "2024-04-25T10:56:12.849Z"
   },
   {
    "duration": 16,
    "start_time": "2024-04-25T10:57:09.464Z"
   },
   {
    "duration": 5,
    "start_time": "2024-04-25T10:57:10.653Z"
   },
   {
    "duration": 3,
    "start_time": "2024-04-25T10:57:14.545Z"
   },
   {
    "duration": 4,
    "start_time": "2024-04-25T11:00:55.929Z"
   },
   {
    "duration": 874,
    "start_time": "2024-04-25T11:00:56.206Z"
   },
   {
    "duration": 2777,
    "start_time": "2024-04-25T11:00:57.081Z"
   },
   {
    "duration": 4,
    "start_time": "2024-04-25T11:01:12.731Z"
   },
   {
    "duration": 12,
    "start_time": "2024-04-25T11:02:10.658Z"
   },
   {
    "duration": 7,
    "start_time": "2024-04-25T11:02:36.138Z"
   },
   {
    "duration": 3,
    "start_time": "2024-04-25T11:05:10.971Z"
   },
   {
    "duration": 7,
    "start_time": "2024-04-25T11:05:14.002Z"
   },
   {
    "duration": 12,
    "start_time": "2024-04-25T11:05:17.209Z"
   },
   {
    "duration": 5,
    "start_time": "2024-04-25T11:06:09.028Z"
   },
   {
    "duration": 10,
    "start_time": "2024-04-25T11:06:14.337Z"
   },
   {
    "duration": 19,
    "start_time": "2024-04-25T11:07:19.446Z"
   },
   {
    "duration": 3,
    "start_time": "2024-04-25T11:07:31.275Z"
   },
   {
    "duration": 14,
    "start_time": "2024-04-25T11:08:01.131Z"
   },
   {
    "duration": 86,
    "start_time": "2024-04-25T11:08:28.778Z"
   },
   {
    "duration": 12,
    "start_time": "2024-04-25T11:10:09.187Z"
   },
   {
    "duration": 78,
    "start_time": "2024-04-25T11:10:18.391Z"
   },
   {
    "duration": 5,
    "start_time": "2024-04-25T11:10:50.415Z"
   },
   {
    "duration": 4,
    "start_time": "2024-04-25T11:10:58.971Z"
   },
   {
    "duration": 4,
    "start_time": "2024-04-25T11:11:18.839Z"
   },
   {
    "duration": 11,
    "start_time": "2024-04-25T11:11:26.387Z"
   },
   {
    "duration": 8,
    "start_time": "2024-04-25T11:11:50.895Z"
   },
   {
    "duration": 10,
    "start_time": "2024-04-25T11:12:00.627Z"
   },
   {
    "duration": 5,
    "start_time": "2024-04-25T11:12:21.009Z"
   },
   {
    "duration": 4,
    "start_time": "2024-04-25T11:12:31.152Z"
   },
   {
    "duration": 10,
    "start_time": "2024-04-25T11:12:34.642Z"
   },
   {
    "duration": 11,
    "start_time": "2024-04-25T11:12:58.210Z"
   },
   {
    "duration": 6,
    "start_time": "2024-04-25T11:13:04.502Z"
   },
   {
    "duration": 16,
    "start_time": "2024-04-25T11:13:08.902Z"
   },
   {
    "duration": 4,
    "start_time": "2024-04-25T11:13:57.275Z"
   },
   {
    "duration": 2800,
    "start_time": "2024-04-25T11:19:14.297Z"
   },
   {
    "duration": 1606,
    "start_time": "2024-04-25T11:19:17.100Z"
   },
   {
    "duration": 32,
    "start_time": "2024-04-25T11:19:18.708Z"
   },
   {
    "duration": 25,
    "start_time": "2024-04-25T11:19:18.742Z"
   },
   {
    "duration": 42,
    "start_time": "2024-04-25T11:19:18.768Z"
   },
   {
    "duration": 32,
    "start_time": "2024-04-25T11:19:18.812Z"
   },
   {
    "duration": 4,
    "start_time": "2024-04-25T11:19:18.845Z"
   },
   {
    "duration": 88,
    "start_time": "2024-04-25T11:19:18.850Z"
   },
   {
    "duration": 4,
    "start_time": "2024-04-25T11:19:18.940Z"
   },
   {
    "duration": 73,
    "start_time": "2024-04-25T11:19:18.946Z"
   },
   {
    "duration": 3,
    "start_time": "2024-04-25T11:19:19.021Z"
   },
   {
    "duration": 33,
    "start_time": "2024-04-25T11:19:19.026Z"
   },
   {
    "duration": 28,
    "start_time": "2024-04-25T11:19:19.061Z"
   },
   {
    "duration": 32,
    "start_time": "2024-04-25T11:19:19.090Z"
   },
   {
    "duration": 23,
    "start_time": "2024-04-25T11:19:19.124Z"
   },
   {
    "duration": 23,
    "start_time": "2024-04-25T11:19:19.149Z"
   },
   {
    "duration": 83,
    "start_time": "2024-04-25T11:19:19.174Z"
   },
   {
    "duration": 4,
    "start_time": "2024-04-25T11:19:19.259Z"
   },
   {
    "duration": 31,
    "start_time": "2024-04-25T11:19:19.264Z"
   },
   {
    "duration": 22,
    "start_time": "2024-04-25T11:19:19.297Z"
   },
   {
    "duration": 12,
    "start_time": "2024-04-25T11:19:19.320Z"
   },
   {
    "duration": 11,
    "start_time": "2024-04-25T11:19:19.334Z"
   },
   {
    "duration": 14,
    "start_time": "2024-04-25T11:19:19.347Z"
   },
   {
    "duration": 8,
    "start_time": "2024-04-25T11:19:19.363Z"
   },
   {
    "duration": 28,
    "start_time": "2024-04-25T11:19:19.372Z"
   },
   {
    "duration": 6,
    "start_time": "2024-04-25T11:19:19.402Z"
   },
   {
    "duration": 10,
    "start_time": "2024-04-25T11:19:19.410Z"
   },
   {
    "duration": 14,
    "start_time": "2024-04-25T11:19:19.423Z"
   },
   {
    "duration": 17,
    "start_time": "2024-04-25T11:19:19.439Z"
   },
   {
    "duration": 4,
    "start_time": "2024-04-25T11:19:19.458Z"
   },
   {
    "duration": 32,
    "start_time": "2024-04-25T11:19:19.463Z"
   },
   {
    "duration": 12,
    "start_time": "2024-04-25T11:19:19.496Z"
   },
   {
    "duration": 15,
    "start_time": "2024-04-25T11:19:19.510Z"
   },
   {
    "duration": 21,
    "start_time": "2024-04-25T11:19:19.527Z"
   },
   {
    "duration": 19,
    "start_time": "2024-04-25T11:19:19.550Z"
   },
   {
    "duration": 11,
    "start_time": "2024-04-25T11:19:19.570Z"
   },
   {
    "duration": 17,
    "start_time": "2024-04-25T11:19:19.583Z"
   },
   {
    "duration": 11,
    "start_time": "2024-04-25T11:19:19.602Z"
   },
   {
    "duration": 948,
    "start_time": "2024-04-25T11:19:19.615Z"
   },
   {
    "duration": 3819,
    "start_time": "2024-04-25T11:19:20.565Z"
   },
   {
    "duration": 18,
    "start_time": "2024-04-25T11:19:24.386Z"
   },
   {
    "duration": 23,
    "start_time": "2024-04-25T11:19:24.406Z"
   },
   {
    "duration": 8,
    "start_time": "2024-04-25T11:19:24.430Z"
   },
   {
    "duration": 4,
    "start_time": "2024-04-25T11:19:24.439Z"
   },
   {
    "duration": 8,
    "start_time": "2024-04-25T11:19:24.445Z"
   },
   {
    "duration": 4,
    "start_time": "2024-04-25T11:19:24.455Z"
   },
   {
    "duration": 8,
    "start_time": "2024-04-25T11:19:24.460Z"
   },
   {
    "duration": 10,
    "start_time": "2024-04-25T11:19:24.469Z"
   },
   {
    "duration": 13,
    "start_time": "2024-04-25T11:19:24.480Z"
   },
   {
    "duration": 7,
    "start_time": "2024-04-25T11:19:24.495Z"
   },
   {
    "duration": 230,
    "start_time": "2024-04-25T11:19:24.504Z"
   },
   {
    "duration": 0,
    "start_time": "2024-04-25T11:19:24.736Z"
   },
   {
    "duration": 5,
    "start_time": "2024-04-25T11:19:56.470Z"
   },
   {
    "duration": 11,
    "start_time": "2024-04-25T11:20:05.191Z"
   },
   {
    "duration": 12,
    "start_time": "2024-04-25T11:42:26.119Z"
   },
   {
    "duration": 4,
    "start_time": "2024-04-25T11:42:29.550Z"
   },
   {
    "duration": 4,
    "start_time": "2024-04-25T11:42:29.926Z"
   },
   {
    "duration": 4,
    "start_time": "2024-04-25T11:42:30.925Z"
   },
   {
    "duration": 6,
    "start_time": "2024-04-25T11:42:31.595Z"
   },
   {
    "duration": 4,
    "start_time": "2024-04-25T11:42:32.233Z"
   },
   {
    "duration": 3,
    "start_time": "2024-04-25T11:42:32.682Z"
   },
   {
    "duration": 14,
    "start_time": "2024-04-25T11:46:34.502Z"
   },
   {
    "duration": 5,
    "start_time": "2024-04-25T11:47:16.669Z"
   },
   {
    "duration": 5,
    "start_time": "2024-04-25T11:47:26.630Z"
   },
   {
    "duration": 8729,
    "start_time": "2024-04-25T11:47:28.895Z"
   },
   {
    "duration": 8378,
    "start_time": "2024-04-25T11:52:30.195Z"
   },
   {
    "duration": 5,
    "start_time": "2024-04-25T11:53:14.750Z"
   },
   {
    "duration": 437,
    "start_time": "2024-04-25T11:53:31.902Z"
   },
   {
    "duration": 17,
    "start_time": "2024-04-25T11:59:09.211Z"
   },
   {
    "duration": 8,
    "start_time": "2024-04-25T11:59:10.267Z"
   },
   {
    "duration": 3,
    "start_time": "2024-04-25T11:59:11.066Z"
   },
   {
    "duration": 4,
    "start_time": "2024-04-25T11:59:11.426Z"
   },
   {
    "duration": 3,
    "start_time": "2024-04-25T11:59:12.087Z"
   },
   {
    "duration": 4,
    "start_time": "2024-04-25T11:59:12.560Z"
   },
   {
    "duration": 3,
    "start_time": "2024-04-25T11:59:12.995Z"
   },
   {
    "duration": 4,
    "start_time": "2024-04-25T11:59:13.399Z"
   },
   {
    "duration": 6,
    "start_time": "2024-04-25T11:59:16.715Z"
   },
   {
    "duration": 438,
    "start_time": "2024-04-25T11:59:18.088Z"
   },
   {
    "duration": 6,
    "start_time": "2024-04-25T11:59:31.583Z"
   },
   {
    "duration": 15,
    "start_time": "2024-04-25T11:59:36.911Z"
   },
   {
    "duration": 7,
    "start_time": "2024-04-25T11:59:37.099Z"
   },
   {
    "duration": 3,
    "start_time": "2024-04-25T11:59:37.288Z"
   },
   {
    "duration": 4,
    "start_time": "2024-04-25T11:59:37.467Z"
   },
   {
    "duration": 4,
    "start_time": "2024-04-25T11:59:37.678Z"
   },
   {
    "duration": 4,
    "start_time": "2024-04-25T11:59:37.923Z"
   },
   {
    "duration": 3,
    "start_time": "2024-04-25T11:59:38.367Z"
   },
   {
    "duration": 2,
    "start_time": "2024-04-25T11:59:38.704Z"
   },
   {
    "duration": 6,
    "start_time": "2024-04-25T11:59:42.015Z"
   },
   {
    "duration": 398,
    "start_time": "2024-04-25T11:59:42.648Z"
   },
   {
    "duration": 2557,
    "start_time": "2024-04-25T12:01:39.498Z"
   },
   {
    "duration": 1571,
    "start_time": "2024-04-25T12:01:42.058Z"
   },
   {
    "duration": 31,
    "start_time": "2024-04-25T12:01:43.631Z"
   },
   {
    "duration": 25,
    "start_time": "2024-04-25T12:01:43.665Z"
   },
   {
    "duration": 18,
    "start_time": "2024-04-25T12:01:43.691Z"
   },
   {
    "duration": 33,
    "start_time": "2024-04-25T12:01:43.710Z"
   },
   {
    "duration": 4,
    "start_time": "2024-04-25T12:01:43.745Z"
   },
   {
    "duration": 84,
    "start_time": "2024-04-25T12:01:43.750Z"
   },
   {
    "duration": 3,
    "start_time": "2024-04-25T12:01:43.836Z"
   },
   {
    "duration": 63,
    "start_time": "2024-04-25T12:01:43.842Z"
   },
   {
    "duration": 3,
    "start_time": "2024-04-25T12:01:43.907Z"
   },
   {
    "duration": 20,
    "start_time": "2024-04-25T12:01:43.912Z"
   },
   {
    "duration": 24,
    "start_time": "2024-04-25T12:01:43.934Z"
   },
   {
    "duration": 17,
    "start_time": "2024-04-25T12:01:43.959Z"
   },
   {
    "duration": 34,
    "start_time": "2024-04-25T12:01:43.978Z"
   },
   {
    "duration": 37,
    "start_time": "2024-04-25T12:01:44.014Z"
   },
   {
    "duration": 104,
    "start_time": "2024-04-25T12:01:44.053Z"
   },
   {
    "duration": 6,
    "start_time": "2024-04-25T12:01:44.159Z"
   },
   {
    "duration": 64,
    "start_time": "2024-04-25T12:01:44.167Z"
   },
   {
    "duration": 23,
    "start_time": "2024-04-25T12:01:44.233Z"
   },
   {
    "duration": 32,
    "start_time": "2024-04-25T12:01:44.257Z"
   },
   {
    "duration": 22,
    "start_time": "2024-04-25T12:01:44.291Z"
   },
   {
    "duration": 63,
    "start_time": "2024-04-25T12:01:44.315Z"
   },
   {
    "duration": 11,
    "start_time": "2024-04-25T12:01:44.379Z"
   },
   {
    "duration": 24,
    "start_time": "2024-04-25T12:01:44.392Z"
   },
   {
    "duration": 19,
    "start_time": "2024-04-25T12:01:44.417Z"
   },
   {
    "duration": 25,
    "start_time": "2024-04-25T12:01:44.438Z"
   },
   {
    "duration": 5,
    "start_time": "2024-04-25T12:01:44.467Z"
   },
   {
    "duration": 46,
    "start_time": "2024-04-25T12:01:44.474Z"
   },
   {
    "duration": 18,
    "start_time": "2024-04-25T12:01:44.522Z"
   },
   {
    "duration": 34,
    "start_time": "2024-04-25T12:01:44.541Z"
   },
   {
    "duration": 22,
    "start_time": "2024-04-25T12:01:44.576Z"
   },
   {
    "duration": 17,
    "start_time": "2024-04-25T12:01:44.600Z"
   },
   {
    "duration": 36,
    "start_time": "2024-04-25T12:01:44.618Z"
   },
   {
    "duration": 23,
    "start_time": "2024-04-25T12:01:44.655Z"
   },
   {
    "duration": 28,
    "start_time": "2024-04-25T12:01:44.680Z"
   },
   {
    "duration": 64,
    "start_time": "2024-04-25T12:01:44.709Z"
   },
   {
    "duration": 12,
    "start_time": "2024-04-25T12:01:44.775Z"
   },
   {
    "duration": 808,
    "start_time": "2024-04-25T12:01:44.789Z"
   },
   {
    "duration": 2781,
    "start_time": "2024-04-25T12:01:45.599Z"
   },
   {
    "duration": 17,
    "start_time": "2024-04-25T12:01:48.382Z"
   },
   {
    "duration": 21,
    "start_time": "2024-04-25T12:01:48.401Z"
   },
   {
    "duration": 4,
    "start_time": "2024-04-25T12:01:48.424Z"
   },
   {
    "duration": 6,
    "start_time": "2024-04-25T12:01:48.430Z"
   },
   {
    "duration": 6,
    "start_time": "2024-04-25T12:01:48.438Z"
   },
   {
    "duration": 12,
    "start_time": "2024-04-25T12:01:48.445Z"
   },
   {
    "duration": 12,
    "start_time": "2024-04-25T12:01:48.459Z"
   },
   {
    "duration": 16,
    "start_time": "2024-04-25T12:01:48.473Z"
   },
   {
    "duration": 11,
    "start_time": "2024-04-25T12:01:48.490Z"
   },
   {
    "duration": 534,
    "start_time": "2024-04-25T12:01:48.503Z"
   },
   {
    "duration": 0,
    "start_time": "2024-04-25T12:01:49.038Z"
   },
   {
    "duration": 0,
    "start_time": "2024-04-25T12:01:49.040Z"
   },
   {
    "duration": 8,
    "start_time": "2024-04-25T14:59:22.821Z"
   },
   {
    "duration": 6,
    "start_time": "2024-04-25T14:59:43.703Z"
   },
   {
    "duration": 411,
    "start_time": "2024-04-25T15:24:08.833Z"
   },
   {
    "duration": 603,
    "start_time": "2024-04-25T15:26:04.479Z"
   },
   {
    "duration": 629,
    "start_time": "2024-04-25T15:30:36.361Z"
   },
   {
    "duration": 651,
    "start_time": "2024-04-25T15:32:32.570Z"
   },
   {
    "duration": 727,
    "start_time": "2024-04-25T15:34:38.272Z"
   },
   {
    "duration": 714,
    "start_time": "2024-04-25T15:38:29.415Z"
   },
   {
    "duration": 650,
    "start_time": "2024-04-25T15:38:42.068Z"
   },
   {
    "duration": 636,
    "start_time": "2024-04-25T15:38:54.116Z"
   },
   {
    "duration": 693,
    "start_time": "2024-04-25T15:39:08.755Z"
   },
   {
    "duration": 3466,
    "start_time": "2024-04-25T15:39:36.492Z"
   },
   {
    "duration": 12,
    "start_time": "2024-04-25T15:39:55.214Z"
   },
   {
    "duration": 5,
    "start_time": "2024-04-25T15:40:00.691Z"
   },
   {
    "duration": 3,
    "start_time": "2024-04-25T15:40:01.581Z"
   },
   {
    "duration": 4,
    "start_time": "2024-04-25T15:40:02.063Z"
   },
   {
    "duration": 4,
    "start_time": "2024-04-25T15:40:06.875Z"
   },
   {
    "duration": 13,
    "start_time": "2024-04-25T15:40:08.077Z"
   },
   {
    "duration": 4,
    "start_time": "2024-04-25T15:40:36.577Z"
   },
   {
    "duration": 13,
    "start_time": "2024-04-25T15:40:43.138Z"
   },
   {
    "duration": 65,
    "start_time": "2024-04-25T15:41:26.335Z"
   },
   {
    "duration": 4,
    "start_time": "2024-04-25T15:41:40.755Z"
   },
   {
    "duration": 14,
    "start_time": "2024-04-25T15:41:45.018Z"
   },
   {
    "duration": 692,
    "start_time": "2024-04-25T15:42:23.348Z"
   },
   {
    "duration": 15,
    "start_time": "2024-04-25T15:42:42.399Z"
   },
   {
    "duration": 10,
    "start_time": "2024-04-25T15:42:42.606Z"
   },
   {
    "duration": 13,
    "start_time": "2024-04-25T15:42:43.638Z"
   },
   {
    "duration": 6,
    "start_time": "2024-04-25T15:42:44.049Z"
   },
   {
    "duration": 7,
    "start_time": "2024-04-25T15:42:44.884Z"
   },
   {
    "duration": 4,
    "start_time": "2024-04-25T15:42:45.113Z"
   },
   {
    "duration": 8,
    "start_time": "2024-04-25T15:42:45.304Z"
   },
   {
    "duration": 3,
    "start_time": "2024-04-25T15:42:45.518Z"
   },
   {
    "duration": 22,
    "start_time": "2024-04-25T15:42:45.857Z"
   },
   {
    "duration": 4,
    "start_time": "2024-04-25T15:42:46.305Z"
   },
   {
    "duration": 5,
    "start_time": "2024-04-25T15:42:46.553Z"
   },
   {
    "duration": 4,
    "start_time": "2024-04-25T15:42:46.769Z"
   },
   {
    "duration": 3,
    "start_time": "2024-04-25T15:42:46.957Z"
   },
   {
    "duration": 4,
    "start_time": "2024-04-25T15:42:47.530Z"
   },
   {
    "duration": 15,
    "start_time": "2024-04-25T15:42:47.729Z"
   },
   {
    "duration": 3,
    "start_time": "2024-04-25T15:42:47.940Z"
   },
   {
    "duration": 815,
    "start_time": "2024-04-25T15:42:48.361Z"
   },
   {
    "duration": 2704,
    "start_time": "2024-04-25T15:42:49.178Z"
   },
   {
    "duration": 28,
    "start_time": "2024-04-25T15:42:51.885Z"
   },
   {
    "duration": 15,
    "start_time": "2024-04-25T15:42:51.915Z"
   },
   {
    "duration": 4,
    "start_time": "2024-04-25T15:42:51.932Z"
   },
   {
    "duration": 17,
    "start_time": "2024-04-25T15:42:51.937Z"
   },
   {
    "duration": 22,
    "start_time": "2024-04-25T15:42:51.955Z"
   },
   {
    "duration": 6,
    "start_time": "2024-04-25T15:42:52.800Z"
   },
   {
    "duration": 4,
    "start_time": "2024-04-25T15:42:53.589Z"
   },
   {
    "duration": 3,
    "start_time": "2024-04-25T15:42:53.911Z"
   },
   {
    "duration": 4,
    "start_time": "2024-04-25T15:42:54.403Z"
   },
   {
    "duration": 2,
    "start_time": "2024-04-25T15:42:55.082Z"
   },
   {
    "duration": 5,
    "start_time": "2024-04-25T15:42:56.633Z"
   },
   {
    "duration": 406,
    "start_time": "2024-04-25T15:42:57.913Z"
   },
   {
    "duration": 59,
    "start_time": "2024-04-25T15:42:58.790Z"
   },
   {
    "duration": 3549,
    "start_time": "2024-04-25T15:42:59.604Z"
   },
   {
    "duration": 4,
    "start_time": "2024-04-25T15:44:30.943Z"
   },
   {
    "duration": 8,
    "start_time": "2024-04-25T15:44:31.899Z"
   },
   {
    "duration": 4,
    "start_time": "2024-04-25T15:44:32.728Z"
   },
   {
    "duration": 4,
    "start_time": "2024-04-25T15:44:33.602Z"
   },
   {
    "duration": 2,
    "start_time": "2024-04-25T15:44:34.112Z"
   },
   {
    "duration": 2,
    "start_time": "2024-04-25T15:44:35.068Z"
   },
   {
    "duration": 5,
    "start_time": "2024-04-25T15:44:36.328Z"
   },
   {
    "duration": 6,
    "start_time": "2024-04-25T15:48:07.819Z"
   },
   {
    "duration": 16,
    "start_time": "2024-04-25T15:48:19.401Z"
   },
   {
    "duration": 4,
    "start_time": "2024-04-25T15:48:20.104Z"
   },
   {
    "duration": 4,
    "start_time": "2024-04-25T15:48:20.880Z"
   },
   {
    "duration": 4,
    "start_time": "2024-04-25T15:48:22.748Z"
   },
   {
    "duration": 6,
    "start_time": "2024-04-25T15:48:24.106Z"
   },
   {
    "duration": 3,
    "start_time": "2024-04-25T15:48:27.526Z"
   },
   {
    "duration": 2,
    "start_time": "2024-04-25T15:48:38.417Z"
   },
   {
    "duration": 27,
    "start_time": "2024-04-25T15:49:22.386Z"
   },
   {
    "duration": 11,
    "start_time": "2024-04-25T15:49:23.104Z"
   },
   {
    "duration": 4,
    "start_time": "2024-04-25T15:49:23.694Z"
   },
   {
    "duration": 5,
    "start_time": "2024-04-25T15:49:24.384Z"
   },
   {
    "duration": 3,
    "start_time": "2024-04-25T15:49:25.368Z"
   },
   {
    "duration": 6,
    "start_time": "2024-04-25T15:49:26.333Z"
   },
   {
    "duration": 3,
    "start_time": "2024-04-25T15:49:27.028Z"
   },
   {
    "duration": 2,
    "start_time": "2024-04-25T15:49:27.532Z"
   },
   {
    "duration": 739,
    "start_time": "2024-04-25T15:49:27.922Z"
   },
   {
    "duration": 20,
    "start_time": "2024-04-25T15:50:06.409Z"
   },
   {
    "duration": 7,
    "start_time": "2024-04-25T15:50:34.953Z"
   },
   {
    "duration": 8,
    "start_time": "2024-04-25T15:50:41.946Z"
   },
   {
    "duration": 3,
    "start_time": "2024-04-25T15:50:42.368Z"
   },
   {
    "duration": 6,
    "start_time": "2024-04-25T15:50:43.323Z"
   },
   {
    "duration": 4,
    "start_time": "2024-04-25T15:50:45.178Z"
   },
   {
    "duration": 4,
    "start_time": "2024-04-25T15:50:49.657Z"
   },
   {
    "duration": 3,
    "start_time": "2024-04-25T15:50:50.937Z"
   },
   {
    "duration": 6,
    "start_time": "2024-04-25T15:50:54.064Z"
   },
   {
    "duration": 751,
    "start_time": "2024-04-25T15:50:56.590Z"
   },
   {
    "duration": 4,
    "start_time": "2024-04-25T15:51:33.930Z"
   },
   {
    "duration": 3,
    "start_time": "2024-04-25T15:51:34.766Z"
   },
   {
    "duration": 8,
    "start_time": "2024-04-25T15:51:35.592Z"
   },
   {
    "duration": 711,
    "start_time": "2024-04-25T15:51:36.147Z"
   },
   {
    "duration": 18,
    "start_time": "2024-04-25T15:51:46.280Z"
   },
   {
    "duration": 7,
    "start_time": "2024-04-25T15:51:46.563Z"
   },
   {
    "duration": 8,
    "start_time": "2024-04-25T15:51:47.011Z"
   },
   {
    "duration": 3,
    "start_time": "2024-04-25T15:51:47.568Z"
   },
   {
    "duration": 4,
    "start_time": "2024-04-25T15:51:48.015Z"
   },
   {
    "duration": 4,
    "start_time": "2024-04-25T15:51:48.513Z"
   },
   {
    "duration": 5,
    "start_time": "2024-04-25T15:51:49.227Z"
   },
   {
    "duration": 3,
    "start_time": "2024-04-25T15:51:50.163Z"
   },
   {
    "duration": 3,
    "start_time": "2024-04-25T15:51:51.100Z"
   },
   {
    "duration": 712,
    "start_time": "2024-04-25T15:51:51.544Z"
   },
   {
    "duration": 17,
    "start_time": "2024-04-25T15:52:34.594Z"
   },
   {
    "duration": 3476,
    "start_time": "2024-04-25T15:52:35.072Z"
   },
   {
    "duration": 13,
    "start_time": "2024-04-25T15:52:58.896Z"
   },
   {
    "duration": 4,
    "start_time": "2024-04-25T15:53:01.262Z"
   },
   {
    "duration": 4,
    "start_time": "2024-04-25T15:53:01.539Z"
   },
   {
    "duration": 3,
    "start_time": "2024-04-25T15:53:01.723Z"
   },
   {
    "duration": 172,
    "start_time": "2024-04-25T15:53:01.926Z"
   },
   {
    "duration": 95,
    "start_time": "2024-04-25T15:53:02.132Z"
   },
   {
    "duration": 3,
    "start_time": "2024-04-25T15:53:02.646Z"
   },
   {
    "duration": 5,
    "start_time": "2024-04-25T15:53:03.375Z"
   },
   {
    "duration": 3533,
    "start_time": "2024-04-25T15:53:06.536Z"
   },
   {
    "duration": 2629,
    "start_time": "2024-04-25T15:54:19.846Z"
   },
   {
    "duration": 2513,
    "start_time": "2024-04-25T15:54:22.477Z"
   },
   {
    "duration": 33,
    "start_time": "2024-04-25T15:54:24.992Z"
   },
   {
    "duration": 21,
    "start_time": "2024-04-25T15:54:25.027Z"
   },
   {
    "duration": 34,
    "start_time": "2024-04-25T15:54:25.050Z"
   },
   {
    "duration": 28,
    "start_time": "2024-04-25T15:54:25.086Z"
   },
   {
    "duration": 5,
    "start_time": "2024-04-25T15:54:25.116Z"
   },
   {
    "duration": 105,
    "start_time": "2024-04-25T15:54:25.122Z"
   },
   {
    "duration": 4,
    "start_time": "2024-04-25T15:54:25.229Z"
   },
   {
    "duration": 69,
    "start_time": "2024-04-25T15:54:25.235Z"
   },
   {
    "duration": 4,
    "start_time": "2024-04-25T15:54:25.306Z"
   },
   {
    "duration": 32,
    "start_time": "2024-04-25T15:54:25.312Z"
   },
   {
    "duration": 7,
    "start_time": "2024-04-25T15:54:25.346Z"
   },
   {
    "duration": 9,
    "start_time": "2024-04-25T15:54:25.355Z"
   },
   {
    "duration": 26,
    "start_time": "2024-04-25T15:54:25.367Z"
   },
   {
    "duration": 18,
    "start_time": "2024-04-25T15:54:25.395Z"
   },
   {
    "duration": 3,
    "start_time": "2024-04-25T15:54:25.415Z"
   },
   {
    "duration": 115,
    "start_time": "2024-04-25T15:54:25.420Z"
   },
   {
    "duration": 4,
    "start_time": "2024-04-25T15:54:25.537Z"
   },
   {
    "duration": 53,
    "start_time": "2024-04-25T15:54:25.542Z"
   },
   {
    "duration": 23,
    "start_time": "2024-04-25T15:54:25.597Z"
   },
   {
    "duration": 30,
    "start_time": "2024-04-25T15:54:25.622Z"
   },
   {
    "duration": 9,
    "start_time": "2024-04-25T15:54:25.654Z"
   },
   {
    "duration": 13,
    "start_time": "2024-04-25T15:54:25.664Z"
   },
   {
    "duration": 21,
    "start_time": "2024-04-25T15:54:25.679Z"
   },
   {
    "duration": 27,
    "start_time": "2024-04-25T15:54:25.701Z"
   },
   {
    "duration": 38,
    "start_time": "2024-04-25T15:54:25.730Z"
   },
   {
    "duration": 27,
    "start_time": "2024-04-25T15:54:25.772Z"
   },
   {
    "duration": 9,
    "start_time": "2024-04-25T15:54:25.801Z"
   },
   {
    "duration": 54,
    "start_time": "2024-04-25T15:54:25.811Z"
   },
   {
    "duration": 23,
    "start_time": "2024-04-25T15:54:25.867Z"
   },
   {
    "duration": 32,
    "start_time": "2024-04-25T15:54:25.892Z"
   },
   {
    "duration": 43,
    "start_time": "2024-04-25T15:54:25.926Z"
   },
   {
    "duration": 28,
    "start_time": "2024-04-25T15:54:25.971Z"
   },
   {
    "duration": 8,
    "start_time": "2024-04-25T15:54:26.001Z"
   },
   {
    "duration": 5,
    "start_time": "2024-04-25T15:54:26.011Z"
   },
   {
    "duration": 15,
    "start_time": "2024-04-25T15:54:26.017Z"
   },
   {
    "duration": 18,
    "start_time": "2024-04-25T15:54:26.034Z"
   },
   {
    "duration": 33,
    "start_time": "2024-04-25T15:54:26.054Z"
   },
   {
    "duration": 851,
    "start_time": "2024-04-25T15:54:26.090Z"
   },
   {
    "duration": 2910,
    "start_time": "2024-04-25T15:54:26.942Z"
   },
   {
    "duration": 18,
    "start_time": "2024-04-25T15:54:29.854Z"
   },
   {
    "duration": 31,
    "start_time": "2024-04-25T15:54:29.873Z"
   },
   {
    "duration": 11,
    "start_time": "2024-04-25T15:54:29.906Z"
   },
   {
    "duration": 8,
    "start_time": "2024-04-25T15:54:29.919Z"
   },
   {
    "duration": 10,
    "start_time": "2024-04-25T15:54:29.929Z"
   },
   {
    "duration": 5,
    "start_time": "2024-04-25T15:54:29.941Z"
   },
   {
    "duration": 7,
    "start_time": "2024-04-25T15:54:29.948Z"
   },
   {
    "duration": 15,
    "start_time": "2024-04-25T15:54:29.956Z"
   },
   {
    "duration": 4,
    "start_time": "2024-04-25T15:54:29.973Z"
   },
   {
    "duration": 6,
    "start_time": "2024-04-25T15:54:29.979Z"
   },
   {
    "duration": 2662,
    "start_time": "2024-04-25T15:54:29.987Z"
   },
   {
    "duration": 2,
    "start_time": "2024-04-25T15:54:32.651Z"
   },
   {
    "duration": 61,
    "start_time": "2024-04-25T15:54:32.655Z"
   },
   {
    "duration": 37,
    "start_time": "2024-04-25T15:54:32.717Z"
   },
   {
    "duration": 2616,
    "start_time": "2024-04-25T15:54:32.756Z"
   },
   {
    "duration": 169,
    "start_time": "2024-04-25T15:54:35.374Z"
   },
   {
    "duration": 0,
    "start_time": "2024-04-25T15:54:35.545Z"
   },
   {
    "duration": 2602,
    "start_time": "2024-04-25T15:57:07.452Z"
   },
   {
    "duration": 28,
    "start_time": "2024-04-25T15:57:31.600Z"
   },
   {
    "duration": 2437,
    "start_time": "2024-04-26T02:14:09.439Z"
   },
   {
    "duration": 1544,
    "start_time": "2024-04-26T02:14:11.878Z"
   },
   {
    "duration": 31,
    "start_time": "2024-04-26T02:14:13.423Z"
   },
   {
    "duration": 20,
    "start_time": "2024-04-26T02:14:13.456Z"
   },
   {
    "duration": 17,
    "start_time": "2024-04-26T02:14:13.477Z"
   },
   {
    "duration": 24,
    "start_time": "2024-04-26T02:14:13.496Z"
   },
   {
    "duration": 3,
    "start_time": "2024-04-26T02:14:13.522Z"
   },
   {
    "duration": 69,
    "start_time": "2024-04-26T02:14:13.527Z"
   },
   {
    "duration": 4,
    "start_time": "2024-04-26T02:14:13.598Z"
   },
   {
    "duration": 35,
    "start_time": "2024-04-26T02:14:13.604Z"
   },
   {
    "duration": 4,
    "start_time": "2024-04-26T02:14:13.640Z"
   },
   {
    "duration": 55,
    "start_time": "2024-04-26T02:14:13.645Z"
   },
   {
    "duration": 4,
    "start_time": "2024-04-26T02:14:13.702Z"
   },
   {
    "duration": 17,
    "start_time": "2024-04-26T02:14:13.708Z"
   },
   {
    "duration": 6,
    "start_time": "2024-04-26T02:14:13.727Z"
   },
   {
    "duration": 9,
    "start_time": "2024-04-26T02:14:13.735Z"
   },
   {
    "duration": 3,
    "start_time": "2024-04-26T02:14:13.746Z"
   },
   {
    "duration": 98,
    "start_time": "2024-04-26T02:14:13.751Z"
   },
   {
    "duration": 4,
    "start_time": "2024-04-26T02:14:13.850Z"
   },
   {
    "duration": 14,
    "start_time": "2024-04-26T02:14:13.856Z"
   },
   {
    "duration": 14,
    "start_time": "2024-04-26T02:14:13.891Z"
   },
   {
    "duration": 23,
    "start_time": "2024-04-26T02:14:13.907Z"
   },
   {
    "duration": 12,
    "start_time": "2024-04-26T02:14:13.932Z"
   },
   {
    "duration": 12,
    "start_time": "2024-04-26T02:14:13.946Z"
   },
   {
    "duration": 8,
    "start_time": "2024-04-26T02:14:13.959Z"
   },
   {
    "duration": 17,
    "start_time": "2024-04-26T02:14:13.969Z"
   },
   {
    "duration": 6,
    "start_time": "2024-04-26T02:14:13.991Z"
   },
   {
    "duration": 9,
    "start_time": "2024-04-26T02:14:14.002Z"
   },
   {
    "duration": 3,
    "start_time": "2024-04-26T02:14:14.013Z"
   },
   {
    "duration": 12,
    "start_time": "2024-04-26T02:14:14.017Z"
   },
   {
    "duration": 25,
    "start_time": "2024-04-26T02:14:14.030Z"
   },
   {
    "duration": 23,
    "start_time": "2024-04-26T02:14:14.057Z"
   },
   {
    "duration": 6,
    "start_time": "2024-04-26T02:14:14.082Z"
   },
   {
    "duration": 20,
    "start_time": "2024-04-26T02:14:14.090Z"
   },
   {
    "duration": 6,
    "start_time": "2024-04-26T02:14:14.112Z"
   },
   {
    "duration": 5,
    "start_time": "2024-04-26T02:14:14.119Z"
   },
   {
    "duration": 6,
    "start_time": "2024-04-26T02:14:14.125Z"
   },
   {
    "duration": 17,
    "start_time": "2024-04-26T02:14:14.132Z"
   },
   {
    "duration": 5,
    "start_time": "2024-04-26T02:14:14.150Z"
   },
   {
    "duration": 750,
    "start_time": "2024-04-26T02:14:14.157Z"
   },
   {
    "duration": 2611,
    "start_time": "2024-04-26T02:14:14.909Z"
   },
   {
    "duration": 18,
    "start_time": "2024-04-26T02:14:17.522Z"
   },
   {
    "duration": 8,
    "start_time": "2024-04-26T02:14:17.542Z"
   },
   {
    "duration": 9,
    "start_time": "2024-04-26T02:14:17.552Z"
   },
   {
    "duration": 4,
    "start_time": "2024-04-26T02:14:17.562Z"
   },
   {
    "duration": 11,
    "start_time": "2024-04-26T02:14:17.568Z"
   },
   {
    "duration": 6,
    "start_time": "2024-04-26T02:14:17.580Z"
   },
   {
    "duration": 6,
    "start_time": "2024-04-26T02:14:17.592Z"
   },
   {
    "duration": 26,
    "start_time": "2024-04-26T02:14:17.600Z"
   },
   {
    "duration": 8,
    "start_time": "2024-04-26T02:14:17.628Z"
   },
   {
    "duration": 5,
    "start_time": "2024-04-26T02:14:17.637Z"
   },
   {
    "duration": 12,
    "start_time": "2024-04-26T02:14:17.644Z"
   },
   {
    "duration": 9,
    "start_time": "2024-04-26T02:14:17.657Z"
   },
   {
    "duration": 10,
    "start_time": "2024-04-26T02:14:17.668Z"
   },
   {
    "duration": 730,
    "start_time": "2024-04-26T02:14:17.679Z"
   },
   {
    "duration": 0,
    "start_time": "2024-04-26T02:14:18.411Z"
   },
   {
    "duration": 0,
    "start_time": "2024-04-26T02:14:18.413Z"
   },
   {
    "duration": 2349,
    "start_time": "2024-04-26T02:18:35.551Z"
   },
   {
    "duration": 1522,
    "start_time": "2024-04-26T02:18:37.903Z"
   },
   {
    "duration": 33,
    "start_time": "2024-04-26T02:18:39.426Z"
   },
   {
    "duration": 21,
    "start_time": "2024-04-26T02:18:39.462Z"
   },
   {
    "duration": 22,
    "start_time": "2024-04-26T02:18:39.485Z"
   },
   {
    "duration": 25,
    "start_time": "2024-04-26T02:18:39.508Z"
   },
   {
    "duration": 3,
    "start_time": "2024-04-26T02:18:39.535Z"
   },
   {
    "duration": 66,
    "start_time": "2024-04-26T02:18:39.540Z"
   },
   {
    "duration": 3,
    "start_time": "2024-04-26T02:18:39.608Z"
   },
   {
    "duration": 49,
    "start_time": "2024-04-26T02:18:39.614Z"
   },
   {
    "duration": 8,
    "start_time": "2024-04-26T02:18:39.665Z"
   },
   {
    "duration": 27,
    "start_time": "2024-04-26T02:18:39.675Z"
   },
   {
    "duration": 7,
    "start_time": "2024-04-26T02:18:39.704Z"
   },
   {
    "duration": 5,
    "start_time": "2024-04-26T02:18:39.712Z"
   },
   {
    "duration": 7,
    "start_time": "2024-04-26T02:18:39.719Z"
   },
   {
    "duration": 9,
    "start_time": "2024-04-26T02:18:39.727Z"
   },
   {
    "duration": 12,
    "start_time": "2024-04-26T02:18:39.738Z"
   },
   {
    "duration": 113,
    "start_time": "2024-04-26T02:18:39.751Z"
   },
   {
    "duration": 27,
    "start_time": "2024-04-26T02:18:39.866Z"
   },
   {
    "duration": 14,
    "start_time": "2024-04-26T02:18:39.895Z"
   },
   {
    "duration": 20,
    "start_time": "2024-04-26T02:18:39.910Z"
   },
   {
    "duration": 17,
    "start_time": "2024-04-26T02:18:39.931Z"
   },
   {
    "duration": 5,
    "start_time": "2024-04-26T02:18:39.949Z"
   },
   {
    "duration": 13,
    "start_time": "2024-04-26T02:18:39.955Z"
   },
   {
    "duration": 8,
    "start_time": "2024-04-26T02:18:39.969Z"
   },
   {
    "duration": 16,
    "start_time": "2024-04-26T02:18:39.996Z"
   },
   {
    "duration": 14,
    "start_time": "2024-04-26T02:18:40.015Z"
   },
   {
    "duration": 23,
    "start_time": "2024-04-26T02:18:40.034Z"
   },
   {
    "duration": 7,
    "start_time": "2024-04-26T02:18:40.058Z"
   },
   {
    "duration": 29,
    "start_time": "2024-04-26T02:18:40.067Z"
   },
   {
    "duration": 6,
    "start_time": "2024-04-26T02:18:40.098Z"
   },
   {
    "duration": 24,
    "start_time": "2024-04-26T02:18:40.105Z"
   },
   {
    "duration": 4,
    "start_time": "2024-04-26T02:18:40.131Z"
   },
   {
    "duration": 24,
    "start_time": "2024-04-26T02:18:40.136Z"
   },
   {
    "duration": 20,
    "start_time": "2024-04-26T02:18:40.162Z"
   },
   {
    "duration": 5,
    "start_time": "2024-04-26T02:18:40.183Z"
   },
   {
    "duration": 6,
    "start_time": "2024-04-26T02:18:40.190Z"
   },
   {
    "duration": 14,
    "start_time": "2024-04-26T02:18:40.197Z"
   },
   {
    "duration": 4,
    "start_time": "2024-04-26T02:18:40.213Z"
   },
   {
    "duration": 746,
    "start_time": "2024-04-26T02:18:40.219Z"
   },
   {
    "duration": 2585,
    "start_time": "2024-04-26T02:18:40.967Z"
   },
   {
    "duration": 22,
    "start_time": "2024-04-26T02:18:43.554Z"
   },
   {
    "duration": 15,
    "start_time": "2024-04-26T02:18:43.578Z"
   },
   {
    "duration": 8,
    "start_time": "2024-04-26T02:18:43.595Z"
   },
   {
    "duration": 3,
    "start_time": "2024-04-26T02:18:43.604Z"
   },
   {
    "duration": 7,
    "start_time": "2024-04-26T02:18:43.608Z"
   },
   {
    "duration": 3,
    "start_time": "2024-04-26T02:18:43.617Z"
   },
   {
    "duration": 5,
    "start_time": "2024-04-26T02:18:43.623Z"
   },
   {
    "duration": 7,
    "start_time": "2024-04-26T02:18:43.630Z"
   },
   {
    "duration": 8,
    "start_time": "2024-04-26T02:18:43.639Z"
   },
   {
    "duration": 10,
    "start_time": "2024-04-26T02:18:43.648Z"
   },
   {
    "duration": 9,
    "start_time": "2024-04-26T02:18:43.659Z"
   },
   {
    "duration": 23,
    "start_time": "2024-04-26T02:18:43.669Z"
   },
   {
    "duration": 5,
    "start_time": "2024-04-26T02:18:43.693Z"
   },
   {
    "duration": 2519,
    "start_time": "2024-04-26T02:18:43.700Z"
   },
   {
    "duration": 2597,
    "start_time": "2024-04-26T02:18:46.220Z"
   },
   {
    "duration": 278,
    "start_time": "2024-04-26T02:18:48.819Z"
   },
   {
    "duration": 4,
    "start_time": "2024-04-26T02:20:55.995Z"
   },
   {
    "duration": 2441,
    "start_time": "2024-04-26T02:21:02.133Z"
   },
   {
    "duration": 1420,
    "start_time": "2024-04-26T02:21:04.576Z"
   },
   {
    "duration": 32,
    "start_time": "2024-04-26T02:21:05.997Z"
   },
   {
    "duration": 21,
    "start_time": "2024-04-26T02:21:06.031Z"
   },
   {
    "duration": 18,
    "start_time": "2024-04-26T02:21:06.054Z"
   },
   {
    "duration": 54,
    "start_time": "2024-04-26T02:21:06.073Z"
   },
   {
    "duration": 4,
    "start_time": "2024-04-26T02:21:06.128Z"
   },
   {
    "duration": 73,
    "start_time": "2024-04-26T02:21:06.134Z"
   },
   {
    "duration": 4,
    "start_time": "2024-04-26T02:21:06.208Z"
   },
   {
    "duration": 29,
    "start_time": "2024-04-26T02:21:06.214Z"
   },
   {
    "duration": 3,
    "start_time": "2024-04-26T02:21:06.244Z"
   },
   {
    "duration": 50,
    "start_time": "2024-04-26T02:21:06.249Z"
   },
   {
    "duration": 2,
    "start_time": "2024-04-26T02:21:06.301Z"
   },
   {
    "duration": 4,
    "start_time": "2024-04-26T02:21:06.305Z"
   },
   {
    "duration": 6,
    "start_time": "2024-04-26T02:21:06.311Z"
   },
   {
    "duration": 8,
    "start_time": "2024-04-26T02:21:06.318Z"
   },
   {
    "duration": 3,
    "start_time": "2024-04-26T02:21:06.327Z"
   },
   {
    "duration": 107,
    "start_time": "2024-04-26T02:21:06.331Z"
   },
   {
    "duration": 4,
    "start_time": "2024-04-26T02:21:06.439Z"
   },
   {
    "duration": 13,
    "start_time": "2024-04-26T02:21:06.445Z"
   },
   {
    "duration": 39,
    "start_time": "2024-04-26T02:21:06.460Z"
   },
   {
    "duration": 17,
    "start_time": "2024-04-26T02:21:06.501Z"
   },
   {
    "duration": 10,
    "start_time": "2024-04-26T02:21:06.520Z"
   },
   {
    "duration": 17,
    "start_time": "2024-04-26T02:21:06.531Z"
   },
   {
    "duration": 22,
    "start_time": "2024-04-26T02:21:06.549Z"
   },
   {
    "duration": 23,
    "start_time": "2024-04-26T02:21:06.573Z"
   },
   {
    "duration": 6,
    "start_time": "2024-04-26T02:21:06.597Z"
   },
   {
    "duration": 6,
    "start_time": "2024-04-26T02:21:06.606Z"
   },
   {
    "duration": 3,
    "start_time": "2024-04-26T02:21:06.614Z"
   },
   {
    "duration": 33,
    "start_time": "2024-04-26T02:21:06.618Z"
   },
   {
    "duration": 11,
    "start_time": "2024-04-26T02:21:06.652Z"
   },
   {
    "duration": 17,
    "start_time": "2024-04-26T02:21:06.664Z"
   },
   {
    "duration": 13,
    "start_time": "2024-04-26T02:21:06.682Z"
   },
   {
    "duration": 9,
    "start_time": "2024-04-26T02:21:06.696Z"
   },
   {
    "duration": 6,
    "start_time": "2024-04-26T02:21:06.706Z"
   },
   {
    "duration": 13,
    "start_time": "2024-04-26T02:21:06.713Z"
   },
   {
    "duration": 9,
    "start_time": "2024-04-26T02:21:06.727Z"
   },
   {
    "duration": 16,
    "start_time": "2024-04-26T02:21:06.738Z"
   },
   {
    "duration": 5,
    "start_time": "2024-04-26T02:21:06.755Z"
   },
   {
    "duration": 747,
    "start_time": "2024-04-26T02:21:06.762Z"
   },
   {
    "duration": 3381,
    "start_time": "2024-04-26T02:21:07.511Z"
   },
   {
    "duration": 19,
    "start_time": "2024-04-26T02:21:10.894Z"
   },
   {
    "duration": 16,
    "start_time": "2024-04-26T02:21:10.915Z"
   },
   {
    "duration": 8,
    "start_time": "2024-04-26T02:21:10.933Z"
   },
   {
    "duration": 6,
    "start_time": "2024-04-26T02:21:10.943Z"
   },
   {
    "duration": 6,
    "start_time": "2024-04-26T02:21:10.951Z"
   },
   {
    "duration": 35,
    "start_time": "2024-04-26T02:21:10.958Z"
   },
   {
    "duration": 20,
    "start_time": "2024-04-26T02:21:10.995Z"
   },
   {
    "duration": 7,
    "start_time": "2024-04-26T02:21:11.017Z"
   },
   {
    "duration": 4,
    "start_time": "2024-04-26T02:21:11.025Z"
   },
   {
    "duration": 24,
    "start_time": "2024-04-26T02:21:11.031Z"
   },
   {
    "duration": 8,
    "start_time": "2024-04-26T02:21:11.058Z"
   },
   {
    "duration": 12,
    "start_time": "2024-04-26T02:21:11.068Z"
   },
   {
    "duration": 10,
    "start_time": "2024-04-26T02:21:11.082Z"
   },
   {
    "duration": 735,
    "start_time": "2024-04-26T02:21:11.094Z"
   },
   {
    "duration": 0,
    "start_time": "2024-04-26T02:21:11.831Z"
   },
   {
    "duration": 0,
    "start_time": "2024-04-26T02:21:11.832Z"
   },
   {
    "duration": 2389,
    "start_time": "2024-04-26T02:26:27.502Z"
   },
   {
    "duration": 1744,
    "start_time": "2024-04-26T02:26:29.893Z"
   },
   {
    "duration": 31,
    "start_time": "2024-04-26T02:26:31.692Z"
   },
   {
    "duration": 124,
    "start_time": "2024-04-26T02:26:31.725Z"
   },
   {
    "duration": 58,
    "start_time": "2024-04-26T02:26:31.851Z"
   },
   {
    "duration": 51,
    "start_time": "2024-04-26T02:26:31.911Z"
   },
   {
    "duration": 28,
    "start_time": "2024-04-26T02:26:31.963Z"
   },
   {
    "duration": 123,
    "start_time": "2024-04-26T02:26:31.993Z"
   },
   {
    "duration": 3,
    "start_time": "2024-04-26T02:26:32.118Z"
   },
   {
    "duration": 86,
    "start_time": "2024-04-26T02:26:32.124Z"
   },
   {
    "duration": 3,
    "start_time": "2024-04-26T02:26:32.212Z"
   },
   {
    "duration": 16,
    "start_time": "2024-04-26T02:26:32.216Z"
   },
   {
    "duration": 3,
    "start_time": "2024-04-26T02:26:32.233Z"
   },
   {
    "duration": 7,
    "start_time": "2024-04-26T02:26:32.238Z"
   },
   {
    "duration": 7,
    "start_time": "2024-04-26T02:26:32.246Z"
   },
   {
    "duration": 41,
    "start_time": "2024-04-26T02:26:32.254Z"
   },
   {
    "duration": 3,
    "start_time": "2024-04-26T02:26:32.297Z"
   },
   {
    "duration": 107,
    "start_time": "2024-04-26T02:26:32.301Z"
   },
   {
    "duration": 3,
    "start_time": "2024-04-26T02:26:32.410Z"
   },
   {
    "duration": 10,
    "start_time": "2024-04-26T02:26:32.414Z"
   },
   {
    "duration": 14,
    "start_time": "2024-04-26T02:26:32.426Z"
   },
   {
    "duration": 8,
    "start_time": "2024-04-26T02:26:32.442Z"
   },
   {
    "duration": 5,
    "start_time": "2024-04-26T02:26:32.452Z"
   },
   {
    "duration": 44,
    "start_time": "2024-04-26T02:26:32.458Z"
   },
   {
    "duration": 8,
    "start_time": "2024-04-26T02:26:32.503Z"
   },
   {
    "duration": 12,
    "start_time": "2024-04-26T02:26:32.512Z"
   },
   {
    "duration": 6,
    "start_time": "2024-04-26T02:26:32.526Z"
   },
   {
    "duration": 6,
    "start_time": "2024-04-26T02:26:32.535Z"
   },
   {
    "duration": 3,
    "start_time": "2024-04-26T02:26:32.543Z"
   },
   {
    "duration": 43,
    "start_time": "2024-04-26T02:26:32.548Z"
   },
   {
    "duration": 4,
    "start_time": "2024-04-26T02:26:32.593Z"
   },
   {
    "duration": 19,
    "start_time": "2024-04-26T02:26:32.598Z"
   },
   {
    "duration": 8,
    "start_time": "2024-04-26T02:26:32.618Z"
   },
   {
    "duration": 30,
    "start_time": "2024-04-26T02:26:32.628Z"
   },
   {
    "duration": 6,
    "start_time": "2024-04-26T02:26:32.659Z"
   },
   {
    "duration": 7,
    "start_time": "2024-04-26T02:26:32.667Z"
   },
   {
    "duration": 6,
    "start_time": "2024-04-26T02:26:32.675Z"
   },
   {
    "duration": 15,
    "start_time": "2024-04-26T02:26:32.682Z"
   },
   {
    "duration": 3,
    "start_time": "2024-04-26T02:26:32.699Z"
   },
   {
    "duration": 750,
    "start_time": "2024-04-26T02:26:32.704Z"
   },
   {
    "duration": 2636,
    "start_time": "2024-04-26T02:26:33.456Z"
   },
   {
    "duration": 20,
    "start_time": "2024-04-26T02:26:36.094Z"
   },
   {
    "duration": 9,
    "start_time": "2024-04-26T02:26:36.115Z"
   },
   {
    "duration": 8,
    "start_time": "2024-04-26T02:26:36.125Z"
   },
   {
    "duration": 4,
    "start_time": "2024-04-26T02:26:36.134Z"
   },
   {
    "duration": 13,
    "start_time": "2024-04-26T02:26:36.140Z"
   },
   {
    "duration": 4,
    "start_time": "2024-04-26T02:26:36.154Z"
   },
   {
    "duration": 74,
    "start_time": "2024-04-26T02:26:36.159Z"
   },
   {
    "duration": 0,
    "start_time": "2024-04-26T02:26:36.234Z"
   },
   {
    "duration": 0,
    "start_time": "2024-04-26T02:26:36.235Z"
   },
   {
    "duration": 0,
    "start_time": "2024-04-26T02:26:36.236Z"
   },
   {
    "duration": 0,
    "start_time": "2024-04-26T02:26:36.237Z"
   },
   {
    "duration": 0,
    "start_time": "2024-04-26T02:26:36.238Z"
   },
   {
    "duration": 0,
    "start_time": "2024-04-26T02:26:36.239Z"
   },
   {
    "duration": 0,
    "start_time": "2024-04-26T02:26:36.240Z"
   },
   {
    "duration": 83,
    "start_time": "2024-04-26T02:27:20.690Z"
   },
   {
    "duration": 105,
    "start_time": "2024-04-26T02:27:34.930Z"
   },
   {
    "duration": 9,
    "start_time": "2024-04-26T02:27:53.034Z"
   },
   {
    "duration": 4,
    "start_time": "2024-04-26T02:28:04.954Z"
   },
   {
    "duration": 2,
    "start_time": "2024-04-26T02:28:07.267Z"
   },
   {
    "duration": 2,
    "start_time": "2024-04-26T02:28:08.403Z"
   },
   {
    "duration": 3,
    "start_time": "2024-04-26T02:28:08.850Z"
   },
   {
    "duration": 5,
    "start_time": "2024-04-26T02:28:11.570Z"
   },
   {
    "duration": 8,
    "start_time": "2024-04-26T02:28:13.310Z"
   },
   {
    "duration": 2371,
    "start_time": "2024-04-26T02:28:14.387Z"
   },
   {
    "duration": 2521,
    "start_time": "2024-04-26T02:28:41.171Z"
   },
   {
    "duration": 2495,
    "start_time": "2024-04-26T02:29:37.107Z"
   },
   {
    "duration": 5,
    "start_time": "2024-04-26T02:31:27.563Z"
   },
   {
    "duration": 31,
    "start_time": "2024-04-26T02:36:22.519Z"
   },
   {
    "duration": 27,
    "start_time": "2024-04-26T02:36:55.044Z"
   },
   {
    "duration": 8,
    "start_time": "2024-04-26T02:58:02.747Z"
   },
   {
    "duration": 3,
    "start_time": "2024-04-26T02:58:03.300Z"
   },
   {
    "duration": 5,
    "start_time": "2024-04-26T02:58:04.046Z"
   },
   {
    "duration": 3,
    "start_time": "2024-04-26T02:58:04.511Z"
   },
   {
    "duration": 4,
    "start_time": "2024-04-26T02:58:04.952Z"
   },
   {
    "duration": 2,
    "start_time": "2024-04-26T02:58:05.320Z"
   },
   {
    "duration": 2,
    "start_time": "2024-04-26T02:58:05.644Z"
   },
   {
    "duration": 3,
    "start_time": "2024-04-26T02:58:06.088Z"
   },
   {
    "duration": 6,
    "start_time": "2024-04-26T02:58:07.096Z"
   },
   {
    "duration": 8485,
    "start_time": "2024-04-26T02:58:07.596Z"
   },
   {
    "duration": 0,
    "start_time": "2024-04-26T02:58:16.083Z"
   },
   {
    "duration": 5,
    "start_time": "2024-04-26T03:04:01.065Z"
   },
   {
    "duration": 4,
    "start_time": "2024-04-26T03:04:49.112Z"
   },
   {
    "duration": 2476,
    "start_time": "2024-04-26T03:05:24.762Z"
   },
   {
    "duration": 1927,
    "start_time": "2024-04-26T03:05:27.240Z"
   },
   {
    "duration": 30,
    "start_time": "2024-04-26T03:05:29.169Z"
   },
   {
    "duration": 21,
    "start_time": "2024-04-26T03:05:29.201Z"
   },
   {
    "duration": 17,
    "start_time": "2024-04-26T03:05:29.223Z"
   },
   {
    "duration": 28,
    "start_time": "2024-04-26T03:05:29.241Z"
   },
   {
    "duration": 3,
    "start_time": "2024-04-26T03:05:29.271Z"
   },
   {
    "duration": 63,
    "start_time": "2024-04-26T03:05:29.276Z"
   },
   {
    "duration": 3,
    "start_time": "2024-04-26T03:05:29.341Z"
   },
   {
    "duration": 61,
    "start_time": "2024-04-26T03:05:29.346Z"
   },
   {
    "duration": 4,
    "start_time": "2024-04-26T03:05:29.408Z"
   },
   {
    "duration": 17,
    "start_time": "2024-04-26T03:05:29.413Z"
   },
   {
    "duration": 3,
    "start_time": "2024-04-26T03:05:29.432Z"
   },
   {
    "duration": 8,
    "start_time": "2024-04-26T03:05:29.437Z"
   },
   {
    "duration": 13,
    "start_time": "2024-04-26T03:05:29.447Z"
   },
   {
    "duration": 29,
    "start_time": "2024-04-26T03:05:29.461Z"
   },
   {
    "duration": 9,
    "start_time": "2024-04-26T03:05:29.493Z"
   },
   {
    "duration": 4,
    "start_time": "2024-04-26T03:05:29.504Z"
   },
   {
    "duration": 112,
    "start_time": "2024-04-26T03:05:29.509Z"
   },
   {
    "duration": 4,
    "start_time": "2024-04-26T03:05:29.623Z"
   },
   {
    "duration": 13,
    "start_time": "2024-04-26T03:05:29.629Z"
   },
   {
    "duration": 13,
    "start_time": "2024-04-26T03:05:29.644Z"
   },
   {
    "duration": 34,
    "start_time": "2024-04-26T03:05:29.659Z"
   },
   {
    "duration": 6,
    "start_time": "2024-04-26T03:05:29.695Z"
   },
   {
    "duration": 13,
    "start_time": "2024-04-26T03:05:29.702Z"
   },
   {
    "duration": 13,
    "start_time": "2024-04-26T03:05:29.716Z"
   },
   {
    "duration": 37,
    "start_time": "2024-04-26T03:05:29.730Z"
   },
   {
    "duration": 8,
    "start_time": "2024-04-26T03:05:29.772Z"
   },
   {
    "duration": 9,
    "start_time": "2024-04-26T03:05:29.792Z"
   },
   {
    "duration": 16,
    "start_time": "2024-04-26T03:05:29.803Z"
   },
   {
    "duration": 10,
    "start_time": "2024-04-26T03:05:29.821Z"
   },
   {
    "duration": 4,
    "start_time": "2024-04-26T03:05:29.833Z"
   },
   {
    "duration": 35,
    "start_time": "2024-04-26T03:05:29.839Z"
   },
   {
    "duration": 11,
    "start_time": "2024-04-26T03:05:29.876Z"
   },
   {
    "duration": 10,
    "start_time": "2024-04-26T03:05:29.889Z"
   },
   {
    "duration": 31,
    "start_time": "2024-04-26T03:05:29.901Z"
   },
   {
    "duration": 14,
    "start_time": "2024-04-26T03:05:29.934Z"
   },
   {
    "duration": 6,
    "start_time": "2024-04-26T03:05:29.949Z"
   },
   {
    "duration": 16,
    "start_time": "2024-04-26T03:05:29.956Z"
   },
   {
    "duration": 9,
    "start_time": "2024-04-26T03:05:29.973Z"
   },
   {
    "duration": 719,
    "start_time": "2024-04-26T03:05:29.983Z"
   },
   {
    "duration": 2632,
    "start_time": "2024-04-26T03:05:30.704Z"
   },
   {
    "duration": 15,
    "start_time": "2024-04-26T03:05:33.338Z"
   },
   {
    "duration": 10,
    "start_time": "2024-04-26T03:05:33.354Z"
   },
   {
    "duration": 10,
    "start_time": "2024-04-26T03:05:33.365Z"
   },
   {
    "duration": 3,
    "start_time": "2024-04-26T03:05:33.376Z"
   },
   {
    "duration": 5,
    "start_time": "2024-04-26T03:05:33.380Z"
   },
   {
    "duration": 14,
    "start_time": "2024-04-26T03:05:33.386Z"
   },
   {
    "duration": 6,
    "start_time": "2024-04-26T03:05:33.401Z"
   },
   {
    "duration": 30,
    "start_time": "2024-04-26T03:05:33.408Z"
   },
   {
    "duration": 8,
    "start_time": "2024-04-26T03:05:33.440Z"
   },
   {
    "duration": 11,
    "start_time": "2024-04-26T03:05:33.449Z"
   },
   {
    "duration": 22,
    "start_time": "2024-04-26T03:05:33.462Z"
   },
   {
    "duration": 1439,
    "start_time": "2024-04-26T03:05:33.486Z"
   },
   {
    "duration": 32,
    "start_time": "2024-04-26T03:05:34.927Z"
   },
   {
    "duration": 23,
    "start_time": "2024-04-26T03:05:34.961Z"
   },
   {
    "duration": 9,
    "start_time": "2024-04-26T03:05:34.985Z"
   },
   {
    "duration": 104,
    "start_time": "2024-04-26T03:12:46.902Z"
   },
   {
    "duration": 13,
    "start_time": "2024-04-26T03:13:10.107Z"
   },
   {
    "duration": 7616,
    "start_time": "2024-04-26T03:15:56.735Z"
   },
   {
    "duration": 363,
    "start_time": "2024-04-26T03:16:07.646Z"
   },
   {
    "duration": 40,
    "start_time": "2024-04-26T03:16:35.873Z"
   },
   {
    "duration": 14,
    "start_time": "2024-04-26T03:16:54.166Z"
   },
   {
    "duration": 13,
    "start_time": "2024-04-26T03:21:00.157Z"
   },
   {
    "duration": 15,
    "start_time": "2024-04-26T03:31:42.602Z"
   },
   {
    "duration": 6,
    "start_time": "2024-04-26T03:33:49.747Z"
   },
   {
    "duration": 3483,
    "start_time": "2024-04-26T03:33:51.635Z"
   },
   {
    "duration": 30,
    "start_time": "2024-04-26T03:33:55.120Z"
   },
   {
    "duration": 17,
    "start_time": "2024-04-26T03:34:05.240Z"
   },
   {
    "duration": 6,
    "start_time": "2024-04-26T03:34:05.983Z"
   },
   {
    "duration": 5,
    "start_time": "2024-04-26T03:34:23.859Z"
   },
   {
    "duration": 5,
    "start_time": "2024-04-26T03:34:29.927Z"
   },
   {
    "duration": 1554,
    "start_time": "2024-04-26T03:34:30.719Z"
   },
   {
    "duration": 35,
    "start_time": "2024-04-26T03:34:32.275Z"
   },
   {
    "duration": 17,
    "start_time": "2024-04-26T03:34:34.139Z"
   },
   {
    "duration": 5,
    "start_time": "2024-04-26T03:34:35.051Z"
   },
   {
    "duration": 5,
    "start_time": "2024-04-26T03:47:36.231Z"
   },
   {
    "duration": 3123,
    "start_time": "2024-04-26T03:47:37.244Z"
   },
   {
    "duration": 30,
    "start_time": "2024-04-26T03:47:46.983Z"
   },
   {
    "duration": 208,
    "start_time": "2024-04-26T03:47:48.491Z"
   },
   {
    "duration": 4,
    "start_time": "2024-04-26T03:47:53.112Z"
   },
   {
    "duration": 5,
    "start_time": "2024-04-26T03:48:19.100Z"
   },
   {
    "duration": 3131,
    "start_time": "2024-04-26T03:48:19.515Z"
   },
   {
    "duration": 29,
    "start_time": "2024-04-26T03:48:22.648Z"
   },
   {
    "duration": 114,
    "start_time": "2024-04-26T03:48:22.679Z"
   },
   {
    "duration": 6,
    "start_time": "2024-04-26T03:48:35.837Z"
   },
   {
    "duration": 5,
    "start_time": "2024-04-26T03:48:55.968Z"
   },
   {
    "duration": 3265,
    "start_time": "2024-04-26T03:48:56.471Z"
   },
   {
    "duration": 33,
    "start_time": "2024-04-26T03:48:59.737Z"
   },
   {
    "duration": 125,
    "start_time": "2024-04-26T03:48:59.772Z"
   },
   {
    "duration": 93,
    "start_time": "2024-04-26T03:48:59.900Z"
   },
   {
    "duration": 5,
    "start_time": "2024-04-26T03:49:25.267Z"
   },
   {
    "duration": 3543,
    "start_time": "2024-04-26T03:49:25.608Z"
   },
   {
    "duration": 30,
    "start_time": "2024-04-26T03:49:29.152Z"
   },
   {
    "duration": 102,
    "start_time": "2024-04-26T03:49:29.192Z"
   },
   {
    "duration": 95,
    "start_time": "2024-04-26T03:49:29.297Z"
   },
   {
    "duration": 6,
    "start_time": "2024-04-26T03:49:46.723Z"
   },
   {
    "duration": 2126,
    "start_time": "2024-04-26T03:49:47.092Z"
   },
   {
    "duration": 31,
    "start_time": "2024-04-26T03:49:49.220Z"
   },
   {
    "duration": 19,
    "start_time": "2024-04-26T03:49:49.253Z"
   },
   {
    "duration": 16,
    "start_time": "2024-04-26T03:49:49.274Z"
   },
   {
    "duration": 5,
    "start_time": "2024-04-26T03:51:05.385Z"
   },
   {
    "duration": 1510,
    "start_time": "2024-04-26T03:51:05.882Z"
   },
   {
    "duration": 32,
    "start_time": "2024-04-26T03:51:07.393Z"
   },
   {
    "duration": 17,
    "start_time": "2024-04-26T03:51:07.611Z"
   },
   {
    "duration": 6,
    "start_time": "2024-04-26T03:51:08.515Z"
   },
   {
    "duration": 5,
    "start_time": "2024-04-26T03:51:43.788Z"
   },
   {
    "duration": 2430,
    "start_time": "2024-04-26T03:51:44.148Z"
   },
   {
    "duration": 33,
    "start_time": "2024-04-26T03:51:46.580Z"
   },
   {
    "duration": 23,
    "start_time": "2024-04-26T03:51:46.615Z"
   },
   {
    "duration": 18,
    "start_time": "2024-04-26T03:51:46.640Z"
   },
   {
    "duration": 70,
    "start_time": "2024-04-26T03:51:46.659Z"
   },
   {
    "duration": 5,
    "start_time": "2024-04-26T03:52:10.950Z"
   },
   {
    "duration": 3474,
    "start_time": "2024-04-26T03:52:11.410Z"
   },
   {
    "duration": 33,
    "start_time": "2024-04-26T03:52:14.885Z"
   },
   {
    "duration": 17,
    "start_time": "2024-04-26T03:52:14.920Z"
   },
   {
    "duration": 5,
    "start_time": "2024-04-26T03:52:14.939Z"
   },
   {
    "duration": 101,
    "start_time": "2024-04-26T03:52:14.946Z"
   },
   {
    "duration": 7,
    "start_time": "2024-04-26T03:52:58.624Z"
   },
   {
    "duration": 2471,
    "start_time": "2024-04-26T03:52:58.891Z"
   },
   {
    "duration": 42,
    "start_time": "2024-04-26T03:53:01.364Z"
   },
   {
    "duration": 286,
    "start_time": "2024-04-26T03:53:01.408Z"
   },
   {
    "duration": 96,
    "start_time": "2024-04-26T03:53:01.696Z"
   },
   {
    "duration": 116,
    "start_time": "2024-04-26T03:53:12.576Z"
   },
   {
    "duration": 5,
    "start_time": "2024-04-26T03:53:14.724Z"
   },
   {
    "duration": 6,
    "start_time": "2024-04-26T03:53:29.748Z"
   },
   {
    "duration": 4161,
    "start_time": "2024-04-26T03:53:30.173Z"
   },
   {
    "duration": 31,
    "start_time": "2024-04-26T03:53:34.336Z"
   },
   {
    "duration": 31,
    "start_time": "2024-04-26T03:53:42.033Z"
   },
   {
    "duration": 18,
    "start_time": "2024-04-26T03:53:45.792Z"
   },
   {
    "duration": 4,
    "start_time": "2024-04-26T03:53:49.237Z"
   },
   {
    "duration": 5,
    "start_time": "2024-04-26T03:54:00.147Z"
   },
   {
    "duration": 3790,
    "start_time": "2024-04-26T03:54:00.675Z"
   },
   {
    "duration": 42,
    "start_time": "2024-04-26T03:54:04.467Z"
   },
   {
    "duration": 183,
    "start_time": "2024-04-26T03:54:04.510Z"
   },
   {
    "duration": 30,
    "start_time": "2024-04-26T03:54:07.294Z"
   },
   {
    "duration": 59,
    "start_time": "2024-04-26T03:54:14.536Z"
   },
   {
    "duration": 5,
    "start_time": "2024-04-26T03:54:15.352Z"
   },
   {
    "duration": 5,
    "start_time": "2024-04-26T03:54:38.936Z"
   },
   {
    "duration": 1434,
    "start_time": "2024-04-26T03:54:39.548Z"
   },
   {
    "duration": 31,
    "start_time": "2024-04-26T03:54:40.983Z"
   },
   {
    "duration": 13,
    "start_time": "2024-04-26T03:54:43.444Z"
   },
   {
    "duration": 5,
    "start_time": "2024-04-26T03:54:45.181Z"
   },
   {
    "duration": 6,
    "start_time": "2024-04-26T03:55:03.248Z"
   },
   {
    "duration": 1662,
    "start_time": "2024-04-26T03:55:03.600Z"
   },
   {
    "duration": 37,
    "start_time": "2024-04-26T03:55:05.264Z"
   },
   {
    "duration": 23,
    "start_time": "2024-04-26T03:55:05.303Z"
   },
   {
    "duration": 23,
    "start_time": "2024-04-26T03:55:05.328Z"
   },
   {
    "duration": 12,
    "start_time": "2024-04-26T03:55:11.000Z"
   },
   {
    "duration": 5,
    "start_time": "2024-04-26T03:55:12.776Z"
   },
   {
    "duration": 27,
    "start_time": "2024-04-26T04:42:02.332Z"
   },
   {
    "duration": 16,
    "start_time": "2024-04-26T04:42:38.594Z"
   },
   {
    "duration": 7,
    "start_time": "2024-04-26T04:42:39.906Z"
   },
   {
    "duration": 8,
    "start_time": "2024-04-26T04:42:40.614Z"
   },
   {
    "duration": 3,
    "start_time": "2024-04-26T04:42:41.239Z"
   },
   {
    "duration": 4,
    "start_time": "2024-04-26T04:42:42.088Z"
   },
   {
    "duration": 4,
    "start_time": "2024-04-26T04:42:43.259Z"
   },
   {
    "duration": 4,
    "start_time": "2024-04-26T04:42:44.005Z"
   },
   {
    "duration": 2,
    "start_time": "2024-04-26T04:42:44.824Z"
   },
   {
    "duration": 3,
    "start_time": "2024-04-26T04:42:46.257Z"
   },
   {
    "duration": 3,
    "start_time": "2024-04-26T04:42:46.726Z"
   },
   {
    "duration": 21,
    "start_time": "2024-04-26T04:42:56.109Z"
   },
   {
    "duration": 108119,
    "start_time": "2024-04-26T04:44:47.765Z"
   },
   {
    "duration": 0,
    "start_time": "2024-04-26T07:12:20.643Z"
   },
   {
    "duration": 2610520,
    "start_time": "2024-04-26T07:13:16.652Z"
   },
   {
    "duration": 0,
    "start_time": "2024-04-26T07:56:47.174Z"
   },
   {
    "duration": 6171,
    "start_time": "2024-04-26T08:01:53.644Z"
   },
   {
    "duration": 2252,
    "start_time": "2024-04-26T08:01:59.818Z"
   },
   {
    "duration": 35,
    "start_time": "2024-04-26T08:02:02.072Z"
   },
   {
    "duration": 218,
    "start_time": "2024-04-26T08:02:02.110Z"
   },
   {
    "duration": 154,
    "start_time": "2024-04-26T08:02:02.330Z"
   },
   {
    "duration": 247,
    "start_time": "2024-04-26T08:02:02.486Z"
   },
   {
    "duration": 41,
    "start_time": "2024-04-26T08:02:02.735Z"
   },
   {
    "duration": 89,
    "start_time": "2024-04-26T08:02:02.778Z"
   },
   {
    "duration": 4,
    "start_time": "2024-04-26T08:02:02.892Z"
   },
   {
    "duration": 42,
    "start_time": "2024-04-26T08:02:02.900Z"
   },
   {
    "duration": 4,
    "start_time": "2024-04-26T08:02:02.943Z"
   },
   {
    "duration": 54,
    "start_time": "2024-04-26T08:02:02.948Z"
   },
   {
    "duration": 9,
    "start_time": "2024-04-26T08:02:03.004Z"
   },
   {
    "duration": 4,
    "start_time": "2024-04-26T08:02:03.015Z"
   },
   {
    "duration": 18,
    "start_time": "2024-04-26T08:02:03.021Z"
   },
   {
    "duration": 16,
    "start_time": "2024-04-26T08:02:03.040Z"
   },
   {
    "duration": 15,
    "start_time": "2024-04-26T08:02:03.057Z"
   },
   {
    "duration": 10,
    "start_time": "2024-04-26T08:02:03.074Z"
   },
   {
    "duration": 116,
    "start_time": "2024-04-26T08:02:03.086Z"
   },
   {
    "duration": 5,
    "start_time": "2024-04-26T08:02:03.204Z"
   },
   {
    "duration": 16,
    "start_time": "2024-04-26T08:02:03.211Z"
   },
   {
    "duration": 17,
    "start_time": "2024-04-26T08:02:03.229Z"
   },
   {
    "duration": 16,
    "start_time": "2024-04-26T08:02:03.248Z"
   },
   {
    "duration": 28,
    "start_time": "2024-04-26T08:02:03.265Z"
   },
   {
    "duration": 29,
    "start_time": "2024-04-26T08:02:03.295Z"
   },
   {
    "duration": 10,
    "start_time": "2024-04-26T08:02:03.326Z"
   },
   {
    "duration": 33,
    "start_time": "2024-04-26T08:02:03.339Z"
   },
   {
    "duration": 7,
    "start_time": "2024-04-26T08:02:03.376Z"
   },
   {
    "duration": 8,
    "start_time": "2024-04-26T08:02:03.385Z"
   },
   {
    "duration": 9,
    "start_time": "2024-04-26T08:02:03.395Z"
   },
   {
    "duration": 11,
    "start_time": "2024-04-26T08:02:03.406Z"
   },
   {
    "duration": 20,
    "start_time": "2024-04-26T08:02:03.419Z"
   },
   {
    "duration": 42,
    "start_time": "2024-04-26T08:02:03.440Z"
   },
   {
    "duration": 8,
    "start_time": "2024-04-26T08:02:03.484Z"
   },
   {
    "duration": 17,
    "start_time": "2024-04-26T08:02:03.494Z"
   },
   {
    "duration": 11,
    "start_time": "2024-04-26T08:02:03.513Z"
   },
   {
    "duration": 29,
    "start_time": "2024-04-26T08:02:03.526Z"
   },
   {
    "duration": 6,
    "start_time": "2024-04-26T08:02:03.557Z"
   },
   {
    "duration": 17,
    "start_time": "2024-04-26T08:02:03.564Z"
   },
   {
    "duration": 8,
    "start_time": "2024-04-26T08:02:03.583Z"
   },
   {
    "duration": 874,
    "start_time": "2024-04-26T08:02:03.592Z"
   },
   {
    "duration": 2776,
    "start_time": "2024-04-26T08:02:04.468Z"
   },
   {
    "duration": 15,
    "start_time": "2024-04-26T08:02:07.246Z"
   },
   {
    "duration": 14,
    "start_time": "2024-04-26T08:02:07.262Z"
   },
   {
    "duration": 10,
    "start_time": "2024-04-26T08:02:07.278Z"
   },
   {
    "duration": 4,
    "start_time": "2024-04-26T08:02:07.290Z"
   },
   {
    "duration": 14,
    "start_time": "2024-04-26T08:02:07.296Z"
   },
   {
    "duration": 4,
    "start_time": "2024-04-26T08:02:07.312Z"
   },
   {
    "duration": 28,
    "start_time": "2024-04-26T08:02:07.317Z"
   },
   {
    "duration": 12,
    "start_time": "2024-04-26T08:02:07.347Z"
   },
   {
    "duration": 21,
    "start_time": "2024-04-26T08:02:07.362Z"
   },
   {
    "duration": 11,
    "start_time": "2024-04-26T08:02:07.385Z"
   },
   {
    "duration": 8,
    "start_time": "2024-04-26T08:02:07.398Z"
   },
   {
    "duration": 1813,
    "start_time": "2024-04-26T08:02:07.407Z"
   },
   {
    "duration": 40,
    "start_time": "2024-04-26T08:02:09.222Z"
   },
   {
    "duration": 29,
    "start_time": "2024-04-26T08:02:09.264Z"
   },
   {
    "duration": 11,
    "start_time": "2024-04-26T08:02:09.295Z"
   },
   {
    "duration": 4,
    "start_time": "2024-04-26T08:02:09.308Z"
   },
   {
    "duration": 5111,
    "start_time": "2024-04-26T08:20:03.344Z"
   },
   {
    "duration": 1947,
    "start_time": "2024-04-26T08:20:08.457Z"
   },
   {
    "duration": 31,
    "start_time": "2024-04-26T08:20:10.405Z"
   },
   {
    "duration": 17,
    "start_time": "2024-04-26T08:20:10.438Z"
   },
   {
    "duration": 17,
    "start_time": "2024-04-26T08:20:10.457Z"
   },
   {
    "duration": 26,
    "start_time": "2024-04-26T08:20:10.475Z"
   },
   {
    "duration": 4,
    "start_time": "2024-04-26T08:20:10.502Z"
   },
   {
    "duration": 95,
    "start_time": "2024-04-26T08:20:10.508Z"
   },
   {
    "duration": 4,
    "start_time": "2024-04-26T08:20:10.604Z"
   },
   {
    "duration": 82,
    "start_time": "2024-04-26T08:20:10.611Z"
   },
   {
    "duration": 4,
    "start_time": "2024-04-26T08:20:10.694Z"
   },
   {
    "duration": 16,
    "start_time": "2024-04-26T08:20:10.699Z"
   },
   {
    "duration": 5,
    "start_time": "2024-04-26T08:20:10.716Z"
   },
   {
    "duration": 14,
    "start_time": "2024-04-26T08:20:10.723Z"
   },
   {
    "duration": 15,
    "start_time": "2024-04-26T08:20:10.739Z"
   },
   {
    "duration": 17,
    "start_time": "2024-04-26T08:20:10.756Z"
   },
   {
    "duration": 11,
    "start_time": "2024-04-26T08:20:10.775Z"
   },
   {
    "duration": 7,
    "start_time": "2024-04-26T08:20:10.787Z"
   },
   {
    "duration": 103,
    "start_time": "2024-04-26T08:20:10.796Z"
   },
   {
    "duration": 5,
    "start_time": "2024-04-26T08:20:10.901Z"
   },
   {
    "duration": 17,
    "start_time": "2024-04-26T08:20:10.908Z"
   },
   {
    "duration": 33,
    "start_time": "2024-04-26T08:20:10.926Z"
   },
   {
    "duration": 14,
    "start_time": "2024-04-26T08:20:10.961Z"
   },
   {
    "duration": 10,
    "start_time": "2024-04-26T08:20:10.976Z"
   },
   {
    "duration": 14,
    "start_time": "2024-04-26T08:20:10.992Z"
   },
   {
    "duration": 35,
    "start_time": "2024-04-26T08:20:11.007Z"
   },
   {
    "duration": 13,
    "start_time": "2024-04-26T08:20:11.044Z"
   },
   {
    "duration": 22,
    "start_time": "2024-04-26T08:20:11.062Z"
   },
   {
    "duration": 14,
    "start_time": "2024-04-26T08:20:11.086Z"
   },
   {
    "duration": 26,
    "start_time": "2024-04-26T08:20:11.101Z"
   },
   {
    "duration": 17,
    "start_time": "2024-04-26T08:20:11.129Z"
   },
   {
    "duration": 11,
    "start_time": "2024-04-26T08:20:11.148Z"
   },
   {
    "duration": 17,
    "start_time": "2024-04-26T08:20:11.161Z"
   },
   {
    "duration": 20,
    "start_time": "2024-04-26T08:20:11.180Z"
   },
   {
    "duration": 16,
    "start_time": "2024-04-26T08:20:11.202Z"
   },
   {
    "duration": 18,
    "start_time": "2024-04-26T08:20:11.220Z"
   },
   {
    "duration": 8,
    "start_time": "2024-04-26T08:20:11.240Z"
   },
   {
    "duration": 7,
    "start_time": "2024-04-26T08:20:11.250Z"
   },
   {
    "duration": 24,
    "start_time": "2024-04-26T08:20:11.259Z"
   },
   {
    "duration": 27,
    "start_time": "2024-04-26T08:20:11.285Z"
   },
   {
    "duration": 813,
    "start_time": "2024-04-26T08:20:11.314Z"
   },
   {
    "duration": 2688,
    "start_time": "2024-04-26T08:20:12.128Z"
   },
   {
    "duration": 18,
    "start_time": "2024-04-26T08:20:14.818Z"
   },
   {
    "duration": 41,
    "start_time": "2024-04-26T08:20:14.838Z"
   },
   {
    "duration": 26,
    "start_time": "2024-04-26T08:20:14.881Z"
   },
   {
    "duration": 32,
    "start_time": "2024-04-26T08:20:14.908Z"
   },
   {
    "duration": 37,
    "start_time": "2024-04-26T08:20:14.942Z"
   },
   {
    "duration": 69,
    "start_time": "2024-04-26T08:20:14.981Z"
   },
   {
    "duration": 29,
    "start_time": "2024-04-26T08:20:15.051Z"
   },
   {
    "duration": 77,
    "start_time": "2024-04-26T08:20:15.081Z"
   },
   {
    "duration": 40,
    "start_time": "2024-04-26T08:20:15.159Z"
   },
   {
    "duration": 46,
    "start_time": "2024-04-26T08:20:15.201Z"
   },
   {
    "duration": 58,
    "start_time": "2024-04-26T08:20:15.248Z"
   },
   {
    "duration": 1745,
    "start_time": "2024-04-26T08:20:15.308Z"
   },
   {
    "duration": 45,
    "start_time": "2024-04-26T08:20:17.055Z"
   },
   {
    "duration": 19,
    "start_time": "2024-04-26T08:20:17.102Z"
   },
   {
    "duration": 36,
    "start_time": "2024-04-26T08:20:17.123Z"
   },
   {
    "duration": 21,
    "start_time": "2024-04-26T08:20:17.161Z"
   },
   {
    "duration": 94036,
    "start_time": "2024-04-26T08:20:17.184Z"
   },
   {
    "duration": 0,
    "start_time": "2024-04-26T08:21:51.222Z"
   },
   {
    "duration": 0,
    "start_time": "2024-04-26T08:21:51.223Z"
   },
   {
    "duration": 0,
    "start_time": "2024-04-26T08:21:51.225Z"
   },
   {
    "duration": 5885429,
    "start_time": "2024-04-26T08:21:52.766Z"
   },
   {
    "duration": 0,
    "start_time": "2024-04-26T12:25:03.119Z"
   },
   {
    "duration": 3,
    "start_time": "2024-04-26T12:25:48.268Z"
   },
   {
    "duration": 3966982,
    "start_time": "2024-04-26T12:25:49.872Z"
   },
   {
    "duration": 3,
    "start_time": "2024-04-26T13:40:07.553Z"
   },
   {
    "duration": 0,
    "start_time": "2024-04-26T13:48:34.158Z"
   },
   {
    "duration": 0,
    "start_time": "2024-04-26T13:48:34.160Z"
   },
   {
    "duration": 0,
    "start_time": "2024-04-26T13:48:34.161Z"
   },
   {
    "duration": 0,
    "start_time": "2024-04-26T13:48:34.162Z"
   },
   {
    "duration": 6,
    "start_time": "2024-04-26T13:48:39.877Z"
   },
   {
    "duration": 2194,
    "start_time": "2024-04-26T13:48:41.884Z"
   },
   {
    "duration": 43,
    "start_time": "2024-04-26T13:48:52.261Z"
   },
   {
    "duration": 14,
    "start_time": "2024-04-26T13:48:59.428Z"
   },
   {
    "duration": 4,
    "start_time": "2024-04-26T13:49:00.727Z"
   },
   {
    "duration": 3,
    "start_time": "2024-04-26T13:49:02.221Z"
   },
   {
    "duration": 3,
    "start_time": "2024-04-26T13:49:03.056Z"
   },
   {
    "duration": 98,
    "start_time": "2024-04-26T13:49:03.942Z"
   },
   {
    "duration": 39,
    "start_time": "2024-04-26T13:49:13.612Z"
   },
   {
    "duration": 23,
    "start_time": "2024-04-26T13:49:19.398Z"
   },
   {
    "duration": 18,
    "start_time": "2024-04-26T13:49:26.753Z"
   },
   {
    "duration": 28,
    "start_time": "2024-04-26T13:53:21.498Z"
   },
   {
    "duration": 6,
    "start_time": "2024-04-26T13:53:42.937Z"
   },
   {
    "duration": 2377,
    "start_time": "2024-04-26T13:53:43.516Z"
   },
   {
    "duration": 43,
    "start_time": "2024-04-26T13:53:45.902Z"
   },
   {
    "duration": 36,
    "start_time": "2024-04-26T13:53:49.741Z"
   },
   {
    "duration": 26,
    "start_time": "2024-04-26T13:53:56.901Z"
   },
   {
    "duration": 5,
    "start_time": "2024-04-26T13:53:58.669Z"
   },
   {
    "duration": 6,
    "start_time": "2024-04-26T13:54:11.843Z"
   },
   {
    "duration": 2192,
    "start_time": "2024-04-26T13:54:12.578Z"
   },
   {
    "duration": 45,
    "start_time": "2024-04-26T13:54:14.772Z"
   },
   {
    "duration": 200,
    "start_time": "2024-04-26T13:54:14.993Z"
   },
   {
    "duration": 6,
    "start_time": "2024-04-26T13:54:18.669Z"
   },
   {
    "duration": 10,
    "start_time": "2024-04-26T13:54:45.102Z"
   },
   {
    "duration": 2463,
    "start_time": "2024-04-26T13:54:45.561Z"
   },
   {
    "duration": 52,
    "start_time": "2024-04-26T13:54:48.027Z"
   },
   {
    "duration": 38,
    "start_time": "2024-04-26T13:54:48.873Z"
   },
   {
    "duration": 7,
    "start_time": "2024-04-26T13:54:50.842Z"
   },
   {
    "duration": 6,
    "start_time": "2024-04-26T13:55:03.465Z"
   },
   {
    "duration": 2395,
    "start_time": "2024-04-26T13:55:03.852Z"
   },
   {
    "duration": 35,
    "start_time": "2024-04-26T13:55:06.249Z"
   },
   {
    "duration": 124,
    "start_time": "2024-04-26T13:55:06.286Z"
   },
   {
    "duration": 7,
    "start_time": "2024-04-26T13:55:06.413Z"
   },
   {
    "duration": 16,
    "start_time": "2024-04-26T13:55:32.505Z"
   },
   {
    "duration": 2235,
    "start_time": "2024-04-26T13:55:32.929Z"
   },
   {
    "duration": 50,
    "start_time": "2024-04-26T13:55:35.165Z"
   },
   {
    "duration": 175,
    "start_time": "2024-04-26T13:55:35.221Z"
   },
   {
    "duration": 8,
    "start_time": "2024-04-26T13:55:50.429Z"
   },
   {
    "duration": 2307,
    "start_time": "2024-04-26T13:55:50.878Z"
   },
   {
    "duration": 68,
    "start_time": "2024-04-26T13:55:53.187Z"
   },
   {
    "duration": 151,
    "start_time": "2024-04-26T13:55:53.256Z"
   },
   {
    "duration": 13,
    "start_time": "2024-04-26T13:55:53.410Z"
   },
   {
    "duration": 51,
    "start_time": "2024-04-26T13:56:02.250Z"
   },
   {
    "duration": 5,
    "start_time": "2024-04-26T13:56:04.228Z"
   },
   {
    "duration": 14,
    "start_time": "2024-04-26T13:56:15.109Z"
   },
   {
    "duration": 3260,
    "start_time": "2024-04-26T13:56:15.665Z"
   },
   {
    "duration": 37,
    "start_time": "2024-04-26T13:56:18.927Z"
   },
   {
    "duration": 144,
    "start_time": "2024-04-26T13:56:18.966Z"
   },
   {
    "duration": 79,
    "start_time": "2024-04-26T13:56:19.112Z"
   },
   {
    "duration": 80,
    "start_time": "2024-04-26T13:56:28.724Z"
   },
   {
    "duration": 9,
    "start_time": "2024-04-26T13:56:29.197Z"
   },
   {
    "duration": 5,
    "start_time": "2024-04-26T13:57:01.642Z"
   },
   {
    "duration": 3281,
    "start_time": "2024-04-26T13:57:02.090Z"
   },
   {
    "duration": 50,
    "start_time": "2024-04-26T13:57:05.373Z"
   },
   {
    "duration": 39,
    "start_time": "2024-04-26T13:57:07.862Z"
   },
   {
    "duration": 144,
    "start_time": "2024-04-26T13:57:10.882Z"
   },
   {
    "duration": 21,
    "start_time": "2024-04-26T13:57:11.202Z"
   },
   {
    "duration": 18,
    "start_time": "2024-04-26T14:00:01.186Z"
   },
   {
    "duration": 4948,
    "start_time": "2024-04-26T14:00:01.814Z"
   },
   {
    "duration": 55,
    "start_time": "2024-04-26T14:00:06.764Z"
   },
   {
    "duration": 98,
    "start_time": "2024-04-26T14:00:06.823Z"
   },
   {
    "duration": 78,
    "start_time": "2024-04-26T14:00:06.925Z"
   },
   {
    "duration": 13,
    "start_time": "2024-04-26T14:00:34.708Z"
   },
   {
    "duration": 3292,
    "start_time": "2024-04-26T14:00:35.134Z"
   },
   {
    "duration": 32,
    "start_time": "2024-04-26T14:00:38.428Z"
   },
   {
    "duration": 46,
    "start_time": "2024-04-26T14:00:39.262Z"
   },
   {
    "duration": 6,
    "start_time": "2024-04-26T14:00:40.426Z"
   },
   {
    "duration": 8,
    "start_time": "2024-04-26T14:01:07.562Z"
   },
   {
    "duration": 2452,
    "start_time": "2024-04-26T14:01:08.149Z"
   },
   {
    "duration": 42,
    "start_time": "2024-04-26T14:01:10.603Z"
   },
   {
    "duration": 75,
    "start_time": "2024-04-26T14:01:10.647Z"
   },
   {
    "duration": 5,
    "start_time": "2024-04-26T14:01:10.726Z"
   },
   {
    "duration": 6,
    "start_time": "2024-04-26T14:01:38.558Z"
   },
   {
    "duration": 1656,
    "start_time": "2024-04-26T14:01:39.002Z"
   },
   {
    "duration": 42,
    "start_time": "2024-04-26T14:01:40.660Z"
   },
   {
    "duration": 28,
    "start_time": "2024-04-26T14:01:40.720Z"
   },
   {
    "duration": 6,
    "start_time": "2024-04-26T14:01:55.882Z"
   },
   {
    "duration": 9,
    "start_time": "2024-04-26T14:02:06.723Z"
   },
   {
    "duration": 1400,
    "start_time": "2024-04-26T14:02:07.123Z"
   },
   {
    "duration": 38,
    "start_time": "2024-04-26T14:02:08.526Z"
   },
   {
    "duration": 51,
    "start_time": "2024-04-26T14:02:08.566Z"
   },
   {
    "duration": 12,
    "start_time": "2024-04-26T14:02:09.405Z"
   },
   {
    "duration": 6,
    "start_time": "2024-04-26T14:02:33.358Z"
   },
   {
    "duration": 1565,
    "start_time": "2024-04-26T14:02:33.889Z"
   },
   {
    "duration": 44,
    "start_time": "2024-04-26T14:02:35.456Z"
   },
   {
    "duration": 16,
    "start_time": "2024-04-26T14:02:36.782Z"
   },
   {
    "duration": 15,
    "start_time": "2024-04-26T14:02:37.814Z"
   },
   {
    "duration": 6,
    "start_time": "2024-04-26T14:02:49.661Z"
   },
   {
    "duration": 1387,
    "start_time": "2024-04-26T14:02:49.940Z"
   },
   {
    "duration": 35,
    "start_time": "2024-04-26T14:02:51.329Z"
   },
   {
    "duration": 49,
    "start_time": "2024-04-26T14:02:51.366Z"
   },
   {
    "duration": 19,
    "start_time": "2024-04-26T14:02:51.417Z"
   },
   {
    "duration": 7,
    "start_time": "2024-04-26T14:03:13.622Z"
   },
   {
    "duration": 1441,
    "start_time": "2024-04-26T14:03:13.830Z"
   },
   {
    "duration": 55,
    "start_time": "2024-04-26T14:03:15.273Z"
   },
   {
    "duration": 54,
    "start_time": "2024-04-26T14:03:15.330Z"
   },
   {
    "duration": 33,
    "start_time": "2024-04-26T14:03:15.386Z"
   },
   {
    "duration": 6,
    "start_time": "2024-04-26T14:03:26.420Z"
   },
   {
    "duration": 1400,
    "start_time": "2024-04-26T14:03:26.674Z"
   },
   {
    "duration": 57,
    "start_time": "2024-04-26T14:03:28.076Z"
   },
   {
    "duration": 27,
    "start_time": "2024-04-26T14:03:28.134Z"
   },
   {
    "duration": 9,
    "start_time": "2024-04-26T14:03:28.163Z"
   },
   {
    "duration": 3,
    "start_time": "2024-04-26T14:03:40.927Z"
   },
   {
    "duration": 25,
    "start_time": "2024-04-26T14:03:58.134Z"
   },
   {
    "duration": 27,
    "start_time": "2024-04-26T14:06:43.375Z"
   },
   {
    "duration": 28,
    "start_time": "2024-04-26T14:09:09.276Z"
   },
   {
    "duration": 18,
    "start_time": "2024-04-26T14:10:05.219Z"
   },
   {
    "duration": 4,
    "start_time": "2024-04-26T14:12:06.083Z"
   },
   {
    "duration": 5,
    "start_time": "2024-04-26T14:12:34.939Z"
   },
   {
    "duration": 1251,
    "start_time": "2024-04-26T14:12:38.039Z"
   },
   {
    "duration": 35,
    "start_time": "2024-04-26T14:12:39.299Z"
   },
   {
    "duration": 13,
    "start_time": "2024-04-26T14:12:41.205Z"
   },
   {
    "duration": 11,
    "start_time": "2024-04-26T14:12:46.435Z"
   },
   {
    "duration": 4,
    "start_time": "2024-04-26T14:12:48.259Z"
   },
   {
    "duration": 21,
    "start_time": "2024-04-26T14:17:53.387Z"
   },
   {
    "duration": 43,
    "start_time": "2024-04-26T14:19:03.763Z"
   },
   {
    "duration": 4,
    "start_time": "2024-04-26T14:19:17.481Z"
   },
   {
    "duration": 16,
    "start_time": "2024-04-26T14:21:08.047Z"
   },
   {
    "duration": 4,
    "start_time": "2024-04-26T14:21:19.904Z"
   },
   {
    "duration": 12,
    "start_time": "2024-04-26T14:22:16.655Z"
   },
   {
    "duration": 14,
    "start_time": "2024-04-26T14:23:36.661Z"
   },
   {
    "duration": 545,
    "start_time": "2024-04-26T14:23:44.588Z"
   },
   {
    "duration": 11,
    "start_time": "2024-04-26T14:25:00.332Z"
   },
   {
    "duration": 16,
    "start_time": "2024-04-26T14:25:41.332Z"
   },
   {
    "duration": 13,
    "start_time": "2024-04-26T14:26:56.455Z"
   },
   {
    "duration": 17,
    "start_time": "2024-04-26T14:27:12.058Z"
   },
   {
    "duration": 9,
    "start_time": "2024-04-26T14:27:23.897Z"
   },
   {
    "duration": 12,
    "start_time": "2024-04-26T14:27:39.767Z"
   },
   {
    "duration": 5,
    "start_time": "2024-04-26T14:27:47.408Z"
   },
   {
    "duration": 3,
    "start_time": "2024-04-26T14:27:57.111Z"
   },
   {
    "duration": 25,
    "start_time": "2024-04-26T14:33:27.127Z"
   },
   {
    "duration": 25,
    "start_time": "2024-04-26T14:33:32.496Z"
   },
   {
    "duration": 12,
    "start_time": "2024-04-26T14:33:38.250Z"
   },
   {
    "duration": 45,
    "start_time": "2024-04-26T14:33:53.274Z"
   },
   {
    "duration": 561,
    "start_time": "2024-04-26T14:36:07.198Z"
   },
   {
    "duration": 15,
    "start_time": "2024-04-26T14:36:34.567Z"
   },
   {
    "duration": 18,
    "start_time": "2024-04-26T14:37:04.100Z"
   },
   {
    "duration": 520,
    "start_time": "2024-04-26T14:39:08.630Z"
   },
   {
    "duration": 4,
    "start_time": "2024-04-26T14:44:04.510Z"
   },
   {
    "duration": 20,
    "start_time": "2024-04-26T14:44:14.182Z"
   },
   {
    "duration": 17,
    "start_time": "2024-04-26T14:44:42.365Z"
   },
   {
    "duration": 1022,
    "start_time": "2024-04-26T14:45:57.351Z"
   },
   {
    "duration": 5208,
    "start_time": "2024-04-26T15:16:10.914Z"
   },
   {
    "duration": 1949,
    "start_time": "2024-04-26T15:16:16.125Z"
   },
   {
    "duration": 38,
    "start_time": "2024-04-26T15:16:18.076Z"
   },
   {
    "duration": 24,
    "start_time": "2024-04-26T15:16:18.116Z"
   },
   {
    "duration": 17,
    "start_time": "2024-04-26T15:16:18.142Z"
   },
   {
    "duration": 26,
    "start_time": "2024-04-26T15:16:18.160Z"
   },
   {
    "duration": 6,
    "start_time": "2024-04-26T15:16:18.187Z"
   },
   {
    "duration": 72,
    "start_time": "2024-04-26T15:16:18.194Z"
   },
   {
    "duration": 4,
    "start_time": "2024-04-26T15:16:18.303Z"
   },
   {
    "duration": 78,
    "start_time": "2024-04-26T15:16:18.310Z"
   },
   {
    "duration": 8,
    "start_time": "2024-04-26T15:16:18.389Z"
   },
   {
    "duration": 139,
    "start_time": "2024-04-26T15:16:18.398Z"
   },
   {
    "duration": 13,
    "start_time": "2024-04-26T15:16:18.540Z"
   },
   {
    "duration": 10,
    "start_time": "2024-04-26T15:16:18.555Z"
   },
   {
    "duration": 21,
    "start_time": "2024-04-26T15:16:18.567Z"
   },
   {
    "duration": 14,
    "start_time": "2024-04-26T15:16:18.589Z"
   },
   {
    "duration": 12,
    "start_time": "2024-04-26T15:16:18.605Z"
   },
   {
    "duration": 6,
    "start_time": "2024-04-26T15:16:18.619Z"
   },
   {
    "duration": 119,
    "start_time": "2024-04-26T15:16:18.626Z"
   },
   {
    "duration": 4,
    "start_time": "2024-04-26T15:16:18.746Z"
   },
   {
    "duration": 14,
    "start_time": "2024-04-26T15:16:18.752Z"
   },
   {
    "duration": 47,
    "start_time": "2024-04-26T15:16:18.768Z"
   },
   {
    "duration": 42,
    "start_time": "2024-04-26T15:16:18.817Z"
   },
   {
    "duration": 26,
    "start_time": "2024-04-26T15:16:18.861Z"
   },
   {
    "duration": 24,
    "start_time": "2024-04-26T15:16:18.888Z"
   },
   {
    "duration": 8,
    "start_time": "2024-04-26T15:16:18.914Z"
   },
   {
    "duration": 16,
    "start_time": "2024-04-26T15:16:18.924Z"
   },
   {
    "duration": 7,
    "start_time": "2024-04-26T15:16:18.943Z"
   },
   {
    "duration": 30,
    "start_time": "2024-04-26T15:16:18.951Z"
   },
   {
    "duration": 5,
    "start_time": "2024-04-26T15:16:18.983Z"
   },
   {
    "duration": 23,
    "start_time": "2024-04-26T15:16:18.989Z"
   },
   {
    "duration": 8,
    "start_time": "2024-04-26T15:16:19.014Z"
   },
   {
    "duration": 20,
    "start_time": "2024-04-26T15:16:19.024Z"
   },
   {
    "duration": 32,
    "start_time": "2024-04-26T15:16:19.046Z"
   },
   {
    "duration": 22,
    "start_time": "2024-04-26T15:16:19.080Z"
   },
   {
    "duration": 23,
    "start_time": "2024-04-26T15:16:19.104Z"
   },
   {
    "duration": 39,
    "start_time": "2024-04-26T15:16:19.129Z"
   },
   {
    "duration": 9,
    "start_time": "2024-04-26T15:16:19.170Z"
   },
   {
    "duration": 26,
    "start_time": "2024-04-26T15:16:19.181Z"
   },
   {
    "duration": 13,
    "start_time": "2024-04-26T15:16:19.208Z"
   },
   {
    "duration": 885,
    "start_time": "2024-04-26T15:16:19.222Z"
   },
   {
    "duration": 3663,
    "start_time": "2024-04-26T15:16:20.109Z"
   },
   {
    "duration": 16,
    "start_time": "2024-04-26T15:16:23.774Z"
   },
   {
    "duration": 63,
    "start_time": "2024-04-26T15:16:23.794Z"
   },
   {
    "duration": 69,
    "start_time": "2024-04-26T15:16:23.859Z"
   },
   {
    "duration": 65,
    "start_time": "2024-04-26T15:16:23.930Z"
   },
   {
    "duration": 24,
    "start_time": "2024-04-26T15:16:23.998Z"
   },
   {
    "duration": 26,
    "start_time": "2024-04-26T15:16:24.024Z"
   },
   {
    "duration": 9,
    "start_time": "2024-04-26T15:16:24.052Z"
   },
   {
    "duration": 42,
    "start_time": "2024-04-26T15:16:24.063Z"
   },
   {
    "duration": 31,
    "start_time": "2024-04-26T15:16:24.107Z"
   },
   {
    "duration": 20,
    "start_time": "2024-04-26T15:16:24.139Z"
   },
   {
    "duration": 66,
    "start_time": "2024-04-26T15:16:24.160Z"
   },
   {
    "duration": 14,
    "start_time": "2024-04-26T15:16:24.227Z"
   },
   {
    "duration": 2033,
    "start_time": "2024-04-26T15:16:24.242Z"
   },
   {
    "duration": 46,
    "start_time": "2024-04-26T15:16:26.277Z"
   },
   {
    "duration": 32,
    "start_time": "2024-04-26T15:16:26.325Z"
   },
   {
    "duration": 6,
    "start_time": "2024-04-26T15:16:26.359Z"
   },
   {
    "duration": 166,
    "start_time": "2024-04-26T15:16:26.367Z"
   },
   {
    "duration": 0,
    "start_time": "2024-04-26T15:16:26.535Z"
   },
   {
    "duration": 0,
    "start_time": "2024-04-26T15:16:26.536Z"
   },
   {
    "duration": 0,
    "start_time": "2024-04-26T15:16:26.537Z"
   },
   {
    "duration": 0,
    "start_time": "2024-04-26T15:16:26.538Z"
   },
   {
    "duration": 0,
    "start_time": "2024-04-26T15:16:26.540Z"
   },
   {
    "duration": 0,
    "start_time": "2024-04-26T15:16:26.540Z"
   },
   {
    "duration": 12,
    "start_time": "2024-04-26T15:18:41.504Z"
   },
   {
    "duration": 4,
    "start_time": "2024-04-26T15:18:43.628Z"
   },
   {
    "duration": 15,
    "start_time": "2024-04-26T15:19:16.907Z"
   },
   {
    "duration": 843,
    "start_time": "2024-04-26T15:19:31.595Z"
   },
   {
    "duration": 2,
    "start_time": "2024-04-26T15:19:48.426Z"
   },
   {
    "duration": 932,
    "start_time": "2024-04-26T15:20:04.224Z"
   },
   {
    "duration": 4,
    "start_time": "2024-04-26T15:20:31.124Z"
   },
   {
    "duration": 193,
    "start_time": "2024-04-26T15:20:33.516Z"
   },
   {
    "duration": 94,
    "start_time": "2024-04-26T15:21:30.758Z"
   },
   {
    "duration": 6,
    "start_time": "2024-04-26T15:23:09.855Z"
   },
   {
    "duration": 888,
    "start_time": "2024-04-27T01:53:16.143Z"
   },
   {
    "duration": 22,
    "start_time": "2024-04-27T01:58:15.340Z"
   },
   {
    "duration": 4,
    "start_time": "2024-04-27T01:58:48.407Z"
   },
   {
    "duration": 10,
    "start_time": "2024-04-27T01:59:29.119Z"
   },
   {
    "duration": 9,
    "start_time": "2024-04-27T01:59:33.519Z"
   },
   {
    "duration": 4,
    "start_time": "2024-04-27T01:59:37.612Z"
   },
   {
    "duration": 9,
    "start_time": "2024-04-27T01:59:42.211Z"
   },
   {
    "duration": 9,
    "start_time": "2024-04-27T01:59:52.319Z"
   },
   {
    "duration": 851,
    "start_time": "2024-04-27T01:59:57.998Z"
   },
   {
    "duration": 4,
    "start_time": "2024-04-27T02:03:48.156Z"
   },
   {
    "duration": 175,
    "start_time": "2024-04-27T02:03:56.952Z"
   },
   {
    "duration": 1013,
    "start_time": "2024-04-27T02:04:03.504Z"
   },
   {
    "duration": 14,
    "start_time": "2024-04-27T02:04:14.128Z"
   },
   {
    "duration": 885,
    "start_time": "2024-04-27T02:04:16.828Z"
   },
   {
    "duration": 531,
    "start_time": "2024-04-27T02:05:24.864Z"
   },
   {
    "duration": 84,
    "start_time": "2024-04-27T02:37:27.551Z"
   },
   {
    "duration": 4,
    "start_time": "2024-04-27T02:37:28.631Z"
   },
   {
    "duration": 4,
    "start_time": "2024-04-27T02:46:53.052Z"
   },
   {
    "duration": 4,
    "start_time": "2024-04-27T02:47:10.655Z"
   },
   {
    "duration": 42,
    "start_time": "2024-04-27T02:47:11.976Z"
   },
   {
    "duration": 4,
    "start_time": "2024-04-27T02:47:33.903Z"
   },
   {
    "duration": 11,
    "start_time": "2024-04-27T02:47:34.840Z"
   },
   {
    "duration": 10,
    "start_time": "2024-04-27T02:52:45.760Z"
   },
   {
    "duration": 7,
    "start_time": "2024-04-27T02:53:22.128Z"
   },
   {
    "duration": 8,
    "start_time": "2024-04-27T02:53:50.652Z"
   },
   {
    "duration": 8,
    "start_time": "2024-04-27T02:53:52.908Z"
   },
   {
    "duration": 15,
    "start_time": "2024-04-27T02:54:09.696Z"
   },
   {
    "duration": 4,
    "start_time": "2024-04-27T02:54:14.892Z"
   },
   {
    "duration": 4,
    "start_time": "2024-04-27T02:54:15.194Z"
   },
   {
    "duration": 4,
    "start_time": "2024-04-27T02:54:15.916Z"
   },
   {
    "duration": 3,
    "start_time": "2024-04-27T02:54:16.308Z"
   },
   {
    "duration": 5461,
    "start_time": "2024-04-27T02:54:35.880Z"
   },
   {
    "duration": 1807,
    "start_time": "2024-04-27T02:54:41.344Z"
   },
   {
    "duration": 82,
    "start_time": "2024-04-27T02:54:43.152Z"
   },
   {
    "duration": 3,
    "start_time": "2024-04-27T02:54:43.237Z"
   },
   {
    "duration": 66,
    "start_time": "2024-04-27T02:54:43.241Z"
   },
   {
    "duration": 4,
    "start_time": "2024-04-27T02:54:43.308Z"
   },
   {
    "duration": 5,
    "start_time": "2024-04-27T02:54:43.314Z"
   },
   {
    "duration": 64,
    "start_time": "2024-04-27T02:54:43.321Z"
   },
   {
    "duration": 5,
    "start_time": "2024-04-27T02:54:43.386Z"
   },
   {
    "duration": 37,
    "start_time": "2024-04-27T02:54:43.394Z"
   },
   {
    "duration": 14,
    "start_time": "2024-04-27T02:54:43.432Z"
   },
   {
    "duration": 9,
    "start_time": "2024-04-27T02:54:43.448Z"
   },
   {
    "duration": 14,
    "start_time": "2024-04-27T02:54:43.459Z"
   },
   {
    "duration": 12,
    "start_time": "2024-04-27T02:54:43.475Z"
   },
   {
    "duration": 10,
    "start_time": "2024-04-27T02:54:43.488Z"
   },
   {
    "duration": 5,
    "start_time": "2024-04-27T02:54:43.500Z"
   },
   {
    "duration": 98,
    "start_time": "2024-04-27T02:54:43.507Z"
   },
   {
    "duration": 4,
    "start_time": "2024-04-27T02:54:43.606Z"
   },
   {
    "duration": 18,
    "start_time": "2024-04-27T02:54:43.611Z"
   },
   {
    "duration": 15,
    "start_time": "2024-04-27T02:54:43.631Z"
   },
   {
    "duration": 7,
    "start_time": "2024-04-27T02:54:43.647Z"
   },
   {
    "duration": 12,
    "start_time": "2024-04-27T02:54:43.655Z"
   },
   {
    "duration": 150,
    "start_time": "2024-04-27T02:54:43.669Z"
   },
   {
    "duration": 0,
    "start_time": "2024-04-27T02:54:43.822Z"
   },
   {
    "duration": 0,
    "start_time": "2024-04-27T02:54:43.823Z"
   },
   {
    "duration": 0,
    "start_time": "2024-04-27T02:54:43.825Z"
   },
   {
    "duration": 0,
    "start_time": "2024-04-27T02:54:43.826Z"
   },
   {
    "duration": 0,
    "start_time": "2024-04-27T02:54:43.827Z"
   },
   {
    "duration": 0,
    "start_time": "2024-04-27T02:54:43.828Z"
   },
   {
    "duration": 0,
    "start_time": "2024-04-27T02:54:43.829Z"
   },
   {
    "duration": 0,
    "start_time": "2024-04-27T02:54:43.829Z"
   },
   {
    "duration": 0,
    "start_time": "2024-04-27T02:54:43.830Z"
   },
   {
    "duration": 0,
    "start_time": "2024-04-27T02:54:43.831Z"
   },
   {
    "duration": 0,
    "start_time": "2024-04-27T02:54:43.832Z"
   },
   {
    "duration": 0,
    "start_time": "2024-04-27T02:54:43.834Z"
   },
   {
    "duration": 0,
    "start_time": "2024-04-27T02:54:43.835Z"
   },
   {
    "duration": 0,
    "start_time": "2024-04-27T02:54:43.836Z"
   },
   {
    "duration": 0,
    "start_time": "2024-04-27T02:54:43.837Z"
   },
   {
    "duration": 0,
    "start_time": "2024-04-27T02:54:43.838Z"
   },
   {
    "duration": 0,
    "start_time": "2024-04-27T02:54:43.839Z"
   },
   {
    "duration": 0,
    "start_time": "2024-04-27T02:54:43.840Z"
   },
   {
    "duration": 0,
    "start_time": "2024-04-27T02:54:43.842Z"
   },
   {
    "duration": 0,
    "start_time": "2024-04-27T02:54:43.843Z"
   },
   {
    "duration": 0,
    "start_time": "2024-04-27T02:54:43.844Z"
   },
   {
    "duration": 0,
    "start_time": "2024-04-27T02:54:43.845Z"
   },
   {
    "duration": 0,
    "start_time": "2024-04-27T02:54:43.846Z"
   },
   {
    "duration": 0,
    "start_time": "2024-04-27T02:54:43.847Z"
   },
   {
    "duration": 0,
    "start_time": "2024-04-27T02:54:43.848Z"
   },
   {
    "duration": 0,
    "start_time": "2024-04-27T02:54:43.849Z"
   },
   {
    "duration": 0,
    "start_time": "2024-04-27T02:54:43.850Z"
   },
   {
    "duration": 0,
    "start_time": "2024-04-27T02:54:43.851Z"
   },
   {
    "duration": 0,
    "start_time": "2024-04-27T02:54:43.892Z"
   },
   {
    "duration": 0,
    "start_time": "2024-04-27T02:54:43.893Z"
   },
   {
    "duration": 0,
    "start_time": "2024-04-27T02:54:43.894Z"
   },
   {
    "duration": 0,
    "start_time": "2024-04-27T02:54:43.896Z"
   },
   {
    "duration": 1,
    "start_time": "2024-04-27T02:54:43.897Z"
   },
   {
    "duration": 0,
    "start_time": "2024-04-27T02:54:43.899Z"
   },
   {
    "duration": 0,
    "start_time": "2024-04-27T02:54:43.900Z"
   },
   {
    "duration": 0,
    "start_time": "2024-04-27T02:54:43.902Z"
   },
   {
    "duration": 0,
    "start_time": "2024-04-27T02:54:43.904Z"
   },
   {
    "duration": 0,
    "start_time": "2024-04-27T02:54:43.905Z"
   },
   {
    "duration": 0,
    "start_time": "2024-04-27T02:54:43.908Z"
   },
   {
    "duration": 0,
    "start_time": "2024-04-27T02:54:43.910Z"
   },
   {
    "duration": 0,
    "start_time": "2024-04-27T02:54:43.911Z"
   },
   {
    "duration": 13,
    "start_time": "2024-04-27T02:54:59.445Z"
   },
   {
    "duration": 10,
    "start_time": "2024-04-27T02:55:01.879Z"
   },
   {
    "duration": 12,
    "start_time": "2024-04-27T02:55:06.863Z"
   },
   {
    "duration": 9,
    "start_time": "2024-04-27T02:55:07.686Z"
   },
   {
    "duration": 6,
    "start_time": "2024-04-27T02:55:09.552Z"
   },
   {
    "duration": 6,
    "start_time": "2024-04-27T02:55:10.336Z"
   },
   {
    "duration": 15,
    "start_time": "2024-04-27T02:55:10.983Z"
   },
   {
    "duration": 4,
    "start_time": "2024-04-27T02:55:12.232Z"
   },
   {
    "duration": 4,
    "start_time": "2024-04-27T02:55:13.115Z"
   },
   {
    "duration": 4,
    "start_time": "2024-04-27T02:55:13.531Z"
   },
   {
    "duration": 3,
    "start_time": "2024-04-27T02:55:14.132Z"
   },
   {
    "duration": 3,
    "start_time": "2024-04-27T02:55:19.240Z"
   },
   {
    "duration": 15,
    "start_time": "2024-04-27T02:55:19.812Z"
   },
   {
    "duration": 3,
    "start_time": "2024-04-27T02:55:47.088Z"
   },
   {
    "duration": 11,
    "start_time": "2024-04-27T02:56:17.515Z"
   },
   {
    "duration": 15,
    "start_time": "2024-04-27T02:56:24.796Z"
   },
   {
    "duration": 4,
    "start_time": "2024-04-27T02:56:29.192Z"
   },
   {
    "duration": 3,
    "start_time": "2024-04-27T02:56:29.976Z"
   },
   {
    "duration": 4,
    "start_time": "2024-04-27T02:56:30.612Z"
   },
   {
    "duration": 4,
    "start_time": "2024-04-27T02:56:31.345Z"
   },
   {
    "duration": 3,
    "start_time": "2024-04-27T02:56:53.530Z"
   },
   {
    "duration": 791,
    "start_time": "2024-04-27T02:56:54.599Z"
   },
   {
    "duration": 2561,
    "start_time": "2024-04-27T02:56:59.583Z"
   },
   {
    "duration": 14,
    "start_time": "2024-04-27T02:57:18.616Z"
   },
   {
    "duration": 8,
    "start_time": "2024-04-27T02:57:23.544Z"
   },
   {
    "duration": 7,
    "start_time": "2024-04-27T02:59:14.800Z"
   },
   {
    "duration": 10,
    "start_time": "2024-04-27T02:59:14.809Z"
   },
   {
    "duration": 18,
    "start_time": "2024-04-27T02:59:14.820Z"
   },
   {
    "duration": 3,
    "start_time": "2024-04-27T02:59:28.589Z"
   },
   {
    "duration": 7,
    "start_time": "2024-04-27T02:59:53.352Z"
   },
   {
    "duration": 2,
    "start_time": "2024-04-27T03:00:06.416Z"
   },
   {
    "duration": 4,
    "start_time": "2024-04-27T03:00:07.092Z"
   },
   {
    "duration": 4,
    "start_time": "2024-04-27T03:00:08.155Z"
   },
   {
    "duration": 4,
    "start_time": "2024-04-27T03:00:09.428Z"
   },
   {
    "duration": 3,
    "start_time": "2024-04-27T03:00:10.136Z"
   },
   {
    "duration": 2,
    "start_time": "2024-04-27T03:00:10.560Z"
   },
   {
    "duration": 2,
    "start_time": "2024-04-27T03:00:11.016Z"
   },
   {
    "duration": 5,
    "start_time": "2024-04-27T03:00:13.235Z"
   },
   {
    "duration": 7609,
    "start_time": "2024-04-27T03:00:14.564Z"
   },
   {
    "duration": 0,
    "start_time": "2024-04-27T03:00:22.175Z"
   },
   {
    "duration": 7,
    "start_time": "2024-04-27T03:00:40.944Z"
   },
   {
    "duration": 3,
    "start_time": "2024-04-27T03:00:42.207Z"
   },
   {
    "duration": 4,
    "start_time": "2024-04-27T03:00:42.883Z"
   },
   {
    "duration": 3,
    "start_time": "2024-04-27T03:00:44.346Z"
   },
   {
    "duration": 5,
    "start_time": "2024-04-27T03:00:45.081Z"
   },
   {
    "duration": 3,
    "start_time": "2024-04-27T03:00:45.760Z"
   },
   {
    "duration": 2,
    "start_time": "2024-04-27T03:00:46.524Z"
   },
   {
    "duration": 3,
    "start_time": "2024-04-27T03:00:47.747Z"
   },
   {
    "duration": 5,
    "start_time": "2024-04-27T03:00:50.292Z"
   },
   {
    "duration": 9070,
    "start_time": "2024-04-27T03:00:52.353Z"
   },
   {
    "duration": 8,
    "start_time": "2024-04-27T03:02:50.173Z"
   },
   {
    "duration": 13,
    "start_time": "2024-04-27T03:03:00.125Z"
   },
   {
    "duration": 10,
    "start_time": "2024-04-27T03:03:00.652Z"
   },
   {
    "duration": 16,
    "start_time": "2024-04-27T03:03:02.513Z"
   },
   {
    "duration": 8,
    "start_time": "2024-04-27T03:03:04.448Z"
   },
   {
    "duration": 6,
    "start_time": "2024-04-27T03:03:06.570Z"
   },
   {
    "duration": 7,
    "start_time": "2024-04-27T03:03:07.199Z"
   },
   {
    "duration": 15,
    "start_time": "2024-04-27T03:03:07.926Z"
   },
   {
    "duration": 3,
    "start_time": "2024-04-27T03:03:08.410Z"
   },
   {
    "duration": 4,
    "start_time": "2024-04-27T03:03:08.964Z"
   },
   {
    "duration": 4,
    "start_time": "2024-04-27T03:03:09.336Z"
   },
   {
    "duration": 4,
    "start_time": "2024-04-27T03:03:09.712Z"
   },
   {
    "duration": 3,
    "start_time": "2024-04-27T03:03:10.908Z"
   },
   {
    "duration": 798,
    "start_time": "2024-04-27T03:03:11.265Z"
   },
   {
    "duration": 2521,
    "start_time": "2024-04-27T03:03:12.065Z"
   },
   {
    "duration": 3,
    "start_time": "2024-04-27T03:03:19.444Z"
   },
   {
    "duration": 7,
    "start_time": "2024-04-27T03:03:19.752Z"
   },
   {
    "duration": 2,
    "start_time": "2024-04-27T03:03:20.100Z"
   },
   {
    "duration": 4,
    "start_time": "2024-04-27T03:03:20.424Z"
   },
   {
    "duration": 3,
    "start_time": "2024-04-27T03:03:20.984Z"
   },
   {
    "duration": 4,
    "start_time": "2024-04-27T03:03:21.477Z"
   },
   {
    "duration": 3,
    "start_time": "2024-04-27T03:03:21.912Z"
   },
   {
    "duration": 2,
    "start_time": "2024-04-27T03:03:22.365Z"
   },
   {
    "duration": 3,
    "start_time": "2024-04-27T03:03:22.756Z"
   },
   {
    "duration": 5,
    "start_time": "2024-04-27T03:03:24.668Z"
   },
   {
    "duration": 1858,
    "start_time": "2024-04-27T03:03:25.570Z"
   },
   {
    "duration": 40,
    "start_time": "2024-04-27T03:03:30.622Z"
   },
   {
    "duration": 14,
    "start_time": "2024-04-27T03:03:35.991Z"
   },
   {
    "duration": 6,
    "start_time": "2024-04-27T03:03:36.424Z"
   },
   {
    "duration": 12,
    "start_time": "2024-04-27T03:03:37.744Z"
   },
   {
    "duration": 4,
    "start_time": "2024-04-27T03:03:38.124Z"
   },
   {
    "duration": 14,
    "start_time": "2024-04-27T03:03:38.448Z"
   },
   {
    "duration": 4,
    "start_time": "2024-04-27T03:03:38.716Z"
   },
   {
    "duration": 877,
    "start_time": "2024-04-27T03:03:38.968Z"
   },
   {
    "duration": 3,
    "start_time": "2024-04-27T03:03:39.847Z"
   },
   {
    "duration": 5,
    "start_time": "2024-04-27T03:03:39.853Z"
   },
   {
    "duration": 3,
    "start_time": "2024-04-27T03:05:29.517Z"
   },
   {
    "duration": 3,
    "start_time": "2024-04-27T03:05:41.992Z"
   },
   {
    "duration": 11,
    "start_time": "2024-04-27T03:05:42.976Z"
   },
   {
    "duration": 12,
    "start_time": "2024-04-27T03:07:45.640Z"
   },
   {
    "duration": 23,
    "start_time": "2024-04-27T03:11:23.933Z"
   },
   {
    "duration": 4,
    "start_time": "2024-04-27T03:11:31.157Z"
   },
   {
    "duration": 5,
    "start_time": "2024-04-27T03:11:53.413Z"
   },
   {
    "duration": 20,
    "start_time": "2024-04-27T03:12:06.985Z"
   },
   {
    "duration": 4,
    "start_time": "2024-04-27T03:12:26.925Z"
   },
   {
    "duration": 4,
    "start_time": "2024-04-27T03:12:29.057Z"
   },
   {
    "duration": 4,
    "start_time": "2024-04-27T03:28:14.838Z"
   },
   {
    "duration": 21,
    "start_time": "2024-04-27T03:28:21.261Z"
   },
   {
    "duration": 4,
    "start_time": "2024-04-27T03:30:48.197Z"
   },
   {
    "duration": 4,
    "start_time": "2024-04-27T03:31:46.097Z"
   },
   {
    "duration": 5,
    "start_time": "2024-04-27T03:37:18.447Z"
   },
   {
    "duration": 117,
    "start_time": "2024-04-27T05:00:17.613Z"
   },
   {
    "duration": 3,
    "start_time": "2024-04-27T05:04:22.925Z"
   },
   {
    "duration": 4844,
    "start_time": "2024-04-27T05:06:38.475Z"
   },
   {
    "duration": 1893,
    "start_time": "2024-04-27T05:06:43.323Z"
   },
   {
    "duration": 84,
    "start_time": "2024-04-27T05:06:45.218Z"
   },
   {
    "duration": 3,
    "start_time": "2024-04-27T05:06:45.304Z"
   },
   {
    "duration": 82,
    "start_time": "2024-04-27T05:06:45.309Z"
   },
   {
    "duration": 3,
    "start_time": "2024-04-27T05:06:45.393Z"
   },
   {
    "duration": 11,
    "start_time": "2024-04-27T05:06:45.398Z"
   },
   {
    "duration": 31,
    "start_time": "2024-04-27T05:06:45.410Z"
   },
   {
    "duration": 3,
    "start_time": "2024-04-27T05:06:45.443Z"
   },
   {
    "duration": 51,
    "start_time": "2024-04-27T05:06:45.448Z"
   },
   {
    "duration": 20,
    "start_time": "2024-04-27T05:06:45.501Z"
   },
   {
    "duration": 13,
    "start_time": "2024-04-27T05:06:45.523Z"
   },
   {
    "duration": 7,
    "start_time": "2024-04-27T05:06:45.538Z"
   },
   {
    "duration": 10,
    "start_time": "2024-04-27T05:06:45.546Z"
   },
   {
    "duration": 23,
    "start_time": "2024-04-27T05:06:45.558Z"
   },
   {
    "duration": 7,
    "start_time": "2024-04-27T05:06:45.583Z"
   },
   {
    "duration": 4,
    "start_time": "2024-04-27T05:06:45.591Z"
   },
   {
    "duration": 105,
    "start_time": "2024-04-27T05:06:45.596Z"
   },
   {
    "duration": 4,
    "start_time": "2024-04-27T05:06:45.703Z"
   },
   {
    "duration": 14,
    "start_time": "2024-04-27T05:06:45.709Z"
   },
   {
    "duration": 12,
    "start_time": "2024-04-27T05:06:45.724Z"
   },
   {
    "duration": 6,
    "start_time": "2024-04-27T05:06:45.737Z"
   },
   {
    "duration": 8,
    "start_time": "2024-04-27T05:06:45.745Z"
   },
   {
    "duration": 41,
    "start_time": "2024-04-27T05:06:45.754Z"
   },
   {
    "duration": 9,
    "start_time": "2024-04-27T05:06:45.796Z"
   },
   {
    "duration": 15,
    "start_time": "2024-04-27T05:06:45.807Z"
   },
   {
    "duration": 6,
    "start_time": "2024-04-27T05:06:45.824Z"
   },
   {
    "duration": 24,
    "start_time": "2024-04-27T05:06:45.833Z"
   },
   {
    "duration": 4,
    "start_time": "2024-04-27T05:06:45.859Z"
   },
   {
    "duration": 28,
    "start_time": "2024-04-27T05:06:45.864Z"
   },
   {
    "duration": 758,
    "start_time": "2024-04-27T05:06:45.893Z"
   },
   {
    "duration": 2499,
    "start_time": "2024-04-27T05:06:46.653Z"
   },
   {
    "duration": 5,
    "start_time": "2024-04-27T05:06:49.154Z"
   },
   {
    "duration": 12,
    "start_time": "2024-04-27T05:06:49.161Z"
   },
   {
    "duration": 23,
    "start_time": "2024-04-27T05:06:49.174Z"
   },
   {
    "duration": 8,
    "start_time": "2024-04-27T05:06:49.199Z"
   },
   {
    "duration": 16,
    "start_time": "2024-04-27T05:06:49.209Z"
   },
   {
    "duration": 21,
    "start_time": "2024-04-27T05:06:49.227Z"
   },
   {
    "duration": 22,
    "start_time": "2024-04-27T05:06:49.250Z"
   },
   {
    "duration": 17,
    "start_time": "2024-04-27T05:06:49.274Z"
   },
   {
    "duration": 16,
    "start_time": "2024-04-27T05:06:49.293Z"
   },
   {
    "duration": 20,
    "start_time": "2024-04-27T05:06:49.311Z"
   },
   {
    "duration": 2305,
    "start_time": "2024-04-27T05:06:49.333Z"
   },
   {
    "duration": 14,
    "start_time": "2024-04-27T05:06:51.691Z"
   },
   {
    "duration": 6,
    "start_time": "2024-04-27T05:06:51.707Z"
   },
   {
    "duration": 77,
    "start_time": "2024-04-27T05:06:51.715Z"
   },
   {
    "duration": 5,
    "start_time": "2024-04-27T05:06:51.794Z"
   },
   {
    "duration": 1313,
    "start_time": "2024-04-27T05:06:51.801Z"
   },
   {
    "duration": 3,
    "start_time": "2024-04-27T05:06:53.115Z"
   },
   {
    "duration": 9,
    "start_time": "2024-04-27T05:06:53.119Z"
   },
   {
    "duration": 33,
    "start_time": "2024-04-27T05:06:53.130Z"
   },
   {
    "duration": 947,
    "start_time": "2024-04-27T05:06:53.164Z"
   },
   {
    "duration": 3,
    "start_time": "2024-04-27T05:06:54.113Z"
   },
   {
    "duration": 74,
    "start_time": "2024-04-27T05:06:54.118Z"
   },
   {
    "duration": 1860,
    "start_time": "2024-04-27T05:10:06.088Z"
   },
   {
    "duration": 5,
    "start_time": "2024-04-27T05:10:44.378Z"
   },
   {
    "duration": 3142,
    "start_time": "2024-04-27T05:10:47.624Z"
   },
   {
    "duration": 14,
    "start_time": "2024-04-27T05:11:01.149Z"
   },
   {
    "duration": 3,
    "start_time": "2024-04-27T05:11:01.507Z"
   },
   {
    "duration": 14,
    "start_time": "2024-04-27T05:11:01.945Z"
   },
   {
    "duration": 4,
    "start_time": "2024-04-27T05:11:02.424Z"
   },
   {
    "duration": 881,
    "start_time": "2024-04-27T05:11:02.976Z"
   },
   {
    "duration": 3,
    "start_time": "2024-04-27T05:14:16.937Z"
   },
   {
    "duration": 6384,
    "start_time": "2024-04-27T05:19:07.746Z"
   },
   {
    "duration": 1813,
    "start_time": "2024-04-27T05:19:14.132Z"
   },
   {
    "duration": 85,
    "start_time": "2024-04-27T05:19:15.946Z"
   },
   {
    "duration": 3,
    "start_time": "2024-04-27T05:19:16.033Z"
   },
   {
    "duration": 68,
    "start_time": "2024-04-27T05:19:16.039Z"
   },
   {
    "duration": 4,
    "start_time": "2024-04-27T05:19:16.108Z"
   },
   {
    "duration": 7,
    "start_time": "2024-04-27T05:19:16.113Z"
   },
   {
    "duration": 38,
    "start_time": "2024-04-27T05:19:16.122Z"
   },
   {
    "duration": 4,
    "start_time": "2024-04-27T05:19:16.191Z"
   },
   {
    "duration": 17,
    "start_time": "2024-04-27T05:19:16.196Z"
   },
   {
    "duration": 3,
    "start_time": "2024-04-27T05:19:16.215Z"
   },
   {
    "duration": 8,
    "start_time": "2024-04-27T05:19:16.220Z"
   },
   {
    "duration": 6,
    "start_time": "2024-04-27T05:19:16.229Z"
   },
   {
    "duration": 10,
    "start_time": "2024-04-27T05:19:16.239Z"
   },
   {
    "duration": 20,
    "start_time": "2024-04-27T05:19:16.251Z"
   },
   {
    "duration": 8,
    "start_time": "2024-04-27T05:19:16.292Z"
   },
   {
    "duration": 3,
    "start_time": "2024-04-27T05:19:16.302Z"
   },
   {
    "duration": 114,
    "start_time": "2024-04-27T05:19:16.307Z"
   },
   {
    "duration": 4,
    "start_time": "2024-04-27T05:19:16.422Z"
   },
   {
    "duration": 14,
    "start_time": "2024-04-27T05:19:16.428Z"
   },
   {
    "duration": 31,
    "start_time": "2024-04-27T05:19:16.444Z"
   },
   {
    "duration": 18,
    "start_time": "2024-04-27T05:19:16.476Z"
   },
   {
    "duration": 11,
    "start_time": "2024-04-27T05:19:16.495Z"
   },
   {
    "duration": 16,
    "start_time": "2024-04-27T05:19:16.507Z"
   },
   {
    "duration": 10,
    "start_time": "2024-04-27T05:19:16.524Z"
   },
   {
    "duration": 15,
    "start_time": "2024-04-27T05:19:16.536Z"
   },
   {
    "duration": 8,
    "start_time": "2024-04-27T05:19:16.553Z"
   },
   {
    "duration": 40,
    "start_time": "2024-04-27T05:19:16.562Z"
   },
   {
    "duration": 8,
    "start_time": "2024-04-27T05:19:16.604Z"
   },
   {
    "duration": 15,
    "start_time": "2024-04-27T05:19:16.614Z"
   },
   {
    "duration": 799,
    "start_time": "2024-04-27T05:19:16.630Z"
   },
   {
    "duration": 2621,
    "start_time": "2024-04-27T05:19:17.431Z"
   },
   {
    "duration": 5,
    "start_time": "2024-04-27T05:19:20.054Z"
   },
   {
    "duration": 39,
    "start_time": "2024-04-27T05:19:20.060Z"
   },
   {
    "duration": 27,
    "start_time": "2024-04-27T05:19:20.101Z"
   },
   {
    "duration": 22,
    "start_time": "2024-04-27T05:19:20.130Z"
   },
   {
    "duration": 19,
    "start_time": "2024-04-27T05:19:20.154Z"
   },
   {
    "duration": 11,
    "start_time": "2024-04-27T05:19:20.175Z"
   },
   {
    "duration": 23,
    "start_time": "2024-04-27T05:19:20.188Z"
   },
   {
    "duration": 21,
    "start_time": "2024-04-27T05:19:20.213Z"
   },
   {
    "duration": 25,
    "start_time": "2024-04-27T05:19:20.239Z"
   },
   {
    "duration": 27,
    "start_time": "2024-04-27T05:19:20.266Z"
   },
   {
    "duration": 3272,
    "start_time": "2024-04-27T05:19:20.295Z"
   },
   {
    "duration": 25,
    "start_time": "2024-04-27T05:19:23.569Z"
   },
   {
    "duration": 4,
    "start_time": "2024-04-27T05:19:23.596Z"
   },
   {
    "duration": 20,
    "start_time": "2024-04-27T05:19:23.602Z"
   },
   {
    "duration": 36,
    "start_time": "2024-04-27T05:19:23.624Z"
   },
   {
    "duration": 1158,
    "start_time": "2024-04-27T05:19:23.661Z"
   },
   {
    "duration": 998,
    "start_time": "2024-04-27T05:19:24.821Z"
   },
   {
    "duration": 3245,
    "start_time": "2024-04-27T05:20:18.221Z"
   },
   {
    "duration": 3277,
    "start_time": "2024-04-27T05:20:26.186Z"
   },
   {
    "duration": 4,
    "start_time": "2024-04-27T05:23:21.682Z"
   },
   {
    "duration": 4,
    "start_time": "2024-04-27T05:24:50.516Z"
   },
   {
    "duration": 5113,
    "start_time": "2024-04-27T05:28:25.571Z"
   },
   {
    "duration": 3042,
    "start_time": "2024-04-27T05:28:30.687Z"
   },
   {
    "duration": 115,
    "start_time": "2024-04-27T05:28:33.731Z"
   },
   {
    "duration": 4,
    "start_time": "2024-04-27T05:28:33.849Z"
   },
   {
    "duration": 156,
    "start_time": "2024-04-27T05:28:33.854Z"
   },
   {
    "duration": 4,
    "start_time": "2024-04-27T05:28:34.011Z"
   },
   {
    "duration": 75,
    "start_time": "2024-04-27T05:28:34.017Z"
   },
   {
    "duration": 101,
    "start_time": "2024-04-27T05:28:34.094Z"
   },
   {
    "duration": 3,
    "start_time": "2024-04-27T05:28:34.197Z"
   },
   {
    "duration": 90,
    "start_time": "2024-04-27T05:28:34.203Z"
   },
   {
    "duration": 4,
    "start_time": "2024-04-27T05:28:34.294Z"
   },
   {
    "duration": 38,
    "start_time": "2024-04-27T05:28:34.299Z"
   },
   {
    "duration": 65,
    "start_time": "2024-04-27T05:28:34.339Z"
   },
   {
    "duration": 12,
    "start_time": "2024-04-27T05:28:34.406Z"
   },
   {
    "duration": 38,
    "start_time": "2024-04-27T05:28:34.420Z"
   },
   {
    "duration": 8,
    "start_time": "2024-04-27T05:28:34.492Z"
   },
   {
    "duration": 15,
    "start_time": "2024-04-27T05:28:34.502Z"
   },
   {
    "duration": 112,
    "start_time": "2024-04-27T05:28:34.519Z"
   },
   {
    "duration": 4,
    "start_time": "2024-04-27T05:28:34.633Z"
   },
   {
    "duration": 20,
    "start_time": "2024-04-27T05:28:34.639Z"
   },
   {
    "duration": 32,
    "start_time": "2024-04-27T05:28:34.661Z"
   },
   {
    "duration": 8,
    "start_time": "2024-04-27T05:28:34.695Z"
   },
   {
    "duration": 10,
    "start_time": "2024-04-27T05:28:34.705Z"
   },
   {
    "duration": 17,
    "start_time": "2024-04-27T05:28:34.716Z"
   },
   {
    "duration": 9,
    "start_time": "2024-04-27T05:28:34.735Z"
   },
   {
    "duration": 14,
    "start_time": "2024-04-27T05:28:34.746Z"
   },
   {
    "duration": 7,
    "start_time": "2024-04-27T05:28:34.762Z"
   },
   {
    "duration": 23,
    "start_time": "2024-04-27T05:28:34.795Z"
   },
   {
    "duration": 4,
    "start_time": "2024-04-27T05:28:34.819Z"
   },
   {
    "duration": 45,
    "start_time": "2024-04-27T05:28:34.824Z"
   },
   {
    "duration": 744,
    "start_time": "2024-04-27T05:28:34.871Z"
   },
   {
    "duration": 2620,
    "start_time": "2024-04-27T05:28:35.616Z"
   },
   {
    "duration": 4,
    "start_time": "2024-04-27T05:28:38.238Z"
   },
   {
    "duration": 50,
    "start_time": "2024-04-27T05:28:38.244Z"
   },
   {
    "duration": 29,
    "start_time": "2024-04-27T05:28:38.295Z"
   },
   {
    "duration": 20,
    "start_time": "2024-04-27T05:28:38.326Z"
   },
   {
    "duration": 63,
    "start_time": "2024-04-27T05:28:38.347Z"
   },
   {
    "duration": 35,
    "start_time": "2024-04-27T05:28:38.412Z"
   },
   {
    "duration": 21,
    "start_time": "2024-04-27T05:28:38.448Z"
   },
   {
    "duration": 81,
    "start_time": "2024-04-27T05:28:38.470Z"
   },
   {
    "duration": 13,
    "start_time": "2024-04-27T05:28:38.552Z"
   },
   {
    "duration": 36,
    "start_time": "2024-04-27T05:28:38.567Z"
   },
   {
    "duration": 3265,
    "start_time": "2024-04-27T05:28:38.604Z"
   },
   {
    "duration": 24,
    "start_time": "2024-04-27T05:28:41.871Z"
   },
   {
    "duration": 133,
    "start_time": "2024-04-27T05:28:41.896Z"
   },
   {
    "duration": 62,
    "start_time": "2024-04-27T05:28:42.031Z"
   },
   {
    "duration": 5,
    "start_time": "2024-04-27T05:28:42.095Z"
   },
   {
    "duration": 1123,
    "start_time": "2024-04-27T05:28:42.101Z"
   },
   {
    "duration": 986,
    "start_time": "2024-04-27T05:28:43.226Z"
   },
   {
    "duration": 8,
    "start_time": "2024-04-27T05:36:42.075Z"
   },
   {
    "duration": 9,
    "start_time": "2024-04-27T05:39:20.922Z"
   },
   {
    "duration": 4862,
    "start_time": "2024-04-27T05:41:40.102Z"
   },
   {
    "duration": 1942,
    "start_time": "2024-04-27T05:41:44.966Z"
   },
   {
    "duration": 83,
    "start_time": "2024-04-27T05:41:46.909Z"
   },
   {
    "duration": 4,
    "start_time": "2024-04-27T05:41:46.994Z"
   },
   {
    "duration": 95,
    "start_time": "2024-04-27T05:41:47.000Z"
   },
   {
    "duration": 5,
    "start_time": "2024-04-27T05:41:47.096Z"
   },
   {
    "duration": 43,
    "start_time": "2024-04-27T05:41:47.102Z"
   },
   {
    "duration": 52,
    "start_time": "2024-04-27T05:41:47.146Z"
   },
   {
    "duration": 5,
    "start_time": "2024-04-27T05:41:47.199Z"
   },
   {
    "duration": 42,
    "start_time": "2024-04-27T05:41:47.207Z"
   },
   {
    "duration": 46,
    "start_time": "2024-04-27T05:41:47.250Z"
   },
   {
    "duration": 33,
    "start_time": "2024-04-27T05:41:47.298Z"
   },
   {
    "duration": 29,
    "start_time": "2024-04-27T05:41:47.332Z"
   },
   {
    "duration": 69,
    "start_time": "2024-04-27T05:41:47.362Z"
   },
   {
    "duration": 59,
    "start_time": "2024-04-27T05:41:47.432Z"
   },
   {
    "duration": 13,
    "start_time": "2024-04-27T05:41:47.492Z"
   },
   {
    "duration": 75,
    "start_time": "2024-04-27T05:41:47.507Z"
   },
   {
    "duration": 0,
    "start_time": "2024-04-27T05:41:47.584Z"
   },
   {
    "duration": 0,
    "start_time": "2024-04-27T05:41:47.585Z"
   },
   {
    "duration": 0,
    "start_time": "2024-04-27T05:41:47.586Z"
   },
   {
    "duration": 0,
    "start_time": "2024-04-27T05:41:47.587Z"
   },
   {
    "duration": 0,
    "start_time": "2024-04-27T05:41:47.588Z"
   },
   {
    "duration": 0,
    "start_time": "2024-04-27T05:41:47.589Z"
   },
   {
    "duration": 0,
    "start_time": "2024-04-27T05:41:47.590Z"
   },
   {
    "duration": 0,
    "start_time": "2024-04-27T05:41:47.591Z"
   },
   {
    "duration": 0,
    "start_time": "2024-04-27T05:41:47.592Z"
   },
   {
    "duration": 0,
    "start_time": "2024-04-27T05:41:47.593Z"
   },
   {
    "duration": 0,
    "start_time": "2024-04-27T05:41:47.594Z"
   },
   {
    "duration": 0,
    "start_time": "2024-04-27T05:41:47.595Z"
   },
   {
    "duration": 0,
    "start_time": "2024-04-27T05:41:47.596Z"
   },
   {
    "duration": 0,
    "start_time": "2024-04-27T05:41:47.597Z"
   },
   {
    "duration": 0,
    "start_time": "2024-04-27T05:41:47.598Z"
   },
   {
    "duration": 0,
    "start_time": "2024-04-27T05:41:47.599Z"
   },
   {
    "duration": 0,
    "start_time": "2024-04-27T05:41:47.600Z"
   },
   {
    "duration": 0,
    "start_time": "2024-04-27T05:41:47.601Z"
   },
   {
    "duration": 0,
    "start_time": "2024-04-27T05:41:47.602Z"
   },
   {
    "duration": 0,
    "start_time": "2024-04-27T05:41:47.602Z"
   },
   {
    "duration": 0,
    "start_time": "2024-04-27T05:41:47.603Z"
   },
   {
    "duration": 0,
    "start_time": "2024-04-27T05:41:47.604Z"
   },
   {
    "duration": 0,
    "start_time": "2024-04-27T05:41:47.605Z"
   },
   {
    "duration": 0,
    "start_time": "2024-04-27T05:41:47.606Z"
   },
   {
    "duration": 0,
    "start_time": "2024-04-27T05:41:47.607Z"
   },
   {
    "duration": 0,
    "start_time": "2024-04-27T05:41:47.608Z"
   },
   {
    "duration": 0,
    "start_time": "2024-04-27T05:41:47.609Z"
   },
   {
    "duration": 0,
    "start_time": "2024-04-27T05:41:47.610Z"
   },
   {
    "duration": 0,
    "start_time": "2024-04-27T05:41:47.611Z"
   },
   {
    "duration": 0,
    "start_time": "2024-04-27T05:41:47.612Z"
   },
   {
    "duration": 0,
    "start_time": "2024-04-27T05:41:47.613Z"
   },
   {
    "duration": 0,
    "start_time": "2024-04-27T05:41:47.615Z"
   },
   {
    "duration": 0,
    "start_time": "2024-04-27T05:41:47.615Z"
   },
   {
    "duration": 0,
    "start_time": "2024-04-27T05:41:47.616Z"
   },
   {
    "duration": 0,
    "start_time": "2024-04-27T05:41:47.617Z"
   },
   {
    "duration": 0,
    "start_time": "2024-04-27T05:44:09.000Z"
   },
   {
    "duration": 0,
    "start_time": "2024-04-27T05:44:09.093Z"
   },
   {
    "duration": 0,
    "start_time": "2024-04-27T05:44:09.094Z"
   },
   {
    "duration": 9,
    "start_time": "2024-04-27T05:44:19.029Z"
   },
   {
    "duration": 14666,
    "start_time": "2024-04-27T05:44:22.525Z"
   },
   {
    "duration": 9,
    "start_time": "2024-04-27T05:45:25.860Z"
   },
   {
    "duration": 17,
    "start_time": "2024-04-27T05:45:27.608Z"
   },
   {
    "duration": 8,
    "start_time": "2024-04-27T05:45:48.141Z"
   },
   {
    "duration": 16,
    "start_time": "2024-04-27T05:45:49.945Z"
   },
   {
    "duration": 7,
    "start_time": "2024-04-27T05:45:57.429Z"
   },
   {
    "duration": 2,
    "start_time": "2024-04-27T05:45:58.241Z"
   },
   {
    "duration": 3895,
    "start_time": "2024-04-27T05:45:58.577Z"
   },
   {
    "duration": 9,
    "start_time": "2024-04-27T05:47:04.329Z"
   },
   {
    "duration": 2,
    "start_time": "2024-04-27T05:47:05.369Z"
   },
   {
    "duration": 18,
    "start_time": "2024-04-27T05:47:05.880Z"
   },
   {
    "duration": 8,
    "start_time": "2024-04-27T05:48:01.810Z"
   },
   {
    "duration": 40,
    "start_time": "2024-04-27T05:48:02.348Z"
   },
   {
    "duration": 3492,
    "start_time": "2024-04-27T05:48:02.781Z"
   },
   {
    "duration": 3686,
    "start_time": "2024-04-27T05:49:35.993Z"
   },
   {
    "duration": 8,
    "start_time": "2024-04-27T05:49:40.654Z"
   },
   {
    "duration": 10,
    "start_time": "2024-04-27T05:51:02.358Z"
   },
   {
    "duration": 3713,
    "start_time": "2024-04-27T05:51:04.434Z"
   },
   {
    "duration": 10,
    "start_time": "2024-04-27T05:52:18.186Z"
   },
   {
    "duration": 9,
    "start_time": "2024-04-27T06:00:44.364Z"
   },
   {
    "duration": 8,
    "start_time": "2024-04-27T06:00:46.626Z"
   },
   {
    "duration": 4884,
    "start_time": "2024-04-27T06:00:48.730Z"
   },
   {
    "duration": 7,
    "start_time": "2024-04-27T06:01:59.758Z"
   },
   {
    "duration": 260,
    "start_time": "2024-04-27T06:02:53.177Z"
   },
   {
    "duration": 10,
    "start_time": "2024-04-27T06:03:29.797Z"
   },
   {
    "duration": 7,
    "start_time": "2024-04-27T06:03:32.449Z"
   },
   {
    "duration": 8,
    "start_time": "2024-04-27T06:04:07.366Z"
   },
   {
    "duration": 8,
    "start_time": "2024-04-27T06:04:08.977Z"
   },
   {
    "duration": 261,
    "start_time": "2024-04-27T06:04:09.268Z"
   },
   {
    "duration": 9,
    "start_time": "2024-04-27T06:04:37.069Z"
   },
   {
    "duration": 7,
    "start_time": "2024-04-27T06:04:37.780Z"
   },
   {
    "duration": 255,
    "start_time": "2024-04-27T06:04:37.931Z"
   },
   {
    "duration": 8,
    "start_time": "2024-04-27T06:05:09.273Z"
   },
   {
    "duration": 8,
    "start_time": "2024-04-27T06:05:09.912Z"
   },
   {
    "duration": 266,
    "start_time": "2024-04-27T06:05:10.090Z"
   },
   {
    "duration": 10,
    "start_time": "2024-04-27T06:06:20.825Z"
   },
   {
    "duration": 7,
    "start_time": "2024-04-27T06:06:21.483Z"
   },
   {
    "duration": 511,
    "start_time": "2024-04-27T06:06:21.901Z"
   },
   {
    "duration": 9,
    "start_time": "2024-04-27T06:07:14.516Z"
   },
   {
    "duration": 8,
    "start_time": "2024-04-27T06:07:15.248Z"
   },
   {
    "duration": 487,
    "start_time": "2024-04-27T06:07:16.364Z"
   },
   {
    "duration": 10,
    "start_time": "2024-04-27T06:08:44.397Z"
   },
   {
    "duration": 7,
    "start_time": "2024-04-27T06:08:45.085Z"
   },
   {
    "duration": 503,
    "start_time": "2024-04-27T06:08:45.492Z"
   },
   {
    "duration": 5037,
    "start_time": "2024-04-27T06:09:09.254Z"
   },
   {
    "duration": 6,
    "start_time": "2024-04-27T06:09:14.293Z"
   },
   {
    "duration": 9,
    "start_time": "2024-04-27T06:10:15.923Z"
   },
   {
    "duration": 507,
    "start_time": "2024-04-27T06:10:16.660Z"
   },
   {
    "duration": 5090,
    "start_time": "2024-04-27T06:10:20.606Z"
   },
   {
    "duration": 11,
    "start_time": "2024-04-27T06:11:02.037Z"
   },
   {
    "duration": 507,
    "start_time": "2024-04-27T06:11:02.396Z"
   },
   {
    "duration": 4980,
    "start_time": "2024-04-27T06:11:02.905Z"
   },
   {
    "duration": 3,
    "start_time": "2024-04-27T06:30:08.443Z"
   },
   {
    "duration": 88,
    "start_time": "2024-04-27T06:30:10.906Z"
   },
   {
    "duration": 5,
    "start_time": "2024-04-27T06:31:35.344Z"
   },
   {
    "duration": 11,
    "start_time": "2024-04-27T06:31:36.156Z"
   },
   {
    "duration": 12,
    "start_time": "2024-04-27T06:31:37.210Z"
   },
   {
    "duration": 5,
    "start_time": "2024-04-27T06:31:40.519Z"
   },
   {
    "duration": 10,
    "start_time": "2024-04-27T06:31:41.603Z"
   },
   {
    "duration": 5042,
    "start_time": "2024-04-27T06:31:42.743Z"
   },
   {
    "duration": 6,
    "start_time": "2024-04-27T06:31:47.791Z"
   },
   {
    "duration": 5,
    "start_time": "2024-04-27T06:32:16.920Z"
   },
   {
    "duration": 7,
    "start_time": "2024-04-27T06:32:26.261Z"
   },
   {
    "duration": 4989,
    "start_time": "2024-04-27T06:32:34.387Z"
   },
   {
    "duration": 5632,
    "start_time": "2024-04-27T06:33:09.641Z"
   },
   {
    "duration": 1862,
    "start_time": "2024-04-27T06:33:15.275Z"
   },
   {
    "duration": 84,
    "start_time": "2024-04-27T06:33:17.139Z"
   },
   {
    "duration": 3,
    "start_time": "2024-04-27T06:33:17.225Z"
   },
   {
    "duration": 77,
    "start_time": "2024-04-27T06:33:17.230Z"
   },
   {
    "duration": 4,
    "start_time": "2024-04-27T06:33:17.309Z"
   },
   {
    "duration": 40,
    "start_time": "2024-04-27T06:33:17.314Z"
   },
   {
    "duration": 50,
    "start_time": "2024-04-27T06:33:17.356Z"
   },
   {
    "duration": 3,
    "start_time": "2024-04-27T06:33:17.408Z"
   },
   {
    "duration": 53,
    "start_time": "2024-04-27T06:33:17.414Z"
   },
   {
    "duration": 21,
    "start_time": "2024-04-27T06:33:17.468Z"
   },
   {
    "duration": 49,
    "start_time": "2024-04-27T06:33:17.491Z"
   },
   {
    "duration": 43,
    "start_time": "2024-04-27T06:33:17.542Z"
   },
   {
    "duration": 47,
    "start_time": "2024-04-27T06:33:17.586Z"
   },
   {
    "duration": 55,
    "start_time": "2024-04-27T06:33:17.634Z"
   },
   {
    "duration": 46,
    "start_time": "2024-04-27T06:33:17.691Z"
   },
   {
    "duration": 104,
    "start_time": "2024-04-27T06:33:17.739Z"
   },
   {
    "duration": 4,
    "start_time": "2024-04-27T06:33:17.845Z"
   },
   {
    "duration": 45,
    "start_time": "2024-04-27T06:33:17.850Z"
   },
   {
    "duration": 13,
    "start_time": "2024-04-27T06:33:17.896Z"
   },
   {
    "duration": 12,
    "start_time": "2024-04-27T06:33:17.911Z"
   },
   {
    "duration": 11,
    "start_time": "2024-04-27T06:33:17.925Z"
   },
   {
    "duration": 5150,
    "start_time": "2024-04-27T06:33:17.937Z"
   },
   {
    "duration": 6,
    "start_time": "2024-04-27T06:33:23.089Z"
   },
   {
    "duration": 27,
    "start_time": "2024-04-27T06:33:23.097Z"
   },
   {
    "duration": 22,
    "start_time": "2024-04-27T06:33:23.126Z"
   },
   {
    "duration": 16,
    "start_time": "2024-04-27T06:33:23.149Z"
   },
   {
    "duration": 69,
    "start_time": "2024-04-27T06:33:23.169Z"
   },
   {
    "duration": 7,
    "start_time": "2024-04-27T06:33:23.240Z"
   },
   {
    "duration": 25,
    "start_time": "2024-04-27T06:33:23.249Z"
   },
   {
    "duration": 4,
    "start_time": "2024-04-27T06:33:23.276Z"
   },
   {
    "duration": 10,
    "start_time": "2024-04-27T06:33:23.282Z"
   },
   {
    "duration": 812,
    "start_time": "2024-04-27T06:33:23.294Z"
   },
   {
    "duration": 2659,
    "start_time": "2024-04-27T06:33:24.107Z"
   },
   {
    "duration": 5,
    "start_time": "2024-04-27T06:33:26.768Z"
   },
   {
    "duration": 23,
    "start_time": "2024-04-27T06:33:26.774Z"
   },
   {
    "duration": 22,
    "start_time": "2024-04-27T06:33:26.798Z"
   },
   {
    "duration": 25,
    "start_time": "2024-04-27T06:33:26.821Z"
   },
   {
    "duration": 10,
    "start_time": "2024-04-27T06:33:26.848Z"
   },
   {
    "duration": 20,
    "start_time": "2024-04-27T06:33:26.860Z"
   },
   {
    "duration": 9,
    "start_time": "2024-04-27T06:33:26.882Z"
   },
   {
    "duration": 12,
    "start_time": "2024-04-27T06:33:26.892Z"
   },
   {
    "duration": 8,
    "start_time": "2024-04-27T06:33:26.906Z"
   },
   {
    "duration": 18,
    "start_time": "2024-04-27T06:33:26.916Z"
   },
   {
    "duration": 3135,
    "start_time": "2024-04-27T06:33:26.935Z"
   },
   {
    "duration": 25,
    "start_time": "2024-04-27T06:33:30.071Z"
   },
   {
    "duration": 51,
    "start_time": "2024-04-27T06:33:30.098Z"
   },
   {
    "duration": 79,
    "start_time": "2024-04-27T06:33:30.151Z"
   },
   {
    "duration": 110,
    "start_time": "2024-04-27T06:33:30.232Z"
   },
   {
    "duration": 908,
    "start_time": "2024-04-27T06:33:30.345Z"
   },
   {
    "duration": 965,
    "start_time": "2024-04-27T06:33:31.255Z"
   },
   {
    "duration": 14,
    "start_time": "2024-04-27T06:34:42.299Z"
   },
   {
    "duration": 6,
    "start_time": "2024-04-27T06:35:30.323Z"
   },
   {
    "duration": 10,
    "start_time": "2024-04-27T06:35:34.229Z"
   },
   {
    "duration": 5122,
    "start_time": "2024-04-27T06:35:35.840Z"
   },
   {
    "duration": 4930,
    "start_time": "2024-04-27T06:36:31.127Z"
   },
   {
    "duration": 1897,
    "start_time": "2024-04-27T06:36:36.060Z"
   },
   {
    "duration": 83,
    "start_time": "2024-04-27T06:36:37.959Z"
   },
   {
    "duration": 4,
    "start_time": "2024-04-27T06:36:38.044Z"
   },
   {
    "duration": 69,
    "start_time": "2024-04-27T06:36:38.049Z"
   },
   {
    "duration": 4,
    "start_time": "2024-04-27T06:36:38.119Z"
   },
   {
    "duration": 18,
    "start_time": "2024-04-27T06:36:38.124Z"
   },
   {
    "duration": 59,
    "start_time": "2024-04-27T06:36:38.143Z"
   },
   {
    "duration": 4,
    "start_time": "2024-04-27T06:36:38.204Z"
   },
   {
    "duration": 27,
    "start_time": "2024-04-27T06:36:38.211Z"
   },
   {
    "duration": 3,
    "start_time": "2024-04-27T06:36:38.239Z"
   },
   {
    "duration": 61,
    "start_time": "2024-04-27T06:36:38.244Z"
   },
   {
    "duration": 36,
    "start_time": "2024-04-27T06:36:38.307Z"
   },
   {
    "duration": 46,
    "start_time": "2024-04-27T06:36:38.345Z"
   },
   {
    "duration": 49,
    "start_time": "2024-04-27T06:36:38.392Z"
   },
   {
    "duration": 37,
    "start_time": "2024-04-27T06:36:38.443Z"
   },
   {
    "duration": 133,
    "start_time": "2024-04-27T06:36:38.481Z"
   },
   {
    "duration": 3,
    "start_time": "2024-04-27T06:36:38.616Z"
   },
   {
    "duration": 45,
    "start_time": "2024-04-27T06:36:38.621Z"
   },
   {
    "duration": 21,
    "start_time": "2024-04-27T06:36:38.667Z"
   },
   {
    "duration": 34,
    "start_time": "2024-04-27T06:36:38.690Z"
   },
   {
    "duration": 40,
    "start_time": "2024-04-27T06:36:38.726Z"
   },
   {
    "duration": 5206,
    "start_time": "2024-04-27T06:36:38.768Z"
   },
   {
    "duration": 7,
    "start_time": "2024-04-27T06:36:43.975Z"
   },
   {
    "duration": 18,
    "start_time": "2024-04-27T06:36:43.984Z"
   },
   {
    "duration": 35,
    "start_time": "2024-04-27T06:36:44.004Z"
   },
   {
    "duration": 11,
    "start_time": "2024-04-27T06:36:44.041Z"
   },
   {
    "duration": 19,
    "start_time": "2024-04-27T06:36:44.056Z"
   },
   {
    "duration": 31,
    "start_time": "2024-04-27T06:36:44.077Z"
   },
   {
    "duration": 29,
    "start_time": "2024-04-27T06:36:44.110Z"
   },
   {
    "duration": 4,
    "start_time": "2024-04-27T06:36:44.141Z"
   },
   {
    "duration": 6,
    "start_time": "2024-04-27T06:36:44.147Z"
   },
   {
    "duration": 784,
    "start_time": "2024-04-27T06:36:44.154Z"
   },
   {
    "duration": 3518,
    "start_time": "2024-04-27T06:36:44.940Z"
   },
   {
    "duration": 5,
    "start_time": "2024-04-27T06:36:48.459Z"
   },
   {
    "duration": 20,
    "start_time": "2024-04-27T06:36:48.466Z"
   },
   {
    "duration": 37,
    "start_time": "2024-04-27T06:36:48.488Z"
   },
   {
    "duration": 4,
    "start_time": "2024-04-27T06:36:48.527Z"
   },
   {
    "duration": 8,
    "start_time": "2024-04-27T06:36:48.532Z"
   },
   {
    "duration": 26,
    "start_time": "2024-04-27T06:36:48.541Z"
   },
   {
    "duration": 10,
    "start_time": "2024-04-27T06:36:48.568Z"
   },
   {
    "duration": 33,
    "start_time": "2024-04-27T06:36:48.579Z"
   },
   {
    "duration": 9,
    "start_time": "2024-04-27T06:36:48.614Z"
   },
   {
    "duration": 31,
    "start_time": "2024-04-27T06:36:48.625Z"
   },
   {
    "duration": 989,
    "start_time": "2024-04-27T06:36:48.658Z"
   },
   {
    "duration": 0,
    "start_time": "2024-04-27T06:36:49.648Z"
   },
   {
    "duration": 0,
    "start_time": "2024-04-27T06:36:49.650Z"
   },
   {
    "duration": 0,
    "start_time": "2024-04-27T06:36:49.651Z"
   },
   {
    "duration": 0,
    "start_time": "2024-04-27T06:36:49.652Z"
   },
   {
    "duration": 0,
    "start_time": "2024-04-27T06:36:49.653Z"
   },
   {
    "duration": 0,
    "start_time": "2024-04-27T06:36:49.654Z"
   },
   {
    "duration": 14,
    "start_time": "2024-04-27T06:37:37.358Z"
   },
   {
    "duration": 4970,
    "start_time": "2024-04-27T06:37:49.011Z"
   },
   {
    "duration": 472,
    "start_time": "2024-04-27T07:04:33.097Z"
   },
   {
    "duration": 5724,
    "start_time": "2024-04-27T07:04:57.000Z"
   },
   {
    "duration": 1914,
    "start_time": "2024-04-27T07:05:02.727Z"
   },
   {
    "duration": 83,
    "start_time": "2024-04-27T07:05:04.642Z"
   },
   {
    "duration": 4,
    "start_time": "2024-04-27T07:05:04.727Z"
   },
   {
    "duration": 72,
    "start_time": "2024-04-27T07:05:04.732Z"
   },
   {
    "duration": 4,
    "start_time": "2024-04-27T07:05:04.806Z"
   },
   {
    "duration": 14,
    "start_time": "2024-04-27T07:05:04.812Z"
   },
   {
    "duration": 72,
    "start_time": "2024-04-27T07:05:04.828Z"
   },
   {
    "duration": 5,
    "start_time": "2024-04-27T07:05:04.902Z"
   },
   {
    "duration": 23,
    "start_time": "2024-04-27T07:05:04.910Z"
   },
   {
    "duration": 3,
    "start_time": "2024-04-27T07:05:04.935Z"
   },
   {
    "duration": 21,
    "start_time": "2024-04-27T07:05:04.940Z"
   },
   {
    "duration": 5,
    "start_time": "2024-04-27T07:05:04.962Z"
   },
   {
    "duration": 16,
    "start_time": "2024-04-27T07:05:04.969Z"
   },
   {
    "duration": 42,
    "start_time": "2024-04-27T07:05:04.987Z"
   },
   {
    "duration": 10,
    "start_time": "2024-04-27T07:05:05.031Z"
   },
   {
    "duration": 5142,
    "start_time": "2024-04-27T07:05:05.042Z"
   },
   {
    "duration": 6,
    "start_time": "2024-04-27T07:05:10.191Z"
   },
   {
    "duration": 24,
    "start_time": "2024-04-27T07:05:10.199Z"
   },
   {
    "duration": 91,
    "start_time": "2024-04-27T07:05:10.225Z"
   },
   {
    "duration": 4,
    "start_time": "2024-04-27T07:05:10.318Z"
   },
   {
    "duration": 21,
    "start_time": "2024-04-27T07:05:10.323Z"
   },
   {
    "duration": 11,
    "start_time": "2024-04-27T07:05:10.346Z"
   },
   {
    "duration": 20,
    "start_time": "2024-04-27T07:05:10.359Z"
   },
   {
    "duration": 606,
    "start_time": "2024-04-27T07:05:10.380Z"
   },
   {
    "duration": 6,
    "start_time": "2024-04-27T07:05:10.991Z"
   },
   {
    "duration": 30,
    "start_time": "2024-04-27T07:05:10.998Z"
   },
   {
    "duration": 17,
    "start_time": "2024-04-27T07:05:11.031Z"
   },
   {
    "duration": 29,
    "start_time": "2024-04-27T07:05:11.049Z"
   },
   {
    "duration": 36,
    "start_time": "2024-04-27T07:05:11.080Z"
   },
   {
    "duration": 218,
    "start_time": "2024-04-27T07:05:11.118Z"
   },
   {
    "duration": 3,
    "start_time": "2024-04-27T07:05:11.338Z"
   },
   {
    "duration": 43,
    "start_time": "2024-04-27T07:05:11.343Z"
   },
   {
    "duration": 840,
    "start_time": "2024-04-27T07:05:11.388Z"
   },
   {
    "duration": 3210,
    "start_time": "2024-04-27T07:05:12.230Z"
   },
   {
    "duration": 5,
    "start_time": "2024-04-27T07:05:15.442Z"
   },
   {
    "duration": 41,
    "start_time": "2024-04-27T07:05:15.449Z"
   },
   {
    "duration": 21,
    "start_time": "2024-04-27T07:05:15.492Z"
   },
   {
    "duration": 13,
    "start_time": "2024-04-27T07:05:15.515Z"
   },
   {
    "duration": 48,
    "start_time": "2024-04-27T07:05:15.530Z"
   },
   {
    "duration": 31,
    "start_time": "2024-04-27T07:05:15.580Z"
   },
   {
    "duration": 27,
    "start_time": "2024-04-27T07:05:15.613Z"
   },
   {
    "duration": 16,
    "start_time": "2024-04-27T07:05:15.642Z"
   },
   {
    "duration": 15,
    "start_time": "2024-04-27T07:05:15.659Z"
   },
   {
    "duration": 28,
    "start_time": "2024-04-27T07:05:15.676Z"
   },
   {
    "duration": 3257,
    "start_time": "2024-04-27T07:05:15.705Z"
   },
   {
    "duration": 11,
    "start_time": "2024-04-27T07:05:18.964Z"
   },
   {
    "duration": 49,
    "start_time": "2024-04-27T07:05:18.993Z"
   },
   {
    "duration": 50,
    "start_time": "2024-04-27T07:05:19.044Z"
   },
   {
    "duration": 8,
    "start_time": "2024-04-27T07:05:19.096Z"
   },
   {
    "duration": 856,
    "start_time": "2024-04-27T07:05:19.106Z"
   },
   {
    "duration": 954,
    "start_time": "2024-04-27T07:05:19.964Z"
   },
   {
    "duration": 4,
    "start_time": "2024-04-27T07:05:40.888Z"
   },
   {
    "duration": 14,
    "start_time": "2024-04-27T07:05:41.478Z"
   },
   {
    "duration": 711,
    "start_time": "2024-04-27T07:05:43.215Z"
   },
   {
    "duration": 4904,
    "start_time": "2024-04-27T07:05:50.262Z"
   },
   {
    "duration": 2267,
    "start_time": "2024-04-27T07:05:55.169Z"
   },
   {
    "duration": 124,
    "start_time": "2024-04-27T07:05:57.438Z"
   },
   {
    "duration": 29,
    "start_time": "2024-04-27T07:05:57.564Z"
   },
   {
    "duration": 128,
    "start_time": "2024-04-27T07:05:57.596Z"
   },
   {
    "duration": 4,
    "start_time": "2024-04-27T07:05:57.725Z"
   },
   {
    "duration": 61,
    "start_time": "2024-04-27T07:05:57.731Z"
   },
   {
    "duration": 35,
    "start_time": "2024-04-27T07:05:57.793Z"
   },
   {
    "duration": 4,
    "start_time": "2024-04-27T07:05:57.829Z"
   },
   {
    "duration": 72,
    "start_time": "2024-04-27T07:05:57.835Z"
   },
   {
    "duration": 3,
    "start_time": "2024-04-27T07:05:57.909Z"
   },
   {
    "duration": 12,
    "start_time": "2024-04-27T07:05:57.913Z"
   },
   {
    "duration": 5,
    "start_time": "2024-04-27T07:05:57.927Z"
   },
   {
    "duration": 58,
    "start_time": "2024-04-27T07:05:57.934Z"
   },
   {
    "duration": 25,
    "start_time": "2024-04-27T07:05:57.994Z"
   },
   {
    "duration": 11,
    "start_time": "2024-04-27T07:05:58.021Z"
   },
   {
    "duration": 6263,
    "start_time": "2024-04-27T07:05:58.034Z"
   },
   {
    "duration": 6,
    "start_time": "2024-04-27T07:06:04.299Z"
   },
   {
    "duration": 10,
    "start_time": "2024-04-27T07:06:04.306Z"
   },
   {
    "duration": 133,
    "start_time": "2024-04-27T07:06:04.317Z"
   },
   {
    "duration": 4,
    "start_time": "2024-04-27T07:06:04.452Z"
   },
   {
    "duration": 34,
    "start_time": "2024-04-27T07:06:04.457Z"
   },
   {
    "duration": 6,
    "start_time": "2024-04-27T07:06:04.493Z"
   },
   {
    "duration": 8,
    "start_time": "2024-04-27T07:06:04.500Z"
   },
   {
    "duration": 18,
    "start_time": "2024-04-27T07:06:04.509Z"
   },
   {
    "duration": 595,
    "start_time": "2024-04-27T07:06:04.528Z"
   },
   {
    "duration": 0,
    "start_time": "2024-04-27T07:06:05.125Z"
   },
   {
    "duration": 0,
    "start_time": "2024-04-27T07:06:05.127Z"
   },
   {
    "duration": 0,
    "start_time": "2024-04-27T07:06:05.128Z"
   },
   {
    "duration": 0,
    "start_time": "2024-04-27T07:06:05.129Z"
   },
   {
    "duration": 0,
    "start_time": "2024-04-27T07:06:05.130Z"
   },
   {
    "duration": 0,
    "start_time": "2024-04-27T07:06:05.131Z"
   },
   {
    "duration": 0,
    "start_time": "2024-04-27T07:06:05.132Z"
   },
   {
    "duration": 0,
    "start_time": "2024-04-27T07:06:05.133Z"
   },
   {
    "duration": 0,
    "start_time": "2024-04-27T07:06:05.134Z"
   },
   {
    "duration": 0,
    "start_time": "2024-04-27T07:06:05.135Z"
   },
   {
    "duration": 0,
    "start_time": "2024-04-27T07:06:05.136Z"
   },
   {
    "duration": 0,
    "start_time": "2024-04-27T07:06:05.137Z"
   },
   {
    "duration": 0,
    "start_time": "2024-04-27T07:06:05.138Z"
   },
   {
    "duration": 0,
    "start_time": "2024-04-27T07:06:05.139Z"
   },
   {
    "duration": 1,
    "start_time": "2024-04-27T07:06:05.321Z"
   },
   {
    "duration": 0,
    "start_time": "2024-04-27T07:06:05.323Z"
   },
   {
    "duration": 0,
    "start_time": "2024-04-27T07:06:05.324Z"
   },
   {
    "duration": 0,
    "start_time": "2024-04-27T07:06:05.326Z"
   },
   {
    "duration": 0,
    "start_time": "2024-04-27T07:06:05.327Z"
   },
   {
    "duration": 0,
    "start_time": "2024-04-27T07:06:05.329Z"
   },
   {
    "duration": 0,
    "start_time": "2024-04-27T07:06:05.330Z"
   },
   {
    "duration": 0,
    "start_time": "2024-04-27T07:06:05.332Z"
   },
   {
    "duration": 0,
    "start_time": "2024-04-27T07:06:05.333Z"
   },
   {
    "duration": 0,
    "start_time": "2024-04-27T07:06:05.335Z"
   },
   {
    "duration": 0,
    "start_time": "2024-04-27T07:06:05.336Z"
   },
   {
    "duration": 0,
    "start_time": "2024-04-27T07:06:05.337Z"
   },
   {
    "duration": 0,
    "start_time": "2024-04-27T07:06:05.339Z"
   },
   {
    "duration": 12,
    "start_time": "2024-04-27T07:08:25.003Z"
   },
   {
    "duration": 320,
    "start_time": "2024-04-27T07:09:05.155Z"
   },
   {
    "duration": 325,
    "start_time": "2024-04-27T07:09:40.575Z"
   },
   {
    "duration": 375,
    "start_time": "2024-04-27T07:09:47.629Z"
   },
   {
    "duration": 367,
    "start_time": "2024-04-27T07:09:54.118Z"
   },
   {
    "duration": 397,
    "start_time": "2024-04-27T07:11:25.153Z"
   },
   {
    "duration": 6,
    "start_time": "2024-04-27T07:12:50.299Z"
   },
   {
    "duration": 5701,
    "start_time": "2024-04-27T07:12:56.543Z"
   },
   {
    "duration": 1836,
    "start_time": "2024-04-27T07:13:02.246Z"
   },
   {
    "duration": 83,
    "start_time": "2024-04-27T07:13:04.084Z"
   },
   {
    "duration": 4,
    "start_time": "2024-04-27T07:13:04.169Z"
   },
   {
    "duration": 67,
    "start_time": "2024-04-27T07:13:04.174Z"
   },
   {
    "duration": 3,
    "start_time": "2024-04-27T07:13:04.243Z"
   },
   {
    "duration": 7,
    "start_time": "2024-04-27T07:13:04.248Z"
   },
   {
    "duration": 60,
    "start_time": "2024-04-27T07:13:04.256Z"
   },
   {
    "duration": 3,
    "start_time": "2024-04-27T07:13:04.318Z"
   },
   {
    "duration": 16,
    "start_time": "2024-04-27T07:13:04.324Z"
   },
   {
    "duration": 3,
    "start_time": "2024-04-27T07:13:04.342Z"
   },
   {
    "duration": 6,
    "start_time": "2024-04-27T07:13:04.347Z"
   },
   {
    "duration": 39,
    "start_time": "2024-04-27T07:13:04.354Z"
   },
   {
    "duration": 11,
    "start_time": "2024-04-27T07:13:04.395Z"
   },
   {
    "duration": 15,
    "start_time": "2024-04-27T07:13:04.408Z"
   },
   {
    "duration": 9,
    "start_time": "2024-04-27T07:13:04.425Z"
   },
   {
    "duration": 5829,
    "start_time": "2024-04-27T07:13:04.435Z"
   },
   {
    "duration": 6,
    "start_time": "2024-04-27T07:13:10.266Z"
   },
   {
    "duration": 6,
    "start_time": "2024-04-27T07:13:10.273Z"
   },
   {
    "duration": 100,
    "start_time": "2024-04-27T07:13:10.292Z"
   },
   {
    "duration": 4,
    "start_time": "2024-04-27T07:13:10.394Z"
   },
   {
    "duration": 32,
    "start_time": "2024-04-27T07:13:10.399Z"
   },
   {
    "duration": 4,
    "start_time": "2024-04-27T07:13:10.432Z"
   },
   {
    "duration": 19,
    "start_time": "2024-04-27T07:13:10.438Z"
   },
   {
    "duration": 31,
    "start_time": "2024-04-27T07:13:10.458Z"
   },
   {
    "duration": 388,
    "start_time": "2024-04-27T07:13:10.490Z"
   },
   {
    "duration": 13,
    "start_time": "2024-04-27T07:13:10.879Z"
   },
   {
    "duration": 15,
    "start_time": "2024-04-27T07:13:10.897Z"
   },
   {
    "duration": 36,
    "start_time": "2024-04-27T07:13:10.914Z"
   },
   {
    "duration": 20,
    "start_time": "2024-04-27T07:13:10.952Z"
   },
   {
    "duration": 8,
    "start_time": "2024-04-27T07:13:10.973Z"
   },
   {
    "duration": 169,
    "start_time": "2024-04-27T07:13:10.982Z"
   },
   {
    "duration": 5,
    "start_time": "2024-04-27T07:13:11.153Z"
   },
   {
    "duration": 4,
    "start_time": "2024-04-27T07:13:11.159Z"
   },
   {
    "duration": 810,
    "start_time": "2024-04-27T07:13:11.164Z"
   },
   {
    "duration": 2664,
    "start_time": "2024-04-27T07:13:11.976Z"
   },
   {
    "duration": 5,
    "start_time": "2024-04-27T07:13:14.641Z"
   },
   {
    "duration": 8,
    "start_time": "2024-04-27T07:13:14.647Z"
   },
   {
    "duration": 9,
    "start_time": "2024-04-27T07:13:14.656Z"
   },
   {
    "duration": 4,
    "start_time": "2024-04-27T07:13:14.666Z"
   },
   {
    "duration": 4,
    "start_time": "2024-04-27T07:13:14.691Z"
   },
   {
    "duration": 30,
    "start_time": "2024-04-27T07:13:14.696Z"
   },
   {
    "duration": 7,
    "start_time": "2024-04-27T07:13:14.728Z"
   },
   {
    "duration": 7,
    "start_time": "2024-04-27T07:13:14.736Z"
   },
   {
    "duration": 16,
    "start_time": "2024-04-27T07:13:14.745Z"
   },
   {
    "duration": 9,
    "start_time": "2024-04-27T07:13:14.763Z"
   },
   {
    "duration": 3299,
    "start_time": "2024-04-27T07:13:14.773Z"
   },
   {
    "duration": 25,
    "start_time": "2024-04-27T07:13:18.074Z"
   },
   {
    "duration": 11,
    "start_time": "2024-04-27T07:13:18.101Z"
   },
   {
    "duration": 21,
    "start_time": "2024-04-27T07:13:18.114Z"
   },
   {
    "duration": 25,
    "start_time": "2024-04-27T07:13:18.136Z"
   },
   {
    "duration": 979,
    "start_time": "2024-04-27T07:13:18.163Z"
   },
   {
    "duration": 961,
    "start_time": "2024-04-27T07:13:19.143Z"
   },
   {
    "duration": 3,
    "start_time": "2024-04-27T07:14:38.047Z"
   },
   {
    "duration": 10,
    "start_time": "2024-04-27T07:14:38.475Z"
   },
   {
    "duration": 15,
    "start_time": "2024-04-27T07:14:40.099Z"
   },
   {
    "duration": 390,
    "start_time": "2024-04-27T07:14:43.689Z"
   },
   {
    "duration": 7,
    "start_time": "2024-04-27T07:14:45.871Z"
   },
   {
    "duration": 12,
    "start_time": "2024-04-27T07:14:49.191Z"
   },
   {
    "duration": 10,
    "start_time": "2024-04-27T07:14:49.467Z"
   },
   {
    "duration": 15,
    "start_time": "2024-04-27T07:14:50.551Z"
   },
   {
    "duration": 7,
    "start_time": "2024-04-27T07:14:50.935Z"
   },
   {
    "duration": 30,
    "start_time": "2024-04-27T07:14:52.389Z"
   },
   {
    "duration": 4,
    "start_time": "2024-04-27T07:14:52.747Z"
   },
   {
    "duration": 10,
    "start_time": "2024-04-27T07:16:24.278Z"
   },
   {
    "duration": 16,
    "start_time": "2024-04-27T07:16:25.166Z"
   },
   {
    "duration": 416,
    "start_time": "2024-04-27T07:16:26.138Z"
   },
   {
    "duration": 6,
    "start_time": "2024-04-27T07:16:28.679Z"
   },
   {
    "duration": 13,
    "start_time": "2024-04-27T07:16:31.319Z"
   },
   {
    "duration": 10,
    "start_time": "2024-04-27T07:16:31.536Z"
   },
   {
    "duration": 13,
    "start_time": "2024-04-27T07:16:32.347Z"
   },
   {
    "duration": 7,
    "start_time": "2024-04-27T07:16:32.814Z"
   },
   {
    "duration": 24,
    "start_time": "2024-04-27T07:16:33.687Z"
   },
   {
    "duration": 141,
    "start_time": "2024-04-27T07:16:34.107Z"
   },
   {
    "duration": 4,
    "start_time": "2024-04-27T07:17:50.492Z"
   },
   {
    "duration": 13,
    "start_time": "2024-04-27T07:18:02.341Z"
   },
   {
    "duration": 5316,
    "start_time": "2024-04-27T07:19:10.334Z"
   },
   {
    "duration": 1935,
    "start_time": "2024-04-27T07:19:15.653Z"
   },
   {
    "duration": 87,
    "start_time": "2024-04-27T07:19:17.590Z"
   },
   {
    "duration": 4,
    "start_time": "2024-04-27T07:19:17.680Z"
   },
   {
    "duration": 78,
    "start_time": "2024-04-27T07:19:17.685Z"
   },
   {
    "duration": 4,
    "start_time": "2024-04-27T07:19:17.792Z"
   },
   {
    "duration": 24,
    "start_time": "2024-04-27T07:19:17.798Z"
   },
   {
    "duration": 46,
    "start_time": "2024-04-27T07:19:17.824Z"
   },
   {
    "duration": 4,
    "start_time": "2024-04-27T07:19:17.872Z"
   },
   {
    "duration": 14,
    "start_time": "2024-04-27T07:19:17.891Z"
   },
   {
    "duration": 28,
    "start_time": "2024-04-27T07:19:17.906Z"
   },
   {
    "duration": 12,
    "start_time": "2024-04-27T07:19:17.936Z"
   },
   {
    "duration": 27,
    "start_time": "2024-04-27T07:19:17.949Z"
   },
   {
    "duration": 14,
    "start_time": "2024-04-27T07:19:17.977Z"
   },
   {
    "duration": 36,
    "start_time": "2024-04-27T07:19:17.993Z"
   },
   {
    "duration": 11,
    "start_time": "2024-04-27T07:19:18.031Z"
   },
   {
    "duration": 6938,
    "start_time": "2024-04-27T07:19:18.044Z"
   },
   {
    "duration": 9,
    "start_time": "2024-04-27T07:19:24.984Z"
   },
   {
    "duration": 19,
    "start_time": "2024-04-27T07:19:24.994Z"
   },
   {
    "duration": 137,
    "start_time": "2024-04-27T07:19:25.015Z"
   },
   {
    "duration": 4,
    "start_time": "2024-04-27T07:19:25.154Z"
   },
   {
    "duration": 15,
    "start_time": "2024-04-27T07:19:25.160Z"
   },
   {
    "duration": 12,
    "start_time": "2024-04-27T07:19:25.191Z"
   },
   {
    "duration": 12,
    "start_time": "2024-04-27T07:19:25.205Z"
   },
   {
    "duration": 14,
    "start_time": "2024-04-27T07:19:25.219Z"
   },
   {
    "duration": 28,
    "start_time": "2024-04-27T07:19:25.235Z"
   },
   {
    "duration": 403,
    "start_time": "2024-04-27T07:19:25.265Z"
   },
   {
    "duration": 7,
    "start_time": "2024-04-27T07:19:25.671Z"
   },
   {
    "duration": 20,
    "start_time": "2024-04-27T07:19:25.680Z"
   },
   {
    "duration": 10,
    "start_time": "2024-04-27T07:19:25.701Z"
   },
   {
    "duration": 175,
    "start_time": "2024-04-27T07:19:25.713Z"
   },
   {
    "duration": 8,
    "start_time": "2024-04-27T07:19:25.889Z"
   },
   {
    "duration": 29,
    "start_time": "2024-04-27T07:19:25.899Z"
   },
   {
    "duration": 176,
    "start_time": "2024-04-27T07:19:25.929Z"
   },
   {
    "duration": 0,
    "start_time": "2024-04-27T07:19:26.107Z"
   },
   {
    "duration": 0,
    "start_time": "2024-04-27T07:19:26.108Z"
   },
   {
    "duration": 0,
    "start_time": "2024-04-27T07:19:26.109Z"
   },
   {
    "duration": 0,
    "start_time": "2024-04-27T07:19:26.111Z"
   },
   {
    "duration": 0,
    "start_time": "2024-04-27T07:19:26.112Z"
   },
   {
    "duration": 0,
    "start_time": "2024-04-27T07:19:26.114Z"
   },
   {
    "duration": 0,
    "start_time": "2024-04-27T07:19:26.115Z"
   },
   {
    "duration": 0,
    "start_time": "2024-04-27T07:19:26.116Z"
   },
   {
    "duration": 0,
    "start_time": "2024-04-27T07:19:26.117Z"
   },
   {
    "duration": 0,
    "start_time": "2024-04-27T07:19:26.118Z"
   },
   {
    "duration": 0,
    "start_time": "2024-04-27T07:19:26.119Z"
   },
   {
    "duration": 0,
    "start_time": "2024-04-27T07:19:26.121Z"
   },
   {
    "duration": 0,
    "start_time": "2024-04-27T07:19:26.122Z"
   },
   {
    "duration": 0,
    "start_time": "2024-04-27T07:19:26.123Z"
   },
   {
    "duration": 0,
    "start_time": "2024-04-27T07:19:26.124Z"
   },
   {
    "duration": 0,
    "start_time": "2024-04-27T07:19:26.125Z"
   },
   {
    "duration": 0,
    "start_time": "2024-04-27T07:19:26.126Z"
   },
   {
    "duration": 0,
    "start_time": "2024-04-27T07:19:26.127Z"
   },
   {
    "duration": 0,
    "start_time": "2024-04-27T07:19:26.128Z"
   },
   {
    "duration": 0,
    "start_time": "2024-04-27T07:19:26.130Z"
   },
   {
    "duration": 5098,
    "start_time": "2024-04-27T07:19:52.808Z"
   },
   {
    "duration": 1988,
    "start_time": "2024-04-27T07:19:57.909Z"
   },
   {
    "duration": 84,
    "start_time": "2024-04-27T07:19:59.898Z"
   },
   {
    "duration": 5,
    "start_time": "2024-04-27T07:19:59.985Z"
   },
   {
    "duration": 112,
    "start_time": "2024-04-27T07:19:59.992Z"
   },
   {
    "duration": 6,
    "start_time": "2024-04-27T07:20:00.106Z"
   },
   {
    "duration": 103,
    "start_time": "2024-04-27T07:20:00.114Z"
   },
   {
    "duration": 86,
    "start_time": "2024-04-27T07:20:00.219Z"
   },
   {
    "duration": 65,
    "start_time": "2024-04-27T07:20:00.307Z"
   },
   {
    "duration": 102,
    "start_time": "2024-04-27T07:20:00.375Z"
   },
   {
    "duration": 17,
    "start_time": "2024-04-27T07:20:00.479Z"
   },
   {
    "duration": 14,
    "start_time": "2024-04-27T07:20:00.498Z"
   },
   {
    "duration": 39,
    "start_time": "2024-04-27T07:20:00.513Z"
   },
   {
    "duration": 31,
    "start_time": "2024-04-27T07:20:00.554Z"
   },
   {
    "duration": 143,
    "start_time": "2024-04-27T07:20:00.586Z"
   },
   {
    "duration": 66,
    "start_time": "2024-04-27T07:20:00.732Z"
   },
   {
    "duration": 6716,
    "start_time": "2024-04-27T07:20:00.800Z"
   },
   {
    "duration": 6,
    "start_time": "2024-04-27T07:20:07.518Z"
   },
   {
    "duration": 40,
    "start_time": "2024-04-27T07:20:07.525Z"
   },
   {
    "duration": 127,
    "start_time": "2024-04-27T07:20:07.567Z"
   },
   {
    "duration": 5,
    "start_time": "2024-04-27T07:20:07.696Z"
   },
   {
    "duration": 28,
    "start_time": "2024-04-27T07:20:07.703Z"
   },
   {
    "duration": 31,
    "start_time": "2024-04-27T07:20:07.733Z"
   },
   {
    "duration": 21,
    "start_time": "2024-04-27T07:20:07.766Z"
   },
   {
    "duration": 32,
    "start_time": "2024-04-27T07:20:07.789Z"
   },
   {
    "duration": 37,
    "start_time": "2024-04-27T07:20:07.823Z"
   },
   {
    "duration": 425,
    "start_time": "2024-04-27T07:20:07.862Z"
   },
   {
    "duration": 6,
    "start_time": "2024-04-27T07:20:08.294Z"
   },
   {
    "duration": 38,
    "start_time": "2024-04-27T07:20:08.302Z"
   },
   {
    "duration": 25,
    "start_time": "2024-04-27T07:20:08.342Z"
   },
   {
    "duration": 152,
    "start_time": "2024-04-27T07:20:08.369Z"
   },
   {
    "duration": 7,
    "start_time": "2024-04-27T07:20:08.522Z"
   },
   {
    "duration": 33,
    "start_time": "2024-04-27T07:20:08.531Z"
   },
   {
    "duration": 3,
    "start_time": "2024-04-27T07:20:08.566Z"
   },
   {
    "duration": 7,
    "start_time": "2024-04-27T07:20:08.570Z"
   },
   {
    "duration": 823,
    "start_time": "2024-04-27T07:20:08.578Z"
   },
   {
    "duration": 2644,
    "start_time": "2024-04-27T07:20:09.402Z"
   },
   {
    "duration": 5,
    "start_time": "2024-04-27T07:20:12.048Z"
   },
   {
    "duration": 8,
    "start_time": "2024-04-27T07:20:12.054Z"
   },
   {
    "duration": 20,
    "start_time": "2024-04-27T07:20:12.063Z"
   },
   {
    "duration": 3,
    "start_time": "2024-04-27T07:20:12.091Z"
   },
   {
    "duration": 14,
    "start_time": "2024-04-27T07:20:12.096Z"
   },
   {
    "duration": 8,
    "start_time": "2024-04-27T07:20:12.111Z"
   },
   {
    "duration": 35,
    "start_time": "2024-04-27T07:20:12.121Z"
   },
   {
    "duration": 17,
    "start_time": "2024-04-27T07:20:12.158Z"
   },
   {
    "duration": 11,
    "start_time": "2024-04-27T07:20:12.177Z"
   },
   {
    "duration": 24,
    "start_time": "2024-04-27T07:20:12.190Z"
   },
   {
    "duration": 3246,
    "start_time": "2024-04-27T07:20:12.216Z"
   },
   {
    "duration": 11,
    "start_time": "2024-04-27T07:20:15.464Z"
   },
   {
    "duration": 23,
    "start_time": "2024-04-27T07:20:15.492Z"
   },
   {
    "duration": 44,
    "start_time": "2024-04-27T07:20:15.516Z"
   },
   {
    "duration": 14,
    "start_time": "2024-04-27T07:20:15.562Z"
   },
   {
    "duration": 972,
    "start_time": "2024-04-27T07:20:15.578Z"
   },
   {
    "duration": 1054,
    "start_time": "2024-04-27T07:20:16.552Z"
   },
   {
    "duration": 5133,
    "start_time": "2024-04-27T07:21:55.787Z"
   },
   {
    "duration": 2706,
    "start_time": "2024-04-27T07:22:00.922Z"
   },
   {
    "duration": 86,
    "start_time": "2024-04-27T07:22:03.629Z"
   },
   {
    "duration": 82,
    "start_time": "2024-04-27T07:22:03.717Z"
   },
   {
    "duration": 144,
    "start_time": "2024-04-27T07:22:03.801Z"
   },
   {
    "duration": 4,
    "start_time": "2024-04-27T07:22:03.946Z"
   },
   {
    "duration": 44,
    "start_time": "2024-04-27T07:22:03.952Z"
   },
   {
    "duration": 46,
    "start_time": "2024-04-27T07:22:03.998Z"
   },
   {
    "duration": 4,
    "start_time": "2024-04-27T07:22:04.045Z"
   },
   {
    "duration": 41,
    "start_time": "2024-04-27T07:22:04.052Z"
   },
   {
    "duration": 18,
    "start_time": "2024-04-27T07:22:04.094Z"
   },
   {
    "duration": 33,
    "start_time": "2024-04-27T07:22:04.114Z"
   },
   {
    "duration": 9,
    "start_time": "2024-04-27T07:22:04.149Z"
   },
   {
    "duration": 35,
    "start_time": "2024-04-27T07:22:04.160Z"
   },
   {
    "duration": 28,
    "start_time": "2024-04-27T07:22:04.196Z"
   },
   {
    "duration": 20,
    "start_time": "2024-04-27T07:22:04.226Z"
   },
   {
    "duration": 5936,
    "start_time": "2024-04-27T07:22:04.248Z"
   },
   {
    "duration": 6,
    "start_time": "2024-04-27T07:22:10.186Z"
   },
   {
    "duration": 26,
    "start_time": "2024-04-27T07:22:10.194Z"
   },
   {
    "duration": 105,
    "start_time": "2024-04-27T07:22:10.222Z"
   },
   {
    "duration": 5,
    "start_time": "2024-04-27T07:22:10.329Z"
   },
   {
    "duration": 29,
    "start_time": "2024-04-27T07:22:10.336Z"
   },
   {
    "duration": 12,
    "start_time": "2024-04-27T07:22:10.367Z"
   },
   {
    "duration": 23,
    "start_time": "2024-04-27T07:22:10.380Z"
   },
   {
    "duration": 12,
    "start_time": "2024-04-27T07:22:10.405Z"
   },
   {
    "duration": 18,
    "start_time": "2024-04-27T07:22:10.419Z"
   },
   {
    "duration": 410,
    "start_time": "2024-04-27T07:22:10.439Z"
   },
   {
    "duration": 8,
    "start_time": "2024-04-27T07:22:10.853Z"
   },
   {
    "duration": 38,
    "start_time": "2024-04-27T07:22:10.863Z"
   },
   {
    "duration": 15,
    "start_time": "2024-04-27T07:22:10.903Z"
   },
   {
    "duration": 170,
    "start_time": "2024-04-27T07:22:10.920Z"
   },
   {
    "duration": 7,
    "start_time": "2024-04-27T07:22:11.091Z"
   },
   {
    "duration": 37,
    "start_time": "2024-04-27T07:22:11.100Z"
   },
   {
    "duration": 5,
    "start_time": "2024-04-27T07:22:11.138Z"
   },
   {
    "duration": 15,
    "start_time": "2024-04-27T07:22:11.144Z"
   },
   {
    "duration": 838,
    "start_time": "2024-04-27T07:22:11.160Z"
   },
   {
    "duration": 2645,
    "start_time": "2024-04-27T07:22:11.999Z"
   },
   {
    "duration": 5,
    "start_time": "2024-04-27T07:22:14.646Z"
   },
   {
    "duration": 12,
    "start_time": "2024-04-27T07:22:14.652Z"
   },
   {
    "duration": 16,
    "start_time": "2024-04-27T07:22:14.666Z"
   },
   {
    "duration": 8,
    "start_time": "2024-04-27T07:22:14.684Z"
   },
   {
    "duration": 8,
    "start_time": "2024-04-27T07:22:14.693Z"
   },
   {
    "duration": 9,
    "start_time": "2024-04-27T07:22:14.702Z"
   },
   {
    "duration": 25,
    "start_time": "2024-04-27T07:22:14.712Z"
   },
   {
    "duration": 9,
    "start_time": "2024-04-27T07:22:14.739Z"
   },
   {
    "duration": 12,
    "start_time": "2024-04-27T07:22:14.749Z"
   },
   {
    "duration": 6,
    "start_time": "2024-04-27T07:22:14.763Z"
   },
   {
    "duration": 3302,
    "start_time": "2024-04-27T07:22:14.771Z"
   },
   {
    "duration": 28,
    "start_time": "2024-04-27T07:22:18.075Z"
   },
   {
    "duration": 13,
    "start_time": "2024-04-27T07:22:18.105Z"
   },
   {
    "duration": 38,
    "start_time": "2024-04-27T07:22:18.119Z"
   },
   {
    "duration": 7,
    "start_time": "2024-04-27T07:22:18.159Z"
   },
   {
    "duration": 1032,
    "start_time": "2024-04-27T07:22:18.169Z"
   },
   {
    "duration": 999,
    "start_time": "2024-04-27T07:22:19.203Z"
   },
   {
    "duration": 3,
    "start_time": "2024-04-27T07:23:50.659Z"
   },
   {
    "duration": 155,
    "start_time": "2024-04-27T07:23:52.399Z"
   },
   {
    "duration": 5671,
    "start_time": "2024-04-27T07:24:01.840Z"
   },
   {
    "duration": 1916,
    "start_time": "2024-04-27T07:24:07.513Z"
   },
   {
    "duration": 84,
    "start_time": "2024-04-27T07:24:09.431Z"
   },
   {
    "duration": 5,
    "start_time": "2024-04-27T07:24:09.518Z"
   },
   {
    "duration": 100,
    "start_time": "2024-04-27T07:24:09.526Z"
   },
   {
    "duration": 6,
    "start_time": "2024-04-27T07:24:09.628Z"
   },
   {
    "duration": 17,
    "start_time": "2024-04-27T07:24:09.636Z"
   },
   {
    "duration": 59,
    "start_time": "2024-04-27T07:24:09.655Z"
   },
   {
    "duration": 4,
    "start_time": "2024-04-27T07:24:09.716Z"
   },
   {
    "duration": 38,
    "start_time": "2024-04-27T07:24:09.722Z"
   },
   {
    "duration": 4,
    "start_time": "2024-04-27T07:24:09.762Z"
   },
   {
    "duration": 25,
    "start_time": "2024-04-27T07:24:09.770Z"
   },
   {
    "duration": 3,
    "start_time": "2024-04-27T07:24:09.797Z"
   },
   {
    "duration": 7,
    "start_time": "2024-04-27T07:24:09.802Z"
   },
   {
    "duration": 24,
    "start_time": "2024-04-27T07:24:09.810Z"
   },
   {
    "duration": 22,
    "start_time": "2024-04-27T07:24:09.837Z"
   },
   {
    "duration": 5906,
    "start_time": "2024-04-27T07:24:09.861Z"
   },
   {
    "duration": 6,
    "start_time": "2024-04-27T07:24:15.769Z"
   },
   {
    "duration": 12,
    "start_time": "2024-04-27T07:24:15.777Z"
   },
   {
    "duration": 89,
    "start_time": "2024-04-27T07:24:15.792Z"
   },
   {
    "duration": 10,
    "start_time": "2024-04-27T07:24:15.883Z"
   },
   {
    "duration": 32,
    "start_time": "2024-04-27T07:24:15.894Z"
   },
   {
    "duration": 22,
    "start_time": "2024-04-27T07:24:15.927Z"
   },
   {
    "duration": 18,
    "start_time": "2024-04-27T07:24:15.951Z"
   },
   {
    "duration": 12,
    "start_time": "2024-04-27T07:24:15.971Z"
   },
   {
    "duration": 41,
    "start_time": "2024-04-27T07:24:15.985Z"
   },
   {
    "duration": 408,
    "start_time": "2024-04-27T07:24:16.027Z"
   },
   {
    "duration": 7,
    "start_time": "2024-04-27T07:24:16.439Z"
   },
   {
    "duration": 73,
    "start_time": "2024-04-27T07:24:16.448Z"
   },
   {
    "duration": 9,
    "start_time": "2024-04-27T07:24:16.523Z"
   },
   {
    "duration": 178,
    "start_time": "2024-04-27T07:24:16.534Z"
   },
   {
    "duration": 7,
    "start_time": "2024-04-27T07:24:16.714Z"
   },
   {
    "duration": 55,
    "start_time": "2024-04-27T07:24:16.723Z"
   },
   {
    "duration": 29,
    "start_time": "2024-04-27T07:24:16.780Z"
   },
   {
    "duration": 188,
    "start_time": "2024-04-27T07:24:16.811Z"
   },
   {
    "duration": 0,
    "start_time": "2024-04-27T07:24:17.000Z"
   },
   {
    "duration": 0,
    "start_time": "2024-04-27T07:24:17.002Z"
   },
   {
    "duration": 0,
    "start_time": "2024-04-27T07:24:17.002Z"
   },
   {
    "duration": 0,
    "start_time": "2024-04-27T07:24:17.004Z"
   },
   {
    "duration": 0,
    "start_time": "2024-04-27T07:24:17.005Z"
   },
   {
    "duration": 0,
    "start_time": "2024-04-27T07:24:17.006Z"
   },
   {
    "duration": 0,
    "start_time": "2024-04-27T07:24:17.007Z"
   },
   {
    "duration": 0,
    "start_time": "2024-04-27T07:24:17.008Z"
   },
   {
    "duration": 0,
    "start_time": "2024-04-27T07:24:17.009Z"
   },
   {
    "duration": 0,
    "start_time": "2024-04-27T07:24:17.010Z"
   },
   {
    "duration": 0,
    "start_time": "2024-04-27T07:24:17.011Z"
   },
   {
    "duration": 0,
    "start_time": "2024-04-27T07:24:17.012Z"
   },
   {
    "duration": 0,
    "start_time": "2024-04-27T07:24:17.013Z"
   },
   {
    "duration": 0,
    "start_time": "2024-04-27T07:24:17.014Z"
   },
   {
    "duration": 0,
    "start_time": "2024-04-27T07:24:17.015Z"
   },
   {
    "duration": 0,
    "start_time": "2024-04-27T07:24:17.016Z"
   },
   {
    "duration": 0,
    "start_time": "2024-04-27T07:24:17.017Z"
   },
   {
    "duration": 0,
    "start_time": "2024-04-27T07:24:17.018Z"
   },
   {
    "duration": 0,
    "start_time": "2024-04-27T07:24:17.019Z"
   },
   {
    "duration": 0,
    "start_time": "2024-04-27T07:24:17.020Z"
   },
   {
    "duration": 3,
    "start_time": "2024-04-27T07:24:36.512Z"
   },
   {
    "duration": 10,
    "start_time": "2024-04-27T07:24:37.080Z"
   },
   {
    "duration": 4995,
    "start_time": "2024-04-27T07:24:53.617Z"
   },
   {
    "duration": 1931,
    "start_time": "2024-04-27T07:24:58.615Z"
   },
   {
    "duration": 87,
    "start_time": "2024-04-27T07:25:00.547Z"
   },
   {
    "duration": 27,
    "start_time": "2024-04-27T07:25:00.636Z"
   },
   {
    "duration": 94,
    "start_time": "2024-04-27T07:25:00.665Z"
   },
   {
    "duration": 30,
    "start_time": "2024-04-27T07:25:00.761Z"
   },
   {
    "duration": 55,
    "start_time": "2024-04-27T07:25:00.793Z"
   },
   {
    "duration": 107,
    "start_time": "2024-04-27T07:25:00.850Z"
   },
   {
    "duration": 51,
    "start_time": "2024-04-27T07:25:00.959Z"
   },
   {
    "duration": 90,
    "start_time": "2024-04-27T07:25:01.013Z"
   },
   {
    "duration": 277,
    "start_time": "2024-04-27T07:25:01.104Z"
   },
   {
    "duration": 165,
    "start_time": "2024-04-27T07:25:01.383Z"
   },
   {
    "duration": 112,
    "start_time": "2024-04-27T07:25:01.550Z"
   },
   {
    "duration": 26,
    "start_time": "2024-04-27T07:25:01.664Z"
   },
   {
    "duration": 174,
    "start_time": "2024-04-27T07:25:01.692Z"
   },
   {
    "duration": 271,
    "start_time": "2024-04-27T07:25:01.868Z"
   },
   {
    "duration": 7486,
    "start_time": "2024-04-27T07:25:02.140Z"
   },
   {
    "duration": 6,
    "start_time": "2024-04-27T07:25:09.628Z"
   },
   {
    "duration": 16,
    "start_time": "2024-04-27T07:25:09.636Z"
   },
   {
    "duration": 91,
    "start_time": "2024-04-27T07:25:09.653Z"
   },
   {
    "duration": 4,
    "start_time": "2024-04-27T07:25:09.746Z"
   },
   {
    "duration": 40,
    "start_time": "2024-04-27T07:25:09.752Z"
   },
   {
    "duration": 2,
    "start_time": "2024-04-27T07:25:09.794Z"
   },
   {
    "duration": 31,
    "start_time": "2024-04-27T07:25:09.798Z"
   },
   {
    "duration": 11,
    "start_time": "2024-04-27T07:25:09.831Z"
   },
   {
    "duration": 21,
    "start_time": "2024-04-27T07:25:09.844Z"
   },
   {
    "duration": 384,
    "start_time": "2024-04-27T07:25:09.867Z"
   },
   {
    "duration": 7,
    "start_time": "2024-04-27T07:25:10.254Z"
   },
   {
    "duration": 28,
    "start_time": "2024-04-27T07:25:10.263Z"
   },
   {
    "duration": 32,
    "start_time": "2024-04-27T07:25:10.293Z"
   },
   {
    "duration": 194,
    "start_time": "2024-04-27T07:25:10.326Z"
   },
   {
    "duration": 7,
    "start_time": "2024-04-27T07:25:10.522Z"
   },
   {
    "duration": 55,
    "start_time": "2024-04-27T07:25:10.531Z"
   },
   {
    "duration": 19,
    "start_time": "2024-04-27T07:25:10.588Z"
   },
   {
    "duration": 13,
    "start_time": "2024-04-27T07:25:10.609Z"
   },
   {
    "duration": 857,
    "start_time": "2024-04-27T07:25:10.624Z"
   },
   {
    "duration": 3509,
    "start_time": "2024-04-27T07:25:11.483Z"
   },
   {
    "duration": 5,
    "start_time": "2024-04-27T07:25:14.994Z"
   },
   {
    "duration": 48,
    "start_time": "2024-04-27T07:25:15.001Z"
   },
   {
    "duration": 57,
    "start_time": "2024-04-27T07:25:15.052Z"
   },
   {
    "duration": 18,
    "start_time": "2024-04-27T07:25:15.111Z"
   },
   {
    "duration": 25,
    "start_time": "2024-04-27T07:25:15.131Z"
   },
   {
    "duration": 37,
    "start_time": "2024-04-27T07:25:15.158Z"
   },
   {
    "duration": 46,
    "start_time": "2024-04-27T07:25:15.197Z"
   },
   {
    "duration": 51,
    "start_time": "2024-04-27T07:25:15.245Z"
   },
   {
    "duration": 16,
    "start_time": "2024-04-27T07:25:15.298Z"
   },
   {
    "duration": 39,
    "start_time": "2024-04-27T07:25:15.316Z"
   },
   {
    "duration": 3809,
    "start_time": "2024-04-27T07:25:15.357Z"
   },
   {
    "duration": 25,
    "start_time": "2024-04-27T07:25:19.168Z"
   },
   {
    "duration": 53,
    "start_time": "2024-04-27T07:25:19.194Z"
   },
   {
    "duration": 70,
    "start_time": "2024-04-27T07:25:19.249Z"
   },
   {
    "duration": 11,
    "start_time": "2024-04-27T07:25:19.321Z"
   },
   {
    "duration": 928,
    "start_time": "2024-04-27T07:25:19.333Z"
   },
   {
    "duration": 1034,
    "start_time": "2024-04-27T07:25:20.263Z"
   },
   {
    "duration": 5,
    "start_time": "2024-04-27T07:27:36.439Z"
   },
   {
    "duration": 15,
    "start_time": "2024-04-27T07:27:39.917Z"
   },
   {
    "duration": 375,
    "start_time": "2024-04-27T07:27:46.506Z"
   },
   {
    "duration": 398,
    "start_time": "2024-04-27T07:27:52.337Z"
   },
   {
    "duration": 14,
    "start_time": "2024-04-27T07:28:39.725Z"
   },
   {
    "duration": 10,
    "start_time": "2024-04-27T07:28:40.753Z"
   },
   {
    "duration": 6,
    "start_time": "2024-04-27T07:32:06.188Z"
   },
   {
    "duration": 5,
    "start_time": "2024-04-27T07:32:28.898Z"
   },
   {
    "duration": 6,
    "start_time": "2024-04-27T07:33:38.602Z"
   },
   {
    "duration": 5,
    "start_time": "2024-04-27T07:33:42.842Z"
   },
   {
    "duration": 3,
    "start_time": "2024-04-27T07:34:10.371Z"
   },
   {
    "duration": 7,
    "start_time": "2024-04-27T07:34:14.108Z"
   },
   {
    "duration": 6,
    "start_time": "2024-04-27T07:34:58.880Z"
   },
   {
    "duration": 6,
    "start_time": "2024-04-27T07:35:12.588Z"
   },
   {
    "duration": 6,
    "start_time": "2024-04-27T07:35:26.289Z"
   },
   {
    "duration": 6,
    "start_time": "2024-04-27T07:35:39.709Z"
   },
   {
    "duration": 7,
    "start_time": "2024-04-27T07:36:02.112Z"
   },
   {
    "duration": 6,
    "start_time": "2024-04-27T07:36:17.580Z"
   },
   {
    "duration": 135,
    "start_time": "2024-04-27T07:36:47.115Z"
   },
   {
    "duration": 13,
    "start_time": "2024-04-27T07:36:50.940Z"
   },
   {
    "duration": 8,
    "start_time": "2024-04-27T07:36:54.024Z"
   },
   {
    "duration": 6,
    "start_time": "2024-04-27T07:37:33.264Z"
   },
   {
    "duration": 40,
    "start_time": "2024-04-27T07:37:58.507Z"
   },
   {
    "duration": 10,
    "start_time": "2024-04-27T07:38:11.772Z"
   },
   {
    "duration": 6,
    "start_time": "2024-04-27T07:38:45.529Z"
   },
   {
    "duration": 5,
    "start_time": "2024-04-27T07:38:49.859Z"
   },
   {
    "duration": 30,
    "start_time": "2024-04-27T07:39:07.341Z"
   },
   {
    "duration": 14,
    "start_time": "2024-04-27T07:39:25.666Z"
   },
   {
    "duration": 135,
    "start_time": "2024-04-27T07:40:03.505Z"
   },
   {
    "duration": 8,
    "start_time": "2024-04-27T07:40:06.076Z"
   },
   {
    "duration": 32,
    "start_time": "2024-04-27T07:40:06.700Z"
   },
   {
    "duration": 10,
    "start_time": "2024-04-27T07:40:37.609Z"
   },
   {
    "duration": 5,
    "start_time": "2024-04-27T07:42:44.534Z"
   },
   {
    "duration": 8,
    "start_time": "2024-04-27T07:44:50.737Z"
   },
   {
    "duration": 11,
    "start_time": "2024-04-27T07:44:57.652Z"
   },
   {
    "duration": 5,
    "start_time": "2024-04-27T07:45:17.262Z"
   },
   {
    "duration": 2,
    "start_time": "2024-04-27T07:45:17.814Z"
   },
   {
    "duration": 14,
    "start_time": "2024-04-27T07:45:18.169Z"
   },
   {
    "duration": 7,
    "start_time": "2024-04-27T07:45:29.102Z"
   },
   {
    "duration": 10,
    "start_time": "2024-04-27T07:45:33.770Z"
   },
   {
    "duration": 5,
    "start_time": "2024-04-27T07:45:45.141Z"
   },
   {
    "duration": 5,
    "start_time": "2024-04-27T07:45:54.205Z"
   },
   {
    "duration": 5,
    "start_time": "2024-04-27T07:46:07.601Z"
   },
   {
    "duration": 3,
    "start_time": "2024-04-27T07:46:08.386Z"
   },
   {
    "duration": 5,
    "start_time": "2024-04-27T07:46:19.377Z"
   },
   {
    "duration": 6,
    "start_time": "2024-04-27T07:46:19.785Z"
   },
   {
    "duration": 7,
    "start_time": "2024-04-27T07:46:31.187Z"
   },
   {
    "duration": 13,
    "start_time": "2024-04-27T07:46:58.825Z"
   },
   {
    "duration": 10,
    "start_time": "2024-04-27T07:46:59.881Z"
   },
   {
    "duration": 13,
    "start_time": "2024-04-27T07:47:04.089Z"
   },
   {
    "duration": 8,
    "start_time": "2024-04-27T07:47:04.873Z"
   },
   {
    "duration": 23,
    "start_time": "2024-04-27T07:47:06.129Z"
   },
   {
    "duration": 4,
    "start_time": "2024-04-27T07:47:07.033Z"
   },
   {
    "duration": 4,
    "start_time": "2024-04-27T07:47:50.398Z"
   },
   {
    "duration": 4,
    "start_time": "2024-04-27T07:49:22.253Z"
   },
   {
    "duration": 5,
    "start_time": "2024-04-27T07:50:05.161Z"
   },
   {
    "duration": 5,
    "start_time": "2024-04-27T07:50:08.102Z"
   },
   {
    "duration": 4,
    "start_time": "2024-04-27T07:50:39.949Z"
   },
   {
    "duration": 4,
    "start_time": "2024-04-27T07:50:58.325Z"
   },
   {
    "duration": 4,
    "start_time": "2024-04-27T07:51:04.333Z"
   },
   {
    "duration": 5318,
    "start_time": "2024-04-27T07:54:04.207Z"
   },
   {
    "duration": 2834,
    "start_time": "2024-04-27T07:54:09.528Z"
   },
   {
    "duration": 88,
    "start_time": "2024-04-27T07:54:12.363Z"
   },
   {
    "duration": 4,
    "start_time": "2024-04-27T07:54:12.454Z"
   },
   {
    "duration": 88,
    "start_time": "2024-04-27T07:54:12.460Z"
   },
   {
    "duration": 4,
    "start_time": "2024-04-27T07:54:12.550Z"
   },
   {
    "duration": 12,
    "start_time": "2024-04-27T07:54:12.595Z"
   },
   {
    "duration": 50,
    "start_time": "2024-04-27T07:54:12.610Z"
   },
   {
    "duration": 31,
    "start_time": "2024-04-27T07:54:12.661Z"
   },
   {
    "duration": 19,
    "start_time": "2024-04-27T07:54:12.695Z"
   },
   {
    "duration": 3,
    "start_time": "2024-04-27T07:54:12.716Z"
   },
   {
    "duration": 26,
    "start_time": "2024-04-27T07:54:12.721Z"
   },
   {
    "duration": 6,
    "start_time": "2024-04-27T07:54:12.749Z"
   },
   {
    "duration": 9,
    "start_time": "2024-04-27T07:54:12.756Z"
   },
   {
    "duration": 34,
    "start_time": "2024-04-27T07:54:12.766Z"
   },
   {
    "duration": 10,
    "start_time": "2024-04-27T07:54:12.802Z"
   },
   {
    "duration": 6167,
    "start_time": "2024-04-27T07:54:12.813Z"
   },
   {
    "duration": 11,
    "start_time": "2024-04-27T07:54:18.981Z"
   },
   {
    "duration": 15,
    "start_time": "2024-04-27T07:54:18.993Z"
   },
   {
    "duration": 102,
    "start_time": "2024-04-27T07:54:19.010Z"
   },
   {
    "duration": 4,
    "start_time": "2024-04-27T07:54:19.114Z"
   },
   {
    "duration": 11,
    "start_time": "2024-04-27T07:54:19.120Z"
   },
   {
    "duration": 3,
    "start_time": "2024-04-27T07:54:19.133Z"
   },
   {
    "duration": 10,
    "start_time": "2024-04-27T07:54:19.138Z"
   },
   {
    "duration": 33,
    "start_time": "2024-04-27T07:54:19.150Z"
   },
   {
    "duration": 36,
    "start_time": "2024-04-27T07:54:19.185Z"
   },
   {
    "duration": 441,
    "start_time": "2024-04-27T07:54:19.223Z"
   },
   {
    "duration": 6,
    "start_time": "2024-04-27T07:54:19.668Z"
   },
   {
    "duration": 29,
    "start_time": "2024-04-27T07:54:19.676Z"
   },
   {
    "duration": 19,
    "start_time": "2024-04-27T07:54:19.707Z"
   },
   {
    "duration": 197,
    "start_time": "2024-04-27T07:54:19.727Z"
   },
   {
    "duration": 10,
    "start_time": "2024-04-27T07:54:19.926Z"
   },
   {
    "duration": 23,
    "start_time": "2024-04-27T07:54:19.938Z"
   },
   {
    "duration": 56,
    "start_time": "2024-04-27T07:54:19.963Z"
   },
   {
    "duration": 33,
    "start_time": "2024-04-27T07:54:20.021Z"
   },
   {
    "duration": 12,
    "start_time": "2024-04-27T07:54:20.055Z"
   },
   {
    "duration": 48,
    "start_time": "2024-04-27T07:54:20.068Z"
   },
   {
    "duration": 106,
    "start_time": "2024-04-27T07:54:20.117Z"
   },
   {
    "duration": 847,
    "start_time": "2024-04-27T07:54:20.224Z"
   },
   {
    "duration": 2721,
    "start_time": "2024-04-27T07:54:21.073Z"
   },
   {
    "duration": 6,
    "start_time": "2024-04-27T07:54:23.795Z"
   },
   {
    "duration": 28,
    "start_time": "2024-04-27T07:54:23.803Z"
   },
   {
    "duration": 22,
    "start_time": "2024-04-27T07:54:23.833Z"
   },
   {
    "duration": 4,
    "start_time": "2024-04-27T07:54:23.857Z"
   },
   {
    "duration": 6,
    "start_time": "2024-04-27T07:54:23.863Z"
   },
   {
    "duration": 14,
    "start_time": "2024-04-27T07:54:23.870Z"
   },
   {
    "duration": 7,
    "start_time": "2024-04-27T07:54:23.886Z"
   },
   {
    "duration": 6,
    "start_time": "2024-04-27T07:54:23.895Z"
   },
   {
    "duration": 13,
    "start_time": "2024-04-27T07:54:23.903Z"
   },
   {
    "duration": 24,
    "start_time": "2024-04-27T07:54:23.918Z"
   },
   {
    "duration": 3414,
    "start_time": "2024-04-27T07:54:23.944Z"
   },
   {
    "duration": 13,
    "start_time": "2024-04-27T07:54:27.359Z"
   },
   {
    "duration": 19,
    "start_time": "2024-04-27T07:54:27.373Z"
   },
   {
    "duration": 20,
    "start_time": "2024-04-27T07:54:27.395Z"
   },
   {
    "duration": 7,
    "start_time": "2024-04-27T07:54:27.416Z"
   },
   {
    "duration": 962,
    "start_time": "2024-04-27T07:54:27.425Z"
   },
   {
    "duration": 1003,
    "start_time": "2024-04-27T07:54:28.389Z"
   },
   {
    "duration": 11,
    "start_time": "2024-04-27T07:55:31.003Z"
   },
   {
    "duration": 13,
    "start_time": "2024-04-27T07:55:44.975Z"
   },
   {
    "duration": 10,
    "start_time": "2024-04-27T07:55:45.255Z"
   },
   {
    "duration": 22,
    "start_time": "2024-04-27T07:55:52.486Z"
   },
   {
    "duration": 5,
    "start_time": "2024-04-27T07:55:53.648Z"
   },
   {
    "duration": 5,
    "start_time": "2024-04-27T07:56:02.431Z"
   },
   {
    "duration": 2,
    "start_time": "2024-04-27T08:01:37.076Z"
   },
   {
    "duration": 3,
    "start_time": "2024-04-27T08:03:54.316Z"
   },
   {
    "duration": 134,
    "start_time": "2024-04-27T08:13:59.549Z"
   },
   {
    "duration": 117,
    "start_time": "2024-04-27T08:14:10.056Z"
   },
   {
    "duration": 78,
    "start_time": "2024-04-27T08:14:41.133Z"
   },
   {
    "duration": 2,
    "start_time": "2024-04-27T08:15:10.869Z"
   },
   {
    "duration": 4,
    "start_time": "2024-04-27T08:15:14.897Z"
   },
   {
    "duration": 5192,
    "start_time": "2024-04-27T08:15:24.717Z"
   },
   {
    "duration": 1992,
    "start_time": "2024-04-27T08:15:29.911Z"
   },
   {
    "duration": 90,
    "start_time": "2024-04-27T08:15:31.905Z"
   },
   {
    "duration": 69,
    "start_time": "2024-04-27T08:15:31.997Z"
   },
   {
    "duration": 108,
    "start_time": "2024-04-27T08:15:32.067Z"
   },
   {
    "duration": 17,
    "start_time": "2024-04-27T08:15:32.177Z"
   },
   {
    "duration": 23,
    "start_time": "2024-04-27T08:15:32.195Z"
   },
   {
    "duration": 39,
    "start_time": "2024-04-27T08:15:32.219Z"
   },
   {
    "duration": 4,
    "start_time": "2024-04-27T08:15:32.259Z"
   },
   {
    "duration": 75,
    "start_time": "2024-04-27T08:15:32.266Z"
   },
   {
    "duration": 49,
    "start_time": "2024-04-27T08:15:32.342Z"
   },
   {
    "duration": 59,
    "start_time": "2024-04-27T08:15:32.392Z"
   },
   {
    "duration": 25,
    "start_time": "2024-04-27T08:15:32.453Z"
   },
   {
    "duration": 22,
    "start_time": "2024-04-27T08:15:32.480Z"
   },
   {
    "duration": 74,
    "start_time": "2024-04-27T08:15:32.504Z"
   },
   {
    "duration": 11,
    "start_time": "2024-04-27T08:15:32.580Z"
   },
   {
    "duration": 6853,
    "start_time": "2024-04-27T08:15:32.593Z"
   },
   {
    "duration": 7,
    "start_time": "2024-04-27T08:15:39.447Z"
   },
   {
    "duration": 18,
    "start_time": "2024-04-27T08:15:39.455Z"
   },
   {
    "duration": 101,
    "start_time": "2024-04-27T08:15:39.475Z"
   },
   {
    "duration": 17,
    "start_time": "2024-04-27T08:15:39.577Z"
   },
   {
    "duration": 15,
    "start_time": "2024-04-27T08:15:39.595Z"
   },
   {
    "duration": 8,
    "start_time": "2024-04-27T08:15:39.612Z"
   },
   {
    "duration": 48,
    "start_time": "2024-04-27T08:15:39.621Z"
   },
   {
    "duration": 410,
    "start_time": "2024-04-27T08:15:39.672Z"
   },
   {
    "duration": 14,
    "start_time": "2024-04-27T08:15:40.084Z"
   },
   {
    "duration": 37,
    "start_time": "2024-04-27T08:15:40.100Z"
   },
   {
    "duration": 12,
    "start_time": "2024-04-27T08:15:40.140Z"
   },
   {
    "duration": 15,
    "start_time": "2024-04-27T08:15:40.153Z"
   },
   {
    "duration": 10,
    "start_time": "2024-04-27T08:15:40.169Z"
   },
   {
    "duration": 163,
    "start_time": "2024-04-27T08:15:40.181Z"
   },
   {
    "duration": 18,
    "start_time": "2024-04-27T08:15:40.345Z"
   },
   {
    "duration": 47,
    "start_time": "2024-04-27T08:15:40.365Z"
   },
   {
    "duration": 5,
    "start_time": "2024-04-27T08:15:40.413Z"
   },
   {
    "duration": 8,
    "start_time": "2024-04-27T08:15:40.420Z"
   },
   {
    "duration": 20,
    "start_time": "2024-04-27T08:15:40.429Z"
   },
   {
    "duration": 845,
    "start_time": "2024-04-27T08:15:40.451Z"
   },
   {
    "duration": 2606,
    "start_time": "2024-04-27T08:15:41.297Z"
   },
   {
    "duration": 5,
    "start_time": "2024-04-27T08:15:43.904Z"
   },
   {
    "duration": 31,
    "start_time": "2024-04-27T08:15:43.910Z"
   },
   {
    "duration": 25,
    "start_time": "2024-04-27T08:15:43.943Z"
   },
   {
    "duration": 6,
    "start_time": "2024-04-27T08:15:43.970Z"
   },
   {
    "duration": 19,
    "start_time": "2024-04-27T08:15:43.978Z"
   },
   {
    "duration": 31,
    "start_time": "2024-04-27T08:15:44.000Z"
   },
   {
    "duration": 13,
    "start_time": "2024-04-27T08:15:44.033Z"
   },
   {
    "duration": 17,
    "start_time": "2024-04-27T08:15:44.047Z"
   },
   {
    "duration": 13,
    "start_time": "2024-04-27T08:15:44.066Z"
   },
   {
    "duration": 7,
    "start_time": "2024-04-27T08:15:44.081Z"
   },
   {
    "duration": 10,
    "start_time": "2024-04-27T08:15:44.089Z"
   },
   {
    "duration": 3349,
    "start_time": "2024-04-27T08:15:44.101Z"
   },
   {
    "duration": 3,
    "start_time": "2024-04-27T08:15:47.451Z"
   },
   {
    "duration": 33,
    "start_time": "2024-04-27T08:15:47.455Z"
   },
   {
    "duration": 4,
    "start_time": "2024-04-27T08:15:47.490Z"
   },
   {
    "duration": 16,
    "start_time": "2024-04-27T08:15:47.495Z"
   },
   {
    "duration": 6,
    "start_time": "2024-04-27T08:15:47.513Z"
   },
   {
    "duration": 952,
    "start_time": "2024-04-27T08:15:47.520Z"
   },
   {
    "duration": 0,
    "start_time": "2024-04-27T08:15:48.473Z"
   },
   {
    "duration": 6611,
    "start_time": "2024-04-27T08:17:36.716Z"
   },
   {
    "duration": 1913,
    "start_time": "2024-04-27T08:17:43.330Z"
   },
   {
    "duration": 85,
    "start_time": "2024-04-27T08:17:45.245Z"
   },
   {
    "duration": 3,
    "start_time": "2024-04-27T08:17:45.332Z"
   },
   {
    "duration": 100,
    "start_time": "2024-04-27T08:17:45.337Z"
   },
   {
    "duration": 31,
    "start_time": "2024-04-27T08:17:45.438Z"
   },
   {
    "duration": 77,
    "start_time": "2024-04-27T08:17:45.471Z"
   },
   {
    "duration": 41,
    "start_time": "2024-04-27T08:17:45.549Z"
   },
   {
    "duration": 4,
    "start_time": "2024-04-27T08:17:45.592Z"
   },
   {
    "duration": 21,
    "start_time": "2024-04-27T08:17:45.598Z"
   },
   {
    "duration": 15,
    "start_time": "2024-04-27T08:17:45.620Z"
   },
   {
    "duration": 41,
    "start_time": "2024-04-27T08:17:45.636Z"
   },
   {
    "duration": 24,
    "start_time": "2024-04-27T08:17:45.678Z"
   },
   {
    "duration": 33,
    "start_time": "2024-04-27T08:17:45.703Z"
   },
   {
    "duration": 30,
    "start_time": "2024-04-27T08:17:45.737Z"
   },
   {
    "duration": 10,
    "start_time": "2024-04-27T08:17:45.768Z"
   },
   {
    "duration": 6139,
    "start_time": "2024-04-27T08:17:45.779Z"
   },
   {
    "duration": 6,
    "start_time": "2024-04-27T08:17:51.920Z"
   },
   {
    "duration": 10,
    "start_time": "2024-04-27T08:17:51.927Z"
   },
   {
    "duration": 123,
    "start_time": "2024-04-27T08:17:51.939Z"
   },
   {
    "duration": 5,
    "start_time": "2024-04-27T08:17:52.064Z"
   },
   {
    "duration": 11,
    "start_time": "2024-04-27T08:17:52.092Z"
   },
   {
    "duration": 42,
    "start_time": "2024-04-27T08:17:52.104Z"
   },
   {
    "duration": 53,
    "start_time": "2024-04-27T08:17:52.149Z"
   },
   {
    "duration": 386,
    "start_time": "2024-04-27T08:17:52.205Z"
   },
   {
    "duration": 6,
    "start_time": "2024-04-27T08:17:52.593Z"
   },
   {
    "duration": 15,
    "start_time": "2024-04-27T08:17:52.601Z"
   },
   {
    "duration": 12,
    "start_time": "2024-04-27T08:17:52.619Z"
   },
   {
    "duration": 34,
    "start_time": "2024-04-27T08:17:52.633Z"
   },
   {
    "duration": 10,
    "start_time": "2024-04-27T08:17:52.669Z"
   },
   {
    "duration": 171,
    "start_time": "2024-04-27T08:17:52.681Z"
   },
   {
    "duration": 11,
    "start_time": "2024-04-27T08:17:52.854Z"
   },
   {
    "duration": 23,
    "start_time": "2024-04-27T08:17:52.867Z"
   },
   {
    "duration": 4,
    "start_time": "2024-04-27T08:17:52.892Z"
   },
   {
    "duration": 13,
    "start_time": "2024-04-27T08:17:52.897Z"
   },
   {
    "duration": 16,
    "start_time": "2024-04-27T08:17:52.911Z"
   },
   {
    "duration": 836,
    "start_time": "2024-04-27T08:17:52.928Z"
   },
   {
    "duration": 2635,
    "start_time": "2024-04-27T08:17:53.766Z"
   },
   {
    "duration": 5,
    "start_time": "2024-04-27T08:17:56.403Z"
   },
   {
    "duration": 33,
    "start_time": "2024-04-27T08:17:56.410Z"
   },
   {
    "duration": 34,
    "start_time": "2024-04-27T08:17:56.445Z"
   },
   {
    "duration": 17,
    "start_time": "2024-04-27T08:17:56.481Z"
   },
   {
    "duration": 14,
    "start_time": "2024-04-27T08:17:56.500Z"
   },
   {
    "duration": 10,
    "start_time": "2024-04-27T08:17:56.516Z"
   },
   {
    "duration": 19,
    "start_time": "2024-04-27T08:17:56.527Z"
   },
   {
    "duration": 8,
    "start_time": "2024-04-27T08:17:56.548Z"
   },
   {
    "duration": 14,
    "start_time": "2024-04-27T08:17:56.557Z"
   },
   {
    "duration": 7,
    "start_time": "2024-04-27T08:17:56.572Z"
   },
   {
    "duration": 3286,
    "start_time": "2024-04-27T08:17:56.581Z"
   },
   {
    "duration": 3,
    "start_time": "2024-04-27T08:17:59.869Z"
   },
   {
    "duration": 21,
    "start_time": "2024-04-27T08:17:59.891Z"
   },
   {
    "duration": 18,
    "start_time": "2024-04-27T08:17:59.914Z"
   },
   {
    "duration": 23,
    "start_time": "2024-04-27T08:17:59.934Z"
   },
   {
    "duration": 11,
    "start_time": "2024-04-27T08:17:59.958Z"
   },
   {
    "duration": 986,
    "start_time": "2024-04-27T08:17:59.971Z"
   },
   {
    "duration": 935,
    "start_time": "2024-04-27T08:18:00.959Z"
   },
   {
    "duration": 130,
    "start_time": "2024-04-27T08:19:06.537Z"
   },
   {
    "duration": 863,
    "start_time": "2024-04-27T08:19:38.604Z"
   },
   {
    "duration": 1103,
    "start_time": "2024-04-27T08:19:48.968Z"
   },
   {
    "duration": 953,
    "start_time": "2024-04-27T08:20:00.524Z"
   },
   {
    "duration": 6,
    "start_time": "2024-04-27T08:22:14.765Z"
   },
   {
    "duration": 6,
    "start_time": "2024-04-27T08:22:15.432Z"
   },
   {
    "duration": 6,
    "start_time": "2024-04-27T08:22:18.873Z"
   },
   {
    "duration": 3429,
    "start_time": "2024-04-27T08:22:21.836Z"
   },
   {
    "duration": 6,
    "start_time": "2024-04-27T08:22:49.213Z"
   },
   {
    "duration": 2872,
    "start_time": "2024-04-27T08:22:54.396Z"
   },
   {
    "duration": 7,
    "start_time": "2024-04-27T08:23:23.037Z"
   },
   {
    "duration": 5976,
    "start_time": "2024-04-27T08:23:25.077Z"
   },
   {
    "duration": 8,
    "start_time": "2024-04-27T08:23:47.701Z"
   },
   {
    "duration": 3443,
    "start_time": "2024-04-27T08:23:48.421Z"
   },
   {
    "duration": 3,
    "start_time": "2024-04-27T08:23:51.866Z"
   },
   {
    "duration": 7,
    "start_time": "2024-04-27T08:24:04.074Z"
   },
   {
    "duration": 2637,
    "start_time": "2024-04-27T08:24:05.105Z"
   },
   {
    "duration": 6,
    "start_time": "2024-04-27T08:24:24.577Z"
   },
   {
    "duration": 1506,
    "start_time": "2024-04-27T08:24:25.536Z"
   },
   {
    "duration": 6,
    "start_time": "2024-04-27T08:24:41.241Z"
   },
   {
    "duration": 3512,
    "start_time": "2024-04-27T08:24:42.137Z"
   },
   {
    "duration": 24,
    "start_time": "2024-04-27T08:25:18.090Z"
   },
   {
    "duration": 5,
    "start_time": "2024-04-27T08:31:18.289Z"
   },
   {
    "duration": 202,
    "start_time": "2024-04-27T08:42:04.471Z"
   },
   {
    "duration": 201,
    "start_time": "2024-04-27T08:43:03.010Z"
   },
   {
    "duration": 194,
    "start_time": "2024-04-27T08:43:38.966Z"
   },
   {
    "duration": 197,
    "start_time": "2024-04-27T08:44:04.627Z"
   },
   {
    "duration": 210,
    "start_time": "2024-04-27T08:44:46.930Z"
   },
   {
    "duration": 227,
    "start_time": "2024-04-27T08:44:55.617Z"
   },
   {
    "duration": 198,
    "start_time": "2024-04-27T08:45:08.446Z"
   },
   {
    "duration": 231,
    "start_time": "2024-04-27T08:45:29.487Z"
   },
   {
    "duration": 164,
    "start_time": "2024-04-27T08:45:50.751Z"
   },
   {
    "duration": 224,
    "start_time": "2024-04-27T08:45:57.874Z"
   },
   {
    "duration": 353,
    "start_time": "2024-04-27T08:46:21.291Z"
   },
   {
    "duration": 199,
    "start_time": "2024-04-27T08:46:54.135Z"
   },
   {
    "duration": 205,
    "start_time": "2024-04-27T08:47:30.376Z"
   },
   {
    "duration": 234,
    "start_time": "2024-04-27T08:48:08.946Z"
   },
   {
    "duration": 176,
    "start_time": "2024-04-27T08:48:20.298Z"
   },
   {
    "duration": 179,
    "start_time": "2024-04-27T08:48:29.966Z"
   },
   {
    "duration": 177,
    "start_time": "2024-04-27T08:48:46.690Z"
   },
   {
    "duration": 171,
    "start_time": "2024-04-27T08:48:57.859Z"
   },
   {
    "duration": 172,
    "start_time": "2024-04-27T08:49:03.219Z"
   },
   {
    "duration": 172,
    "start_time": "2024-04-27T08:49:07.706Z"
   },
   {
    "duration": 24,
    "start_time": "2024-04-27T08:49:12.463Z"
   },
   {
    "duration": 183,
    "start_time": "2024-04-27T08:49:20.482Z"
   },
   {
    "duration": 14,
    "start_time": "2024-04-27T08:49:32.311Z"
   },
   {
    "duration": 4,
    "start_time": "2024-04-27T08:49:40.334Z"
   },
   {
    "duration": 153,
    "start_time": "2024-04-27T08:49:46.624Z"
   },
   {
    "duration": 154,
    "start_time": "2024-04-27T08:50:28.467Z"
   },
   {
    "duration": 156,
    "start_time": "2024-04-27T08:51:22.439Z"
   },
   {
    "duration": 17,
    "start_time": "2024-04-27T08:52:58.351Z"
   },
   {
    "duration": 20,
    "start_time": "2024-04-27T08:53:08.760Z"
   },
   {
    "duration": 5,
    "start_time": "2024-04-27T08:54:47.015Z"
   },
   {
    "duration": 1098,
    "start_time": "2024-04-27T08:54:47.795Z"
   },
   {
    "duration": 5,
    "start_time": "2024-04-27T08:55:03.192Z"
   },
   {
    "duration": 1521,
    "start_time": "2024-04-27T08:55:03.767Z"
   },
   {
    "duration": 4,
    "start_time": "2024-04-27T08:55:19.236Z"
   },
   {
    "duration": 3281,
    "start_time": "2024-04-27T08:55:31.064Z"
   },
   {
    "duration": 6782,
    "start_time": "2024-04-27T08:56:04.981Z"
   },
   {
    "duration": 1986,
    "start_time": "2024-04-27T08:56:11.765Z"
   },
   {
    "duration": 83,
    "start_time": "2024-04-27T08:56:13.754Z"
   },
   {
    "duration": 3,
    "start_time": "2024-04-27T08:56:13.840Z"
   },
   {
    "duration": 94,
    "start_time": "2024-04-27T08:56:13.845Z"
   },
   {
    "duration": 5,
    "start_time": "2024-04-27T08:56:13.940Z"
   },
   {
    "duration": 11,
    "start_time": "2024-04-27T08:56:13.946Z"
   },
   {
    "duration": 63,
    "start_time": "2024-04-27T08:56:13.958Z"
   },
   {
    "duration": 5,
    "start_time": "2024-04-27T08:56:14.023Z"
   },
   {
    "duration": 111,
    "start_time": "2024-04-27T08:56:14.030Z"
   },
   {
    "duration": 34,
    "start_time": "2024-04-27T08:56:14.143Z"
   },
   {
    "duration": 28,
    "start_time": "2024-04-27T08:56:14.179Z"
   },
   {
    "duration": 5,
    "start_time": "2024-04-27T08:56:14.209Z"
   },
   {
    "duration": 7,
    "start_time": "2024-04-27T08:56:14.216Z"
   },
   {
    "duration": 33,
    "start_time": "2024-04-27T08:56:14.224Z"
   },
   {
    "duration": 10,
    "start_time": "2024-04-27T08:56:14.258Z"
   },
   {
    "duration": 6001,
    "start_time": "2024-04-27T08:56:14.270Z"
   },
   {
    "duration": 7,
    "start_time": "2024-04-27T08:56:20.273Z"
   },
   {
    "duration": 28,
    "start_time": "2024-04-27T08:56:20.291Z"
   },
   {
    "duration": 110,
    "start_time": "2024-04-27T08:56:20.321Z"
   },
   {
    "duration": 4,
    "start_time": "2024-04-27T08:56:20.433Z"
   },
   {
    "duration": 30,
    "start_time": "2024-04-27T08:56:20.438Z"
   },
   {
    "duration": 14,
    "start_time": "2024-04-27T08:56:20.470Z"
   },
   {
    "duration": 21,
    "start_time": "2024-04-27T08:56:20.485Z"
   },
   {
    "duration": 409,
    "start_time": "2024-04-27T08:56:20.508Z"
   },
   {
    "duration": 7,
    "start_time": "2024-04-27T08:56:20.919Z"
   },
   {
    "duration": 45,
    "start_time": "2024-04-27T08:56:20.928Z"
   },
   {
    "duration": 10,
    "start_time": "2024-04-27T08:56:20.978Z"
   },
   {
    "duration": 24,
    "start_time": "2024-04-27T08:56:20.989Z"
   },
   {
    "duration": 21,
    "start_time": "2024-04-27T08:56:21.015Z"
   },
   {
    "duration": 166,
    "start_time": "2024-04-27T08:56:21.037Z"
   },
   {
    "duration": 8,
    "start_time": "2024-04-27T08:56:21.204Z"
   },
   {
    "duration": 26,
    "start_time": "2024-04-27T08:56:21.215Z"
   },
   {
    "duration": 6,
    "start_time": "2024-04-27T08:56:21.243Z"
   },
   {
    "duration": 18,
    "start_time": "2024-04-27T08:56:21.251Z"
   },
   {
    "duration": 21,
    "start_time": "2024-04-27T08:56:21.270Z"
   },
   {
    "duration": 885,
    "start_time": "2024-04-27T08:56:21.293Z"
   },
   {
    "duration": 2785,
    "start_time": "2024-04-27T08:56:22.179Z"
   },
   {
    "duration": 5,
    "start_time": "2024-04-27T08:56:24.966Z"
   },
   {
    "duration": 41,
    "start_time": "2024-04-27T08:56:24.973Z"
   },
   {
    "duration": 48,
    "start_time": "2024-04-27T08:56:25.015Z"
   },
   {
    "duration": 27,
    "start_time": "2024-04-27T08:56:25.065Z"
   },
   {
    "duration": 26,
    "start_time": "2024-04-27T08:56:25.094Z"
   },
   {
    "duration": 45,
    "start_time": "2024-04-27T08:56:25.121Z"
   },
   {
    "duration": 119,
    "start_time": "2024-04-27T08:56:25.168Z"
   },
   {
    "duration": 60,
    "start_time": "2024-04-27T08:56:25.288Z"
   },
   {
    "duration": 64,
    "start_time": "2024-04-27T08:56:25.350Z"
   },
   {
    "duration": 27,
    "start_time": "2024-04-27T08:56:25.416Z"
   },
   {
    "duration": 3303,
    "start_time": "2024-04-27T08:56:25.445Z"
   },
   {
    "duration": 24,
    "start_time": "2024-04-27T08:56:28.750Z"
   },
   {
    "duration": 37,
    "start_time": "2024-04-27T08:56:28.792Z"
   },
   {
    "duration": 43,
    "start_time": "2024-04-27T08:56:28.830Z"
   },
   {
    "duration": 55,
    "start_time": "2024-04-27T08:56:28.875Z"
   },
   {
    "duration": 54,
    "start_time": "2024-04-27T08:56:28.932Z"
   },
   {
    "duration": 1089,
    "start_time": "2024-04-27T08:56:28.988Z"
   },
   {
    "duration": 309,
    "start_time": "2024-04-27T08:56:30.079Z"
   },
   {
    "duration": 188,
    "start_time": "2024-04-27T08:57:37.521Z"
   },
   {
    "duration": 208,
    "start_time": "2024-04-27T08:57:45.553Z"
   },
   {
    "duration": 3,
    "start_time": "2024-04-27T08:59:02.370Z"
   },
   {
    "duration": 2964,
    "start_time": "2024-04-27T08:59:17.406Z"
   },
   {
    "duration": 3,
    "start_time": "2024-04-27T08:59:23.686Z"
   },
   {
    "duration": 5275,
    "start_time": "2024-04-27T09:00:40.458Z"
   },
   {
    "duration": 3,
    "start_time": "2024-04-27T09:00:52.863Z"
   },
   {
    "duration": 8199,
    "start_time": "2024-04-27T09:01:23.904Z"
   },
   {
    "duration": 1913,
    "start_time": "2024-04-27T09:01:32.105Z"
   },
   {
    "duration": 84,
    "start_time": "2024-04-27T09:01:34.020Z"
   },
   {
    "duration": 6,
    "start_time": "2024-04-27T09:01:34.106Z"
   },
   {
    "duration": 86,
    "start_time": "2024-04-27T09:01:34.114Z"
   },
   {
    "duration": 3,
    "start_time": "2024-04-27T09:01:34.202Z"
   },
   {
    "duration": 11,
    "start_time": "2024-04-27T09:01:34.207Z"
   },
   {
    "duration": 33,
    "start_time": "2024-04-27T09:01:34.219Z"
   },
   {
    "duration": 36,
    "start_time": "2024-04-27T09:01:34.254Z"
   },
   {
    "duration": 25,
    "start_time": "2024-04-27T09:01:34.293Z"
   },
   {
    "duration": 3,
    "start_time": "2024-04-27T09:01:34.320Z"
   },
   {
    "duration": 6,
    "start_time": "2024-04-27T09:01:34.325Z"
   },
   {
    "duration": 17,
    "start_time": "2024-04-27T09:01:34.333Z"
   },
   {
    "duration": 13,
    "start_time": "2024-04-27T09:01:34.352Z"
   },
   {
    "duration": 17,
    "start_time": "2024-04-27T09:01:34.367Z"
   },
   {
    "duration": 9,
    "start_time": "2024-04-27T09:01:34.386Z"
   },
   {
    "duration": 6077,
    "start_time": "2024-04-27T09:01:34.397Z"
   },
   {
    "duration": 6,
    "start_time": "2024-04-27T09:01:40.476Z"
   },
   {
    "duration": 34,
    "start_time": "2024-04-27T09:01:40.491Z"
   },
   {
    "duration": 125,
    "start_time": "2024-04-27T09:01:40.527Z"
   },
   {
    "duration": 4,
    "start_time": "2024-04-27T09:01:40.654Z"
   },
   {
    "duration": 35,
    "start_time": "2024-04-27T09:01:40.659Z"
   },
   {
    "duration": 33,
    "start_time": "2024-04-27T09:01:40.696Z"
   },
   {
    "duration": 24,
    "start_time": "2024-04-27T09:01:40.731Z"
   },
   {
    "duration": 393,
    "start_time": "2024-04-27T09:01:40.757Z"
   },
   {
    "duration": 7,
    "start_time": "2024-04-27T09:01:41.152Z"
   },
   {
    "duration": 22,
    "start_time": "2024-04-27T09:01:41.160Z"
   },
   {
    "duration": 16,
    "start_time": "2024-04-27T09:01:41.191Z"
   },
   {
    "duration": 178,
    "start_time": "2024-04-27T09:01:41.209Z"
   },
   {
    "duration": 9,
    "start_time": "2024-04-27T09:01:41.389Z"
   },
   {
    "duration": 52,
    "start_time": "2024-04-27T09:01:41.400Z"
   },
   {
    "duration": 19,
    "start_time": "2024-04-27T09:01:41.454Z"
   },
   {
    "duration": 44,
    "start_time": "2024-04-27T09:01:41.475Z"
   },
   {
    "duration": 12,
    "start_time": "2024-04-27T09:01:41.520Z"
   },
   {
    "duration": 19,
    "start_time": "2024-04-27T09:01:41.534Z"
   },
   {
    "duration": 37,
    "start_time": "2024-04-27T09:01:41.555Z"
   },
   {
    "duration": 856,
    "start_time": "2024-04-27T09:01:41.594Z"
   },
   {
    "duration": 2694,
    "start_time": "2024-04-27T09:01:42.451Z"
   },
   {
    "duration": 5,
    "start_time": "2024-04-27T09:01:45.147Z"
   },
   {
    "duration": 10,
    "start_time": "2024-04-27T09:01:45.153Z"
   },
   {
    "duration": 47,
    "start_time": "2024-04-27T09:01:45.165Z"
   },
   {
    "duration": 72,
    "start_time": "2024-04-27T09:01:45.214Z"
   },
   {
    "duration": 61,
    "start_time": "2024-04-27T09:01:45.288Z"
   },
   {
    "duration": 36,
    "start_time": "2024-04-27T09:01:45.351Z"
   },
   {
    "duration": 34,
    "start_time": "2024-04-27T09:01:45.389Z"
   },
   {
    "duration": 7,
    "start_time": "2024-04-27T09:01:45.425Z"
   },
   {
    "duration": 60,
    "start_time": "2024-04-27T09:01:45.434Z"
   },
   {
    "duration": 48,
    "start_time": "2024-04-27T09:01:45.496Z"
   },
   {
    "duration": 3309,
    "start_time": "2024-04-27T09:01:45.545Z"
   },
   {
    "duration": 12,
    "start_time": "2024-04-27T09:01:48.856Z"
   },
   {
    "duration": 29,
    "start_time": "2024-04-27T09:01:48.870Z"
   },
   {
    "duration": 25,
    "start_time": "2024-04-27T09:01:48.901Z"
   },
   {
    "duration": 5,
    "start_time": "2024-04-27T09:01:48.928Z"
   },
   {
    "duration": 926,
    "start_time": "2024-04-27T09:01:48.935Z"
   },
   {
    "duration": 3,
    "start_time": "2024-04-27T09:01:49.863Z"
   },
   {
    "duration": 368,
    "start_time": "2024-04-27T09:01:49.867Z"
   },
   {
    "duration": 0,
    "start_time": "2024-04-27T09:01:50.236Z"
   },
   {
    "duration": 0,
    "start_time": "2024-04-27T09:01:50.238Z"
   },
   {
    "duration": 5921,
    "start_time": "2024-04-27T09:02:30.257Z"
   },
   {
    "duration": 2641,
    "start_time": "2024-04-27T09:02:36.180Z"
   },
   {
    "duration": 123,
    "start_time": "2024-04-27T09:02:38.823Z"
   },
   {
    "duration": 4,
    "start_time": "2024-04-27T09:02:38.948Z"
   },
   {
    "duration": 158,
    "start_time": "2024-04-27T09:02:38.953Z"
   },
   {
    "duration": 4,
    "start_time": "2024-04-27T09:02:39.112Z"
   },
   {
    "duration": 13,
    "start_time": "2024-04-27T09:02:39.117Z"
   },
   {
    "duration": 88,
    "start_time": "2024-04-27T09:02:39.131Z"
   },
   {
    "duration": 19,
    "start_time": "2024-04-27T09:02:39.221Z"
   },
   {
    "duration": 14,
    "start_time": "2024-04-27T09:02:39.291Z"
   },
   {
    "duration": 16,
    "start_time": "2024-04-27T09:02:39.306Z"
   },
   {
    "duration": 9,
    "start_time": "2024-04-27T09:02:39.324Z"
   },
   {
    "duration": 10,
    "start_time": "2024-04-27T09:02:39.335Z"
   },
   {
    "duration": 50,
    "start_time": "2024-04-27T09:02:39.347Z"
   },
   {
    "duration": 31,
    "start_time": "2024-04-27T09:02:39.399Z"
   },
   {
    "duration": 9,
    "start_time": "2024-04-27T09:02:39.432Z"
   },
   {
    "duration": 6401,
    "start_time": "2024-04-27T09:02:39.491Z"
   },
   {
    "duration": 6,
    "start_time": "2024-04-27T09:02:45.894Z"
   },
   {
    "duration": 28,
    "start_time": "2024-04-27T09:02:45.902Z"
   },
   {
    "duration": 123,
    "start_time": "2024-04-27T09:02:45.932Z"
   },
   {
    "duration": 4,
    "start_time": "2024-04-27T09:02:46.057Z"
   },
   {
    "duration": 31,
    "start_time": "2024-04-27T09:02:46.063Z"
   },
   {
    "duration": 29,
    "start_time": "2024-04-27T09:02:46.096Z"
   },
   {
    "duration": 58,
    "start_time": "2024-04-27T09:02:46.127Z"
   },
   {
    "duration": 452,
    "start_time": "2024-04-27T09:02:46.186Z"
   },
   {
    "duration": 6,
    "start_time": "2024-04-27T09:02:46.640Z"
   },
   {
    "duration": 80,
    "start_time": "2024-04-27T09:02:46.647Z"
   },
   {
    "duration": 43,
    "start_time": "2024-04-27T09:02:46.730Z"
   },
   {
    "duration": 216,
    "start_time": "2024-04-27T09:02:46.775Z"
   },
   {
    "duration": 10,
    "start_time": "2024-04-27T09:02:46.993Z"
   },
   {
    "duration": 130,
    "start_time": "2024-04-27T09:02:47.004Z"
   },
   {
    "duration": 25,
    "start_time": "2024-04-27T09:02:47.136Z"
   },
   {
    "duration": 67,
    "start_time": "2024-04-27T09:02:47.163Z"
   },
   {
    "duration": 44,
    "start_time": "2024-04-27T09:02:47.232Z"
   },
   {
    "duration": 11,
    "start_time": "2024-04-27T09:02:47.278Z"
   },
   {
    "duration": 12,
    "start_time": "2024-04-27T09:02:47.291Z"
   },
   {
    "duration": 853,
    "start_time": "2024-04-27T09:02:47.305Z"
   },
   {
    "duration": 2608,
    "start_time": "2024-04-27T09:02:48.160Z"
   },
   {
    "duration": 5,
    "start_time": "2024-04-27T09:02:50.770Z"
   },
   {
    "duration": 34,
    "start_time": "2024-04-27T09:02:50.776Z"
   },
   {
    "duration": 22,
    "start_time": "2024-04-27T09:02:50.812Z"
   },
   {
    "duration": 18,
    "start_time": "2024-04-27T09:02:50.836Z"
   },
   {
    "duration": 23,
    "start_time": "2024-04-27T09:02:50.856Z"
   },
   {
    "duration": 41,
    "start_time": "2024-04-27T09:02:50.881Z"
   },
   {
    "duration": 75,
    "start_time": "2024-04-27T09:02:50.924Z"
   },
   {
    "duration": 38,
    "start_time": "2024-04-27T09:02:51.001Z"
   },
   {
    "duration": 21,
    "start_time": "2024-04-27T09:02:51.040Z"
   },
   {
    "duration": 21,
    "start_time": "2024-04-27T09:02:51.063Z"
   },
   {
    "duration": 3259,
    "start_time": "2024-04-27T09:02:51.086Z"
   },
   {
    "duration": 13,
    "start_time": "2024-04-27T09:02:54.347Z"
   },
   {
    "duration": 10,
    "start_time": "2024-04-27T09:02:54.361Z"
   },
   {
    "duration": 35,
    "start_time": "2024-04-27T09:02:54.372Z"
   },
   {
    "duration": 11,
    "start_time": "2024-04-27T09:02:54.409Z"
   },
   {
    "duration": 981,
    "start_time": "2024-04-27T09:02:54.421Z"
   },
   {
    "duration": 3,
    "start_time": "2024-04-27T09:02:55.404Z"
   },
   {
    "duration": 411,
    "start_time": "2024-04-27T09:02:55.409Z"
   },
   {
    "duration": 0,
    "start_time": "2024-04-27T09:02:55.821Z"
   },
   {
    "duration": 0,
    "start_time": "2024-04-27T09:02:55.823Z"
   },
   {
    "duration": 3,
    "start_time": "2024-04-27T10:45:35.700Z"
   },
   {
    "duration": 4,
    "start_time": "2024-04-27T10:47:41.156Z"
   },
   {
    "duration": 19,
    "start_time": "2024-04-27T10:47:44.972Z"
   },
   {
    "duration": 3,
    "start_time": "2024-04-27T10:48:01.580Z"
   },
   {
    "duration": 61,
    "start_time": "2024-04-27T10:48:23.608Z"
   },
   {
    "duration": 19,
    "start_time": "2024-04-27T10:48:43.363Z"
   },
   {
    "duration": 56,
    "start_time": "2024-04-27T10:48:55.845Z"
   },
   {
    "duration": 17,
    "start_time": "2024-04-27T10:48:58.856Z"
   },
   {
    "duration": 8,
    "start_time": "2024-04-27T10:50:24.845Z"
   },
   {
    "duration": 14,
    "start_time": "2024-04-27T10:50:26.300Z"
   },
   {
    "duration": 5140,
    "start_time": "2024-04-27T10:50:48.013Z"
   },
   {
    "duration": 1925,
    "start_time": "2024-04-27T10:50:53.155Z"
   },
   {
    "duration": 93,
    "start_time": "2024-04-27T10:50:55.082Z"
   },
   {
    "duration": 4,
    "start_time": "2024-04-27T10:50:55.177Z"
   },
   {
    "duration": 76,
    "start_time": "2024-04-27T10:50:55.183Z"
   },
   {
    "duration": 34,
    "start_time": "2024-04-27T10:50:55.261Z"
   },
   {
    "duration": 19,
    "start_time": "2024-04-27T10:50:55.297Z"
   },
   {
    "duration": 48,
    "start_time": "2024-04-27T10:50:55.318Z"
   },
   {
    "duration": 4,
    "start_time": "2024-04-27T10:50:55.368Z"
   },
   {
    "duration": 31,
    "start_time": "2024-04-27T10:50:55.375Z"
   },
   {
    "duration": 5,
    "start_time": "2024-04-27T10:50:55.408Z"
   },
   {
    "duration": 10,
    "start_time": "2024-04-27T10:50:55.414Z"
   },
   {
    "duration": 23,
    "start_time": "2024-04-27T10:50:55.426Z"
   },
   {
    "duration": 8,
    "start_time": "2024-04-27T10:50:55.451Z"
   },
   {
    "duration": 21,
    "start_time": "2024-04-27T10:50:55.461Z"
   },
   {
    "duration": 11,
    "start_time": "2024-04-27T10:50:55.484Z"
   },
   {
    "duration": 5995,
    "start_time": "2024-04-27T10:50:55.497Z"
   },
   {
    "duration": 7,
    "start_time": "2024-04-27T10:51:01.493Z"
   },
   {
    "duration": 58,
    "start_time": "2024-04-27T10:51:01.501Z"
   },
   {
    "duration": 164,
    "start_time": "2024-04-27T10:51:01.561Z"
   },
   {
    "duration": 4,
    "start_time": "2024-04-27T10:51:01.726Z"
   },
   {
    "duration": 64,
    "start_time": "2024-04-27T10:51:01.732Z"
   },
   {
    "duration": 70,
    "start_time": "2024-04-27T10:51:01.798Z"
   },
   {
    "duration": 83,
    "start_time": "2024-04-27T10:51:01.870Z"
   },
   {
    "duration": 505,
    "start_time": "2024-04-27T10:51:01.955Z"
   },
   {
    "duration": 6,
    "start_time": "2024-04-27T10:51:02.462Z"
   },
   {
    "duration": 361,
    "start_time": "2024-04-27T10:51:02.469Z"
   },
   {
    "duration": 34,
    "start_time": "2024-04-27T10:51:02.834Z"
   },
   {
    "duration": 182,
    "start_time": "2024-04-27T10:51:02.869Z"
   },
   {
    "duration": 10,
    "start_time": "2024-04-27T10:51:03.053Z"
   },
   {
    "duration": 21,
    "start_time": "2024-04-27T10:51:03.064Z"
   },
   {
    "duration": 18,
    "start_time": "2024-04-27T10:51:03.086Z"
   },
   {
    "duration": 50,
    "start_time": "2024-04-27T10:51:03.105Z"
   },
   {
    "duration": 4,
    "start_time": "2024-04-27T10:51:03.157Z"
   },
   {
    "duration": 27,
    "start_time": "2024-04-27T10:51:03.162Z"
   },
   {
    "duration": 26,
    "start_time": "2024-04-27T10:51:03.191Z"
   },
   {
    "duration": 821,
    "start_time": "2024-04-27T10:51:03.219Z"
   },
   {
    "duration": 2629,
    "start_time": "2024-04-27T10:51:04.042Z"
   },
   {
    "duration": 4,
    "start_time": "2024-04-27T10:51:06.673Z"
   },
   {
    "duration": 5,
    "start_time": "2024-04-27T10:51:06.679Z"
   },
   {
    "duration": 15,
    "start_time": "2024-04-27T10:51:06.686Z"
   },
   {
    "duration": 3,
    "start_time": "2024-04-27T10:51:06.704Z"
   },
   {
    "duration": 19,
    "start_time": "2024-04-27T10:51:06.709Z"
   },
   {
    "duration": 9,
    "start_time": "2024-04-27T10:51:06.730Z"
   },
   {
    "duration": 7,
    "start_time": "2024-04-27T10:51:06.741Z"
   },
   {
    "duration": 5,
    "start_time": "2024-04-27T10:51:06.749Z"
   },
   {
    "duration": 9,
    "start_time": "2024-04-27T10:51:06.756Z"
   },
   {
    "duration": 25,
    "start_time": "2024-04-27T10:51:06.767Z"
   },
   {
    "duration": 3253,
    "start_time": "2024-04-27T10:51:06.793Z"
   },
   {
    "duration": 15,
    "start_time": "2024-04-27T10:51:10.048Z"
   },
   {
    "duration": 30,
    "start_time": "2024-04-27T10:51:10.064Z"
   },
   {
    "duration": 28,
    "start_time": "2024-04-27T10:51:10.096Z"
   },
   {
    "duration": 8,
    "start_time": "2024-04-27T10:51:10.126Z"
   },
   {
    "duration": 1166,
    "start_time": "2024-04-27T10:51:10.136Z"
   },
   {
    "duration": 3,
    "start_time": "2024-04-27T10:51:11.303Z"
   },
   {
    "duration": 22,
    "start_time": "2024-04-27T10:51:11.307Z"
   },
   {
    "duration": 9,
    "start_time": "2024-04-27T10:51:11.331Z"
   },
   {
    "duration": 144,
    "start_time": "2024-04-27T10:51:11.342Z"
   },
   {
    "duration": 0,
    "start_time": "2024-04-27T10:51:11.487Z"
   },
   {
    "duration": 2,
    "start_time": "2024-04-27T10:53:48.553Z"
   },
   {
    "duration": 15,
    "start_time": "2024-04-27T10:53:48.843Z"
   },
   {
    "duration": 6,
    "start_time": "2024-04-27T10:53:49.056Z"
   },
   {
    "duration": 21,
    "start_time": "2024-04-27T10:53:49.385Z"
   },
   {
    "duration": 5,
    "start_time": "2024-04-27T10:54:09.388Z"
   },
   {
    "duration": 4,
    "start_time": "2024-04-27T10:54:10.004Z"
   },
   {
    "duration": 7,
    "start_time": "2024-04-27T10:54:10.964Z"
   },
   {
    "duration": 15,
    "start_time": "2024-04-27T10:54:11.720Z"
   },
   {
    "duration": 4,
    "start_time": "2024-04-27T10:56:49.840Z"
   },
   {
    "duration": 3,
    "start_time": "2024-04-27T10:58:07.009Z"
   },
   {
    "duration": 7,
    "start_time": "2024-04-27T10:58:07.318Z"
   },
   {
    "duration": 20,
    "start_time": "2024-04-27T10:58:07.730Z"
   },
   {
    "duration": 15,
    "start_time": "2024-04-27T10:58:08.628Z"
   },
   {
    "duration": 2,
    "start_time": "2024-04-27T10:58:19.704Z"
   },
   {
    "duration": 4,
    "start_time": "2024-04-27T10:58:19.976Z"
   },
   {
    "duration": 3,
    "start_time": "2024-04-27T10:58:20.572Z"
   },
   {
    "duration": 8,
    "start_time": "2024-04-27T10:58:21.000Z"
   },
   {
    "duration": 15,
    "start_time": "2024-04-27T10:58:21.572Z"
   },
   {
    "duration": 15,
    "start_time": "2024-04-27T10:59:25.264Z"
   },
   {
    "duration": 14,
    "start_time": "2024-04-27T11:00:22.311Z"
   },
   {
    "duration": 19,
    "start_time": "2024-04-27T11:01:00.260Z"
   },
   {
    "duration": 1176,
    "start_time": "2024-04-27T11:01:48.917Z"
   },
   {
    "duration": 0,
    "start_time": "2024-04-27T11:01:50.095Z"
   },
   {
    "duration": 3,
    "start_time": "2024-04-27T11:03:44.921Z"
   },
   {
    "duration": 6,
    "start_time": "2024-04-27T11:03:46.592Z"
   },
   {
    "duration": 4,
    "start_time": "2024-04-27T11:03:46.908Z"
   },
   {
    "duration": 2,
    "start_time": "2024-04-27T11:03:47.256Z"
   },
   {
    "duration": 1195,
    "start_time": "2024-04-27T11:03:47.709Z"
   },
   {
    "duration": 14,
    "start_time": "2024-04-27T11:04:00.588Z"
   },
   {
    "duration": 3,
    "start_time": "2024-04-27T11:04:11.412Z"
   },
   {
    "duration": 2,
    "start_time": "2024-04-27T11:04:12.736Z"
   },
   {
    "duration": 46,
    "start_time": "2024-04-27T11:04:13.157Z"
   },
   {
    "duration": 5,
    "start_time": "2024-04-27T11:05:00.008Z"
   },
   {
    "duration": 3,
    "start_time": "2024-04-27T11:05:26.921Z"
   },
   {
    "duration": 31,
    "start_time": "2024-04-27T11:05:32.828Z"
   },
   {
    "duration": 10,
    "start_time": "2024-04-27T11:06:36.445Z"
   },
   {
    "duration": 12,
    "start_time": "2024-04-27T11:06:47.537Z"
   },
   {
    "duration": 4,
    "start_time": "2024-04-27T11:06:52.079Z"
   },
   {
    "duration": 1101,
    "start_time": "2024-04-27T11:06:56.325Z"
   },
   {
    "duration": 16,
    "start_time": "2024-04-27T11:07:09.549Z"
   },
   {
    "duration": 3,
    "start_time": "2024-04-27T11:07:20.830Z"
   },
   {
    "duration": 5,
    "start_time": "2024-04-27T11:07:22.122Z"
   },
   {
    "duration": 2,
    "start_time": "2024-04-27T11:07:34.273Z"
   },
   {
    "duration": 4,
    "start_time": "2024-04-27T11:07:42.063Z"
   },
   {
    "duration": 35,
    "start_time": "2024-04-27T11:07:47.529Z"
   },
   {
    "duration": 19,
    "start_time": "2024-04-27T11:09:33.621Z"
   },
   {
    "duration": 21,
    "start_time": "2024-04-27T11:10:11.208Z"
   },
   {
    "duration": 23,
    "start_time": "2024-04-27T11:16:48.818Z"
   },
   {
    "duration": 14,
    "start_time": "2024-04-27T11:18:39.958Z"
   },
   {
    "duration": 17,
    "start_time": "2024-04-27T11:19:04.189Z"
   },
   {
    "duration": 7372,
    "start_time": "2024-04-27T11:19:23.714Z"
   },
   {
    "duration": 2241,
    "start_time": "2024-04-27T11:19:31.088Z"
   },
   {
    "duration": 84,
    "start_time": "2024-04-27T11:19:33.331Z"
   },
   {
    "duration": 4,
    "start_time": "2024-04-27T11:19:33.417Z"
   },
   {
    "duration": 107,
    "start_time": "2024-04-27T11:19:33.423Z"
   },
   {
    "duration": 5,
    "start_time": "2024-04-27T11:19:33.532Z"
   },
   {
    "duration": 22,
    "start_time": "2024-04-27T11:19:33.539Z"
   },
   {
    "duration": 57,
    "start_time": "2024-04-27T11:19:33.563Z"
   },
   {
    "duration": 5,
    "start_time": "2024-04-27T11:19:33.623Z"
   },
   {
    "duration": 28,
    "start_time": "2024-04-27T11:19:33.632Z"
   },
   {
    "duration": 31,
    "start_time": "2024-04-27T11:19:33.662Z"
   },
   {
    "duration": 11,
    "start_time": "2024-04-27T11:19:33.695Z"
   },
   {
    "duration": 8,
    "start_time": "2024-04-27T11:19:33.707Z"
   },
   {
    "duration": 7,
    "start_time": "2024-04-27T11:19:33.717Z"
   },
   {
    "duration": 16,
    "start_time": "2024-04-27T11:19:33.725Z"
   },
   {
    "duration": 14,
    "start_time": "2024-04-27T11:19:33.743Z"
   },
   {
    "duration": 7665,
    "start_time": "2024-04-27T11:19:33.792Z"
   },
   {
    "duration": 8,
    "start_time": "2024-04-27T11:19:41.459Z"
   },
   {
    "duration": 16,
    "start_time": "2024-04-27T11:19:41.469Z"
   },
   {
    "duration": 128,
    "start_time": "2024-04-27T11:19:41.490Z"
   },
   {
    "duration": 5,
    "start_time": "2024-04-27T11:19:41.620Z"
   },
   {
    "duration": 25,
    "start_time": "2024-04-27T11:19:41.627Z"
   },
   {
    "duration": 19,
    "start_time": "2024-04-27T11:19:41.655Z"
   },
   {
    "duration": 20,
    "start_time": "2024-04-27T11:19:41.676Z"
   },
   {
    "duration": 421,
    "start_time": "2024-04-27T11:19:41.698Z"
   },
   {
    "duration": 6,
    "start_time": "2024-04-27T11:19:42.121Z"
   },
   {
    "duration": 22,
    "start_time": "2024-04-27T11:19:42.128Z"
   },
   {
    "duration": 6,
    "start_time": "2024-04-27T11:19:42.154Z"
   },
   {
    "duration": 17,
    "start_time": "2024-04-27T11:19:42.161Z"
   },
   {
    "duration": 10,
    "start_time": "2024-04-27T11:19:42.191Z"
   },
   {
    "duration": 165,
    "start_time": "2024-04-27T11:19:42.203Z"
   },
   {
    "duration": 7,
    "start_time": "2024-04-27T11:19:42.369Z"
   },
   {
    "duration": 31,
    "start_time": "2024-04-27T11:19:42.378Z"
   },
   {
    "duration": 3,
    "start_time": "2024-04-27T11:19:42.411Z"
   },
   {
    "duration": 20,
    "start_time": "2024-04-27T11:19:42.416Z"
   },
   {
    "duration": 24,
    "start_time": "2024-04-27T11:19:42.438Z"
   },
   {
    "duration": 843,
    "start_time": "2024-04-27T11:19:42.464Z"
   },
   {
    "duration": 2623,
    "start_time": "2024-04-27T11:19:43.309Z"
   },
   {
    "duration": 5,
    "start_time": "2024-04-27T11:19:45.934Z"
   },
   {
    "duration": 28,
    "start_time": "2024-04-27T11:19:45.940Z"
   },
   {
    "duration": 15,
    "start_time": "2024-04-27T11:19:45.969Z"
   },
   {
    "duration": 14,
    "start_time": "2024-04-27T11:19:45.986Z"
   },
   {
    "duration": 13,
    "start_time": "2024-04-27T11:19:46.002Z"
   },
   {
    "duration": 10,
    "start_time": "2024-04-27T11:19:46.017Z"
   },
   {
    "duration": 11,
    "start_time": "2024-04-27T11:19:46.028Z"
   },
   {
    "duration": 5,
    "start_time": "2024-04-27T11:19:46.041Z"
   },
   {
    "duration": 9,
    "start_time": "2024-04-27T11:19:46.048Z"
   },
   {
    "duration": 18,
    "start_time": "2024-04-27T11:19:46.059Z"
   },
   {
    "duration": 3287,
    "start_time": "2024-04-27T11:19:46.079Z"
   },
   {
    "duration": 24,
    "start_time": "2024-04-27T11:19:49.368Z"
   },
   {
    "duration": 16,
    "start_time": "2024-04-27T11:19:49.394Z"
   },
   {
    "duration": 48,
    "start_time": "2024-04-27T11:19:49.411Z"
   },
   {
    "duration": 5,
    "start_time": "2024-04-27T11:19:49.462Z"
   },
   {
    "duration": 1100,
    "start_time": "2024-04-27T11:19:49.468Z"
   },
   {
    "duration": 3,
    "start_time": "2024-04-27T11:19:50.570Z"
   },
   {
    "duration": 254,
    "start_time": "2024-04-27T11:19:50.575Z"
   },
   {
    "duration": 17,
    "start_time": "2024-04-27T11:20:07.852Z"
   },
   {
    "duration": 34,
    "start_time": "2024-04-27T11:20:21.562Z"
   },
   {
    "duration": 15,
    "start_time": "2024-04-27T11:20:46.573Z"
   },
   {
    "duration": 5064,
    "start_time": "2024-04-27T11:21:26.819Z"
   },
   {
    "duration": 1931,
    "start_time": "2024-04-27T11:21:31.887Z"
   },
   {
    "duration": 82,
    "start_time": "2024-04-27T11:21:33.820Z"
   },
   {
    "duration": 4,
    "start_time": "2024-04-27T11:21:33.905Z"
   },
   {
    "duration": 94,
    "start_time": "2024-04-27T11:21:33.911Z"
   },
   {
    "duration": 4,
    "start_time": "2024-04-27T11:21:34.007Z"
   },
   {
    "duration": 35,
    "start_time": "2024-04-27T11:21:34.013Z"
   },
   {
    "duration": 50,
    "start_time": "2024-04-27T11:21:34.050Z"
   },
   {
    "duration": 4,
    "start_time": "2024-04-27T11:21:34.102Z"
   },
   {
    "duration": 26,
    "start_time": "2024-04-27T11:21:34.109Z"
   },
   {
    "duration": 3,
    "start_time": "2024-04-27T11:21:34.137Z"
   },
   {
    "duration": 12,
    "start_time": "2024-04-27T11:21:34.142Z"
   },
   {
    "duration": 12,
    "start_time": "2024-04-27T11:21:34.155Z"
   },
   {
    "duration": 18,
    "start_time": "2024-04-27T11:21:34.168Z"
   },
   {
    "duration": 23,
    "start_time": "2024-04-27T11:21:34.187Z"
   },
   {
    "duration": 10,
    "start_time": "2024-04-27T11:21:34.212Z"
   },
   {
    "duration": 6036,
    "start_time": "2024-04-27T11:21:34.223Z"
   },
   {
    "duration": 6,
    "start_time": "2024-04-27T11:21:40.261Z"
   },
   {
    "duration": 9,
    "start_time": "2024-04-27T11:21:40.268Z"
   },
   {
    "duration": 94,
    "start_time": "2024-04-27T11:21:40.278Z"
   },
   {
    "duration": 19,
    "start_time": "2024-04-27T11:21:40.373Z"
   },
   {
    "duration": 72,
    "start_time": "2024-04-27T11:21:40.394Z"
   },
   {
    "duration": 5,
    "start_time": "2024-04-27T11:21:40.467Z"
   },
   {
    "duration": 16,
    "start_time": "2024-04-27T11:21:40.474Z"
   },
   {
    "duration": 376,
    "start_time": "2024-04-27T11:21:40.491Z"
   },
   {
    "duration": 6,
    "start_time": "2024-04-27T11:21:40.869Z"
   },
   {
    "duration": 30,
    "start_time": "2024-04-27T11:21:40.877Z"
   },
   {
    "duration": 30,
    "start_time": "2024-04-27T11:21:40.911Z"
   },
   {
    "duration": 23,
    "start_time": "2024-04-27T11:21:40.943Z"
   },
   {
    "duration": 10,
    "start_time": "2024-04-27T11:21:40.967Z"
   },
   {
    "duration": 156,
    "start_time": "2024-04-27T11:21:40.979Z"
   },
   {
    "duration": 8,
    "start_time": "2024-04-27T11:21:41.137Z"
   },
   {
    "duration": 32,
    "start_time": "2024-04-27T11:21:41.146Z"
   },
   {
    "duration": 4,
    "start_time": "2024-04-27T11:21:41.180Z"
   },
   {
    "duration": 14,
    "start_time": "2024-04-27T11:21:41.192Z"
   },
   {
    "duration": 7,
    "start_time": "2024-04-27T11:21:41.208Z"
   },
   {
    "duration": 848,
    "start_time": "2024-04-27T11:21:41.216Z"
   },
   {
    "duration": 2732,
    "start_time": "2024-04-27T11:21:42.065Z"
   },
   {
    "duration": 6,
    "start_time": "2024-04-27T11:21:44.798Z"
   },
   {
    "duration": 37,
    "start_time": "2024-04-27T11:21:44.806Z"
   },
   {
    "duration": 26,
    "start_time": "2024-04-27T11:21:44.845Z"
   },
   {
    "duration": 19,
    "start_time": "2024-04-27T11:21:44.873Z"
   },
   {
    "duration": 31,
    "start_time": "2024-04-27T11:21:44.893Z"
   },
   {
    "duration": 33,
    "start_time": "2024-04-27T11:21:44.926Z"
   },
   {
    "duration": 29,
    "start_time": "2024-04-27T11:21:44.961Z"
   },
   {
    "duration": 73,
    "start_time": "2024-04-27T11:21:44.992Z"
   },
   {
    "duration": 184,
    "start_time": "2024-04-27T11:21:45.067Z"
   },
   {
    "duration": 60,
    "start_time": "2024-04-27T11:21:45.252Z"
   },
   {
    "duration": 3331,
    "start_time": "2024-04-27T11:21:45.314Z"
   },
   {
    "duration": 11,
    "start_time": "2024-04-27T11:21:48.647Z"
   },
   {
    "duration": 25,
    "start_time": "2024-04-27T11:21:48.660Z"
   },
   {
    "duration": 19,
    "start_time": "2024-04-27T11:21:48.687Z"
   },
   {
    "duration": 9,
    "start_time": "2024-04-27T11:21:48.708Z"
   },
   {
    "duration": 946,
    "start_time": "2024-04-27T11:21:48.719Z"
   },
   {
    "duration": 2,
    "start_time": "2024-04-27T11:21:49.667Z"
   },
   {
    "duration": 28,
    "start_time": "2024-04-27T11:21:49.670Z"
   },
   {
    "duration": 107,
    "start_time": "2024-04-27T11:21:49.700Z"
   },
   {
    "duration": 156,
    "start_time": "2024-04-27T11:26:51.559Z"
   },
   {
    "duration": 4,
    "start_time": "2024-04-27T11:26:52.015Z"
   },
   {
    "duration": 5227,
    "start_time": "2024-04-27T11:27:05.237Z"
   },
   {
    "duration": 1950,
    "start_time": "2024-04-27T11:27:10.466Z"
   },
   {
    "duration": 85,
    "start_time": "2024-04-27T11:27:12.418Z"
   },
   {
    "duration": 4,
    "start_time": "2024-04-27T11:27:12.505Z"
   },
   {
    "duration": 94,
    "start_time": "2024-04-27T11:27:12.511Z"
   },
   {
    "duration": 6,
    "start_time": "2024-04-27T11:27:12.607Z"
   },
   {
    "duration": 18,
    "start_time": "2024-04-27T11:27:12.614Z"
   },
   {
    "duration": 71,
    "start_time": "2024-04-27T11:27:12.634Z"
   },
   {
    "duration": 4,
    "start_time": "2024-04-27T11:27:12.707Z"
   },
   {
    "duration": 21,
    "start_time": "2024-04-27T11:27:12.713Z"
   },
   {
    "duration": 4,
    "start_time": "2024-04-27T11:27:12.736Z"
   },
   {
    "duration": 5,
    "start_time": "2024-04-27T11:27:12.741Z"
   },
   {
    "duration": 5,
    "start_time": "2024-04-27T11:27:12.748Z"
   },
   {
    "duration": 5,
    "start_time": "2024-04-27T11:27:12.755Z"
   },
   {
    "duration": 42,
    "start_time": "2024-04-27T11:27:12.761Z"
   },
   {
    "duration": 10,
    "start_time": "2024-04-27T11:27:12.805Z"
   },
   {
    "duration": 7097,
    "start_time": "2024-04-27T11:27:12.817Z"
   },
   {
    "duration": 6,
    "start_time": "2024-04-27T11:27:19.915Z"
   },
   {
    "duration": 10,
    "start_time": "2024-04-27T11:27:19.923Z"
   },
   {
    "duration": 130,
    "start_time": "2024-04-27T11:27:19.935Z"
   },
   {
    "duration": 4,
    "start_time": "2024-04-27T11:27:20.067Z"
   },
   {
    "duration": 32,
    "start_time": "2024-04-27T11:27:20.072Z"
   },
   {
    "duration": 6,
    "start_time": "2024-04-27T11:27:20.109Z"
   },
   {
    "duration": 22,
    "start_time": "2024-04-27T11:27:20.117Z"
   },
   {
    "duration": 424,
    "start_time": "2024-04-27T11:27:20.141Z"
   },
   {
    "duration": 8,
    "start_time": "2024-04-27T11:27:20.567Z"
   },
   {
    "duration": 54,
    "start_time": "2024-04-27T11:27:20.577Z"
   },
   {
    "duration": 51,
    "start_time": "2024-04-27T11:27:20.636Z"
   },
   {
    "duration": 18,
    "start_time": "2024-04-27T11:27:20.689Z"
   },
   {
    "duration": 148,
    "start_time": "2024-04-27T11:27:20.709Z"
   },
   {
    "duration": 48,
    "start_time": "2024-04-27T11:27:20.859Z"
   },
   {
    "duration": 22,
    "start_time": "2024-04-27T11:27:20.908Z"
   },
   {
    "duration": 33,
    "start_time": "2024-04-27T11:27:20.932Z"
   },
   {
    "duration": 5,
    "start_time": "2024-04-27T11:27:20.966Z"
   },
   {
    "duration": 31,
    "start_time": "2024-04-27T11:27:20.972Z"
   },
   {
    "duration": 42,
    "start_time": "2024-04-27T11:27:21.005Z"
   },
   {
    "duration": 899,
    "start_time": "2024-04-27T11:27:21.049Z"
   },
   {
    "duration": 2856,
    "start_time": "2024-04-27T11:27:21.949Z"
   },
   {
    "duration": 8,
    "start_time": "2024-04-27T11:27:24.807Z"
   },
   {
    "duration": 19,
    "start_time": "2024-04-27T11:27:24.817Z"
   },
   {
    "duration": 16,
    "start_time": "2024-04-27T11:27:24.837Z"
   },
   {
    "duration": 3,
    "start_time": "2024-04-27T11:27:24.855Z"
   },
   {
    "duration": 22,
    "start_time": "2024-04-27T11:27:24.859Z"
   },
   {
    "duration": 18,
    "start_time": "2024-04-27T11:27:24.883Z"
   },
   {
    "duration": 9,
    "start_time": "2024-04-27T11:27:24.902Z"
   },
   {
    "duration": 10,
    "start_time": "2024-04-27T11:27:24.912Z"
   },
   {
    "duration": 41,
    "start_time": "2024-04-27T11:27:24.924Z"
   },
   {
    "duration": 43,
    "start_time": "2024-04-27T11:27:24.967Z"
   },
   {
    "duration": 3325,
    "start_time": "2024-04-27T11:27:25.012Z"
   },
   {
    "duration": 11,
    "start_time": "2024-04-27T11:27:28.339Z"
   },
   {
    "duration": 15,
    "start_time": "2024-04-27T11:27:28.351Z"
   },
   {
    "duration": 35,
    "start_time": "2024-04-27T11:27:28.368Z"
   },
   {
    "duration": 5,
    "start_time": "2024-04-27T11:27:28.405Z"
   },
   {
    "duration": 995,
    "start_time": "2024-04-27T11:27:28.411Z"
   },
   {
    "duration": 3,
    "start_time": "2024-04-27T11:27:29.408Z"
   },
   {
    "duration": 31,
    "start_time": "2024-04-27T11:27:29.413Z"
   },
   {
    "duration": 51,
    "start_time": "2024-04-27T11:27:29.446Z"
   },
   {
    "duration": 101,
    "start_time": "2024-04-27T11:27:29.503Z"
   },
   {
    "duration": 28,
    "start_time": "2024-04-27T11:34:09.378Z"
   },
   {
    "duration": 5,
    "start_time": "2024-04-27T11:34:23.807Z"
   },
   {
    "duration": 5,
    "start_time": "2024-04-27T11:34:37.634Z"
   },
   {
    "duration": 1283,
    "start_time": "2024-04-27T11:35:39.423Z"
   },
   {
    "duration": 191,
    "start_time": "2024-04-27T11:35:50.806Z"
   },
   {
    "duration": 204,
    "start_time": "2024-04-27T11:36:19.766Z"
   },
   {
    "duration": 192,
    "start_time": "2024-04-27T11:36:34.698Z"
   },
   {
    "duration": 17,
    "start_time": "2024-04-27T11:39:07.404Z"
   },
   {
    "duration": 40,
    "start_time": "2024-04-27T11:39:24.229Z"
   },
   {
    "duration": 58,
    "start_time": "2024-04-27T11:39:41.887Z"
   },
   {
    "duration": 18,
    "start_time": "2024-04-27T11:40:23.026Z"
   },
   {
    "duration": 444,
    "start_time": "2024-04-27T11:40:47.495Z"
   },
   {
    "duration": 5,
    "start_time": "2024-04-27T11:48:54.084Z"
   },
   {
    "duration": 1539,
    "start_time": "2024-04-27T11:48:57.066Z"
   },
   {
    "duration": 5,
    "start_time": "2024-04-27T11:49:52.587Z"
   },
   {
    "duration": 1908,
    "start_time": "2024-04-27T11:49:54.022Z"
   },
   {
    "duration": 16,
    "start_time": "2024-04-27T12:11:18.832Z"
   },
   {
    "duration": 1313,
    "start_time": "2024-04-27T12:11:26.949Z"
   },
   {
    "duration": 19,
    "start_time": "2024-04-27T12:12:01.890Z"
   },
   {
    "duration": 23,
    "start_time": "2024-04-27T12:14:00.193Z"
   },
   {
    "duration": 20,
    "start_time": "2024-04-27T12:14:08.893Z"
   },
   {
    "duration": 18,
    "start_time": "2024-04-27T12:14:27.399Z"
   },
   {
    "duration": 19,
    "start_time": "2024-04-27T12:14:38.182Z"
   },
   {
    "duration": 18,
    "start_time": "2024-04-27T12:14:50.234Z"
   },
   {
    "duration": 127,
    "start_time": "2024-04-27T12:15:10.058Z"
   },
   {
    "duration": 26,
    "start_time": "2024-04-27T12:15:38.574Z"
   },
   {
    "duration": 26,
    "start_time": "2024-04-27T12:16:00.034Z"
   },
   {
    "duration": 365,
    "start_time": "2024-04-27T12:16:07.594Z"
   },
   {
    "duration": 10,
    "start_time": "2024-04-27T12:18:16.019Z"
   },
   {
    "duration": 5334,
    "start_time": "2024-04-27T12:18:18.502Z"
   },
   {
    "duration": 11,
    "start_time": "2024-04-27T12:22:23.182Z"
   },
   {
    "duration": 7173,
    "start_time": "2024-04-27T12:22:27.026Z"
   },
   {
    "duration": 11,
    "start_time": "2024-04-27T12:24:18.731Z"
   },
   {
    "duration": 1265,
    "start_time": "2024-04-27T12:24:21.498Z"
   },
   {
    "duration": 12,
    "start_time": "2024-04-27T12:25:05.678Z"
   },
   {
    "duration": 7110,
    "start_time": "2024-04-27T12:25:07.466Z"
   },
   {
    "duration": 11,
    "start_time": "2024-04-27T12:27:38.241Z"
   },
   {
    "duration": 1589,
    "start_time": "2024-04-27T12:27:39.564Z"
   },
   {
    "duration": 11,
    "start_time": "2024-04-27T12:28:44.314Z"
   },
   {
    "duration": 6914,
    "start_time": "2024-04-27T12:28:45.235Z"
   },
   {
    "duration": 12,
    "start_time": "2024-04-27T12:29:20.215Z"
   },
   {
    "duration": 6968,
    "start_time": "2024-04-27T12:29:21.318Z"
   },
   {
    "duration": 8,
    "start_time": "2024-04-27T12:31:17.931Z"
   },
   {
    "duration": 5411,
    "start_time": "2024-04-27T12:31:19.911Z"
   },
   {
    "duration": 8,
    "start_time": "2024-04-27T12:32:31.888Z"
   },
   {
    "duration": 5355,
    "start_time": "2024-04-27T12:32:32.955Z"
   },
   {
    "duration": 9,
    "start_time": "2024-04-27T12:32:57.240Z"
   },
   {
    "duration": 5280,
    "start_time": "2024-04-27T12:32:58.451Z"
   },
   {
    "duration": 9,
    "start_time": "2024-04-27T12:34:13.508Z"
   },
   {
    "duration": 5369,
    "start_time": "2024-04-27T12:34:14.268Z"
   },
   {
    "duration": 9,
    "start_time": "2024-04-27T12:34:55.324Z"
   },
   {
    "duration": 9,
    "start_time": "2024-04-27T12:35:03.614Z"
   },
   {
    "duration": 5221,
    "start_time": "2024-04-27T12:35:04.427Z"
   },
   {
    "duration": 8,
    "start_time": "2024-04-27T12:36:02.473Z"
   },
   {
    "duration": 5305,
    "start_time": "2024-04-27T12:36:03.375Z"
   },
   {
    "duration": 9,
    "start_time": "2024-04-27T12:37:16.742Z"
   },
   {
    "duration": 6691,
    "start_time": "2024-04-27T12:37:17.557Z"
   },
   {
    "duration": 9,
    "start_time": "2024-04-27T12:38:52.320Z"
   },
   {
    "duration": 6517,
    "start_time": "2024-04-27T12:38:53.715Z"
   },
   {
    "duration": 167,
    "start_time": "2024-04-27T12:39:27.085Z"
   },
   {
    "duration": 6691,
    "start_time": "2024-04-27T12:39:27.896Z"
   },
   {
    "duration": 11,
    "start_time": "2024-04-27T12:41:00.933Z"
   },
   {
    "duration": 6571,
    "start_time": "2024-04-27T12:41:02.602Z"
   },
   {
    "duration": 9,
    "start_time": "2024-04-27T12:41:47.120Z"
   },
   {
    "duration": 6555,
    "start_time": "2024-04-27T12:41:47.939Z"
   },
   {
    "duration": 16,
    "start_time": "2024-04-27T12:42:53.477Z"
   },
   {
    "duration": 6586,
    "start_time": "2024-04-27T12:42:55.380Z"
   },
   {
    "duration": 10,
    "start_time": "2024-04-27T12:45:17.740Z"
   },
   {
    "duration": 6732,
    "start_time": "2024-04-27T12:45:19.732Z"
   },
   {
    "duration": 10,
    "start_time": "2024-04-27T12:45:48.040Z"
   },
   {
    "duration": 6641,
    "start_time": "2024-04-27T12:45:48.848Z"
   },
   {
    "duration": 11,
    "start_time": "2024-04-27T12:47:17.390Z"
   },
   {
    "duration": 6812,
    "start_time": "2024-04-27T12:47:19.058Z"
   },
   {
    "duration": 9,
    "start_time": "2024-04-27T12:47:43.603Z"
   },
   {
    "duration": 6908,
    "start_time": "2024-04-27T12:47:44.386Z"
   },
   {
    "duration": 5107,
    "start_time": "2024-04-27T12:49:28.827Z"
   },
   {
    "duration": 2548,
    "start_time": "2024-04-27T12:49:33.936Z"
   },
   {
    "duration": 88,
    "start_time": "2024-04-27T12:49:36.485Z"
   },
   {
    "duration": 4,
    "start_time": "2024-04-27T12:49:36.575Z"
   },
   {
    "duration": 78,
    "start_time": "2024-04-27T12:49:36.580Z"
   },
   {
    "duration": 31,
    "start_time": "2024-04-27T12:49:36.660Z"
   },
   {
    "duration": 30,
    "start_time": "2024-04-27T12:49:36.693Z"
   },
   {
    "duration": 42,
    "start_time": "2024-04-27T12:49:36.725Z"
   },
   {
    "duration": 4,
    "start_time": "2024-04-27T12:49:36.769Z"
   },
   {
    "duration": 34,
    "start_time": "2024-04-27T12:49:36.776Z"
   },
   {
    "duration": 14,
    "start_time": "2024-04-27T12:49:36.811Z"
   },
   {
    "duration": 8,
    "start_time": "2024-04-27T12:49:36.827Z"
   },
   {
    "duration": 5,
    "start_time": "2024-04-27T12:49:36.836Z"
   },
   {
    "duration": 14,
    "start_time": "2024-04-27T12:49:36.843Z"
   },
   {
    "duration": 10,
    "start_time": "2024-04-27T12:49:36.859Z"
   },
   {
    "duration": 21,
    "start_time": "2024-04-27T12:49:36.871Z"
   },
   {
    "duration": 6564,
    "start_time": "2024-04-27T12:49:36.894Z"
   },
   {
    "duration": 6,
    "start_time": "2024-04-27T12:49:43.460Z"
   },
   {
    "duration": 20,
    "start_time": "2024-04-27T12:49:43.467Z"
   },
   {
    "duration": 83,
    "start_time": "2024-04-27T12:49:43.489Z"
   },
   {
    "duration": 4,
    "start_time": "2024-04-27T12:49:43.573Z"
   },
   {
    "duration": 17,
    "start_time": "2024-04-27T12:49:43.592Z"
   },
   {
    "duration": 34,
    "start_time": "2024-04-27T12:49:43.610Z"
   },
   {
    "duration": 31,
    "start_time": "2024-04-27T12:49:43.645Z"
   },
   {
    "duration": 385,
    "start_time": "2024-04-27T12:49:43.678Z"
   },
   {
    "duration": 6,
    "start_time": "2024-04-27T12:49:44.065Z"
   },
   {
    "duration": 31,
    "start_time": "2024-04-27T12:49:44.073Z"
   },
   {
    "duration": 30,
    "start_time": "2024-04-27T12:49:44.108Z"
   },
   {
    "duration": 150,
    "start_time": "2024-04-27T12:49:44.140Z"
   },
   {
    "duration": 9,
    "start_time": "2024-04-27T12:49:44.291Z"
   },
   {
    "duration": 20,
    "start_time": "2024-04-27T12:49:44.302Z"
   },
   {
    "duration": 14,
    "start_time": "2024-04-27T12:49:44.324Z"
   },
   {
    "duration": 23,
    "start_time": "2024-04-27T12:49:44.339Z"
   },
   {
    "duration": 5,
    "start_time": "2024-04-27T12:49:44.363Z"
   },
   {
    "duration": 11,
    "start_time": "2024-04-27T12:49:44.370Z"
   },
   {
    "duration": 20,
    "start_time": "2024-04-27T12:49:44.383Z"
   },
   {
    "duration": 826,
    "start_time": "2024-04-27T12:49:44.405Z"
   },
   {
    "duration": 2629,
    "start_time": "2024-04-27T12:49:45.233Z"
   },
   {
    "duration": 6,
    "start_time": "2024-04-27T12:49:47.864Z"
   },
   {
    "duration": 22,
    "start_time": "2024-04-27T12:49:47.871Z"
   },
   {
    "duration": 14,
    "start_time": "2024-04-27T12:49:47.894Z"
   },
   {
    "duration": 12,
    "start_time": "2024-04-27T12:49:47.910Z"
   },
   {
    "duration": 25,
    "start_time": "2024-04-27T12:49:47.924Z"
   },
   {
    "duration": 58,
    "start_time": "2024-04-27T12:49:47.951Z"
   },
   {
    "duration": 26,
    "start_time": "2024-04-27T12:49:48.011Z"
   },
   {
    "duration": 56,
    "start_time": "2024-04-27T12:49:48.039Z"
   },
   {
    "duration": 18,
    "start_time": "2024-04-27T12:49:48.097Z"
   },
   {
    "duration": 58,
    "start_time": "2024-04-27T12:49:48.117Z"
   },
   {
    "duration": 2098,
    "start_time": "2024-04-27T12:49:48.176Z"
   },
   {
    "duration": 0,
    "start_time": "2024-04-27T12:49:50.276Z"
   },
   {
    "duration": 0,
    "start_time": "2024-04-27T12:49:50.277Z"
   },
   {
    "duration": 0,
    "start_time": "2024-04-27T12:49:50.278Z"
   },
   {
    "duration": 0,
    "start_time": "2024-04-27T12:49:50.279Z"
   },
   {
    "duration": 0,
    "start_time": "2024-04-27T12:49:50.280Z"
   },
   {
    "duration": 0,
    "start_time": "2024-04-27T12:49:50.282Z"
   },
   {
    "duration": 0,
    "start_time": "2024-04-27T12:49:50.291Z"
   },
   {
    "duration": 0,
    "start_time": "2024-04-27T12:49:50.293Z"
   },
   {
    "duration": 0,
    "start_time": "2024-04-27T12:49:50.294Z"
   },
   {
    "duration": 0,
    "start_time": "2024-04-27T12:49:50.296Z"
   },
   {
    "duration": 0,
    "start_time": "2024-04-27T12:49:50.296Z"
   },
   {
    "duration": 12,
    "start_time": "2024-04-27T13:01:14.432Z"
   },
   {
    "duration": 4,
    "start_time": "2024-04-27T13:01:20.608Z"
   },
   {
    "duration": 14,
    "start_time": "2024-04-27T13:01:24.432Z"
   },
   {
    "duration": 5,
    "start_time": "2024-04-27T13:01:28.950Z"
   },
   {
    "duration": 3,
    "start_time": "2024-04-27T13:01:31.259Z"
   },
   {
    "duration": 4,
    "start_time": "2024-04-27T13:01:35.076Z"
   },
   {
    "duration": 3,
    "start_time": "2024-04-27T13:02:21.924Z"
   },
   {
    "duration": 12,
    "start_time": "2024-04-27T13:02:22.540Z"
   },
   {
    "duration": 3,
    "start_time": "2024-04-27T13:02:25.496Z"
   },
   {
    "duration": 10,
    "start_time": "2024-04-27T13:03:02.364Z"
   },
   {
    "duration": 4,
    "start_time": "2024-04-27T13:03:09.524Z"
   },
   {
    "duration": 3,
    "start_time": "2024-04-27T13:03:42.076Z"
   },
   {
    "duration": 4,
    "start_time": "2024-04-27T13:03:43.329Z"
   },
   {
    "duration": 3,
    "start_time": "2024-04-27T13:03:45.888Z"
   },
   {
    "duration": 5,
    "start_time": "2024-04-27T13:03:46.160Z"
   },
   {
    "duration": 4,
    "start_time": "2024-04-27T13:03:46.796Z"
   },
   {
    "duration": 4,
    "start_time": "2024-04-27T13:03:47.570Z"
   },
   {
    "duration": 4,
    "start_time": "2024-04-27T13:03:49.005Z"
   },
   {
    "duration": 8689,
    "start_time": "2024-04-27T13:03:53.969Z"
   },
   {
    "duration": 10,
    "start_time": "2024-04-27T13:04:29.804Z"
   },
   {
    "duration": 1210,
    "start_time": "2024-04-27T13:04:32.588Z"
   },
   {
    "duration": 5024,
    "start_time": "2024-04-27T13:04:47.315Z"
   },
   {
    "duration": 1952,
    "start_time": "2024-04-27T13:04:52.342Z"
   },
   {
    "duration": 83,
    "start_time": "2024-04-27T13:04:54.296Z"
   },
   {
    "duration": 4,
    "start_time": "2024-04-27T13:04:54.382Z"
   },
   {
    "duration": 109,
    "start_time": "2024-04-27T13:04:54.388Z"
   },
   {
    "duration": 5,
    "start_time": "2024-04-27T13:04:54.499Z"
   },
   {
    "duration": 61,
    "start_time": "2024-04-27T13:04:54.505Z"
   },
   {
    "duration": 77,
    "start_time": "2024-04-27T13:04:54.568Z"
   },
   {
    "duration": 6,
    "start_time": "2024-04-27T13:04:54.647Z"
   },
   {
    "duration": 42,
    "start_time": "2024-04-27T13:04:54.656Z"
   },
   {
    "duration": 4,
    "start_time": "2024-04-27T13:04:54.699Z"
   },
   {
    "duration": 10,
    "start_time": "2024-04-27T13:04:54.704Z"
   },
   {
    "duration": 23,
    "start_time": "2024-04-27T13:04:54.716Z"
   },
   {
    "duration": 50,
    "start_time": "2024-04-27T13:04:54.741Z"
   },
   {
    "duration": 16,
    "start_time": "2024-04-27T13:04:54.793Z"
   },
   {
    "duration": 58,
    "start_time": "2024-04-27T13:04:54.811Z"
   },
   {
    "duration": 7356,
    "start_time": "2024-04-27T13:04:54.870Z"
   },
   {
    "duration": 7,
    "start_time": "2024-04-27T13:05:02.227Z"
   },
   {
    "duration": 56,
    "start_time": "2024-04-27T13:05:02.236Z"
   },
   {
    "duration": 152,
    "start_time": "2024-04-27T13:05:02.294Z"
   },
   {
    "duration": 41,
    "start_time": "2024-04-27T13:05:02.448Z"
   },
   {
    "duration": 69,
    "start_time": "2024-04-27T13:05:02.491Z"
   },
   {
    "duration": 16,
    "start_time": "2024-04-27T13:05:02.561Z"
   },
   {
    "duration": 86,
    "start_time": "2024-04-27T13:05:02.578Z"
   },
   {
    "duration": 730,
    "start_time": "2024-04-27T13:05:02.666Z"
   },
   {
    "duration": 6,
    "start_time": "2024-04-27T13:05:03.398Z"
   },
   {
    "duration": 30,
    "start_time": "2024-04-27T13:05:03.405Z"
   },
   {
    "duration": 53,
    "start_time": "2024-04-27T13:05:03.439Z"
   },
   {
    "duration": 318,
    "start_time": "2024-04-27T13:05:03.494Z"
   },
   {
    "duration": 10,
    "start_time": "2024-04-27T13:05:03.813Z"
   },
   {
    "duration": 15,
    "start_time": "2024-04-27T13:05:03.824Z"
   },
   {
    "duration": 8,
    "start_time": "2024-04-27T13:05:03.892Z"
   },
   {
    "duration": 22,
    "start_time": "2024-04-27T13:05:03.902Z"
   },
   {
    "duration": 5,
    "start_time": "2024-04-27T13:05:03.926Z"
   },
   {
    "duration": 59,
    "start_time": "2024-04-27T13:05:03.933Z"
   },
   {
    "duration": 12,
    "start_time": "2024-04-27T13:05:03.994Z"
   },
   {
    "duration": 903,
    "start_time": "2024-04-27T13:05:04.008Z"
   },
   {
    "duration": 2618,
    "start_time": "2024-04-27T13:05:04.912Z"
   },
   {
    "duration": 5,
    "start_time": "2024-04-27T13:05:07.532Z"
   },
   {
    "duration": 20,
    "start_time": "2024-04-27T13:05:07.539Z"
   },
   {
    "duration": 9,
    "start_time": "2024-04-27T13:05:07.561Z"
   },
   {
    "duration": 20,
    "start_time": "2024-04-27T13:05:07.572Z"
   },
   {
    "duration": 4,
    "start_time": "2024-04-27T13:05:07.594Z"
   },
   {
    "duration": 16,
    "start_time": "2024-04-27T13:05:07.600Z"
   },
   {
    "duration": 15,
    "start_time": "2024-04-27T13:05:07.618Z"
   },
   {
    "duration": 16,
    "start_time": "2024-04-27T13:05:07.635Z"
   },
   {
    "duration": 4,
    "start_time": "2024-04-27T13:05:07.652Z"
   },
   {
    "duration": 9,
    "start_time": "2024-04-27T13:05:07.657Z"
   },
   {
    "duration": 14,
    "start_time": "2024-04-27T13:05:07.667Z"
   },
   {
    "duration": 8,
    "start_time": "2024-04-27T13:05:07.682Z"
   },
   {
    "duration": 9,
    "start_time": "2024-04-27T13:05:07.693Z"
   },
   {
    "duration": 9315,
    "start_time": "2024-04-27T13:05:07.704Z"
   },
   {
    "duration": 0,
    "start_time": "2024-04-27T13:05:17.021Z"
   },
   {
    "duration": 0,
    "start_time": "2024-04-27T13:05:17.023Z"
   },
   {
    "duration": 0,
    "start_time": "2024-04-27T13:05:17.024Z"
   },
   {
    "duration": 0,
    "start_time": "2024-04-27T13:05:17.025Z"
   },
   {
    "duration": 0,
    "start_time": "2024-04-27T13:05:17.026Z"
   },
   {
    "duration": 0,
    "start_time": "2024-04-27T13:05:17.027Z"
   },
   {
    "duration": 0,
    "start_time": "2024-04-27T13:05:17.029Z"
   },
   {
    "duration": 0,
    "start_time": "2024-04-27T13:05:17.030Z"
   },
   {
    "duration": 0,
    "start_time": "2024-04-27T13:05:17.031Z"
   },
   {
    "duration": 0,
    "start_time": "2024-04-27T13:05:17.033Z"
   },
   {
    "duration": 0,
    "start_time": "2024-04-27T13:05:17.034Z"
   },
   {
    "duration": 3,
    "start_time": "2024-04-27T13:10:30.716Z"
   },
   {
    "duration": 4,
    "start_time": "2024-04-27T13:10:31.239Z"
   },
   {
    "duration": 6692,
    "start_time": "2024-04-27T13:10:37.836Z"
   },
   {
    "duration": 1924,
    "start_time": "2024-04-27T13:10:44.531Z"
   },
   {
    "duration": 83,
    "start_time": "2024-04-27T13:10:46.456Z"
   },
   {
    "duration": 4,
    "start_time": "2024-04-27T13:10:46.541Z"
   },
   {
    "duration": 74,
    "start_time": "2024-04-27T13:10:46.546Z"
   },
   {
    "duration": 4,
    "start_time": "2024-04-27T13:10:46.622Z"
   },
   {
    "duration": 13,
    "start_time": "2024-04-27T13:10:46.627Z"
   },
   {
    "duration": 62,
    "start_time": "2024-04-27T13:10:46.641Z"
   },
   {
    "duration": 3,
    "start_time": "2024-04-27T13:10:46.705Z"
   },
   {
    "duration": 24,
    "start_time": "2024-04-27T13:10:46.711Z"
   },
   {
    "duration": 8,
    "start_time": "2024-04-27T13:10:46.736Z"
   },
   {
    "duration": 20,
    "start_time": "2024-04-27T13:10:46.745Z"
   },
   {
    "duration": 19,
    "start_time": "2024-04-27T13:10:46.766Z"
   },
   {
    "duration": 28,
    "start_time": "2024-04-27T13:10:46.786Z"
   },
   {
    "duration": 27,
    "start_time": "2024-04-27T13:10:46.816Z"
   },
   {
    "duration": 29,
    "start_time": "2024-04-27T13:10:46.845Z"
   },
   {
    "duration": 6551,
    "start_time": "2024-04-27T13:10:46.876Z"
   },
   {
    "duration": 6,
    "start_time": "2024-04-27T13:10:53.429Z"
   },
   {
    "duration": 23,
    "start_time": "2024-04-27T13:10:53.437Z"
   },
   {
    "duration": 103,
    "start_time": "2024-04-27T13:10:53.462Z"
   },
   {
    "duration": 5,
    "start_time": "2024-04-27T13:10:53.566Z"
   },
   {
    "duration": 44,
    "start_time": "2024-04-27T13:10:53.572Z"
   },
   {
    "duration": 27,
    "start_time": "2024-04-27T13:10:53.618Z"
   },
   {
    "duration": 40,
    "start_time": "2024-04-27T13:10:53.647Z"
   },
   {
    "duration": 456,
    "start_time": "2024-04-27T13:10:53.688Z"
   },
   {
    "duration": 7,
    "start_time": "2024-04-27T13:10:54.146Z"
   },
   {
    "duration": 40,
    "start_time": "2024-04-27T13:10:54.155Z"
   },
   {
    "duration": 25,
    "start_time": "2024-04-27T13:10:54.200Z"
   },
   {
    "duration": 170,
    "start_time": "2024-04-27T13:10:54.227Z"
   },
   {
    "duration": 10,
    "start_time": "2024-04-27T13:10:54.399Z"
   },
   {
    "duration": 96,
    "start_time": "2024-04-27T13:10:54.410Z"
   },
   {
    "duration": 20,
    "start_time": "2024-04-27T13:10:54.507Z"
   },
   {
    "duration": 41,
    "start_time": "2024-04-27T13:10:54.529Z"
   },
   {
    "duration": 5,
    "start_time": "2024-04-27T13:10:54.572Z"
   },
   {
    "duration": 30,
    "start_time": "2024-04-27T13:10:54.579Z"
   },
   {
    "duration": 19,
    "start_time": "2024-04-27T13:10:54.611Z"
   },
   {
    "duration": 880,
    "start_time": "2024-04-27T13:10:54.631Z"
   },
   {
    "duration": 2607,
    "start_time": "2024-04-27T13:10:55.512Z"
   },
   {
    "duration": 4,
    "start_time": "2024-04-27T13:10:58.121Z"
   },
   {
    "duration": 22,
    "start_time": "2024-04-27T13:10:58.127Z"
   },
   {
    "duration": 25,
    "start_time": "2024-04-27T13:10:58.151Z"
   },
   {
    "duration": 20,
    "start_time": "2024-04-27T13:10:58.177Z"
   },
   {
    "duration": 27,
    "start_time": "2024-04-27T13:10:58.199Z"
   },
   {
    "duration": 36,
    "start_time": "2024-04-27T13:10:58.228Z"
   },
   {
    "duration": 30,
    "start_time": "2024-04-27T13:10:58.266Z"
   },
   {
    "duration": 28,
    "start_time": "2024-04-27T13:10:58.297Z"
   },
   {
    "duration": 20,
    "start_time": "2024-04-27T13:10:58.326Z"
   },
   {
    "duration": 16,
    "start_time": "2024-04-27T13:10:58.348Z"
   },
   {
    "duration": 36,
    "start_time": "2024-04-27T13:10:58.366Z"
   },
   {
    "duration": 20,
    "start_time": "2024-04-27T13:10:58.404Z"
   },
   {
    "duration": 42,
    "start_time": "2024-04-27T13:10:58.426Z"
   },
   {
    "duration": 26,
    "start_time": "2024-04-27T13:10:58.470Z"
   },
   {
    "duration": 46,
    "start_time": "2024-04-27T13:10:58.497Z"
   },
   {
    "duration": 8500,
    "start_time": "2024-04-27T13:10:58.545Z"
   },
   {
    "duration": 0,
    "start_time": "2024-04-27T13:11:07.047Z"
   },
   {
    "duration": 0,
    "start_time": "2024-04-27T13:11:07.048Z"
   },
   {
    "duration": 0,
    "start_time": "2024-04-27T13:11:07.049Z"
   },
   {
    "duration": 0,
    "start_time": "2024-04-27T13:11:07.050Z"
   },
   {
    "duration": 0,
    "start_time": "2024-04-27T13:11:07.051Z"
   },
   {
    "duration": 0,
    "start_time": "2024-04-27T13:11:07.052Z"
   },
   {
    "duration": 0,
    "start_time": "2024-04-27T13:11:07.054Z"
   },
   {
    "duration": 0,
    "start_time": "2024-04-27T13:11:07.055Z"
   },
   {
    "duration": 0,
    "start_time": "2024-04-27T13:11:07.056Z"
   },
   {
    "duration": 0,
    "start_time": "2024-04-27T13:11:07.057Z"
   },
   {
    "duration": 0,
    "start_time": "2024-04-27T13:11:07.058Z"
   },
   {
    "duration": 16,
    "start_time": "2024-04-27T13:12:14.621Z"
   },
   {
    "duration": 5037,
    "start_time": "2024-04-27T13:12:56.325Z"
   },
   {
    "duration": 1965,
    "start_time": "2024-04-27T13:13:01.365Z"
   },
   {
    "duration": 84,
    "start_time": "2024-04-27T13:13:03.332Z"
   },
   {
    "duration": 3,
    "start_time": "2024-04-27T13:13:03.418Z"
   },
   {
    "duration": 117,
    "start_time": "2024-04-27T13:13:03.423Z"
   },
   {
    "duration": 4,
    "start_time": "2024-04-27T13:13:03.542Z"
   },
   {
    "duration": 37,
    "start_time": "2024-04-27T13:13:03.548Z"
   },
   {
    "duration": 38,
    "start_time": "2024-04-27T13:13:03.587Z"
   },
   {
    "duration": 4,
    "start_time": "2024-04-27T13:13:03.627Z"
   },
   {
    "duration": 60,
    "start_time": "2024-04-27T13:13:03.634Z"
   },
   {
    "duration": 4,
    "start_time": "2024-04-27T13:13:03.696Z"
   },
   {
    "duration": 9,
    "start_time": "2024-04-27T13:13:03.702Z"
   },
   {
    "duration": 13,
    "start_time": "2024-04-27T13:13:03.712Z"
   },
   {
    "duration": 63,
    "start_time": "2024-04-27T13:13:03.726Z"
   },
   {
    "duration": 19,
    "start_time": "2024-04-27T13:13:03.791Z"
   },
   {
    "duration": 30,
    "start_time": "2024-04-27T13:13:03.812Z"
   },
   {
    "duration": 7246,
    "start_time": "2024-04-27T13:13:03.843Z"
   },
   {
    "duration": 7,
    "start_time": "2024-04-27T13:13:11.092Z"
   },
   {
    "duration": 16,
    "start_time": "2024-04-27T13:13:11.100Z"
   },
   {
    "duration": 102,
    "start_time": "2024-04-27T13:13:11.117Z"
   },
   {
    "duration": 5,
    "start_time": "2024-04-27T13:13:11.221Z"
   },
   {
    "duration": 15,
    "start_time": "2024-04-27T13:13:11.228Z"
   },
   {
    "duration": 14,
    "start_time": "2024-04-27T13:13:11.245Z"
   },
   {
    "duration": 37,
    "start_time": "2024-04-27T13:13:11.260Z"
   },
   {
    "duration": 388,
    "start_time": "2024-04-27T13:13:11.299Z"
   },
   {
    "duration": 6,
    "start_time": "2024-04-27T13:13:11.691Z"
   },
   {
    "duration": 14,
    "start_time": "2024-04-27T13:13:11.698Z"
   },
   {
    "duration": 8,
    "start_time": "2024-04-27T13:13:11.715Z"
   },
   {
    "duration": 173,
    "start_time": "2024-04-27T13:13:11.725Z"
   },
   {
    "duration": 10,
    "start_time": "2024-04-27T13:13:11.900Z"
   },
   {
    "duration": 32,
    "start_time": "2024-04-27T13:13:11.912Z"
   },
   {
    "duration": 7,
    "start_time": "2024-04-27T13:13:11.945Z"
   },
   {
    "duration": 27,
    "start_time": "2024-04-27T13:13:11.954Z"
   },
   {
    "duration": 10,
    "start_time": "2024-04-27T13:13:11.983Z"
   },
   {
    "duration": 12,
    "start_time": "2024-04-27T13:13:11.995Z"
   },
   {
    "duration": 5,
    "start_time": "2024-04-27T13:13:12.009Z"
   },
   {
    "duration": 874,
    "start_time": "2024-04-27T13:13:12.016Z"
   },
   {
    "duration": 3393,
    "start_time": "2024-04-27T13:13:12.892Z"
   },
   {
    "duration": 5,
    "start_time": "2024-04-27T13:13:16.291Z"
   },
   {
    "duration": 18,
    "start_time": "2024-04-27T13:13:16.298Z"
   },
   {
    "duration": 20,
    "start_time": "2024-04-27T13:13:16.318Z"
   },
   {
    "duration": 34,
    "start_time": "2024-04-27T13:13:16.340Z"
   },
   {
    "duration": 23,
    "start_time": "2024-04-27T13:13:16.375Z"
   },
   {
    "duration": 23,
    "start_time": "2024-04-27T13:13:16.399Z"
   },
   {
    "duration": 13,
    "start_time": "2024-04-27T13:13:16.424Z"
   },
   {
    "duration": 6,
    "start_time": "2024-04-27T13:13:16.439Z"
   },
   {
    "duration": 9,
    "start_time": "2024-04-27T13:13:16.446Z"
   },
   {
    "duration": 6,
    "start_time": "2024-04-27T13:13:16.456Z"
   },
   {
    "duration": 22,
    "start_time": "2024-04-27T13:13:16.464Z"
   },
   {
    "duration": 23,
    "start_time": "2024-04-27T13:13:16.487Z"
   },
   {
    "duration": 12,
    "start_time": "2024-04-27T13:13:16.511Z"
   },
   {
    "duration": 18,
    "start_time": "2024-04-27T13:13:16.525Z"
   },
   {
    "duration": 8,
    "start_time": "2024-04-27T13:13:16.544Z"
   },
   {
    "duration": 9113,
    "start_time": "2024-04-27T13:13:16.553Z"
   },
   {
    "duration": 0,
    "start_time": "2024-04-27T13:13:25.667Z"
   },
   {
    "duration": 0,
    "start_time": "2024-04-27T13:13:25.668Z"
   },
   {
    "duration": 0,
    "start_time": "2024-04-27T13:13:25.669Z"
   },
   {
    "duration": 0,
    "start_time": "2024-04-27T13:13:25.670Z"
   },
   {
    "duration": 0,
    "start_time": "2024-04-27T13:13:25.671Z"
   },
   {
    "duration": 0,
    "start_time": "2024-04-27T13:13:25.672Z"
   },
   {
    "duration": 0,
    "start_time": "2024-04-27T13:13:25.673Z"
   },
   {
    "duration": 0,
    "start_time": "2024-04-27T13:13:25.674Z"
   },
   {
    "duration": 0,
    "start_time": "2024-04-27T13:13:25.675Z"
   },
   {
    "duration": 0,
    "start_time": "2024-04-27T13:13:25.676Z"
   },
   {
    "duration": 0,
    "start_time": "2024-04-27T13:13:25.677Z"
   },
   {
    "duration": 15,
    "start_time": "2024-04-27T13:13:58.686Z"
   },
   {
    "duration": 3,
    "start_time": "2024-04-27T13:14:25.417Z"
   },
   {
    "duration": 10,
    "start_time": "2024-04-27T13:14:31.513Z"
   },
   {
    "duration": 3,
    "start_time": "2024-04-27T13:14:31.953Z"
   },
   {
    "duration": 3,
    "start_time": "2024-04-27T13:14:50.328Z"
   },
   {
    "duration": 4,
    "start_time": "2024-04-27T13:14:51.653Z"
   },
   {
    "duration": 5,
    "start_time": "2024-04-27T13:14:55.429Z"
   },
   {
    "duration": 4,
    "start_time": "2024-04-27T13:15:23.725Z"
   },
   {
    "duration": 4,
    "start_time": "2024-04-27T13:15:28.961Z"
   },
   {
    "duration": 4,
    "start_time": "2024-04-27T13:20:51.390Z"
   },
   {
    "duration": 5,
    "start_time": "2024-04-27T13:20:51.897Z"
   },
   {
    "duration": 4,
    "start_time": "2024-04-27T13:20:52.714Z"
   },
   {
    "duration": 4,
    "start_time": "2024-04-27T13:20:58.801Z"
   },
   {
    "duration": 3,
    "start_time": "2024-04-27T13:21:07.243Z"
   },
   {
    "duration": 5,
    "start_time": "2024-04-27T13:21:16.185Z"
   },
   {
    "duration": 24,
    "start_time": "2024-04-27T13:22:49.905Z"
   },
   {
    "duration": 5202,
    "start_time": "2024-04-27T13:24:11.028Z"
   },
   {
    "duration": 1911,
    "start_time": "2024-04-27T13:24:16.232Z"
   },
   {
    "duration": 84,
    "start_time": "2024-04-27T13:24:18.145Z"
   },
   {
    "duration": 4,
    "start_time": "2024-04-27T13:24:18.232Z"
   },
   {
    "duration": 78,
    "start_time": "2024-04-27T13:24:18.237Z"
   },
   {
    "duration": 4,
    "start_time": "2024-04-27T13:24:18.316Z"
   },
   {
    "duration": 38,
    "start_time": "2024-04-27T13:24:18.322Z"
   },
   {
    "duration": 41,
    "start_time": "2024-04-27T13:24:18.362Z"
   },
   {
    "duration": 3,
    "start_time": "2024-04-27T13:24:18.404Z"
   },
   {
    "duration": 21,
    "start_time": "2024-04-27T13:24:18.410Z"
   },
   {
    "duration": 3,
    "start_time": "2024-04-27T13:24:18.433Z"
   },
   {
    "duration": 9,
    "start_time": "2024-04-27T13:24:18.438Z"
   },
   {
    "duration": 34,
    "start_time": "2024-04-27T13:24:18.448Z"
   },
   {
    "duration": 20,
    "start_time": "2024-04-27T13:24:18.484Z"
   },
   {
    "duration": 10,
    "start_time": "2024-04-27T13:24:18.505Z"
   },
   {
    "duration": 16,
    "start_time": "2024-04-27T13:24:18.516Z"
   },
   {
    "duration": 7089,
    "start_time": "2024-04-27T13:24:18.533Z"
   },
   {
    "duration": 7,
    "start_time": "2024-04-27T13:24:25.623Z"
   },
   {
    "duration": 61,
    "start_time": "2024-04-27T13:24:25.631Z"
   },
   {
    "duration": 215,
    "start_time": "2024-04-27T13:24:25.694Z"
   },
   {
    "duration": 4,
    "start_time": "2024-04-27T13:24:25.911Z"
   },
   {
    "duration": 49,
    "start_time": "2024-04-27T13:24:25.917Z"
   },
   {
    "duration": 41,
    "start_time": "2024-04-27T13:24:25.967Z"
   },
   {
    "duration": 25,
    "start_time": "2024-04-27T13:24:26.009Z"
   },
   {
    "duration": 419,
    "start_time": "2024-04-27T13:24:26.036Z"
   },
   {
    "duration": 7,
    "start_time": "2024-04-27T13:24:26.456Z"
   },
   {
    "duration": 14,
    "start_time": "2024-04-27T13:24:26.464Z"
   },
   {
    "duration": 38,
    "start_time": "2024-04-27T13:24:26.491Z"
   },
   {
    "duration": 172,
    "start_time": "2024-04-27T13:24:26.531Z"
   },
   {
    "duration": 11,
    "start_time": "2024-04-27T13:24:26.704Z"
   },
   {
    "duration": 17,
    "start_time": "2024-04-27T13:24:26.717Z"
   },
   {
    "duration": 24,
    "start_time": "2024-04-27T13:24:26.736Z"
   },
   {
    "duration": 32,
    "start_time": "2024-04-27T13:24:26.762Z"
   },
   {
    "duration": 5,
    "start_time": "2024-04-27T13:24:26.796Z"
   },
   {
    "duration": 28,
    "start_time": "2024-04-27T13:24:26.803Z"
   },
   {
    "duration": 6,
    "start_time": "2024-04-27T13:24:26.833Z"
   },
   {
    "duration": 798,
    "start_time": "2024-04-27T13:24:26.840Z"
   },
   {
    "duration": 2715,
    "start_time": "2024-04-27T13:24:27.640Z"
   },
   {
    "duration": 5,
    "start_time": "2024-04-27T13:24:30.356Z"
   },
   {
    "duration": 103,
    "start_time": "2024-04-27T13:24:30.363Z"
   },
   {
    "duration": 30,
    "start_time": "2024-04-27T13:24:30.468Z"
   },
   {
    "duration": 79,
    "start_time": "2024-04-27T13:24:30.499Z"
   },
   {
    "duration": 64,
    "start_time": "2024-04-27T13:24:30.580Z"
   },
   {
    "duration": 50,
    "start_time": "2024-04-27T13:24:30.645Z"
   },
   {
    "duration": 104,
    "start_time": "2024-04-27T13:24:30.696Z"
   },
   {
    "duration": 158,
    "start_time": "2024-04-27T13:24:30.802Z"
   },
   {
    "duration": 31,
    "start_time": "2024-04-27T13:24:30.962Z"
   },
   {
    "duration": 42,
    "start_time": "2024-04-27T13:24:30.995Z"
   },
   {
    "duration": 31,
    "start_time": "2024-04-27T13:24:31.039Z"
   },
   {
    "duration": 50,
    "start_time": "2024-04-27T13:24:31.072Z"
   },
   {
    "duration": 113,
    "start_time": "2024-04-27T13:24:31.124Z"
   },
   {
    "duration": 47,
    "start_time": "2024-04-27T13:24:31.239Z"
   },
   {
    "duration": 66,
    "start_time": "2024-04-27T13:24:31.287Z"
   },
   {
    "duration": 27,
    "start_time": "2024-04-27T13:24:31.355Z"
   },
   {
    "duration": 69,
    "start_time": "2024-04-27T13:24:31.384Z"
   },
   {
    "duration": 2259,
    "start_time": "2024-04-27T13:24:31.455Z"
   },
   {
    "duration": 0,
    "start_time": "2024-04-27T13:24:33.715Z"
   },
   {
    "duration": 0,
    "start_time": "2024-04-27T13:24:33.717Z"
   },
   {
    "duration": 0,
    "start_time": "2024-04-27T13:24:33.718Z"
   },
   {
    "duration": 0,
    "start_time": "2024-04-27T13:24:33.719Z"
   },
   {
    "duration": 0,
    "start_time": "2024-04-27T13:24:33.721Z"
   },
   {
    "duration": 0,
    "start_time": "2024-04-27T13:24:33.722Z"
   },
   {
    "duration": 0,
    "start_time": "2024-04-27T13:24:33.723Z"
   },
   {
    "duration": 0,
    "start_time": "2024-04-27T13:24:33.724Z"
   },
   {
    "duration": 0,
    "start_time": "2024-04-27T13:24:33.725Z"
   },
   {
    "duration": 0,
    "start_time": "2024-04-27T13:24:33.726Z"
   },
   {
    "duration": 0,
    "start_time": "2024-04-27T13:24:33.728Z"
   },
   {
    "duration": 7,
    "start_time": "2024-04-27T13:25:56.559Z"
   },
   {
    "duration": 3,
    "start_time": "2024-04-27T13:25:57.898Z"
   },
   {
    "duration": 4,
    "start_time": "2024-04-27T13:25:58.304Z"
   },
   {
    "duration": 4,
    "start_time": "2024-04-27T13:25:58.582Z"
   },
   {
    "duration": 10,
    "start_time": "2024-04-27T13:25:58.903Z"
   },
   {
    "duration": 4,
    "start_time": "2024-04-27T13:25:59.270Z"
   },
   {
    "duration": 5259,
    "start_time": "2024-04-27T13:26:10.132Z"
   },
   {
    "duration": 2300,
    "start_time": "2024-04-27T13:26:15.394Z"
   },
   {
    "duration": 84,
    "start_time": "2024-04-27T13:26:17.695Z"
   },
   {
    "duration": 4,
    "start_time": "2024-04-27T13:26:17.781Z"
   },
   {
    "duration": 84,
    "start_time": "2024-04-27T13:26:17.787Z"
   },
   {
    "duration": 21,
    "start_time": "2024-04-27T13:26:17.873Z"
   },
   {
    "duration": 45,
    "start_time": "2024-04-27T13:26:17.896Z"
   },
   {
    "duration": 80,
    "start_time": "2024-04-27T13:26:17.942Z"
   },
   {
    "duration": 3,
    "start_time": "2024-04-27T13:26:18.024Z"
   },
   {
    "duration": 32,
    "start_time": "2024-04-27T13:26:18.030Z"
   },
   {
    "duration": 11,
    "start_time": "2024-04-27T13:26:18.064Z"
   },
   {
    "duration": 20,
    "start_time": "2024-04-27T13:26:18.076Z"
   },
   {
    "duration": 19,
    "start_time": "2024-04-27T13:26:18.098Z"
   },
   {
    "duration": 38,
    "start_time": "2024-04-27T13:26:18.118Z"
   },
   {
    "duration": 11,
    "start_time": "2024-04-27T13:26:18.158Z"
   },
   {
    "duration": 28,
    "start_time": "2024-04-27T13:26:18.170Z"
   },
   {
    "duration": 6943,
    "start_time": "2024-04-27T13:26:18.200Z"
   },
   {
    "duration": 6,
    "start_time": "2024-04-27T13:26:25.145Z"
   },
   {
    "duration": 13,
    "start_time": "2024-04-27T13:26:25.153Z"
   },
   {
    "duration": 85,
    "start_time": "2024-04-27T13:26:25.168Z"
   },
   {
    "duration": 4,
    "start_time": "2024-04-27T13:26:25.255Z"
   },
   {
    "duration": 39,
    "start_time": "2024-04-27T13:26:25.261Z"
   },
   {
    "duration": 51,
    "start_time": "2024-04-27T13:26:25.302Z"
   },
   {
    "duration": 43,
    "start_time": "2024-04-27T13:26:25.355Z"
   },
   {
    "duration": 407,
    "start_time": "2024-04-27T13:26:25.400Z"
   },
   {
    "duration": 6,
    "start_time": "2024-04-27T13:26:25.809Z"
   },
   {
    "duration": 27,
    "start_time": "2024-04-27T13:26:25.817Z"
   },
   {
    "duration": 14,
    "start_time": "2024-04-27T13:26:25.849Z"
   },
   {
    "duration": 172,
    "start_time": "2024-04-27T13:26:25.865Z"
   },
   {
    "duration": 15,
    "start_time": "2024-04-27T13:26:26.039Z"
   },
   {
    "duration": 34,
    "start_time": "2024-04-27T13:26:26.056Z"
   },
   {
    "duration": 11,
    "start_time": "2024-04-27T13:26:26.093Z"
   },
   {
    "duration": 69,
    "start_time": "2024-04-27T13:26:26.106Z"
   },
   {
    "duration": 4,
    "start_time": "2024-04-27T13:26:26.176Z"
   },
   {
    "duration": 55,
    "start_time": "2024-04-27T13:26:26.181Z"
   },
   {
    "duration": 20,
    "start_time": "2024-04-27T13:26:26.238Z"
   },
   {
    "duration": 849,
    "start_time": "2024-04-27T13:26:26.260Z"
   },
   {
    "duration": 2655,
    "start_time": "2024-04-27T13:26:27.111Z"
   },
   {
    "duration": 5,
    "start_time": "2024-04-27T13:26:29.768Z"
   },
   {
    "duration": 59,
    "start_time": "2024-04-27T13:26:29.775Z"
   },
   {
    "duration": 31,
    "start_time": "2024-04-27T13:26:29.836Z"
   },
   {
    "duration": 20,
    "start_time": "2024-04-27T13:26:29.870Z"
   },
   {
    "duration": 31,
    "start_time": "2024-04-27T13:26:29.892Z"
   },
   {
    "duration": 47,
    "start_time": "2024-04-27T13:26:29.926Z"
   },
   {
    "duration": 28,
    "start_time": "2024-04-27T13:26:29.974Z"
   },
   {
    "duration": 83,
    "start_time": "2024-04-27T13:26:30.004Z"
   },
   {
    "duration": 110,
    "start_time": "2024-04-27T13:26:30.089Z"
   },
   {
    "duration": 177,
    "start_time": "2024-04-27T13:26:30.202Z"
   },
   {
    "duration": 120,
    "start_time": "2024-04-27T13:26:30.381Z"
   },
   {
    "duration": 97,
    "start_time": "2024-04-27T13:26:30.503Z"
   },
   {
    "duration": 59,
    "start_time": "2024-04-27T13:26:30.602Z"
   },
   {
    "duration": 38,
    "start_time": "2024-04-27T13:26:30.663Z"
   },
   {
    "duration": 46,
    "start_time": "2024-04-27T13:26:30.703Z"
   },
   {
    "duration": 70,
    "start_time": "2024-04-27T13:26:30.751Z"
   },
   {
    "duration": 34,
    "start_time": "2024-04-27T13:26:30.823Z"
   },
   {
    "duration": 2300,
    "start_time": "2024-04-27T13:26:30.859Z"
   },
   {
    "duration": 0,
    "start_time": "2024-04-27T13:26:33.161Z"
   },
   {
    "duration": 0,
    "start_time": "2024-04-27T13:26:33.163Z"
   },
   {
    "duration": 0,
    "start_time": "2024-04-27T13:26:33.165Z"
   },
   {
    "duration": 0,
    "start_time": "2024-04-27T13:26:33.166Z"
   },
   {
    "duration": 0,
    "start_time": "2024-04-27T13:26:33.167Z"
   },
   {
    "duration": 0,
    "start_time": "2024-04-27T13:26:33.168Z"
   },
   {
    "duration": 0,
    "start_time": "2024-04-27T13:26:33.169Z"
   },
   {
    "duration": 0,
    "start_time": "2024-04-27T13:26:33.170Z"
   },
   {
    "duration": 0,
    "start_time": "2024-04-27T13:26:33.191Z"
   },
   {
    "duration": 0,
    "start_time": "2024-04-27T13:26:33.193Z"
   },
   {
    "duration": 0,
    "start_time": "2024-04-27T13:26:33.194Z"
   },
   {
    "duration": 26,
    "start_time": "2024-04-27T13:27:20.068Z"
   },
   {
    "duration": 7,
    "start_time": "2024-04-27T13:28:58.353Z"
   },
   {
    "duration": 1755,
    "start_time": "2024-04-27T13:28:59.925Z"
   },
   {
    "duration": 5207,
    "start_time": "2024-04-27T13:29:12.632Z"
   },
   {
    "duration": 1883,
    "start_time": "2024-04-27T13:29:17.841Z"
   },
   {
    "duration": 84,
    "start_time": "2024-04-27T13:29:19.726Z"
   },
   {
    "duration": 4,
    "start_time": "2024-04-27T13:29:19.812Z"
   },
   {
    "duration": 84,
    "start_time": "2024-04-27T13:29:19.818Z"
   },
   {
    "duration": 4,
    "start_time": "2024-04-27T13:29:19.904Z"
   },
   {
    "duration": 22,
    "start_time": "2024-04-27T13:29:19.909Z"
   },
   {
    "duration": 62,
    "start_time": "2024-04-27T13:29:19.932Z"
   },
   {
    "duration": 5,
    "start_time": "2024-04-27T13:29:19.996Z"
   },
   {
    "duration": 54,
    "start_time": "2024-04-27T13:29:20.004Z"
   },
   {
    "duration": 33,
    "start_time": "2024-04-27T13:29:20.060Z"
   },
   {
    "duration": 24,
    "start_time": "2024-04-27T13:29:20.094Z"
   },
   {
    "duration": 34,
    "start_time": "2024-04-27T13:29:20.119Z"
   },
   {
    "duration": 28,
    "start_time": "2024-04-27T13:29:20.154Z"
   },
   {
    "duration": 16,
    "start_time": "2024-04-27T13:29:20.184Z"
   },
   {
    "duration": 16,
    "start_time": "2024-04-27T13:29:20.202Z"
   },
   {
    "duration": 6678,
    "start_time": "2024-04-27T13:29:20.219Z"
   },
   {
    "duration": 8,
    "start_time": "2024-04-27T13:29:26.899Z"
   },
   {
    "duration": 17,
    "start_time": "2024-04-27T13:29:26.909Z"
   },
   {
    "duration": 98,
    "start_time": "2024-04-27T13:29:26.928Z"
   },
   {
    "duration": 5,
    "start_time": "2024-04-27T13:29:27.027Z"
   },
   {
    "duration": 16,
    "start_time": "2024-04-27T13:29:27.033Z"
   },
   {
    "duration": 31,
    "start_time": "2024-04-27T13:29:27.051Z"
   },
   {
    "duration": 18,
    "start_time": "2024-04-27T13:29:27.084Z"
   },
   {
    "duration": 387,
    "start_time": "2024-04-27T13:29:27.104Z"
   },
   {
    "duration": 7,
    "start_time": "2024-04-27T13:29:27.493Z"
   },
   {
    "duration": 81,
    "start_time": "2024-04-27T13:29:27.502Z"
   },
   {
    "duration": 11,
    "start_time": "2024-04-27T13:29:27.588Z"
   },
   {
    "duration": 172,
    "start_time": "2024-04-27T13:29:27.602Z"
   },
   {
    "duration": 17,
    "start_time": "2024-04-27T13:29:27.775Z"
   },
   {
    "duration": 18,
    "start_time": "2024-04-27T13:29:27.794Z"
   },
   {
    "duration": 27,
    "start_time": "2024-04-27T13:29:27.814Z"
   },
   {
    "duration": 21,
    "start_time": "2024-04-27T13:29:27.843Z"
   },
   {
    "duration": 4,
    "start_time": "2024-04-27T13:29:27.865Z"
   },
   {
    "duration": 5,
    "start_time": "2024-04-27T13:29:27.870Z"
   },
   {
    "duration": 4,
    "start_time": "2024-04-27T13:29:27.891Z"
   },
   {
    "duration": 844,
    "start_time": "2024-04-27T13:29:27.897Z"
   },
   {
    "duration": 2734,
    "start_time": "2024-04-27T13:29:28.743Z"
   },
   {
    "duration": 13,
    "start_time": "2024-04-27T13:29:31.478Z"
   },
   {
    "duration": 53,
    "start_time": "2024-04-27T13:29:31.493Z"
   },
   {
    "duration": 34,
    "start_time": "2024-04-27T13:29:31.547Z"
   },
   {
    "duration": 57,
    "start_time": "2024-04-27T13:29:31.582Z"
   },
   {
    "duration": 99,
    "start_time": "2024-04-27T13:29:31.641Z"
   },
   {
    "duration": 58,
    "start_time": "2024-04-27T13:29:31.742Z"
   },
   {
    "duration": 52,
    "start_time": "2024-04-27T13:29:31.801Z"
   },
   {
    "duration": 24,
    "start_time": "2024-04-27T13:29:31.855Z"
   },
   {
    "duration": 53,
    "start_time": "2024-04-27T13:29:31.881Z"
   },
   {
    "duration": 60,
    "start_time": "2024-04-27T13:29:31.936Z"
   },
   {
    "duration": 57,
    "start_time": "2024-04-27T13:29:31.998Z"
   },
   {
    "duration": 72,
    "start_time": "2024-04-27T13:29:32.057Z"
   },
   {
    "duration": 42,
    "start_time": "2024-04-27T13:29:32.131Z"
   },
   {
    "duration": 14,
    "start_time": "2024-04-27T13:29:32.175Z"
   },
   {
    "duration": 8,
    "start_time": "2024-04-27T13:29:32.191Z"
   },
   {
    "duration": 7,
    "start_time": "2024-04-27T13:29:32.202Z"
   },
   {
    "duration": 6,
    "start_time": "2024-04-27T13:29:32.211Z"
   },
   {
    "duration": 6,
    "start_time": "2024-04-27T13:29:32.219Z"
   },
   {
    "duration": 2122,
    "start_time": "2024-04-27T13:29:32.227Z"
   },
   {
    "duration": 14,
    "start_time": "2024-04-27T13:29:34.351Z"
   },
   {
    "duration": 155,
    "start_time": "2024-04-27T13:29:34.367Z"
   },
   {
    "duration": 0,
    "start_time": "2024-04-27T13:29:34.524Z"
   },
   {
    "duration": 0,
    "start_time": "2024-04-27T13:29:34.525Z"
   },
   {
    "duration": 0,
    "start_time": "2024-04-27T13:29:34.527Z"
   },
   {
    "duration": 0,
    "start_time": "2024-04-27T13:29:34.528Z"
   },
   {
    "duration": 0,
    "start_time": "2024-04-27T13:29:34.529Z"
   },
   {
    "duration": 0,
    "start_time": "2024-04-27T13:29:34.531Z"
   },
   {
    "duration": 0,
    "start_time": "2024-04-27T13:29:34.532Z"
   },
   {
    "duration": 0,
    "start_time": "2024-04-27T13:29:34.533Z"
   },
   {
    "duration": 0,
    "start_time": "2024-04-27T13:29:34.534Z"
   },
   {
    "duration": 77,
    "start_time": "2024-04-27T13:33:18.296Z"
   },
   {
    "duration": 146,
    "start_time": "2024-04-27T13:33:59.237Z"
   },
   {
    "duration": 5,
    "start_time": "2024-04-27T13:34:05.261Z"
   },
   {
    "duration": 2056,
    "start_time": "2024-04-27T13:34:08.169Z"
   },
   {
    "duration": 6,
    "start_time": "2024-04-27T13:34:32.733Z"
   },
   {
    "duration": 7,
    "start_time": "2024-04-27T13:34:45.057Z"
   },
   {
    "duration": 2011,
    "start_time": "2024-04-27T13:34:46.840Z"
   },
   {
    "duration": 4,
    "start_time": "2024-04-27T13:38:42.072Z"
   },
   {
    "duration": 3,
    "start_time": "2024-04-27T13:38:43.861Z"
   },
   {
    "duration": 4,
    "start_time": "2024-04-27T13:38:44.389Z"
   },
   {
    "duration": 4,
    "start_time": "2024-04-27T13:38:45.301Z"
   },
   {
    "duration": 3,
    "start_time": "2024-04-27T13:38:46.101Z"
   },
   {
    "duration": 5,
    "start_time": "2024-04-27T13:38:47.426Z"
   },
   {
    "duration": 8111,
    "start_time": "2024-04-27T13:38:48.853Z"
   },
   {
    "duration": 4,
    "start_time": "2024-04-27T13:39:49.565Z"
   },
   {
    "duration": 7,
    "start_time": "2024-04-27T13:40:40.945Z"
   },
   {
    "duration": 23,
    "start_time": "2024-04-27T13:40:43.757Z"
   },
   {
    "duration": 2,
    "start_time": "2024-04-27T13:40:46.645Z"
   },
   {
    "duration": 4,
    "start_time": "2024-04-27T13:40:47.437Z"
   },
   {
    "duration": 4,
    "start_time": "2024-04-27T13:40:48.461Z"
   },
   {
    "duration": 10,
    "start_time": "2024-04-27T13:40:49.117Z"
   },
   {
    "duration": 4,
    "start_time": "2024-04-27T13:41:00.785Z"
   },
   {
    "duration": 3,
    "start_time": "2024-04-27T13:41:03.353Z"
   },
   {
    "duration": 4,
    "start_time": "2024-04-27T13:41:05.098Z"
   },
   {
    "duration": 4,
    "start_time": "2024-04-27T13:41:11.333Z"
   },
   {
    "duration": 4,
    "start_time": "2024-04-27T13:41:13.973Z"
   },
   {
    "duration": 3,
    "start_time": "2024-04-27T13:41:14.706Z"
   },
   {
    "duration": 5,
    "start_time": "2024-04-27T13:41:15.738Z"
   },
   {
    "duration": 1967,
    "start_time": "2024-04-27T13:41:18.348Z"
   },
   {
    "duration": 6,
    "start_time": "2024-04-27T13:58:52.859Z"
   },
   {
    "duration": 5,
    "start_time": "2024-04-27T13:59:28.373Z"
   },
   {
    "duration": 15,
    "start_time": "2024-04-27T14:00:08.808Z"
   },
   {
    "duration": 41,
    "start_time": "2024-04-27T14:10:05.082Z"
   },
   {
    "duration": 3,
    "start_time": "2024-04-27T14:18:43.003Z"
   },
   {
    "duration": 40,
    "start_time": "2024-04-27T14:18:43.765Z"
   },
   {
    "duration": 4,
    "start_time": "2024-04-27T14:18:46.776Z"
   },
   {
    "duration": 4,
    "start_time": "2024-04-27T14:18:47.381Z"
   },
   {
    "duration": 6,
    "start_time": "2024-04-27T14:21:34.666Z"
   },
   {
    "duration": 4,
    "start_time": "2024-04-27T14:21:35.262Z"
   },
   {
    "duration": 3,
    "start_time": "2024-04-27T14:21:37.312Z"
   },
   {
    "duration": 6,
    "start_time": "2024-04-27T14:21:39.197Z"
   },
   {
    "duration": 739,
    "start_time": "2024-04-27T14:21:41.613Z"
   },
   {
    "duration": 4,
    "start_time": "2024-04-27T14:22:32.341Z"
   },
   {
    "duration": 37,
    "start_time": "2024-04-27T14:22:33.301Z"
   },
   {
    "duration": 4,
    "start_time": "2024-04-27T14:22:38.001Z"
   },
   {
    "duration": 4,
    "start_time": "2024-04-27T14:22:39.285Z"
   },
   {
    "duration": 3,
    "start_time": "2024-04-27T14:22:39.789Z"
   },
   {
    "duration": 3,
    "start_time": "2024-04-27T14:22:40.397Z"
   },
   {
    "duration": 5,
    "start_time": "2024-04-27T14:22:41.558Z"
   },
   {
    "duration": 711,
    "start_time": "2024-04-27T14:22:43.788Z"
   },
   {
    "duration": 4,
    "start_time": "2024-04-27T14:23:47.306Z"
   },
   {
    "duration": 41,
    "start_time": "2024-04-27T14:23:47.841Z"
   },
   {
    "duration": 3,
    "start_time": "2024-04-27T14:23:48.726Z"
   },
   {
    "duration": 4,
    "start_time": "2024-04-27T14:23:49.189Z"
   },
   {
    "duration": 5,
    "start_time": "2024-04-27T14:23:49.909Z"
   },
   {
    "duration": 3,
    "start_time": "2024-04-27T14:23:50.741Z"
   },
   {
    "duration": 5,
    "start_time": "2024-04-27T14:23:52.173Z"
   },
   {
    "duration": 662,
    "start_time": "2024-04-27T14:23:53.285Z"
   },
   {
    "duration": 4,
    "start_time": "2024-04-27T14:24:27.534Z"
   },
   {
    "duration": 3,
    "start_time": "2024-04-27T14:24:28.178Z"
   },
   {
    "duration": 3,
    "start_time": "2024-04-27T14:24:28.677Z"
   },
   {
    "duration": 5,
    "start_time": "2024-04-27T14:24:29.473Z"
   },
   {
    "duration": 715,
    "start_time": "2024-04-27T14:24:30.905Z"
   },
   {
    "duration": 5885,
    "start_time": "2024-04-27T14:24:45.108Z"
   },
   {
    "duration": 2354,
    "start_time": "2024-04-27T14:24:50.995Z"
   },
   {
    "duration": 89,
    "start_time": "2024-04-27T14:24:53.350Z"
   },
   {
    "duration": 4,
    "start_time": "2024-04-27T14:24:53.441Z"
   },
   {
    "duration": 101,
    "start_time": "2024-04-27T14:24:53.447Z"
   },
   {
    "duration": 4,
    "start_time": "2024-04-27T14:24:53.549Z"
   },
   {
    "duration": 39,
    "start_time": "2024-04-27T14:24:53.555Z"
   },
   {
    "duration": 50,
    "start_time": "2024-04-27T14:24:53.596Z"
   },
   {
    "duration": 3,
    "start_time": "2024-04-27T14:24:53.648Z"
   },
   {
    "duration": 20,
    "start_time": "2024-04-27T14:24:53.654Z"
   },
   {
    "duration": 84,
    "start_time": "2024-04-27T14:24:53.692Z"
   },
   {
    "duration": 13,
    "start_time": "2024-04-27T14:24:53.777Z"
   },
   {
    "duration": 16,
    "start_time": "2024-04-27T14:24:53.792Z"
   },
   {
    "duration": 19,
    "start_time": "2024-04-27T14:24:53.809Z"
   },
   {
    "duration": 10,
    "start_time": "2024-04-27T14:24:53.829Z"
   },
   {
    "duration": 13,
    "start_time": "2024-04-27T14:24:53.840Z"
   },
   {
    "duration": 6694,
    "start_time": "2024-04-27T14:24:53.855Z"
   },
   {
    "duration": 7,
    "start_time": "2024-04-27T14:25:00.551Z"
   },
   {
    "duration": 88,
    "start_time": "2024-04-27T14:25:00.560Z"
   },
   {
    "duration": 179,
    "start_time": "2024-04-27T14:25:00.649Z"
   },
   {
    "duration": 111,
    "start_time": "2024-04-27T14:25:00.829Z"
   },
   {
    "duration": 179,
    "start_time": "2024-04-27T14:25:00.941Z"
   },
   {
    "duration": 154,
    "start_time": "2024-04-27T14:25:01.122Z"
   },
   {
    "duration": 195,
    "start_time": "2024-04-27T14:25:01.278Z"
   },
   {
    "duration": 697,
    "start_time": "2024-04-27T14:25:01.475Z"
   },
   {
    "duration": 6,
    "start_time": "2024-04-27T14:25:02.173Z"
   },
   {
    "duration": 388,
    "start_time": "2024-04-27T14:25:02.181Z"
   },
   {
    "duration": 120,
    "start_time": "2024-04-27T14:25:02.573Z"
   },
   {
    "duration": 372,
    "start_time": "2024-04-27T14:25:02.695Z"
   },
   {
    "duration": 11,
    "start_time": "2024-04-27T14:25:03.069Z"
   },
   {
    "duration": 79,
    "start_time": "2024-04-27T14:25:03.092Z"
   },
   {
    "duration": 42,
    "start_time": "2024-04-27T14:25:03.172Z"
   },
   {
    "duration": 152,
    "start_time": "2024-04-27T14:25:03.216Z"
   },
   {
    "duration": 5,
    "start_time": "2024-04-27T14:25:03.369Z"
   },
   {
    "duration": 31,
    "start_time": "2024-04-27T14:25:03.376Z"
   },
   {
    "duration": 55,
    "start_time": "2024-04-27T14:25:03.408Z"
   },
   {
    "duration": 895,
    "start_time": "2024-04-27T14:25:03.465Z"
   },
   {
    "duration": 4748,
    "start_time": "2024-04-27T14:25:04.361Z"
   },
   {
    "duration": 6,
    "start_time": "2024-04-27T14:25:09.111Z"
   },
   {
    "duration": 10,
    "start_time": "2024-04-27T14:25:09.118Z"
   },
   {
    "duration": 61,
    "start_time": "2024-04-27T14:25:09.130Z"
   },
   {
    "duration": 5,
    "start_time": "2024-04-27T14:25:09.193Z"
   },
   {
    "duration": 22,
    "start_time": "2024-04-27T14:25:09.199Z"
   },
   {
    "duration": 25,
    "start_time": "2024-04-27T14:25:09.223Z"
   },
   {
    "duration": 53,
    "start_time": "2024-04-27T14:25:09.249Z"
   },
   {
    "duration": 27,
    "start_time": "2024-04-27T14:25:09.304Z"
   },
   {
    "duration": 19,
    "start_time": "2024-04-27T14:25:09.332Z"
   },
   {
    "duration": 76,
    "start_time": "2024-04-27T14:25:09.352Z"
   },
   {
    "duration": 3,
    "start_time": "2024-04-27T14:25:09.430Z"
   },
   {
    "duration": 60,
    "start_time": "2024-04-27T14:25:09.435Z"
   },
   {
    "duration": 25,
    "start_time": "2024-04-27T14:25:09.497Z"
   },
   {
    "duration": 5,
    "start_time": "2024-04-27T14:25:09.524Z"
   },
   {
    "duration": 11,
    "start_time": "2024-04-27T14:25:09.531Z"
   },
   {
    "duration": 1759,
    "start_time": "2024-04-27T14:25:09.543Z"
   },
   {
    "duration": 0,
    "start_time": "2024-04-27T14:25:11.304Z"
   },
   {
    "duration": 0,
    "start_time": "2024-04-27T14:25:11.305Z"
   },
   {
    "duration": 0,
    "start_time": "2024-04-27T14:25:11.306Z"
   },
   {
    "duration": 0,
    "start_time": "2024-04-27T14:25:11.308Z"
   },
   {
    "duration": 0,
    "start_time": "2024-04-27T14:25:11.309Z"
   },
   {
    "duration": 0,
    "start_time": "2024-04-27T14:25:11.310Z"
   },
   {
    "duration": 0,
    "start_time": "2024-04-27T14:25:11.311Z"
   },
   {
    "duration": 0,
    "start_time": "2024-04-27T14:25:11.312Z"
   },
   {
    "duration": 0,
    "start_time": "2024-04-27T14:25:11.314Z"
   },
   {
    "duration": 0,
    "start_time": "2024-04-27T14:25:11.314Z"
   },
   {
    "duration": 0,
    "start_time": "2024-04-27T14:25:11.316Z"
   },
   {
    "duration": 3,
    "start_time": "2024-04-27T14:26:05.577Z"
   },
   {
    "duration": 40,
    "start_time": "2024-04-27T14:26:06.121Z"
   },
   {
    "duration": 4,
    "start_time": "2024-04-27T14:26:06.560Z"
   },
   {
    "duration": 4,
    "start_time": "2024-04-27T14:26:06.800Z"
   },
   {
    "duration": 3,
    "start_time": "2024-04-27T14:26:07.744Z"
   },
   {
    "duration": 4,
    "start_time": "2024-04-27T14:26:08.429Z"
   },
   {
    "duration": 5,
    "start_time": "2024-04-27T14:26:09.908Z"
   },
   {
    "duration": 1938,
    "start_time": "2024-04-27T14:26:13.005Z"
   },
   {
    "duration": 3,
    "start_time": "2024-04-27T14:29:04.065Z"
   },
   {
    "duration": 5,
    "start_time": "2024-04-27T14:30:18.006Z"
   },
   {
    "duration": 3114,
    "start_time": "2024-04-27T14:30:22.330Z"
   },
   {
    "duration": 12,
    "start_time": "2024-04-27T14:30:30.009Z"
   },
   {
    "duration": 3,
    "start_time": "2024-04-27T14:30:30.525Z"
   },
   {
    "duration": 18,
    "start_time": "2024-04-27T14:30:30.957Z"
   },
   {
    "duration": 4,
    "start_time": "2024-04-27T14:30:31.738Z"
   },
   {
    "duration": 844,
    "start_time": "2024-04-27T14:30:32.397Z"
   },
   {
    "duration": 5,
    "start_time": "2024-04-27T14:31:59.314Z"
   },
   {
    "duration": 2,
    "start_time": "2024-04-27T14:33:00.273Z"
   },
   {
    "duration": 899,
    "start_time": "2024-04-27T14:33:01.401Z"
   },
   {
    "duration": 12,
    "start_time": "2024-04-27T14:33:30.278Z"
   },
   {
    "duration": 844,
    "start_time": "2024-04-27T14:33:34.062Z"
   },
   {
    "duration": 845,
    "start_time": "2024-04-27T14:34:15.087Z"
   },
   {
    "duration": 221,
    "start_time": "2024-04-27T14:34:49.926Z"
   },
   {
    "duration": 990,
    "start_time": "2024-04-27T14:35:23.306Z"
   },
   {
    "duration": 16,
    "start_time": "2024-04-27T14:41:04.478Z"
   },
   {
    "duration": 4,
    "start_time": "2024-04-27T14:44:55.190Z"
   },
   {
    "duration": 6149,
    "start_time": "2024-04-27T14:45:02.042Z"
   },
   {
    "duration": 2345,
    "start_time": "2024-04-27T14:45:08.193Z"
   },
   {
    "duration": 101,
    "start_time": "2024-04-27T14:45:10.592Z"
   },
   {
    "duration": 4,
    "start_time": "2024-04-27T14:45:10.696Z"
   },
   {
    "duration": 130,
    "start_time": "2024-04-27T14:45:10.701Z"
   },
   {
    "duration": 4,
    "start_time": "2024-04-27T14:45:10.832Z"
   },
   {
    "duration": 58,
    "start_time": "2024-04-27T14:45:10.837Z"
   },
   {
    "duration": 96,
    "start_time": "2024-04-27T14:45:10.896Z"
   },
   {
    "duration": 4,
    "start_time": "2024-04-27T14:45:10.994Z"
   },
   {
    "duration": 21,
    "start_time": "2024-04-27T14:45:11.001Z"
   },
   {
    "duration": 6,
    "start_time": "2024-04-27T14:45:11.024Z"
   },
   {
    "duration": 10,
    "start_time": "2024-04-27T14:45:11.031Z"
   },
   {
    "duration": 51,
    "start_time": "2024-04-27T14:45:11.043Z"
   },
   {
    "duration": 20,
    "start_time": "2024-04-27T14:45:11.096Z"
   },
   {
    "duration": 15,
    "start_time": "2024-04-27T14:45:11.118Z"
   },
   {
    "duration": 74,
    "start_time": "2024-04-27T14:45:11.135Z"
   },
   {
    "duration": 7697,
    "start_time": "2024-04-27T14:45:11.211Z"
   },
   {
    "duration": 8,
    "start_time": "2024-04-27T14:45:18.909Z"
   },
   {
    "duration": 110,
    "start_time": "2024-04-27T14:45:18.918Z"
   },
   {
    "duration": 202,
    "start_time": "2024-04-27T14:45:19.030Z"
   },
   {
    "duration": 61,
    "start_time": "2024-04-27T14:45:19.234Z"
   },
   {
    "duration": 30,
    "start_time": "2024-04-27T14:45:19.297Z"
   },
   {
    "duration": 64,
    "start_time": "2024-04-27T14:45:19.329Z"
   },
   {
    "duration": 27,
    "start_time": "2024-04-27T14:45:19.395Z"
   },
   {
    "duration": 454,
    "start_time": "2024-04-27T14:45:19.423Z"
   },
   {
    "duration": 6,
    "start_time": "2024-04-27T14:45:19.879Z"
   },
   {
    "duration": 28,
    "start_time": "2024-04-27T14:45:19.891Z"
   },
   {
    "duration": 9,
    "start_time": "2024-04-27T14:45:19.924Z"
   },
   {
    "duration": 176,
    "start_time": "2024-04-27T14:45:19.935Z"
   },
   {
    "duration": 9,
    "start_time": "2024-04-27T14:45:20.113Z"
   },
   {
    "duration": 82,
    "start_time": "2024-04-27T14:45:20.124Z"
   },
   {
    "duration": 8,
    "start_time": "2024-04-27T14:45:20.207Z"
   },
   {
    "duration": 27,
    "start_time": "2024-04-27T14:45:20.217Z"
   },
   {
    "duration": 4,
    "start_time": "2024-04-27T14:45:20.245Z"
   },
   {
    "duration": 8,
    "start_time": "2024-04-27T14:45:20.251Z"
   },
   {
    "duration": 8,
    "start_time": "2024-04-27T14:45:20.260Z"
   },
   {
    "duration": 848,
    "start_time": "2024-04-27T14:45:20.269Z"
   },
   {
    "duration": 2619,
    "start_time": "2024-04-27T14:45:21.118Z"
   },
   {
    "duration": 6,
    "start_time": "2024-04-27T14:45:23.739Z"
   },
   {
    "duration": 19,
    "start_time": "2024-04-27T14:45:23.746Z"
   },
   {
    "duration": 11,
    "start_time": "2024-04-27T14:45:23.766Z"
   },
   {
    "duration": 14,
    "start_time": "2024-04-27T14:45:23.779Z"
   },
   {
    "duration": 24,
    "start_time": "2024-04-27T14:45:23.795Z"
   },
   {
    "duration": 18,
    "start_time": "2024-04-27T14:45:23.820Z"
   },
   {
    "duration": 14,
    "start_time": "2024-04-27T14:45:23.840Z"
   },
   {
    "duration": 8,
    "start_time": "2024-04-27T14:45:23.856Z"
   },
   {
    "duration": 13,
    "start_time": "2024-04-27T14:45:23.866Z"
   },
   {
    "duration": 8,
    "start_time": "2024-04-27T14:45:23.881Z"
   },
   {
    "duration": 9,
    "start_time": "2024-04-27T14:45:23.891Z"
   },
   {
    "duration": 7,
    "start_time": "2024-04-27T14:45:23.902Z"
   },
   {
    "duration": 15,
    "start_time": "2024-04-27T14:45:23.910Z"
   },
   {
    "duration": 3220,
    "start_time": "2024-04-27T14:45:23.926Z"
   },
   {
    "duration": 12,
    "start_time": "2024-04-27T14:45:27.148Z"
   },
   {
    "duration": 7,
    "start_time": "2024-04-27T14:45:27.162Z"
   },
   {
    "duration": 34,
    "start_time": "2024-04-27T14:45:27.170Z"
   },
   {
    "duration": 25,
    "start_time": "2024-04-27T14:45:27.206Z"
   },
   {
    "duration": 136,
    "start_time": "2024-04-27T14:45:27.233Z"
   },
   {
    "duration": 0,
    "start_time": "2024-04-27T14:45:27.370Z"
   },
   {
    "duration": 0,
    "start_time": "2024-04-27T14:45:27.371Z"
   },
   {
    "duration": 0,
    "start_time": "2024-04-27T14:45:27.373Z"
   },
   {
    "duration": 0,
    "start_time": "2024-04-27T14:45:27.374Z"
   },
   {
    "duration": 0,
    "start_time": "2024-04-27T14:45:27.375Z"
   },
   {
    "duration": 0,
    "start_time": "2024-04-27T14:45:27.376Z"
   },
   {
    "duration": 0,
    "start_time": "2024-04-27T14:45:27.377Z"
   },
   {
    "duration": 0,
    "start_time": "2024-04-27T14:45:27.379Z"
   },
   {
    "duration": 0,
    "start_time": "2024-04-27T14:45:27.380Z"
   },
   {
    "duration": 4,
    "start_time": "2024-04-27T14:45:42.117Z"
   },
   {
    "duration": 200,
    "start_time": "2024-04-27T14:45:44.275Z"
   },
   {
    "duration": 852,
    "start_time": "2024-04-27T14:45:49.539Z"
   },
   {
    "duration": 805,
    "start_time": "2024-04-27T14:45:58.304Z"
   },
   {
    "duration": 3,
    "start_time": "2024-04-27T14:46:22.686Z"
   },
   {
    "duration": 2,
    "start_time": "2024-04-27T14:46:24.735Z"
   },
   {
    "duration": 2,
    "start_time": "2024-04-27T14:46:29.458Z"
   },
   {
    "duration": 13,
    "start_time": "2024-04-27T14:46:31.612Z"
   },
   {
    "duration": 4,
    "start_time": "2024-04-27T14:46:31.827Z"
   },
   {
    "duration": 17,
    "start_time": "2024-04-27T14:46:32.006Z"
   },
   {
    "duration": 4,
    "start_time": "2024-04-27T14:46:32.143Z"
   },
   {
    "duration": 2,
    "start_time": "2024-04-27T14:46:32.278Z"
   },
   {
    "duration": 3,
    "start_time": "2024-04-27T14:46:32.418Z"
   },
   {
    "duration": 2,
    "start_time": "2024-04-27T14:46:32.582Z"
   },
   {
    "duration": 1078,
    "start_time": "2024-04-27T14:46:32.794Z"
   },
   {
    "duration": 11,
    "start_time": "2024-04-27T14:47:21.784Z"
   },
   {
    "duration": 3,
    "start_time": "2024-04-27T14:47:32.898Z"
   },
   {
    "duration": 804,
    "start_time": "2024-04-27T14:47:35.942Z"
   },
   {
    "duration": 38,
    "start_time": "2024-04-27T14:48:16.823Z"
   },
   {
    "duration": 3,
    "start_time": "2024-04-27T14:49:32.635Z"
   },
   {
    "duration": 18,
    "start_time": "2024-04-27T14:50:05.748Z"
   },
   {
    "duration": 18,
    "start_time": "2024-04-27T15:45:29.704Z"
   },
   {
    "duration": 113,
    "start_time": "2024-04-27T15:46:03.783Z"
   },
   {
    "duration": 17,
    "start_time": "2024-04-27T15:46:14.696Z"
   },
   {
    "duration": 4,
    "start_time": "2024-04-27T15:46:22.621Z"
   },
   {
    "duration": 54,
    "start_time": "2024-04-27T15:46:23.449Z"
   },
   {
    "duration": 4,
    "start_time": "2024-04-27T15:46:33.307Z"
   },
   {
    "duration": 1128,
    "start_time": "2024-04-27T15:46:36.475Z"
   },
   {
    "duration": 4,
    "start_time": "2024-04-27T15:47:18.052Z"
   },
   {
    "duration": 4,
    "start_time": "2024-04-27T15:47:29.188Z"
   },
   {
    "duration": 10,
    "start_time": "2024-04-27T15:47:42.377Z"
   },
   {
    "duration": 4,
    "start_time": "2024-04-27T15:47:53.647Z"
   },
   {
    "duration": 10,
    "start_time": "2024-04-27T15:49:10.236Z"
   },
   {
    "duration": 10,
    "start_time": "2024-04-27T15:49:21.870Z"
   },
   {
    "duration": 4,
    "start_time": "2024-04-27T15:49:40.596Z"
   },
   {
    "duration": 4,
    "start_time": "2024-04-27T15:49:49.725Z"
   },
   {
    "duration": 4,
    "start_time": "2024-04-27T15:56:53.664Z"
   },
   {
    "duration": 1116,
    "start_time": "2024-04-27T15:56:54.676Z"
   },
   {
    "duration": 0,
    "start_time": "2024-04-27T15:56:55.794Z"
   },
   {
    "duration": 0,
    "start_time": "2024-04-27T15:56:55.795Z"
   },
   {
    "duration": 7,
    "start_time": "2024-04-27T15:56:56.153Z"
   },
   {
    "duration": 14,
    "start_time": "2024-04-27T15:56:56.365Z"
   },
   {
    "duration": 4,
    "start_time": "2024-04-27T15:57:05.220Z"
   },
   {
    "duration": 4,
    "start_time": "2024-04-27T15:57:06.124Z"
   },
   {
    "duration": 3,
    "start_time": "2024-04-27T15:57:06.748Z"
   },
   {
    "duration": 3,
    "start_time": "2024-04-27T15:57:07.728Z"
   },
   {
    "duration": 3,
    "start_time": "2024-04-27T15:57:08.532Z"
   },
   {
    "duration": 9,
    "start_time": "2024-04-27T15:57:10.088Z"
   },
   {
    "duration": 3149,
    "start_time": "2024-04-27T15:57:12.311Z"
   },
   {
    "duration": 14,
    "start_time": "2024-04-27T15:57:21.979Z"
   },
   {
    "duration": 15,
    "start_time": "2024-04-27T15:57:22.284Z"
   },
   {
    "duration": 4,
    "start_time": "2024-04-27T15:57:22.503Z"
   },
   {
    "duration": 51,
    "start_time": "2024-04-27T15:57:22.720Z"
   },
   {
    "duration": 4,
    "start_time": "2024-04-27T15:57:22.917Z"
   },
   {
    "duration": 3,
    "start_time": "2024-04-27T15:57:23.353Z"
   },
   {
    "duration": 3,
    "start_time": "2024-04-27T15:57:23.732Z"
   },
   {
    "duration": 3,
    "start_time": "2024-04-27T15:57:24.173Z"
   },
   {
    "duration": 5,
    "start_time": "2024-04-27T15:57:24.702Z"
   },
   {
    "duration": 4,
    "start_time": "2024-04-27T15:57:25.534Z"
   },
   {
    "duration": 4,
    "start_time": "2024-04-27T15:57:26.127Z"
   },
   {
    "duration": 5,
    "start_time": "2024-04-27T15:57:57.324Z"
   },
   {
    "duration": 101,
    "start_time": "2024-04-27T16:00:26.400Z"
   },
   {
    "duration": 5,
    "start_time": "2024-04-27T16:00:37.856Z"
   },
   {
    "duration": 6,
    "start_time": "2024-04-27T16:01:18.680Z"
   },
   {
    "duration": 5309,
    "start_time": "2024-04-27T16:01:32.909Z"
   },
   {
    "duration": 1961,
    "start_time": "2024-04-27T16:01:38.220Z"
   },
   {
    "duration": 84,
    "start_time": "2024-04-27T16:01:40.183Z"
   },
   {
    "duration": 4,
    "start_time": "2024-04-27T16:01:40.269Z"
   },
   {
    "duration": 83,
    "start_time": "2024-04-27T16:01:40.275Z"
   },
   {
    "duration": 32,
    "start_time": "2024-04-27T16:01:40.360Z"
   },
   {
    "duration": 10,
    "start_time": "2024-04-27T16:01:40.393Z"
   },
   {
    "duration": 50,
    "start_time": "2024-04-27T16:01:40.405Z"
   },
   {
    "duration": 5,
    "start_time": "2024-04-27T16:01:40.456Z"
   },
   {
    "duration": 40,
    "start_time": "2024-04-27T16:01:40.463Z"
   },
   {
    "duration": 11,
    "start_time": "2024-04-27T16:01:40.504Z"
   },
   {
    "duration": 16,
    "start_time": "2024-04-27T16:01:40.517Z"
   },
   {
    "duration": 26,
    "start_time": "2024-04-27T16:01:40.535Z"
   },
   {
    "duration": 26,
    "start_time": "2024-04-27T16:01:40.563Z"
   },
   {
    "duration": 10,
    "start_time": "2024-04-27T16:01:40.590Z"
   },
   {
    "duration": 19,
    "start_time": "2024-04-27T16:01:40.602Z"
   },
   {
    "duration": 6827,
    "start_time": "2024-04-27T16:01:40.623Z"
   },
   {
    "duration": 7,
    "start_time": "2024-04-27T16:01:47.452Z"
   },
   {
    "duration": 28,
    "start_time": "2024-04-27T16:01:47.460Z"
   },
   {
    "duration": 101,
    "start_time": "2024-04-27T16:01:47.490Z"
   },
   {
    "duration": 4,
    "start_time": "2024-04-27T16:01:47.593Z"
   },
   {
    "duration": 27,
    "start_time": "2024-04-27T16:01:47.599Z"
   },
   {
    "duration": 17,
    "start_time": "2024-04-27T16:01:47.628Z"
   },
   {
    "duration": 28,
    "start_time": "2024-04-27T16:01:47.647Z"
   },
   {
    "duration": 536,
    "start_time": "2024-04-27T16:01:47.676Z"
   },
   {
    "duration": 6,
    "start_time": "2024-04-27T16:01:48.214Z"
   },
   {
    "duration": 26,
    "start_time": "2024-04-27T16:01:48.223Z"
   },
   {
    "duration": 8,
    "start_time": "2024-04-27T16:01:48.254Z"
   },
   {
    "duration": 177,
    "start_time": "2024-04-27T16:01:48.264Z"
   },
   {
    "duration": 28,
    "start_time": "2024-04-27T16:01:48.443Z"
   },
   {
    "duration": 30,
    "start_time": "2024-04-27T16:01:48.472Z"
   },
   {
    "duration": 29,
    "start_time": "2024-04-27T16:01:48.503Z"
   },
   {
    "duration": 75,
    "start_time": "2024-04-27T16:01:48.533Z"
   },
   {
    "duration": 5,
    "start_time": "2024-04-27T16:01:48.610Z"
   },
   {
    "duration": 38,
    "start_time": "2024-04-27T16:01:48.616Z"
   },
   {
    "duration": 73,
    "start_time": "2024-04-27T16:01:48.656Z"
   },
   {
    "duration": 924,
    "start_time": "2024-04-27T16:01:48.730Z"
   },
   {
    "duration": 2862,
    "start_time": "2024-04-27T16:01:49.656Z"
   },
   {
    "duration": 6,
    "start_time": "2024-04-27T16:01:52.519Z"
   },
   {
    "duration": 49,
    "start_time": "2024-04-27T16:01:52.527Z"
   },
   {
    "duration": 11,
    "start_time": "2024-04-27T16:01:52.578Z"
   },
   {
    "duration": 26,
    "start_time": "2024-04-27T16:01:52.591Z"
   },
   {
    "duration": 38,
    "start_time": "2024-04-27T16:01:52.619Z"
   },
   {
    "duration": 8,
    "start_time": "2024-04-27T16:01:52.659Z"
   },
   {
    "duration": 23,
    "start_time": "2024-04-27T16:01:52.669Z"
   },
   {
    "duration": 14,
    "start_time": "2024-04-27T16:01:52.694Z"
   },
   {
    "duration": 47,
    "start_time": "2024-04-27T16:01:52.710Z"
   },
   {
    "duration": 9,
    "start_time": "2024-04-27T16:01:52.759Z"
   },
   {
    "duration": 27,
    "start_time": "2024-04-27T16:01:52.770Z"
   },
   {
    "duration": 22,
    "start_time": "2024-04-27T16:01:52.798Z"
   },
   {
    "duration": 27,
    "start_time": "2024-04-27T16:01:52.821Z"
   },
   {
    "duration": 3300,
    "start_time": "2024-04-27T16:01:52.850Z"
   },
   {
    "duration": 12,
    "start_time": "2024-04-27T16:01:56.152Z"
   },
   {
    "duration": 65,
    "start_time": "2024-04-27T16:01:56.165Z"
   },
   {
    "duration": 13,
    "start_time": "2024-04-27T16:01:56.233Z"
   },
   {
    "duration": 50,
    "start_time": "2024-04-27T16:01:56.247Z"
   },
   {
    "duration": 25,
    "start_time": "2024-04-27T16:01:56.299Z"
   },
   {
    "duration": 6,
    "start_time": "2024-04-27T16:01:56.326Z"
   },
   {
    "duration": 7,
    "start_time": "2024-04-27T16:01:56.334Z"
   },
   {
    "duration": 13,
    "start_time": "2024-04-27T16:01:56.342Z"
   },
   {
    "duration": 14,
    "start_time": "2024-04-27T16:01:56.356Z"
   },
   {
    "duration": 7,
    "start_time": "2024-04-27T16:01:56.371Z"
   },
   {
    "duration": 5,
    "start_time": "2024-04-27T16:01:56.380Z"
   },
   {
    "duration": 9,
    "start_time": "2024-04-27T16:01:56.387Z"
   },
   {
    "duration": 22,
    "start_time": "2024-04-27T16:01:56.398Z"
   },
   {
    "duration": 1226,
    "start_time": "2024-04-27T16:01:56.422Z"
   },
   {
    "duration": 0,
    "start_time": "2024-04-27T16:01:57.650Z"
   },
   {
    "duration": 0,
    "start_time": "2024-04-27T16:01:57.651Z"
   },
   {
    "duration": 0,
    "start_time": "2024-04-27T16:01:57.652Z"
   },
   {
    "duration": 0,
    "start_time": "2024-04-27T16:01:57.654Z"
   },
   {
    "duration": 0,
    "start_time": "2024-04-27T16:01:57.655Z"
   },
   {
    "duration": 0,
    "start_time": "2024-04-27T16:01:57.656Z"
   },
   {
    "duration": 37,
    "start_time": "2024-04-27T16:05:09.245Z"
   },
   {
    "duration": 22,
    "start_time": "2024-04-27T16:05:28.824Z"
   },
   {
    "duration": 4,
    "start_time": "2024-04-27T16:05:36.036Z"
   },
   {
    "duration": 13,
    "start_time": "2024-04-27T16:05:42.661Z"
   },
   {
    "duration": 13,
    "start_time": "2024-04-27T16:05:49.769Z"
   },
   {
    "duration": 11,
    "start_time": "2024-04-27T16:08:45.108Z"
   },
   {
    "duration": 11,
    "start_time": "2024-04-27T16:09:40.981Z"
   },
   {
    "duration": 6489,
    "start_time": "2024-04-27T16:10:34.032Z"
   },
   {
    "duration": 2911,
    "start_time": "2024-04-27T16:10:40.524Z"
   },
   {
    "duration": 83,
    "start_time": "2024-04-27T16:10:43.437Z"
   },
   {
    "duration": 23,
    "start_time": "2024-04-27T16:10:43.523Z"
   },
   {
    "duration": 100,
    "start_time": "2024-04-27T16:10:43.548Z"
   },
   {
    "duration": 5,
    "start_time": "2024-04-27T16:10:43.656Z"
   },
   {
    "duration": 35,
    "start_time": "2024-04-27T16:10:43.663Z"
   },
   {
    "duration": 35,
    "start_time": "2024-04-27T16:10:43.700Z"
   },
   {
    "duration": 4,
    "start_time": "2024-04-27T16:10:43.737Z"
   },
   {
    "duration": 55,
    "start_time": "2024-04-27T16:10:43.745Z"
   },
   {
    "duration": 4,
    "start_time": "2024-04-27T16:10:43.801Z"
   },
   {
    "duration": 8,
    "start_time": "2024-04-27T16:10:43.807Z"
   },
   {
    "duration": 13,
    "start_time": "2024-04-27T16:10:43.816Z"
   },
   {
    "duration": 16,
    "start_time": "2024-04-27T16:10:43.830Z"
   },
   {
    "duration": 11,
    "start_time": "2024-04-27T16:10:43.847Z"
   },
   {
    "duration": 20,
    "start_time": "2024-04-27T16:10:43.859Z"
   },
   {
    "duration": 7338,
    "start_time": "2024-04-27T16:10:43.881Z"
   },
   {
    "duration": 8,
    "start_time": "2024-04-27T16:10:51.221Z"
   },
   {
    "duration": 37,
    "start_time": "2024-04-27T16:10:51.230Z"
   },
   {
    "duration": 88,
    "start_time": "2024-04-27T16:10:51.269Z"
   },
   {
    "duration": 4,
    "start_time": "2024-04-27T16:10:51.359Z"
   },
   {
    "duration": 37,
    "start_time": "2024-04-27T16:10:51.364Z"
   },
   {
    "duration": 11,
    "start_time": "2024-04-27T16:10:51.402Z"
   },
   {
    "duration": 24,
    "start_time": "2024-04-27T16:10:51.415Z"
   },
   {
    "duration": 401,
    "start_time": "2024-04-27T16:10:51.440Z"
   },
   {
    "duration": 5,
    "start_time": "2024-04-27T16:10:51.843Z"
   },
   {
    "duration": 42,
    "start_time": "2024-04-27T16:10:51.850Z"
   },
   {
    "duration": 169,
    "start_time": "2024-04-27T16:10:51.897Z"
   },
   {
    "duration": 18,
    "start_time": "2024-04-27T16:10:52.068Z"
   },
   {
    "duration": 10,
    "start_time": "2024-04-27T16:10:52.087Z"
   },
   {
    "duration": 12,
    "start_time": "2024-04-27T16:10:52.099Z"
   },
   {
    "duration": 7,
    "start_time": "2024-04-27T16:10:52.113Z"
   },
   {
    "duration": 51,
    "start_time": "2024-04-27T16:10:52.122Z"
   },
   {
    "duration": 5,
    "start_time": "2024-04-27T16:10:52.175Z"
   },
   {
    "duration": 4,
    "start_time": "2024-04-27T16:10:52.192Z"
   },
   {
    "duration": 11,
    "start_time": "2024-04-27T16:10:52.198Z"
   },
   {
    "duration": 848,
    "start_time": "2024-04-27T16:10:52.211Z"
   },
   {
    "duration": 2550,
    "start_time": "2024-04-27T16:10:53.060Z"
   },
   {
    "duration": 5,
    "start_time": "2024-04-27T16:10:55.612Z"
   },
   {
    "duration": 17,
    "start_time": "2024-04-27T16:10:55.619Z"
   },
   {
    "duration": 17,
    "start_time": "2024-04-27T16:10:55.638Z"
   },
   {
    "duration": 13,
    "start_time": "2024-04-27T16:10:55.656Z"
   },
   {
    "duration": 24,
    "start_time": "2024-04-27T16:10:55.670Z"
   },
   {
    "duration": 13,
    "start_time": "2024-04-27T16:10:55.695Z"
   },
   {
    "duration": 49,
    "start_time": "2024-04-27T16:10:55.710Z"
   },
   {
    "duration": 21,
    "start_time": "2024-04-27T16:10:55.761Z"
   },
   {
    "duration": 11,
    "start_time": "2024-04-27T16:10:55.784Z"
   },
   {
    "duration": 5,
    "start_time": "2024-04-27T16:10:55.797Z"
   },
   {
    "duration": 37,
    "start_time": "2024-04-27T16:10:55.803Z"
   },
   {
    "duration": 65,
    "start_time": "2024-04-27T16:10:55.841Z"
   },
   {
    "duration": 16,
    "start_time": "2024-04-27T16:10:55.908Z"
   },
   {
    "duration": 3230,
    "start_time": "2024-04-27T16:10:55.926Z"
   },
   {
    "duration": 37,
    "start_time": "2024-04-27T16:10:59.158Z"
   },
   {
    "duration": 4,
    "start_time": "2024-04-27T16:10:59.197Z"
   },
   {
    "duration": 25,
    "start_time": "2024-04-27T16:10:59.203Z"
   },
   {
    "duration": 145,
    "start_time": "2024-04-27T16:10:59.230Z"
   },
   {
    "duration": 0,
    "start_time": "2024-04-27T16:10:59.377Z"
   },
   {
    "duration": 0,
    "start_time": "2024-04-27T16:10:59.378Z"
   },
   {
    "duration": 0,
    "start_time": "2024-04-27T16:10:59.379Z"
   },
   {
    "duration": 0,
    "start_time": "2024-04-27T16:10:59.392Z"
   },
   {
    "duration": 0,
    "start_time": "2024-04-27T16:10:59.393Z"
   },
   {
    "duration": 0,
    "start_time": "2024-04-27T16:10:59.394Z"
   },
   {
    "duration": 0,
    "start_time": "2024-04-27T16:10:59.395Z"
   },
   {
    "duration": 0,
    "start_time": "2024-04-27T16:10:59.396Z"
   },
   {
    "duration": 0,
    "start_time": "2024-04-27T16:10:59.397Z"
   },
   {
    "duration": 0,
    "start_time": "2024-04-27T16:10:59.398Z"
   },
   {
    "duration": 0,
    "start_time": "2024-04-27T16:10:59.399Z"
   },
   {
    "duration": 0,
    "start_time": "2024-04-27T16:10:59.400Z"
   },
   {
    "duration": 0,
    "start_time": "2024-04-27T16:10:59.401Z"
   },
   {
    "duration": 0,
    "start_time": "2024-04-27T16:10:59.402Z"
   },
   {
    "duration": 0,
    "start_time": "2024-04-27T16:10:59.403Z"
   },
   {
    "duration": 0,
    "start_time": "2024-04-27T16:10:59.404Z"
   },
   {
    "duration": 0,
    "start_time": "2024-04-27T16:10:59.406Z"
   },
   {
    "duration": 0,
    "start_time": "2024-04-27T16:10:59.407Z"
   },
   {
    "duration": 0,
    "start_time": "2024-04-27T16:10:59.408Z"
   },
   {
    "duration": 0,
    "start_time": "2024-04-27T16:10:59.409Z"
   },
   {
    "duration": 0,
    "start_time": "2024-04-27T16:10:59.410Z"
   },
   {
    "duration": 0,
    "start_time": "2024-04-27T16:10:59.411Z"
   },
   {
    "duration": 13,
    "start_time": "2024-04-27T16:11:14.972Z"
   },
   {
    "duration": 13,
    "start_time": "2024-04-27T16:12:06.051Z"
   },
   {
    "duration": 13,
    "start_time": "2024-04-27T16:13:25.047Z"
   },
   {
    "duration": 12,
    "start_time": "2024-04-27T16:15:01.304Z"
   },
   {
    "duration": 13,
    "start_time": "2024-04-27T16:15:44.432Z"
   },
   {
    "duration": 13,
    "start_time": "2024-04-27T16:16:05.801Z"
   },
   {
    "duration": 12,
    "start_time": "2024-04-27T16:16:18.395Z"
   },
   {
    "duration": 14,
    "start_time": "2024-04-27T16:16:28.916Z"
   },
   {
    "duration": 13,
    "start_time": "2024-04-27T16:17:32.204Z"
   },
   {
    "duration": 12,
    "start_time": "2024-04-27T16:17:47.224Z"
   },
   {
    "duration": 18,
    "start_time": "2024-04-27T16:18:05.606Z"
   },
   {
    "duration": 14,
    "start_time": "2024-04-27T16:19:33.583Z"
   },
   {
    "duration": 14,
    "start_time": "2024-04-27T16:19:39.558Z"
   },
   {
    "duration": 3,
    "start_time": "2024-04-27T16:19:41.592Z"
   },
   {
    "duration": 47,
    "start_time": "2024-04-27T16:19:42.138Z"
   },
   {
    "duration": 3,
    "start_time": "2024-04-27T16:19:42.472Z"
   },
   {
    "duration": 2,
    "start_time": "2024-04-27T16:19:42.816Z"
   },
   {
    "duration": 2,
    "start_time": "2024-04-27T16:19:43.289Z"
   },
   {
    "duration": 2,
    "start_time": "2024-04-27T16:19:43.872Z"
   },
   {
    "duration": 4,
    "start_time": "2024-04-27T16:19:45.256Z"
   },
   {
    "duration": 3,
    "start_time": "2024-04-27T16:19:46.316Z"
   },
   {
    "duration": 4,
    "start_time": "2024-04-27T16:19:47.238Z"
   },
   {
    "duration": 4,
    "start_time": "2024-04-27T16:19:47.569Z"
   },
   {
    "duration": 12,
    "start_time": "2024-04-27T16:20:05.396Z"
   },
   {
    "duration": 3,
    "start_time": "2024-04-27T16:20:05.656Z"
   },
   {
    "duration": 5,
    "start_time": "2024-04-27T16:20:05.852Z"
   },
   {
    "duration": 15,
    "start_time": "2024-04-27T16:20:06.048Z"
   },
   {
    "duration": 4,
    "start_time": "2024-04-27T16:20:06.245Z"
   },
   {
    "duration": 3,
    "start_time": "2024-04-27T16:20:06.476Z"
   },
   {
    "duration": 2,
    "start_time": "2024-04-27T16:20:06.956Z"
   },
   {
    "duration": 2,
    "start_time": "2024-04-27T16:20:07.233Z"
   },
   {
    "duration": 4,
    "start_time": "2024-04-27T16:20:07.516Z"
   },
   {
    "duration": 3,
    "start_time": "2024-04-27T16:20:08.240Z"
   },
   {
    "duration": 4,
    "start_time": "2024-04-27T16:20:08.936Z"
   },
   {
    "duration": 6,
    "start_time": "2024-04-27T16:24:10.501Z"
   },
   {
    "duration": 12,
    "start_time": "2024-04-27T16:24:29.993Z"
   },
   {
    "duration": 3,
    "start_time": "2024-04-27T16:26:24.140Z"
   },
   {
    "duration": 33,
    "start_time": "2024-04-27T16:26:25.993Z"
   },
   {
    "duration": 23,
    "start_time": "2024-04-27T16:30:01.366Z"
   },
   {
    "duration": 26,
    "start_time": "2024-04-27T16:33:14.647Z"
   },
   {
    "duration": 5,
    "start_time": "2024-04-27T16:33:23.914Z"
   },
   {
    "duration": 6,
    "start_time": "2024-04-27T16:33:32.268Z"
   },
   {
    "duration": 10,
    "start_time": "2024-04-27T16:34:32.085Z"
   },
   {
    "duration": 13,
    "start_time": "2024-04-27T16:34:58.622Z"
   },
   {
    "duration": 11,
    "start_time": "2024-04-27T16:35:27.541Z"
   },
   {
    "duration": 3,
    "start_time": "2024-04-27T16:36:26.174Z"
   },
   {
    "duration": 4,
    "start_time": "2024-04-27T16:36:43.634Z"
   },
   {
    "duration": 10,
    "start_time": "2024-04-27T16:37:07.646Z"
   },
   {
    "duration": 13,
    "start_time": "2024-04-27T16:37:17.942Z"
   },
   {
    "duration": 4,
    "start_time": "2024-04-27T16:37:18.413Z"
   },
   {
    "duration": 14,
    "start_time": "2024-04-27T16:37:19.547Z"
   },
   {
    "duration": 2,
    "start_time": "2024-04-27T16:37:23.790Z"
   },
   {
    "duration": 4,
    "start_time": "2024-04-27T16:37:26.749Z"
   },
   {
    "duration": 4,
    "start_time": "2024-04-27T16:37:27.402Z"
   },
   {
    "duration": 4,
    "start_time": "2024-04-27T16:37:27.683Z"
   },
   {
    "duration": 4,
    "start_time": "2024-04-27T16:37:28.381Z"
   },
   {
    "duration": 3,
    "start_time": "2024-04-27T16:37:31.601Z"
   },
   {
    "duration": 1048,
    "start_time": "2024-04-27T16:37:32.194Z"
   },
   {
    "duration": 14,
    "start_time": "2024-04-27T16:38:43.374Z"
   },
   {
    "duration": 3,
    "start_time": "2024-04-27T16:38:43.666Z"
   },
   {
    "duration": 5,
    "start_time": "2024-04-27T16:38:43.930Z"
   },
   {
    "duration": 13,
    "start_time": "2024-04-27T16:38:44.162Z"
   },
   {
    "duration": 4,
    "start_time": "2024-04-27T16:38:44.351Z"
   },
   {
    "duration": 16,
    "start_time": "2024-04-27T16:38:44.826Z"
   },
   {
    "duration": 2,
    "start_time": "2024-04-27T16:38:45.065Z"
   },
   {
    "duration": 1067,
    "start_time": "2024-04-27T16:38:45.251Z"
   },
   {
    "duration": 5,
    "start_time": "2024-04-27T16:42:32.493Z"
   },
   {
    "duration": 3189,
    "start_time": "2024-04-27T16:42:34.314Z"
   },
   {
    "duration": 12,
    "start_time": "2024-04-27T16:42:46.540Z"
   },
   {
    "duration": 4,
    "start_time": "2024-04-27T16:42:46.909Z"
   },
   {
    "duration": 14,
    "start_time": "2024-04-27T16:42:47.242Z"
   },
   {
    "duration": 2,
    "start_time": "2024-04-27T16:42:47.462Z"
   },
   {
    "duration": 14,
    "start_time": "2024-04-27T16:42:47.662Z"
   },
   {
    "duration": 1101,
    "start_time": "2024-04-27T16:42:47.846Z"
   },
   {
    "duration": 73,
    "start_time": "2024-04-27T16:43:39.437Z"
   },
   {
    "duration": 3245,
    "start_time": "2024-04-27T16:43:50.870Z"
   },
   {
    "duration": 3225,
    "start_time": "2024-04-27T16:44:05.378Z"
   },
   {
    "duration": 7,
    "start_time": "2024-04-27T16:44:38.983Z"
   },
   {
    "duration": 3162,
    "start_time": "2024-04-27T16:44:39.786Z"
   },
   {
    "duration": 4,
    "start_time": "2024-04-27T16:44:42.949Z"
   },
   {
    "duration": 6,
    "start_time": "2024-04-27T16:53:26.398Z"
   },
   {
    "duration": 2126,
    "start_time": "2024-04-27T16:53:27.098Z"
   },
   {
    "duration": 4,
    "start_time": "2024-04-27T16:53:29.226Z"
   },
   {
    "duration": 8,
    "start_time": "2024-04-27T17:07:41.063Z"
   },
   {
    "duration": 1481,
    "start_time": "2024-04-27T17:07:42.544Z"
   },
   {
    "duration": 4,
    "start_time": "2024-04-27T17:07:44.028Z"
   },
   {
    "duration": 5,
    "start_time": "2024-04-27T17:08:55.684Z"
   },
   {
    "duration": 1509,
    "start_time": "2024-04-27T17:08:56.383Z"
   },
   {
    "duration": 4,
    "start_time": "2024-04-27T17:08:57.893Z"
   },
   {
    "duration": 5044,
    "start_time": "2024-04-27T17:10:18.830Z"
   },
   {
    "duration": 1989,
    "start_time": "2024-04-27T17:10:23.876Z"
   },
   {
    "duration": 82,
    "start_time": "2024-04-27T17:10:25.867Z"
   },
   {
    "duration": 4,
    "start_time": "2024-04-27T17:10:25.951Z"
   },
   {
    "duration": 87,
    "start_time": "2024-04-27T17:10:25.957Z"
   },
   {
    "duration": 4,
    "start_time": "2024-04-27T17:10:26.046Z"
   },
   {
    "duration": 16,
    "start_time": "2024-04-27T17:10:26.051Z"
   },
   {
    "duration": 35,
    "start_time": "2024-04-27T17:10:26.092Z"
   },
   {
    "duration": 4,
    "start_time": "2024-04-27T17:10:26.129Z"
   },
   {
    "duration": 34,
    "start_time": "2024-04-27T17:10:26.135Z"
   },
   {
    "duration": 21,
    "start_time": "2024-04-27T17:10:26.171Z"
   },
   {
    "duration": 7,
    "start_time": "2024-04-27T17:10:26.194Z"
   },
   {
    "duration": 25,
    "start_time": "2024-04-27T17:10:26.203Z"
   },
   {
    "duration": 31,
    "start_time": "2024-04-27T17:10:26.230Z"
   },
   {
    "duration": 9,
    "start_time": "2024-04-27T17:10:26.263Z"
   },
   {
    "duration": 12,
    "start_time": "2024-04-27T17:10:26.273Z"
   },
   {
    "duration": 6479,
    "start_time": "2024-04-27T17:10:26.286Z"
   },
   {
    "duration": 6,
    "start_time": "2024-04-27T17:10:32.767Z"
   },
   {
    "duration": 16,
    "start_time": "2024-04-27T17:10:32.775Z"
   },
   {
    "duration": 103,
    "start_time": "2024-04-27T17:10:32.793Z"
   },
   {
    "duration": 5,
    "start_time": "2024-04-27T17:10:32.897Z"
   },
   {
    "duration": 16,
    "start_time": "2024-04-27T17:10:32.903Z"
   },
   {
    "duration": 16,
    "start_time": "2024-04-27T17:10:32.921Z"
   },
   {
    "duration": 24,
    "start_time": "2024-04-27T17:10:32.939Z"
   },
   {
    "duration": 408,
    "start_time": "2024-04-27T17:10:32.964Z"
   },
   {
    "duration": 6,
    "start_time": "2024-04-27T17:10:33.373Z"
   },
   {
    "duration": 28,
    "start_time": "2024-04-27T17:10:33.380Z"
   },
   {
    "duration": 7,
    "start_time": "2024-04-27T17:10:33.412Z"
   },
   {
    "duration": 157,
    "start_time": "2024-04-27T17:10:33.420Z"
   },
   {
    "duration": 9,
    "start_time": "2024-04-27T17:10:33.579Z"
   },
   {
    "duration": 22,
    "start_time": "2024-04-27T17:10:33.589Z"
   },
   {
    "duration": 30,
    "start_time": "2024-04-27T17:10:33.612Z"
   },
   {
    "duration": 44,
    "start_time": "2024-04-27T17:10:33.644Z"
   },
   {
    "duration": 4,
    "start_time": "2024-04-27T17:10:33.690Z"
   },
   {
    "duration": 20,
    "start_time": "2024-04-27T17:10:33.696Z"
   },
   {
    "duration": 9,
    "start_time": "2024-04-27T17:10:33.718Z"
   },
   {
    "duration": 844,
    "start_time": "2024-04-27T17:10:33.728Z"
   },
   {
    "duration": 2671,
    "start_time": "2024-04-27T17:10:34.574Z"
   },
   {
    "duration": 6,
    "start_time": "2024-04-27T17:10:37.247Z"
   },
   {
    "duration": 51,
    "start_time": "2024-04-27T17:10:37.254Z"
   },
   {
    "duration": 16,
    "start_time": "2024-04-27T17:10:37.306Z"
   },
   {
    "duration": 38,
    "start_time": "2024-04-27T17:10:37.324Z"
   },
   {
    "duration": 22,
    "start_time": "2024-04-27T17:10:37.364Z"
   },
   {
    "duration": 44,
    "start_time": "2024-04-27T17:10:37.388Z"
   },
   {
    "duration": 55,
    "start_time": "2024-04-27T17:10:37.434Z"
   },
   {
    "duration": 42,
    "start_time": "2024-04-27T17:10:37.491Z"
   },
   {
    "duration": 53,
    "start_time": "2024-04-27T17:10:37.535Z"
   },
   {
    "duration": 27,
    "start_time": "2024-04-27T17:10:37.590Z"
   },
   {
    "duration": 48,
    "start_time": "2024-04-27T17:10:37.619Z"
   },
   {
    "duration": 32,
    "start_time": "2024-04-27T17:10:37.669Z"
   },
   {
    "duration": 38,
    "start_time": "2024-04-27T17:10:37.703Z"
   },
   {
    "duration": 1526,
    "start_time": "2024-04-27T17:10:37.742Z"
   },
   {
    "duration": 3,
    "start_time": "2024-04-27T17:10:39.270Z"
   },
   {
    "duration": 0,
    "start_time": "2024-04-27T17:10:39.275Z"
   },
   {
    "duration": 0,
    "start_time": "2024-04-27T17:10:39.276Z"
   },
   {
    "duration": 0,
    "start_time": "2024-04-27T17:10:39.277Z"
   },
   {
    "duration": 0,
    "start_time": "2024-04-27T17:10:39.291Z"
   },
   {
    "duration": 0,
    "start_time": "2024-04-27T17:10:39.292Z"
   },
   {
    "duration": 0,
    "start_time": "2024-04-27T17:10:39.293Z"
   },
   {
    "duration": 0,
    "start_time": "2024-04-27T17:10:39.294Z"
   },
   {
    "duration": 0,
    "start_time": "2024-04-27T17:10:39.295Z"
   },
   {
    "duration": 0,
    "start_time": "2024-04-27T17:10:39.296Z"
   },
   {
    "duration": 0,
    "start_time": "2024-04-27T17:10:39.298Z"
   },
   {
    "duration": 0,
    "start_time": "2024-04-27T17:10:39.299Z"
   },
   {
    "duration": 0,
    "start_time": "2024-04-27T17:10:39.301Z"
   },
   {
    "duration": 12,
    "start_time": "2024-04-27T17:11:11.355Z"
   },
   {
    "duration": 138,
    "start_time": "2024-04-27T17:11:11.581Z"
   },
   {
    "duration": 0,
    "start_time": "2024-04-27T17:11:11.721Z"
   },
   {
    "duration": 2,
    "start_time": "2024-04-27T17:11:11.804Z"
   },
   {
    "duration": 14,
    "start_time": "2024-04-27T17:11:11.960Z"
   },
   {
    "duration": 9,
    "start_time": "2024-04-27T17:11:12.116Z"
   },
   {
    "duration": 5,
    "start_time": "2024-04-27T17:13:56.885Z"
   },
   {
    "duration": 1551,
    "start_time": "2024-04-27T17:13:59.168Z"
   },
   {
    "duration": 5,
    "start_time": "2024-04-27T17:14:36.364Z"
   },
   {
    "duration": 1678,
    "start_time": "2024-04-27T17:14:37.329Z"
   },
   {
    "duration": 7,
    "start_time": "2024-04-27T17:22:11.429Z"
   },
   {
    "duration": 1618,
    "start_time": "2024-04-27T17:22:11.984Z"
   },
   {
    "duration": 5,
    "start_time": "2024-04-27T17:22:31.823Z"
   },
   {
    "duration": 1558,
    "start_time": "2024-04-27T17:22:32.512Z"
   },
   {
    "duration": 6,
    "start_time": "2024-04-27T17:22:53.660Z"
   },
   {
    "duration": 2080,
    "start_time": "2024-04-27T17:22:55.603Z"
   },
   {
    "duration": 5,
    "start_time": "2024-04-27T17:23:35.917Z"
   },
   {
    "duration": 3503,
    "start_time": "2024-04-27T17:23:37.505Z"
   },
   {
    "duration": 5,
    "start_time": "2024-04-27T17:25:15.419Z"
   },
   {
    "duration": 6,
    "start_time": "2024-04-27T17:25:29.448Z"
   },
   {
    "duration": 2475,
    "start_time": "2024-04-27T17:25:30.001Z"
   },
   {
    "duration": 12,
    "start_time": "2024-04-27T17:26:39.485Z"
   },
   {
    "duration": 3,
    "start_time": "2024-04-27T17:26:40.181Z"
   },
   {
    "duration": 15,
    "start_time": "2024-04-27T17:26:45.206Z"
   },
   {
    "duration": 2,
    "start_time": "2024-04-27T17:26:46.077Z"
   },
   {
    "duration": 14,
    "start_time": "2024-04-27T17:26:46.938Z"
   },
   {
    "duration": 1118,
    "start_time": "2024-04-27T17:26:47.886Z"
   },
   {
    "duration": 97,
    "start_time": "2024-04-27T17:29:06.297Z"
   },
   {
    "duration": 81,
    "start_time": "2024-04-27T17:29:17.985Z"
   },
   {
    "duration": 69,
    "start_time": "2024-04-27T17:29:28.243Z"
   },
   {
    "duration": 562,
    "start_time": "2024-04-27T17:29:44.185Z"
   },
   {
    "duration": 958,
    "start_time": "2024-04-27T17:30:31.850Z"
   },
   {
    "duration": 1186,
    "start_time": "2024-04-27T17:30:46.970Z"
   },
   {
    "duration": 1041,
    "start_time": "2024-04-27T17:31:00.614Z"
   },
   {
    "duration": 543,
    "start_time": "2024-04-27T17:31:25.682Z"
   },
   {
    "duration": 1285,
    "start_time": "2024-04-27T17:31:55.071Z"
   },
   {
    "duration": 996,
    "start_time": "2024-04-27T17:32:33.910Z"
   },
   {
    "duration": 1003,
    "start_time": "2024-04-27T17:34:27.151Z"
   },
   {
    "duration": 14,
    "start_time": "2024-04-27T17:35:03.706Z"
   },
   {
    "duration": 15,
    "start_time": "2024-04-27T17:35:28.113Z"
   },
   {
    "duration": 15,
    "start_time": "2024-04-27T17:36:33.857Z"
   },
   {
    "duration": 3,
    "start_time": "2024-04-27T17:36:52.670Z"
   },
   {
    "duration": 1165,
    "start_time": "2024-04-27T17:37:18.954Z"
   },
   {
    "duration": 11,
    "start_time": "2024-04-27T17:38:35.459Z"
   },
   {
    "duration": 4,
    "start_time": "2024-04-27T17:38:41.608Z"
   },
   {
    "duration": 5794,
    "start_time": "2024-04-27T17:40:29.544Z"
   },
   {
    "duration": 1910,
    "start_time": "2024-04-27T17:40:35.341Z"
   },
   {
    "duration": 82,
    "start_time": "2024-04-27T17:40:37.253Z"
   },
   {
    "duration": 4,
    "start_time": "2024-04-27T17:40:37.337Z"
   },
   {
    "duration": 86,
    "start_time": "2024-04-27T17:40:37.343Z"
   },
   {
    "duration": 3,
    "start_time": "2024-04-27T17:40:37.431Z"
   },
   {
    "duration": 44,
    "start_time": "2024-04-27T17:40:37.436Z"
   },
   {
    "duration": 46,
    "start_time": "2024-04-27T17:40:37.482Z"
   },
   {
    "duration": 4,
    "start_time": "2024-04-27T17:40:37.530Z"
   },
   {
    "duration": 47,
    "start_time": "2024-04-27T17:40:37.537Z"
   },
   {
    "duration": 5,
    "start_time": "2024-04-27T17:40:37.591Z"
   },
   {
    "duration": 29,
    "start_time": "2024-04-27T17:40:37.597Z"
   },
   {
    "duration": 21,
    "start_time": "2024-04-27T17:40:37.629Z"
   },
   {
    "duration": 42,
    "start_time": "2024-04-27T17:40:37.652Z"
   },
   {
    "duration": 11,
    "start_time": "2024-04-27T17:40:37.696Z"
   },
   {
    "duration": 41,
    "start_time": "2024-04-27T17:40:37.709Z"
   },
   {
    "duration": 6451,
    "start_time": "2024-04-27T17:40:37.751Z"
   },
   {
    "duration": 7,
    "start_time": "2024-04-27T17:40:44.203Z"
   },
   {
    "duration": 24,
    "start_time": "2024-04-27T17:40:44.211Z"
   },
   {
    "duration": 80,
    "start_time": "2024-04-27T17:40:44.236Z"
   },
   {
    "duration": 4,
    "start_time": "2024-04-27T17:40:44.318Z"
   },
   {
    "duration": 27,
    "start_time": "2024-04-27T17:40:44.323Z"
   },
   {
    "duration": 9,
    "start_time": "2024-04-27T17:40:44.351Z"
   },
   {
    "duration": 60,
    "start_time": "2024-04-27T17:40:44.362Z"
   },
   {
    "duration": 441,
    "start_time": "2024-04-27T17:40:44.424Z"
   },
   {
    "duration": 6,
    "start_time": "2024-04-27T17:40:44.866Z"
   },
   {
    "duration": 15,
    "start_time": "2024-04-27T17:40:44.874Z"
   },
   {
    "duration": 28,
    "start_time": "2024-04-27T17:40:44.895Z"
   },
   {
    "duration": 167,
    "start_time": "2024-04-27T17:40:44.925Z"
   },
   {
    "duration": 9,
    "start_time": "2024-04-27T17:40:45.094Z"
   },
   {
    "duration": 40,
    "start_time": "2024-04-27T17:40:45.104Z"
   },
   {
    "duration": 17,
    "start_time": "2024-04-27T17:40:45.146Z"
   },
   {
    "duration": 135,
    "start_time": "2024-04-27T17:40:45.165Z"
   },
   {
    "duration": 15,
    "start_time": "2024-04-27T17:40:45.302Z"
   },
   {
    "duration": 32,
    "start_time": "2024-04-27T17:40:45.318Z"
   },
   {
    "duration": 72,
    "start_time": "2024-04-27T17:40:45.352Z"
   },
   {
    "duration": 892,
    "start_time": "2024-04-27T17:40:45.425Z"
   },
   {
    "duration": 2653,
    "start_time": "2024-04-27T17:40:46.319Z"
   },
   {
    "duration": 4,
    "start_time": "2024-04-27T17:40:48.974Z"
   },
   {
    "duration": 30,
    "start_time": "2024-04-27T17:40:48.980Z"
   },
   {
    "duration": 12,
    "start_time": "2024-04-27T17:40:49.012Z"
   },
   {
    "duration": 9,
    "start_time": "2024-04-27T17:40:49.025Z"
   },
   {
    "duration": 21,
    "start_time": "2024-04-27T17:40:49.037Z"
   },
   {
    "duration": 10,
    "start_time": "2024-04-27T17:40:49.060Z"
   },
   {
    "duration": 25,
    "start_time": "2024-04-27T17:40:49.071Z"
   },
   {
    "duration": 4,
    "start_time": "2024-04-27T17:40:49.098Z"
   },
   {
    "duration": 9,
    "start_time": "2024-04-27T17:40:49.104Z"
   },
   {
    "duration": 5,
    "start_time": "2024-04-27T17:40:49.114Z"
   },
   {
    "duration": 7,
    "start_time": "2024-04-27T17:40:49.121Z"
   },
   {
    "duration": 13,
    "start_time": "2024-04-27T17:40:49.130Z"
   },
   {
    "duration": 5,
    "start_time": "2024-04-27T17:40:49.145Z"
   },
   {
    "duration": 2552,
    "start_time": "2024-04-27T17:40:49.152Z"
   },
   {
    "duration": 13,
    "start_time": "2024-04-27T17:40:51.705Z"
   },
   {
    "duration": 19,
    "start_time": "2024-04-27T17:40:51.719Z"
   },
   {
    "duration": 19,
    "start_time": "2024-04-27T17:40:51.740Z"
   },
   {
    "duration": 13,
    "start_time": "2024-04-27T17:40:51.760Z"
   },
   {
    "duration": 22,
    "start_time": "2024-04-27T17:40:51.775Z"
   },
   {
    "duration": 19,
    "start_time": "2024-04-27T17:40:51.798Z"
   },
   {
    "duration": 18,
    "start_time": "2024-04-27T17:40:51.819Z"
   },
   {
    "duration": 1165,
    "start_time": "2024-04-27T17:40:51.839Z"
   },
   {
    "duration": 3,
    "start_time": "2024-04-27T17:40:53.006Z"
   },
   {
    "duration": 13,
    "start_time": "2024-04-27T17:40:53.011Z"
   },
   {
    "duration": 23,
    "start_time": "2024-04-27T17:40:53.026Z"
   },
   {
    "duration": 46,
    "start_time": "2024-04-27T17:40:53.052Z"
   },
   {
    "duration": 106,
    "start_time": "2024-04-27T17:40:53.101Z"
   },
   {
    "duration": 56,
    "start_time": "2024-04-27T17:40:53.208Z"
   },
   {
    "duration": 441,
    "start_time": "2024-04-27T17:40:53.266Z"
   },
   {
    "duration": 23,
    "start_time": "2024-04-27T17:46:03.360Z"
   },
   {
    "duration": 21,
    "start_time": "2024-04-27T17:46:53.840Z"
   },
   {
    "duration": 4,
    "start_time": "2024-04-27T17:47:37.445Z"
   },
   {
    "duration": 141,
    "start_time": "2024-04-27T17:49:00.444Z"
   },
   {
    "duration": 14,
    "start_time": "2024-04-27T17:49:37.625Z"
   },
   {
    "duration": 19,
    "start_time": "2024-04-27T17:49:42.129Z"
   },
   {
    "duration": 3,
    "start_time": "2024-04-27T17:49:42.590Z"
   },
   {
    "duration": 3,
    "start_time": "2024-04-27T17:49:46.543Z"
   },
   {
    "duration": 17,
    "start_time": "2024-04-27T17:50:04.441Z"
   },
   {
    "duration": 259,
    "start_time": "2024-04-27T17:50:10.994Z"
   },
   {
    "duration": 209,
    "start_time": "2024-04-27T17:50:29.272Z"
   },
   {
    "duration": 978,
    "start_time": "2024-04-27T17:50:34.750Z"
   },
   {
    "duration": 1038,
    "start_time": "2024-04-27T17:50:50.389Z"
   },
   {
    "duration": 946,
    "start_time": "2024-04-27T17:51:04.968Z"
   },
   {
    "duration": 1280,
    "start_time": "2024-04-27T17:51:25.121Z"
   },
   {
    "duration": 4,
    "start_time": "2024-04-27T17:53:29.383Z"
   },
   {
    "duration": 18,
    "start_time": "2024-04-27T17:53:30.200Z"
   },
   {
    "duration": 996,
    "start_time": "2024-04-27T17:53:47.449Z"
   },
   {
    "duration": 175,
    "start_time": "2024-04-27T17:54:29.405Z"
   },
   {
    "duration": 1046,
    "start_time": "2024-04-27T18:03:58.806Z"
   },
   {
    "duration": 12,
    "start_time": "2024-04-27T18:04:53.858Z"
   },
   {
    "duration": 1315,
    "start_time": "2024-04-27T18:05:37.094Z"
   },
   {
    "duration": 1212,
    "start_time": "2024-04-27T18:06:02.814Z"
   },
   {
    "duration": 25,
    "start_time": "2024-04-27T18:06:42.245Z"
   },
   {
    "duration": 916,
    "start_time": "2024-04-27T18:06:49.338Z"
   },
   {
    "duration": 5046,
    "start_time": "2024-04-27T18:07:21.920Z"
   },
   {
    "duration": 1965,
    "start_time": "2024-04-27T18:07:26.969Z"
   },
   {
    "duration": 83,
    "start_time": "2024-04-27T18:07:28.936Z"
   },
   {
    "duration": 4,
    "start_time": "2024-04-27T18:07:29.021Z"
   },
   {
    "duration": 86,
    "start_time": "2024-04-27T18:07:29.026Z"
   },
   {
    "duration": 4,
    "start_time": "2024-04-27T18:07:29.114Z"
   },
   {
    "duration": 28,
    "start_time": "2024-04-27T18:07:29.119Z"
   },
   {
    "duration": 49,
    "start_time": "2024-04-27T18:07:29.148Z"
   },
   {
    "duration": 4,
    "start_time": "2024-04-27T18:07:29.198Z"
   },
   {
    "duration": 14,
    "start_time": "2024-04-27T18:07:29.204Z"
   },
   {
    "duration": 4,
    "start_time": "2024-04-27T18:07:29.220Z"
   },
   {
    "duration": 7,
    "start_time": "2024-04-27T18:07:29.225Z"
   },
   {
    "duration": 6,
    "start_time": "2024-04-27T18:07:29.233Z"
   },
   {
    "duration": 23,
    "start_time": "2024-04-27T18:07:29.241Z"
   },
   {
    "duration": 10,
    "start_time": "2024-04-27T18:07:29.292Z"
   },
   {
    "duration": 14,
    "start_time": "2024-04-27T18:07:29.304Z"
   },
   {
    "duration": 7070,
    "start_time": "2024-04-27T18:07:29.319Z"
   },
   {
    "duration": 6,
    "start_time": "2024-04-27T18:07:36.391Z"
   },
   {
    "duration": 15,
    "start_time": "2024-04-27T18:07:36.399Z"
   },
   {
    "duration": 96,
    "start_time": "2024-04-27T18:07:36.416Z"
   },
   {
    "duration": 5,
    "start_time": "2024-04-27T18:07:36.513Z"
   },
   {
    "duration": 16,
    "start_time": "2024-04-27T18:07:36.520Z"
   },
   {
    "duration": 12,
    "start_time": "2024-04-27T18:07:36.537Z"
   },
   {
    "duration": 14,
    "start_time": "2024-04-27T18:07:36.551Z"
   },
   {
    "duration": 393,
    "start_time": "2024-04-27T18:07:36.567Z"
   },
   {
    "duration": 6,
    "start_time": "2024-04-27T18:07:36.962Z"
   },
   {
    "duration": 23,
    "start_time": "2024-04-27T18:07:36.970Z"
   },
   {
    "duration": 6,
    "start_time": "2024-04-27T18:07:36.997Z"
   },
   {
    "duration": 169,
    "start_time": "2024-04-27T18:07:37.004Z"
   },
   {
    "duration": 18,
    "start_time": "2024-04-27T18:07:37.175Z"
   },
   {
    "duration": 12,
    "start_time": "2024-04-27T18:07:37.195Z"
   },
   {
    "duration": 7,
    "start_time": "2024-04-27T18:07:37.208Z"
   },
   {
    "duration": 34,
    "start_time": "2024-04-27T18:07:37.216Z"
   },
   {
    "duration": 4,
    "start_time": "2024-04-27T18:07:37.251Z"
   },
   {
    "duration": 5,
    "start_time": "2024-04-27T18:07:37.257Z"
   },
   {
    "duration": 6,
    "start_time": "2024-04-27T18:07:37.263Z"
   },
   {
    "duration": 837,
    "start_time": "2024-04-27T18:07:37.291Z"
   },
   {
    "duration": 2587,
    "start_time": "2024-04-27T18:07:38.129Z"
   },
   {
    "duration": 5,
    "start_time": "2024-04-27T18:07:40.718Z"
   },
   {
    "duration": 28,
    "start_time": "2024-04-27T18:07:40.725Z"
   },
   {
    "duration": 14,
    "start_time": "2024-04-27T18:07:40.755Z"
   },
   {
    "duration": 34,
    "start_time": "2024-04-27T18:07:40.771Z"
   },
   {
    "duration": 39,
    "start_time": "2024-04-27T18:07:40.806Z"
   },
   {
    "duration": 21,
    "start_time": "2024-04-27T18:07:40.848Z"
   },
   {
    "duration": 29,
    "start_time": "2024-04-27T18:07:40.871Z"
   },
   {
    "duration": 13,
    "start_time": "2024-04-27T18:07:40.902Z"
   },
   {
    "duration": 44,
    "start_time": "2024-04-27T18:07:40.917Z"
   },
   {
    "duration": 7,
    "start_time": "2024-04-27T18:07:40.963Z"
   },
   {
    "duration": 8,
    "start_time": "2024-04-27T18:07:40.972Z"
   },
   {
    "duration": 16,
    "start_time": "2024-04-27T18:07:40.982Z"
   },
   {
    "duration": 9,
    "start_time": "2024-04-27T18:07:40.999Z"
   },
   {
    "duration": 2455,
    "start_time": "2024-04-27T18:07:41.010Z"
   },
   {
    "duration": 12,
    "start_time": "2024-04-27T18:07:43.468Z"
   },
   {
    "duration": 10,
    "start_time": "2024-04-27T18:07:43.482Z"
   },
   {
    "duration": 18,
    "start_time": "2024-04-27T18:07:43.494Z"
   },
   {
    "duration": 138,
    "start_time": "2024-04-27T18:07:43.514Z"
   },
   {
    "duration": 0,
    "start_time": "2024-04-27T18:07:43.654Z"
   },
   {
    "duration": 0,
    "start_time": "2024-04-27T18:07:43.656Z"
   },
   {
    "duration": 0,
    "start_time": "2024-04-27T18:07:43.657Z"
   },
   {
    "duration": 0,
    "start_time": "2024-04-27T18:07:43.659Z"
   },
   {
    "duration": 0,
    "start_time": "2024-04-27T18:07:43.660Z"
   },
   {
    "duration": 0,
    "start_time": "2024-04-27T18:07:43.662Z"
   },
   {
    "duration": 0,
    "start_time": "2024-04-27T18:07:43.663Z"
   },
   {
    "duration": 0,
    "start_time": "2024-04-27T18:07:43.665Z"
   },
   {
    "duration": 0,
    "start_time": "2024-04-27T18:07:43.666Z"
   },
   {
    "duration": 13,
    "start_time": "2024-04-27T18:07:57.329Z"
   },
   {
    "duration": 11,
    "start_time": "2024-04-27T18:10:15.849Z"
   },
   {
    "duration": 13,
    "start_time": "2024-04-27T18:12:09.255Z"
   },
   {
    "duration": 14,
    "start_time": "2024-04-27T18:12:40.752Z"
   },
   {
    "duration": 12,
    "start_time": "2024-04-27T18:12:46.349Z"
   },
   {
    "duration": 13,
    "start_time": "2024-04-27T18:16:47.649Z"
   },
   {
    "duration": 14,
    "start_time": "2024-04-27T18:16:59.976Z"
   },
   {
    "duration": 13,
    "start_time": "2024-04-27T18:17:43.386Z"
   },
   {
    "duration": 13,
    "start_time": "2024-04-27T18:18:22.474Z"
   },
   {
    "duration": 18,
    "start_time": "2024-04-27T18:19:20.719Z"
   },
   {
    "duration": 36,
    "start_time": "2024-04-27T18:19:57.742Z"
   },
   {
    "duration": 150,
    "start_time": "2024-04-27T18:20:11.915Z"
   },
   {
    "duration": 31,
    "start_time": "2024-04-27T18:20:35.113Z"
   },
   {
    "duration": 4,
    "start_time": "2024-04-27T18:20:40.617Z"
   },
   {
    "duration": 13,
    "start_time": "2024-04-27T18:20:55.340Z"
   },
   {
    "duration": 2,
    "start_time": "2024-04-27T18:21:33.733Z"
   },
   {
    "duration": 32,
    "start_time": "2024-04-27T18:22:25.138Z"
   },
   {
    "duration": 15,
    "start_time": "2024-04-27T18:22:25.606Z"
   },
   {
    "duration": 3,
    "start_time": "2024-04-27T18:22:28.500Z"
   },
   {
    "duration": 4,
    "start_time": "2024-04-27T18:22:50.114Z"
   },
   {
    "duration": 15,
    "start_time": "2024-04-27T18:23:11.342Z"
   },
   {
    "duration": 13,
    "start_time": "2024-04-27T18:23:20.609Z"
   },
   {
    "duration": 3,
    "start_time": "2024-04-27T18:23:20.794Z"
   },
   {
    "duration": 2,
    "start_time": "2024-04-27T18:23:20.950Z"
   },
   {
    "duration": 18,
    "start_time": "2024-04-27T18:23:21.140Z"
   },
   {
    "duration": 3,
    "start_time": "2024-04-27T18:23:24.839Z"
   },
   {
    "duration": 17,
    "start_time": "2024-04-27T18:23:27.318Z"
   },
   {
    "duration": 972,
    "start_time": "2024-04-27T18:23:30.078Z"
   },
   {
    "duration": 30,
    "start_time": "2024-04-27T18:23:36.408Z"
   },
   {
    "duration": 11,
    "start_time": "2024-04-27T18:23:36.718Z"
   },
   {
    "duration": 4,
    "start_time": "2024-04-27T18:23:36.985Z"
   },
   {
    "duration": 2,
    "start_time": "2024-04-27T18:23:37.221Z"
   },
   {
    "duration": 3,
    "start_time": "2024-04-27T18:23:37.465Z"
   },
   {
    "duration": 4,
    "start_time": "2024-04-27T18:23:38.217Z"
   },
   {
    "duration": 1148,
    "start_time": "2024-04-27T18:23:38.910Z"
   },
   {
    "duration": 978,
    "start_time": "2024-04-27T18:24:21.066Z"
   },
   {
    "duration": 4,
    "start_time": "2024-04-27T18:25:33.681Z"
   },
   {
    "duration": 4,
    "start_time": "2024-04-27T18:25:37.537Z"
   },
   {
    "duration": 3,
    "start_time": "2024-04-27T18:25:54.105Z"
   },
   {
    "duration": 4,
    "start_time": "2024-04-27T18:25:54.362Z"
   },
   {
    "duration": 956,
    "start_time": "2024-04-27T18:25:54.782Z"
   },
   {
    "duration": 44,
    "start_time": "2024-04-27T18:28:10.811Z"
   },
   {
    "duration": 162,
    "start_time": "2024-04-27T18:28:19.590Z"
   },
   {
    "duration": 35,
    "start_time": "2024-04-27T18:30:19.230Z"
   },
   {
    "duration": 36,
    "start_time": "2024-04-27T18:30:27.734Z"
   },
   {
    "duration": 15,
    "start_time": "2024-04-27T18:31:16.882Z"
   },
   {
    "duration": 5,
    "start_time": "2024-04-27T18:31:30.842Z"
   },
   {
    "duration": 4,
    "start_time": "2024-04-27T18:31:38.431Z"
   },
   {
    "duration": 5877,
    "start_time": "2024-04-27T18:31:57.388Z"
   },
   {
    "duration": 1996,
    "start_time": "2024-04-27T18:32:03.267Z"
   },
   {
    "duration": 84,
    "start_time": "2024-04-27T18:32:05.264Z"
   },
   {
    "duration": 4,
    "start_time": "2024-04-27T18:32:05.350Z"
   },
   {
    "duration": 93,
    "start_time": "2024-04-27T18:32:05.356Z"
   },
   {
    "duration": 20,
    "start_time": "2024-04-27T18:32:05.450Z"
   },
   {
    "duration": 31,
    "start_time": "2024-04-27T18:32:05.472Z"
   },
   {
    "duration": 37,
    "start_time": "2024-04-27T18:32:05.504Z"
   },
   {
    "duration": 3,
    "start_time": "2024-04-27T18:32:05.543Z"
   },
   {
    "duration": 45,
    "start_time": "2024-04-27T18:32:05.549Z"
   },
   {
    "duration": 10,
    "start_time": "2024-04-27T18:32:05.595Z"
   },
   {
    "duration": 18,
    "start_time": "2024-04-27T18:32:05.607Z"
   },
   {
    "duration": 54,
    "start_time": "2024-04-27T18:32:05.627Z"
   },
   {
    "duration": 85,
    "start_time": "2024-04-27T18:32:05.684Z"
   },
   {
    "duration": 9,
    "start_time": "2024-04-27T18:32:05.771Z"
   },
   {
    "duration": 8,
    "start_time": "2024-04-27T18:32:05.782Z"
   },
   {
    "duration": 6462,
    "start_time": "2024-04-27T18:32:05.792Z"
   },
   {
    "duration": 6,
    "start_time": "2024-04-27T18:32:12.256Z"
   },
   {
    "duration": 5,
    "start_time": "2024-04-27T18:32:12.264Z"
   },
   {
    "duration": 120,
    "start_time": "2024-04-27T18:32:12.271Z"
   },
   {
    "duration": 5,
    "start_time": "2024-04-27T18:32:12.393Z"
   },
   {
    "duration": 13,
    "start_time": "2024-04-27T18:32:12.400Z"
   },
   {
    "duration": 8,
    "start_time": "2024-04-27T18:32:12.414Z"
   },
   {
    "duration": 16,
    "start_time": "2024-04-27T18:32:12.423Z"
   },
   {
    "duration": 407,
    "start_time": "2024-04-27T18:32:12.441Z"
   },
   {
    "duration": 6,
    "start_time": "2024-04-27T18:32:12.849Z"
   },
   {
    "duration": 22,
    "start_time": "2024-04-27T18:32:12.857Z"
   },
   {
    "duration": 157,
    "start_time": "2024-04-27T18:32:12.883Z"
   },
   {
    "duration": 16,
    "start_time": "2024-04-27T18:32:13.041Z"
   },
   {
    "duration": 10,
    "start_time": "2024-04-27T18:32:13.058Z"
   },
   {
    "duration": 30,
    "start_time": "2024-04-27T18:32:13.069Z"
   },
   {
    "duration": 25,
    "start_time": "2024-04-27T18:32:13.100Z"
   },
   {
    "duration": 37,
    "start_time": "2024-04-27T18:32:13.126Z"
   },
   {
    "duration": 4,
    "start_time": "2024-04-27T18:32:13.165Z"
   },
   {
    "duration": 16,
    "start_time": "2024-04-27T18:32:13.172Z"
   },
   {
    "duration": 21,
    "start_time": "2024-04-27T18:32:13.190Z"
   },
   {
    "duration": 886,
    "start_time": "2024-04-27T18:32:13.213Z"
   },
   {
    "duration": 2639,
    "start_time": "2024-04-27T18:32:14.101Z"
   },
   {
    "duration": 5,
    "start_time": "2024-04-27T18:32:16.742Z"
   },
   {
    "duration": 61,
    "start_time": "2024-04-27T18:32:16.749Z"
   },
   {
    "duration": 58,
    "start_time": "2024-04-27T18:32:16.812Z"
   },
   {
    "duration": 17,
    "start_time": "2024-04-27T18:32:16.872Z"
   },
   {
    "duration": 30,
    "start_time": "2024-04-27T18:32:16.890Z"
   },
   {
    "duration": 52,
    "start_time": "2024-04-27T18:32:16.922Z"
   },
   {
    "duration": 31,
    "start_time": "2024-04-27T18:32:16.976Z"
   },
   {
    "duration": 28,
    "start_time": "2024-04-27T18:32:17.009Z"
   },
   {
    "duration": 49,
    "start_time": "2024-04-27T18:32:17.039Z"
   },
   {
    "duration": 27,
    "start_time": "2024-04-27T18:32:17.090Z"
   },
   {
    "duration": 56,
    "start_time": "2024-04-27T18:32:17.119Z"
   },
   {
    "duration": 15,
    "start_time": "2024-04-27T18:32:17.176Z"
   },
   {
    "duration": 12,
    "start_time": "2024-04-27T18:32:17.193Z"
   },
   {
    "duration": 2428,
    "start_time": "2024-04-27T18:32:17.207Z"
   },
   {
    "duration": 140,
    "start_time": "2024-04-27T18:32:19.636Z"
   },
   {
    "duration": 0,
    "start_time": "2024-04-27T18:32:19.778Z"
   },
   {
    "duration": 0,
    "start_time": "2024-04-27T18:32:19.779Z"
   },
   {
    "duration": 0,
    "start_time": "2024-04-27T18:32:19.780Z"
   },
   {
    "duration": 0,
    "start_time": "2024-04-27T18:32:19.781Z"
   },
   {
    "duration": 0,
    "start_time": "2024-04-27T18:32:19.782Z"
   },
   {
    "duration": 0,
    "start_time": "2024-04-27T18:32:19.791Z"
   },
   {
    "duration": 0,
    "start_time": "2024-04-27T18:32:19.792Z"
   },
   {
    "duration": 0,
    "start_time": "2024-04-27T18:32:19.794Z"
   },
   {
    "duration": 0,
    "start_time": "2024-04-27T18:32:19.795Z"
   },
   {
    "duration": 0,
    "start_time": "2024-04-27T18:32:19.796Z"
   },
   {
    "duration": 0,
    "start_time": "2024-04-27T18:32:19.797Z"
   },
   {
    "duration": 0,
    "start_time": "2024-04-27T18:32:19.799Z"
   },
   {
    "duration": 0,
    "start_time": "2024-04-27T18:32:19.800Z"
   },
   {
    "duration": 0,
    "start_time": "2024-04-27T18:32:19.802Z"
   },
   {
    "duration": 0,
    "start_time": "2024-04-27T18:32:19.804Z"
   },
   {
    "duration": 0,
    "start_time": "2024-04-27T18:32:19.805Z"
   },
   {
    "duration": 0,
    "start_time": "2024-04-27T18:32:19.808Z"
   },
   {
    "duration": 0,
    "start_time": "2024-04-27T18:32:19.809Z"
   },
   {
    "duration": 1,
    "start_time": "2024-04-27T18:32:19.810Z"
   },
   {
    "duration": 0,
    "start_time": "2024-04-27T18:32:19.812Z"
   },
   {
    "duration": 0,
    "start_time": "2024-04-27T18:32:19.813Z"
   },
   {
    "duration": 0,
    "start_time": "2024-04-27T18:32:19.815Z"
   },
   {
    "duration": 0,
    "start_time": "2024-04-27T18:32:19.816Z"
   },
   {
    "duration": 0,
    "start_time": "2024-04-27T18:32:19.817Z"
   },
   {
    "duration": 13,
    "start_time": "2024-04-27T18:33:41.944Z"
   },
   {
    "duration": 11,
    "start_time": "2024-04-27T18:33:57.329Z"
   },
   {
    "duration": 12,
    "start_time": "2024-04-27T18:34:24.775Z"
   },
   {
    "duration": 12,
    "start_time": "2024-04-27T18:34:48.326Z"
   },
   {
    "duration": 15,
    "start_time": "2024-04-27T18:35:01.196Z"
   },
   {
    "duration": 12,
    "start_time": "2024-04-27T18:35:05.119Z"
   },
   {
    "duration": 11,
    "start_time": "2024-04-27T18:35:37.431Z"
   },
   {
    "duration": 37,
    "start_time": "2024-04-27T18:35:47.527Z"
   },
   {
    "duration": 33,
    "start_time": "2024-04-27T18:36:04.983Z"
   },
   {
    "duration": 13,
    "start_time": "2024-04-27T18:36:05.327Z"
   },
   {
    "duration": 3,
    "start_time": "2024-04-27T18:36:06.811Z"
   },
   {
    "duration": 5,
    "start_time": "2024-04-27T18:36:12.154Z"
   },
   {
    "duration": 3,
    "start_time": "2024-04-27T18:36:12.987Z"
   },
   {
    "duration": 4,
    "start_time": "2024-04-27T18:36:14.476Z"
   },
   {
    "duration": 12,
    "start_time": "2024-04-27T18:37:26.491Z"
   },
   {
    "duration": 30,
    "start_time": "2024-04-27T18:38:38.684Z"
   },
   {
    "duration": 10,
    "start_time": "2024-04-27T18:38:46.176Z"
   },
   {
    "duration": 2,
    "start_time": "2024-04-27T18:39:20.344Z"
   },
   {
    "duration": 5010,
    "start_time": "2024-04-27T18:39:36.578Z"
   },
   {
    "duration": 1940,
    "start_time": "2024-04-27T18:39:41.590Z"
   },
   {
    "duration": 83,
    "start_time": "2024-04-27T18:39:43.532Z"
   },
   {
    "duration": 4,
    "start_time": "2024-04-27T18:39:43.618Z"
   },
   {
    "duration": 89,
    "start_time": "2024-04-27T18:39:43.623Z"
   },
   {
    "duration": 4,
    "start_time": "2024-04-27T18:39:43.713Z"
   },
   {
    "duration": 15,
    "start_time": "2024-04-27T18:39:43.719Z"
   },
   {
    "duration": 61,
    "start_time": "2024-04-27T18:39:43.735Z"
   },
   {
    "duration": 4,
    "start_time": "2024-04-27T18:39:43.797Z"
   },
   {
    "duration": 26,
    "start_time": "2024-04-27T18:39:43.804Z"
   },
   {
    "duration": 3,
    "start_time": "2024-04-27T18:39:43.831Z"
   },
   {
    "duration": 8,
    "start_time": "2024-04-27T18:39:43.835Z"
   },
   {
    "duration": 8,
    "start_time": "2024-04-27T18:39:43.845Z"
   },
   {
    "duration": 18,
    "start_time": "2024-04-27T18:39:43.855Z"
   },
   {
    "duration": 22,
    "start_time": "2024-04-27T18:39:43.874Z"
   },
   {
    "duration": 8,
    "start_time": "2024-04-27T18:39:43.898Z"
   },
   {
    "duration": 7163,
    "start_time": "2024-04-27T18:39:43.908Z"
   },
   {
    "duration": 7,
    "start_time": "2024-04-27T18:39:51.073Z"
   },
   {
    "duration": 13,
    "start_time": "2024-04-27T18:39:51.082Z"
   },
   {
    "duration": 104,
    "start_time": "2024-04-27T18:39:51.097Z"
   },
   {
    "duration": 5,
    "start_time": "2024-04-27T18:39:51.203Z"
   },
   {
    "duration": 21,
    "start_time": "2024-04-27T18:39:51.210Z"
   },
   {
    "duration": 17,
    "start_time": "2024-04-27T18:39:51.233Z"
   },
   {
    "duration": 24,
    "start_time": "2024-04-27T18:39:51.252Z"
   },
   {
    "duration": 380,
    "start_time": "2024-04-27T18:39:51.278Z"
   },
   {
    "duration": 7,
    "start_time": "2024-04-27T18:39:51.660Z"
   },
   {
    "duration": 31,
    "start_time": "2024-04-27T18:39:51.669Z"
   },
   {
    "duration": 154,
    "start_time": "2024-04-27T18:39:51.704Z"
   },
   {
    "duration": 41,
    "start_time": "2024-04-27T18:39:51.860Z"
   },
   {
    "duration": 22,
    "start_time": "2024-04-27T18:39:51.903Z"
   },
   {
    "duration": 36,
    "start_time": "2024-04-27T18:39:51.927Z"
   },
   {
    "duration": 20,
    "start_time": "2024-04-27T18:39:51.965Z"
   },
   {
    "duration": 29,
    "start_time": "2024-04-27T18:39:51.987Z"
   },
   {
    "duration": 5,
    "start_time": "2024-04-27T18:39:52.018Z"
   },
   {
    "duration": 34,
    "start_time": "2024-04-27T18:39:52.024Z"
   },
   {
    "duration": 19,
    "start_time": "2024-04-27T18:39:52.060Z"
   },
   {
    "duration": 844,
    "start_time": "2024-04-27T18:39:52.080Z"
   },
   {
    "duration": 3415,
    "start_time": "2024-04-27T18:39:52.926Z"
   },
   {
    "duration": 5,
    "start_time": "2024-04-27T18:39:56.343Z"
   },
   {
    "duration": 9,
    "start_time": "2024-04-27T18:39:56.350Z"
   },
   {
    "duration": 11,
    "start_time": "2024-04-27T18:39:56.360Z"
   },
   {
    "duration": 5,
    "start_time": "2024-04-27T18:39:56.392Z"
   },
   {
    "duration": 15,
    "start_time": "2024-04-27T18:39:56.399Z"
   },
   {
    "duration": 22,
    "start_time": "2024-04-27T18:39:56.416Z"
   },
   {
    "duration": 18,
    "start_time": "2024-04-27T18:39:56.439Z"
   },
   {
    "duration": 17,
    "start_time": "2024-04-27T18:39:56.458Z"
   },
   {
    "duration": 35,
    "start_time": "2024-04-27T18:39:56.476Z"
   },
   {
    "duration": 29,
    "start_time": "2024-04-27T18:39:56.513Z"
   },
   {
    "duration": 17,
    "start_time": "2024-04-27T18:39:56.544Z"
   },
   {
    "duration": 13,
    "start_time": "2024-04-27T18:39:56.563Z"
   },
   {
    "duration": 14,
    "start_time": "2024-04-27T18:39:56.577Z"
   },
   {
    "duration": 2502,
    "start_time": "2024-04-27T18:39:56.593Z"
   },
   {
    "duration": 3,
    "start_time": "2024-04-27T18:39:59.097Z"
   },
   {
    "duration": 144,
    "start_time": "2024-04-27T18:39:59.101Z"
   },
   {
    "duration": 0,
    "start_time": "2024-04-27T18:39:59.247Z"
   },
   {
    "duration": 0,
    "start_time": "2024-04-27T18:39:59.249Z"
   },
   {
    "duration": 0,
    "start_time": "2024-04-27T18:39:59.250Z"
   },
   {
    "duration": 0,
    "start_time": "2024-04-27T18:39:59.252Z"
   },
   {
    "duration": 0,
    "start_time": "2024-04-27T18:39:59.253Z"
   },
   {
    "duration": 0,
    "start_time": "2024-04-27T18:39:59.255Z"
   },
   {
    "duration": 0,
    "start_time": "2024-04-27T18:39:59.256Z"
   },
   {
    "duration": 0,
    "start_time": "2024-04-27T18:39:59.258Z"
   },
   {
    "duration": 0,
    "start_time": "2024-04-27T18:39:59.259Z"
   },
   {
    "duration": 0,
    "start_time": "2024-04-27T18:39:59.260Z"
   },
   {
    "duration": 0,
    "start_time": "2024-04-27T18:39:59.262Z"
   },
   {
    "duration": 0,
    "start_time": "2024-04-27T18:39:59.292Z"
   },
   {
    "duration": 0,
    "start_time": "2024-04-27T18:39:59.293Z"
   },
   {
    "duration": 0,
    "start_time": "2024-04-27T18:39:59.296Z"
   },
   {
    "duration": 0,
    "start_time": "2024-04-27T18:39:59.297Z"
   },
   {
    "duration": 0,
    "start_time": "2024-04-27T18:39:59.299Z"
   },
   {
    "duration": 0,
    "start_time": "2024-04-27T18:39:59.300Z"
   },
   {
    "duration": 0,
    "start_time": "2024-04-27T18:39:59.302Z"
   },
   {
    "duration": 0,
    "start_time": "2024-04-27T18:39:59.304Z"
   },
   {
    "duration": 0,
    "start_time": "2024-04-27T18:39:59.305Z"
   },
   {
    "duration": 0,
    "start_time": "2024-04-27T18:39:59.306Z"
   },
   {
    "duration": 0,
    "start_time": "2024-04-27T18:39:59.308Z"
   },
   {
    "duration": 0,
    "start_time": "2024-04-27T18:39:59.309Z"
   },
   {
    "duration": 0,
    "start_time": "2024-04-27T18:39:59.311Z"
   },
   {
    "duration": 0,
    "start_time": "2024-04-27T18:39:59.313Z"
   },
   {
    "duration": 32,
    "start_time": "2024-04-27T18:40:09.130Z"
   },
   {
    "duration": 3,
    "start_time": "2024-04-27T18:40:10.321Z"
   },
   {
    "duration": 3,
    "start_time": "2024-04-27T18:40:32.206Z"
   },
   {
    "duration": 12,
    "start_time": "2024-04-27T18:40:39.973Z"
   },
   {
    "duration": 11,
    "start_time": "2024-04-27T18:40:49.525Z"
   },
   {
    "duration": 10,
    "start_time": "2024-04-27T18:41:33.050Z"
   },
   {
    "duration": 10,
    "start_time": "2024-04-27T18:41:48.688Z"
   },
   {
    "duration": 3,
    "start_time": "2024-04-27T18:41:56.886Z"
   },
   {
    "duration": 5,
    "start_time": "2024-04-27T18:42:22.435Z"
   },
   {
    "duration": 11,
    "start_time": "2024-04-27T18:43:06.256Z"
   },
   {
    "duration": 14,
    "start_time": "2024-04-27T18:43:37.481Z"
   },
   {
    "duration": 26,
    "start_time": "2024-04-27T18:43:52.688Z"
   },
   {
    "duration": 1029,
    "start_time": "2024-04-27T18:44:19.466Z"
   },
   {
    "duration": 6058,
    "start_time": "2024-04-27T18:44:36.798Z"
   },
   {
    "duration": 1853,
    "start_time": "2024-04-27T18:44:42.858Z"
   },
   {
    "duration": 86,
    "start_time": "2024-04-27T18:44:44.712Z"
   },
   {
    "duration": 4,
    "start_time": "2024-04-27T18:44:44.800Z"
   },
   {
    "duration": 91,
    "start_time": "2024-04-27T18:44:44.805Z"
   },
   {
    "duration": 5,
    "start_time": "2024-04-27T18:44:44.897Z"
   },
   {
    "duration": 8,
    "start_time": "2024-04-27T18:44:44.904Z"
   },
   {
    "duration": 44,
    "start_time": "2024-04-27T18:44:44.913Z"
   },
   {
    "duration": 4,
    "start_time": "2024-04-27T18:44:44.991Z"
   },
   {
    "duration": 15,
    "start_time": "2024-04-27T18:44:44.997Z"
   },
   {
    "duration": 27,
    "start_time": "2024-04-27T18:44:45.014Z"
   },
   {
    "duration": 43,
    "start_time": "2024-04-27T18:44:45.043Z"
   },
   {
    "duration": 23,
    "start_time": "2024-04-27T18:44:45.088Z"
   },
   {
    "duration": 70,
    "start_time": "2024-04-27T18:44:45.113Z"
   },
   {
    "duration": 12,
    "start_time": "2024-04-27T18:44:45.184Z"
   },
   {
    "duration": 18,
    "start_time": "2024-04-27T18:44:45.198Z"
   },
   {
    "duration": 6362,
    "start_time": "2024-04-27T18:44:45.218Z"
   },
   {
    "duration": 10,
    "start_time": "2024-04-27T18:44:51.582Z"
   },
   {
    "duration": 41,
    "start_time": "2024-04-27T18:44:51.594Z"
   },
   {
    "duration": 116,
    "start_time": "2024-04-27T18:44:51.637Z"
   },
   {
    "duration": 4,
    "start_time": "2024-04-27T18:44:51.755Z"
   },
   {
    "duration": 46,
    "start_time": "2024-04-27T18:44:51.760Z"
   },
   {
    "duration": 25,
    "start_time": "2024-04-27T18:44:51.808Z"
   },
   {
    "duration": 42,
    "start_time": "2024-04-27T18:44:51.835Z"
   },
   {
    "duration": 386,
    "start_time": "2024-04-27T18:44:51.878Z"
   },
   {
    "duration": 7,
    "start_time": "2024-04-27T18:44:52.266Z"
   },
   {
    "duration": 24,
    "start_time": "2024-04-27T18:44:52.274Z"
   },
   {
    "duration": 164,
    "start_time": "2024-04-27T18:44:52.302Z"
   },
   {
    "duration": 24,
    "start_time": "2024-04-27T18:44:52.468Z"
   },
   {
    "duration": 20,
    "start_time": "2024-04-27T18:44:52.493Z"
   },
   {
    "duration": 53,
    "start_time": "2024-04-27T18:44:52.514Z"
   },
   {
    "duration": 22,
    "start_time": "2024-04-27T18:44:52.568Z"
   },
   {
    "duration": 38,
    "start_time": "2024-04-27T18:44:52.591Z"
   },
   {
    "duration": 13,
    "start_time": "2024-04-27T18:44:52.631Z"
   },
   {
    "duration": 25,
    "start_time": "2024-04-27T18:44:52.645Z"
   },
   {
    "duration": 24,
    "start_time": "2024-04-27T18:44:52.671Z"
   },
   {
    "duration": 909,
    "start_time": "2024-04-27T18:44:52.696Z"
   },
   {
    "duration": 2604,
    "start_time": "2024-04-27T18:44:53.607Z"
   },
   {
    "duration": 4,
    "start_time": "2024-04-27T18:44:56.213Z"
   },
   {
    "duration": 25,
    "start_time": "2024-04-27T18:44:56.219Z"
   },
   {
    "duration": 10,
    "start_time": "2024-04-27T18:44:56.246Z"
   },
   {
    "duration": 13,
    "start_time": "2024-04-27T18:44:56.257Z"
   },
   {
    "duration": 27,
    "start_time": "2024-04-27T18:44:56.271Z"
   },
   {
    "duration": 6,
    "start_time": "2024-04-27T18:44:56.300Z"
   },
   {
    "duration": 15,
    "start_time": "2024-04-27T18:44:56.308Z"
   },
   {
    "duration": 6,
    "start_time": "2024-04-27T18:44:56.324Z"
   },
   {
    "duration": 9,
    "start_time": "2024-04-27T18:44:56.331Z"
   },
   {
    "duration": 4,
    "start_time": "2024-04-27T18:44:56.342Z"
   },
   {
    "duration": 18,
    "start_time": "2024-04-27T18:44:56.348Z"
   },
   {
    "duration": 24,
    "start_time": "2024-04-27T18:44:56.368Z"
   },
   {
    "duration": 6,
    "start_time": "2024-04-27T18:44:56.394Z"
   },
   {
    "duration": 2474,
    "start_time": "2024-04-27T18:44:56.402Z"
   },
   {
    "duration": 37,
    "start_time": "2024-04-27T18:44:58.878Z"
   },
   {
    "duration": 1036,
    "start_time": "2024-04-27T18:44:58.917Z"
   },
   {
    "duration": 3,
    "start_time": "2024-04-27T18:44:59.955Z"
   },
   {
    "duration": 53,
    "start_time": "2024-04-27T18:44:59.960Z"
   },
   {
    "duration": 88,
    "start_time": "2024-04-27T18:45:00.015Z"
   },
   {
    "duration": 117,
    "start_time": "2024-04-27T18:45:00.105Z"
   },
   {
    "duration": 92,
    "start_time": "2024-04-27T18:45:00.224Z"
   },
   {
    "duration": 1042,
    "start_time": "2024-04-27T18:45:00.318Z"
   },
   {
    "duration": 3,
    "start_time": "2024-04-27T18:45:01.362Z"
   },
   {
    "duration": 77,
    "start_time": "2024-04-27T18:45:01.367Z"
   },
   {
    "duration": 47,
    "start_time": "2024-04-27T18:45:01.446Z"
   },
   {
    "duration": 105,
    "start_time": "2024-04-27T18:45:01.495Z"
   },
   {
    "duration": 118,
    "start_time": "2024-04-27T18:45:01.602Z"
   },
   {
    "duration": 183,
    "start_time": "2024-04-27T18:45:01.722Z"
   },
   {
    "duration": 117,
    "start_time": "2024-04-27T18:45:01.907Z"
   },
   {
    "duration": 1000,
    "start_time": "2024-04-27T18:45:02.026Z"
   },
   {
    "duration": 166,
    "start_time": "2024-04-27T18:45:03.028Z"
   },
   {
    "duration": 0,
    "start_time": "2024-04-27T18:45:03.196Z"
   },
   {
    "duration": 0,
    "start_time": "2024-04-27T18:45:03.197Z"
   },
   {
    "duration": 0,
    "start_time": "2024-04-27T18:45:03.198Z"
   },
   {
    "duration": 0,
    "start_time": "2024-04-27T18:45:03.200Z"
   },
   {
    "duration": 0,
    "start_time": "2024-04-27T18:45:03.201Z"
   },
   {
    "duration": 0,
    "start_time": "2024-04-27T18:45:03.202Z"
   },
   {
    "duration": 0,
    "start_time": "2024-04-27T18:45:03.203Z"
   },
   {
    "duration": 0,
    "start_time": "2024-04-27T18:45:03.204Z"
   },
   {
    "duration": 12,
    "start_time": "2024-04-27T18:45:37.197Z"
   },
   {
    "duration": 4,
    "start_time": "2024-04-27T18:45:37.581Z"
   },
   {
    "duration": 2,
    "start_time": "2024-04-27T18:45:38.042Z"
   },
   {
    "duration": 14,
    "start_time": "2024-04-27T18:45:39.422Z"
   },
   {
    "duration": 4,
    "start_time": "2024-04-27T18:45:40.146Z"
   },
   {
    "duration": 14,
    "start_time": "2024-04-27T18:45:40.637Z"
   },
   {
    "duration": 1034,
    "start_time": "2024-04-27T18:45:41.802Z"
   },
   {
    "duration": 6226,
    "start_time": "2024-04-27T18:47:06.423Z"
   },
   {
    "duration": 1910,
    "start_time": "2024-04-27T18:47:12.651Z"
   },
   {
    "duration": 85,
    "start_time": "2024-04-27T18:47:14.562Z"
   },
   {
    "duration": 4,
    "start_time": "2024-04-27T18:47:14.648Z"
   },
   {
    "duration": 72,
    "start_time": "2024-04-27T18:47:14.655Z"
   },
   {
    "duration": 4,
    "start_time": "2024-04-27T18:47:14.729Z"
   },
   {
    "duration": 7,
    "start_time": "2024-04-27T18:47:14.735Z"
   },
   {
    "duration": 67,
    "start_time": "2024-04-27T18:47:14.743Z"
   },
   {
    "duration": 4,
    "start_time": "2024-04-27T18:47:14.812Z"
   },
   {
    "duration": 22,
    "start_time": "2024-04-27T18:47:14.818Z"
   },
   {
    "duration": 5,
    "start_time": "2024-04-27T18:47:14.842Z"
   },
   {
    "duration": 6,
    "start_time": "2024-04-27T18:47:14.848Z"
   },
   {
    "duration": 37,
    "start_time": "2024-04-27T18:47:14.856Z"
   },
   {
    "duration": 16,
    "start_time": "2024-04-27T18:47:14.896Z"
   },
   {
    "duration": 10,
    "start_time": "2024-04-27T18:47:14.913Z"
   },
   {
    "duration": 8,
    "start_time": "2024-04-27T18:47:14.925Z"
   },
   {
    "duration": 6871,
    "start_time": "2024-04-27T18:47:14.934Z"
   },
   {
    "duration": 6,
    "start_time": "2024-04-27T18:47:21.807Z"
   },
   {
    "duration": 40,
    "start_time": "2024-04-27T18:47:21.815Z"
   },
   {
    "duration": 102,
    "start_time": "2024-04-27T18:47:21.857Z"
   },
   {
    "duration": 4,
    "start_time": "2024-04-27T18:47:21.961Z"
   },
   {
    "duration": 35,
    "start_time": "2024-04-27T18:47:21.966Z"
   },
   {
    "duration": 6,
    "start_time": "2024-04-27T18:47:22.003Z"
   },
   {
    "duration": 48,
    "start_time": "2024-04-27T18:47:22.011Z"
   },
   {
    "duration": 422,
    "start_time": "2024-04-27T18:47:22.061Z"
   },
   {
    "duration": 10,
    "start_time": "2024-04-27T18:47:22.485Z"
   },
   {
    "duration": 50,
    "start_time": "2024-04-27T18:47:22.497Z"
   },
   {
    "duration": 39,
    "start_time": "2024-04-27T18:47:22.549Z"
   },
   {
    "duration": 17,
    "start_time": "2024-04-27T18:47:22.590Z"
   },
   {
    "duration": 13,
    "start_time": "2024-04-27T18:47:22.608Z"
   },
   {
    "duration": 166,
    "start_time": "2024-04-27T18:47:22.623Z"
   },
   {
    "duration": 7,
    "start_time": "2024-04-27T18:47:22.791Z"
   },
   {
    "duration": 37,
    "start_time": "2024-04-27T18:47:22.800Z"
   },
   {
    "duration": 10,
    "start_time": "2024-04-27T18:47:22.839Z"
   },
   {
    "duration": 28,
    "start_time": "2024-04-27T18:47:22.851Z"
   },
   {
    "duration": 35,
    "start_time": "2024-04-27T18:47:22.881Z"
   },
   {
    "duration": 854,
    "start_time": "2024-04-27T18:47:22.917Z"
   },
   {
    "duration": 2653,
    "start_time": "2024-04-27T18:47:23.773Z"
   },
   {
    "duration": 5,
    "start_time": "2024-04-27T18:47:26.428Z"
   },
   {
    "duration": 34,
    "start_time": "2024-04-27T18:47:26.434Z"
   },
   {
    "duration": 25,
    "start_time": "2024-04-27T18:47:26.472Z"
   },
   {
    "duration": 23,
    "start_time": "2024-04-27T18:47:26.499Z"
   },
   {
    "duration": 29,
    "start_time": "2024-04-27T18:47:26.524Z"
   },
   {
    "duration": 13,
    "start_time": "2024-04-27T18:47:26.555Z"
   },
   {
    "duration": 53,
    "start_time": "2024-04-27T18:47:26.569Z"
   },
   {
    "duration": 37,
    "start_time": "2024-04-27T18:47:26.624Z"
   },
   {
    "duration": 38,
    "start_time": "2024-04-27T18:47:26.663Z"
   },
   {
    "duration": 12,
    "start_time": "2024-04-27T18:47:26.702Z"
   },
   {
    "duration": 44,
    "start_time": "2024-04-27T18:47:26.716Z"
   },
   {
    "duration": 7,
    "start_time": "2024-04-27T18:47:26.762Z"
   },
   {
    "duration": 21,
    "start_time": "2024-04-27T18:47:26.771Z"
   },
   {
    "duration": 2460,
    "start_time": "2024-04-27T18:47:26.794Z"
   },
   {
    "duration": 36,
    "start_time": "2024-04-27T18:47:29.255Z"
   },
   {
    "duration": 1034,
    "start_time": "2024-04-27T18:47:29.293Z"
   },
   {
    "duration": 13,
    "start_time": "2024-04-27T18:47:30.329Z"
   },
   {
    "duration": 105,
    "start_time": "2024-04-27T18:47:30.344Z"
   },
   {
    "duration": 157,
    "start_time": "2024-04-27T18:47:30.450Z"
   },
   {
    "duration": 93,
    "start_time": "2024-04-27T18:47:30.609Z"
   },
   {
    "duration": 153,
    "start_time": "2024-04-27T18:47:30.703Z"
   },
   {
    "duration": 229,
    "start_time": "2024-04-27T18:47:30.858Z"
   },
   {
    "duration": 1061,
    "start_time": "2024-04-27T18:47:31.089Z"
   },
   {
    "duration": 2,
    "start_time": "2024-04-27T18:47:32.151Z"
   },
   {
    "duration": 133,
    "start_time": "2024-04-27T18:47:32.155Z"
   },
   {
    "duration": 13,
    "start_time": "2024-04-27T18:47:32.289Z"
   },
   {
    "duration": 10,
    "start_time": "2024-04-27T18:47:32.303Z"
   },
   {
    "duration": 9,
    "start_time": "2024-04-27T18:47:32.315Z"
   },
   {
    "duration": 8,
    "start_time": "2024-04-27T18:47:32.326Z"
   },
   {
    "duration": 8,
    "start_time": "2024-04-27T18:47:32.335Z"
   },
   {
    "duration": 986,
    "start_time": "2024-04-27T18:47:32.344Z"
   },
   {
    "duration": 168,
    "start_time": "2024-04-27T18:47:33.332Z"
   },
   {
    "duration": 0,
    "start_time": "2024-04-27T18:47:33.502Z"
   },
   {
    "duration": 0,
    "start_time": "2024-04-27T18:47:33.503Z"
   },
   {
    "duration": 0,
    "start_time": "2024-04-27T18:47:33.505Z"
   },
   {
    "duration": 0,
    "start_time": "2024-04-27T18:47:33.506Z"
   },
   {
    "duration": 0,
    "start_time": "2024-04-27T18:47:33.508Z"
   },
   {
    "duration": 0,
    "start_time": "2024-04-27T18:47:33.509Z"
   },
   {
    "duration": 0,
    "start_time": "2024-04-27T18:47:33.510Z"
   },
   {
    "duration": 0,
    "start_time": "2024-04-27T18:47:33.512Z"
   },
   {
    "duration": 5522,
    "start_time": "2024-04-27T18:55:40.002Z"
   },
   {
    "duration": 2096,
    "start_time": "2024-04-27T18:55:45.527Z"
   },
   {
    "duration": 83,
    "start_time": "2024-04-27T18:55:47.625Z"
   },
   {
    "duration": 3,
    "start_time": "2024-04-27T18:55:47.710Z"
   },
   {
    "duration": 91,
    "start_time": "2024-04-27T18:55:47.715Z"
   },
   {
    "duration": 4,
    "start_time": "2024-04-27T18:55:47.807Z"
   },
   {
    "duration": 13,
    "start_time": "2024-04-27T18:55:47.812Z"
   },
   {
    "duration": 68,
    "start_time": "2024-04-27T18:55:47.826Z"
   },
   {
    "duration": 4,
    "start_time": "2024-04-27T18:55:47.895Z"
   },
   {
    "duration": 22,
    "start_time": "2024-04-27T18:55:47.901Z"
   },
   {
    "duration": 4,
    "start_time": "2024-04-27T18:55:47.925Z"
   },
   {
    "duration": 11,
    "start_time": "2024-04-27T18:55:47.930Z"
   },
   {
    "duration": 9,
    "start_time": "2024-04-27T18:55:47.943Z"
   },
   {
    "duration": 17,
    "start_time": "2024-04-27T18:55:47.954Z"
   },
   {
    "duration": 26,
    "start_time": "2024-04-27T18:55:47.973Z"
   },
   {
    "duration": 12,
    "start_time": "2024-04-27T18:55:48.001Z"
   },
   {
    "duration": 6360,
    "start_time": "2024-04-27T18:55:48.015Z"
   },
   {
    "duration": 7,
    "start_time": "2024-04-27T18:55:54.377Z"
   },
   {
    "duration": 34,
    "start_time": "2024-04-27T18:55:54.386Z"
   },
   {
    "duration": 90,
    "start_time": "2024-04-27T18:55:54.422Z"
   },
   {
    "duration": 4,
    "start_time": "2024-04-27T18:55:54.513Z"
   },
   {
    "duration": 34,
    "start_time": "2024-04-27T18:55:54.519Z"
   },
   {
    "duration": 15,
    "start_time": "2024-04-27T18:55:54.554Z"
   },
   {
    "duration": 31,
    "start_time": "2024-04-27T18:55:54.570Z"
   },
   {
    "duration": 376,
    "start_time": "2024-04-27T18:55:54.603Z"
   },
   {
    "duration": 15,
    "start_time": "2024-04-27T18:55:54.981Z"
   },
   {
    "duration": 16,
    "start_time": "2024-04-27T18:55:54.997Z"
   },
   {
    "duration": 21,
    "start_time": "2024-04-27T18:55:55.017Z"
   },
   {
    "duration": 172,
    "start_time": "2024-04-27T18:55:55.039Z"
   },
   {
    "duration": 9,
    "start_time": "2024-04-27T18:55:55.213Z"
   },
   {
    "duration": 55,
    "start_time": "2024-04-27T18:55:55.223Z"
   },
   {
    "duration": 46,
    "start_time": "2024-04-27T18:55:55.280Z"
   },
   {
    "duration": 36,
    "start_time": "2024-04-27T18:55:55.327Z"
   },
   {
    "duration": 12,
    "start_time": "2024-04-27T18:55:55.364Z"
   },
   {
    "duration": 30,
    "start_time": "2024-04-27T18:55:55.378Z"
   },
   {
    "duration": 7,
    "start_time": "2024-04-27T18:55:55.409Z"
   },
   {
    "duration": 850,
    "start_time": "2024-04-27T18:55:55.417Z"
   },
   {
    "duration": 2608,
    "start_time": "2024-04-27T18:55:56.269Z"
   },
   {
    "duration": 13,
    "start_time": "2024-04-27T18:55:58.879Z"
   },
   {
    "duration": 19,
    "start_time": "2024-04-27T18:55:58.894Z"
   },
   {
    "duration": 35,
    "start_time": "2024-04-27T18:55:58.915Z"
   },
   {
    "duration": 26,
    "start_time": "2024-04-27T18:55:58.952Z"
   },
   {
    "duration": 18,
    "start_time": "2024-04-27T18:55:58.980Z"
   },
   {
    "duration": 24,
    "start_time": "2024-04-27T18:55:58.999Z"
   },
   {
    "duration": 58,
    "start_time": "2024-04-27T18:55:59.024Z"
   },
   {
    "duration": 23,
    "start_time": "2024-04-27T18:55:59.084Z"
   },
   {
    "duration": 33,
    "start_time": "2024-04-27T18:55:59.109Z"
   },
   {
    "duration": 11,
    "start_time": "2024-04-27T18:55:59.144Z"
   },
   {
    "duration": 20,
    "start_time": "2024-04-27T18:55:59.156Z"
   },
   {
    "duration": 21,
    "start_time": "2024-04-27T18:55:59.178Z"
   },
   {
    "duration": 11,
    "start_time": "2024-04-27T18:55:59.200Z"
   },
   {
    "duration": 2462,
    "start_time": "2024-04-27T18:55:59.212Z"
   },
   {
    "duration": 1016,
    "start_time": "2024-04-27T18:56:01.676Z"
   },
   {
    "duration": 2,
    "start_time": "2024-04-27T18:56:02.694Z"
   },
   {
    "duration": 311,
    "start_time": "2024-04-27T18:56:02.698Z"
   },
   {
    "duration": 180,
    "start_time": "2024-04-27T18:56:03.012Z"
   },
   {
    "duration": 16,
    "start_time": "2024-04-27T18:56:03.193Z"
   },
   {
    "duration": 79,
    "start_time": "2024-04-27T18:56:03.211Z"
   },
   {
    "duration": 412,
    "start_time": "2024-04-27T18:56:03.292Z"
   },
   {
    "duration": 335,
    "start_time": "2024-04-27T18:56:23.766Z"
   },
   {
    "duration": 234,
    "start_time": "2024-04-27T18:56:39.855Z"
   },
   {
    "duration": 289,
    "start_time": "2024-04-27T18:57:17.615Z"
   },
   {
    "duration": 192,
    "start_time": "2024-04-27T18:57:24.975Z"
   },
   {
    "duration": 9,
    "start_time": "2024-04-27T18:57:33.964Z"
   },
   {
    "duration": 11,
    "start_time": "2024-04-27T18:58:45.615Z"
   },
   {
    "duration": 12,
    "start_time": "2024-04-27T18:58:48.360Z"
   },
   {
    "duration": 7,
    "start_time": "2024-04-27T18:58:51.815Z"
   },
   {
    "duration": 4,
    "start_time": "2024-04-27T18:59:01.881Z"
   },
   {
    "duration": 14,
    "start_time": "2024-04-28T04:47:05.910Z"
   },
   {
    "duration": 11,
    "start_time": "2024-04-28T04:47:12.834Z"
   },
   {
    "duration": 12,
    "start_time": "2024-04-28T04:47:19.131Z"
   },
   {
    "duration": 28,
    "start_time": "2024-04-28T04:48:21.726Z"
   },
   {
    "duration": 46,
    "start_time": "2024-04-28T04:49:01.067Z"
   },
   {
    "duration": 32,
    "start_time": "2024-04-28T04:49:32.433Z"
   },
   {
    "duration": 18,
    "start_time": "2024-04-28T04:56:13.899Z"
   },
   {
    "duration": 14,
    "start_time": "2024-04-28T04:56:36.247Z"
   },
   {
    "duration": 14,
    "start_time": "2024-04-28T04:56:56.470Z"
   },
   {
    "duration": 4962,
    "start_time": "2024-04-28T04:58:05.874Z"
   },
   {
    "duration": 1815,
    "start_time": "2024-04-28T04:58:10.839Z"
   },
   {
    "duration": 84,
    "start_time": "2024-04-28T04:58:12.656Z"
   },
   {
    "duration": 4,
    "start_time": "2024-04-28T04:58:12.742Z"
   },
   {
    "duration": 83,
    "start_time": "2024-04-28T04:58:12.748Z"
   },
   {
    "duration": 4,
    "start_time": "2024-04-28T04:58:12.832Z"
   },
   {
    "duration": 11,
    "start_time": "2024-04-28T04:58:12.838Z"
   },
   {
    "duration": 61,
    "start_time": "2024-04-28T04:58:12.850Z"
   },
   {
    "duration": 4,
    "start_time": "2024-04-28T04:58:12.913Z"
   },
   {
    "duration": 15,
    "start_time": "2024-04-28T04:58:12.919Z"
   },
   {
    "duration": 4,
    "start_time": "2024-04-28T04:58:12.935Z"
   },
   {
    "duration": 8,
    "start_time": "2024-04-28T04:58:12.940Z"
   },
   {
    "duration": 9,
    "start_time": "2024-04-28T04:58:12.949Z"
   },
   {
    "duration": 42,
    "start_time": "2024-04-28T04:58:12.960Z"
   },
   {
    "duration": 11,
    "start_time": "2024-04-28T04:58:13.003Z"
   },
   {
    "duration": 21,
    "start_time": "2024-04-28T04:58:13.015Z"
   },
   {
    "duration": 6434,
    "start_time": "2024-04-28T04:58:13.038Z"
   },
   {
    "duration": 7,
    "start_time": "2024-04-28T04:58:19.473Z"
   },
   {
    "duration": 13,
    "start_time": "2024-04-28T04:58:19.481Z"
   },
   {
    "duration": 96,
    "start_time": "2024-04-28T04:58:19.495Z"
   },
   {
    "duration": 4,
    "start_time": "2024-04-28T04:58:19.593Z"
   },
   {
    "duration": 15,
    "start_time": "2024-04-28T04:58:19.599Z"
   },
   {
    "duration": 12,
    "start_time": "2024-04-28T04:58:19.615Z"
   },
   {
    "duration": 19,
    "start_time": "2024-04-28T04:58:19.629Z"
   },
   {
    "duration": 413,
    "start_time": "2024-04-28T04:58:19.649Z"
   },
   {
    "duration": 5,
    "start_time": "2024-04-28T04:58:20.064Z"
   },
   {
    "duration": 57,
    "start_time": "2024-04-28T04:58:20.071Z"
   },
   {
    "duration": 7,
    "start_time": "2024-04-28T04:58:20.132Z"
   },
   {
    "duration": 172,
    "start_time": "2024-04-28T04:58:20.141Z"
   },
   {
    "duration": 9,
    "start_time": "2024-04-28T04:58:20.315Z"
   },
   {
    "duration": 24,
    "start_time": "2024-04-28T04:58:20.325Z"
   },
   {
    "duration": 30,
    "start_time": "2024-04-28T04:58:20.350Z"
   },
   {
    "duration": 23,
    "start_time": "2024-04-28T04:58:20.381Z"
   },
   {
    "duration": 6,
    "start_time": "2024-04-28T04:58:20.405Z"
   },
   {
    "duration": 8,
    "start_time": "2024-04-28T04:58:20.412Z"
   },
   {
    "duration": 11,
    "start_time": "2024-04-28T04:58:20.421Z"
   },
   {
    "duration": 838,
    "start_time": "2024-04-28T04:58:20.434Z"
   },
   {
    "duration": 2533,
    "start_time": "2024-04-28T04:58:21.273Z"
   },
   {
    "duration": 4,
    "start_time": "2024-04-28T04:58:23.808Z"
   },
   {
    "duration": 35,
    "start_time": "2024-04-28T04:58:23.814Z"
   },
   {
    "duration": 28,
    "start_time": "2024-04-28T04:58:23.851Z"
   },
   {
    "duration": 9,
    "start_time": "2024-04-28T04:58:23.881Z"
   },
   {
    "duration": 23,
    "start_time": "2024-04-28T04:58:23.892Z"
   },
   {
    "duration": 29,
    "start_time": "2024-04-28T04:58:23.917Z"
   },
   {
    "duration": 16,
    "start_time": "2024-04-28T04:58:23.948Z"
   },
   {
    "duration": 18,
    "start_time": "2024-04-28T04:58:23.966Z"
   },
   {
    "duration": 44,
    "start_time": "2024-04-28T04:58:23.985Z"
   },
   {
    "duration": 30,
    "start_time": "2024-04-28T04:58:24.030Z"
   },
   {
    "duration": 35,
    "start_time": "2024-04-28T04:58:24.061Z"
   },
   {
    "duration": 23,
    "start_time": "2024-04-28T04:58:24.097Z"
   },
   {
    "duration": 23,
    "start_time": "2024-04-28T04:58:24.122Z"
   },
   {
    "duration": 2389,
    "start_time": "2024-04-28T04:58:24.146Z"
   },
   {
    "duration": 960,
    "start_time": "2024-04-28T04:58:26.537Z"
   },
   {
    "duration": 4,
    "start_time": "2024-04-28T04:58:27.498Z"
   },
   {
    "duration": 10,
    "start_time": "2024-04-28T04:58:27.504Z"
   },
   {
    "duration": 20,
    "start_time": "2024-04-28T04:58:27.515Z"
   },
   {
    "duration": 20,
    "start_time": "2024-04-28T04:58:27.537Z"
   },
   {
    "duration": 5,
    "start_time": "2024-04-28T04:58:27.592Z"
   },
   {
    "duration": 107,
    "start_time": "2024-04-28T04:58:27.599Z"
   },
   {
    "duration": 60,
    "start_time": "2024-04-28T04:58:27.708Z"
   },
   {
    "duration": 424,
    "start_time": "2024-04-28T04:58:27.769Z"
   },
   {
    "duration": 77,
    "start_time": "2024-04-28T04:59:22.742Z"
   },
   {
    "duration": 290,
    "start_time": "2024-04-28T05:00:15.018Z"
   },
   {
    "duration": 320,
    "start_time": "2024-04-28T05:01:05.162Z"
   },
   {
    "duration": 398,
    "start_time": "2024-04-28T05:01:39.041Z"
   },
   {
    "duration": 366,
    "start_time": "2024-04-28T05:03:39.718Z"
   },
   {
    "duration": 256,
    "start_time": "2024-04-28T05:04:57.346Z"
   },
   {
    "duration": 4900,
    "start_time": "2024-04-28T06:00:52.394Z"
   },
   {
    "duration": 1932,
    "start_time": "2024-04-28T06:00:57.296Z"
   },
   {
    "duration": 84,
    "start_time": "2024-04-28T06:00:59.230Z"
   },
   {
    "duration": 4,
    "start_time": "2024-04-28T06:00:59.315Z"
   },
   {
    "duration": 82,
    "start_time": "2024-04-28T06:00:59.321Z"
   },
   {
    "duration": 4,
    "start_time": "2024-04-28T06:00:59.404Z"
   },
   {
    "duration": 21,
    "start_time": "2024-04-28T06:00:59.410Z"
   },
   {
    "duration": 61,
    "start_time": "2024-04-28T06:00:59.433Z"
   },
   {
    "duration": 3,
    "start_time": "2024-04-28T06:00:59.496Z"
   },
   {
    "duration": 17,
    "start_time": "2024-04-28T06:00:59.502Z"
   },
   {
    "duration": 3,
    "start_time": "2024-04-28T06:00:59.521Z"
   },
   {
    "duration": 16,
    "start_time": "2024-04-28T06:00:59.526Z"
   },
   {
    "duration": 17,
    "start_time": "2024-04-28T06:00:59.543Z"
   },
   {
    "duration": 16,
    "start_time": "2024-04-28T06:00:59.561Z"
   },
   {
    "duration": 17,
    "start_time": "2024-04-28T06:00:59.579Z"
   },
   {
    "duration": 11,
    "start_time": "2024-04-28T06:00:59.598Z"
   },
   {
    "duration": 6377,
    "start_time": "2024-04-28T06:00:59.611Z"
   },
   {
    "duration": 7,
    "start_time": "2024-04-28T06:01:05.989Z"
   },
   {
    "duration": 15,
    "start_time": "2024-04-28T06:01:05.997Z"
   },
   {
    "duration": 93,
    "start_time": "2024-04-28T06:01:06.014Z"
   },
   {
    "duration": 5,
    "start_time": "2024-04-28T06:01:06.110Z"
   },
   {
    "duration": 24,
    "start_time": "2024-04-28T06:01:06.117Z"
   },
   {
    "duration": 12,
    "start_time": "2024-04-28T06:01:06.143Z"
   },
   {
    "duration": 25,
    "start_time": "2024-04-28T06:01:06.157Z"
   },
   {
    "duration": 389,
    "start_time": "2024-04-28T06:01:06.184Z"
   },
   {
    "duration": 6,
    "start_time": "2024-04-28T06:01:06.575Z"
   },
   {
    "duration": 31,
    "start_time": "2024-04-28T06:01:06.583Z"
   },
   {
    "duration": 10,
    "start_time": "2024-04-28T06:01:06.617Z"
   },
   {
    "duration": 168,
    "start_time": "2024-04-28T06:01:06.628Z"
   },
   {
    "duration": 9,
    "start_time": "2024-04-28T06:01:06.798Z"
   },
   {
    "duration": 15,
    "start_time": "2024-04-28T06:01:06.808Z"
   },
   {
    "duration": 10,
    "start_time": "2024-04-28T06:01:06.825Z"
   },
   {
    "duration": 23,
    "start_time": "2024-04-28T06:01:06.837Z"
   },
   {
    "duration": 4,
    "start_time": "2024-04-28T06:01:06.862Z"
   },
   {
    "duration": 3,
    "start_time": "2024-04-28T06:01:06.892Z"
   },
   {
    "duration": 15,
    "start_time": "2024-04-28T06:01:06.897Z"
   },
   {
    "duration": 866,
    "start_time": "2024-04-28T06:01:06.914Z"
   },
   {
    "duration": 3371,
    "start_time": "2024-04-28T06:01:07.781Z"
   },
   {
    "duration": 6,
    "start_time": "2024-04-28T06:01:11.153Z"
   },
   {
    "duration": 19,
    "start_time": "2024-04-28T06:01:11.160Z"
   },
   {
    "duration": 13,
    "start_time": "2024-04-28T06:01:11.181Z"
   },
   {
    "duration": 16,
    "start_time": "2024-04-28T06:01:11.196Z"
   },
   {
    "duration": 8,
    "start_time": "2024-04-28T06:01:11.214Z"
   },
   {
    "duration": 7,
    "start_time": "2024-04-28T06:01:11.223Z"
   },
   {
    "duration": 24,
    "start_time": "2024-04-28T06:01:11.232Z"
   },
   {
    "duration": 22,
    "start_time": "2024-04-28T06:01:11.257Z"
   },
   {
    "duration": 27,
    "start_time": "2024-04-28T06:01:11.280Z"
   },
   {
    "duration": 25,
    "start_time": "2024-04-28T06:01:11.309Z"
   },
   {
    "duration": 17,
    "start_time": "2024-04-28T06:01:11.335Z"
   },
   {
    "duration": 18,
    "start_time": "2024-04-28T06:01:11.354Z"
   },
   {
    "duration": 12,
    "start_time": "2024-04-28T06:01:11.374Z"
   },
   {
    "duration": 19,
    "start_time": "2024-04-28T06:01:11.388Z"
   },
   {
    "duration": 7,
    "start_time": "2024-04-28T06:01:11.408Z"
   },
   {
    "duration": 6,
    "start_time": "2024-04-28T06:01:11.416Z"
   },
   {
    "duration": 21,
    "start_time": "2024-04-28T06:01:11.423Z"
   },
   {
    "duration": 2415,
    "start_time": "2024-04-28T06:01:11.446Z"
   },
   {
    "duration": 903,
    "start_time": "2024-04-28T06:01:13.863Z"
   },
   {
    "duration": 4,
    "start_time": "2024-04-28T06:01:14.768Z"
   },
   {
    "duration": 23,
    "start_time": "2024-04-28T06:01:14.773Z"
   },
   {
    "duration": 27,
    "start_time": "2024-04-28T06:01:14.797Z"
   },
   {
    "duration": 14,
    "start_time": "2024-04-28T06:01:14.826Z"
   },
   {
    "duration": 50,
    "start_time": "2024-04-28T06:01:14.843Z"
   },
   {
    "duration": 112,
    "start_time": "2024-04-28T06:01:14.895Z"
   },
   {
    "duration": 103,
    "start_time": "2024-04-28T06:01:15.009Z"
   },
   {
    "duration": 154,
    "start_time": "2024-04-28T06:01:15.114Z"
   },
   {
    "duration": 0,
    "start_time": "2024-04-28T06:01:15.270Z"
   },
   {
    "duration": 0,
    "start_time": "2024-04-28T06:01:15.272Z"
   },
   {
    "duration": 0,
    "start_time": "2024-04-28T06:01:15.273Z"
   },
   {
    "duration": 3,
    "start_time": "2024-04-28T06:24:08.361Z"
   },
   {
    "duration": 14,
    "start_time": "2024-04-28T06:24:10.108Z"
   },
   {
    "duration": 19,
    "start_time": "2024-04-28T06:24:15.437Z"
   },
   {
    "duration": 3,
    "start_time": "2024-04-28T06:24:21.869Z"
   },
   {
    "duration": 13,
    "start_time": "2024-04-28T06:24:26.841Z"
   },
   {
    "duration": 1549,
    "start_time": "2024-04-28T06:29:44.425Z"
   },
   {
    "duration": 1773,
    "start_time": "2024-04-28T06:33:06.281Z"
   },
   {
    "duration": 1589,
    "start_time": "2024-04-28T06:33:31.450Z"
   },
   {
    "duration": 1530,
    "start_time": "2024-04-28T06:33:41.646Z"
   },
   {
    "duration": 1496,
    "start_time": "2024-04-28T06:35:21.450Z"
   },
   {
    "duration": 1831,
    "start_time": "2024-04-28T06:35:29.194Z"
   },
   {
    "duration": 1557,
    "start_time": "2024-04-28T06:35:41.050Z"
   },
   {
    "duration": 1554,
    "start_time": "2024-04-28T06:35:52.458Z"
   },
   {
    "duration": 7742,
    "start_time": "2024-04-28T12:10:39.880Z"
   },
   {
    "duration": 2039,
    "start_time": "2024-04-28T12:10:47.625Z"
   },
   {
    "duration": 263,
    "start_time": "2024-04-28T12:10:49.665Z"
   },
   {
    "duration": 4,
    "start_time": "2024-04-28T12:10:49.930Z"
   },
   {
    "duration": 81,
    "start_time": "2024-04-28T12:10:49.936Z"
   },
   {
    "duration": 3,
    "start_time": "2024-04-28T12:10:50.019Z"
   },
   {
    "duration": 42,
    "start_time": "2024-04-28T12:10:50.024Z"
   },
   {
    "duration": 54,
    "start_time": "2024-04-28T12:10:50.068Z"
   },
   {
    "duration": 3,
    "start_time": "2024-04-28T12:10:50.124Z"
   },
   {
    "duration": 13,
    "start_time": "2024-04-28T12:10:50.130Z"
   },
   {
    "duration": 3,
    "start_time": "2024-04-28T12:10:50.145Z"
   },
   {
    "duration": 33,
    "start_time": "2024-04-28T12:10:50.149Z"
   },
   {
    "duration": 11,
    "start_time": "2024-04-28T12:10:50.184Z"
   },
   {
    "duration": 19,
    "start_time": "2024-04-28T12:10:50.196Z"
   },
   {
    "duration": 9,
    "start_time": "2024-04-28T12:10:50.216Z"
   },
   {
    "duration": 34,
    "start_time": "2024-04-28T12:10:50.227Z"
   },
   {
    "duration": 6703,
    "start_time": "2024-04-28T12:10:50.262Z"
   },
   {
    "duration": 7,
    "start_time": "2024-04-28T12:10:56.966Z"
   },
   {
    "duration": 9,
    "start_time": "2024-04-28T12:10:56.975Z"
   },
   {
    "duration": 105,
    "start_time": "2024-04-28T12:10:56.986Z"
   },
   {
    "duration": 4,
    "start_time": "2024-04-28T12:10:57.093Z"
   },
   {
    "duration": 12,
    "start_time": "2024-04-28T12:10:57.098Z"
   },
   {
    "duration": 5,
    "start_time": "2024-04-28T12:10:57.111Z"
   },
   {
    "duration": 13,
    "start_time": "2024-04-28T12:10:57.120Z"
   },
   {
    "duration": 563,
    "start_time": "2024-04-28T12:10:57.135Z"
   },
   {
    "duration": 6,
    "start_time": "2024-04-28T12:10:57.700Z"
   },
   {
    "duration": 12,
    "start_time": "2024-04-28T12:10:57.708Z"
   },
   {
    "duration": 12,
    "start_time": "2024-04-28T12:10:57.724Z"
   },
   {
    "duration": 24,
    "start_time": "2024-04-28T12:10:57.738Z"
   },
   {
    "duration": 19,
    "start_time": "2024-04-28T12:10:57.764Z"
   },
   {
    "duration": 16,
    "start_time": "2024-04-28T12:10:57.784Z"
   },
   {
    "duration": 9,
    "start_time": "2024-04-28T12:10:57.802Z"
   },
   {
    "duration": 28,
    "start_time": "2024-04-28T12:10:57.813Z"
   },
   {
    "duration": 5,
    "start_time": "2024-04-28T12:10:57.842Z"
   },
   {
    "duration": 7,
    "start_time": "2024-04-28T12:10:57.848Z"
   },
   {
    "duration": 25,
    "start_time": "2024-04-28T12:10:57.857Z"
   },
   {
    "duration": 849,
    "start_time": "2024-04-28T12:10:57.884Z"
   },
   {
    "duration": 2736,
    "start_time": "2024-04-28T12:10:58.734Z"
   },
   {
    "duration": 9,
    "start_time": "2024-04-28T12:11:01.472Z"
   },
   {
    "duration": 41,
    "start_time": "2024-04-28T12:11:01.483Z"
   },
   {
    "duration": 29,
    "start_time": "2024-04-28T12:11:01.526Z"
   },
   {
    "duration": 47,
    "start_time": "2024-04-28T12:11:01.557Z"
   },
   {
    "duration": 14,
    "start_time": "2024-04-28T12:11:01.605Z"
   },
   {
    "duration": 38,
    "start_time": "2024-04-28T12:11:01.621Z"
   },
   {
    "duration": 23,
    "start_time": "2024-04-28T12:11:01.661Z"
   },
   {
    "duration": 26,
    "start_time": "2024-04-28T12:11:01.685Z"
   },
   {
    "duration": 25,
    "start_time": "2024-04-28T12:11:01.713Z"
   },
   {
    "duration": 20,
    "start_time": "2024-04-28T12:11:01.740Z"
   },
   {
    "duration": 9,
    "start_time": "2024-04-28T12:11:01.763Z"
   },
   {
    "duration": 10,
    "start_time": "2024-04-28T12:11:01.774Z"
   },
   {
    "duration": 6,
    "start_time": "2024-04-28T12:11:01.786Z"
   },
   {
    "duration": 12,
    "start_time": "2024-04-28T12:11:01.794Z"
   },
   {
    "duration": 13,
    "start_time": "2024-04-28T12:11:01.809Z"
   },
   {
    "duration": 22,
    "start_time": "2024-04-28T12:11:01.824Z"
   },
   {
    "duration": 18,
    "start_time": "2024-04-28T12:11:01.849Z"
   },
   {
    "duration": 2518,
    "start_time": "2024-04-28T12:11:01.869Z"
   },
   {
    "duration": 929,
    "start_time": "2024-04-28T12:11:04.389Z"
   },
   {
    "duration": 6,
    "start_time": "2024-04-28T12:11:05.320Z"
   },
   {
    "duration": 14,
    "start_time": "2024-04-28T12:11:05.327Z"
   },
   {
    "duration": 14,
    "start_time": "2024-04-28T12:11:05.342Z"
   },
   {
    "duration": 26,
    "start_time": "2024-04-28T12:11:05.357Z"
   },
   {
    "duration": 5,
    "start_time": "2024-04-28T12:11:05.385Z"
   },
   {
    "duration": 193,
    "start_time": "2024-04-28T12:11:05.392Z"
   },
   {
    "duration": 1649,
    "start_time": "2024-04-28T12:11:05.586Z"
   },
   {
    "duration": 77,
    "start_time": "2024-04-28T12:11:07.237Z"
   },
   {
    "duration": 6,
    "start_time": "2024-04-28T12:16:17.141Z"
   },
   {
    "duration": 5583,
    "start_time": "2024-04-28T12:16:23.373Z"
   },
   {
    "duration": 1934,
    "start_time": "2024-04-28T12:16:28.958Z"
   },
   {
    "duration": 85,
    "start_time": "2024-04-28T12:16:30.894Z"
   },
   {
    "duration": 49,
    "start_time": "2024-04-28T12:16:30.981Z"
   },
   {
    "duration": 120,
    "start_time": "2024-04-28T12:16:31.033Z"
   },
   {
    "duration": 29,
    "start_time": "2024-04-28T12:16:31.154Z"
   },
   {
    "duration": 69,
    "start_time": "2024-04-28T12:16:31.185Z"
   },
   {
    "duration": 76,
    "start_time": "2024-04-28T12:16:31.256Z"
   },
   {
    "duration": 3,
    "start_time": "2024-04-28T12:16:31.334Z"
   },
   {
    "duration": 49,
    "start_time": "2024-04-28T12:16:31.339Z"
   },
   {
    "duration": 16,
    "start_time": "2024-04-28T12:16:31.389Z"
   },
   {
    "duration": 20,
    "start_time": "2024-04-28T12:16:31.406Z"
   },
   {
    "duration": 18,
    "start_time": "2024-04-28T12:16:31.428Z"
   },
   {
    "duration": 28,
    "start_time": "2024-04-28T12:16:31.449Z"
   },
   {
    "duration": 11,
    "start_time": "2024-04-28T12:16:31.479Z"
   },
   {
    "duration": 32,
    "start_time": "2024-04-28T12:16:31.492Z"
   },
   {
    "duration": 6606,
    "start_time": "2024-04-28T12:16:31.526Z"
   },
   {
    "duration": 7,
    "start_time": "2024-04-28T12:16:38.134Z"
   },
   {
    "duration": 15,
    "start_time": "2024-04-28T12:16:38.143Z"
   },
   {
    "duration": 124,
    "start_time": "2024-04-28T12:16:38.159Z"
   },
   {
    "duration": 4,
    "start_time": "2024-04-28T12:16:38.285Z"
   },
   {
    "duration": 15,
    "start_time": "2024-04-28T12:16:38.290Z"
   },
   {
    "duration": 13,
    "start_time": "2024-04-28T12:16:38.307Z"
   },
   {
    "duration": 15,
    "start_time": "2024-04-28T12:16:38.321Z"
   },
   {
    "duration": 745,
    "start_time": "2024-04-28T12:16:38.337Z"
   },
   {
    "duration": 7,
    "start_time": "2024-04-28T12:16:39.084Z"
   },
   {
    "duration": 13,
    "start_time": "2024-04-28T12:16:39.093Z"
   },
   {
    "duration": 6,
    "start_time": "2024-04-28T12:16:39.108Z"
   },
   {
    "duration": 67,
    "start_time": "2024-04-28T12:16:39.115Z"
   },
   {
    "duration": 14,
    "start_time": "2024-04-28T12:16:39.184Z"
   },
   {
    "duration": 315,
    "start_time": "2024-04-28T12:16:39.200Z"
   },
   {
    "duration": 7,
    "start_time": "2024-04-28T12:16:39.517Z"
   },
   {
    "duration": 76,
    "start_time": "2024-04-28T12:16:39.525Z"
   },
   {
    "duration": 5,
    "start_time": "2024-04-28T12:16:39.602Z"
   },
   {
    "duration": 4,
    "start_time": "2024-04-28T12:16:39.608Z"
   },
   {
    "duration": 6,
    "start_time": "2024-04-28T12:16:39.613Z"
   },
   {
    "duration": 1198,
    "start_time": "2024-04-28T12:16:39.620Z"
   },
   {
    "duration": 2851,
    "start_time": "2024-04-28T12:16:40.820Z"
   },
   {
    "duration": 4,
    "start_time": "2024-04-28T12:16:43.673Z"
   },
   {
    "duration": 5,
    "start_time": "2024-04-28T12:16:43.682Z"
   },
   {
    "duration": 4,
    "start_time": "2024-04-28T12:16:43.691Z"
   },
   {
    "duration": 5,
    "start_time": "2024-04-28T12:16:43.696Z"
   },
   {
    "duration": 5,
    "start_time": "2024-04-28T12:16:43.702Z"
   },
   {
    "duration": 7,
    "start_time": "2024-04-28T12:16:43.709Z"
   },
   {
    "duration": 11,
    "start_time": "2024-04-28T12:16:43.717Z"
   },
   {
    "duration": 55,
    "start_time": "2024-04-28T12:16:43.730Z"
   },
   {
    "duration": 8,
    "start_time": "2024-04-28T12:16:43.786Z"
   },
   {
    "duration": 26,
    "start_time": "2024-04-28T12:16:43.795Z"
   },
   {
    "duration": 4,
    "start_time": "2024-04-28T12:16:43.822Z"
   },
   {
    "duration": 5,
    "start_time": "2024-04-28T12:16:43.828Z"
   },
   {
    "duration": 5,
    "start_time": "2024-04-28T12:16:43.834Z"
   },
   {
    "duration": 7,
    "start_time": "2024-04-28T12:16:43.840Z"
   },
   {
    "duration": 33,
    "start_time": "2024-04-28T12:16:43.848Z"
   },
   {
    "duration": 3,
    "start_time": "2024-04-28T12:16:43.883Z"
   },
   {
    "duration": 9,
    "start_time": "2024-04-28T12:16:43.888Z"
   },
   {
    "duration": 2464,
    "start_time": "2024-04-28T12:16:43.899Z"
   },
   {
    "duration": 1431,
    "start_time": "2024-04-28T12:16:46.365Z"
   },
   {
    "duration": 9,
    "start_time": "2024-04-28T12:16:47.798Z"
   },
   {
    "duration": 12,
    "start_time": "2024-04-28T12:16:47.809Z"
   },
   {
    "duration": 60,
    "start_time": "2024-04-28T12:16:47.824Z"
   },
   {
    "duration": 99,
    "start_time": "2024-04-28T12:16:47.886Z"
   },
   {
    "duration": 93,
    "start_time": "2024-04-28T12:16:47.989Z"
   },
   {
    "duration": 13,
    "start_time": "2024-04-28T12:16:48.084Z"
   },
   {
    "duration": 2862,
    "start_time": "2024-04-28T12:16:48.099Z"
   },
   {
    "duration": 71,
    "start_time": "2024-04-28T12:16:50.963Z"
   },
   {
    "duration": 22,
    "start_time": "2024-04-28T12:22:44.698Z"
   },
   {
    "duration": 26,
    "start_time": "2024-04-28T12:23:40.254Z"
   },
   {
    "duration": 5,
    "start_time": "2024-04-28T12:24:31.163Z"
   },
   {
    "duration": 3,
    "start_time": "2024-04-28T12:24:39.934Z"
   },
   {
    "duration": 6,
    "start_time": "2024-04-28T12:25:16.518Z"
   },
   {
    "duration": 5,
    "start_time": "2024-04-28T12:25:48.367Z"
   },
   {
    "duration": 25,
    "start_time": "2024-04-28T12:27:08.348Z"
   },
   {
    "duration": 4,
    "start_time": "2024-04-28T12:34:45.925Z"
   },
   {
    "duration": 166,
    "start_time": "2024-04-28T12:34:46.381Z"
   },
   {
    "duration": 3,
    "start_time": "2024-04-28T12:34:46.769Z"
   },
   {
    "duration": 5839,
    "start_time": "2024-04-28T12:35:00.111Z"
   },
   {
    "duration": 1966,
    "start_time": "2024-04-28T12:35:05.952Z"
   },
   {
    "duration": 88,
    "start_time": "2024-04-28T12:35:07.919Z"
   },
   {
    "duration": 4,
    "start_time": "2024-04-28T12:35:08.009Z"
   },
   {
    "duration": 74,
    "start_time": "2024-04-28T12:35:08.014Z"
   },
   {
    "duration": 4,
    "start_time": "2024-04-28T12:35:08.089Z"
   },
   {
    "duration": 5,
    "start_time": "2024-04-28T12:35:08.095Z"
   },
   {
    "duration": 34,
    "start_time": "2024-04-28T12:35:08.102Z"
   },
   {
    "duration": 46,
    "start_time": "2024-04-28T12:35:08.138Z"
   },
   {
    "duration": 13,
    "start_time": "2024-04-28T12:35:08.187Z"
   },
   {
    "duration": 4,
    "start_time": "2024-04-28T12:35:08.202Z"
   },
   {
    "duration": 5,
    "start_time": "2024-04-28T12:35:08.207Z"
   },
   {
    "duration": 5,
    "start_time": "2024-04-28T12:35:08.213Z"
   },
   {
    "duration": 14,
    "start_time": "2024-04-28T12:35:08.219Z"
   },
   {
    "duration": 11,
    "start_time": "2024-04-28T12:35:08.235Z"
   },
   {
    "duration": 5,
    "start_time": "2024-04-28T12:35:08.283Z"
   },
   {
    "duration": 7045,
    "start_time": "2024-04-28T12:35:08.290Z"
   },
   {
    "duration": 6,
    "start_time": "2024-04-28T12:35:15.337Z"
   },
   {
    "duration": 13,
    "start_time": "2024-04-28T12:35:15.345Z"
   },
   {
    "duration": 90,
    "start_time": "2024-04-28T12:35:15.360Z"
   },
   {
    "duration": 4,
    "start_time": "2024-04-28T12:35:15.452Z"
   },
   {
    "duration": 39,
    "start_time": "2024-04-28T12:35:15.458Z"
   },
   {
    "duration": 15,
    "start_time": "2024-04-28T12:35:15.499Z"
   },
   {
    "duration": 16,
    "start_time": "2024-04-28T12:35:15.516Z"
   },
   {
    "duration": 480,
    "start_time": "2024-04-28T12:35:15.533Z"
   },
   {
    "duration": 6,
    "start_time": "2024-04-28T12:35:16.015Z"
   },
   {
    "duration": 11,
    "start_time": "2024-04-28T12:35:16.023Z"
   },
   {
    "duration": 7,
    "start_time": "2024-04-28T12:35:16.038Z"
   },
   {
    "duration": 181,
    "start_time": "2024-04-28T12:35:16.046Z"
   },
   {
    "duration": 9,
    "start_time": "2024-04-28T12:35:16.229Z"
   },
   {
    "duration": 14,
    "start_time": "2024-04-28T12:35:16.240Z"
   },
   {
    "duration": 26,
    "start_time": "2024-04-28T12:35:16.256Z"
   },
   {
    "duration": 38,
    "start_time": "2024-04-28T12:35:16.284Z"
   },
   {
    "duration": 5,
    "start_time": "2024-04-28T12:35:16.324Z"
   },
   {
    "duration": 5,
    "start_time": "2024-04-28T12:35:16.331Z"
   },
   {
    "duration": 19,
    "start_time": "2024-04-28T12:35:16.338Z"
   },
   {
    "duration": 871,
    "start_time": "2024-04-28T12:35:16.358Z"
   },
   {
    "duration": 2694,
    "start_time": "2024-04-28T12:35:17.230Z"
   },
   {
    "duration": 5,
    "start_time": "2024-04-28T12:35:19.926Z"
   },
   {
    "duration": 10,
    "start_time": "2024-04-28T12:35:19.933Z"
   },
   {
    "duration": 7,
    "start_time": "2024-04-28T12:35:19.944Z"
   },
   {
    "duration": 29,
    "start_time": "2024-04-28T12:35:19.953Z"
   },
   {
    "duration": 4,
    "start_time": "2024-04-28T12:35:19.984Z"
   },
   {
    "duration": 7,
    "start_time": "2024-04-28T12:35:19.990Z"
   },
   {
    "duration": 13,
    "start_time": "2024-04-28T12:35:19.999Z"
   },
   {
    "duration": 13,
    "start_time": "2024-04-28T12:35:20.014Z"
   },
   {
    "duration": 20,
    "start_time": "2024-04-28T12:35:20.029Z"
   },
   {
    "duration": 15,
    "start_time": "2024-04-28T12:35:20.051Z"
   },
   {
    "duration": 14,
    "start_time": "2024-04-28T12:35:20.068Z"
   },
   {
    "duration": 6,
    "start_time": "2024-04-28T12:35:20.084Z"
   },
   {
    "duration": 24,
    "start_time": "2024-04-28T12:35:20.091Z"
   },
   {
    "duration": 33,
    "start_time": "2024-04-28T12:35:20.116Z"
   },
   {
    "duration": 40,
    "start_time": "2024-04-28T12:35:20.151Z"
   },
   {
    "duration": 8,
    "start_time": "2024-04-28T12:35:20.193Z"
   },
   {
    "duration": 11,
    "start_time": "2024-04-28T12:35:20.202Z"
   },
   {
    "duration": 2489,
    "start_time": "2024-04-28T12:35:20.214Z"
   },
   {
    "duration": 859,
    "start_time": "2024-04-28T12:35:22.705Z"
   },
   {
    "duration": 4,
    "start_time": "2024-04-28T12:35:23.566Z"
   },
   {
    "duration": 11,
    "start_time": "2024-04-28T12:35:23.571Z"
   },
   {
    "duration": 17,
    "start_time": "2024-04-28T12:35:23.583Z"
   },
   {
    "duration": 81,
    "start_time": "2024-04-28T12:35:23.604Z"
   },
   {
    "duration": 107,
    "start_time": "2024-04-28T12:35:23.687Z"
   },
   {
    "duration": 1602,
    "start_time": "2024-04-28T12:35:23.795Z"
   },
   {
    "duration": 13,
    "start_time": "2024-04-28T12:35:25.398Z"
   },
   {
    "duration": 7,
    "start_time": "2024-04-28T12:35:25.412Z"
   },
   {
    "duration": 4,
    "start_time": "2024-04-28T12:35:25.421Z"
   },
   {
    "duration": 4,
    "start_time": "2024-04-28T12:35:25.427Z"
   },
   {
    "duration": 167,
    "start_time": "2024-04-28T12:35:25.433Z"
   },
   {
    "duration": 0,
    "start_time": "2024-04-28T12:35:25.602Z"
   },
   {
    "duration": 10,
    "start_time": "2024-04-28T12:36:15.969Z"
   },
   {
    "duration": 760,
    "start_time": "2024-04-28T12:36:22.234Z"
   },
   {
    "duration": 5,
    "start_time": "2024-04-28T12:36:25.597Z"
   },
   {
    "duration": 8,
    "start_time": "2024-04-28T12:39:50.419Z"
   },
   {
    "duration": 4,
    "start_time": "2024-04-28T12:40:02.470Z"
   },
   {
    "duration": 5,
    "start_time": "2024-04-28T12:40:17.534Z"
   },
   {
    "duration": 6,
    "start_time": "2024-04-28T12:40:33.775Z"
   },
   {
    "duration": 1796,
    "start_time": "2024-04-28T12:41:19.789Z"
   },
   {
    "duration": 14,
    "start_time": "2024-04-28T12:41:21.586Z"
   },
   {
    "duration": 5,
    "start_time": "2024-04-28T12:42:46.396Z"
   },
   {
    "duration": 5,
    "start_time": "2024-04-28T12:42:47.443Z"
   },
   {
    "duration": 55,
    "start_time": "2024-04-28T12:43:33.790Z"
   },
   {
    "duration": 4,
    "start_time": "2024-04-28T12:43:46.746Z"
   },
   {
    "duration": 6,
    "start_time": "2024-04-28T12:44:09.278Z"
   },
   {
    "duration": 13,
    "start_time": "2024-04-28T12:44:20.030Z"
   },
   {
    "duration": 5,
    "start_time": "2024-04-28T12:44:24.563Z"
   },
   {
    "duration": 6,
    "start_time": "2024-04-28T12:44:39.603Z"
   },
   {
    "duration": 4,
    "start_time": "2024-04-28T12:45:09.477Z"
   },
   {
    "duration": 7,
    "start_time": "2024-04-28T12:45:46.631Z"
   },
   {
    "duration": 7,
    "start_time": "2024-04-28T12:46:02.466Z"
   },
   {
    "duration": 7,
    "start_time": "2024-04-28T12:46:49.518Z"
   },
   {
    "duration": 31,
    "start_time": "2024-04-28T12:47:18.126Z"
   },
   {
    "duration": 7,
    "start_time": "2024-04-28T12:47:26.961Z"
   },
   {
    "duration": 5,
    "start_time": "2024-04-28T12:48:30.832Z"
   },
   {
    "duration": 7,
    "start_time": "2024-04-28T12:48:40.837Z"
   },
   {
    "duration": 6,
    "start_time": "2024-04-28T12:50:34.755Z"
   },
   {
    "duration": 4,
    "start_time": "2024-04-28T12:53:40.117Z"
   },
   {
    "duration": 15,
    "start_time": "2024-04-28T12:53:40.913Z"
   },
   {
    "duration": 1647,
    "start_time": "2024-04-28T12:53:42.269Z"
   },
   {
    "duration": 15,
    "start_time": "2024-04-28T12:53:43.917Z"
   },
   {
    "duration": 14,
    "start_time": "2024-04-28T12:53:50.576Z"
   },
   {
    "duration": 8,
    "start_time": "2024-04-28T12:53:56.310Z"
   },
   {
    "duration": 4,
    "start_time": "2024-04-28T12:53:57.505Z"
   },
   {
    "duration": 7,
    "start_time": "2024-04-28T12:53:58.838Z"
   },
   {
    "duration": 7,
    "start_time": "2024-04-28T12:54:12.145Z"
   },
   {
    "duration": 6,
    "start_time": "2024-04-28T12:54:19.265Z"
   },
   {
    "duration": 7,
    "start_time": "2024-04-28T12:54:21.628Z"
   },
   {
    "duration": 5,
    "start_time": "2024-04-28T12:54:24.758Z"
   },
   {
    "duration": 7,
    "start_time": "2024-04-28T12:54:25.047Z"
   },
   {
    "duration": 7,
    "start_time": "2024-04-28T12:54:30.665Z"
   },
   {
    "duration": 5,
    "start_time": "2024-04-28T12:54:34.121Z"
   },
   {
    "duration": 9,
    "start_time": "2024-04-28T12:54:34.727Z"
   },
   {
    "duration": 8,
    "start_time": "2024-04-28T12:54:45.104Z"
   },
   {
    "duration": 5,
    "start_time": "2024-04-28T12:54:45.263Z"
   },
   {
    "duration": 8,
    "start_time": "2024-04-28T12:54:45.435Z"
   },
   {
    "duration": 5,
    "start_time": "2024-04-28T12:54:45.612Z"
   },
   {
    "duration": 8,
    "start_time": "2024-04-28T12:54:45.821Z"
   },
   {
    "duration": 5,
    "start_time": "2024-04-28T12:54:46.514Z"
   },
   {
    "duration": 8,
    "start_time": "2024-04-28T12:54:47.340Z"
   },
   {
    "duration": 8,
    "start_time": "2024-04-28T12:55:54.668Z"
   },
   {
    "duration": 11,
    "start_time": "2024-04-28T12:56:35.161Z"
   },
   {
    "duration": 5,
    "start_time": "2024-04-28T12:57:07.696Z"
   },
   {
    "duration": 6,
    "start_time": "2024-04-28T12:58:47.911Z"
   },
   {
    "duration": 6,
    "start_time": "2024-04-28T12:58:50.876Z"
   },
   {
    "duration": 7,
    "start_time": "2024-04-28T12:58:57.343Z"
   },
   {
    "duration": 8,
    "start_time": "2024-04-28T12:59:19.063Z"
   },
   {
    "duration": 8,
    "start_time": "2024-04-28T12:59:31.560Z"
   },
   {
    "duration": 5,
    "start_time": "2024-04-28T12:59:37.780Z"
   },
   {
    "duration": 8,
    "start_time": "2024-04-28T12:59:38.294Z"
   },
   {
    "duration": 6,
    "start_time": "2024-04-28T13:06:39.490Z"
   },
   {
    "duration": 13,
    "start_time": "2024-04-28T13:07:22.093Z"
   },
   {
    "duration": 13,
    "start_time": "2024-04-28T13:07:27.029Z"
   },
   {
    "duration": 12,
    "start_time": "2024-04-28T13:07:43.410Z"
   },
   {
    "duration": 11,
    "start_time": "2024-04-28T13:07:55.953Z"
   },
   {
    "duration": 11,
    "start_time": "2024-04-28T13:08:00.721Z"
   },
   {
    "duration": 10,
    "start_time": "2024-04-28T13:08:06.802Z"
   },
   {
    "duration": 30,
    "start_time": "2024-04-28T13:08:30.389Z"
   },
   {
    "duration": 25,
    "start_time": "2024-04-28T13:08:38.088Z"
   },
   {
    "duration": 24,
    "start_time": "2024-04-28T13:09:06.295Z"
   },
   {
    "duration": 7,
    "start_time": "2024-04-28T13:09:39.962Z"
   },
   {
    "duration": 9,
    "start_time": "2024-04-28T13:09:44.642Z"
   },
   {
    "duration": 10,
    "start_time": "2024-04-28T13:10:11.725Z"
   },
   {
    "duration": 7,
    "start_time": "2024-04-28T13:10:27.777Z"
   },
   {
    "duration": 11,
    "start_time": "2024-04-28T13:11:45.555Z"
   },
   {
    "duration": 4,
    "start_time": "2024-04-28T13:11:57.889Z"
   },
   {
    "duration": 3,
    "start_time": "2024-04-28T13:12:08.162Z"
   },
   {
    "duration": 33,
    "start_time": "2024-04-28T13:12:43.877Z"
   },
   {
    "duration": 5,
    "start_time": "2024-04-28T13:13:52.208Z"
   },
   {
    "duration": 4,
    "start_time": "2024-04-28T13:14:10.518Z"
   },
   {
    "duration": 5,
    "start_time": "2024-04-28T13:14:37.821Z"
   },
   {
    "duration": 5,
    "start_time": "2024-04-28T13:14:39.854Z"
   },
   {
    "duration": 4,
    "start_time": "2024-04-28T13:15:23.314Z"
   },
   {
    "duration": 5,
    "start_time": "2024-04-28T13:15:23.582Z"
   },
   {
    "duration": 899,
    "start_time": "2024-04-28T13:15:42.820Z"
   },
   {
    "duration": 6,
    "start_time": "2024-04-28T13:15:48.067Z"
   },
   {
    "duration": 6,
    "start_time": "2024-04-28T13:15:52.506Z"
   },
   {
    "duration": 5,
    "start_time": "2024-04-28T13:16:14.602Z"
   },
   {
    "duration": 4,
    "start_time": "2024-04-28T13:16:14.908Z"
   },
   {
    "duration": 20,
    "start_time": "2024-04-28T13:16:47.264Z"
   },
   {
    "duration": 7,
    "start_time": "2024-04-28T13:17:12.817Z"
   },
   {
    "duration": 6,
    "start_time": "2024-04-28T13:17:23.213Z"
   },
   {
    "duration": 16,
    "start_time": "2024-04-28T13:29:39.914Z"
   },
   {
    "duration": 162,
    "start_time": "2024-04-28T13:30:38.516Z"
   },
   {
    "duration": 9,
    "start_time": "2024-04-28T13:30:54.849Z"
   },
   {
    "duration": 7,
    "start_time": "2024-04-28T13:33:27.307Z"
   },
   {
    "duration": 162,
    "start_time": "2024-04-28T13:33:32.322Z"
   },
   {
    "duration": 8,
    "start_time": "2024-04-28T13:34:03.223Z"
   },
   {
    "duration": 157,
    "start_time": "2024-04-28T13:34:46.340Z"
   },
   {
    "duration": 158,
    "start_time": "2024-04-28T13:36:18.474Z"
   },
   {
    "duration": 171,
    "start_time": "2024-04-28T13:37:23.616Z"
   },
   {
    "duration": 4,
    "start_time": "2024-04-28T13:41:31.913Z"
   },
   {
    "duration": 4,
    "start_time": "2024-04-28T13:42:53.337Z"
   },
   {
    "duration": 5,
    "start_time": "2024-04-28T13:43:34.728Z"
   },
   {
    "duration": 4,
    "start_time": "2024-04-28T13:43:42.057Z"
   },
   {
    "duration": 5330,
    "start_time": "2024-04-28T14:19:33.892Z"
   },
   {
    "duration": 1880,
    "start_time": "2024-04-28T14:19:39.224Z"
   },
   {
    "duration": 85,
    "start_time": "2024-04-28T14:19:41.106Z"
   },
   {
    "duration": 5,
    "start_time": "2024-04-28T14:19:41.193Z"
   },
   {
    "duration": 88,
    "start_time": "2024-04-28T14:19:41.200Z"
   },
   {
    "duration": 4,
    "start_time": "2024-04-28T14:19:41.289Z"
   },
   {
    "duration": 15,
    "start_time": "2024-04-28T14:19:41.295Z"
   },
   {
    "duration": 35,
    "start_time": "2024-04-28T14:19:41.313Z"
   },
   {
    "duration": 35,
    "start_time": "2024-04-28T14:19:41.349Z"
   },
   {
    "duration": 13,
    "start_time": "2024-04-28T14:19:41.387Z"
   },
   {
    "duration": 6,
    "start_time": "2024-04-28T14:19:41.402Z"
   },
   {
    "duration": 7,
    "start_time": "2024-04-28T14:19:41.409Z"
   },
   {
    "duration": 7,
    "start_time": "2024-04-28T14:19:41.417Z"
   },
   {
    "duration": 19,
    "start_time": "2024-04-28T14:19:41.425Z"
   },
   {
    "duration": 10,
    "start_time": "2024-04-28T14:19:41.446Z"
   },
   {
    "duration": 2,
    "start_time": "2024-04-28T14:19:41.483Z"
   },
   {
    "duration": 6896,
    "start_time": "2024-04-28T14:19:41.487Z"
   },
   {
    "duration": 6,
    "start_time": "2024-04-28T14:19:48.385Z"
   },
   {
    "duration": 6,
    "start_time": "2024-04-28T14:19:48.393Z"
   },
   {
    "duration": 119,
    "start_time": "2024-04-28T14:19:48.401Z"
   },
   {
    "duration": 5,
    "start_time": "2024-04-28T14:19:48.522Z"
   },
   {
    "duration": 15,
    "start_time": "2024-04-28T14:19:48.529Z"
   },
   {
    "duration": 37,
    "start_time": "2024-04-28T14:19:48.547Z"
   },
   {
    "duration": 20,
    "start_time": "2024-04-28T14:19:48.586Z"
   },
   {
    "duration": 427,
    "start_time": "2024-04-28T14:19:48.608Z"
   },
   {
    "duration": 6,
    "start_time": "2024-04-28T14:19:49.037Z"
   },
   {
    "duration": 13,
    "start_time": "2024-04-28T14:19:49.045Z"
   },
   {
    "duration": 21,
    "start_time": "2024-04-28T14:19:49.063Z"
   },
   {
    "duration": 152,
    "start_time": "2024-04-28T14:19:49.086Z"
   },
   {
    "duration": 9,
    "start_time": "2024-04-28T14:19:49.240Z"
   },
   {
    "duration": 12,
    "start_time": "2024-04-28T14:19:49.250Z"
   },
   {
    "duration": 24,
    "start_time": "2024-04-28T14:19:49.264Z"
   },
   {
    "duration": 25,
    "start_time": "2024-04-28T14:19:49.289Z"
   },
   {
    "duration": 5,
    "start_time": "2024-04-28T14:19:49.315Z"
   },
   {
    "duration": 4,
    "start_time": "2024-04-28T14:19:49.321Z"
   },
   {
    "duration": 6,
    "start_time": "2024-04-28T14:19:49.326Z"
   },
   {
    "duration": 839,
    "start_time": "2024-04-28T14:19:49.334Z"
   },
   {
    "duration": 2748,
    "start_time": "2024-04-28T14:19:50.175Z"
   },
   {
    "duration": 4,
    "start_time": "2024-04-28T14:19:52.925Z"
   },
   {
    "duration": 12,
    "start_time": "2024-04-28T14:19:52.931Z"
   },
   {
    "duration": 9,
    "start_time": "2024-04-28T14:19:52.944Z"
   },
   {
    "duration": 31,
    "start_time": "2024-04-28T14:19:52.954Z"
   },
   {
    "duration": 8,
    "start_time": "2024-04-28T14:19:52.987Z"
   },
   {
    "duration": 12,
    "start_time": "2024-04-28T14:19:52.996Z"
   },
   {
    "duration": 18,
    "start_time": "2024-04-28T14:19:53.009Z"
   },
   {
    "duration": 22,
    "start_time": "2024-04-28T14:19:53.028Z"
   },
   {
    "duration": 10,
    "start_time": "2024-04-28T14:19:53.052Z"
   },
   {
    "duration": 21,
    "start_time": "2024-04-28T14:19:53.064Z"
   },
   {
    "duration": 19,
    "start_time": "2024-04-28T14:19:53.087Z"
   },
   {
    "duration": 6,
    "start_time": "2024-04-28T14:19:53.108Z"
   },
   {
    "duration": 7,
    "start_time": "2024-04-28T14:19:53.116Z"
   },
   {
    "duration": 17,
    "start_time": "2024-04-28T14:19:53.125Z"
   },
   {
    "duration": 6,
    "start_time": "2024-04-28T14:19:53.145Z"
   },
   {
    "duration": 9,
    "start_time": "2024-04-28T14:19:53.153Z"
   },
   {
    "duration": 2496,
    "start_time": "2024-04-28T14:19:53.164Z"
   },
   {
    "duration": 915,
    "start_time": "2024-04-28T14:19:55.661Z"
   },
   {
    "duration": 5,
    "start_time": "2024-04-28T14:19:56.577Z"
   },
   {
    "duration": 5,
    "start_time": "2024-04-28T14:19:56.583Z"
   },
   {
    "duration": 23,
    "start_time": "2024-04-28T14:19:56.589Z"
   },
   {
    "duration": 69,
    "start_time": "2024-04-28T14:19:56.615Z"
   },
   {
    "duration": 108,
    "start_time": "2024-04-28T14:19:56.686Z"
   },
   {
    "duration": 1528,
    "start_time": "2024-04-28T14:19:56.795Z"
   },
   {
    "duration": 0,
    "start_time": "2024-04-28T14:19:58.325Z"
   },
   {
    "duration": 0,
    "start_time": "2024-04-28T14:19:58.326Z"
   },
   {
    "duration": 0,
    "start_time": "2024-04-28T14:19:58.327Z"
   },
   {
    "duration": 0,
    "start_time": "2024-04-28T14:19:58.328Z"
   },
   {
    "duration": 0,
    "start_time": "2024-04-28T14:19:58.329Z"
   },
   {
    "duration": 0,
    "start_time": "2024-04-28T14:19:58.330Z"
   },
   {
    "duration": 0,
    "start_time": "2024-04-28T14:19:58.331Z"
   },
   {
    "duration": 0,
    "start_time": "2024-04-28T14:19:58.333Z"
   },
   {
    "duration": 0,
    "start_time": "2024-04-28T14:19:58.334Z"
   },
   {
    "duration": 3,
    "start_time": "2024-04-28T14:23:30.095Z"
   },
   {
    "duration": 1857,
    "start_time": "2024-04-28T14:23:32.872Z"
   },
   {
    "duration": 6719,
    "start_time": "2024-04-28T14:23:49.178Z"
   },
   {
    "duration": 2112,
    "start_time": "2024-04-28T14:23:55.900Z"
   },
   {
    "duration": 124,
    "start_time": "2024-04-28T14:23:58.014Z"
   },
   {
    "duration": 4,
    "start_time": "2024-04-28T14:23:58.140Z"
   },
   {
    "duration": 162,
    "start_time": "2024-04-28T14:23:58.145Z"
   },
   {
    "duration": 4,
    "start_time": "2024-04-28T14:23:58.309Z"
   },
   {
    "duration": 67,
    "start_time": "2024-04-28T14:23:58.315Z"
   },
   {
    "duration": 39,
    "start_time": "2024-04-28T14:23:58.384Z"
   },
   {
    "duration": 3,
    "start_time": "2024-04-28T14:23:58.425Z"
   },
   {
    "duration": 13,
    "start_time": "2024-04-28T14:23:58.483Z"
   },
   {
    "duration": 16,
    "start_time": "2024-04-28T14:23:58.497Z"
   },
   {
    "duration": 16,
    "start_time": "2024-04-28T14:23:58.514Z"
   },
   {
    "duration": 52,
    "start_time": "2024-04-28T14:23:58.531Z"
   },
   {
    "duration": 13,
    "start_time": "2024-04-28T14:23:58.585Z"
   },
   {
    "duration": 10,
    "start_time": "2024-04-28T14:23:58.600Z"
   },
   {
    "duration": 18,
    "start_time": "2024-04-28T14:23:58.611Z"
   },
   {
    "duration": 6803,
    "start_time": "2024-04-28T14:23:58.630Z"
   },
   {
    "duration": 7,
    "start_time": "2024-04-28T14:24:05.435Z"
   },
   {
    "duration": 6,
    "start_time": "2024-04-28T14:24:05.444Z"
   },
   {
    "duration": 130,
    "start_time": "2024-04-28T14:24:05.452Z"
   },
   {
    "duration": 5,
    "start_time": "2024-04-28T14:24:05.583Z"
   },
   {
    "duration": 14,
    "start_time": "2024-04-28T14:24:05.589Z"
   },
   {
    "duration": 20,
    "start_time": "2024-04-28T14:24:05.604Z"
   },
   {
    "duration": 16,
    "start_time": "2024-04-28T14:24:05.625Z"
   },
   {
    "duration": 416,
    "start_time": "2024-04-28T14:24:05.642Z"
   },
   {
    "duration": 6,
    "start_time": "2024-04-28T14:24:06.060Z"
   },
   {
    "duration": 19,
    "start_time": "2024-04-28T14:24:06.068Z"
   },
   {
    "duration": 8,
    "start_time": "2024-04-28T14:24:06.093Z"
   },
   {
    "duration": 179,
    "start_time": "2024-04-28T14:24:06.103Z"
   },
   {
    "duration": 9,
    "start_time": "2024-04-28T14:24:06.284Z"
   },
   {
    "duration": 19,
    "start_time": "2024-04-28T14:24:06.295Z"
   },
   {
    "duration": 8,
    "start_time": "2024-04-28T14:24:06.316Z"
   },
   {
    "duration": 28,
    "start_time": "2024-04-28T14:24:06.326Z"
   },
   {
    "duration": 29,
    "start_time": "2024-04-28T14:24:06.356Z"
   },
   {
    "duration": 13,
    "start_time": "2024-04-28T14:24:06.386Z"
   },
   {
    "duration": 10,
    "start_time": "2024-04-28T14:24:06.401Z"
   },
   {
    "duration": 921,
    "start_time": "2024-04-28T14:24:06.412Z"
   },
   {
    "duration": 2802,
    "start_time": "2024-04-28T14:24:07.334Z"
   },
   {
    "duration": 5,
    "start_time": "2024-04-28T14:24:10.138Z"
   },
   {
    "duration": 16,
    "start_time": "2024-04-28T14:24:10.145Z"
   },
   {
    "duration": 21,
    "start_time": "2024-04-28T14:24:10.163Z"
   },
   {
    "duration": 5,
    "start_time": "2024-04-28T14:24:10.186Z"
   },
   {
    "duration": 4,
    "start_time": "2024-04-28T14:24:10.193Z"
   },
   {
    "duration": 7,
    "start_time": "2024-04-28T14:24:10.199Z"
   },
   {
    "duration": 12,
    "start_time": "2024-04-28T14:24:10.207Z"
   },
   {
    "duration": 19,
    "start_time": "2024-04-28T14:24:10.221Z"
   },
   {
    "duration": 7,
    "start_time": "2024-04-28T14:24:10.241Z"
   },
   {
    "duration": 48,
    "start_time": "2024-04-28T14:24:10.249Z"
   },
   {
    "duration": 4,
    "start_time": "2024-04-28T14:24:10.299Z"
   },
   {
    "duration": 4,
    "start_time": "2024-04-28T14:24:10.306Z"
   },
   {
    "duration": 7,
    "start_time": "2024-04-28T14:24:10.313Z"
   },
   {
    "duration": 5,
    "start_time": "2024-04-28T14:24:10.322Z"
   },
   {
    "duration": 6,
    "start_time": "2024-04-28T14:24:10.329Z"
   },
   {
    "duration": 7,
    "start_time": "2024-04-28T14:24:10.336Z"
   },
   {
    "duration": 2533,
    "start_time": "2024-04-28T14:24:10.344Z"
   },
   {
    "duration": 904,
    "start_time": "2024-04-28T14:24:12.881Z"
   },
   {
    "duration": 4,
    "start_time": "2024-04-28T14:24:13.787Z"
   },
   {
    "duration": 3,
    "start_time": "2024-04-28T14:24:13.793Z"
   },
   {
    "duration": 15,
    "start_time": "2024-04-28T14:24:13.798Z"
   },
   {
    "duration": 76,
    "start_time": "2024-04-28T14:24:13.815Z"
   },
   {
    "duration": 99,
    "start_time": "2024-04-28T14:24:13.893Z"
   },
   {
    "duration": 1683,
    "start_time": "2024-04-28T14:24:13.994Z"
   },
   {
    "duration": 6,
    "start_time": "2024-04-28T14:24:15.679Z"
   },
   {
    "duration": 25,
    "start_time": "2024-04-28T14:24:15.687Z"
   },
   {
    "duration": 12,
    "start_time": "2024-04-28T14:24:15.714Z"
   },
   {
    "duration": 27,
    "start_time": "2024-04-28T14:24:15.728Z"
   },
   {
    "duration": 7,
    "start_time": "2024-04-28T14:24:15.756Z"
   },
   {
    "duration": 16,
    "start_time": "2024-04-28T14:24:15.764Z"
   },
   {
    "duration": 163,
    "start_time": "2024-04-28T14:24:15.782Z"
   },
   {
    "duration": 6,
    "start_time": "2024-04-28T14:24:15.947Z"
   },
   {
    "duration": 183,
    "start_time": "2024-04-28T14:24:15.955Z"
   },
   {
    "duration": 116,
    "start_time": "2024-04-28T14:36:54.476Z"
   },
   {
    "duration": 6234,
    "start_time": "2024-04-28T15:07:05.410Z"
   },
   {
    "duration": 2065,
    "start_time": "2024-04-28T15:07:11.647Z"
   },
   {
    "duration": 86,
    "start_time": "2024-04-28T15:07:13.714Z"
   },
   {
    "duration": 7,
    "start_time": "2024-04-28T15:07:13.803Z"
   },
   {
    "duration": 129,
    "start_time": "2024-04-28T15:07:13.813Z"
   },
   {
    "duration": 6,
    "start_time": "2024-04-28T15:07:13.944Z"
   },
   {
    "duration": 9,
    "start_time": "2024-04-28T15:07:13.952Z"
   },
   {
    "duration": 66,
    "start_time": "2024-04-28T15:07:13.964Z"
   },
   {
    "duration": 5,
    "start_time": "2024-04-28T15:07:14.032Z"
   },
   {
    "duration": 22,
    "start_time": "2024-04-28T15:07:14.041Z"
   },
   {
    "duration": 5,
    "start_time": "2024-04-28T15:07:14.088Z"
   },
   {
    "duration": 6,
    "start_time": "2024-04-28T15:07:14.097Z"
   },
   {
    "duration": 10,
    "start_time": "2024-04-28T15:07:14.105Z"
   },
   {
    "duration": 13,
    "start_time": "2024-04-28T15:07:14.117Z"
   },
   {
    "duration": 10,
    "start_time": "2024-04-28T15:07:14.132Z"
   },
   {
    "duration": 7,
    "start_time": "2024-04-28T15:07:14.144Z"
   },
   {
    "duration": 7377,
    "start_time": "2024-04-28T15:07:14.153Z"
   },
   {
    "duration": 8,
    "start_time": "2024-04-28T15:07:21.532Z"
   },
   {
    "duration": 17,
    "start_time": "2024-04-28T15:07:21.542Z"
   },
   {
    "duration": 103,
    "start_time": "2024-04-28T15:07:21.560Z"
   },
   {
    "duration": 9,
    "start_time": "2024-04-28T15:07:21.682Z"
   },
   {
    "duration": 19,
    "start_time": "2024-04-28T15:07:21.693Z"
   },
   {
    "duration": 6,
    "start_time": "2024-04-28T15:07:21.714Z"
   },
   {
    "duration": 38,
    "start_time": "2024-04-28T15:07:21.722Z"
   },
   {
    "duration": 464,
    "start_time": "2024-04-28T15:07:21.762Z"
   },
   {
    "duration": 7,
    "start_time": "2024-04-28T15:07:22.228Z"
   },
   {
    "duration": 20,
    "start_time": "2024-04-28T15:07:22.237Z"
   },
   {
    "duration": 27,
    "start_time": "2024-04-28T15:07:22.264Z"
   },
   {
    "duration": 173,
    "start_time": "2024-04-28T15:07:22.293Z"
   },
   {
    "duration": 22,
    "start_time": "2024-04-28T15:07:22.467Z"
   },
   {
    "duration": 30,
    "start_time": "2024-04-28T15:07:22.492Z"
   },
   {
    "duration": 29,
    "start_time": "2024-04-28T15:07:22.524Z"
   },
   {
    "duration": 36,
    "start_time": "2024-04-28T15:07:22.555Z"
   },
   {
    "duration": 9,
    "start_time": "2024-04-28T15:07:22.594Z"
   },
   {
    "duration": 18,
    "start_time": "2024-04-28T15:07:22.611Z"
   },
   {
    "duration": 10,
    "start_time": "2024-04-28T15:07:22.631Z"
   },
   {
    "duration": 938,
    "start_time": "2024-04-28T15:07:22.642Z"
   },
   {
    "duration": 3073,
    "start_time": "2024-04-28T15:07:23.582Z"
   },
   {
    "duration": 7,
    "start_time": "2024-04-28T15:07:26.657Z"
   },
   {
    "duration": 21,
    "start_time": "2024-04-28T15:07:26.666Z"
   },
   {
    "duration": 15,
    "start_time": "2024-04-28T15:07:26.691Z"
   },
   {
    "duration": 8,
    "start_time": "2024-04-28T15:07:26.708Z"
   },
   {
    "duration": 6,
    "start_time": "2024-04-28T15:07:26.718Z"
   },
   {
    "duration": 3,
    "start_time": "2024-04-28T15:07:26.725Z"
   },
   {
    "duration": 8,
    "start_time": "2024-04-28T15:07:26.730Z"
   },
   {
    "duration": 12,
    "start_time": "2024-04-28T15:07:26.740Z"
   },
   {
    "duration": 46,
    "start_time": "2024-04-28T15:07:26.753Z"
   },
   {
    "duration": 13,
    "start_time": "2024-04-28T15:07:26.801Z"
   },
   {
    "duration": 6,
    "start_time": "2024-04-28T15:07:26.816Z"
   },
   {
    "duration": 5,
    "start_time": "2024-04-28T15:07:26.824Z"
   },
   {
    "duration": 15,
    "start_time": "2024-04-28T15:07:26.831Z"
   },
   {
    "duration": 23,
    "start_time": "2024-04-28T15:07:26.848Z"
   },
   {
    "duration": 36,
    "start_time": "2024-04-28T15:07:26.873Z"
   },
   {
    "duration": 14,
    "start_time": "2024-04-28T15:07:26.912Z"
   },
   {
    "duration": 2779,
    "start_time": "2024-04-28T15:07:26.928Z"
   },
   {
    "duration": 1139,
    "start_time": "2024-04-28T15:07:29.709Z"
   },
   {
    "duration": 4,
    "start_time": "2024-04-28T15:07:30.849Z"
   },
   {
    "duration": 107,
    "start_time": "2024-04-28T15:07:30.855Z"
   },
   {
    "duration": 125,
    "start_time": "2024-04-28T15:07:30.965Z"
   },
   {
    "duration": 60,
    "start_time": "2024-04-28T15:07:31.097Z"
   },
   {
    "duration": 1909,
    "start_time": "2024-04-28T15:07:31.158Z"
   },
   {
    "duration": 18,
    "start_time": "2024-04-28T15:07:33.070Z"
   },
   {
    "duration": 41,
    "start_time": "2024-04-28T15:07:33.089Z"
   },
   {
    "duration": 53,
    "start_time": "2024-04-28T15:07:33.132Z"
   },
   {
    "duration": 36,
    "start_time": "2024-04-28T15:07:33.187Z"
   },
   {
    "duration": 29,
    "start_time": "2024-04-28T15:07:33.225Z"
   },
   {
    "duration": 15,
    "start_time": "2024-04-28T15:07:33.257Z"
   },
   {
    "duration": 229,
    "start_time": "2024-04-28T15:07:33.274Z"
   },
   {
    "duration": 8,
    "start_time": "2024-04-28T15:07:33.505Z"
   },
   {
    "duration": 206,
    "start_time": "2024-04-28T15:07:33.515Z"
   },
   {
    "duration": 5313,
    "start_time": "2024-04-29T09:11:31.208Z"
   },
   {
    "duration": 2643,
    "start_time": "2024-04-29T09:11:36.524Z"
   },
   {
    "duration": 84,
    "start_time": "2024-04-29T09:11:39.169Z"
   },
   {
    "duration": 4,
    "start_time": "2024-04-29T09:11:39.255Z"
   },
   {
    "duration": 120,
    "start_time": "2024-04-29T09:11:39.260Z"
   },
   {
    "duration": 4,
    "start_time": "2024-04-29T09:11:39.382Z"
   },
   {
    "duration": 25,
    "start_time": "2024-04-29T09:11:39.387Z"
   },
   {
    "duration": 39,
    "start_time": "2024-04-29T09:11:39.414Z"
   },
   {
    "duration": 3,
    "start_time": "2024-04-29T09:11:39.481Z"
   },
   {
    "duration": 17,
    "start_time": "2024-04-29T09:11:39.487Z"
   },
   {
    "duration": 4,
    "start_time": "2024-04-29T09:11:39.506Z"
   },
   {
    "duration": 6,
    "start_time": "2024-04-29T09:11:39.511Z"
   },
   {
    "duration": 6,
    "start_time": "2024-04-29T09:11:39.518Z"
   },
   {
    "duration": 16,
    "start_time": "2024-04-29T09:11:39.525Z"
   },
   {
    "duration": 43,
    "start_time": "2024-04-29T09:11:39.543Z"
   },
   {
    "duration": 5,
    "start_time": "2024-04-29T09:11:39.588Z"
   },
   {
    "duration": 7895,
    "start_time": "2024-04-29T09:11:39.595Z"
   },
   {
    "duration": 6,
    "start_time": "2024-04-29T09:11:47.492Z"
   },
   {
    "duration": 26,
    "start_time": "2024-04-29T09:11:47.500Z"
   },
   {
    "duration": 93,
    "start_time": "2024-04-29T09:11:47.528Z"
   },
   {
    "duration": 4,
    "start_time": "2024-04-29T09:11:47.623Z"
   },
   {
    "duration": 27,
    "start_time": "2024-04-29T09:11:47.629Z"
   },
   {
    "duration": 26,
    "start_time": "2024-04-29T09:11:47.658Z"
   },
   {
    "duration": 16,
    "start_time": "2024-04-29T09:11:47.686Z"
   },
   {
    "duration": 433,
    "start_time": "2024-04-29T09:11:47.704Z"
   },
   {
    "duration": 6,
    "start_time": "2024-04-29T09:11:48.139Z"
   },
   {
    "duration": 28,
    "start_time": "2024-04-29T09:11:48.148Z"
   },
   {
    "duration": 12,
    "start_time": "2024-04-29T09:11:48.183Z"
   },
   {
    "duration": 16,
    "start_time": "2024-04-29T09:11:48.197Z"
   },
   {
    "duration": 12,
    "start_time": "2024-04-29T09:11:48.214Z"
   },
   {
    "duration": 15,
    "start_time": "2024-04-29T09:11:48.228Z"
   },
   {
    "duration": 36,
    "start_time": "2024-04-29T09:11:48.244Z"
   },
   {
    "duration": 28,
    "start_time": "2024-04-29T09:11:48.282Z"
   },
   {
    "duration": 5,
    "start_time": "2024-04-29T09:11:48.312Z"
   },
   {
    "duration": 8,
    "start_time": "2024-04-29T09:11:48.319Z"
   },
   {
    "duration": 9,
    "start_time": "2024-04-29T09:11:48.329Z"
   },
   {
    "duration": 869,
    "start_time": "2024-04-29T09:11:48.340Z"
   },
   {
    "duration": 2646,
    "start_time": "2024-04-29T09:11:49.211Z"
   },
   {
    "duration": 5,
    "start_time": "2024-04-29T09:11:51.859Z"
   },
   {
    "duration": 29,
    "start_time": "2024-04-29T09:11:51.865Z"
   },
   {
    "duration": 16,
    "start_time": "2024-04-29T09:11:51.896Z"
   },
   {
    "duration": 11,
    "start_time": "2024-04-29T09:11:51.913Z"
   },
   {
    "duration": 15,
    "start_time": "2024-04-29T09:11:51.926Z"
   },
   {
    "duration": 8,
    "start_time": "2024-04-29T09:11:51.943Z"
   },
   {
    "duration": 9,
    "start_time": "2024-04-29T09:11:51.953Z"
   },
   {
    "duration": 13,
    "start_time": "2024-04-29T09:11:51.963Z"
   },
   {
    "duration": 14,
    "start_time": "2024-04-29T09:11:51.977Z"
   },
   {
    "duration": 19,
    "start_time": "2024-04-29T09:11:51.993Z"
   },
   {
    "duration": 20,
    "start_time": "2024-04-29T09:11:52.013Z"
   },
   {
    "duration": 14,
    "start_time": "2024-04-29T09:11:52.036Z"
   },
   {
    "duration": 7,
    "start_time": "2024-04-29T09:11:52.052Z"
   },
   {
    "duration": 4,
    "start_time": "2024-04-29T09:11:52.061Z"
   },
   {
    "duration": 8,
    "start_time": "2024-04-29T09:11:52.066Z"
   },
   {
    "duration": 14,
    "start_time": "2024-04-29T09:11:52.075Z"
   },
   {
    "duration": 2111,
    "start_time": "2024-04-29T09:11:52.090Z"
   },
   {
    "duration": 213,
    "start_time": "2024-04-29T09:11:54.202Z"
   },
   {
    "duration": 0,
    "start_time": "2024-04-29T09:11:54.417Z"
   },
   {
    "duration": 0,
    "start_time": "2024-04-29T09:11:54.418Z"
   },
   {
    "duration": 0,
    "start_time": "2024-04-29T09:11:54.419Z"
   },
   {
    "duration": 0,
    "start_time": "2024-04-29T09:11:54.421Z"
   },
   {
    "duration": 0,
    "start_time": "2024-04-29T09:11:54.422Z"
   },
   {
    "duration": 0,
    "start_time": "2024-04-29T09:11:54.423Z"
   },
   {
    "duration": 0,
    "start_time": "2024-04-29T09:11:54.424Z"
   },
   {
    "duration": 0,
    "start_time": "2024-04-29T09:11:54.425Z"
   },
   {
    "duration": 0,
    "start_time": "2024-04-29T09:11:54.426Z"
   },
   {
    "duration": 0,
    "start_time": "2024-04-29T09:11:54.427Z"
   },
   {
    "duration": 0,
    "start_time": "2024-04-29T09:11:54.429Z"
   },
   {
    "duration": 0,
    "start_time": "2024-04-29T09:11:54.430Z"
   },
   {
    "duration": 0,
    "start_time": "2024-04-29T09:11:54.431Z"
   },
   {
    "duration": 0,
    "start_time": "2024-04-29T09:11:54.433Z"
   },
   {
    "duration": 11625,
    "start_time": "2024-04-29T09:12:50.059Z"
   },
   {
    "duration": 3752,
    "start_time": "2024-04-29T09:13:01.687Z"
   },
   {
    "duration": 85,
    "start_time": "2024-04-29T09:13:05.441Z"
   },
   {
    "duration": 4,
    "start_time": "2024-04-29T09:13:05.528Z"
   },
   {
    "duration": 86,
    "start_time": "2024-04-29T09:13:05.534Z"
   },
   {
    "duration": 4,
    "start_time": "2024-04-29T09:13:05.622Z"
   },
   {
    "duration": 45,
    "start_time": "2024-04-29T09:13:05.628Z"
   },
   {
    "duration": 52,
    "start_time": "2024-04-29T09:13:05.675Z"
   },
   {
    "duration": 5,
    "start_time": "2024-04-29T09:13:05.728Z"
   },
   {
    "duration": 45,
    "start_time": "2024-04-29T09:13:05.735Z"
   },
   {
    "duration": 4,
    "start_time": "2024-04-29T09:13:05.783Z"
   },
   {
    "duration": 7,
    "start_time": "2024-04-29T09:13:05.790Z"
   },
   {
    "duration": 9,
    "start_time": "2024-04-29T09:13:05.799Z"
   },
   {
    "duration": 23,
    "start_time": "2024-04-29T09:13:05.810Z"
   },
   {
    "duration": 10,
    "start_time": "2024-04-29T09:13:05.835Z"
   },
   {
    "duration": 18,
    "start_time": "2024-04-29T09:13:05.847Z"
   },
   {
    "duration": 6518,
    "start_time": "2024-04-29T09:13:05.867Z"
   },
   {
    "duration": 7,
    "start_time": "2024-04-29T09:13:12.386Z"
   },
   {
    "duration": 7,
    "start_time": "2024-04-29T09:13:12.395Z"
   },
   {
    "duration": 111,
    "start_time": "2024-04-29T09:13:12.404Z"
   },
   {
    "duration": 4,
    "start_time": "2024-04-29T09:13:12.517Z"
   },
   {
    "duration": 12,
    "start_time": "2024-04-29T09:13:12.522Z"
   },
   {
    "duration": 10,
    "start_time": "2024-04-29T09:13:12.535Z"
   },
   {
    "duration": 47,
    "start_time": "2024-04-29T09:13:12.547Z"
   },
   {
    "duration": 445,
    "start_time": "2024-04-29T09:13:12.595Z"
   },
   {
    "duration": 6,
    "start_time": "2024-04-29T09:13:13.042Z"
   },
   {
    "duration": 13,
    "start_time": "2024-04-29T09:13:13.049Z"
   },
   {
    "duration": 18,
    "start_time": "2024-04-29T09:13:13.066Z"
   },
   {
    "duration": 17,
    "start_time": "2024-04-29T09:13:13.086Z"
   },
   {
    "duration": 10,
    "start_time": "2024-04-29T09:13:13.105Z"
   },
   {
    "duration": 17,
    "start_time": "2024-04-29T09:13:13.117Z"
   },
   {
    "duration": 8,
    "start_time": "2024-04-29T09:13:13.135Z"
   },
   {
    "duration": 46,
    "start_time": "2024-04-29T09:13:13.144Z"
   },
   {
    "duration": 5,
    "start_time": "2024-04-29T09:13:13.191Z"
   },
   {
    "duration": 3,
    "start_time": "2024-04-29T09:13:13.197Z"
   },
   {
    "duration": 9,
    "start_time": "2024-04-29T09:13:13.202Z"
   },
   {
    "duration": 922,
    "start_time": "2024-04-29T09:13:13.212Z"
   },
   {
    "duration": 2606,
    "start_time": "2024-04-29T09:13:14.136Z"
   },
   {
    "duration": 6,
    "start_time": "2024-04-29T09:13:16.744Z"
   },
   {
    "duration": 29,
    "start_time": "2024-04-29T09:13:16.751Z"
   },
   {
    "duration": 18,
    "start_time": "2024-04-29T09:13:16.782Z"
   },
   {
    "duration": 6,
    "start_time": "2024-04-29T09:13:16.802Z"
   },
   {
    "duration": 5,
    "start_time": "2024-04-29T09:13:16.810Z"
   },
   {
    "duration": 11,
    "start_time": "2024-04-29T09:13:16.817Z"
   },
   {
    "duration": 22,
    "start_time": "2024-04-29T09:13:16.830Z"
   },
   {
    "duration": 38,
    "start_time": "2024-04-29T09:13:16.854Z"
   },
   {
    "duration": 8,
    "start_time": "2024-04-29T09:13:16.894Z"
   },
   {
    "duration": 14,
    "start_time": "2024-04-29T09:13:16.903Z"
   },
   {
    "duration": 9,
    "start_time": "2024-04-29T09:13:16.919Z"
   },
   {
    "duration": 5,
    "start_time": "2024-04-29T09:13:16.929Z"
   },
   {
    "duration": 7,
    "start_time": "2024-04-29T09:13:16.936Z"
   },
   {
    "duration": 35,
    "start_time": "2024-04-29T09:13:16.945Z"
   },
   {
    "duration": 19,
    "start_time": "2024-04-29T09:13:16.982Z"
   },
   {
    "duration": 13,
    "start_time": "2024-04-29T09:13:17.002Z"
   },
   {
    "duration": 2489,
    "start_time": "2024-04-29T09:13:17.017Z"
   },
   {
    "duration": 868,
    "start_time": "2024-04-29T09:13:19.507Z"
   },
   {
    "duration": 3,
    "start_time": "2024-04-29T09:13:20.380Z"
   },
   {
    "duration": 36,
    "start_time": "2024-04-29T09:13:20.384Z"
   },
   {
    "duration": 6,
    "start_time": "2024-04-29T09:13:20.482Z"
   },
   {
    "duration": 112,
    "start_time": "2024-04-29T09:13:20.490Z"
   },
   {
    "duration": 1704,
    "start_time": "2024-04-29T09:13:20.605Z"
   },
   {
    "duration": 6,
    "start_time": "2024-04-29T09:13:22.311Z"
   },
   {
    "duration": 12,
    "start_time": "2024-04-29T09:13:22.318Z"
   },
   {
    "duration": 17,
    "start_time": "2024-04-29T09:13:22.332Z"
   },
   {
    "duration": 30,
    "start_time": "2024-04-29T09:13:22.351Z"
   },
   {
    "duration": 6,
    "start_time": "2024-04-29T09:13:22.383Z"
   },
   {
    "duration": 11,
    "start_time": "2024-04-29T09:13:22.390Z"
   },
   {
    "duration": 175,
    "start_time": "2024-04-29T09:13:22.402Z"
   },
   {
    "duration": 7,
    "start_time": "2024-04-29T09:13:22.581Z"
   },
   {
    "duration": 198,
    "start_time": "2024-04-29T09:13:22.590Z"
   },
   {
    "duration": 128,
    "start_time": "2024-04-29T09:58:08.989Z"
   },
   {
    "duration": 4,
    "start_time": "2024-04-29T09:58:55.553Z"
   },
   {
    "duration": 7,
    "start_time": "2024-04-29T10:03:34.365Z"
   },
   {
    "duration": 44,
    "start_time": "2024-04-29T10:03:40.353Z"
   },
   {
    "duration": 67,
    "start_time": "2024-04-29T10:09:22.422Z"
   },
   {
    "duration": 69,
    "start_time": "2024-04-29T10:09:29.614Z"
   },
   {
    "duration": 75,
    "start_time": "2024-04-29T10:09:33.950Z"
   },
   {
    "duration": 66,
    "start_time": "2024-04-29T10:09:54.526Z"
   },
   {
    "duration": 7,
    "start_time": "2024-04-29T10:19:18.391Z"
   },
   {
    "duration": 10,
    "start_time": "2024-04-29T10:23:27.527Z"
   },
   {
    "duration": 56935,
    "start_time": "2024-04-29T10:24:07.019Z"
   },
   {
    "duration": 1970,
    "start_time": "2024-04-29T10:25:03.956Z"
   },
   {
    "duration": 371,
    "start_time": "2024-04-29T10:25:05.928Z"
   },
   {
    "duration": 4,
    "start_time": "2024-04-29T10:25:06.300Z"
   },
   {
    "duration": 68,
    "start_time": "2024-04-29T10:25:06.306Z"
   },
   {
    "duration": 4,
    "start_time": "2024-04-29T10:25:06.376Z"
   },
   {
    "duration": 5,
    "start_time": "2024-04-29T10:25:06.381Z"
   },
   {
    "duration": 28,
    "start_time": "2024-04-29T10:25:06.416Z"
   },
   {
    "duration": 4,
    "start_time": "2024-04-29T10:25:06.445Z"
   },
   {
    "duration": 14,
    "start_time": "2024-04-29T10:25:06.451Z"
   },
   {
    "duration": 3,
    "start_time": "2024-04-29T10:25:06.466Z"
   },
   {
    "duration": 48,
    "start_time": "2024-04-29T10:25:06.470Z"
   },
   {
    "duration": 6,
    "start_time": "2024-04-29T10:25:06.519Z"
   },
   {
    "duration": 13,
    "start_time": "2024-04-29T10:25:06.526Z"
   },
   {
    "duration": 18,
    "start_time": "2024-04-29T10:25:06.540Z"
   },
   {
    "duration": 22,
    "start_time": "2024-04-29T10:25:06.560Z"
   },
   {
    "duration": 6720,
    "start_time": "2024-04-29T10:25:06.584Z"
   },
   {
    "duration": 11,
    "start_time": "2024-04-29T10:25:13.305Z"
   },
   {
    "duration": 6,
    "start_time": "2024-04-29T10:25:13.317Z"
   },
   {
    "duration": 93,
    "start_time": "2024-04-29T10:25:13.324Z"
   },
   {
    "duration": 4,
    "start_time": "2024-04-29T10:25:13.419Z"
   },
   {
    "duration": 11,
    "start_time": "2024-04-29T10:25:13.424Z"
   },
   {
    "duration": 20,
    "start_time": "2024-04-29T10:25:13.436Z"
   },
   {
    "duration": 14,
    "start_time": "2024-04-29T10:25:13.458Z"
   },
   {
    "duration": 397,
    "start_time": "2024-04-29T10:25:13.473Z"
   },
   {
    "duration": 6,
    "start_time": "2024-04-29T10:25:13.872Z"
   },
   {
    "duration": 11,
    "start_time": "2024-04-29T10:25:13.879Z"
   },
   {
    "duration": 6,
    "start_time": "2024-04-29T10:25:13.893Z"
   },
   {
    "duration": 148,
    "start_time": "2024-04-29T10:25:13.915Z"
   },
   {
    "duration": 9,
    "start_time": "2024-04-29T10:25:14.064Z"
   },
   {
    "duration": 13,
    "start_time": "2024-04-29T10:25:14.074Z"
   },
   {
    "duration": 28,
    "start_time": "2024-04-29T10:25:14.089Z"
   },
   {
    "duration": 22,
    "start_time": "2024-04-29T10:25:14.118Z"
   },
   {
    "duration": 4,
    "start_time": "2024-04-29T10:25:14.141Z"
   },
   {
    "duration": 3,
    "start_time": "2024-04-29T10:25:14.147Z"
   },
   {
    "duration": 6,
    "start_time": "2024-04-29T10:25:14.152Z"
   },
   {
    "duration": 812,
    "start_time": "2024-04-29T10:25:14.159Z"
   },
   {
    "duration": 3199,
    "start_time": "2024-04-29T10:25:14.973Z"
   },
   {
    "duration": 4,
    "start_time": "2024-04-29T10:25:18.174Z"
   },
   {
    "duration": 18,
    "start_time": "2024-04-29T10:25:18.180Z"
   },
   {
    "duration": 18,
    "start_time": "2024-04-29T10:25:18.200Z"
   },
   {
    "duration": 8,
    "start_time": "2024-04-29T10:25:18.220Z"
   },
   {
    "duration": 16,
    "start_time": "2024-04-29T10:25:18.229Z"
   },
   {
    "duration": 10,
    "start_time": "2024-04-29T10:25:18.248Z"
   },
   {
    "duration": 11,
    "start_time": "2024-04-29T10:25:18.259Z"
   },
   {
    "duration": 13,
    "start_time": "2024-04-29T10:25:18.272Z"
   },
   {
    "duration": 8,
    "start_time": "2024-04-29T10:25:18.286Z"
   },
   {
    "duration": 12,
    "start_time": "2024-04-29T10:25:18.295Z"
   },
   {
    "duration": 11,
    "start_time": "2024-04-29T10:25:18.308Z"
   },
   {
    "duration": 4,
    "start_time": "2024-04-29T10:25:18.320Z"
   },
   {
    "duration": 7,
    "start_time": "2024-04-29T10:25:18.325Z"
   },
   {
    "duration": 4,
    "start_time": "2024-04-29T10:25:18.333Z"
   },
   {
    "duration": 11,
    "start_time": "2024-04-29T10:25:18.338Z"
   },
   {
    "duration": 6,
    "start_time": "2024-04-29T10:25:18.351Z"
   },
   {
    "duration": 2777,
    "start_time": "2024-04-29T10:25:18.358Z"
   },
   {
    "duration": 841,
    "start_time": "2024-04-29T10:25:21.137Z"
   },
   {
    "duration": 3,
    "start_time": "2024-04-29T10:25:21.980Z"
   },
   {
    "duration": 31,
    "start_time": "2024-04-29T10:25:21.985Z"
   },
   {
    "duration": 5,
    "start_time": "2024-04-29T10:25:22.018Z"
   },
   {
    "duration": 192,
    "start_time": "2024-04-29T10:25:22.025Z"
   },
   {
    "duration": 1463,
    "start_time": "2024-04-29T10:25:22.218Z"
   },
   {
    "duration": 5,
    "start_time": "2024-04-29T10:25:23.683Z"
   },
   {
    "duration": 10,
    "start_time": "2024-04-29T10:25:23.690Z"
   },
   {
    "duration": 5,
    "start_time": "2024-04-29T10:25:23.715Z"
   },
   {
    "duration": 8,
    "start_time": "2024-04-29T10:25:23.721Z"
   },
   {
    "duration": 15,
    "start_time": "2024-04-29T10:25:23.730Z"
   },
   {
    "duration": 7,
    "start_time": "2024-04-29T10:25:23.746Z"
   },
   {
    "duration": 147,
    "start_time": "2024-04-29T10:25:23.754Z"
   },
   {
    "duration": 6,
    "start_time": "2024-04-29T10:25:23.902Z"
   },
   {
    "duration": 157,
    "start_time": "2024-04-29T10:25:23.910Z"
   },
   {
    "duration": 2916,
    "start_time": "2024-04-29T10:29:19.541Z"
   },
   {
    "duration": 2798,
    "start_time": "2024-04-29T10:59:59.086Z"
   },
   {
    "duration": 2743,
    "start_time": "2024-04-29T11:03:27.310Z"
   },
   {
    "duration": 4821,
    "start_time": "2024-04-29T11:03:35.653Z"
   },
   {
    "duration": 1834,
    "start_time": "2024-04-29T11:03:40.476Z"
   },
   {
    "duration": 89,
    "start_time": "2024-04-29T11:03:42.314Z"
   },
   {
    "duration": 4,
    "start_time": "2024-04-29T11:03:42.405Z"
   },
   {
    "duration": 65,
    "start_time": "2024-04-29T11:03:42.410Z"
   },
   {
    "duration": 4,
    "start_time": "2024-04-29T11:03:42.476Z"
   },
   {
    "duration": 6,
    "start_time": "2024-04-29T11:03:42.482Z"
   },
   {
    "duration": 59,
    "start_time": "2024-04-29T11:03:42.489Z"
   },
   {
    "duration": 4,
    "start_time": "2024-04-29T11:03:42.550Z"
   },
   {
    "duration": 59,
    "start_time": "2024-04-29T11:03:42.556Z"
   },
   {
    "duration": 3,
    "start_time": "2024-04-29T11:03:42.617Z"
   },
   {
    "duration": 9,
    "start_time": "2024-04-29T11:03:42.622Z"
   },
   {
    "duration": 5,
    "start_time": "2024-04-29T11:03:42.632Z"
   },
   {
    "duration": 18,
    "start_time": "2024-04-29T11:03:42.639Z"
   },
   {
    "duration": 10,
    "start_time": "2024-04-29T11:03:42.658Z"
   },
   {
    "duration": 5,
    "start_time": "2024-04-29T11:03:42.670Z"
   },
   {
    "duration": 6239,
    "start_time": "2024-04-29T11:03:42.677Z"
   },
   {
    "duration": 7,
    "start_time": "2024-04-29T11:03:48.918Z"
   },
   {
    "duration": 4,
    "start_time": "2024-04-29T11:03:48.926Z"
   },
   {
    "duration": 100,
    "start_time": "2024-04-29T11:03:48.931Z"
   },
   {
    "duration": 4,
    "start_time": "2024-04-29T11:03:49.032Z"
   },
   {
    "duration": 12,
    "start_time": "2024-04-29T11:03:49.038Z"
   },
   {
    "duration": 8,
    "start_time": "2024-04-29T11:03:49.051Z"
   },
   {
    "duration": 18,
    "start_time": "2024-04-29T11:03:49.060Z"
   },
   {
    "duration": 393,
    "start_time": "2024-04-29T11:03:49.080Z"
   },
   {
    "duration": 6,
    "start_time": "2024-04-29T11:03:49.475Z"
   },
   {
    "duration": 12,
    "start_time": "2024-04-29T11:03:49.483Z"
   },
   {
    "duration": 7,
    "start_time": "2024-04-29T11:03:49.515Z"
   },
   {
    "duration": 162,
    "start_time": "2024-04-29T11:03:49.524Z"
   },
   {
    "duration": 9,
    "start_time": "2024-04-29T11:03:49.688Z"
   },
   {
    "duration": 26,
    "start_time": "2024-04-29T11:03:49.699Z"
   },
   {
    "duration": 12,
    "start_time": "2024-04-29T11:03:49.727Z"
   },
   {
    "duration": 23,
    "start_time": "2024-04-29T11:03:49.740Z"
   },
   {
    "duration": 4,
    "start_time": "2024-04-29T11:03:49.765Z"
   },
   {
    "duration": 9,
    "start_time": "2024-04-29T11:03:49.770Z"
   },
   {
    "duration": 32,
    "start_time": "2024-04-29T11:03:49.781Z"
   },
   {
    "duration": 787,
    "start_time": "2024-04-29T11:03:49.815Z"
   },
   {
    "duration": 2518,
    "start_time": "2024-04-29T11:03:50.603Z"
   },
   {
    "duration": 4,
    "start_time": "2024-04-29T11:03:53.123Z"
   },
   {
    "duration": 6,
    "start_time": "2024-04-29T11:03:53.129Z"
   },
   {
    "duration": 9,
    "start_time": "2024-04-29T11:03:53.137Z"
   },
   {
    "duration": 4,
    "start_time": "2024-04-29T11:03:53.148Z"
   },
   {
    "duration": 7,
    "start_time": "2024-04-29T11:03:53.153Z"
   },
   {
    "duration": 9,
    "start_time": "2024-04-29T11:03:53.161Z"
   },
   {
    "duration": 8,
    "start_time": "2024-04-29T11:03:53.171Z"
   },
   {
    "duration": 43,
    "start_time": "2024-04-29T11:03:53.181Z"
   },
   {
    "duration": 10,
    "start_time": "2024-04-29T11:03:53.226Z"
   },
   {
    "duration": 14,
    "start_time": "2024-04-29T11:03:53.238Z"
   },
   {
    "duration": 4,
    "start_time": "2024-04-29T11:03:53.253Z"
   },
   {
    "duration": 4,
    "start_time": "2024-04-29T11:03:53.259Z"
   },
   {
    "duration": 11,
    "start_time": "2024-04-29T11:03:53.265Z"
   },
   {
    "duration": 4,
    "start_time": "2024-04-29T11:03:53.277Z"
   },
   {
    "duration": 4,
    "start_time": "2024-04-29T11:03:53.282Z"
   },
   {
    "duration": 30,
    "start_time": "2024-04-29T11:03:53.287Z"
   },
   {
    "duration": 2785,
    "start_time": "2024-04-29T11:03:53.319Z"
   },
   {
    "duration": 881,
    "start_time": "2024-04-29T11:03:56.105Z"
   },
   {
    "duration": 2,
    "start_time": "2024-04-29T11:03:56.988Z"
   },
   {
    "duration": 24,
    "start_time": "2024-04-29T11:03:56.992Z"
   },
   {
    "duration": 5,
    "start_time": "2024-04-29T11:03:57.018Z"
   },
   {
    "duration": 101,
    "start_time": "2024-04-29T11:03:57.115Z"
   },
   {
    "duration": 1603,
    "start_time": "2024-04-29T11:03:57.219Z"
   },
   {
    "duration": 8,
    "start_time": "2024-04-29T11:03:58.824Z"
   },
   {
    "duration": 15,
    "start_time": "2024-04-29T11:03:58.833Z"
   },
   {
    "duration": 10,
    "start_time": "2024-04-29T11:03:58.850Z"
   },
   {
    "duration": 6,
    "start_time": "2024-04-29T11:03:58.861Z"
   },
   {
    "duration": 5,
    "start_time": "2024-04-29T11:03:58.868Z"
   },
   {
    "duration": 42,
    "start_time": "2024-04-29T11:03:58.874Z"
   },
   {
    "duration": 151,
    "start_time": "2024-04-29T11:03:58.917Z"
   },
   {
    "duration": 7,
    "start_time": "2024-04-29T11:03:59.069Z"
   },
   {
    "duration": 197,
    "start_time": "2024-04-29T11:03:59.077Z"
   },
   {
    "duration": 6,
    "start_time": "2024-04-29T11:11:19.150Z"
   },
   {
    "duration": 115,
    "start_time": "2024-04-29T11:11:28.862Z"
   },
   {
    "duration": 3,
    "start_time": "2024-04-29T11:16:01.113Z"
   },
   {
    "duration": 4,
    "start_time": "2024-04-29T11:16:11.233Z"
   },
   {
    "duration": 1599,
    "start_time": "2024-04-29T11:16:16.980Z"
   },
   {
    "duration": 5684,
    "start_time": "2024-04-29T11:20:00.248Z"
   },
   {
    "duration": 1853,
    "start_time": "2024-04-29T11:20:05.935Z"
   },
   {
    "duration": 86,
    "start_time": "2024-04-29T11:20:07.790Z"
   },
   {
    "duration": 3,
    "start_time": "2024-04-29T11:20:07.879Z"
   },
   {
    "duration": 71,
    "start_time": "2024-04-29T11:20:07.884Z"
   },
   {
    "duration": 4,
    "start_time": "2024-04-29T11:20:07.956Z"
   },
   {
    "duration": 4,
    "start_time": "2024-04-29T11:20:07.962Z"
   },
   {
    "duration": 69,
    "start_time": "2024-04-29T11:20:07.968Z"
   },
   {
    "duration": 3,
    "start_time": "2024-04-29T11:20:08.039Z"
   },
   {
    "duration": 16,
    "start_time": "2024-04-29T11:20:08.045Z"
   },
   {
    "duration": 3,
    "start_time": "2024-04-29T11:20:08.063Z"
   },
   {
    "duration": 18,
    "start_time": "2024-04-29T11:20:08.068Z"
   },
   {
    "duration": 27,
    "start_time": "2024-04-29T11:20:08.088Z"
   },
   {
    "duration": 18,
    "start_time": "2024-04-29T11:20:08.116Z"
   },
   {
    "duration": 9,
    "start_time": "2024-04-29T11:20:08.135Z"
   },
   {
    "duration": 16,
    "start_time": "2024-04-29T11:20:08.146Z"
   },
   {
    "duration": 6017,
    "start_time": "2024-04-29T11:20:08.163Z"
   },
   {
    "duration": 6,
    "start_time": "2024-04-29T11:20:14.182Z"
   },
   {
    "duration": 8,
    "start_time": "2024-04-29T11:20:14.190Z"
   },
   {
    "duration": 87,
    "start_time": "2024-04-29T11:20:14.199Z"
   },
   {
    "duration": 5,
    "start_time": "2024-04-29T11:20:14.287Z"
   },
   {
    "duration": 27,
    "start_time": "2024-04-29T11:20:14.293Z"
   },
   {
    "duration": 5,
    "start_time": "2024-04-29T11:20:14.321Z"
   },
   {
    "duration": 13,
    "start_time": "2024-04-29T11:20:14.327Z"
   },
   {
    "duration": 416,
    "start_time": "2024-04-29T11:20:14.341Z"
   },
   {
    "duration": 6,
    "start_time": "2024-04-29T11:20:14.758Z"
   },
   {
    "duration": 19,
    "start_time": "2024-04-29T11:20:14.766Z"
   },
   {
    "duration": 6,
    "start_time": "2024-04-29T11:20:14.789Z"
   },
   {
    "duration": 162,
    "start_time": "2024-04-29T11:20:14.797Z"
   },
   {
    "duration": 9,
    "start_time": "2024-04-29T11:20:14.960Z"
   },
   {
    "duration": 12,
    "start_time": "2024-04-29T11:20:14.971Z"
   },
   {
    "duration": 7,
    "start_time": "2024-04-29T11:20:14.985Z"
   },
   {
    "duration": 41,
    "start_time": "2024-04-29T11:20:14.993Z"
   },
   {
    "duration": 15,
    "start_time": "2024-04-29T11:20:15.035Z"
   },
   {
    "duration": 36,
    "start_time": "2024-04-29T11:20:15.052Z"
   },
   {
    "duration": 12,
    "start_time": "2024-04-29T11:20:15.090Z"
   },
   {
    "duration": 781,
    "start_time": "2024-04-29T11:20:15.103Z"
   },
   {
    "duration": 2469,
    "start_time": "2024-04-29T11:20:15.886Z"
   },
   {
    "duration": 5,
    "start_time": "2024-04-29T11:20:18.357Z"
   },
   {
    "duration": 7,
    "start_time": "2024-04-29T11:20:18.363Z"
   },
   {
    "duration": 5,
    "start_time": "2024-04-29T11:20:18.371Z"
   },
   {
    "duration": 4,
    "start_time": "2024-04-29T11:20:18.378Z"
   },
   {
    "duration": 8,
    "start_time": "2024-04-29T11:20:18.383Z"
   },
   {
    "duration": 23,
    "start_time": "2024-04-29T11:20:18.393Z"
   },
   {
    "duration": 5,
    "start_time": "2024-04-29T11:20:18.418Z"
   },
   {
    "duration": 14,
    "start_time": "2024-04-29T11:20:18.425Z"
   },
   {
    "duration": 12,
    "start_time": "2024-04-29T11:20:18.440Z"
   },
   {
    "duration": 5,
    "start_time": "2024-04-29T11:20:18.454Z"
   },
   {
    "duration": 10,
    "start_time": "2024-04-29T11:20:18.461Z"
   },
   {
    "duration": 2,
    "start_time": "2024-04-29T11:20:18.473Z"
   },
   {
    "duration": 7,
    "start_time": "2024-04-29T11:20:18.477Z"
   },
   {
    "duration": 6,
    "start_time": "2024-04-29T11:20:18.486Z"
   },
   {
    "duration": 24,
    "start_time": "2024-04-29T11:20:18.493Z"
   },
   {
    "duration": 5,
    "start_time": "2024-04-29T11:20:18.518Z"
   },
   {
    "duration": 6,
    "start_time": "2024-04-29T11:20:18.524Z"
   },
   {
    "duration": 2743,
    "start_time": "2024-04-29T11:20:18.531Z"
   },
   {
    "duration": 934,
    "start_time": "2024-04-29T11:20:21.276Z"
   },
   {
    "duration": 3,
    "start_time": "2024-04-29T11:20:22.214Z"
   },
   {
    "duration": 140,
    "start_time": "2024-04-29T11:20:22.218Z"
   },
   {
    "duration": 0,
    "start_time": "2024-04-29T11:20:22.360Z"
   },
   {
    "duration": 0,
    "start_time": "2024-04-29T11:20:22.361Z"
   },
   {
    "duration": 0,
    "start_time": "2024-04-29T11:20:22.362Z"
   },
   {
    "duration": 0,
    "start_time": "2024-04-29T11:20:22.364Z"
   },
   {
    "duration": 0,
    "start_time": "2024-04-29T11:20:22.365Z"
   },
   {
    "duration": 0,
    "start_time": "2024-04-29T11:20:22.366Z"
   },
   {
    "duration": 0,
    "start_time": "2024-04-29T11:20:22.367Z"
   },
   {
    "duration": 0,
    "start_time": "2024-04-29T11:20:22.368Z"
   },
   {
    "duration": 0,
    "start_time": "2024-04-29T11:20:22.369Z"
   },
   {
    "duration": 0,
    "start_time": "2024-04-29T11:20:22.370Z"
   },
   {
    "duration": 0,
    "start_time": "2024-04-29T11:20:22.371Z"
   },
   {
    "duration": 0,
    "start_time": "2024-04-29T11:20:22.373Z"
   },
   {
    "duration": 16,
    "start_time": "2024-04-29T11:20:54.864Z"
   },
   {
    "duration": 4,
    "start_time": "2024-04-29T11:21:03.272Z"
   },
   {
    "duration": 11,
    "start_time": "2024-04-29T11:24:33.833Z"
   },
   {
    "duration": 16,
    "start_time": "2024-04-29T11:24:37.185Z"
   },
   {
    "duration": 4,
    "start_time": "2024-04-29T11:24:37.608Z"
   },
   {
    "duration": 5113,
    "start_time": "2024-04-29T11:24:50.431Z"
   },
   {
    "duration": 2746,
    "start_time": "2024-04-29T11:24:55.547Z"
   },
   {
    "duration": 87,
    "start_time": "2024-04-29T11:24:58.295Z"
   },
   {
    "duration": 4,
    "start_time": "2024-04-29T11:24:58.384Z"
   },
   {
    "duration": 58,
    "start_time": "2024-04-29T11:24:58.389Z"
   },
   {
    "duration": 4,
    "start_time": "2024-04-29T11:24:58.448Z"
   },
   {
    "duration": 4,
    "start_time": "2024-04-29T11:24:58.454Z"
   },
   {
    "duration": 66,
    "start_time": "2024-04-29T11:24:58.459Z"
   },
   {
    "duration": 3,
    "start_time": "2024-04-29T11:24:58.527Z"
   },
   {
    "duration": 26,
    "start_time": "2024-04-29T11:24:58.533Z"
   },
   {
    "duration": 3,
    "start_time": "2024-04-29T11:24:58.561Z"
   },
   {
    "duration": 7,
    "start_time": "2024-04-29T11:24:58.566Z"
   },
   {
    "duration": 4,
    "start_time": "2024-04-29T11:24:58.575Z"
   },
   {
    "duration": 41,
    "start_time": "2024-04-29T11:24:58.581Z"
   },
   {
    "duration": 8,
    "start_time": "2024-04-29T11:24:58.624Z"
   },
   {
    "duration": 7,
    "start_time": "2024-04-29T11:24:58.634Z"
   },
   {
    "duration": 6113,
    "start_time": "2024-04-29T11:24:58.642Z"
   },
   {
    "duration": 6,
    "start_time": "2024-04-29T11:25:04.756Z"
   },
   {
    "duration": 5,
    "start_time": "2024-04-29T11:25:04.763Z"
   },
   {
    "duration": 88,
    "start_time": "2024-04-29T11:25:04.769Z"
   },
   {
    "duration": 4,
    "start_time": "2024-04-29T11:25:04.859Z"
   },
   {
    "duration": 11,
    "start_time": "2024-04-29T11:25:04.864Z"
   },
   {
    "duration": 5,
    "start_time": "2024-04-29T11:25:04.877Z"
   },
   {
    "duration": 42,
    "start_time": "2024-04-29T11:25:04.883Z"
   },
   {
    "duration": 401,
    "start_time": "2024-04-29T11:25:04.927Z"
   },
   {
    "duration": 5,
    "start_time": "2024-04-29T11:25:05.329Z"
   },
   {
    "duration": 14,
    "start_time": "2024-04-29T11:25:05.336Z"
   },
   {
    "duration": 5,
    "start_time": "2024-04-29T11:25:05.354Z"
   },
   {
    "duration": 158,
    "start_time": "2024-04-29T11:25:05.360Z"
   },
   {
    "duration": 14,
    "start_time": "2024-04-29T11:25:05.519Z"
   },
   {
    "duration": 12,
    "start_time": "2024-04-29T11:25:05.535Z"
   },
   {
    "duration": 15,
    "start_time": "2024-04-29T11:25:05.549Z"
   },
   {
    "duration": 24,
    "start_time": "2024-04-29T11:25:05.566Z"
   },
   {
    "duration": 4,
    "start_time": "2024-04-29T11:25:05.592Z"
   },
   {
    "duration": 78,
    "start_time": "2024-04-29T11:25:05.598Z"
   },
   {
    "duration": 33,
    "start_time": "2024-04-29T11:25:05.678Z"
   },
   {
    "duration": 808,
    "start_time": "2024-04-29T11:25:05.712Z"
   },
   {
    "duration": 2510,
    "start_time": "2024-04-29T11:25:06.521Z"
   },
   {
    "duration": 4,
    "start_time": "2024-04-29T11:25:09.033Z"
   },
   {
    "duration": 22,
    "start_time": "2024-04-29T11:25:09.038Z"
   },
   {
    "duration": 18,
    "start_time": "2024-04-29T11:25:09.061Z"
   },
   {
    "duration": 6,
    "start_time": "2024-04-29T11:25:09.080Z"
   },
   {
    "duration": 10,
    "start_time": "2024-04-29T11:25:09.088Z"
   },
   {
    "duration": 8,
    "start_time": "2024-04-29T11:25:09.100Z"
   },
   {
    "duration": 7,
    "start_time": "2024-04-29T11:25:09.110Z"
   },
   {
    "duration": 8,
    "start_time": "2024-04-29T11:25:09.119Z"
   },
   {
    "duration": 12,
    "start_time": "2024-04-29T11:25:09.128Z"
   },
   {
    "duration": 8,
    "start_time": "2024-04-29T11:25:09.141Z"
   },
   {
    "duration": 19,
    "start_time": "2024-04-29T11:25:09.150Z"
   },
   {
    "duration": 10,
    "start_time": "2024-04-29T11:25:09.171Z"
   },
   {
    "duration": 8,
    "start_time": "2024-04-29T11:25:09.183Z"
   },
   {
    "duration": 15,
    "start_time": "2024-04-29T11:25:09.193Z"
   },
   {
    "duration": 8,
    "start_time": "2024-04-29T11:25:09.209Z"
   },
   {
    "duration": 5,
    "start_time": "2024-04-29T11:25:09.218Z"
   },
   {
    "duration": 5,
    "start_time": "2024-04-29T11:25:09.224Z"
   },
   {
    "duration": 2749,
    "start_time": "2024-04-29T11:25:09.231Z"
   },
   {
    "duration": 863,
    "start_time": "2024-04-29T11:25:11.982Z"
   },
   {
    "duration": 3,
    "start_time": "2024-04-29T11:25:12.846Z"
   },
   {
    "duration": 41,
    "start_time": "2024-04-29T11:25:12.850Z"
   },
   {
    "duration": 5,
    "start_time": "2024-04-29T11:25:12.915Z"
   },
   {
    "duration": 107,
    "start_time": "2024-04-29T11:25:12.922Z"
   },
   {
    "duration": 84,
    "start_time": "2024-04-29T11:25:13.031Z"
   },
   {
    "duration": 110,
    "start_time": "2024-04-29T11:25:13.117Z"
   },
   {
    "duration": 817,
    "start_time": "2024-04-29T11:25:13.228Z"
   },
   {
    "duration": 0,
    "start_time": "2024-04-29T11:25:14.046Z"
   },
   {
    "duration": 0,
    "start_time": "2024-04-29T11:25:14.048Z"
   },
   {
    "duration": 0,
    "start_time": "2024-04-29T11:25:14.049Z"
   },
   {
    "duration": 0,
    "start_time": "2024-04-29T11:25:14.050Z"
   },
   {
    "duration": 0,
    "start_time": "2024-04-29T11:25:14.051Z"
   },
   {
    "duration": 0,
    "start_time": "2024-04-29T11:25:14.052Z"
   },
   {
    "duration": 0,
    "start_time": "2024-04-29T11:25:14.053Z"
   },
   {
    "duration": 0,
    "start_time": "2024-04-29T11:25:14.054Z"
   },
   {
    "duration": 0,
    "start_time": "2024-04-29T11:25:14.056Z"
   },
   {
    "duration": 3,
    "start_time": "2024-04-29T11:26:47.537Z"
   },
   {
    "duration": 18,
    "start_time": "2024-04-29T11:26:48.040Z"
   },
   {
    "duration": 638,
    "start_time": "2024-04-29T11:28:12.248Z"
   },
   {
    "duration": 4836,
    "start_time": "2024-04-29T11:28:32.154Z"
   },
   {
    "duration": 1806,
    "start_time": "2024-04-29T11:28:36.992Z"
   },
   {
    "duration": 88,
    "start_time": "2024-04-29T11:28:38.799Z"
   },
   {
    "duration": 4,
    "start_time": "2024-04-29T11:28:38.889Z"
   },
   {
    "duration": 83,
    "start_time": "2024-04-29T11:28:38.895Z"
   },
   {
    "duration": 4,
    "start_time": "2024-04-29T11:28:38.980Z"
   },
   {
    "duration": 5,
    "start_time": "2024-04-29T11:28:38.985Z"
   },
   {
    "duration": 53,
    "start_time": "2024-04-29T11:28:38.992Z"
   },
   {
    "duration": 5,
    "start_time": "2024-04-29T11:28:39.047Z"
   },
   {
    "duration": 26,
    "start_time": "2024-04-29T11:28:39.056Z"
   },
   {
    "duration": 5,
    "start_time": "2024-04-29T11:28:39.120Z"
   },
   {
    "duration": 15,
    "start_time": "2024-04-29T11:28:39.126Z"
   },
   {
    "duration": 6,
    "start_time": "2024-04-29T11:28:39.142Z"
   },
   {
    "duration": 21,
    "start_time": "2024-04-29T11:28:39.149Z"
   },
   {
    "duration": 22,
    "start_time": "2024-04-29T11:28:39.172Z"
   },
   {
    "duration": 10,
    "start_time": "2024-04-29T11:28:39.195Z"
   },
   {
    "duration": 6085,
    "start_time": "2024-04-29T11:28:39.206Z"
   },
   {
    "duration": 7,
    "start_time": "2024-04-29T11:28:45.293Z"
   },
   {
    "duration": 28,
    "start_time": "2024-04-29T11:28:45.301Z"
   },
   {
    "duration": 78,
    "start_time": "2024-04-29T11:28:45.331Z"
   },
   {
    "duration": 6,
    "start_time": "2024-04-29T11:28:45.410Z"
   },
   {
    "duration": 21,
    "start_time": "2024-04-29T11:28:45.418Z"
   },
   {
    "duration": 20,
    "start_time": "2024-04-29T11:28:45.440Z"
   },
   {
    "duration": 26,
    "start_time": "2024-04-29T11:28:45.461Z"
   },
   {
    "duration": 390,
    "start_time": "2024-04-29T11:28:45.488Z"
   },
   {
    "duration": 6,
    "start_time": "2024-04-29T11:28:45.879Z"
   },
   {
    "duration": 36,
    "start_time": "2024-04-29T11:28:45.886Z"
   },
   {
    "duration": 23,
    "start_time": "2024-04-29T11:28:45.925Z"
   },
   {
    "duration": 153,
    "start_time": "2024-04-29T11:28:45.950Z"
   },
   {
    "duration": 16,
    "start_time": "2024-04-29T11:28:46.105Z"
   },
   {
    "duration": 20,
    "start_time": "2024-04-29T11:28:46.123Z"
   },
   {
    "duration": 14,
    "start_time": "2024-04-29T11:28:46.144Z"
   },
   {
    "duration": 35,
    "start_time": "2024-04-29T11:28:46.160Z"
   },
   {
    "duration": 5,
    "start_time": "2024-04-29T11:28:46.197Z"
   },
   {
    "duration": 5,
    "start_time": "2024-04-29T11:28:46.203Z"
   },
   {
    "duration": 6,
    "start_time": "2024-04-29T11:28:46.215Z"
   },
   {
    "duration": 785,
    "start_time": "2024-04-29T11:28:46.222Z"
   },
   {
    "duration": 3291,
    "start_time": "2024-04-29T11:28:47.008Z"
   },
   {
    "duration": 15,
    "start_time": "2024-04-29T11:28:50.301Z"
   },
   {
    "duration": 6,
    "start_time": "2024-04-29T11:28:50.317Z"
   },
   {
    "duration": 12,
    "start_time": "2024-04-29T11:28:50.324Z"
   },
   {
    "duration": 11,
    "start_time": "2024-04-29T11:28:50.337Z"
   },
   {
    "duration": 19,
    "start_time": "2024-04-29T11:28:50.350Z"
   },
   {
    "duration": 5,
    "start_time": "2024-04-29T11:28:50.370Z"
   },
   {
    "duration": 5,
    "start_time": "2024-04-29T11:28:50.377Z"
   },
   {
    "duration": 10,
    "start_time": "2024-04-29T11:28:50.383Z"
   },
   {
    "duration": 11,
    "start_time": "2024-04-29T11:28:50.394Z"
   },
   {
    "duration": 12,
    "start_time": "2024-04-29T11:28:50.407Z"
   },
   {
    "duration": 11,
    "start_time": "2024-04-29T11:28:50.420Z"
   },
   {
    "duration": 4,
    "start_time": "2024-04-29T11:28:50.433Z"
   },
   {
    "duration": 18,
    "start_time": "2024-04-29T11:28:50.438Z"
   },
   {
    "duration": 10,
    "start_time": "2024-04-29T11:28:50.458Z"
   },
   {
    "duration": 16,
    "start_time": "2024-04-29T11:28:50.469Z"
   },
   {
    "duration": 7,
    "start_time": "2024-04-29T11:28:50.486Z"
   },
   {
    "duration": 6,
    "start_time": "2024-04-29T11:28:50.494Z"
   },
   {
    "duration": 2660,
    "start_time": "2024-04-29T11:28:50.501Z"
   },
   {
    "duration": 815,
    "start_time": "2024-04-29T11:28:53.163Z"
   },
   {
    "duration": 4,
    "start_time": "2024-04-29T11:28:53.980Z"
   },
   {
    "duration": 31,
    "start_time": "2024-04-29T11:28:53.985Z"
   },
   {
    "duration": 5,
    "start_time": "2024-04-29T11:28:54.018Z"
   },
   {
    "duration": 227,
    "start_time": "2024-04-29T11:28:54.115Z"
   },
   {
    "duration": 0,
    "start_time": "2024-04-29T11:28:54.343Z"
   },
   {
    "duration": 0,
    "start_time": "2024-04-29T11:28:54.345Z"
   },
   {
    "duration": 0,
    "start_time": "2024-04-29T11:28:54.345Z"
   },
   {
    "duration": 0,
    "start_time": "2024-04-29T11:28:54.346Z"
   },
   {
    "duration": 0,
    "start_time": "2024-04-29T11:28:54.348Z"
   },
   {
    "duration": 0,
    "start_time": "2024-04-29T11:28:54.349Z"
   },
   {
    "duration": 0,
    "start_time": "2024-04-29T11:28:54.350Z"
   },
   {
    "duration": 0,
    "start_time": "2024-04-29T11:28:54.351Z"
   },
   {
    "duration": 0,
    "start_time": "2024-04-29T11:28:54.352Z"
   },
   {
    "duration": 0,
    "start_time": "2024-04-29T11:28:54.353Z"
   },
   {
    "duration": 3,
    "start_time": "2024-04-29T11:29:54.946Z"
   },
   {
    "duration": 14,
    "start_time": "2024-04-29T11:30:00.250Z"
   },
   {
    "duration": 3,
    "start_time": "2024-04-29T11:30:02.003Z"
   },
   {
    "duration": 9,
    "start_time": "2024-04-29T11:30:02.850Z"
   },
   {
    "duration": 19,
    "start_time": "2024-04-29T11:30:44.344Z"
   },
   {
    "duration": 657,
    "start_time": "2024-04-29T11:30:50.031Z"
   },
   {
    "duration": 132,
    "start_time": "2024-04-29T11:33:49.591Z"
   },
   {
    "duration": 80,
    "start_time": "2024-04-29T11:33:55.183Z"
   },
   {
    "duration": 4,
    "start_time": "2024-04-29T11:34:03.076Z"
   },
   {
    "duration": 16,
    "start_time": "2024-04-29T11:34:04.695Z"
   },
   {
    "duration": 1846,
    "start_time": "2024-04-29T11:34:36.674Z"
   },
   {
    "duration": 16,
    "start_time": "2024-04-29T11:37:12.111Z"
   },
   {
    "duration": 3,
    "start_time": "2024-04-29T11:37:19.444Z"
   },
   {
    "duration": 4,
    "start_time": "2024-04-29T11:37:21.788Z"
   },
   {
    "duration": 17,
    "start_time": "2024-04-29T11:37:22.279Z"
   },
   {
    "duration": 5314,
    "start_time": "2024-04-29T11:38:30.307Z"
   },
   {
    "duration": 1835,
    "start_time": "2024-04-29T11:38:35.623Z"
   },
   {
    "duration": 87,
    "start_time": "2024-04-29T11:38:37.460Z"
   },
   {
    "duration": 3,
    "start_time": "2024-04-29T11:38:37.549Z"
   },
   {
    "duration": 58,
    "start_time": "2024-04-29T11:38:37.554Z"
   },
   {
    "duration": 4,
    "start_time": "2024-04-29T11:38:37.614Z"
   },
   {
    "duration": 4,
    "start_time": "2024-04-29T11:38:37.619Z"
   },
   {
    "duration": 32,
    "start_time": "2024-04-29T11:38:37.624Z"
   },
   {
    "duration": 3,
    "start_time": "2024-04-29T11:38:37.658Z"
   },
   {
    "duration": 18,
    "start_time": "2024-04-29T11:38:37.663Z"
   },
   {
    "duration": 3,
    "start_time": "2024-04-29T11:38:37.715Z"
   },
   {
    "duration": 5,
    "start_time": "2024-04-29T11:38:37.719Z"
   },
   {
    "duration": 5,
    "start_time": "2024-04-29T11:38:37.725Z"
   },
   {
    "duration": 16,
    "start_time": "2024-04-29T11:38:37.732Z"
   },
   {
    "duration": 8,
    "start_time": "2024-04-29T11:38:37.750Z"
   },
   {
    "duration": 6,
    "start_time": "2024-04-29T11:38:37.760Z"
   },
   {
    "duration": 5913,
    "start_time": "2024-04-29T11:38:37.767Z"
   },
   {
    "duration": 6,
    "start_time": "2024-04-29T11:38:43.682Z"
   },
   {
    "duration": 5,
    "start_time": "2024-04-29T11:38:43.689Z"
   },
   {
    "duration": 88,
    "start_time": "2024-04-29T11:38:43.695Z"
   },
   {
    "duration": 4,
    "start_time": "2024-04-29T11:38:43.785Z"
   },
   {
    "duration": 10,
    "start_time": "2024-04-29T11:38:43.814Z"
   },
   {
    "duration": 7,
    "start_time": "2024-04-29T11:38:43.826Z"
   },
   {
    "duration": 14,
    "start_time": "2024-04-29T11:38:43.834Z"
   },
   {
    "duration": 405,
    "start_time": "2024-04-29T11:38:43.850Z"
   },
   {
    "duration": 5,
    "start_time": "2024-04-29T11:38:44.257Z"
   },
   {
    "duration": 11,
    "start_time": "2024-04-29T11:38:44.263Z"
   },
   {
    "duration": 5,
    "start_time": "2024-04-29T11:38:44.278Z"
   },
   {
    "duration": 167,
    "start_time": "2024-04-29T11:38:44.285Z"
   },
   {
    "duration": 10,
    "start_time": "2024-04-29T11:38:44.454Z"
   },
   {
    "duration": 31,
    "start_time": "2024-04-29T11:38:44.465Z"
   },
   {
    "duration": 8,
    "start_time": "2024-04-29T11:38:44.498Z"
   },
   {
    "duration": 20,
    "start_time": "2024-04-29T11:38:44.507Z"
   },
   {
    "duration": 4,
    "start_time": "2024-04-29T11:38:44.529Z"
   },
   {
    "duration": 3,
    "start_time": "2024-04-29T11:38:44.534Z"
   },
   {
    "duration": 7,
    "start_time": "2024-04-29T11:38:44.538Z"
   },
   {
    "duration": 785,
    "start_time": "2024-04-29T11:38:44.546Z"
   },
   {
    "duration": 2501,
    "start_time": "2024-04-29T11:38:45.333Z"
   },
   {
    "duration": 6,
    "start_time": "2024-04-29T11:38:47.835Z"
   },
   {
    "duration": 12,
    "start_time": "2024-04-29T11:38:47.842Z"
   },
   {
    "duration": 29,
    "start_time": "2024-04-29T11:38:47.856Z"
   },
   {
    "duration": 19,
    "start_time": "2024-04-29T11:38:47.886Z"
   },
   {
    "duration": 37,
    "start_time": "2024-04-29T11:38:47.907Z"
   },
   {
    "duration": 15,
    "start_time": "2024-04-29T11:38:47.945Z"
   },
   {
    "duration": 5,
    "start_time": "2024-04-29T11:38:47.961Z"
   },
   {
    "duration": 25,
    "start_time": "2024-04-29T11:38:47.967Z"
   },
   {
    "duration": 18,
    "start_time": "2024-04-29T11:38:47.994Z"
   },
   {
    "duration": 36,
    "start_time": "2024-04-29T11:38:48.013Z"
   },
   {
    "duration": 30,
    "start_time": "2024-04-29T11:38:48.050Z"
   },
   {
    "duration": 33,
    "start_time": "2024-04-29T11:38:48.081Z"
   },
   {
    "duration": 35,
    "start_time": "2024-04-29T11:38:48.116Z"
   },
   {
    "duration": 77,
    "start_time": "2024-04-29T11:38:48.152Z"
   },
   {
    "duration": 30,
    "start_time": "2024-04-29T11:38:48.230Z"
   },
   {
    "duration": 13,
    "start_time": "2024-04-29T11:38:48.262Z"
   },
   {
    "duration": 17,
    "start_time": "2024-04-29T11:38:48.276Z"
   },
   {
    "duration": 2658,
    "start_time": "2024-04-29T11:38:48.294Z"
   },
   {
    "duration": 807,
    "start_time": "2024-04-29T11:38:50.954Z"
   },
   {
    "duration": 2,
    "start_time": "2024-04-29T11:38:51.763Z"
   },
   {
    "duration": 49,
    "start_time": "2024-04-29T11:38:51.766Z"
   },
   {
    "duration": 4,
    "start_time": "2024-04-29T11:38:51.817Z"
   },
   {
    "duration": 99,
    "start_time": "2024-04-29T11:38:51.823Z"
   },
   {
    "duration": 19,
    "start_time": "2024-04-29T11:38:51.924Z"
   },
   {
    "duration": 1825,
    "start_time": "2024-04-29T11:38:51.944Z"
   },
   {
    "duration": 141,
    "start_time": "2024-04-29T11:38:53.770Z"
   },
   {
    "duration": 0,
    "start_time": "2024-04-29T11:38:53.915Z"
   },
   {
    "duration": 0,
    "start_time": "2024-04-29T11:38:53.916Z"
   },
   {
    "duration": 1,
    "start_time": "2024-04-29T11:38:53.916Z"
   },
   {
    "duration": 0,
    "start_time": "2024-04-29T11:38:53.917Z"
   },
   {
    "duration": 0,
    "start_time": "2024-04-29T11:38:53.918Z"
   },
   {
    "duration": 0,
    "start_time": "2024-04-29T11:38:53.920Z"
   },
   {
    "duration": 0,
    "start_time": "2024-04-29T11:38:53.921Z"
   },
   {
    "duration": 0,
    "start_time": "2024-04-29T11:38:53.921Z"
   },
   {
    "duration": 2132,
    "start_time": "2024-04-29T11:47:04.892Z"
   },
   {
    "duration": 176,
    "start_time": "2024-04-29T11:48:36.923Z"
   },
   {
    "duration": 2016,
    "start_time": "2024-04-29T11:48:53.778Z"
   },
   {
    "duration": 1987,
    "start_time": "2024-04-29T11:49:50.346Z"
   },
   {
    "duration": 2696,
    "start_time": "2024-04-29T12:01:29.381Z"
   },
   {
    "duration": 2745,
    "start_time": "2024-04-29T12:01:40.045Z"
   },
   {
    "duration": 2773,
    "start_time": "2024-04-29T12:02:15.521Z"
   },
   {
    "duration": 11,
    "start_time": "2024-04-29T12:05:11.424Z"
   },
   {
    "duration": 1057,
    "start_time": "2024-04-29T12:12:12.476Z"
   },
   {
    "duration": 672,
    "start_time": "2024-04-29T12:13:30.176Z"
   },
   {
    "duration": 641,
    "start_time": "2024-04-29T12:13:44.635Z"
   },
   {
    "duration": 684,
    "start_time": "2024-04-29T12:15:35.672Z"
   },
   {
    "duration": 2156,
    "start_time": "2024-04-29T12:15:43.416Z"
   },
   {
    "duration": 2029,
    "start_time": "2024-04-29T12:15:55.523Z"
   },
   {
    "duration": 655,
    "start_time": "2024-04-29T12:17:16.875Z"
   },
   {
    "duration": 2106,
    "start_time": "2024-04-29T12:17:26.590Z"
   },
   {
    "duration": 650,
    "start_time": "2024-04-29T12:17:34.308Z"
   },
   {
    "duration": 80,
    "start_time": "2024-04-29T12:19:01.724Z"
   },
   {
    "duration": 1977,
    "start_time": "2024-04-29T12:19:05.732Z"
   },
   {
    "duration": 7,
    "start_time": "2024-04-29T12:34:51.723Z"
   },
   {
    "duration": 1198,
    "start_time": "2024-04-29T12:34:59.335Z"
   },
   {
    "duration": 1147,
    "start_time": "2024-04-29T12:36:02.494Z"
   },
   {
    "duration": 12,
    "start_time": "2024-04-29T12:50:18.517Z"
   },
   {
    "duration": 1250,
    "start_time": "2024-04-29T12:50:28.696Z"
   },
   {
    "duration": 18,
    "start_time": "2024-04-29T12:50:58.765Z"
   },
   {
    "duration": 4718,
    "start_time": "2024-04-29T12:51:23.275Z"
   },
   {
    "duration": 1837,
    "start_time": "2024-04-29T12:51:27.995Z"
   },
   {
    "duration": 86,
    "start_time": "2024-04-29T12:51:29.834Z"
   },
   {
    "duration": 5,
    "start_time": "2024-04-29T12:51:29.922Z"
   },
   {
    "duration": 60,
    "start_time": "2024-04-29T12:51:29.928Z"
   },
   {
    "duration": 5,
    "start_time": "2024-04-29T12:51:30.014Z"
   },
   {
    "duration": 12,
    "start_time": "2024-04-29T12:51:30.021Z"
   },
   {
    "duration": 59,
    "start_time": "2024-04-29T12:51:30.035Z"
   },
   {
    "duration": 3,
    "start_time": "2024-04-29T12:51:30.095Z"
   },
   {
    "duration": 48,
    "start_time": "2024-04-29T12:51:30.101Z"
   },
   {
    "duration": 22,
    "start_time": "2024-04-29T12:51:30.150Z"
   },
   {
    "duration": 29,
    "start_time": "2024-04-29T12:51:30.173Z"
   },
   {
    "duration": 24,
    "start_time": "2024-04-29T12:51:30.204Z"
   },
   {
    "duration": 50,
    "start_time": "2024-04-29T12:51:30.229Z"
   },
   {
    "duration": 46,
    "start_time": "2024-04-29T12:51:30.281Z"
   },
   {
    "duration": 50,
    "start_time": "2024-04-29T12:51:30.329Z"
   },
   {
    "duration": 6436,
    "start_time": "2024-04-29T12:51:30.381Z"
   },
   {
    "duration": 7,
    "start_time": "2024-04-29T12:51:36.818Z"
   },
   {
    "duration": 18,
    "start_time": "2024-04-29T12:51:36.826Z"
   },
   {
    "duration": 177,
    "start_time": "2024-04-29T12:51:36.845Z"
   },
   {
    "duration": 4,
    "start_time": "2024-04-29T12:51:37.024Z"
   },
   {
    "duration": 11,
    "start_time": "2024-04-29T12:51:37.029Z"
   },
   {
    "duration": 13,
    "start_time": "2024-04-29T12:51:37.042Z"
   },
   {
    "duration": 65,
    "start_time": "2024-04-29T12:51:37.057Z"
   },
   {
    "duration": 504,
    "start_time": "2024-04-29T12:51:37.124Z"
   },
   {
    "duration": 6,
    "start_time": "2024-04-29T12:51:37.629Z"
   },
   {
    "duration": 19,
    "start_time": "2024-04-29T12:51:37.636Z"
   },
   {
    "duration": 58,
    "start_time": "2024-04-29T12:51:37.658Z"
   },
   {
    "duration": 306,
    "start_time": "2024-04-29T12:51:37.717Z"
   },
   {
    "duration": 10,
    "start_time": "2024-04-29T12:51:38.025Z"
   },
   {
    "duration": 19,
    "start_time": "2024-04-29T12:51:38.036Z"
   },
   {
    "duration": 7,
    "start_time": "2024-04-29T12:51:38.057Z"
   },
   {
    "duration": 22,
    "start_time": "2024-04-29T12:51:38.116Z"
   },
   {
    "duration": 4,
    "start_time": "2024-04-29T12:51:38.140Z"
   },
   {
    "duration": 23,
    "start_time": "2024-04-29T12:51:38.145Z"
   },
   {
    "duration": 46,
    "start_time": "2024-04-29T12:51:38.169Z"
   },
   {
    "duration": 1053,
    "start_time": "2024-04-29T12:51:38.217Z"
   },
   {
    "duration": 2450,
    "start_time": "2024-04-29T12:51:39.272Z"
   },
   {
    "duration": 4,
    "start_time": "2024-04-29T12:51:41.724Z"
   },
   {
    "duration": 20,
    "start_time": "2024-04-29T12:51:41.729Z"
   },
   {
    "duration": 5,
    "start_time": "2024-04-29T12:51:41.750Z"
   },
   {
    "duration": 17,
    "start_time": "2024-04-29T12:51:41.757Z"
   },
   {
    "duration": 17,
    "start_time": "2024-04-29T12:51:41.776Z"
   },
   {
    "duration": 14,
    "start_time": "2024-04-29T12:51:41.795Z"
   },
   {
    "duration": 3,
    "start_time": "2024-04-29T12:51:41.811Z"
   },
   {
    "duration": 8,
    "start_time": "2024-04-29T12:51:41.816Z"
   },
   {
    "duration": 14,
    "start_time": "2024-04-29T12:51:41.825Z"
   },
   {
    "duration": 11,
    "start_time": "2024-04-29T12:51:41.841Z"
   },
   {
    "duration": 19,
    "start_time": "2024-04-29T12:51:41.854Z"
   },
   {
    "duration": 4,
    "start_time": "2024-04-29T12:51:41.874Z"
   },
   {
    "duration": 4,
    "start_time": "2024-04-29T12:51:41.879Z"
   },
   {
    "duration": 17,
    "start_time": "2024-04-29T12:51:41.884Z"
   },
   {
    "duration": 14,
    "start_time": "2024-04-29T12:51:41.902Z"
   },
   {
    "duration": 7,
    "start_time": "2024-04-29T12:51:41.917Z"
   },
   {
    "duration": 6,
    "start_time": "2024-04-29T12:51:41.925Z"
   },
   {
    "duration": 2727,
    "start_time": "2024-04-29T12:51:41.932Z"
   },
   {
    "duration": 840,
    "start_time": "2024-04-29T12:51:44.661Z"
   },
   {
    "duration": 3,
    "start_time": "2024-04-29T12:51:45.502Z"
   },
   {
    "duration": 20,
    "start_time": "2024-04-29T12:51:45.514Z"
   },
   {
    "duration": 82,
    "start_time": "2024-04-29T12:51:45.536Z"
   },
   {
    "duration": 107,
    "start_time": "2024-04-29T12:51:45.622Z"
   },
   {
    "duration": 22,
    "start_time": "2024-04-29T12:51:45.731Z"
   },
   {
    "duration": 2305,
    "start_time": "2024-04-29T12:51:45.755Z"
   },
   {
    "duration": 16,
    "start_time": "2024-04-29T12:51:48.062Z"
   },
   {
    "duration": 167,
    "start_time": "2024-04-29T12:51:48.080Z"
   },
   {
    "duration": 0,
    "start_time": "2024-04-29T12:51:48.249Z"
   },
   {
    "duration": 0,
    "start_time": "2024-04-29T12:51:48.250Z"
   },
   {
    "duration": 0,
    "start_time": "2024-04-29T12:51:48.251Z"
   },
   {
    "duration": 0,
    "start_time": "2024-04-29T12:51:48.252Z"
   },
   {
    "duration": 0,
    "start_time": "2024-04-29T12:51:48.253Z"
   },
   {
    "duration": 0,
    "start_time": "2024-04-29T12:51:48.254Z"
   },
   {
    "duration": 0,
    "start_time": "2024-04-29T12:51:48.255Z"
   },
   {
    "duration": 0,
    "start_time": "2024-04-29T12:51:48.256Z"
   },
   {
    "duration": 14,
    "start_time": "2024-04-29T12:52:20.105Z"
   },
   {
    "duration": 5,
    "start_time": "2024-04-29T12:52:53.530Z"
   },
   {
    "duration": 13,
    "start_time": "2024-04-29T12:52:57.769Z"
   },
   {
    "duration": 108,
    "start_time": "2024-04-29T12:53:02.233Z"
   },
   {
    "duration": 249,
    "start_time": "2024-04-29T12:53:08.022Z"
   },
   {
    "duration": 5,
    "start_time": "2024-04-29T12:53:19.198Z"
   },
   {
    "duration": 11,
    "start_time": "2024-04-29T12:53:27.094Z"
   },
   {
    "duration": 98,
    "start_time": "2024-04-29T12:53:54.563Z"
   },
   {
    "duration": 7,
    "start_time": "2024-04-29T12:55:20.370Z"
   },
   {
    "duration": 100,
    "start_time": "2024-04-29T12:55:31.854Z"
   },
   {
    "duration": 398,
    "start_time": "2024-04-29T12:57:17.688Z"
   },
   {
    "duration": 4743,
    "start_time": "2024-04-29T12:57:47.876Z"
   },
   {
    "duration": 1765,
    "start_time": "2024-04-29T12:57:52.621Z"
   },
   {
    "duration": 88,
    "start_time": "2024-04-29T12:57:54.387Z"
   },
   {
    "duration": 4,
    "start_time": "2024-04-29T12:57:54.477Z"
   },
   {
    "duration": 73,
    "start_time": "2024-04-29T12:57:54.482Z"
   },
   {
    "duration": 5,
    "start_time": "2024-04-29T12:57:54.557Z"
   },
   {
    "duration": 6,
    "start_time": "2024-04-29T12:57:54.564Z"
   },
   {
    "duration": 59,
    "start_time": "2024-04-29T12:57:54.572Z"
   },
   {
    "duration": 4,
    "start_time": "2024-04-29T12:57:54.632Z"
   },
   {
    "duration": 14,
    "start_time": "2024-04-29T12:57:54.638Z"
   },
   {
    "duration": 3,
    "start_time": "2024-04-29T12:57:54.653Z"
   },
   {
    "duration": 5,
    "start_time": "2024-04-29T12:57:54.658Z"
   },
   {
    "duration": 7,
    "start_time": "2024-04-29T12:57:54.664Z"
   },
   {
    "duration": 47,
    "start_time": "2024-04-29T12:57:54.673Z"
   },
   {
    "duration": 8,
    "start_time": "2024-04-29T12:57:54.722Z"
   },
   {
    "duration": 13,
    "start_time": "2024-04-29T12:57:54.732Z"
   },
   {
    "duration": 6625,
    "start_time": "2024-04-29T12:57:54.746Z"
   },
   {
    "duration": 6,
    "start_time": "2024-04-29T12:58:01.372Z"
   },
   {
    "duration": 28,
    "start_time": "2024-04-29T12:58:01.380Z"
   },
   {
    "duration": 108,
    "start_time": "2024-04-29T12:58:01.409Z"
   },
   {
    "duration": 4,
    "start_time": "2024-04-29T12:58:01.518Z"
   },
   {
    "duration": 35,
    "start_time": "2024-04-29T12:58:01.523Z"
   },
   {
    "duration": 41,
    "start_time": "2024-04-29T12:58:01.560Z"
   },
   {
    "duration": 53,
    "start_time": "2024-04-29T12:58:01.602Z"
   },
   {
    "duration": 418,
    "start_time": "2024-04-29T12:58:01.656Z"
   },
   {
    "duration": 7,
    "start_time": "2024-04-29T12:58:02.076Z"
   },
   {
    "duration": 17,
    "start_time": "2024-04-29T12:58:02.085Z"
   },
   {
    "duration": 8,
    "start_time": "2024-04-29T12:58:02.114Z"
   },
   {
    "duration": 156,
    "start_time": "2024-04-29T12:58:02.123Z"
   },
   {
    "duration": 9,
    "start_time": "2024-04-29T12:58:02.280Z"
   },
   {
    "duration": 23,
    "start_time": "2024-04-29T12:58:02.291Z"
   },
   {
    "duration": 7,
    "start_time": "2024-04-29T12:58:02.316Z"
   },
   {
    "duration": 31,
    "start_time": "2024-04-29T12:58:02.324Z"
   },
   {
    "duration": 5,
    "start_time": "2024-04-29T12:58:02.356Z"
   },
   {
    "duration": 20,
    "start_time": "2024-04-29T12:58:02.363Z"
   },
   {
    "duration": 14,
    "start_time": "2024-04-29T12:58:02.385Z"
   },
   {
    "duration": 775,
    "start_time": "2024-04-29T12:58:02.401Z"
   },
   {
    "duration": 2453,
    "start_time": "2024-04-29T12:58:03.178Z"
   },
   {
    "duration": 4,
    "start_time": "2024-04-29T12:58:05.633Z"
   },
   {
    "duration": 13,
    "start_time": "2024-04-29T12:58:05.639Z"
   },
   {
    "duration": 15,
    "start_time": "2024-04-29T12:58:05.653Z"
   },
   {
    "duration": 29,
    "start_time": "2024-04-29T12:58:05.670Z"
   },
   {
    "duration": 14,
    "start_time": "2024-04-29T12:58:05.701Z"
   },
   {
    "duration": 11,
    "start_time": "2024-04-29T12:58:05.716Z"
   },
   {
    "duration": 7,
    "start_time": "2024-04-29T12:58:05.728Z"
   },
   {
    "duration": 13,
    "start_time": "2024-04-29T12:58:05.737Z"
   },
   {
    "duration": 12,
    "start_time": "2024-04-29T12:58:05.751Z"
   },
   {
    "duration": 26,
    "start_time": "2024-04-29T12:58:05.765Z"
   },
   {
    "duration": 20,
    "start_time": "2024-04-29T12:58:05.792Z"
   },
   {
    "duration": 31,
    "start_time": "2024-04-29T12:58:05.814Z"
   },
   {
    "duration": 70,
    "start_time": "2024-04-29T12:58:05.847Z"
   },
   {
    "duration": 29,
    "start_time": "2024-04-29T12:58:05.918Z"
   },
   {
    "duration": 18,
    "start_time": "2024-04-29T12:58:05.949Z"
   },
   {
    "duration": 16,
    "start_time": "2024-04-29T12:58:05.969Z"
   },
   {
    "duration": 8,
    "start_time": "2024-04-29T12:58:05.986Z"
   },
   {
    "duration": 3377,
    "start_time": "2024-04-29T12:58:05.996Z"
   },
   {
    "duration": 868,
    "start_time": "2024-04-29T12:58:09.374Z"
   },
   {
    "duration": 3,
    "start_time": "2024-04-29T12:58:10.244Z"
   },
   {
    "duration": 17,
    "start_time": "2024-04-29T12:58:10.248Z"
   },
   {
    "duration": 5,
    "start_time": "2024-04-29T12:58:10.314Z"
   },
   {
    "duration": 99,
    "start_time": "2024-04-29T12:58:10.321Z"
   },
   {
    "duration": 21,
    "start_time": "2024-04-29T12:58:10.421Z"
   },
   {
    "duration": 1985,
    "start_time": "2024-04-29T12:58:10.444Z"
   },
   {
    "duration": 18,
    "start_time": "2024-04-29T12:58:12.430Z"
   },
   {
    "duration": 8,
    "start_time": "2024-04-29T12:58:12.450Z"
   },
   {
    "duration": 132,
    "start_time": "2024-04-29T12:58:12.459Z"
   },
   {
    "duration": 137,
    "start_time": "2024-04-29T12:58:12.592Z"
   },
   {
    "duration": 0,
    "start_time": "2024-04-29T12:58:12.730Z"
   },
   {
    "duration": 0,
    "start_time": "2024-04-29T12:58:12.731Z"
   },
   {
    "duration": 0,
    "start_time": "2024-04-29T12:58:12.732Z"
   },
   {
    "duration": 0,
    "start_time": "2024-04-29T12:58:12.733Z"
   },
   {
    "duration": 0,
    "start_time": "2024-04-29T12:58:12.734Z"
   },
   {
    "duration": 0,
    "start_time": "2024-04-29T12:58:12.735Z"
   },
   {
    "duration": 0,
    "start_time": "2024-04-29T12:58:12.736Z"
   },
   {
    "duration": 25,
    "start_time": "2024-04-29T12:58:34.747Z"
   },
   {
    "duration": 6,
    "start_time": "2024-04-29T12:59:07.144Z"
   },
   {
    "duration": 10,
    "start_time": "2024-04-29T12:59:09.070Z"
   },
   {
    "duration": 34,
    "start_time": "2024-04-29T12:59:18.739Z"
   },
   {
    "duration": 5,
    "start_time": "2024-04-29T12:59:53.956Z"
   },
   {
    "duration": 255,
    "start_time": "2024-04-29T13:00:07.137Z"
   },
   {
    "duration": 8,
    "start_time": "2024-04-29T13:00:14.901Z"
   },
   {
    "duration": 145,
    "start_time": "2024-04-29T13:00:15.547Z"
   },
   {
    "duration": 9,
    "start_time": "2024-04-29T13:00:20.073Z"
   },
   {
    "duration": 6,
    "start_time": "2024-04-29T13:00:23.836Z"
   },
   {
    "duration": 168,
    "start_time": "2024-04-29T13:00:38.768Z"
   },
   {
    "duration": 196,
    "start_time": "2024-04-29T13:05:13.110Z"
   },
   {
    "duration": 520,
    "start_time": "2024-04-29T13:06:42.254Z"
   },
   {
    "duration": 534,
    "start_time": "2024-04-29T13:07:47.740Z"
   },
   {
    "duration": 537,
    "start_time": "2024-04-29T13:08:04.647Z"
   },
   {
    "duration": 3,
    "start_time": "2024-04-29T13:09:51.439Z"
   },
   {
    "duration": 2,
    "start_time": "2024-04-29T13:09:51.752Z"
   },
   {
    "duration": 1188,
    "start_time": "2024-04-29T13:10:57.029Z"
   },
   {
    "duration": 518,
    "start_time": "2024-04-29T13:13:26.072Z"
   },
   {
    "duration": 455,
    "start_time": "2024-04-29T13:14:12.982Z"
   },
   {
    "duration": 1645,
    "start_time": "2024-04-29T13:15:35.427Z"
   },
   {
    "duration": 1467,
    "start_time": "2024-04-29T13:19:21.793Z"
   },
   {
    "duration": 1496,
    "start_time": "2024-04-29T13:20:00.213Z"
   },
   {
    "duration": 14,
    "start_time": "2024-04-29T13:22:48.017Z"
   },
   {
    "duration": 16,
    "start_time": "2024-04-29T13:23:32.839Z"
   },
   {
    "duration": 14,
    "start_time": "2024-04-29T13:23:43.673Z"
   },
   {
    "duration": 16,
    "start_time": "2024-04-29T13:23:51.210Z"
   },
   {
    "duration": 13,
    "start_time": "2024-04-29T13:24:11.246Z"
   },
   {
    "duration": 14,
    "start_time": "2024-04-29T13:24:19.793Z"
   },
   {
    "duration": 17,
    "start_time": "2024-04-29T13:24:25.820Z"
   },
   {
    "duration": 1300,
    "start_time": "2024-04-29T13:24:39.095Z"
   },
   {
    "duration": 1103,
    "start_time": "2024-04-29T13:26:10.218Z"
   },
   {
    "duration": 1175,
    "start_time": "2024-04-29T13:27:58.608Z"
   },
   {
    "duration": 1150,
    "start_time": "2024-04-29T13:28:55.152Z"
   },
   {
    "duration": 1335,
    "start_time": "2024-04-29T13:37:01.354Z"
   },
   {
    "duration": 1155,
    "start_time": "2024-04-29T13:37:17.300Z"
   },
   {
    "duration": 5,
    "start_time": "2024-04-29T13:42:15.292Z"
   },
   {
    "duration": 5,
    "start_time": "2024-04-29T13:42:21.196Z"
   },
   {
    "duration": 71,
    "start_time": "2024-04-29T13:44:20.322Z"
   },
   {
    "duration": 5,
    "start_time": "2024-04-29T13:44:37.596Z"
   },
   {
    "duration": 16,
    "start_time": "2024-04-29T13:46:36.061Z"
   },
   {
    "duration": 4,
    "start_time": "2024-04-29T13:48:36.270Z"
   },
   {
    "duration": 4,
    "start_time": "2024-04-29T13:49:16.296Z"
   },
   {
    "duration": 5322,
    "start_time": "2024-04-30T07:42:09.169Z"
   },
   {
    "duration": 2228,
    "start_time": "2024-04-30T07:42:14.493Z"
   },
   {
    "duration": 350,
    "start_time": "2024-04-30T07:42:16.723Z"
   },
   {
    "duration": 4,
    "start_time": "2024-04-30T07:42:17.075Z"
   },
   {
    "duration": 79,
    "start_time": "2024-04-30T07:42:17.081Z"
   },
   {
    "duration": 5,
    "start_time": "2024-04-30T07:42:17.162Z"
   },
   {
    "duration": 24,
    "start_time": "2024-04-30T07:42:17.169Z"
   },
   {
    "duration": 59,
    "start_time": "2024-04-30T07:42:17.195Z"
   },
   {
    "duration": 4,
    "start_time": "2024-04-30T07:42:17.256Z"
   },
   {
    "duration": 37,
    "start_time": "2024-04-30T07:42:17.263Z"
   },
   {
    "duration": 4,
    "start_time": "2024-04-30T07:42:17.302Z"
   },
   {
    "duration": 10,
    "start_time": "2024-04-30T07:42:17.308Z"
   },
   {
    "duration": 11,
    "start_time": "2024-04-30T07:42:17.319Z"
   },
   {
    "duration": 21,
    "start_time": "2024-04-30T07:42:17.332Z"
   },
   {
    "duration": 11,
    "start_time": "2024-04-30T07:42:17.355Z"
   },
   {
    "duration": 15,
    "start_time": "2024-04-30T07:42:17.367Z"
   },
   {
    "duration": 6712,
    "start_time": "2024-04-30T07:42:17.392Z"
   },
   {
    "duration": 19,
    "start_time": "2024-04-30T07:42:24.105Z"
   },
   {
    "duration": 22,
    "start_time": "2024-04-30T07:42:24.126Z"
   },
   {
    "duration": 115,
    "start_time": "2024-04-30T07:42:24.150Z"
   },
   {
    "duration": 5,
    "start_time": "2024-04-30T07:42:24.268Z"
   },
   {
    "duration": 25,
    "start_time": "2024-04-30T07:42:24.291Z"
   },
   {
    "duration": 19,
    "start_time": "2024-04-30T07:42:24.318Z"
   },
   {
    "duration": 38,
    "start_time": "2024-04-30T07:42:24.342Z"
   },
   {
    "duration": 396,
    "start_time": "2024-04-30T07:42:24.382Z"
   },
   {
    "duration": 6,
    "start_time": "2024-04-30T07:42:24.780Z"
   },
   {
    "duration": 16,
    "start_time": "2024-04-30T07:42:24.791Z"
   },
   {
    "duration": 8,
    "start_time": "2024-04-30T07:42:24.812Z"
   },
   {
    "duration": 16,
    "start_time": "2024-04-30T07:42:24.822Z"
   },
   {
    "duration": 25,
    "start_time": "2024-04-30T07:42:24.840Z"
   },
   {
    "duration": 39,
    "start_time": "2024-04-30T07:42:24.867Z"
   },
   {
    "duration": 8,
    "start_time": "2024-04-30T07:42:24.908Z"
   },
   {
    "duration": 169,
    "start_time": "2024-04-30T07:42:24.918Z"
   },
   {
    "duration": 5,
    "start_time": "2024-04-30T07:42:25.090Z"
   },
   {
    "duration": 32,
    "start_time": "2024-04-30T07:42:25.097Z"
   },
   {
    "duration": 4,
    "start_time": "2024-04-30T07:42:52.242Z"
   },
   {
    "duration": 55,
    "start_time": "2024-05-13T11:04:06.624Z"
   },
   {
    "duration": 10,
    "start_time": "2024-05-14T09:14:59.349Z"
   },
   {
    "duration": 8349,
    "start_time": "2024-05-14T09:15:06.801Z"
   },
   {
    "duration": 2336,
    "start_time": "2024-05-14T09:15:15.152Z"
   },
   {
    "duration": 262,
    "start_time": "2024-05-14T09:15:17.490Z"
   },
   {
    "duration": 4,
    "start_time": "2024-05-14T09:15:17.754Z"
   },
   {
    "duration": 75,
    "start_time": "2024-05-14T09:15:17.760Z"
   },
   {
    "duration": 4,
    "start_time": "2024-05-14T09:15:17.837Z"
   },
   {
    "duration": 10,
    "start_time": "2024-05-14T09:15:17.843Z"
   },
   {
    "duration": 68,
    "start_time": "2024-05-14T09:15:17.855Z"
   },
   {
    "duration": 5,
    "start_time": "2024-05-14T09:15:17.925Z"
   },
   {
    "duration": 52,
    "start_time": "2024-05-14T09:15:17.933Z"
   },
   {
    "duration": 5,
    "start_time": "2024-05-14T09:15:17.987Z"
   },
   {
    "duration": 4,
    "start_time": "2024-05-14T09:15:17.994Z"
   },
   {
    "duration": 5,
    "start_time": "2024-05-14T09:15:18.000Z"
   },
   {
    "duration": 24,
    "start_time": "2024-05-14T09:15:18.007Z"
   },
   {
    "duration": 13,
    "start_time": "2024-05-14T09:15:18.033Z"
   },
   {
    "duration": 39,
    "start_time": "2024-05-14T09:15:18.048Z"
   },
   {
    "duration": 6752,
    "start_time": "2024-05-14T09:15:18.088Z"
   },
   {
    "duration": 6,
    "start_time": "2024-05-14T09:15:24.842Z"
   },
   {
    "duration": 5,
    "start_time": "2024-05-14T09:15:24.850Z"
   },
   {
    "duration": 93,
    "start_time": "2024-05-14T09:15:24.856Z"
   },
   {
    "duration": 4,
    "start_time": "2024-05-14T09:15:24.950Z"
   },
   {
    "duration": 34,
    "start_time": "2024-05-14T09:15:24.956Z"
   },
   {
    "duration": 5,
    "start_time": "2024-05-14T09:15:24.992Z"
   },
   {
    "duration": 16,
    "start_time": "2024-05-14T09:15:24.999Z"
   },
   {
    "duration": 445,
    "start_time": "2024-05-14T09:15:25.017Z"
   },
   {
    "duration": 6,
    "start_time": "2024-05-14T09:15:25.464Z"
   },
   {
    "duration": 17,
    "start_time": "2024-05-14T09:15:25.472Z"
   },
   {
    "duration": 6,
    "start_time": "2024-05-14T09:15:25.493Z"
   },
   {
    "duration": 187,
    "start_time": "2024-05-14T09:15:25.501Z"
   },
   {
    "duration": 11,
    "start_time": "2024-05-14T09:15:25.690Z"
   },
   {
    "duration": 15,
    "start_time": "2024-05-14T09:15:25.702Z"
   },
   {
    "duration": 11,
    "start_time": "2024-05-14T09:15:25.719Z"
   },
   {
    "duration": 23,
    "start_time": "2024-05-14T09:15:25.782Z"
   },
   {
    "duration": 4,
    "start_time": "2024-05-14T09:15:25.806Z"
   },
   {
    "duration": 23,
    "start_time": "2024-05-14T09:15:25.812Z"
   },
   {
    "duration": 6,
    "start_time": "2024-05-14T09:15:25.837Z"
   },
   {
    "duration": 28,
    "start_time": "2024-05-14T09:15:25.845Z"
   },
   {
    "duration": 1245,
    "start_time": "2024-05-14T09:15:25.875Z"
   },
   {
    "duration": 2853,
    "start_time": "2024-05-14T09:15:27.121Z"
   },
   {
    "duration": 6,
    "start_time": "2024-05-14T09:15:29.982Z"
   },
   {
    "duration": 8,
    "start_time": "2024-05-14T09:15:29.990Z"
   },
   {
    "duration": 19,
    "start_time": "2024-05-14T09:15:30.000Z"
   },
   {
    "duration": 29,
    "start_time": "2024-05-14T09:15:30.020Z"
   },
   {
    "duration": 43,
    "start_time": "2024-05-14T09:15:30.051Z"
   },
   {
    "duration": 42,
    "start_time": "2024-05-14T09:15:30.096Z"
   },
   {
    "duration": 31,
    "start_time": "2024-05-14T09:15:30.140Z"
   },
   {
    "duration": 23,
    "start_time": "2024-05-14T09:15:30.173Z"
   },
   {
    "duration": 40,
    "start_time": "2024-05-14T09:15:30.197Z"
   },
   {
    "duration": 71,
    "start_time": "2024-05-14T09:15:30.238Z"
   },
   {
    "duration": 41,
    "start_time": "2024-05-14T09:15:30.310Z"
   },
   {
    "duration": 72,
    "start_time": "2024-05-14T09:15:30.353Z"
   },
   {
    "duration": 65,
    "start_time": "2024-05-14T09:15:30.428Z"
   },
   {
    "duration": 75,
    "start_time": "2024-05-14T09:15:30.495Z"
   },
   {
    "duration": 56,
    "start_time": "2024-05-14T09:15:30.572Z"
   },
   {
    "duration": 118,
    "start_time": "2024-05-14T09:15:30.630Z"
   },
   {
    "duration": 61,
    "start_time": "2024-05-14T09:15:30.750Z"
   },
   {
    "duration": 3083,
    "start_time": "2024-05-14T09:15:30.812Z"
   },
   {
    "duration": 1007,
    "start_time": "2024-05-14T09:15:33.897Z"
   },
   {
    "duration": 4,
    "start_time": "2024-05-14T09:15:34.905Z"
   },
   {
    "duration": 39,
    "start_time": "2024-05-14T09:15:34.911Z"
   },
   {
    "duration": 245,
    "start_time": "2024-05-14T09:15:34.984Z"
   },
   {
    "duration": 0,
    "start_time": "2024-05-14T09:15:35.230Z"
   },
   {
    "duration": 0,
    "start_time": "2024-05-14T09:15:35.232Z"
   },
   {
    "duration": 0,
    "start_time": "2024-05-14T09:15:35.233Z"
   },
   {
    "duration": 0,
    "start_time": "2024-05-14T09:15:35.234Z"
   },
   {
    "duration": 0,
    "start_time": "2024-05-14T09:15:35.235Z"
   },
   {
    "duration": 0,
    "start_time": "2024-05-14T09:15:35.236Z"
   },
   {
    "duration": 0,
    "start_time": "2024-05-14T09:15:35.237Z"
   },
   {
    "duration": 5364,
    "start_time": "2024-05-14T09:20:40.261Z"
   }
  ],
  "colab": {
   "provenance": []
  },
  "kernelspec": {
   "display_name": "Python 3 (ipykernel)",
   "language": "python",
   "name": "python3"
  },
  "language_info": {
   "codemirror_mode": {
    "name": "ipython",
    "version": 3
   },
   "file_extension": ".py",
   "mimetype": "text/x-python",
   "name": "python",
   "nbconvert_exporter": "python",
   "pygments_lexer": "ipython3",
   "version": "3.9.19"
  },
  "latex_envs": {
   "LaTeX_envs_menu_present": true,
   "autoclose": true,
   "autocomplete": true,
   "bibliofile": "biblio.bib",
   "cite_by": "apalike",
   "current_citInitial": 1,
   "eqLabelWithNumbers": true,
   "eqNumInitial": 1,
   "hotkeys": {
    "equation": "Ctrl-E",
    "itemize": "Ctrl-I"
   },
   "labels_anchors": false,
   "latex_user_defs": false,
   "report_style_numbering": false,
   "user_envs_cfg": false
  },
  "toc": {
   "base_numbering": 1,
   "nav_menu": {},
   "number_sections": true,
   "sideBar": true,
   "skip_h1_title": true,
   "title_cell": "План работы",
   "title_sidebar": "План работы",
   "toc_cell": true,
   "toc_position": {
    "height": "calc(100% - 180px)",
    "left": "10px",
    "top": "150px",
    "width": "244.59375px"
   },
   "toc_section_display": true,
   "toc_window_display": true
  }
 },
 "nbformat": 4,
 "nbformat_minor": 1
}
