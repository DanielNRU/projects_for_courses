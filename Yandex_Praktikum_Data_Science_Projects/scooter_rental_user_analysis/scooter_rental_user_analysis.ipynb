{
 "cells": [
  {
   "cell_type": "markdown",
   "id": "e10665ac",
   "metadata": {},
   "source": [
    " # Анализ пользователей сервиса аренды самокатов"
   ]
  },
  {
   "cell_type": "markdown",
   "id": "70c887ab",
   "metadata": {},
   "source": [
    "Нам передали данные о некоторых пользователях популярного сервиса аренды самокатов из нескольких городов, а также об их поездках. Проанализируем данные и проверим некоторые гипотезы, которые могут помочь бизнесу вырасти.\n",
    "Чтобы совершать поездки по городу, пользователи сервиса GoFast используют мобильное приложение. \n",
    "\n",
    "Сервисом можно пользоваться:\n",
    "\n",
    "* без подписки:\n",
    " * абонентская плата отсутствует;\n",
    " * стоимость одной минуты поездки — 8 рублей;\n",
    " * стоимость старта (начала поездки) — 50 рублей;\n",
    " \n",
    " \n",
    "* с подпиской Ultra:\n",
    " * абонентская плата — 199 рублей в месяц;\n",
    " * стоимость одной минуты поездки — 6 рублей;\n",
    " * стоимость старта — бесплатно.\n"
   ]
  },
  {
   "cell_type": "markdown",
   "id": "df090295",
   "metadata": {},
   "source": [
    "**Описание данных**\n",
    "\n",
    "В основных данных есть информация о пользователях, их поездках и подписках."
   ]
  },
  {
   "cell_type": "markdown",
   "id": "221bd4ea",
   "metadata": {},
   "source": [
    "Пользователи — `users_go.csv`\n",
    "* **user_id**\t-\tуникальный идентификатор пользователя\n",
    "* **name**\t-\tимя пользователя\n",
    "* **age**\t-\tвозраст\n",
    "* **city**\t-\tгород\n",
    "* **subscription_type** -\tтип подписки (free, ultra)"
   ]
  },
  {
   "cell_type": "markdown",
   "id": "523e9f5f",
   "metadata": {},
   "source": [
    "Поездки — `rides_go.csv`\n",
    "* **user_id** -\tуникальный идентификатор пользователя\n",
    "* **distance** -\tрасстояние, которое пользователь проехал в текущей сессии (в метрах)\n",
    "* **duration** -\tпродолжительность сессии (в минутах) — время с того момента, как пользователь нажал кнопку «Начать поездку» до момента, как он нажал кнопку «Завершить поездку»\n",
    "* **date** -\tдата совершения поездки\n"
   ]
  },
  {
   "cell_type": "markdown",
   "id": "84c2e61b",
   "metadata": {},
   "source": [
    "Подписки — `subscriptions_go.csv`\n",
    "* **subscription_type** -\tтип подписки\n",
    "* **minute_price** -\tстоимость одной минуты поездки по данной подписке\n",
    "* **start_ride_price** -\tстоимость начала поездки\n",
    "* **subscription_fee** -\tстоимость ежемесячного платежа"
   ]
  },
  {
   "cell_type": "markdown",
   "id": "ad87afeb",
   "metadata": {
    "toc": true
   },
   "source": [
    "<h1>План работы<span class=\"tocSkip\"></span></h1>\n",
    "<div class=\"toc\"><ul class=\"toc-item\"><li><span><a href=\"#Откроем-файл-с-данными-и-изучим-общую-информацию\" data-toc-modified-id=\"Откроем-файл-с-данными-и-изучим-общую-информацию-1\"><span class=\"toc-item-num\">1&nbsp;&nbsp;</span>Откроем файл с данными и изучим общую информацию</a></span><ul class=\"toc-item\"><li><span><a href=\"#Считаем-CSV-файлы-с-данными-с-помощью-библиотеки-pandas-и-сохраним-их-в-датафреймы\" data-toc-modified-id=\"Считаем-CSV-файлы-с-данными-с-помощью-библиотеки-pandas-и-сохраним-их-в-датафреймы-1.1\"><span class=\"toc-item-num\">1.1&nbsp;&nbsp;</span>Считаем CSV-файлы с данными с помощью библиотеки pandas и сохраним их в датафреймы</a></span></li><li><span><a href=\"#Выведим-первые-строки-каждого-набора-данных.-Изучим-общую-информацию-о-каждом-датафрейме.\" data-toc-modified-id=\"Выведим-первые-строки-каждого-набора-данных.-Изучим-общую-информацию-о-каждом-датафрейме.-1.2\"><span class=\"toc-item-num\">1.2&nbsp;&nbsp;</span>Выведим первые строки каждого набора данных. Изучим общую информацию о каждом датафрейме.</a></span></li></ul></li><li><span><a href=\"#Выполним-предобработку-данных\" data-toc-modified-id=\"Выполним-предобработку-данных-2\"><span class=\"toc-item-num\">2&nbsp;&nbsp;</span>Выполним предобработку данных</a></span><ul class=\"toc-item\"><li><span><a href=\"#Проверим-за-какой-период-у-нас-данные.\" data-toc-modified-id=\"Проверим-за-какой-период-у-нас-данные.-2.1\"><span class=\"toc-item-num\">2.1&nbsp;&nbsp;</span>Проверим за какой период у нас данные.</a></span></li><li><span><a href=\"#Создадим-новый-столбец-с-номером-месяца-на-основе-столбца-date\" data-toc-modified-id=\"Создадим-новый-столбец-с-номером-месяца-на-основе-столбца-date-2.2\"><span class=\"toc-item-num\">2.2&nbsp;&nbsp;</span>Создадим новый столбец с номером месяца на основе столбца <code>date</code></a></span></li><li><span><a href=\"#Удалим-дубликаты-в-датафрейме-users\" data-toc-modified-id=\"Удалим-дубликаты-в-датафрейме-users-2.3\"><span class=\"toc-item-num\">2.3&nbsp;&nbsp;</span>Удалим дубликаты в датафрейме <code>users</code></a></span></li><li><span><a href=\"#Округлим-расстояния-в--rides['distance']-методом--round()\" data-toc-modified-id=\"Округлим-расстояния-в--rides['distance']-методом--round()-2.4\"><span class=\"toc-item-num\">2.4&nbsp;&nbsp;</span>Округлим расстояния в  <code>rides['distance']</code> методом  <code>round()</code></a></span></li><li><span><a href=\"#Проверим-столбец-rides['duration']-на-предмет-наличия-аномалий.\" data-toc-modified-id=\"Проверим-столбец-rides['duration']-на-предмет-наличия-аномалий.-2.5\"><span class=\"toc-item-num\">2.5&nbsp;&nbsp;</span>Проверим столбец <code>rides['duration']</code> на предмет наличия аномалий.</a></span></li></ul></li><li><span><a href=\"#Выполним-исследовательский-анализ-данных\" data-toc-modified-id=\"Выполним-исследовательский-анализ-данных-3\"><span class=\"toc-item-num\">3&nbsp;&nbsp;</span>Выполним исследовательский анализ данных</a></span><ul class=\"toc-item\"><li><span><a href=\"#Частота-встречаемости-городов\" data-toc-modified-id=\"Частота-встречаемости-городов-3.1\"><span class=\"toc-item-num\">3.1&nbsp;&nbsp;</span>Частота встречаемости городов</a></span></li><li><span><a href=\"#Соотношение-пользователей-с-подпиской-и-без-подписки\" data-toc-modified-id=\"Соотношение-пользователей-с-подпиской-и-без-подписки-3.2\"><span class=\"toc-item-num\">3.2&nbsp;&nbsp;</span>Соотношение пользователей с подпиской и без подписки</a></span></li><li><span><a href=\"#Возраст-пользователей\" data-toc-modified-id=\"Возраст-пользователей-3.3\"><span class=\"toc-item-num\">3.3&nbsp;&nbsp;</span>Возраст пользователей</a></span></li><li><span><a href=\"#Расстояние,-которое-пользователь-преодолел-за-одну-поездку\" data-toc-modified-id=\"Расстояние,-которое-пользователь-преодолел-за-одну-поездку-3.4\"><span class=\"toc-item-num\">3.4&nbsp;&nbsp;</span>Расстояние, которое пользователь преодолел за одну поездку</a></span></li><li><span><a href=\"#Продолжительность-поездок\" data-toc-modified-id=\"Продолжительность-поездок-3.5\"><span class=\"toc-item-num\">3.5&nbsp;&nbsp;</span>Продолжительность поездок</a></span></li></ul></li><li><span><a href=\"#Объединим-данные\" data-toc-modified-id=\"Объединим-данные-4\"><span class=\"toc-item-num\">4&nbsp;&nbsp;</span>Объединим данные</a></span><ul class=\"toc-item\"><li><span><a href=\"#Объединим-данные-о-пользователях,-поездках-и-подписках-в-один-датафрейм-используя-метод-merge()\" data-toc-modified-id=\"Объединим-данные-о-пользователях,-поездках-и-подписках-в-один-датафрейм-используя-метод-merge()-4.1\"><span class=\"toc-item-num\">4.1&nbsp;&nbsp;</span>Объединим данные о пользователях, поездках и подписках в один датафрейм используя метод merge()</a></span></li><li><span><a href=\"#Создадим-датафрейм-c-данными-о-пользователях-без-подписки-из-датафрейма-full\" data-toc-modified-id=\"Создадим-датафрейм-c-данными-о-пользователях-без-подписки-из-датафрейма-full-4.2\"><span class=\"toc-item-num\">4.2&nbsp;&nbsp;</span>Создадим датафрейм c данными о пользователях без подписки из датафрейма <code>full</code></a></span></li><li><span><a href=\"#Создадим-датафрейм-c-данными-о-пользователях-с-подпиской-из-датафрейма-full\" data-toc-modified-id=\"Создадим-датафрейм-c-данными-о-пользователях-с-подпиской-из-датафрейма-full-4.3\"><span class=\"toc-item-num\">4.3&nbsp;&nbsp;</span>Создадим датафрейм c данными о пользователях с подпиской из датафрейма <code>full</code></a></span></li><li><span><a href=\"#Визуализируем-информацию-о-расстоянии-и-времени-поездок-для-пользователей-обеих-категорий\" data-toc-modified-id=\"Визуализируем-информацию-о-расстоянии-и-времени-поездок-для-пользователей-обеих-категорий-4.4\"><span class=\"toc-item-num\">4.4&nbsp;&nbsp;</span>Визуализируем информацию о расстоянии и времени поездок для пользователей обеих категорий</a></span><ul class=\"toc-item\"><li><span><a href=\"#Расстояние\" data-toc-modified-id=\"Расстояние-4.4.1\"><span class=\"toc-item-num\">4.4.1&nbsp;&nbsp;</span>Расстояние</a></span></li><li><span><a href=\"#Время-поездок\" data-toc-modified-id=\"Время-поездок-4.4.2\"><span class=\"toc-item-num\">4.4.2&nbsp;&nbsp;</span>Время поездок</a></span></li></ul></li></ul></li><li><span><a href=\"#Подсчитаем-выручку\" data-toc-modified-id=\"Подсчитаем-выручку-5\"><span class=\"toc-item-num\">5&nbsp;&nbsp;</span>Подсчитаем выручку</a></span><ul class=\"toc-item\"><li><span><a href=\"#Создадим-датафрейм-с-агрегированными-данными-о-поездках-на-основе-датафрейма-с-объединёнными-данными-full\" data-toc-modified-id=\"Создадим-датафрейм-с-агрегированными-данными-о-поездках-на-основе-датафрейма-с-объединёнными-данными-full-5.1\"><span class=\"toc-item-num\">5.1&nbsp;&nbsp;</span>Создадим датафрейм с агрегированными данными о поездках на основе датафрейма с объединёнными данными <code>full</code></a></span></li><li><span><a href=\"#В-этот-же-датафрейм-добавим-столбец-с-помесячной-выручкой,-которую-принёс-каждый-пользователь.\" data-toc-modified-id=\"В-этот-же-датафрейм-добавим-столбец-с-помесячной-выручкой,-которую-принёс-каждый-пользователь.-5.2\"><span class=\"toc-item-num\">5.2&nbsp;&nbsp;</span>В этот же датафрейм добавим столбец с помесячной выручкой, которую принёс каждый пользователь.</a></span></li></ul></li><li><span><a href=\"#Проверим-гипотезы\" data-toc-modified-id=\"Проверим-гипотезы-6\"><span class=\"toc-item-num\">6&nbsp;&nbsp;</span>Проверим гипотезы</a></span><ul class=\"toc-item\"><li><span><a href=\"#Пользователи-с-подпиской-тратят-больше-времени-на-поездки?-Если-да,-то-пользователи-с-подпиской-могут-быть-«выгоднее»-для-компании.\" data-toc-modified-id=\"Пользователи-с-подпиской-тратят-больше-времени-на-поездки?-Если-да,-то-пользователи-с-подпиской-могут-быть-«выгоднее»-для-компании.-6.1\"><span class=\"toc-item-num\">6.1&nbsp;&nbsp;</span>Пользователи с подпиской тратят больше времени на поездки? Если да, то пользователи с подпиской могут быть «выгоднее» для компании.</a></span></li><li><span><a href=\"#Расстояние-одной-поездки-в-3130-метров-—-оптимальное-с-точки-зрения-износа-самоката.-Можно-ли-сказать,-что-среднее-расстояние,-которое-проезжают-пользователи-с-подпиской-за-одну-поездку,-не-превышает-3130-метров?\" data-toc-modified-id=\"Расстояние-одной-поездки-в-3130-метров-—-оптимальное-с-точки-зрения-износа-самоката.-Можно-ли-сказать,-что-среднее-расстояние,-которое-проезжают-пользователи-с-подпиской-за-одну-поездку,-не-превышает-3130-метров?-6.2\"><span class=\"toc-item-num\">6.2&nbsp;&nbsp;</span>Расстояние одной поездки в 3130 метров — оптимальное с точки зрения износа самоката. Можно ли сказать, что среднее расстояние, которое проезжают пользователи с подпиской за одну поездку, не превышает 3130 метров?</a></span></li><li><span><a href=\"#Помесячная-выручка-от-пользователей-с-подпиской-по-месяцам-выше,-чем-выручка-от-пользователей-без-подписки.\" data-toc-modified-id=\"Помесячная-выручка-от-пользователей-с-подпиской-по-месяцам-выше,-чем-выручка-от-пользователей-без-подписки.-6.3\"><span class=\"toc-item-num\">6.3&nbsp;&nbsp;</span>Помесячная выручка от пользователей с подпиской по месяцам выше, чем выручка от пользователей без подписки.</a></span></li><li><span><a href=\"#Представим-такую-ситуацию:-техническая-команда-сервиса-обновила-сервера,-с-которыми-взаимодействует-мобильное-приложение.-Она-надеется,-что-из-за-этого-количество-обращений-в-техподдержку-значимо-снизилось.-Некоторый-файл-содержит-для-каждого-пользователя-данные-о-количестве-обращений-до-обновления-и-после-него.-Какой-тест-нам-понадобился-бы-для-проверки-этой-гипотезы?\" data-toc-modified-id=\"Представим-такую-ситуацию:-техническая-команда-сервиса-обновила-сервера,-с-которыми-взаимодействует-мобильное-приложение.-Она-надеется,-что-из-за-этого-количество-обращений-в-техподдержку-значимо-снизилось.-Некоторый-файл-содержит-для-каждого-пользователя-данные-о-количестве-обращений-до-обновления-и-после-него.-Какой-тест-нам-понадобился-бы-для-проверки-этой-гипотезы?-6.4\"><span class=\"toc-item-num\">6.4&nbsp;&nbsp;</span>Представим такую ситуацию: техническая команда сервиса обновила сервера, с которыми взаимодействует мобильное приложение. Она надеется, что из-за этого количество обращений в техподдержку значимо снизилось. Некоторый файл содержит для каждого пользователя данные о количестве обращений до обновления и после него. Какой тест нам понадобился бы для проверки этой гипотезы?</a></span></li></ul></li><li><span><a href=\"#Распределения\" data-toc-modified-id=\"Распределения-7\"><span class=\"toc-item-num\">7&nbsp;&nbsp;</span>Распределения</a></span><ul class=\"toc-item\"><li><span><a href=\"#Нужно-провести-акцию-с-раздачей-промокодов-на-один-бесплатный-месяц-подписки,-в-рамках-которой-как-минимум-100-существующих-клиентов-должны-продлить-эту-подписку.-То-есть-по-завершении-периода-действия-подписки-пользователь-может-либо-отказаться-от-неё,-либо-продлить,-совершив-соответствующий-платёж.\" data-toc-modified-id=\"Нужно-провести-акцию-с-раздачей-промокодов-на-один-бесплатный-месяц-подписки,-в-рамках-которой-как-минимум-100-существующих-клиентов-должны-продлить-эту-подписку.-То-есть-по-завершении-периода-действия-подписки-пользователь-может-либо-отказаться-от-неё,-либо-продлить,-совершив-соответствующий-платёж.-7.1\"><span class=\"toc-item-num\">7.1&nbsp;&nbsp;</span>Нужно провести акцию с раздачей промокодов на один бесплатный месяц подписки, в рамках которой как минимум 100 существующих клиентов должны продлить эту подписку. То есть по завершении периода действия подписки пользователь может либо отказаться от неё, либо продлить, совершив соответствующий платёж.</a></span></li><li><span><a href=\"#Отдел-маркетинга-рассылает-клиентам-push-уведомления-в-мобильном-приложении.-Клиенты-могут-открыть-его-или-не-открывать.-Известно,-что-уведомления-открывают-около-40-%-получивших-клиентов.-Отдел-планирует-разослать-1-млн-уведомлений.-С-помощью-аппроксимации-построим-примерный-график-распределения-и-оценим-вероятность-того,-что-уведомление-откроют-не-более-399,5-тыс.-пользователей.\" data-toc-modified-id=\"Отдел-маркетинга-рассылает-клиентам-push-уведомления-в-мобильном-приложении.-Клиенты-могут-открыть-его-или-не-открывать.-Известно,-что-уведомления-открывают-около-40-%-получивших-клиентов.-Отдел-планирует-разослать-1-млн-уведомлений.-С-помощью-аппроксимации-построим-примерный-график-распределения-и-оценим-вероятность-того,-что-уведомление-откроют-не-более-399,5-тыс.-пользователей.-7.2\"><span class=\"toc-item-num\">7.2&nbsp;&nbsp;</span>Отдел маркетинга рассылает клиентам push-уведомления в мобильном приложении. Клиенты могут открыть его или не открывать. Известно, что уведомления открывают около 40 % получивших клиентов. Отдел планирует разослать 1 млн уведомлений. С помощью аппроксимации построим примерный график распределения и оценим вероятность того, что уведомление откроют не более 399,5 тыс. пользователей.</a></span></li></ul></li><li><span><a href=\"#Вывод\" data-toc-modified-id=\"Вывод-8\"><span class=\"toc-item-num\">8&nbsp;&nbsp;</span>Вывод</a></span></li></ul></div>"
   ]
  },
  {
   "cell_type": "markdown",
   "id": "ea2f3745",
   "metadata": {},
   "source": [
    "Импортируем необходимые библиотеки"
   ]
  },
  {
   "cell_type": "code",
   "execution_count": 1,
   "id": "72576667",
   "metadata": {},
   "outputs": [],
   "source": [
    "import pandas as pd\n",
    "import matplotlib.pyplot as plt\n",
    "import numpy as np\n",
    "from scipy import stats as st\n",
    "import seaborn as sns"
   ]
  },
  {
   "cell_type": "markdown",
   "id": "b6bf490a",
   "metadata": {},
   "source": [
    "## Откроем файл с данными и изучим общую информацию"
   ]
  },
  {
   "cell_type": "markdown",
   "id": "c42cbe00",
   "metadata": {},
   "source": [
    "### Считаем CSV-файлы с данными с помощью библиотеки pandas и сохраним их в датафреймы"
   ]
  },
  {
   "cell_type": "markdown",
   "id": "6fd9feb4",
   "metadata": {},
   "source": [
    "Датафрейм из файла, расположенного по следующему пути: `/datasets/users_go.csv` или `https://code.s3.yandex.net/datasets/users_go.csv` сохраним в переменную `users`"
   ]
  },
  {
   "cell_type": "code",
   "execution_count": 2,
   "id": "eff9f206",
   "metadata": {},
   "outputs": [],
   "source": [
    "try:\n",
    "    users = pd.read_csv('/datasets/users_go.csv')\n",
    "except:\n",
    "    users = pd.read_csv('https://code.s3.yandex.net/datasets/users_go.csv')"
   ]
  },
  {
   "cell_type": "markdown",
   "id": "f9e923d5",
   "metadata": {},
   "source": [
    "Датафрейм из файла, расположенного по следующему пути: `/datasets/rides_go.csv` или `https://code.s3.yandex.net/datasets/rides_go.csv` сохраним в переменную `rides`"
   ]
  },
  {
   "cell_type": "code",
   "execution_count": 3,
   "id": "86df6e95",
   "metadata": {},
   "outputs": [],
   "source": [
    "try:\n",
    "    rides = pd.read_csv('/datasets/rides_go.csv', parse_dates=['date'])\n",
    "except:\n",
    "    rides = pd.read_csv('https://code.s3.yandex.net/datasets/rides_go.csv', parse_dates=['date'])"
   ]
  },
  {
   "cell_type": "markdown",
   "id": "6f45f350",
   "metadata": {},
   "source": [
    "Датафрейм из файла, расположенного по следующему пути: `/datasets/subscriptions_go.csv` или `https://code.s3.yandex.net/datasets/subscriptions_go.csv` сохраним в переменную `users_go`"
   ]
  },
  {
   "cell_type": "code",
   "execution_count": 4,
   "id": "9d36e6c6",
   "metadata": {},
   "outputs": [],
   "source": [
    "try:\n",
    "    subscriptions = pd.read_csv('/datasets/subscriptions_go.csv')\n",
    "except:\n",
    "    subscriptions = pd.read_csv('https://code.s3.yandex.net/datasets/subscriptions_go.csv')"
   ]
  },
  {
   "cell_type": "markdown",
   "id": "decec450",
   "metadata": {},
   "source": [
    "### Выведим первые строки каждого набора данных. Изучим общую информацию о каждом датафрейме."
   ]
  },
  {
   "cell_type": "markdown",
   "id": "46ea9ce3",
   "metadata": {},
   "source": [
    "Напишем функцию, которая будет выводить первые строки наших датафреймов, информацию о них, cписок характерных значений, о наличии дубликатов и пропущенных значений"
   ]
  },
  {
   "cell_type": "code",
   "execution_count": 5,
   "id": "30f10be4",
   "metadata": {},
   "outputs": [],
   "source": [
    "def characteristics(df):\n",
    "    print('------------- Исходный датафрейм -------------')\n",
    "    display(df.head())\n",
    "    print('')\n",
    "    print('')\n",
    "    print('------------- Общая информация о датафрейме -------------')\n",
    "    print('')\n",
    "    print('')\n",
    "    display(df.info())\n",
    "    print('------------- Количество пустых значений в датафрейме -------------')\n",
    "    print('')\n",
    "    print('')\n",
    "    display(df.isna().sum())\n",
    "    print('------------- Количество явных дубликатов в датафрейме -------------')\n",
    "    display(df.duplicated().sum())\n",
    "    print('')\n",
    "    print('')\n",
    "    print('------------- Описательная статистика -------------')\n",
    "    display(df.describe())"
   ]
  },
  {
   "cell_type": "markdown",
   "id": "eef2eff1",
   "metadata": {},
   "source": [
    "Применим функцию к датафрейму `users`"
   ]
  },
  {
   "cell_type": "code",
   "execution_count": 6,
   "id": "aa5382b1",
   "metadata": {},
   "outputs": [
    {
     "name": "stdout",
     "output_type": "stream",
     "text": [
      "------------- Исходный датафрейм -------------\n"
     ]
    },
    {
     "data": {
      "text/html": [
       "<div>\n",
       "<style scoped>\n",
       "    .dataframe tbody tr th:only-of-type {\n",
       "        vertical-align: middle;\n",
       "    }\n",
       "\n",
       "    .dataframe tbody tr th {\n",
       "        vertical-align: top;\n",
       "    }\n",
       "\n",
       "    .dataframe thead th {\n",
       "        text-align: right;\n",
       "    }\n",
       "</style>\n",
       "<table border=\"1\" class=\"dataframe\">\n",
       "  <thead>\n",
       "    <tr style=\"text-align: right;\">\n",
       "      <th></th>\n",
       "      <th>user_id</th>\n",
       "      <th>name</th>\n",
       "      <th>age</th>\n",
       "      <th>city</th>\n",
       "      <th>subscription_type</th>\n",
       "    </tr>\n",
       "  </thead>\n",
       "  <tbody>\n",
       "    <tr>\n",
       "      <th>0</th>\n",
       "      <td>1</td>\n",
       "      <td>Кира</td>\n",
       "      <td>22</td>\n",
       "      <td>Тюмень</td>\n",
       "      <td>ultra</td>\n",
       "    </tr>\n",
       "    <tr>\n",
       "      <th>1</th>\n",
       "      <td>2</td>\n",
       "      <td>Станислав</td>\n",
       "      <td>31</td>\n",
       "      <td>Омск</td>\n",
       "      <td>ultra</td>\n",
       "    </tr>\n",
       "    <tr>\n",
       "      <th>2</th>\n",
       "      <td>3</td>\n",
       "      <td>Алексей</td>\n",
       "      <td>20</td>\n",
       "      <td>Москва</td>\n",
       "      <td>ultra</td>\n",
       "    </tr>\n",
       "    <tr>\n",
       "      <th>3</th>\n",
       "      <td>4</td>\n",
       "      <td>Константин</td>\n",
       "      <td>26</td>\n",
       "      <td>Ростов-на-Дону</td>\n",
       "      <td>ultra</td>\n",
       "    </tr>\n",
       "    <tr>\n",
       "      <th>4</th>\n",
       "      <td>5</td>\n",
       "      <td>Адель</td>\n",
       "      <td>28</td>\n",
       "      <td>Омск</td>\n",
       "      <td>ultra</td>\n",
       "    </tr>\n",
       "  </tbody>\n",
       "</table>\n",
       "</div>"
      ],
      "text/plain": [
       "   user_id        name  age            city subscription_type\n",
       "0        1        Кира   22          Тюмень             ultra\n",
       "1        2   Станислав   31            Омск             ultra\n",
       "2        3     Алексей   20          Москва             ultra\n",
       "3        4  Константин   26  Ростов-на-Дону             ultra\n",
       "4        5       Адель   28            Омск             ultra"
      ]
     },
     "metadata": {},
     "output_type": "display_data"
    },
    {
     "name": "stdout",
     "output_type": "stream",
     "text": [
      "\n",
      "\n",
      "------------- Общая информация о датафрейме -------------\n",
      "\n",
      "\n",
      "<class 'pandas.core.frame.DataFrame'>\n",
      "RangeIndex: 1565 entries, 0 to 1564\n",
      "Data columns (total 5 columns):\n",
      " #   Column             Non-Null Count  Dtype \n",
      "---  ------             --------------  ----- \n",
      " 0   user_id            1565 non-null   int64 \n",
      " 1   name               1565 non-null   object\n",
      " 2   age                1565 non-null   int64 \n",
      " 3   city               1565 non-null   object\n",
      " 4   subscription_type  1565 non-null   object\n",
      "dtypes: int64(2), object(3)\n",
      "memory usage: 61.3+ KB\n"
     ]
    },
    {
     "data": {
      "text/plain": [
       "None"
      ]
     },
     "metadata": {},
     "output_type": "display_data"
    },
    {
     "name": "stdout",
     "output_type": "stream",
     "text": [
      "------------- Количество пустых значений в датафрейме -------------\n",
      "\n",
      "\n"
     ]
    },
    {
     "data": {
      "text/plain": [
       "user_id              0\n",
       "name                 0\n",
       "age                  0\n",
       "city                 0\n",
       "subscription_type    0\n",
       "dtype: int64"
      ]
     },
     "metadata": {},
     "output_type": "display_data"
    },
    {
     "name": "stdout",
     "output_type": "stream",
     "text": [
      "------------- Количество явных дубликатов в датафрейме -------------\n"
     ]
    },
    {
     "data": {
      "text/plain": [
       "31"
      ]
     },
     "metadata": {},
     "output_type": "display_data"
    },
    {
     "name": "stdout",
     "output_type": "stream",
     "text": [
      "\n",
      "\n",
      "------------- Описательная статистика -------------\n"
     ]
    },
    {
     "data": {
      "text/html": [
       "<div>\n",
       "<style scoped>\n",
       "    .dataframe tbody tr th:only-of-type {\n",
       "        vertical-align: middle;\n",
       "    }\n",
       "\n",
       "    .dataframe tbody tr th {\n",
       "        vertical-align: top;\n",
       "    }\n",
       "\n",
       "    .dataframe thead th {\n",
       "        text-align: right;\n",
       "    }\n",
       "</style>\n",
       "<table border=\"1\" class=\"dataframe\">\n",
       "  <thead>\n",
       "    <tr style=\"text-align: right;\">\n",
       "      <th></th>\n",
       "      <th>user_id</th>\n",
       "      <th>age</th>\n",
       "    </tr>\n",
       "  </thead>\n",
       "  <tbody>\n",
       "    <tr>\n",
       "      <th>count</th>\n",
       "      <td>1565.000000</td>\n",
       "      <td>1565.000000</td>\n",
       "    </tr>\n",
       "    <tr>\n",
       "      <th>mean</th>\n",
       "      <td>762.633866</td>\n",
       "      <td>24.922045</td>\n",
       "    </tr>\n",
       "    <tr>\n",
       "      <th>std</th>\n",
       "      <td>443.260155</td>\n",
       "      <td>4.553496</td>\n",
       "    </tr>\n",
       "    <tr>\n",
       "      <th>min</th>\n",
       "      <td>1.000000</td>\n",
       "      <td>12.000000</td>\n",
       "    </tr>\n",
       "    <tr>\n",
       "      <th>25%</th>\n",
       "      <td>378.000000</td>\n",
       "      <td>22.000000</td>\n",
       "    </tr>\n",
       "    <tr>\n",
       "      <th>50%</th>\n",
       "      <td>762.000000</td>\n",
       "      <td>25.000000</td>\n",
       "    </tr>\n",
       "    <tr>\n",
       "      <th>75%</th>\n",
       "      <td>1146.000000</td>\n",
       "      <td>28.000000</td>\n",
       "    </tr>\n",
       "    <tr>\n",
       "      <th>max</th>\n",
       "      <td>1534.000000</td>\n",
       "      <td>43.000000</td>\n",
       "    </tr>\n",
       "  </tbody>\n",
       "</table>\n",
       "</div>"
      ],
      "text/plain": [
       "           user_id          age\n",
       "count  1565.000000  1565.000000\n",
       "mean    762.633866    24.922045\n",
       "std     443.260155     4.553496\n",
       "min       1.000000    12.000000\n",
       "25%     378.000000    22.000000\n",
       "50%     762.000000    25.000000\n",
       "75%    1146.000000    28.000000\n",
       "max    1534.000000    43.000000"
      ]
     },
     "metadata": {},
     "output_type": "display_data"
    }
   ],
   "source": [
    "characteristics(users)"
   ]
  },
  {
   "cell_type": "markdown",
   "id": "c7581821",
   "metadata": {},
   "source": [
    "Применим функцию к датафрейму `rides`"
   ]
  },
  {
   "cell_type": "code",
   "execution_count": 7,
   "id": "c3105958",
   "metadata": {},
   "outputs": [
    {
     "name": "stdout",
     "output_type": "stream",
     "text": [
      "------------- Исходный датафрейм -------------\n"
     ]
    },
    {
     "data": {
      "text/html": [
       "<div>\n",
       "<style scoped>\n",
       "    .dataframe tbody tr th:only-of-type {\n",
       "        vertical-align: middle;\n",
       "    }\n",
       "\n",
       "    .dataframe tbody tr th {\n",
       "        vertical-align: top;\n",
       "    }\n",
       "\n",
       "    .dataframe thead th {\n",
       "        text-align: right;\n",
       "    }\n",
       "</style>\n",
       "<table border=\"1\" class=\"dataframe\">\n",
       "  <thead>\n",
       "    <tr style=\"text-align: right;\">\n",
       "      <th></th>\n",
       "      <th>user_id</th>\n",
       "      <th>distance</th>\n",
       "      <th>duration</th>\n",
       "      <th>date</th>\n",
       "    </tr>\n",
       "  </thead>\n",
       "  <tbody>\n",
       "    <tr>\n",
       "      <th>0</th>\n",
       "      <td>1</td>\n",
       "      <td>4409.919140</td>\n",
       "      <td>25.599769</td>\n",
       "      <td>2021-01-01</td>\n",
       "    </tr>\n",
       "    <tr>\n",
       "      <th>1</th>\n",
       "      <td>1</td>\n",
       "      <td>2617.592153</td>\n",
       "      <td>15.816871</td>\n",
       "      <td>2021-01-18</td>\n",
       "    </tr>\n",
       "    <tr>\n",
       "      <th>2</th>\n",
       "      <td>1</td>\n",
       "      <td>754.159807</td>\n",
       "      <td>6.232113</td>\n",
       "      <td>2021-04-20</td>\n",
       "    </tr>\n",
       "    <tr>\n",
       "      <th>3</th>\n",
       "      <td>1</td>\n",
       "      <td>2694.783254</td>\n",
       "      <td>18.511000</td>\n",
       "      <td>2021-08-11</td>\n",
       "    </tr>\n",
       "    <tr>\n",
       "      <th>4</th>\n",
       "      <td>1</td>\n",
       "      <td>4028.687306</td>\n",
       "      <td>26.265803</td>\n",
       "      <td>2021-08-28</td>\n",
       "    </tr>\n",
       "  </tbody>\n",
       "</table>\n",
       "</div>"
      ],
      "text/plain": [
       "   user_id     distance   duration       date\n",
       "0        1  4409.919140  25.599769 2021-01-01\n",
       "1        1  2617.592153  15.816871 2021-01-18\n",
       "2        1   754.159807   6.232113 2021-04-20\n",
       "3        1  2694.783254  18.511000 2021-08-11\n",
       "4        1  4028.687306  26.265803 2021-08-28"
      ]
     },
     "metadata": {},
     "output_type": "display_data"
    },
    {
     "name": "stdout",
     "output_type": "stream",
     "text": [
      "\n",
      "\n",
      "------------- Общая информация о датафрейме -------------\n",
      "\n",
      "\n",
      "<class 'pandas.core.frame.DataFrame'>\n",
      "RangeIndex: 18068 entries, 0 to 18067\n",
      "Data columns (total 4 columns):\n",
      " #   Column    Non-Null Count  Dtype         \n",
      "---  ------    --------------  -----         \n",
      " 0   user_id   18068 non-null  int64         \n",
      " 1   distance  18068 non-null  float64       \n",
      " 2   duration  18068 non-null  float64       \n",
      " 3   date      18068 non-null  datetime64[ns]\n",
      "dtypes: datetime64[ns](1), float64(2), int64(1)\n",
      "memory usage: 564.8 KB\n"
     ]
    },
    {
     "data": {
      "text/plain": [
       "None"
      ]
     },
     "metadata": {},
     "output_type": "display_data"
    },
    {
     "name": "stdout",
     "output_type": "stream",
     "text": [
      "------------- Количество пустых значений в датафрейме -------------\n",
      "\n",
      "\n"
     ]
    },
    {
     "data": {
      "text/plain": [
       "user_id     0\n",
       "distance    0\n",
       "duration    0\n",
       "date        0\n",
       "dtype: int64"
      ]
     },
     "metadata": {},
     "output_type": "display_data"
    },
    {
     "name": "stdout",
     "output_type": "stream",
     "text": [
      "------------- Количество явных дубликатов в датафрейме -------------\n"
     ]
    },
    {
     "data": {
      "text/plain": [
       "0"
      ]
     },
     "metadata": {},
     "output_type": "display_data"
    },
    {
     "name": "stdout",
     "output_type": "stream",
     "text": [
      "\n",
      "\n",
      "------------- Описательная статистика -------------\n"
     ]
    },
    {
     "data": {
      "text/html": [
       "<div>\n",
       "<style scoped>\n",
       "    .dataframe tbody tr th:only-of-type {\n",
       "        vertical-align: middle;\n",
       "    }\n",
       "\n",
       "    .dataframe tbody tr th {\n",
       "        vertical-align: top;\n",
       "    }\n",
       "\n",
       "    .dataframe thead th {\n",
       "        text-align: right;\n",
       "    }\n",
       "</style>\n",
       "<table border=\"1\" class=\"dataframe\">\n",
       "  <thead>\n",
       "    <tr style=\"text-align: right;\">\n",
       "      <th></th>\n",
       "      <th>user_id</th>\n",
       "      <th>distance</th>\n",
       "      <th>duration</th>\n",
       "    </tr>\n",
       "  </thead>\n",
       "  <tbody>\n",
       "    <tr>\n",
       "      <th>count</th>\n",
       "      <td>18068.000000</td>\n",
       "      <td>18068.000000</td>\n",
       "      <td>18068.000000</td>\n",
       "    </tr>\n",
       "    <tr>\n",
       "      <th>mean</th>\n",
       "      <td>842.869936</td>\n",
       "      <td>3070.659976</td>\n",
       "      <td>17.805011</td>\n",
       "    </tr>\n",
       "    <tr>\n",
       "      <th>std</th>\n",
       "      <td>434.734317</td>\n",
       "      <td>1116.831209</td>\n",
       "      <td>6.091051</td>\n",
       "    </tr>\n",
       "    <tr>\n",
       "      <th>min</th>\n",
       "      <td>1.000000</td>\n",
       "      <td>0.855683</td>\n",
       "      <td>0.500000</td>\n",
       "    </tr>\n",
       "    <tr>\n",
       "      <th>25%</th>\n",
       "      <td>487.000000</td>\n",
       "      <td>2543.226360</td>\n",
       "      <td>13.597563</td>\n",
       "    </tr>\n",
       "    <tr>\n",
       "      <th>50%</th>\n",
       "      <td>889.000000</td>\n",
       "      <td>3133.609994</td>\n",
       "      <td>17.678395</td>\n",
       "    </tr>\n",
       "    <tr>\n",
       "      <th>75%</th>\n",
       "      <td>1213.250000</td>\n",
       "      <td>3776.222735</td>\n",
       "      <td>21.724800</td>\n",
       "    </tr>\n",
       "    <tr>\n",
       "      <th>max</th>\n",
       "      <td>1534.000000</td>\n",
       "      <td>7211.007745</td>\n",
       "      <td>40.823963</td>\n",
       "    </tr>\n",
       "  </tbody>\n",
       "</table>\n",
       "</div>"
      ],
      "text/plain": [
       "            user_id      distance      duration\n",
       "count  18068.000000  18068.000000  18068.000000\n",
       "mean     842.869936   3070.659976     17.805011\n",
       "std      434.734317   1116.831209      6.091051\n",
       "min        1.000000      0.855683      0.500000\n",
       "25%      487.000000   2543.226360     13.597563\n",
       "50%      889.000000   3133.609994     17.678395\n",
       "75%     1213.250000   3776.222735     21.724800\n",
       "max     1534.000000   7211.007745     40.823963"
      ]
     },
     "metadata": {},
     "output_type": "display_data"
    }
   ],
   "source": [
    "characteristics(rides)"
   ]
  },
  {
   "cell_type": "markdown",
   "id": "4755d0d1",
   "metadata": {},
   "source": [
    "Применим функцию к датафрейму `subscriptions`"
   ]
  },
  {
   "cell_type": "code",
   "execution_count": 8,
   "id": "4db2cced",
   "metadata": {},
   "outputs": [
    {
     "name": "stdout",
     "output_type": "stream",
     "text": [
      "------------- Исходный датафрейм -------------\n"
     ]
    },
    {
     "data": {
      "text/html": [
       "<div>\n",
       "<style scoped>\n",
       "    .dataframe tbody tr th:only-of-type {\n",
       "        vertical-align: middle;\n",
       "    }\n",
       "\n",
       "    .dataframe tbody tr th {\n",
       "        vertical-align: top;\n",
       "    }\n",
       "\n",
       "    .dataframe thead th {\n",
       "        text-align: right;\n",
       "    }\n",
       "</style>\n",
       "<table border=\"1\" class=\"dataframe\">\n",
       "  <thead>\n",
       "    <tr style=\"text-align: right;\">\n",
       "      <th></th>\n",
       "      <th>subscription_type</th>\n",
       "      <th>minute_price</th>\n",
       "      <th>start_ride_price</th>\n",
       "      <th>subscription_fee</th>\n",
       "    </tr>\n",
       "  </thead>\n",
       "  <tbody>\n",
       "    <tr>\n",
       "      <th>0</th>\n",
       "      <td>free</td>\n",
       "      <td>8</td>\n",
       "      <td>50</td>\n",
       "      <td>0</td>\n",
       "    </tr>\n",
       "    <tr>\n",
       "      <th>1</th>\n",
       "      <td>ultra</td>\n",
       "      <td>6</td>\n",
       "      <td>0</td>\n",
       "      <td>199</td>\n",
       "    </tr>\n",
       "  </tbody>\n",
       "</table>\n",
       "</div>"
      ],
      "text/plain": [
       "  subscription_type  minute_price  start_ride_price  subscription_fee\n",
       "0              free             8                50                 0\n",
       "1             ultra             6                 0               199"
      ]
     },
     "metadata": {},
     "output_type": "display_data"
    },
    {
     "name": "stdout",
     "output_type": "stream",
     "text": [
      "\n",
      "\n",
      "------------- Общая информация о датафрейме -------------\n",
      "\n",
      "\n",
      "<class 'pandas.core.frame.DataFrame'>\n",
      "RangeIndex: 2 entries, 0 to 1\n",
      "Data columns (total 4 columns):\n",
      " #   Column             Non-Null Count  Dtype \n",
      "---  ------             --------------  ----- \n",
      " 0   subscription_type  2 non-null      object\n",
      " 1   minute_price       2 non-null      int64 \n",
      " 2   start_ride_price   2 non-null      int64 \n",
      " 3   subscription_fee   2 non-null      int64 \n",
      "dtypes: int64(3), object(1)\n",
      "memory usage: 192.0+ bytes\n"
     ]
    },
    {
     "data": {
      "text/plain": [
       "None"
      ]
     },
     "metadata": {},
     "output_type": "display_data"
    },
    {
     "name": "stdout",
     "output_type": "stream",
     "text": [
      "------------- Количество пустых значений в датафрейме -------------\n",
      "\n",
      "\n"
     ]
    },
    {
     "data": {
      "text/plain": [
       "subscription_type    0\n",
       "minute_price         0\n",
       "start_ride_price     0\n",
       "subscription_fee     0\n",
       "dtype: int64"
      ]
     },
     "metadata": {},
     "output_type": "display_data"
    },
    {
     "name": "stdout",
     "output_type": "stream",
     "text": [
      "------------- Количество явных дубликатов в датафрейме -------------\n"
     ]
    },
    {
     "data": {
      "text/plain": [
       "0"
      ]
     },
     "metadata": {},
     "output_type": "display_data"
    },
    {
     "name": "stdout",
     "output_type": "stream",
     "text": [
      "\n",
      "\n",
      "------------- Описательная статистика -------------\n"
     ]
    },
    {
     "data": {
      "text/html": [
       "<div>\n",
       "<style scoped>\n",
       "    .dataframe tbody tr th:only-of-type {\n",
       "        vertical-align: middle;\n",
       "    }\n",
       "\n",
       "    .dataframe tbody tr th {\n",
       "        vertical-align: top;\n",
       "    }\n",
       "\n",
       "    .dataframe thead th {\n",
       "        text-align: right;\n",
       "    }\n",
       "</style>\n",
       "<table border=\"1\" class=\"dataframe\">\n",
       "  <thead>\n",
       "    <tr style=\"text-align: right;\">\n",
       "      <th></th>\n",
       "      <th>minute_price</th>\n",
       "      <th>start_ride_price</th>\n",
       "      <th>subscription_fee</th>\n",
       "    </tr>\n",
       "  </thead>\n",
       "  <tbody>\n",
       "    <tr>\n",
       "      <th>count</th>\n",
       "      <td>2.000000</td>\n",
       "      <td>2.000000</td>\n",
       "      <td>2.000000</td>\n",
       "    </tr>\n",
       "    <tr>\n",
       "      <th>mean</th>\n",
       "      <td>7.000000</td>\n",
       "      <td>25.000000</td>\n",
       "      <td>99.500000</td>\n",
       "    </tr>\n",
       "    <tr>\n",
       "      <th>std</th>\n",
       "      <td>1.414214</td>\n",
       "      <td>35.355339</td>\n",
       "      <td>140.714249</td>\n",
       "    </tr>\n",
       "    <tr>\n",
       "      <th>min</th>\n",
       "      <td>6.000000</td>\n",
       "      <td>0.000000</td>\n",
       "      <td>0.000000</td>\n",
       "    </tr>\n",
       "    <tr>\n",
       "      <th>25%</th>\n",
       "      <td>6.500000</td>\n",
       "      <td>12.500000</td>\n",
       "      <td>49.750000</td>\n",
       "    </tr>\n",
       "    <tr>\n",
       "      <th>50%</th>\n",
       "      <td>7.000000</td>\n",
       "      <td>25.000000</td>\n",
       "      <td>99.500000</td>\n",
       "    </tr>\n",
       "    <tr>\n",
       "      <th>75%</th>\n",
       "      <td>7.500000</td>\n",
       "      <td>37.500000</td>\n",
       "      <td>149.250000</td>\n",
       "    </tr>\n",
       "    <tr>\n",
       "      <th>max</th>\n",
       "      <td>8.000000</td>\n",
       "      <td>50.000000</td>\n",
       "      <td>199.000000</td>\n",
       "    </tr>\n",
       "  </tbody>\n",
       "</table>\n",
       "</div>"
      ],
      "text/plain": [
       "       minute_price  start_ride_price  subscription_fee\n",
       "count      2.000000          2.000000          2.000000\n",
       "mean       7.000000         25.000000         99.500000\n",
       "std        1.414214         35.355339        140.714249\n",
       "min        6.000000          0.000000          0.000000\n",
       "25%        6.500000         12.500000         49.750000\n",
       "50%        7.000000         25.000000         99.500000\n",
       "75%        7.500000         37.500000        149.250000\n",
       "max        8.000000         50.000000        199.000000"
      ]
     },
     "metadata": {},
     "output_type": "display_data"
    }
   ],
   "source": [
    "characteristics(subscriptions)"
   ]
  },
  {
   "cell_type": "markdown",
   "id": "5ad39b62",
   "metadata": {},
   "source": [
    "**Вывод**\n",
    "* Датафреймы содержат:\n",
    " * `users` - 1565 строк\n",
    " * `rides` -  18068 строк\n",
    " * `subscriptions` - 2 строки\n",
    "* В датафрейме `rides`, столбец `date` содержал тип данных `object`, при чтении файла привели его к типу данных `datetime`\n",
    "* Пропущенные значения в датафреймах отсутствуют\n",
    "* В датафрейме `users` обнаружен 31 дубликат, удалим их на этапе предобработки данных"
   ]
  },
  {
   "cell_type": "markdown",
   "id": "e95ebca7",
   "metadata": {},
   "source": [
    "## Выполним предобработку данных"
   ]
  },
  {
   "cell_type": "markdown",
   "id": "600bdd0b",
   "metadata": {},
   "source": [
    "### Проверим за какой период у нас данные."
   ]
  },
  {
   "cell_type": "code",
   "execution_count": 9,
   "id": "788e689c",
   "metadata": {},
   "outputs": [
    {
     "name": "stdout",
     "output_type": "stream",
     "text": [
      "У нас имеются данные за период с 2021-01-01 00:00:00 по 2021-12-30 00:00:00\n"
     ]
    }
   ],
   "source": [
    "left = rides['date'].min()\n",
    "right = rides['date'].max()\n",
    "print(f'У нас имеются данные за период с {left} по {right}')"
   ]
  },
  {
   "cell_type": "markdown",
   "id": "d23ee01c",
   "metadata": {},
   "source": [
    "### Создадим новый столбец с номером месяца на основе столбца `date`"
   ]
  },
  {
   "cell_type": "code",
   "execution_count": 10,
   "id": "f2fa8c82",
   "metadata": {},
   "outputs": [],
   "source": [
    "rides['month'] = pd.DatetimeIndex(rides['date']).month"
   ]
  },
  {
   "cell_type": "markdown",
   "id": "9b8d4b3e",
   "metadata": {},
   "source": [
    "Выведем для проверки первые строки датафрейма"
   ]
  },
  {
   "cell_type": "code",
   "execution_count": 11,
   "id": "63603746",
   "metadata": {},
   "outputs": [
    {
     "data": {
      "text/html": [
       "<div>\n",
       "<style scoped>\n",
       "    .dataframe tbody tr th:only-of-type {\n",
       "        vertical-align: middle;\n",
       "    }\n",
       "\n",
       "    .dataframe tbody tr th {\n",
       "        vertical-align: top;\n",
       "    }\n",
       "\n",
       "    .dataframe thead th {\n",
       "        text-align: right;\n",
       "    }\n",
       "</style>\n",
       "<table border=\"1\" class=\"dataframe\">\n",
       "  <thead>\n",
       "    <tr style=\"text-align: right;\">\n",
       "      <th></th>\n",
       "      <th>user_id</th>\n",
       "      <th>distance</th>\n",
       "      <th>duration</th>\n",
       "      <th>date</th>\n",
       "      <th>month</th>\n",
       "    </tr>\n",
       "  </thead>\n",
       "  <tbody>\n",
       "    <tr>\n",
       "      <th>0</th>\n",
       "      <td>1</td>\n",
       "      <td>4409.919140</td>\n",
       "      <td>25.599769</td>\n",
       "      <td>2021-01-01</td>\n",
       "      <td>1</td>\n",
       "    </tr>\n",
       "    <tr>\n",
       "      <th>1</th>\n",
       "      <td>1</td>\n",
       "      <td>2617.592153</td>\n",
       "      <td>15.816871</td>\n",
       "      <td>2021-01-18</td>\n",
       "      <td>1</td>\n",
       "    </tr>\n",
       "    <tr>\n",
       "      <th>2</th>\n",
       "      <td>1</td>\n",
       "      <td>754.159807</td>\n",
       "      <td>6.232113</td>\n",
       "      <td>2021-04-20</td>\n",
       "      <td>4</td>\n",
       "    </tr>\n",
       "    <tr>\n",
       "      <th>3</th>\n",
       "      <td>1</td>\n",
       "      <td>2694.783254</td>\n",
       "      <td>18.511000</td>\n",
       "      <td>2021-08-11</td>\n",
       "      <td>8</td>\n",
       "    </tr>\n",
       "    <tr>\n",
       "      <th>4</th>\n",
       "      <td>1</td>\n",
       "      <td>4028.687306</td>\n",
       "      <td>26.265803</td>\n",
       "      <td>2021-08-28</td>\n",
       "      <td>8</td>\n",
       "    </tr>\n",
       "  </tbody>\n",
       "</table>\n",
       "</div>"
      ],
      "text/plain": [
       "   user_id     distance   duration       date  month\n",
       "0        1  4409.919140  25.599769 2021-01-01      1\n",
       "1        1  2617.592153  15.816871 2021-01-18      1\n",
       "2        1   754.159807   6.232113 2021-04-20      4\n",
       "3        1  2694.783254  18.511000 2021-08-11      8\n",
       "4        1  4028.687306  26.265803 2021-08-28      8"
      ]
     },
     "execution_count": 11,
     "metadata": {},
     "output_type": "execute_result"
    }
   ],
   "source": [
    "rides.head()"
   ]
  },
  {
   "cell_type": "markdown",
   "id": "e5b27e77",
   "metadata": {},
   "source": [
    "### Удалим дубликаты в датафрейме `users`"
   ]
  },
  {
   "cell_type": "markdown",
   "id": "30f3064d",
   "metadata": {},
   "source": [
    "В датафрейме `users` был обнаружен 31 дубликат, удалим их."
   ]
  },
  {
   "cell_type": "code",
   "execution_count": 12,
   "id": "425f178a",
   "metadata": {},
   "outputs": [],
   "source": [
    "users = users.drop_duplicates().reset_index(drop=True)"
   ]
  },
  {
   "cell_type": "markdown",
   "id": "e7f60f9f",
   "metadata": {},
   "source": [
    "Проверим наличие дубликатов в датафрейме `users`"
   ]
  },
  {
   "cell_type": "code",
   "execution_count": 13,
   "id": "bff29b72",
   "metadata": {
    "scrolled": false
   },
   "outputs": [
    {
     "data": {
      "text/plain": [
       "0"
      ]
     },
     "execution_count": 13,
     "metadata": {},
     "output_type": "execute_result"
    }
   ],
   "source": [
    "users.duplicated().sum()"
   ]
  },
  {
   "cell_type": "markdown",
   "id": "c04fb350",
   "metadata": {},
   "source": [
    "### Округлим расстояния в  `rides['distance'] ` методом  `round() ` "
   ]
  },
  {
   "cell_type": "code",
   "execution_count": 14,
   "id": "377a8658",
   "metadata": {},
   "outputs": [
    {
     "data": {
      "text/html": [
       "<div>\n",
       "<style scoped>\n",
       "    .dataframe tbody tr th:only-of-type {\n",
       "        vertical-align: middle;\n",
       "    }\n",
       "\n",
       "    .dataframe tbody tr th {\n",
       "        vertical-align: top;\n",
       "    }\n",
       "\n",
       "    .dataframe thead th {\n",
       "        text-align: right;\n",
       "    }\n",
       "</style>\n",
       "<table border=\"1\" class=\"dataframe\">\n",
       "  <thead>\n",
       "    <tr style=\"text-align: right;\">\n",
       "      <th></th>\n",
       "      <th>user_id</th>\n",
       "      <th>distance</th>\n",
       "      <th>duration</th>\n",
       "      <th>date</th>\n",
       "      <th>month</th>\n",
       "    </tr>\n",
       "  </thead>\n",
       "  <tbody>\n",
       "    <tr>\n",
       "      <th>0</th>\n",
       "      <td>1</td>\n",
       "      <td>4410.0</td>\n",
       "      <td>25.599769</td>\n",
       "      <td>2021-01-01</td>\n",
       "      <td>1</td>\n",
       "    </tr>\n",
       "    <tr>\n",
       "      <th>1</th>\n",
       "      <td>1</td>\n",
       "      <td>2618.0</td>\n",
       "      <td>15.816871</td>\n",
       "      <td>2021-01-18</td>\n",
       "      <td>1</td>\n",
       "    </tr>\n",
       "    <tr>\n",
       "      <th>2</th>\n",
       "      <td>1</td>\n",
       "      <td>754.0</td>\n",
       "      <td>6.232113</td>\n",
       "      <td>2021-04-20</td>\n",
       "      <td>4</td>\n",
       "    </tr>\n",
       "    <tr>\n",
       "      <th>3</th>\n",
       "      <td>1</td>\n",
       "      <td>2695.0</td>\n",
       "      <td>18.511000</td>\n",
       "      <td>2021-08-11</td>\n",
       "      <td>8</td>\n",
       "    </tr>\n",
       "    <tr>\n",
       "      <th>4</th>\n",
       "      <td>1</td>\n",
       "      <td>4029.0</td>\n",
       "      <td>26.265803</td>\n",
       "      <td>2021-08-28</td>\n",
       "      <td>8</td>\n",
       "    </tr>\n",
       "    <tr>\n",
       "      <th>...</th>\n",
       "      <td>...</td>\n",
       "      <td>...</td>\n",
       "      <td>...</td>\n",
       "      <td>...</td>\n",
       "      <td>...</td>\n",
       "    </tr>\n",
       "    <tr>\n",
       "      <th>18063</th>\n",
       "      <td>1534</td>\n",
       "      <td>3781.0</td>\n",
       "      <td>19.822962</td>\n",
       "      <td>2021-11-04</td>\n",
       "      <td>11</td>\n",
       "    </tr>\n",
       "    <tr>\n",
       "      <th>18064</th>\n",
       "      <td>1534</td>\n",
       "      <td>2840.0</td>\n",
       "      <td>21.409799</td>\n",
       "      <td>2021-11-16</td>\n",
       "      <td>11</td>\n",
       "    </tr>\n",
       "    <tr>\n",
       "      <th>18065</th>\n",
       "      <td>1534</td>\n",
       "      <td>3826.0</td>\n",
       "      <td>18.435051</td>\n",
       "      <td>2021-11-18</td>\n",
       "      <td>11</td>\n",
       "    </tr>\n",
       "    <tr>\n",
       "      <th>18066</th>\n",
       "      <td>1534</td>\n",
       "      <td>2902.0</td>\n",
       "      <td>16.674362</td>\n",
       "      <td>2021-11-27</td>\n",
       "      <td>11</td>\n",
       "    </tr>\n",
       "    <tr>\n",
       "      <th>18067</th>\n",
       "      <td>1534</td>\n",
       "      <td>2372.0</td>\n",
       "      <td>15.893917</td>\n",
       "      <td>2021-12-29</td>\n",
       "      <td>12</td>\n",
       "    </tr>\n",
       "  </tbody>\n",
       "</table>\n",
       "<p>18068 rows × 5 columns</p>\n",
       "</div>"
      ],
      "text/plain": [
       "       user_id  distance   duration       date  month\n",
       "0            1    4410.0  25.599769 2021-01-01      1\n",
       "1            1    2618.0  15.816871 2021-01-18      1\n",
       "2            1     754.0   6.232113 2021-04-20      4\n",
       "3            1    2695.0  18.511000 2021-08-11      8\n",
       "4            1    4029.0  26.265803 2021-08-28      8\n",
       "...        ...       ...        ...        ...    ...\n",
       "18063     1534    3781.0  19.822962 2021-11-04     11\n",
       "18064     1534    2840.0  21.409799 2021-11-16     11\n",
       "18065     1534    3826.0  18.435051 2021-11-18     11\n",
       "18066     1534    2902.0  16.674362 2021-11-27     11\n",
       "18067     1534    2372.0  15.893917 2021-12-29     12\n",
       "\n",
       "[18068 rows x 5 columns]"
      ]
     },
     "execution_count": 14,
     "metadata": {},
     "output_type": "execute_result"
    }
   ],
   "source": [
    "rides['distance'] = rides['distance'].round()\n",
    "rides"
   ]
  },
  {
   "cell_type": "markdown",
   "id": "902f8416",
   "metadata": {},
   "source": [
    "### Проверим столбец `rides['duration']` на предмет наличия аномалий."
   ]
  },
  {
   "cell_type": "code",
   "execution_count": 15,
   "id": "ead83998",
   "metadata": {},
   "outputs": [
    {
     "data": {
      "text/plain": [
       "count    18068.000000\n",
       "mean        17.805011\n",
       "std          6.091051\n",
       "min          0.500000\n",
       "25%         13.597563\n",
       "50%         17.678395\n",
       "75%         21.724800\n",
       "max         40.823963\n",
       "Name: duration, dtype: float64"
      ]
     },
     "execution_count": 15,
     "metadata": {},
     "output_type": "execute_result"
    }
   ],
   "source": [
    "rides['duration'].describe()"
   ]
  },
  {
   "cell_type": "markdown",
   "id": "77073e18",
   "metadata": {},
   "source": [
    "Большинство пользователей используют самокаты от 13 до 21 минуты, но встречаются и случаи кратковременного использования: 0.5 минуты, возможно, это ошибочные \"старты\", так же встречается и длительное использование: 40 минут, возможно, человек так долго использовал самокат."
   ]
  },
  {
   "cell_type": "markdown",
   "id": "8657d0ac",
   "metadata": {},
   "source": [
    "**Вывод**\n",
    "* У нас имеются данные за период с 2021-01-01 по 2021-12-30    \n",
    "* Создали столбец `month` с номером месяца на основе столбца `date`\n",
    "* В датафрейме `users` удалили 31 дубликат\n",
    "* Округлили расстояния в `rides['distance']` для удобства восприятия данных\n",
    "* Проверили столбец `rides['duration']` на наличие аномалий"
   ]
  },
  {
   "cell_type": "markdown",
   "id": "212593c7",
   "metadata": {},
   "source": [
    "## Выполним исследовательский анализ данных"
   ]
  },
  {
   "cell_type": "markdown",
   "id": "88707b5e",
   "metadata": {},
   "source": [
    "Опишем и визуализируем общую информацию о пользователях и поездках"
   ]
  },
  {
   "cell_type": "markdown",
   "id": "ac09301a",
   "metadata": {},
   "source": [
    "###  Частота встречаемости городов"
   ]
  },
  {
   "cell_type": "code",
   "execution_count": 16,
   "id": "f1fe80b2",
   "metadata": {},
   "outputs": [
    {
     "data": {
      "text/plain": [
       "Text(0, 0.5, 'Частота')"
      ]
     },
     "execution_count": 16,
     "metadata": {},
     "output_type": "execute_result"
    },
    {
     "data": {
      "image/png": "[encoded data removed]",
      "text/plain": [
       "<Figure size 1000x600 with 1 Axes>"
      ]
     },
     "metadata": {},
     "output_type": "display_data"
    }
   ],
   "source": [
    "# Создаем график\n",
    "plt.figure(figsize=(10, 6))\n",
    "\n",
    "# Строим столбчатую диаграмму\n",
    "users['city'].value_counts().plot.bar()\n",
    "\n",
    "# Добавляем подписи\n",
    "plt.title('Частота встречаемости городов')\n",
    "plt.xlabel('Города')\n",
    "plt.ylabel('Частота')"
   ]
  },
  {
   "cell_type": "markdown",
   "id": "064cdd24",
   "metadata": {},
   "source": [
    "Выведем количество пользователей по городам"
   ]
  },
  {
   "cell_type": "code",
   "execution_count": 17,
   "id": "899060a0",
   "metadata": {},
   "outputs": [
    {
     "data": {
      "text/plain": [
       "Пятигорск         219\n",
       "Екатеринбург      204\n",
       "Ростов-на-Дону    198\n",
       "Краснодар         193\n",
       "Сочи              189\n",
       "Омск              183\n",
       "Тюмень            180\n",
       "Москва            168\n",
       "Name: city, dtype: int64"
      ]
     },
     "execution_count": 17,
     "metadata": {},
     "output_type": "execute_result"
    }
   ],
   "source": [
    "users['city'].value_counts()"
   ]
  },
  {
   "cell_type": "markdown",
   "id": "95f5370a",
   "metadata": {},
   "source": [
    "Большинство пользователей из Пятигорска, но в остальных городах пользователей не намного меньше."
   ]
  },
  {
   "cell_type": "markdown",
   "id": "896dfcc6",
   "metadata": {},
   "source": [
    "### Соотношение пользователей с подпиской и без подписки"
   ]
  },
  {
   "cell_type": "code",
   "execution_count": 18,
   "id": "b1855164",
   "metadata": {},
   "outputs": [
    {
     "data": {
      "text/plain": [
       "Text(0, 0.5, 'Частота')"
      ]
     },
     "execution_count": 18,
     "metadata": {},
     "output_type": "execute_result"
    },
    {
     "data": {
      "image/png": "[encoded data removed]",
      "text/plain": [
       "<Figure size 1000x600 with 1 Axes>"
      ]
     },
     "metadata": {},
     "output_type": "display_data"
    }
   ],
   "source": [
    "# Создаем график\n",
    "plt.figure(figsize=(10, 6))\n",
    "\n",
    "# Строим столбчатую диаграмму\n",
    "users['subscription_type'].value_counts().plot.pie()\n",
    "\n",
    "# Добавляем подписи\n",
    "plt.title('Соотношение пользователей с подпиской и без подписки')\n",
    "plt.ylabel('Частота')"
   ]
  },
  {
   "cell_type": "code",
   "execution_count": 19,
   "id": "7acde024",
   "metadata": {},
   "outputs": [
    {
     "data": {
      "text/plain": [
       "free     0.544329\n",
       "ultra    0.455671\n",
       "Name: subscription_type, dtype: float64"
      ]
     },
     "execution_count": 19,
     "metadata": {},
     "output_type": "execute_result"
    }
   ],
   "source": [
    "users['subscription_type'].value_counts(normalize=True)"
   ]
  },
  {
   "cell_type": "markdown",
   "id": "cefdf5ca",
   "metadata": {},
   "source": [
    "Большинство пользователей пользуется подпиской free"
   ]
  },
  {
   "cell_type": "markdown",
   "id": "44a6e17e",
   "metadata": {},
   "source": [
    "### Возраст пользователей"
   ]
  },
  {
   "cell_type": "code",
   "execution_count": 20,
   "id": "899ea796",
   "metadata": {},
   "outputs": [
    {
     "data": {
      "image/png": "[encoded data removed]",
      "text/plain": [
       "<Figure size 1000x600 with 1 Axes>"
      ]
     },
     "metadata": {},
     "output_type": "display_data"
    }
   ],
   "source": [
    "# Создаем график\n",
    "plt.figure(figsize=(10, 6))\n",
    "\n",
    "# Строим гистограмму\n",
    "plt.hist(users['age'])\n",
    "\n",
    "# Добавляем подписи\n",
    "plt.title('Возраст пользователей')\n",
    "plt.xlabel('Возраст')\n",
    "plt.ylabel('Частота')\n",
    "\n",
    "# Показываем график\n",
    "plt.show()"
   ]
  },
  {
   "cell_type": "code",
   "execution_count": 21,
   "id": "8bc9422f",
   "metadata": {},
   "outputs": [
    {
     "data": {
      "text/plain": [
       "count    1534.000000\n",
       "mean       24.903520\n",
       "std         4.572367\n",
       "min        12.000000\n",
       "25%        22.000000\n",
       "50%        25.000000\n",
       "75%        28.000000\n",
       "max        43.000000\n",
       "Name: age, dtype: float64"
      ]
     },
     "execution_count": 21,
     "metadata": {},
     "output_type": "execute_result"
    }
   ],
   "source": [
    "users['age'].describe() "
   ]
  },
  {
   "cell_type": "markdown",
   "id": "9f7e222e",
   "metadata": {},
   "source": [
    "Возраст пользователей имеет распределение близкое к нормальному, большинство пользователей возрастом около 25 лет."
   ]
  },
  {
   "cell_type": "markdown",
   "id": "7b2c6b91",
   "metadata": {},
   "source": [
    "### Расстояние, которое пользователь преодолел за одну поездку"
   ]
  },
  {
   "cell_type": "code",
   "execution_count": 22,
   "id": "bb3ef045",
   "metadata": {},
   "outputs": [
    {
     "data": {
      "image/png": "[encoded data removed]",
      "text/plain": [
       "<Figure size 1000x600 with 1 Axes>"
      ]
     },
     "metadata": {},
     "output_type": "display_data"
    }
   ],
   "source": [
    "# Создаем график\n",
    "plt.figure(figsize=(10, 6))\n",
    "\n",
    "# Строим гистограмму\n",
    "plt.hist(rides['distance'], bins=100)\n",
    "\n",
    "# Добавляем подписи\n",
    "plt.title('Расстояние, которое пользователь преодолел за одну поездку')\n",
    "plt.xlabel('Преодолённое расстояние, м')\n",
    "plt.ylabel('Частота')\n",
    "\n",
    "# Показываем график\n",
    "plt.show()"
   ]
  },
  {
   "cell_type": "code",
   "execution_count": 23,
   "id": "c84f627d",
   "metadata": {},
   "outputs": [
    {
     "data": {
      "text/plain": [
       "count    18068.000000\n",
       "mean      3070.659010\n",
       "std       1116.832209\n",
       "min          1.000000\n",
       "25%       2543.000000\n",
       "50%       3134.000000\n",
       "75%       3776.000000\n",
       "max       7211.000000\n",
       "Name: distance, dtype: float64"
      ]
     },
     "execution_count": 23,
     "metadata": {},
     "output_type": "execute_result"
    }
   ],
   "source": [
    "rides['distance'].describe() "
   ]
  },
  {
   "cell_type": "markdown",
   "id": "2dfd6dd4",
   "metadata": {},
   "source": [
    "Расстоение, которое пользователи преодолевают за одну поездку имеет распределение близкое к нормальному, с медианнымм значением 3133.6, но с всплеском в начале распределения на значении около 700. Большинство пользователей преодолевают расстояние от 2.5 км до 3.8 км"
   ]
  },
  {
   "cell_type": "markdown",
   "id": "4072a0b4",
   "metadata": {},
   "source": [
    "### Продолжительность поездок"
   ]
  },
  {
   "cell_type": "code",
   "execution_count": 24,
   "id": "3ab96a90",
   "metadata": {},
   "outputs": [
    {
     "data": {
      "image/png": "[encoded data removed]",
      "text/plain": [
       "<Figure size 1000x600 with 1 Axes>"
      ]
     },
     "metadata": {},
     "output_type": "display_data"
    }
   ],
   "source": [
    "# Создаем график\n",
    "plt.figure(figsize=(10, 6))\n",
    "\n",
    "# Строим гистограмму\n",
    "plt.hist(rides['duration'], bins=100)\n",
    "\n",
    "# Добавляем подписи\n",
    "plt.title('Продолжительность поездок')\n",
    "plt.xlabel('Продолжительность сессии, мин')\n",
    "plt.ylabel('Частота')\n",
    "\n",
    "# Показываем график\n",
    "plt.show()"
   ]
  },
  {
   "cell_type": "code",
   "execution_count": 25,
   "id": "15f5bd24",
   "metadata": {},
   "outputs": [
    {
     "data": {
      "text/plain": [
       "count    18068.000000\n",
       "mean        17.805011\n",
       "std          6.091051\n",
       "min          0.500000\n",
       "25%         13.597563\n",
       "50%         17.678395\n",
       "75%         21.724800\n",
       "max         40.823963\n",
       "Name: duration, dtype: float64"
      ]
     },
     "execution_count": 25,
     "metadata": {},
     "output_type": "execute_result"
    }
   ],
   "source": [
    "rides['duration'].describe() "
   ]
  },
  {
   "cell_type": "markdown",
   "id": "4a410246",
   "metadata": {},
   "source": [
    "Продолжительность поездок имеет распределение бликое к нормальному с медианным значением около 17 и с всплеском около 0. Большинство поездок продолжается от 13 до 22 минут"
   ]
  },
  {
   "cell_type": "markdown",
   "id": "9c545b96",
   "metadata": {},
   "source": [
    "**Вывод**\n",
    "\n",
    "Большинство пользователей сервиса аренды самокатов  GoFast из Пятигорска, но пользователи из других городов встречаются тоже достаточно часто, они чаще всего используют подписку free, их возраст около 22-28 лет, преодолевают в основном расстояние от 2.5 км до 3.8 км, а продолжительность поездки составляет от 13 до 22 минут."
   ]
  },
  {
   "cell_type": "markdown",
   "id": "4ef51331",
   "metadata": {},
   "source": [
    "## Объединим данные"
   ]
  },
  {
   "cell_type": "markdown",
   "id": "aa89a92a",
   "metadata": {},
   "source": [
    "### Объединим данные о пользователях, поездках и подписках в один датафрейм используя метод merge()"
   ]
  },
  {
   "cell_type": "markdown",
   "id": "8291821e",
   "metadata": {},
   "source": [
    "Посмотрим исходную размерность датасета `rides`"
   ]
  },
  {
   "cell_type": "code",
   "execution_count": 26,
   "id": "5a7580d2",
   "metadata": {},
   "outputs": [
    {
     "data": {
      "text/plain": [
       "(18068, 5)"
      ]
     },
     "execution_count": 26,
     "metadata": {},
     "output_type": "execute_result"
    }
   ],
   "source": [
    "rides.shape"
   ]
  },
  {
   "cell_type": "markdown",
   "id": "48dfc685",
   "metadata": {},
   "source": [
    "Выполним объединение датасетов `rides` и `users` по общему столбцу `user_id`"
   ]
  },
  {
   "cell_type": "code",
   "execution_count": 27,
   "id": "02083cb5",
   "metadata": {},
   "outputs": [],
   "source": [
    "full = rides.merge(\n",
    "    users,\n",
    "    on='user_id',\n",
    "    how='left'\n",
    ")"
   ]
  },
  {
   "cell_type": "markdown",
   "id": "70d924b5",
   "metadata": {},
   "source": [
    "Посмотрим размерность датасета `full`, после объединения датасетов"
   ]
  },
  {
   "cell_type": "code",
   "execution_count": 28,
   "id": "b866006e",
   "metadata": {},
   "outputs": [
    {
     "data": {
      "text/plain": [
       "(18068, 9)"
      ]
     },
     "execution_count": 28,
     "metadata": {},
     "output_type": "execute_result"
    }
   ],
   "source": [
    "full.shape"
   ]
  },
  {
   "cell_type": "markdown",
   "id": "3a549f95",
   "metadata": {},
   "source": [
    "Количество строк в датасетах до объединения и после совпало"
   ]
  },
  {
   "cell_type": "markdown",
   "id": "4e94788a",
   "metadata": {},
   "source": [
    "Выполним объединение датасетов `full` и `subscriptions` по общему столбцу `subscription_type`"
   ]
  },
  {
   "cell_type": "code",
   "execution_count": 29,
   "id": "439cb3af",
   "metadata": {},
   "outputs": [],
   "source": [
    "full = full.merge(\n",
    "    subscriptions,\n",
    "    on='subscription_type',\n",
    "    how='left'\n",
    ")"
   ]
  },
  {
   "cell_type": "markdown",
   "id": "25b6fec7",
   "metadata": {},
   "source": [
    "Посмотрим размерность датасета `full`, после объединения датасетов"
   ]
  },
  {
   "cell_type": "code",
   "execution_count": 30,
   "id": "354e73f2",
   "metadata": {},
   "outputs": [
    {
     "data": {
      "text/plain": [
       "(18068, 12)"
      ]
     },
     "execution_count": 30,
     "metadata": {},
     "output_type": "execute_result"
    }
   ],
   "source": [
    "full.shape"
   ]
  },
  {
   "cell_type": "markdown",
   "id": "e2e2c650",
   "metadata": {},
   "source": [
    "Количество строк в датасетах до объединения и после совпало"
   ]
  },
  {
   "cell_type": "markdown",
   "id": "4b89a57d",
   "metadata": {},
   "source": [
    "Проверим наличие пропусков в объединенном датасете"
   ]
  },
  {
   "cell_type": "code",
   "execution_count": 31,
   "id": "6b5826df",
   "metadata": {
    "scrolled": true
   },
   "outputs": [
    {
     "data": {
      "text/plain": [
       "user_id              0\n",
       "distance             0\n",
       "duration             0\n",
       "date                 0\n",
       "month                0\n",
       "name                 0\n",
       "age                  0\n",
       "city                 0\n",
       "subscription_type    0\n",
       "minute_price         0\n",
       "start_ride_price     0\n",
       "subscription_fee     0\n",
       "dtype: int64"
      ]
     },
     "execution_count": 31,
     "metadata": {},
     "output_type": "execute_result"
    }
   ],
   "source": [
    "full.isna().sum()"
   ]
  },
  {
   "cell_type": "markdown",
   "id": "5414ebf9",
   "metadata": {},
   "source": [
    "Пропуски отсутствуют"
   ]
  },
  {
   "cell_type": "markdown",
   "id": "d6e5fc37",
   "metadata": {},
   "source": [
    "### Создадим датафрейм c данными о пользователях без подписки из датафрейма `full`"
   ]
  },
  {
   "cell_type": "code",
   "execution_count": 32,
   "id": "019b8f35",
   "metadata": {
    "scrolled": true
   },
   "outputs": [
    {
     "data": {
      "text/html": [
       "<div>\n",
       "<style scoped>\n",
       "    .dataframe tbody tr th:only-of-type {\n",
       "        vertical-align: middle;\n",
       "    }\n",
       "\n",
       "    .dataframe tbody tr th {\n",
       "        vertical-align: top;\n",
       "    }\n",
       "\n",
       "    .dataframe thead th {\n",
       "        text-align: right;\n",
       "    }\n",
       "</style>\n",
       "<table border=\"1\" class=\"dataframe\">\n",
       "  <thead>\n",
       "    <tr style=\"text-align: right;\">\n",
       "      <th></th>\n",
       "      <th>user_id</th>\n",
       "      <th>distance</th>\n",
       "      <th>duration</th>\n",
       "      <th>date</th>\n",
       "      <th>month</th>\n",
       "      <th>name</th>\n",
       "      <th>age</th>\n",
       "      <th>city</th>\n",
       "      <th>subscription_type</th>\n",
       "      <th>minute_price</th>\n",
       "      <th>start_ride_price</th>\n",
       "      <th>subscription_fee</th>\n",
       "    </tr>\n",
       "  </thead>\n",
       "  <tbody>\n",
       "    <tr>\n",
       "      <th>6500</th>\n",
       "      <td>700</td>\n",
       "      <td>2516.0</td>\n",
       "      <td>14.944286</td>\n",
       "      <td>2021-01-02</td>\n",
       "      <td>1</td>\n",
       "      <td>Айдар</td>\n",
       "      <td>22</td>\n",
       "      <td>Омск</td>\n",
       "      <td>free</td>\n",
       "      <td>8</td>\n",
       "      <td>50</td>\n",
       "      <td>0</td>\n",
       "    </tr>\n",
       "    <tr>\n",
       "      <th>6501</th>\n",
       "      <td>700</td>\n",
       "      <td>847.0</td>\n",
       "      <td>16.234663</td>\n",
       "      <td>2021-02-01</td>\n",
       "      <td>2</td>\n",
       "      <td>Айдар</td>\n",
       "      <td>22</td>\n",
       "      <td>Омск</td>\n",
       "      <td>free</td>\n",
       "      <td>8</td>\n",
       "      <td>50</td>\n",
       "      <td>0</td>\n",
       "    </tr>\n",
       "    <tr>\n",
       "      <th>6502</th>\n",
       "      <td>700</td>\n",
       "      <td>4004.0</td>\n",
       "      <td>20.016628</td>\n",
       "      <td>2021-02-04</td>\n",
       "      <td>2</td>\n",
       "      <td>Айдар</td>\n",
       "      <td>22</td>\n",
       "      <td>Омск</td>\n",
       "      <td>free</td>\n",
       "      <td>8</td>\n",
       "      <td>50</td>\n",
       "      <td>0</td>\n",
       "    </tr>\n",
       "    <tr>\n",
       "      <th>6503</th>\n",
       "      <td>700</td>\n",
       "      <td>1206.0</td>\n",
       "      <td>9.782872</td>\n",
       "      <td>2021-02-10</td>\n",
       "      <td>2</td>\n",
       "      <td>Айдар</td>\n",
       "      <td>22</td>\n",
       "      <td>Омск</td>\n",
       "      <td>free</td>\n",
       "      <td>8</td>\n",
       "      <td>50</td>\n",
       "      <td>0</td>\n",
       "    </tr>\n",
       "    <tr>\n",
       "      <th>6504</th>\n",
       "      <td>700</td>\n",
       "      <td>3047.0</td>\n",
       "      <td>17.427673</td>\n",
       "      <td>2021-02-14</td>\n",
       "      <td>2</td>\n",
       "      <td>Айдар</td>\n",
       "      <td>22</td>\n",
       "      <td>Омск</td>\n",
       "      <td>free</td>\n",
       "      <td>8</td>\n",
       "      <td>50</td>\n",
       "      <td>0</td>\n",
       "    </tr>\n",
       "  </tbody>\n",
       "</table>\n",
       "</div>"
      ],
      "text/plain": [
       "      user_id  distance   duration       date  month   name  age  city  \\\n",
       "6500      700    2516.0  14.944286 2021-01-02      1  Айдар   22  Омск   \n",
       "6501      700     847.0  16.234663 2021-02-01      2  Айдар   22  Омск   \n",
       "6502      700    4004.0  20.016628 2021-02-04      2  Айдар   22  Омск   \n",
       "6503      700    1206.0   9.782872 2021-02-10      2  Айдар   22  Омск   \n",
       "6504      700    3047.0  17.427673 2021-02-14      2  Айдар   22  Омск   \n",
       "\n",
       "     subscription_type  minute_price  start_ride_price  subscription_fee  \n",
       "6500              free             8                50                 0  \n",
       "6501              free             8                50                 0  \n",
       "6502              free             8                50                 0  \n",
       "6503              free             8                50                 0  \n",
       "6504              free             8                50                 0  "
      ]
     },
     "execution_count": 32,
     "metadata": {},
     "output_type": "execute_result"
    }
   ],
   "source": [
    "users_without_subscriptions = full.query('subscription_type in \"free\"')\n",
    "users_without_subscriptions.head()"
   ]
  },
  {
   "cell_type": "markdown",
   "id": "1b6b9bd8",
   "metadata": {},
   "source": [
    "### Создадим датафрейм c данными о пользователях с подпиской из датафрейма `full`"
   ]
  },
  {
   "cell_type": "code",
   "execution_count": 33,
   "id": "6c019545",
   "metadata": {},
   "outputs": [
    {
     "data": {
      "text/html": [
       "<div>\n",
       "<style scoped>\n",
       "    .dataframe tbody tr th:only-of-type {\n",
       "        vertical-align: middle;\n",
       "    }\n",
       "\n",
       "    .dataframe tbody tr th {\n",
       "        vertical-align: top;\n",
       "    }\n",
       "\n",
       "    .dataframe thead th {\n",
       "        text-align: right;\n",
       "    }\n",
       "</style>\n",
       "<table border=\"1\" class=\"dataframe\">\n",
       "  <thead>\n",
       "    <tr style=\"text-align: right;\">\n",
       "      <th></th>\n",
       "      <th>user_id</th>\n",
       "      <th>distance</th>\n",
       "      <th>duration</th>\n",
       "      <th>date</th>\n",
       "      <th>month</th>\n",
       "      <th>name</th>\n",
       "      <th>age</th>\n",
       "      <th>city</th>\n",
       "      <th>subscription_type</th>\n",
       "      <th>minute_price</th>\n",
       "      <th>start_ride_price</th>\n",
       "      <th>subscription_fee</th>\n",
       "    </tr>\n",
       "  </thead>\n",
       "  <tbody>\n",
       "    <tr>\n",
       "      <th>0</th>\n",
       "      <td>1</td>\n",
       "      <td>4410.0</td>\n",
       "      <td>25.599769</td>\n",
       "      <td>2021-01-01</td>\n",
       "      <td>1</td>\n",
       "      <td>Кира</td>\n",
       "      <td>22</td>\n",
       "      <td>Тюмень</td>\n",
       "      <td>ultra</td>\n",
       "      <td>6</td>\n",
       "      <td>0</td>\n",
       "      <td>199</td>\n",
       "    </tr>\n",
       "    <tr>\n",
       "      <th>1</th>\n",
       "      <td>1</td>\n",
       "      <td>2618.0</td>\n",
       "      <td>15.816871</td>\n",
       "      <td>2021-01-18</td>\n",
       "      <td>1</td>\n",
       "      <td>Кира</td>\n",
       "      <td>22</td>\n",
       "      <td>Тюмень</td>\n",
       "      <td>ultra</td>\n",
       "      <td>6</td>\n",
       "      <td>0</td>\n",
       "      <td>199</td>\n",
       "    </tr>\n",
       "    <tr>\n",
       "      <th>2</th>\n",
       "      <td>1</td>\n",
       "      <td>754.0</td>\n",
       "      <td>6.232113</td>\n",
       "      <td>2021-04-20</td>\n",
       "      <td>4</td>\n",
       "      <td>Кира</td>\n",
       "      <td>22</td>\n",
       "      <td>Тюмень</td>\n",
       "      <td>ultra</td>\n",
       "      <td>6</td>\n",
       "      <td>0</td>\n",
       "      <td>199</td>\n",
       "    </tr>\n",
       "    <tr>\n",
       "      <th>3</th>\n",
       "      <td>1</td>\n",
       "      <td>2695.0</td>\n",
       "      <td>18.511000</td>\n",
       "      <td>2021-08-11</td>\n",
       "      <td>8</td>\n",
       "      <td>Кира</td>\n",
       "      <td>22</td>\n",
       "      <td>Тюмень</td>\n",
       "      <td>ultra</td>\n",
       "      <td>6</td>\n",
       "      <td>0</td>\n",
       "      <td>199</td>\n",
       "    </tr>\n",
       "    <tr>\n",
       "      <th>4</th>\n",
       "      <td>1</td>\n",
       "      <td>4029.0</td>\n",
       "      <td>26.265803</td>\n",
       "      <td>2021-08-28</td>\n",
       "      <td>8</td>\n",
       "      <td>Кира</td>\n",
       "      <td>22</td>\n",
       "      <td>Тюмень</td>\n",
       "      <td>ultra</td>\n",
       "      <td>6</td>\n",
       "      <td>0</td>\n",
       "      <td>199</td>\n",
       "    </tr>\n",
       "  </tbody>\n",
       "</table>\n",
       "</div>"
      ],
      "text/plain": [
       "   user_id  distance   duration       date  month  name  age    city  \\\n",
       "0        1    4410.0  25.599769 2021-01-01      1  Кира   22  Тюмень   \n",
       "1        1    2618.0  15.816871 2021-01-18      1  Кира   22  Тюмень   \n",
       "2        1     754.0   6.232113 2021-04-20      4  Кира   22  Тюмень   \n",
       "3        1    2695.0  18.511000 2021-08-11      8  Кира   22  Тюмень   \n",
       "4        1    4029.0  26.265803 2021-08-28      8  Кира   22  Тюмень   \n",
       "\n",
       "  subscription_type  minute_price  start_ride_price  subscription_fee  \n",
       "0             ultra             6                 0               199  \n",
       "1             ultra             6                 0               199  \n",
       "2             ultra             6                 0               199  \n",
       "3             ultra             6                 0               199  \n",
       "4             ultra             6                 0               199  "
      ]
     },
     "execution_count": 33,
     "metadata": {},
     "output_type": "execute_result"
    }
   ],
   "source": [
    "users_with_subscriptions = full.query('subscription_type in \"ultra\"')\n",
    "users_with_subscriptions.head()"
   ]
  },
  {
   "cell_type": "markdown",
   "id": "4e911b0c",
   "metadata": {},
   "source": [
    "### Визуализируем информацию о расстоянии и времени поездок для пользователей обеих категорий"
   ]
  },
  {
   "cell_type": "markdown",
   "id": "bf2bcb3f",
   "metadata": {},
   "source": [
    "#### Расстояние"
   ]
  },
  {
   "cell_type": "code",
   "execution_count": 34,
   "id": "1c9dd805",
   "metadata": {},
   "outputs": [
    {
     "data": {
      "image/png": "[encoded data removed]",
      "text/plain": [
       "<Figure size 1000x600 with 1 Axes>"
      ]
     },
     "metadata": {},
     "output_type": "display_data"
    }
   ],
   "source": [
    "# Создаем график\n",
    "plt.figure(figsize=(10, 6))\n",
    "\n",
    "# Строим гистограмму для users_without_subscriptions\n",
    "plt.hist(users_without_subscriptions['distance'], bins=100, alpha=0.5, label='Пользователи без подписки')\n",
    "\n",
    "# Строим гистограмму для users_with_subscriptions\n",
    "plt.hist(users_with_subscriptions['distance'], bins=100, alpha=0.5, label='Пользователи с подпиской')\n",
    "\n",
    "# Добавляем подписи\n",
    "plt.title('Расстояние поездок для пользователей с подпиской и без')\n",
    "plt.xlabel('Расстояние поездок, м')\n",
    "plt.ylabel('Частота')\n",
    "\n",
    "# Добавляем легенду\n",
    "plt.legend()\n",
    "\n",
    "# Показываем график\n",
    "plt.show()"
   ]
  },
  {
   "cell_type": "markdown",
   "id": "6aa434bc",
   "metadata": {},
   "source": [
    "Пользователи без подписки часто используют самокат на короткое расстояние до 1 км, но большая часть пользователей использует самокат для поездок от 2 до 5 км. Пользователи с подпиской чаще используют самокат на короткое расстояние от 500 м до 1,5 км, но большая часть пользователей использует самокат для поездок от 2,5 до 4,5 км."
   ]
  },
  {
   "cell_type": "markdown",
   "id": "52fe0a46",
   "metadata": {},
   "source": [
    "#### Время поездок"
   ]
  },
  {
   "cell_type": "code",
   "execution_count": 35,
   "id": "3fe3f502",
   "metadata": {},
   "outputs": [
    {
     "data": {
      "image/png": "[encoded data removed]",
      "text/plain": [
       "<Figure size 1000x600 with 1 Axes>"
      ]
     },
     "metadata": {},
     "output_type": "display_data"
    }
   ],
   "source": [
    "# Создаем график\n",
    "plt.figure(figsize=(10, 6))\n",
    "\n",
    "# Строим гистограмму для users_without_subscriptions\n",
    "plt.hist(users_without_subscriptions['duration'], bins=100, alpha=0.5, label='Пользователи без подписки')\n",
    "\n",
    "# Строим гистограмму для users_with_subscriptions\n",
    "plt.hist(users_with_subscriptions['duration'], bins=100, alpha=0.5, label='Пользователи с подпиской')\n",
    "\n",
    "# Добавляем подписи\n",
    "plt.title('Время поездок для пользователей с подпиской и без')\n",
    "plt.xlabel('Продолжительность сессии, мин')\n",
    "plt.ylabel('Частота')\n",
    "\n",
    "# Добавляем легенду\n",
    "plt.legend()\n",
    "\n",
    "# Показываем график\n",
    "plt.show()"
   ]
  },
  {
   "cell_type": "markdown",
   "id": "eab26062",
   "metadata": {},
   "source": [
    "Пользователи с подпиской и без неё чаще всего используют самокат примерно от 10 до 27 минут. У пользователей без подписки на графике есть всплеск около 0, возможно, это случайные \"старты\" из-за неопытности пользователей."
   ]
  },
  {
   "cell_type": "markdown",
   "id": "f9281ab2",
   "metadata": {},
   "source": [
    "**Вывод**\n",
    "\n",
    "* Мы объеденили данные о пользователях, поездках и подписках в один датафрейм и создали отдельные датафреймы с пользователями с подпиской и без.\n",
    "\n",
    "* Пользователи с подпиской и без неё чаще всего используют самокат на короткое расстояние около 1 км, но большая часть пользователей использует самокат для поездок от 2,5 до 4,5 км. примерно от 10 до 27 минут. У пользователей без подписки на графике есть всплеск около 0, возможно, это случайные \"старты\" из-за неопытности пользователей.\n",
    "\n",
    "* По графику мы можем увидеть, что пользователи без подписки чаще пользуются самокатами, что можно подтвердить соотношением пользователей с подпиской и без, которое мы посчитали ранее. \n",
    "\n",
    "* Распределение расстояния и времени поездкок схожи, т.к. это взаимосвязанные переменные."
   ]
  },
  {
   "cell_type": "markdown",
   "id": "402d620f",
   "metadata": {},
   "source": [
    "## Подсчитаем выручку"
   ]
  },
  {
   "cell_type": "markdown",
   "id": "891c4022",
   "metadata": {},
   "source": [
    "### Создадим датафрейм с агрегированными данными о поездках на основе датафрейма с объединёнными данными `full`"
   ]
  },
  {
   "cell_type": "markdown",
   "id": "b22cb946",
   "metadata": {},
   "source": [
    "Найдём суммарное расстояние, количество поездок и суммарное время для каждого пользователя за каждый месяц"
   ]
  },
  {
   "cell_type": "code",
   "execution_count": 36,
   "id": "095b2f65",
   "metadata": {},
   "outputs": [
    {
     "data": {
      "text/html": [
       "<div>\n",
       "<style scoped>\n",
       "    .dataframe tbody tr th:only-of-type {\n",
       "        vertical-align: middle;\n",
       "    }\n",
       "\n",
       "    .dataframe tbody tr th {\n",
       "        vertical-align: top;\n",
       "    }\n",
       "\n",
       "    .dataframe thead th {\n",
       "        text-align: right;\n",
       "    }\n",
       "</style>\n",
       "<table border=\"1\" class=\"dataframe\">\n",
       "  <thead>\n",
       "    <tr style=\"text-align: right;\">\n",
       "      <th></th>\n",
       "      <th>user_id</th>\n",
       "      <th>month</th>\n",
       "      <th>total_distance</th>\n",
       "      <th>trip_count</th>\n",
       "      <th>total_duration</th>\n",
       "    </tr>\n",
       "  </thead>\n",
       "  <tbody>\n",
       "    <tr>\n",
       "      <th>0</th>\n",
       "      <td>1</td>\n",
       "      <td>1</td>\n",
       "      <td>7028.0</td>\n",
       "      <td>2</td>\n",
       "      <td>41.416640</td>\n",
       "    </tr>\n",
       "    <tr>\n",
       "      <th>1</th>\n",
       "      <td>1</td>\n",
       "      <td>4</td>\n",
       "      <td>754.0</td>\n",
       "      <td>1</td>\n",
       "      <td>6.232113</td>\n",
       "    </tr>\n",
       "    <tr>\n",
       "      <th>2</th>\n",
       "      <td>1</td>\n",
       "      <td>8</td>\n",
       "      <td>6724.0</td>\n",
       "      <td>2</td>\n",
       "      <td>44.776802</td>\n",
       "    </tr>\n",
       "    <tr>\n",
       "      <th>3</th>\n",
       "      <td>1</td>\n",
       "      <td>10</td>\n",
       "      <td>5810.0</td>\n",
       "      <td>2</td>\n",
       "      <td>31.578017</td>\n",
       "    </tr>\n",
       "    <tr>\n",
       "      <th>4</th>\n",
       "      <td>1</td>\n",
       "      <td>11</td>\n",
       "      <td>7004.0</td>\n",
       "      <td>3</td>\n",
       "      <td>53.397424</td>\n",
       "    </tr>\n",
       "  </tbody>\n",
       "</table>\n",
       "</div>"
      ],
      "text/plain": [
       "   user_id  month  total_distance  trip_count  total_duration\n",
       "0        1      1          7028.0           2       41.416640\n",
       "1        1      4           754.0           1        6.232113\n",
       "2        1      8          6724.0           2       44.776802\n",
       "3        1     10          5810.0           2       31.578017\n",
       "4        1     11          7004.0           3       53.397424"
      ]
     },
     "execution_count": 36,
     "metadata": {},
     "output_type": "execute_result"
    }
   ],
   "source": [
    "# Создадим датафрейм с группировкой по 'user_id' и 'month' и применим агрегирующие функции\n",
    "revenue = full.groupby(['user_id', 'month']).agg({\n",
    "    'distance': ['sum', 'count'],  # Суммируем расстояние и считаем количество поездок для каждого пользователя за каждый месяц\n",
    "    'duration': 'sum'  # Суммируем время поездок для каждого пользователя за каждый месяц\n",
    "}).reset_index()\n",
    "\n",
    "# Переименуем столбцы\n",
    "revenue.columns = ['user_id', 'month', 'total_distance', 'trip_count', 'total_duration']\n",
    "\n",
    "# Выведим результат\n",
    "revenue.head()\n"
   ]
  },
  {
   "cell_type": "markdown",
   "id": "fa2cc74e",
   "metadata": {},
   "source": [
    "### В этот же датафрейм добавим столбец с помесячной выручкой, которую принёс каждый пользователь. "
   ]
  },
  {
   "cell_type": "markdown",
   "id": "7a24f0f7",
   "metadata": {},
   "source": [
    "Обратимся к информации об условиях оплаты для подписчиков и тех, у кого нет подписки. Продолжительность каждой поездки в каждой строке исходного датафрейма для подсчёта стоимости округлим до следующего целого числа."
   ]
  },
  {
   "cell_type": "markdown",
   "id": "d9607069",
   "metadata": {},
   "source": [
    "Напишем функцию для создания столбцов с помесячной выручкой и типом подписки и добавим их в датасет"
   ]
  },
  {
   "cell_type": "code",
   "execution_count": 37,
   "id": "14e58e41",
   "metadata": {},
   "outputs": [],
   "source": [
    "def cost_of_travel(row):\n",
    "    # Каждое значение из столбца duration округлим с помощью «потолка»: \n",
    "    row['duration'] = np.ceil(row['duration'])\n",
    "    # Создадим датафрейм с группировкой по 'user_id' и 'month' и применим агрегирующие функции\n",
    "    row = full.groupby(['user_id', 'month']).agg({\n",
    "        'duration': ['sum', 'count'],  # Суммируем время и количество поездок для каждого пользователя за каждый месяц\n",
    "        'minute_price': 'mean',\n",
    "        'start_ride_price': 'mean',\n",
    "        'subscription_fee': 'mean',\n",
    "        'subscription_type': 'min'\n",
    "    }).reset_index()\n",
    "\n",
    "    # Переименуем столбцы\n",
    "    row.columns = ['user_id', 'month', 'duration_sum', 'duration_count', 'minute_price', 'start_ride_price',  'subscription_fee', 'subscription_type']\n",
    "    row['cost_of_travel'] = row['duration_sum']*row['minute_price']+ row['duration_count']*row['start_ride_price']+row['subscription_fee']\n",
    "    # Выведим результат\n",
    "    return row[['cost_of_travel','subscription_type']]\n"
   ]
  },
  {
   "cell_type": "markdown",
   "id": "6816f99c",
   "metadata": {},
   "source": [
    "Применим эту функцию к нашему датафрейму"
   ]
  },
  {
   "cell_type": "code",
   "execution_count": 38,
   "id": "eebaa2f9",
   "metadata": {},
   "outputs": [
    {
     "data": {
      "text/html": [
       "<div>\n",
       "<style scoped>\n",
       "    .dataframe tbody tr th:only-of-type {\n",
       "        vertical-align: middle;\n",
       "    }\n",
       "\n",
       "    .dataframe tbody tr th {\n",
       "        vertical-align: top;\n",
       "    }\n",
       "\n",
       "    .dataframe thead th {\n",
       "        text-align: right;\n",
       "    }\n",
       "</style>\n",
       "<table border=\"1\" class=\"dataframe\">\n",
       "  <thead>\n",
       "    <tr style=\"text-align: right;\">\n",
       "      <th></th>\n",
       "      <th>user_id</th>\n",
       "      <th>month</th>\n",
       "      <th>total_distance</th>\n",
       "      <th>trip_count</th>\n",
       "      <th>total_duration</th>\n",
       "      <th>monthly_revenue</th>\n",
       "      <th>subscription_type</th>\n",
       "    </tr>\n",
       "  </thead>\n",
       "  <tbody>\n",
       "    <tr>\n",
       "      <th>0</th>\n",
       "      <td>1</td>\n",
       "      <td>1</td>\n",
       "      <td>7028.0</td>\n",
       "      <td>2</td>\n",
       "      <td>41.416640</td>\n",
       "      <td>451.0</td>\n",
       "      <td>ultra</td>\n",
       "    </tr>\n",
       "    <tr>\n",
       "      <th>1</th>\n",
       "      <td>1</td>\n",
       "      <td>4</td>\n",
       "      <td>754.0</td>\n",
       "      <td>1</td>\n",
       "      <td>6.232113</td>\n",
       "      <td>241.0</td>\n",
       "      <td>ultra</td>\n",
       "    </tr>\n",
       "    <tr>\n",
       "      <th>2</th>\n",
       "      <td>1</td>\n",
       "      <td>8</td>\n",
       "      <td>6724.0</td>\n",
       "      <td>2</td>\n",
       "      <td>44.776802</td>\n",
       "      <td>475.0</td>\n",
       "      <td>ultra</td>\n",
       "    </tr>\n",
       "    <tr>\n",
       "      <th>3</th>\n",
       "      <td>1</td>\n",
       "      <td>10</td>\n",
       "      <td>5810.0</td>\n",
       "      <td>2</td>\n",
       "      <td>31.578017</td>\n",
       "      <td>391.0</td>\n",
       "      <td>ultra</td>\n",
       "    </tr>\n",
       "    <tr>\n",
       "      <th>4</th>\n",
       "      <td>1</td>\n",
       "      <td>11</td>\n",
       "      <td>7004.0</td>\n",
       "      <td>3</td>\n",
       "      <td>53.397424</td>\n",
       "      <td>535.0</td>\n",
       "      <td>ultra</td>\n",
       "    </tr>\n",
       "  </tbody>\n",
       "</table>\n",
       "</div>"
      ],
      "text/plain": [
       "   user_id  month  total_distance  trip_count  total_duration  \\\n",
       "0        1      1          7028.0           2       41.416640   \n",
       "1        1      4           754.0           1        6.232113   \n",
       "2        1      8          6724.0           2       44.776802   \n",
       "3        1     10          5810.0           2       31.578017   \n",
       "4        1     11          7004.0           3       53.397424   \n",
       "\n",
       "   monthly_revenue subscription_type  \n",
       "0            451.0             ultra  \n",
       "1            241.0             ultra  \n",
       "2            475.0             ultra  \n",
       "3            391.0             ultra  \n",
       "4            535.0             ultra  "
      ]
     },
     "execution_count": 38,
     "metadata": {},
     "output_type": "execute_result"
    }
   ],
   "source": [
    "revenue[['monthly_revenue', 'subscription_type']] = cost_of_travel(full)\n",
    "revenue.head()"
   ]
  },
  {
   "cell_type": "markdown",
   "id": "d55374c0",
   "metadata": {},
   "source": [
    "**Вывод**\n",
    "\n",
    "Мы создали датафрейм с агрегированными данными о поездках на основе датафрейма с объединёнными данными full и нашли суммарное расстояние, количество поездок и суммарное время для каждого пользователя за каждый месяц. В этот же датафрейм добавили столбец с помесячной выручкой, которую принёс каждый пользователь."
   ]
  },
  {
   "cell_type": "markdown",
   "id": "41545ac0",
   "metadata": {},
   "source": [
    "## Проверим гипотезы"
   ]
  },
  {
   "cell_type": "markdown",
   "id": "88af584e",
   "metadata": {},
   "source": [
    "Продакт-менеджеры сервиса хотят увеличить количество пользователей с подпиской. Для этого они будут проводить различные акции, но сначала нужно выяснить несколько важных моментов."
   ]
  },
  {
   "cell_type": "markdown",
   "id": "51a2fe0a",
   "metadata": {},
   "source": [
    "### Пользователи с подпиской тратят больше времени на поездки? Если да, то пользователи с подпиской могут быть «выгоднее» для компании. "
   ]
  },
  {
   "cell_type": "markdown",
   "id": "0b234cb4",
   "metadata": {},
   "source": [
    "Сформулируем гипотезы:\n",
    "* $H_0$ - пользователи с подпиской тратят столько же времени на поездки сколько и пользователи без подписки\n",
    "* $H_1$ - пользователи с подпиской тратят больше времени на поездки, чем пользователи без подписки"
   ]
  },
  {
   "cell_type": "markdown",
   "id": "5013d807",
   "metadata": {},
   "source": [
    "Выберем уровень статистической значимости равный 5%"
   ]
  },
  {
   "cell_type": "code",
   "execution_count": 39,
   "id": "49705370",
   "metadata": {},
   "outputs": [],
   "source": [
    "alpha = 0.01"
   ]
  },
  {
   "cell_type": "markdown",
   "id": "51651c60",
   "metadata": {},
   "source": [
    "Применим двухвыборочный t-тест для независимых выборок. Используем исходные данные о продолжительности каждой сессии — отдельно для подписчиков и тех, у кого нет подписки."
   ]
  },
  {
   "cell_type": "code",
   "execution_count": 40,
   "id": "deb51a7e",
   "metadata": {},
   "outputs": [
    {
     "data": {
      "text/plain": [
       "1.2804098316645618e-34"
      ]
     },
     "execution_count": 40,
     "metadata": {},
     "output_type": "execute_result"
    }
   ],
   "source": [
    "results = st.ttest_ind(\n",
    "    users_with_subscriptions['duration'], \n",
    "    users_without_subscriptions['duration'], \n",
    "    alternative='greater'\n",
    ")\n",
    "results.pvalue"
   ]
  },
  {
   "cell_type": "markdown",
   "id": "9472402f",
   "metadata": {},
   "source": [
    "Вывод об отвержении или неотвержении нулевой гипотезы"
   ]
  },
  {
   "cell_type": "code",
   "execution_count": 41,
   "id": "e3317a0d",
   "metadata": {},
   "outputs": [
    {
     "name": "stdout",
     "output_type": "stream",
     "text": [
      "Отвергаем нулевую гипотезу: Пользователи с подпиской, вероятно, тратят больше времени на поездки, они могут быть \"выгоднее\" для компании\n"
     ]
    }
   ],
   "source": [
    "if results.pvalue < alpha:\n",
    "    print('Отвергаем нулевую гипотезу: Пользователи с подпиской, вероятно, тратят больше времени на поездки, они могут быть \"выгоднее\" для компании')\n",
    "else:\n",
    "    print('Не отвергаем нулевую гипотезу: Нет статистически значимых различий во времени поездок между пользователями с и без подписки') "
   ]
  },
  {
   "cell_type": "markdown",
   "id": "deeb4103",
   "metadata": {},
   "source": [
    "### Расстояние одной поездки в 3130 метров — оптимальное с точки зрения износа самоката. Можно ли сказать, что среднее расстояние, которое проезжают пользователи с подпиской за одну поездку, не превышает 3130 метров?"
   ]
  },
  {
   "cell_type": "markdown",
   "id": "dc798623",
   "metadata": {},
   "source": [
    "Сформулируем гипотезы:\n",
    "* $H_0$ - среднее расстояние, которое проезжают пользователи с подпиской за одну поездку: 3130 метров\n",
    "* $H_1$ - среднее расстояние, которое проезжают пользователи с подпиской за одну поездку больше 3130 метров"
   ]
  },
  {
   "cell_type": "markdown",
   "id": "960020b9",
   "metadata": {},
   "source": [
    "Применим одновыборочный t-тест"
   ]
  },
  {
   "cell_type": "code",
   "execution_count": 42,
   "id": "461edfd2",
   "metadata": {},
   "outputs": [
    {
     "data": {
      "text/plain": [
       "0.9195649894697724"
      ]
     },
     "execution_count": 42,
     "metadata": {},
     "output_type": "execute_result"
    }
   ],
   "source": [
    "value = 3130\n",
    "results = st.ttest_1samp(\n",
    "    users_with_subscriptions['distance'],\n",
    "    value,\n",
    "    alternative='greater'\n",
    ")\n",
    "results.pvalue"
   ]
  },
  {
   "cell_type": "markdown",
   "id": "f1bafc0a",
   "metadata": {},
   "source": [
    "Вывод об отвержении или неотвержении нулевой гипотезы"
   ]
  },
  {
   "cell_type": "code",
   "execution_count": 43,
   "id": "ee38af27",
   "metadata": {},
   "outputs": [
    {
     "name": "stdout",
     "output_type": "stream",
     "text": [
      "Не отвергаем нулевую гипотезу. Среднее расстояние, вероятно, не превышает 3130 метров.\n"
     ]
    }
   ],
   "source": [
    "if results.pvalue < alpha:\n",
    "    print('Отвергаем нулевую гипотезу. Среднее расстояние, вероятно, превышает 3130 метров.')\n",
    "else:\n",
    "    print('Не отвергаем нулевую гипотезу. Среднее расстояние, вероятно, не превышает 3130 метров.')"
   ]
  },
  {
   "cell_type": "markdown",
   "id": "9df88fa6",
   "metadata": {},
   "source": [
    "### Помесячная выручка от пользователей с подпиской по месяцам выше, чем выручка от пользователей без подписки."
   ]
  },
  {
   "cell_type": "markdown",
   "id": "4889d39b",
   "metadata": {},
   "source": [
    "Сформулируем гипотезы:\n",
    "* $H_0$ - помесячная выручка от пользователей с подпиской и без подписки одинаковая\n",
    "* $H_1$ - помесячная выручка от пользователей с подпиской по месяцам больше, чем выручка от пользователей без подписки"
   ]
  },
  {
   "cell_type": "markdown",
   "id": "8aeeabec",
   "metadata": {},
   "source": [
    "Cоздадим два новых датасета с помесячной выручкой для пользователей с подпиской и без."
   ]
  },
  {
   "cell_type": "code",
   "execution_count": 44,
   "id": "be70da9b",
   "metadata": {},
   "outputs": [],
   "source": [
    "revenue_with_subscriptions = revenue.query('subscription_type in \"ultra\"')\n",
    "revenue_without_subscriptions = revenue.query('subscription_type in \"free\"')"
   ]
  },
  {
   "cell_type": "markdown",
   "id": "7d2ea2c9",
   "metadata": {},
   "source": [
    "Применим двухвыборочный t-тест для независимых выборок. Используем данные из полученных датасетов с помесячной выручкой, которую принёс каждый пользователь, отдельно для подписчиков и тех, у кого нет подписки."
   ]
  },
  {
   "cell_type": "code",
   "execution_count": 45,
   "id": "d9923e5e",
   "metadata": {},
   "outputs": [
    {
     "data": {
      "text/plain": [
       "1.8850394384715216e-31"
      ]
     },
     "execution_count": 45,
     "metadata": {},
     "output_type": "execute_result"
    }
   ],
   "source": [
    "results = st.ttest_ind(\n",
    "    revenue_with_subscriptions['monthly_revenue'], \n",
    "    revenue_without_subscriptions['monthly_revenue'], \n",
    "    alternative='greater'\n",
    ")\n",
    "results.pvalue"
   ]
  },
  {
   "cell_type": "markdown",
   "id": "df01d9d1",
   "metadata": {},
   "source": [
    "Вывод об отвержении или неотвержении нулевой гипотезы"
   ]
  },
  {
   "cell_type": "code",
   "execution_count": 46,
   "id": "12753882",
   "metadata": {},
   "outputs": [
    {
     "name": "stdout",
     "output_type": "stream",
     "text": [
      "Отвергаем нулевую гипотезу. Помесячная выручка от пользователей с подпиской, вероятно, выше, чем от пользователей без подписки.\n"
     ]
    }
   ],
   "source": [
    "if results.pvalue < alpha:\n",
    "    print('Отвергаем нулевую гипотезу. Помесячная выручка от пользователей с подпиской, вероятно, выше, чем от пользователей без подписки.')\n",
    "else:\n",
    "    print('Не отвергаем нулевую гипотезу. Нет доказательств того, что помесячная выручка от пользователей с подпиской выше, чем от пользователей без подписки.')"
   ]
  },
  {
   "cell_type": "markdown",
   "id": "05770134",
   "metadata": {},
   "source": [
    "**Проверили гипотезы и сделали выводы:**\n",
    "1. Пользователи с подпиской тратят больше времени на поездки? Отвергли нулевую гипотезу, вероятно, пользователи с подпиской тратят больше времени на поездки, они могут быть \"выгоднее\" для компании.\n",
    "2. Можно ли сказать, что среднее расстояние, которое проезжают пользователи с подпиской за одну поездку, не превышает 3130 метров? Не отвергли нулевую гипотезу. Среднее расстояние не превышает 3130 метров — оптимальное с точки зрения износа самоката. \n",
    "3. Помесячная выручка от пользователей с подпиской по месяцам выше, чем выручка от пользователей без подписки. Отвергли нулевую гипотезу, помесячная выручка от пользователей с подпиской, вероятно, выше, чем от пользователей без подписки."
   ]
  },
  {
   "cell_type": "markdown",
   "id": "533c3d59",
   "metadata": {},
   "source": [
    "### Представим такую ситуацию: техническая команда сервиса обновила сервера, с которыми взаимодействует мобильное приложение. Она надеется, что из-за этого количество обращений в техподдержку значимо снизилось. Некоторый файл содержит для каждого пользователя данные о количестве обращений до обновления и после него. Какой тест нам понадобился бы для проверки этой гипотезы?"
   ]
  },
  {
   "cell_type": "markdown",
   "id": "e2620596",
   "metadata": {},
   "source": [
    "Для проверки данной гипотезы нам бы понадобился двухвыборочный t-тест для зависимых выборок `st.ttest_rel`, с левосторонней проверкой (значение аргумента `alternative: 'less'`)."
   ]
  },
  {
   "cell_type": "markdown",
   "id": "61213c5e",
   "metadata": {},
   "source": [
    "## Распределения"
   ]
  },
  {
   "cell_type": "markdown",
   "id": "c76ef2a5",
   "metadata": {},
   "source": [
    "### Нужно провести акцию с раздачей промокодов на один бесплатный месяц подписки, в рамках которой как минимум 100 существующих клиентов должны продлить эту подписку. То есть по завершении периода действия подписки пользователь может либо отказаться от неё, либо продлить, совершив соответствующий платёж. "
   ]
  },
  {
   "cell_type": "markdown",
   "id": "eedd7629",
   "metadata": {},
   "source": [
    "Эта акция уже проводилась ранее и по итогу выяснилось, что после бесплатного пробного периода подписку продлевают 10 % пользователей."
   ]
  },
  {
   "cell_type": "markdown",
   "id": "71ba4a64",
   "metadata": {},
   "source": [
    "Наши данные можно представить биномиальным распределением, так как у нас есть два возможных исхода: пользователь продлевает подписку или нет. Посчитаем вероятность для распределения случайной величины от 100 до 2000 с шагом 1, построим график кумулятивной функции распределения и найдём минимальное значение количества промокодов, которых нужно разослать, при котором вероятность не выполнить план будет менее 5%"
   ]
  },
  {
   "cell_type": "code",
   "execution_count": 47,
   "id": "8e11824b",
   "metadata": {},
   "outputs": [
    {
     "data": {
      "image/png": "[encoded data removed]",
      "text/plain": [
       "<Figure size 640x480 with 1 Axes>"
      ]
     },
     "metadata": {},
     "output_type": "display_data"
    },
    {
     "name": "stdout",
     "output_type": "stream",
     "text": [
      "Минимальное количество промокодов: 1107\n"
     ]
    }
   ],
   "source": [
    "# Функция для расчета вероятности P(X >= 100)\n",
    "def probability_at_least_100(n, p):\n",
    "    return 1 - st.binom.cdf(94, n, p)\n",
    "\n",
    "# График для визуализации изменения вероятности\n",
    "n_values = list(range(100, 2000, 1)) # Проверяем значения от 100 до 2000 с шагом 1\n",
    "probabilities = [probability_at_least_100(n, 0.1) for n in n_values]\n",
    "\n",
    "plt.plot(n_values, probabilities)\n",
    "plt.xlabel('n (количество промокодов)')\n",
    "plt.ylabel('P(X >= 100)')\n",
    "plt.title('Вероятность продления подписки при раздаче n промокодов')\n",
    "plt.grid(True)\n",
    "plt.show()\n",
    "\n",
    "# Найдем минимальное n, при котором P(X >= 100) >= 0.95\n",
    "min_n = None\n",
    "for i in range(len(n_values)):\n",
    "    if probabilities[i] >= 0.95:\n",
    "        min_n = n_values[i]\n",
    "        break\n",
    "        \n",
    "if min_n is not None:\n",
    "    print(f\"Минимальное количество промокодов: {min_n}\")\n",
    "else:\n",
    "    print(\"Не найдено подходящего количества промокодов.\")"
   ]
  },
  {
   "cell_type": "markdown",
   "id": "92612538",
   "metadata": {},
   "source": [
    "**Вывод**\n",
    "\n",
    "Для того, чтобы минимум 100 существующих клиентов продлили подписку, с вероятностью не выполнить план, примерно 5%, нужно разослать минимум 1107 промокодов."
   ]
  },
  {
   "cell_type": "markdown",
   "id": "0c184475",
   "metadata": {},
   "source": [
    "### Отдел маркетинга рассылает клиентам push-уведомления в мобильном приложении. Клиенты могут открыть его или не открывать. Известно, что уведомления открывают около 40 % получивших клиентов. Отдел планирует разослать 1 млн уведомлений. С помощью аппроксимации построим примерный график распределения и оценим вероятность того, что уведомление откроют не более 399,5 тыс. пользователей."
   ]
  },
  {
   "cell_type": "markdown",
   "id": "41d9ade0",
   "metadata": {},
   "source": [
    "Зададим функцию, которая выдаёт `num` чисел, равномерно распределённых от `start` до `stop`"
   ]
  },
  {
   "cell_type": "code",
   "execution_count": 48,
   "id": "7f01e701",
   "metadata": {},
   "outputs": [],
   "source": [
    "def linspace(start, stop, num) :\n",
    "    step = (stop - start) / (num - 1)\n",
    "    result = []\n",
    "    for i in range (num):\n",
    "        result.append (start + step * i)\n",
    "    return result"
   ]
  },
  {
   "cell_type": "markdown",
   "id": "dbc7f6e8",
   "metadata": {},
   "source": [
    "Зададим параметры распределения"
   ]
  },
  {
   "cell_type": "code",
   "execution_count": 49,
   "id": "7624a6a9",
   "metadata": {},
   "outputs": [],
   "source": [
    "# количество независимых повторений\n",
    "n = 1000000\n",
    "# вероятность успеха\n",
    "p = 0.4\n",
    "# математическое ожидание\n",
    "mu = n * p\n",
    "# стандартное отклонение\n",
    "sigma = np.sqrt(n * p * (1 - p))"
   ]
  },
  {
   "cell_type": "markdown",
   "id": "0642e44a",
   "metadata": {},
   "source": [
    "Зададим границы промежутка, на котором будем строить график: mu +/- 4 sigma"
   ]
  },
  {
   "cell_type": "code",
   "execution_count": 50,
   "id": "d7ae9e1c",
   "metadata": {},
   "outputs": [],
   "source": [
    "left = mu - 4 * sigma\n",
    "right = mu + 4 * sigma"
   ]
  },
  {
   "cell_type": "markdown",
   "id": "16cddb2a",
   "metadata": {},
   "source": [
    "Построим график от `left` до `right`"
   ]
  },
  {
   "cell_type": "code",
   "execution_count": 51,
   "id": "14d70cd8",
   "metadata": {},
   "outputs": [
    {
     "data": {
      "image/png": "[encoded data removed]",
      "text/plain": [
       "<Figure size 1000x500 with 1 Axes>"
      ]
     },
     "metadata": {},
     "output_type": "display_data"
    }
   ],
   "source": [
    "# получим список из чисел от left до right\n",
    "x = linspace(left, right, 100000)\n",
    "y = st.norm.pdf(x, mu, sigma)\n",
    "\n",
    "# отобразим график распределения\n",
    "plt.figure(figsize=(10, 5))\n",
    "plt.plot(x, y)\n",
    "plt.xlabel('Количество пользователей, открывших уведомление')\n",
    "plt.ylabel('Плотность вероятности')\n",
    "plt.title('Нормальная аппроксимация биномиального распределения, в диапозоне +/- 4 σ')\n",
    "plt.grid(True)\n",
    "plt.show()"
   ]
  },
  {
   "cell_type": "markdown",
   "id": "46e762cc",
   "metadata": {},
   "source": [
    "Оценим вероятность того, что уведомление откроют не более 399.5 тысяч пользователей"
   ]
  },
  {
   "cell_type": "code",
   "execution_count": 52,
   "id": "87cd750c",
   "metadata": {},
   "outputs": [
    {
     "name": "stdout",
     "output_type": "stream",
     "text": [
      "Вероятность того, что уведомления откроют не более 399500 пользователей: 0.15371708296369768\n"
     ]
    }
   ],
   "source": [
    "successes = 399500\n",
    "print(f\"Вероятность того, что уведомления откроют не более {successes} пользователей: {st.norm.cdf(successes, mu, sigma)}\")"
   ]
  },
  {
   "cell_type": "markdown",
   "id": "301e6a33",
   "metadata": {},
   "source": [
    "**Вывод**\n",
    "\n",
    "С вероятностью 15% уведомления откроют не более 399,5 тыс. пользователей"
   ]
  },
  {
   "cell_type": "markdown",
   "id": "ad3d9296",
   "metadata": {},
   "source": [
    "## Вывод"
   ]
  },
  {
   "cell_type": "markdown",
   "id": "9fdaf654",
   "metadata": {},
   "source": [
    "* Исследовав наши датасеты, мы обнаружили, что:\n",
    " * `users` - 1565 строк;\n",
    " * `rides` -  18068 строк, столбец `date` содержит тип данных `object`;\n",
    " * `subscriptions` - 2 строки.\n",
    "* В датафрейме `rides`, столбец `date` содержал тип данных `object`, при чтении файла привели его к типу данных `datetime`\n",
    "* Пропущенные значения в датафреймах отсутствуют\n",
    "* В датафрейме `users` обнаружен 31 дубликат, удалим их на этапе предобработки данных\n",
    "* У нас имеются данные за период с 2021-01-01 по 2021-12-30 \n",
    "\n",
    "* На этапе обработки данных мы создали столбец `month` с номером месяца на основе столбца `date` и в датафрейме `users` удалили 31 дубликат.\n",
    "* Округлили расстояния в `rides['distance']` для удобства восприятия данных\n",
    "* Проверили столбец `rides['duration']` на наличие аномалий\n",
    "\n",
    "* Выполнили исследовательский анализ данных и выяснили, что большинство пользователей сервиса аренды самокатов GoFast из Пятигорска, но пользователи из других городов встречаются тоже достаточно часто, они чаще всего используют бесплатную подписку, их возраст около 22-28 лет, преодолевают в основном расстояние от 2.5 км до 3.8 км, а продолжительность поездки составляет от 13 до 22 минут.\n",
    "\n",
    "* Объеденили данные о пользователях, поездках и подписках в один датафрейм и создали отдельные датафреймы с пользователями с подпиской и без. Построили визуализации и сделали выводы, что пользователи с подпиской и без неё чаще всего используют самокат на короткое расстояние около 1 км, но большая часть пользователей использует самокат для поездок от 2,5 до 4,5 км. примерно от 10 до 27 минут. У пользователей без подписки на графике есть всплеск около 0, возможно, это случайные \"старты\" из-за неопытности пользователей.\n",
    "\n",
    "\n",
    "* Посчитали помесячную выручку, которую принёс каждый пользователь, агрегировав данные о поездках, посчитали суммарное расстояние, количество поездок и суммарное время для каждого пользователя за каждый месяц.\n",
    "\n",
    "\n",
    "* Проверили гипотезы и сделали выводы:\n",
    " 1. Пользователи с подпиской тратят больше времени на поездки? Отвергли нулевую гипотезу, вероятно, пользователи с подпиской тратят больше времени на поездки, они могут быть \"выгоднее\" для компании.\n",
    " 2. Можно ли сказать, что среднее расстояние, которое проезжают пользователи с подпиской за одну поездку, не превышает 3130 метров? Не отвергли нулевую гипотезу. Среднее расстояние не превышает 3130 метров — оптимальное с точки зрения износа самоката. \n",
    " 3. Помесячная выручка от пользователей с подпиской по месяцам выше, чем выручка от пользователей без подписки. Отвергли нулевую гипотезу, помесячная выручка от пользователей с подпиской, вероятно, выше, чем от пользователей без подписки.\n",
    "\n",
    "\n",
    "* Выяснили, что для того, чтобы минимум 100 существующих клиентов продлили подписку, с вероятностью не выполнить план, примерно 5%, нужно раздать минимум 1107 промокодов.\n",
    "\n",
    "\n",
    "* Выяснили, что с вероятностью 15% при рассылке 1 млн push-уведомления в мобильном приложении уведомления откроют не более 399,5 тыс. пользователей."
   ]
  },
  {
   "cell_type": "markdown",
   "id": "0f51bb32",
   "metadata": {},
   "source": [
    "**Рекомендация рекламному отделу:** пользователи с подпиской тратят больше времени на поездки и помесячная выручка от них выше, чем от пользователей без подписки, поэтому стоит продвигать платную подписку"
   ]
  }
 ],
 "metadata": {
  "ExecuteTimeLog": [
   {
    "duration": 421,
    "start_time": "2024-03-05T14:08:06.521Z"
   },
   {
    "duration": 89,
    "start_time": "2024-03-05T14:17:18.114Z"
   },
   {
    "duration": 174,
    "start_time": "2024-03-05T14:17:20.722Z"
   },
   {
    "duration": 67,
    "start_time": "2024-03-05T14:17:24.006Z"
   },
   {
    "duration": 14,
    "start_time": "2024-03-05T14:19:13.222Z"
   },
   {
    "duration": 28,
    "start_time": "2024-03-05T14:19:23.262Z"
   },
   {
    "duration": 10,
    "start_time": "2024-03-05T14:19:26.754Z"
   },
   {
    "duration": 7,
    "start_time": "2024-03-05T14:19:31.698Z"
   },
   {
    "duration": 26,
    "start_time": "2024-03-05T14:22:05.850Z"
   },
   {
    "duration": 7,
    "start_time": "2024-03-05T14:22:11.377Z"
   },
   {
    "duration": 7,
    "start_time": "2024-03-05T14:22:19.286Z"
   },
   {
    "duration": 40,
    "start_time": "2024-03-05T14:22:23.456Z"
   },
   {
    "duration": 9,
    "start_time": "2024-03-05T14:22:26.235Z"
   },
   {
    "duration": 7,
    "start_time": "2024-03-05T14:22:33.110Z"
   },
   {
    "duration": 8,
    "start_time": "2024-03-05T14:22:54.259Z"
   },
   {
    "duration": 9,
    "start_time": "2024-03-05T14:22:56.517Z"
   },
   {
    "duration": 7,
    "start_time": "2024-03-05T14:22:59.710Z"
   },
   {
    "duration": 3,
    "start_time": "2024-03-05T14:23:56.598Z"
   },
   {
    "duration": 96,
    "start_time": "2024-03-05T14:26:03.754Z"
   },
   {
    "duration": 94,
    "start_time": "2024-03-05T14:26:46.483Z"
   },
   {
    "duration": 13,
    "start_time": "2024-03-05T14:26:57.631Z"
   },
   {
    "duration": 11,
    "start_time": "2024-03-05T14:27:06.534Z"
   },
   {
    "duration": 11,
    "start_time": "2024-03-05T14:27:10.599Z"
   },
   {
    "duration": 6,
    "start_time": "2024-03-05T14:27:52.891Z"
   },
   {
    "duration": 9,
    "start_time": "2024-03-05T14:28:01.315Z"
   },
   {
    "duration": 6,
    "start_time": "2024-03-05T14:28:09.338Z"
   },
   {
    "duration": 9,
    "start_time": "2024-03-05T14:32:16.131Z"
   },
   {
    "duration": 5,
    "start_time": "2024-03-05T14:32:18.703Z"
   },
   {
    "duration": 2,
    "start_time": "2024-03-05T14:32:40.719Z"
   },
   {
    "duration": 6,
    "start_time": "2024-03-05T14:33:38.563Z"
   },
   {
    "duration": 8,
    "start_time": "2024-03-05T14:40:37.723Z"
   },
   {
    "duration": 6,
    "start_time": "2024-03-05T14:40:52.167Z"
   },
   {
    "duration": 5,
    "start_time": "2024-03-05T14:44:58.610Z"
   },
   {
    "duration": 5,
    "start_time": "2024-03-05T14:45:29.583Z"
   },
   {
    "duration": 9,
    "start_time": "2024-03-05T14:54:23.392Z"
   },
   {
    "duration": 9,
    "start_time": "2024-03-05T14:54:33.735Z"
   },
   {
    "duration": 10,
    "start_time": "2024-03-05T14:57:12.293Z"
   },
   {
    "duration": 64,
    "start_time": "2024-03-05T14:57:26.409Z"
   },
   {
    "duration": 5,
    "start_time": "2024-03-05T14:58:37.532Z"
   },
   {
    "duration": 10,
    "start_time": "2024-03-05T14:58:59.304Z"
   },
   {
    "duration": 6,
    "start_time": "2024-03-05T15:00:31.941Z"
   },
   {
    "duration": 8,
    "start_time": "2024-03-05T15:00:33.789Z"
   },
   {
    "duration": 4,
    "start_time": "2024-03-05T15:00:35.753Z"
   },
   {
    "duration": 5,
    "start_time": "2024-03-05T15:00:38.077Z"
   },
   {
    "duration": 7,
    "start_time": "2024-03-05T15:04:18.005Z"
   },
   {
    "duration": 6,
    "start_time": "2024-03-05T15:04:28.145Z"
   },
   {
    "duration": 6,
    "start_time": "2024-03-05T15:04:46.781Z"
   },
   {
    "duration": 80,
    "start_time": "2024-03-05T15:24:02.850Z"
   },
   {
    "duration": 9,
    "start_time": "2024-03-05T15:29:51.990Z"
   },
   {
    "duration": 7,
    "start_time": "2024-03-05T15:30:03.726Z"
   },
   {
    "duration": 11,
    "start_time": "2024-03-05T15:30:07.918Z"
   },
   {
    "duration": 7,
    "start_time": "2024-03-05T15:30:36.261Z"
   },
   {
    "duration": 8,
    "start_time": "2024-03-05T15:30:46.146Z"
   },
   {
    "duration": 8,
    "start_time": "2024-03-05T15:30:57.402Z"
   },
   {
    "duration": 8,
    "start_time": "2024-03-05T15:37:21.807Z"
   },
   {
    "duration": 8,
    "start_time": "2024-03-05T15:37:28.330Z"
   },
   {
    "duration": 6,
    "start_time": "2024-03-05T15:37:50.307Z"
   },
   {
    "duration": 6,
    "start_time": "2024-03-05T15:38:06.777Z"
   },
   {
    "duration": 6,
    "start_time": "2024-03-05T15:38:14.510Z"
   },
   {
    "duration": 6,
    "start_time": "2024-03-05T15:38:18.746Z"
   },
   {
    "duration": 6,
    "start_time": "2024-03-05T15:38:23.226Z"
   },
   {
    "duration": 5,
    "start_time": "2024-03-05T15:39:34.406Z"
   },
   {
    "duration": 5,
    "start_time": "2024-03-05T15:39:53.215Z"
   },
   {
    "duration": 7,
    "start_time": "2024-03-05T15:40:44.574Z"
   },
   {
    "duration": 8,
    "start_time": "2024-03-05T15:41:05.320Z"
   },
   {
    "duration": 9,
    "start_time": "2024-03-05T15:41:24.220Z"
   },
   {
    "duration": 538,
    "start_time": "2024-03-05T15:42:07.092Z"
   },
   {
    "duration": 313,
    "start_time": "2024-03-05T15:42:29.499Z"
   },
   {
    "duration": 143,
    "start_time": "2024-03-05T15:42:40.032Z"
   },
   {
    "duration": 161,
    "start_time": "2024-03-05T15:42:44.305Z"
   },
   {
    "duration": 147,
    "start_time": "2024-03-05T15:42:49.102Z"
   },
   {
    "duration": 165,
    "start_time": "2024-03-05T15:42:54.742Z"
   },
   {
    "duration": 261,
    "start_time": "2024-03-05T15:43:03.415Z"
   },
   {
    "duration": 273,
    "start_time": "2024-03-05T15:43:10.786Z"
   },
   {
    "duration": 24,
    "start_time": "2024-03-05T15:45:01.687Z"
   },
   {
    "duration": 139,
    "start_time": "2024-03-05T15:45:31.418Z"
   },
   {
    "duration": 31,
    "start_time": "2024-03-05T15:58:52.735Z"
   },
   {
    "duration": 7,
    "start_time": "2024-03-05T16:08:50.853Z"
   },
   {
    "duration": 15,
    "start_time": "2024-03-05T16:10:53.037Z"
   },
   {
    "duration": 13,
    "start_time": "2024-03-05T16:12:57.321Z"
   },
   {
    "duration": 11,
    "start_time": "2024-03-05T16:13:51.328Z"
   },
   {
    "duration": 7,
    "start_time": "2024-03-05T16:14:05.581Z"
   },
   {
    "duration": 10,
    "start_time": "2024-03-05T16:14:34.093Z"
   },
   {
    "duration": 12,
    "start_time": "2024-03-05T16:14:47.109Z"
   },
   {
    "duration": 7,
    "start_time": "2024-03-05T16:16:09.462Z"
   },
   {
    "duration": 5,
    "start_time": "2024-03-05T16:17:09.484Z"
   },
   {
    "duration": 748,
    "start_time": "2024-03-05T16:17:16.262Z"
   },
   {
    "duration": 29,
    "start_time": "2024-03-05T16:17:17.012Z"
   },
   {
    "duration": 30,
    "start_time": "2024-03-05T16:17:17.043Z"
   },
   {
    "duration": 15,
    "start_time": "2024-03-05T16:17:17.075Z"
   },
   {
    "duration": 13,
    "start_time": "2024-03-05T16:17:17.092Z"
   },
   {
    "duration": 12,
    "start_time": "2024-03-05T16:17:17.108Z"
   },
   {
    "duration": 25,
    "start_time": "2024-03-05T16:17:17.121Z"
   },
   {
    "duration": 19,
    "start_time": "2024-03-05T16:17:17.148Z"
   },
   {
    "duration": 7,
    "start_time": "2024-03-05T16:17:17.169Z"
   },
   {
    "duration": 11,
    "start_time": "2024-03-05T16:17:17.191Z"
   },
   {
    "duration": 12,
    "start_time": "2024-03-05T16:17:17.204Z"
   },
   {
    "duration": 11,
    "start_time": "2024-03-05T16:17:17.217Z"
   },
   {
    "duration": 5,
    "start_time": "2024-03-05T16:17:17.230Z"
   },
   {
    "duration": 34,
    "start_time": "2024-03-05T16:17:17.237Z"
   },
   {
    "duration": 37,
    "start_time": "2024-03-05T16:17:17.273Z"
   },
   {
    "duration": 19,
    "start_time": "2024-03-05T16:17:17.312Z"
   },
   {
    "duration": 14,
    "start_time": "2024-03-05T16:17:17.333Z"
   },
   {
    "duration": 6,
    "start_time": "2024-03-05T16:17:17.349Z"
   },
   {
    "duration": 5,
    "start_time": "2024-03-05T16:17:17.357Z"
   },
   {
    "duration": 8,
    "start_time": "2024-03-05T16:17:17.363Z"
   },
   {
    "duration": 6,
    "start_time": "2024-03-05T16:17:17.373Z"
   },
   {
    "duration": 170,
    "start_time": "2024-03-05T16:17:17.381Z"
   },
   {
    "duration": 6,
    "start_time": "2024-03-05T16:17:17.552Z"
   },
   {
    "duration": 10,
    "start_time": "2024-03-05T16:17:17.560Z"
   },
   {
    "duration": 174,
    "start_time": "2024-03-05T16:17:17.572Z"
   },
   {
    "duration": 349,
    "start_time": "2024-03-05T16:17:17.748Z"
   },
   {
    "duration": 627,
    "start_time": "2024-03-05T16:17:18.098Z"
   },
   {
    "duration": 176,
    "start_time": "2024-03-05T16:17:18.728Z"
   },
   {
    "duration": 3,
    "start_time": "2024-03-05T16:24:07.394Z"
   },
   {
    "duration": 20,
    "start_time": "2024-03-06T02:42:55.482Z"
   },
   {
    "duration": 20,
    "start_time": "2024-03-06T02:43:26.688Z"
   },
   {
    "duration": 16,
    "start_time": "2024-03-06T02:44:49.544Z"
   },
   {
    "duration": 17,
    "start_time": "2024-03-06T02:44:57.308Z"
   },
   {
    "duration": 26,
    "start_time": "2024-03-06T02:46:14.256Z"
   },
   {
    "duration": 26,
    "start_time": "2024-03-06T02:47:54.261Z"
   },
   {
    "duration": 20,
    "start_time": "2024-03-06T02:50:59.017Z"
   },
   {
    "duration": 27,
    "start_time": "2024-03-06T02:51:10.053Z"
   },
   {
    "duration": 16,
    "start_time": "2024-03-06T02:51:19.514Z"
   },
   {
    "duration": 29,
    "start_time": "2024-03-06T02:51:39.517Z"
   },
   {
    "duration": 25,
    "start_time": "2024-03-06T02:51:46.296Z"
   },
   {
    "duration": 16,
    "start_time": "2024-03-06T02:52:09.915Z"
   },
   {
    "duration": 29,
    "start_time": "2024-03-06T02:54:02.137Z"
   },
   {
    "duration": 24,
    "start_time": "2024-03-06T02:54:26.097Z"
   },
   {
    "duration": 16,
    "start_time": "2024-03-06T02:54:32.172Z"
   },
   {
    "duration": 255,
    "start_time": "2024-03-06T02:59:13.258Z"
   },
   {
    "duration": 254,
    "start_time": "2024-03-06T02:59:16.701Z"
   },
   {
    "duration": 260,
    "start_time": "2024-03-06T03:00:25.386Z"
   },
   {
    "duration": 242,
    "start_time": "2024-03-06T03:00:28.242Z"
   },
   {
    "duration": 233,
    "start_time": "2024-03-06T03:10:48.031Z"
   },
   {
    "duration": 142,
    "start_time": "2024-03-06T03:11:07.771Z"
   },
   {
    "duration": 389,
    "start_time": "2024-03-06T03:12:26.771Z"
   },
   {
    "duration": 273,
    "start_time": "2024-03-06T03:15:54.792Z"
   },
   {
    "duration": 699,
    "start_time": "2024-03-06T03:16:30.227Z"
   },
   {
    "duration": 30,
    "start_time": "2024-03-06T03:16:30.928Z"
   },
   {
    "duration": 254,
    "start_time": "2024-03-06T03:16:30.959Z"
   },
   {
    "duration": 480,
    "start_time": "2024-03-06T03:16:31.216Z"
   },
   {
    "duration": 50,
    "start_time": "2024-03-06T03:16:31.698Z"
   },
   {
    "duration": 62,
    "start_time": "2024-03-06T03:16:31.750Z"
   },
   {
    "duration": 57,
    "start_time": "2024-03-06T03:16:31.814Z"
   },
   {
    "duration": 55,
    "start_time": "2024-03-06T03:16:31.873Z"
   },
   {
    "duration": 22,
    "start_time": "2024-03-06T03:16:31.930Z"
   },
   {
    "duration": 37,
    "start_time": "2024-03-06T03:16:31.954Z"
   },
   {
    "duration": 34,
    "start_time": "2024-03-06T03:16:31.993Z"
   },
   {
    "duration": 34,
    "start_time": "2024-03-06T03:16:32.029Z"
   },
   {
    "duration": 27,
    "start_time": "2024-03-06T03:16:32.065Z"
   },
   {
    "duration": 38,
    "start_time": "2024-03-06T03:16:32.095Z"
   },
   {
    "duration": 28,
    "start_time": "2024-03-06T03:16:32.136Z"
   },
   {
    "duration": 53,
    "start_time": "2024-03-06T03:16:32.167Z"
   },
   {
    "duration": 34,
    "start_time": "2024-03-06T03:16:32.223Z"
   },
   {
    "duration": 33,
    "start_time": "2024-03-06T03:16:32.259Z"
   },
   {
    "duration": 31,
    "start_time": "2024-03-06T03:16:32.294Z"
   },
   {
    "duration": 31,
    "start_time": "2024-03-06T03:16:32.326Z"
   },
   {
    "duration": 33,
    "start_time": "2024-03-06T03:16:32.358Z"
   },
   {
    "duration": 359,
    "start_time": "2024-03-06T03:16:32.393Z"
   },
   {
    "duration": 31,
    "start_time": "2024-03-06T03:16:32.753Z"
   },
   {
    "duration": 207,
    "start_time": "2024-03-06T03:16:32.786Z"
   },
   {
    "duration": 255,
    "start_time": "2024-03-06T03:16:32.995Z"
   },
   {
    "duration": 310,
    "start_time": "2024-03-06T03:16:33.251Z"
   },
   {
    "duration": 36,
    "start_time": "2024-03-06T03:16:33.563Z"
   },
   {
    "duration": 17,
    "start_time": "2024-03-06T03:16:33.603Z"
   },
   {
    "duration": 16,
    "start_time": "2024-03-06T03:16:33.622Z"
   },
   {
    "duration": 434,
    "start_time": "2024-03-06T03:16:33.640Z"
   },
   {
    "duration": 246,
    "start_time": "2024-03-06T03:16:34.076Z"
   },
   {
    "duration": 264,
    "start_time": "2024-03-06T03:16:34.324Z"
   },
   {
    "duration": 262,
    "start_time": "2024-03-06T03:16:34.592Z"
   },
   {
    "duration": 338,
    "start_time": "2024-03-06T03:16:34.856Z"
   },
   {
    "duration": 3,
    "start_time": "2024-03-06T03:16:35.195Z"
   },
   {
    "duration": 486,
    "start_time": "2024-03-06T03:16:59.334Z"
   },
   {
    "duration": 529,
    "start_time": "2024-03-06T03:17:31.326Z"
   },
   {
    "duration": 498,
    "start_time": "2024-03-06T03:20:04.005Z"
   },
   {
    "duration": 602,
    "start_time": "2024-03-06T03:22:40.126Z"
   },
   {
    "duration": 503,
    "start_time": "2024-03-06T03:23:02.291Z"
   },
   {
    "duration": 510,
    "start_time": "2024-03-06T03:23:37.649Z"
   },
   {
    "duration": 510,
    "start_time": "2024-03-06T03:24:16.952Z"
   },
   {
    "duration": 441,
    "start_time": "2024-03-06T03:26:22.314Z"
   },
   {
    "duration": 333,
    "start_time": "2024-03-06T03:26:30.014Z"
   },
   {
    "duration": 307,
    "start_time": "2024-03-06T03:26:52.746Z"
   },
   {
    "duration": 302,
    "start_time": "2024-03-06T03:27:04.225Z"
   },
   {
    "duration": 287,
    "start_time": "2024-03-06T03:27:15.217Z"
   },
   {
    "duration": 366,
    "start_time": "2024-03-06T03:27:43.430Z"
   },
   {
    "duration": 262,
    "start_time": "2024-03-06T03:27:48.305Z"
   },
   {
    "duration": 285,
    "start_time": "2024-03-06T03:27:57.114Z"
   },
   {
    "duration": 273,
    "start_time": "2024-03-06T03:28:02.738Z"
   },
   {
    "duration": 327,
    "start_time": "2024-03-06T03:29:16.378Z"
   },
   {
    "duration": 281,
    "start_time": "2024-03-06T03:30:08.033Z"
   },
   {
    "duration": 257,
    "start_time": "2024-03-06T03:30:14.365Z"
   },
   {
    "duration": 159,
    "start_time": "2024-03-06T03:30:21.375Z"
   },
   {
    "duration": 78,
    "start_time": "2024-03-06T03:31:17.440Z"
   },
   {
    "duration": 6,
    "start_time": "2024-03-06T03:31:27.915Z"
   },
   {
    "duration": 134,
    "start_time": "2024-03-06T03:31:34.449Z"
   },
   {
    "duration": 151,
    "start_time": "2024-03-06T03:31:53.049Z"
   },
   {
    "duration": 150,
    "start_time": "2024-03-06T03:32:18.834Z"
   },
   {
    "duration": 176,
    "start_time": "2024-03-06T03:33:00.240Z"
   },
   {
    "duration": 159,
    "start_time": "2024-03-06T03:33:13.537Z"
   },
   {
    "duration": 183,
    "start_time": "2024-03-06T03:33:17.886Z"
   },
   {
    "duration": 200,
    "start_time": "2024-03-06T03:38:37.182Z"
   },
   {
    "duration": 6,
    "start_time": "2024-03-06T03:49:14.249Z"
   },
   {
    "duration": 8,
    "start_time": "2024-03-06T03:49:19.729Z"
   },
   {
    "duration": 7,
    "start_time": "2024-03-06T03:50:15.427Z"
   },
   {
    "duration": 8,
    "start_time": "2024-03-06T03:50:22.107Z"
   },
   {
    "duration": 13,
    "start_time": "2024-03-06T03:50:33.207Z"
   },
   {
    "duration": 13,
    "start_time": "2024-03-06T03:52:09.675Z"
   },
   {
    "duration": 28,
    "start_time": "2024-03-06T03:52:20.278Z"
   },
   {
    "duration": 17,
    "start_time": "2024-03-06T03:52:40.727Z"
   },
   {
    "duration": 14,
    "start_time": "2024-03-06T03:56:00.254Z"
   },
   {
    "duration": 13,
    "start_time": "2024-03-06T03:56:08.086Z"
   },
   {
    "duration": 708,
    "start_time": "2024-03-06T04:03:52.107Z"
   },
   {
    "duration": 29,
    "start_time": "2024-03-06T04:03:52.817Z"
   },
   {
    "duration": 30,
    "start_time": "2024-03-06T04:03:52.848Z"
   },
   {
    "duration": 15,
    "start_time": "2024-03-06T04:03:52.880Z"
   },
   {
    "duration": 12,
    "start_time": "2024-03-06T04:03:52.897Z"
   },
   {
    "duration": 12,
    "start_time": "2024-03-06T04:03:52.911Z"
   },
   {
    "duration": 15,
    "start_time": "2024-03-06T04:03:52.925Z"
   },
   {
    "duration": 12,
    "start_time": "2024-03-06T04:03:52.942Z"
   },
   {
    "duration": 7,
    "start_time": "2024-03-06T04:03:52.956Z"
   },
   {
    "duration": 10,
    "start_time": "2024-03-06T04:03:52.991Z"
   },
   {
    "duration": 8,
    "start_time": "2024-03-06T04:03:53.003Z"
   },
   {
    "duration": 16,
    "start_time": "2024-03-06T04:03:53.013Z"
   },
   {
    "duration": 5,
    "start_time": "2024-03-06T04:03:53.031Z"
   },
   {
    "duration": 12,
    "start_time": "2024-03-06T04:03:53.037Z"
   },
   {
    "duration": 41,
    "start_time": "2024-03-06T04:03:53.051Z"
   },
   {
    "duration": 7,
    "start_time": "2024-03-06T04:03:53.094Z"
   },
   {
    "duration": 18,
    "start_time": "2024-03-06T04:03:53.103Z"
   },
   {
    "duration": 8,
    "start_time": "2024-03-06T04:03:53.123Z"
   },
   {
    "duration": 6,
    "start_time": "2024-03-06T04:03:53.133Z"
   },
   {
    "duration": 9,
    "start_time": "2024-03-06T04:03:53.141Z"
   },
   {
    "duration": 45,
    "start_time": "2024-03-06T04:03:53.152Z"
   },
   {
    "duration": 205,
    "start_time": "2024-03-06T04:03:53.199Z"
   },
   {
    "duration": 8,
    "start_time": "2024-03-06T04:03:53.406Z"
   },
   {
    "duration": 279,
    "start_time": "2024-03-06T04:03:53.415Z"
   },
   {
    "duration": 611,
    "start_time": "2024-03-06T04:03:53.696Z"
   },
   {
    "duration": 820,
    "start_time": "2024-03-06T04:03:54.309Z"
   },
   {
    "duration": 27,
    "start_time": "2024-03-06T04:03:55.131Z"
   },
   {
    "duration": 40,
    "start_time": "2024-03-06T04:03:55.161Z"
   },
   {
    "duration": 17,
    "start_time": "2024-03-06T04:03:55.202Z"
   },
   {
    "duration": 543,
    "start_time": "2024-03-06T04:03:55.221Z"
   },
   {
    "duration": 536,
    "start_time": "2024-03-06T04:03:55.767Z"
   },
   {
    "duration": 16,
    "start_time": "2024-03-06T04:03:56.305Z"
   },
   {
    "duration": 4,
    "start_time": "2024-03-06T04:03:56.323Z"
   },
   {
    "duration": 6,
    "start_time": "2024-03-06T04:03:56.329Z"
   },
   {
    "duration": 17,
    "start_time": "2024-03-06T04:04:02.949Z"
   },
   {
    "duration": 17,
    "start_time": "2024-03-06T04:08:50.061Z"
   },
   {
    "duration": 14,
    "start_time": "2024-03-06T04:09:00.274Z"
   },
   {
    "duration": 138,
    "start_time": "2024-03-06T04:09:16.696Z"
   },
   {
    "duration": 15,
    "start_time": "2024-03-06T04:09:22.886Z"
   },
   {
    "duration": 8,
    "start_time": "2024-03-06T04:09:38.634Z"
   },
   {
    "duration": 15,
    "start_time": "2024-03-06T04:09:46.578Z"
   },
   {
    "duration": 129,
    "start_time": "2024-03-06T04:10:55.245Z"
   },
   {
    "duration": 99,
    "start_time": "2024-03-06T04:11:41.467Z"
   },
   {
    "duration": 101,
    "start_time": "2024-03-06T04:13:27.410Z"
   },
   {
    "duration": 84,
    "start_time": "2024-03-06T04:13:50.426Z"
   },
   {
    "duration": 10,
    "start_time": "2024-03-06T04:14:12.031Z"
   },
   {
    "duration": 10,
    "start_time": "2024-03-06T04:14:37.870Z"
   },
   {
    "duration": 108,
    "start_time": "2024-03-06T04:15:15.466Z"
   },
   {
    "duration": 10,
    "start_time": "2024-03-06T04:15:33.371Z"
   },
   {
    "duration": 8,
    "start_time": "2024-03-06T04:18:03.214Z"
   },
   {
    "duration": 127,
    "start_time": "2024-03-06T04:18:06.770Z"
   },
   {
    "duration": 16,
    "start_time": "2024-03-06T04:18:13.902Z"
   },
   {
    "duration": 15,
    "start_time": "2024-03-06T04:18:52.426Z"
   },
   {
    "duration": 16,
    "start_time": "2024-03-06T04:20:32.158Z"
   },
   {
    "duration": 1647,
    "start_time": "2024-03-06T04:21:54.272Z"
   },
   {
    "duration": 23,
    "start_time": "2024-03-06T04:28:31.032Z"
   },
   {
    "duration": 21,
    "start_time": "2024-03-06T04:29:44.075Z"
   },
   {
    "duration": 9,
    "start_time": "2024-03-06T04:30:06.221Z"
   },
   {
    "duration": 23,
    "start_time": "2024-03-06T04:31:37.224Z"
   },
   {
    "duration": 30,
    "start_time": "2024-03-06T04:31:58.481Z"
   },
   {
    "duration": 14,
    "start_time": "2024-03-06T05:00:20.938Z"
   },
   {
    "duration": 106,
    "start_time": "2024-03-06T05:05:55.439Z"
   },
   {
    "duration": 420,
    "start_time": "2024-03-06T05:06:31.628Z"
   },
   {
    "duration": 29,
    "start_time": "2024-03-06T05:06:49.629Z"
   },
   {
    "duration": 460,
    "start_time": "2024-03-06T05:08:34.381Z"
   },
   {
    "duration": 19,
    "start_time": "2024-03-06T05:09:34.831Z"
   },
   {
    "duration": 175,
    "start_time": "2024-03-06T05:09:53.689Z"
   },
   {
    "duration": 30,
    "start_time": "2024-03-06T05:09:59.141Z"
   },
   {
    "duration": 28,
    "start_time": "2024-03-06T05:11:12.340Z"
   },
   {
    "duration": 29,
    "start_time": "2024-03-06T05:11:23.821Z"
   },
   {
    "duration": 106,
    "start_time": "2024-03-06T05:13:32.981Z"
   },
   {
    "duration": 100,
    "start_time": "2024-03-06T05:13:38.564Z"
   },
   {
    "duration": 105,
    "start_time": "2024-03-06T05:13:49.526Z"
   },
   {
    "duration": 103,
    "start_time": "2024-03-06T05:13:53.924Z"
   },
   {
    "duration": 35,
    "start_time": "2024-03-06T05:14:01.171Z"
   },
   {
    "duration": 34,
    "start_time": "2024-03-06T05:16:45.893Z"
   },
   {
    "duration": 32,
    "start_time": "2024-03-06T05:19:18.593Z"
   },
   {
    "duration": 10,
    "start_time": "2024-03-06T05:21:17.241Z"
   },
   {
    "duration": 12,
    "start_time": "2024-03-06T05:21:29.965Z"
   },
   {
    "duration": 5,
    "start_time": "2024-03-06T05:21:36.185Z"
   },
   {
    "duration": 40,
    "start_time": "2024-03-06T05:21:37.601Z"
   },
   {
    "duration": 5,
    "start_time": "2024-03-06T05:22:50.890Z"
   },
   {
    "duration": 32,
    "start_time": "2024-03-06T05:22:53.230Z"
   },
   {
    "duration": 578,
    "start_time": "2024-03-06T05:29:33.526Z"
   },
   {
    "duration": 7,
    "start_time": "2024-03-06T05:33:24.455Z"
   },
   {
    "duration": 38,
    "start_time": "2024-03-06T05:34:31.263Z"
   },
   {
    "duration": 3,
    "start_time": "2024-03-06T05:34:37.054Z"
   },
   {
    "duration": 4,
    "start_time": "2024-03-06T05:34:39.259Z"
   },
   {
    "duration": 11,
    "start_time": "2024-03-06T05:41:27.025Z"
   },
   {
    "duration": 6,
    "start_time": "2024-03-06T05:41:46.655Z"
   },
   {
    "duration": 3,
    "start_time": "2024-03-06T05:41:58.535Z"
   },
   {
    "duration": 3,
    "start_time": "2024-03-06T05:42:04.847Z"
   },
   {
    "duration": 20,
    "start_time": "2024-03-06T07:04:28.987Z"
   },
   {
    "duration": 17,
    "start_time": "2024-03-06T07:05:41.302Z"
   },
   {
    "duration": 1245,
    "start_time": "2024-03-06T07:05:52.884Z"
   },
   {
    "duration": 31,
    "start_time": "2024-03-06T07:05:54.131Z"
   },
   {
    "duration": 31,
    "start_time": "2024-03-06T07:05:54.163Z"
   },
   {
    "duration": 16,
    "start_time": "2024-03-06T07:05:54.196Z"
   },
   {
    "duration": 14,
    "start_time": "2024-03-06T07:05:54.214Z"
   },
   {
    "duration": 19,
    "start_time": "2024-03-06T07:05:54.229Z"
   },
   {
    "duration": 18,
    "start_time": "2024-03-06T07:05:54.249Z"
   },
   {
    "duration": 26,
    "start_time": "2024-03-06T07:05:54.269Z"
   },
   {
    "duration": 9,
    "start_time": "2024-03-06T07:05:54.298Z"
   },
   {
    "duration": 24,
    "start_time": "2024-03-06T07:05:54.311Z"
   },
   {
    "duration": 18,
    "start_time": "2024-03-06T07:05:54.337Z"
   },
   {
    "duration": 31,
    "start_time": "2024-03-06T07:05:54.357Z"
   },
   {
    "duration": 7,
    "start_time": "2024-03-06T07:05:54.390Z"
   },
   {
    "duration": 26,
    "start_time": "2024-03-06T07:05:54.399Z"
   },
   {
    "duration": 33,
    "start_time": "2024-03-06T07:05:54.427Z"
   },
   {
    "duration": 10,
    "start_time": "2024-03-06T07:05:54.462Z"
   },
   {
    "duration": 27,
    "start_time": "2024-03-06T07:05:54.474Z"
   },
   {
    "duration": 6,
    "start_time": "2024-03-06T07:05:54.503Z"
   },
   {
    "duration": 8,
    "start_time": "2024-03-06T07:05:54.511Z"
   },
   {
    "duration": 14,
    "start_time": "2024-03-06T07:05:54.521Z"
   },
   {
    "duration": 7,
    "start_time": "2024-03-06T07:05:54.537Z"
   },
   {
    "duration": 211,
    "start_time": "2024-03-06T07:05:54.546Z"
   },
   {
    "duration": 8,
    "start_time": "2024-03-06T07:05:54.758Z"
   },
   {
    "duration": 178,
    "start_time": "2024-03-06T07:05:54.767Z"
   },
   {
    "duration": 307,
    "start_time": "2024-03-06T07:05:54.946Z"
   },
   {
    "duration": 357,
    "start_time": "2024-03-06T07:05:55.255Z"
   },
   {
    "duration": 92,
    "start_time": "2024-03-06T07:05:55.616Z"
   },
   {
    "duration": 20,
    "start_time": "2024-03-06T07:05:55.711Z"
   },
   {
    "duration": 81,
    "start_time": "2024-03-06T07:05:55.733Z"
   },
   {
    "duration": 1120,
    "start_time": "2024-03-06T07:05:55.816Z"
   },
   {
    "duration": 731,
    "start_time": "2024-03-06T07:05:56.992Z"
   },
   {
    "duration": 35,
    "start_time": "2024-03-06T07:05:57.725Z"
   },
   {
    "duration": 6,
    "start_time": "2024-03-06T07:05:57.763Z"
   },
   {
    "duration": 49,
    "start_time": "2024-03-06T07:05:57.771Z"
   },
   {
    "duration": 2,
    "start_time": "2024-03-06T07:05:57.822Z"
   },
   {
    "duration": 17,
    "start_time": "2024-03-06T07:05:57.826Z"
   },
   {
    "duration": 6,
    "start_time": "2024-03-06T07:05:57.845Z"
   },
   {
    "duration": 11,
    "start_time": "2024-03-06T07:05:57.853Z"
   },
   {
    "duration": 15,
    "start_time": "2024-03-06T07:05:57.866Z"
   },
   {
    "duration": 115,
    "start_time": "2024-03-06T07:05:57.883Z"
   },
   {
    "duration": 0,
    "start_time": "2024-03-06T07:05:58.011Z"
   },
   {
    "duration": 0,
    "start_time": "2024-03-06T07:05:58.013Z"
   },
   {
    "duration": 10,
    "start_time": "2024-03-06T07:06:52.135Z"
   },
   {
    "duration": 9,
    "start_time": "2024-03-06T07:07:26.148Z"
   },
   {
    "duration": 9,
    "start_time": "2024-03-06T07:07:31.818Z"
   },
   {
    "duration": 12,
    "start_time": "2024-03-06T07:07:32.755Z"
   },
   {
    "duration": 36,
    "start_time": "2024-03-06T07:07:41.991Z"
   },
   {
    "duration": 19,
    "start_time": "2024-03-06T07:10:50.024Z"
   },
   {
    "duration": 21,
    "start_time": "2024-03-06T07:11:01.051Z"
   },
   {
    "duration": 15,
    "start_time": "2024-03-06T07:11:09.309Z"
   },
   {
    "duration": 9,
    "start_time": "2024-03-06T07:11:18.488Z"
   },
   {
    "duration": 11,
    "start_time": "2024-03-06T07:11:32.052Z"
   },
   {
    "duration": 10,
    "start_time": "2024-03-06T07:11:42.162Z"
   },
   {
    "duration": 1547,
    "start_time": "2024-03-06T07:11:51.787Z"
   },
   {
    "duration": 74,
    "start_time": "2024-03-06T07:11:53.336Z"
   },
   {
    "duration": 32,
    "start_time": "2024-03-06T07:11:53.412Z"
   },
   {
    "duration": 46,
    "start_time": "2024-03-06T07:11:53.447Z"
   },
   {
    "duration": 14,
    "start_time": "2024-03-06T07:11:53.495Z"
   },
   {
    "duration": 22,
    "start_time": "2024-03-06T07:11:53.510Z"
   },
   {
    "duration": 70,
    "start_time": "2024-03-06T07:11:53.535Z"
   },
   {
    "duration": 21,
    "start_time": "2024-03-06T07:11:53.607Z"
   },
   {
    "duration": 65,
    "start_time": "2024-03-06T07:11:53.631Z"
   },
   {
    "duration": 32,
    "start_time": "2024-03-06T07:11:53.700Z"
   },
   {
    "duration": 63,
    "start_time": "2024-03-06T07:11:53.735Z"
   },
   {
    "duration": 28,
    "start_time": "2024-03-06T07:11:53.801Z"
   },
   {
    "duration": 61,
    "start_time": "2024-03-06T07:11:53.832Z"
   },
   {
    "duration": 15,
    "start_time": "2024-03-06T07:11:53.895Z"
   },
   {
    "duration": 23,
    "start_time": "2024-03-06T07:11:53.912Z"
   },
   {
    "duration": 55,
    "start_time": "2024-03-06T07:11:53.938Z"
   },
   {
    "duration": 23,
    "start_time": "2024-03-06T07:11:53.995Z"
   },
   {
    "duration": 10,
    "start_time": "2024-03-06T07:11:54.020Z"
   },
   {
    "duration": 59,
    "start_time": "2024-03-06T07:11:54.033Z"
   },
   {
    "duration": 9,
    "start_time": "2024-03-06T07:11:54.094Z"
   },
   {
    "duration": 29,
    "start_time": "2024-03-06T07:11:54.105Z"
   },
   {
    "duration": 471,
    "start_time": "2024-03-06T07:11:54.137Z"
   },
   {
    "duration": 8,
    "start_time": "2024-03-06T07:11:54.609Z"
   },
   {
    "duration": 381,
    "start_time": "2024-03-06T07:11:54.619Z"
   },
   {
    "duration": 619,
    "start_time": "2024-03-06T07:11:55.002Z"
   },
   {
    "duration": 631,
    "start_time": "2024-03-06T07:11:55.622Z"
   },
   {
    "duration": 39,
    "start_time": "2024-03-06T07:11:56.254Z"
   },
   {
    "duration": 19,
    "start_time": "2024-03-06T07:11:56.297Z"
   },
   {
    "duration": 17,
    "start_time": "2024-03-06T07:11:56.318Z"
   },
   {
    "duration": 565,
    "start_time": "2024-03-06T07:11:56.337Z"
   },
   {
    "duration": 660,
    "start_time": "2024-03-06T07:11:56.904Z"
   },
   {
    "duration": 33,
    "start_time": "2024-03-06T07:11:57.566Z"
   },
   {
    "duration": 7,
    "start_time": "2024-03-06T07:11:57.601Z"
   },
   {
    "duration": 39,
    "start_time": "2024-03-06T07:11:57.610Z"
   },
   {
    "duration": 3,
    "start_time": "2024-03-06T07:11:57.651Z"
   },
   {
    "duration": 35,
    "start_time": "2024-03-06T07:11:57.656Z"
   },
   {
    "duration": 4,
    "start_time": "2024-03-06T07:11:57.694Z"
   },
   {
    "duration": 7,
    "start_time": "2024-03-06T07:11:57.699Z"
   },
   {
    "duration": 7,
    "start_time": "2024-03-06T07:11:57.707Z"
   },
   {
    "duration": 11,
    "start_time": "2024-03-06T07:11:57.716Z"
   },
   {
    "duration": 135,
    "start_time": "2024-03-06T07:11:57.728Z"
   },
   {
    "duration": 0,
    "start_time": "2024-03-06T07:11:57.865Z"
   },
   {
    "duration": 18,
    "start_time": "2024-03-06T07:12:01.155Z"
   },
   {
    "duration": 40,
    "start_time": "2024-03-06T07:12:05.856Z"
   },
   {
    "duration": 27,
    "start_time": "2024-03-06T07:12:30.005Z"
   },
   {
    "duration": 77,
    "start_time": "2024-03-06T07:12:40.994Z"
   },
   {
    "duration": 45,
    "start_time": "2024-03-06T07:13:03.871Z"
   },
   {
    "duration": 7,
    "start_time": "2024-03-06T07:13:45.542Z"
   },
   {
    "duration": 3,
    "start_time": "2024-03-06T07:13:48.173Z"
   },
   {
    "duration": 6,
    "start_time": "2024-03-06T07:23:24.037Z"
   },
   {
    "duration": 5,
    "start_time": "2024-03-06T07:23:28.656Z"
   },
   {
    "duration": 3,
    "start_time": "2024-03-06T07:24:46.020Z"
   },
   {
    "duration": 6,
    "start_time": "2024-03-06T07:24:48.052Z"
   },
   {
    "duration": 4,
    "start_time": "2024-03-06T07:24:50.456Z"
   },
   {
    "duration": 6,
    "start_time": "2024-03-06T07:30:04.738Z"
   },
   {
    "duration": 4,
    "start_time": "2024-03-06T07:30:08.035Z"
   },
   {
    "duration": 3,
    "start_time": "2024-03-06T07:30:14.957Z"
   },
   {
    "duration": 8,
    "start_time": "2024-03-06T07:31:14.541Z"
   },
   {
    "duration": 4,
    "start_time": "2024-03-06T07:31:19.301Z"
   },
   {
    "duration": 7,
    "start_time": "2024-03-06T07:31:31.379Z"
   },
   {
    "duration": 8,
    "start_time": "2024-03-06T07:32:10.544Z"
   },
   {
    "duration": 5,
    "start_time": "2024-03-06T07:32:12.918Z"
   },
   {
    "duration": 5,
    "start_time": "2024-03-06T07:32:13.944Z"
   },
   {
    "duration": 5,
    "start_time": "2024-03-06T07:34:31.505Z"
   },
   {
    "duration": 6,
    "start_time": "2024-03-06T07:54:36.903Z"
   },
   {
    "duration": 6,
    "start_time": "2024-03-06T07:54:53.124Z"
   },
   {
    "duration": 6,
    "start_time": "2024-03-06T07:55:40.095Z"
   },
   {
    "duration": 6,
    "start_time": "2024-03-06T08:33:16.587Z"
   },
   {
    "duration": 5,
    "start_time": "2024-03-06T08:33:37.282Z"
   },
   {
    "duration": 4,
    "start_time": "2024-03-06T08:33:40.480Z"
   },
   {
    "duration": 6,
    "start_time": "2024-03-06T08:33:43.060Z"
   },
   {
    "duration": 5,
    "start_time": "2024-03-06T08:33:43.881Z"
   },
   {
    "duration": 4,
    "start_time": "2024-03-06T08:35:31.913Z"
   },
   {
    "duration": 100,
    "start_time": "2024-03-06T08:39:12.646Z"
   },
   {
    "duration": 9,
    "start_time": "2024-03-06T08:39:54.705Z"
   },
   {
    "duration": 6,
    "start_time": "2024-03-06T08:40:14.841Z"
   },
   {
    "duration": 7,
    "start_time": "2024-03-06T08:40:19.974Z"
   },
   {
    "duration": 8,
    "start_time": "2024-03-06T08:40:29.829Z"
   },
   {
    "duration": 6,
    "start_time": "2024-03-06T08:40:34.197Z"
   },
   {
    "duration": 11,
    "start_time": "2024-03-06T08:47:06.404Z"
   },
   {
    "duration": 10,
    "start_time": "2024-03-06T08:47:21.558Z"
   },
   {
    "duration": 9,
    "start_time": "2024-03-06T08:47:51.166Z"
   },
   {
    "duration": 9,
    "start_time": "2024-03-06T08:48:24.363Z"
   },
   {
    "duration": 9,
    "start_time": "2024-03-06T08:48:47.823Z"
   },
   {
    "duration": 1163,
    "start_time": "2024-03-06T08:49:02.431Z"
   },
   {
    "duration": 29,
    "start_time": "2024-03-06T08:49:03.596Z"
   },
   {
    "duration": 30,
    "start_time": "2024-03-06T08:49:03.627Z"
   },
   {
    "duration": 15,
    "start_time": "2024-03-06T08:49:03.659Z"
   },
   {
    "duration": 88,
    "start_time": "2024-03-06T08:49:03.676Z"
   },
   {
    "duration": 43,
    "start_time": "2024-03-06T08:49:03.765Z"
   },
   {
    "duration": 16,
    "start_time": "2024-03-06T08:49:03.810Z"
   },
   {
    "duration": 84,
    "start_time": "2024-03-06T08:49:03.828Z"
   },
   {
    "duration": 323,
    "start_time": "2024-03-06T08:49:03.914Z"
   },
   {
    "duration": 214,
    "start_time": "2024-03-06T08:49:04.239Z"
   },
   {
    "duration": 185,
    "start_time": "2024-03-06T08:49:04.455Z"
   },
   {
    "duration": 644,
    "start_time": "2024-03-06T08:49:04.642Z"
   },
   {
    "duration": 130,
    "start_time": "2024-03-06T08:49:05.288Z"
   },
   {
    "duration": 70,
    "start_time": "2024-03-06T08:49:05.420Z"
   },
   {
    "duration": 15,
    "start_time": "2024-03-06T08:49:05.492Z"
   },
   {
    "duration": 14,
    "start_time": "2024-03-06T08:49:05.508Z"
   },
   {
    "duration": 11,
    "start_time": "2024-03-06T08:49:05.524Z"
   },
   {
    "duration": 6,
    "start_time": "2024-03-06T08:49:05.537Z"
   },
   {
    "duration": 5,
    "start_time": "2024-03-06T08:49:05.544Z"
   },
   {
    "duration": 12,
    "start_time": "2024-03-06T08:49:05.550Z"
   },
   {
    "duration": 9,
    "start_time": "2024-03-06T08:49:05.564Z"
   },
   {
    "duration": 205,
    "start_time": "2024-03-06T08:49:05.575Z"
   },
   {
    "duration": 13,
    "start_time": "2024-03-06T08:49:05.781Z"
   },
   {
    "duration": 186,
    "start_time": "2024-03-06T08:49:05.795Z"
   },
   {
    "duration": 316,
    "start_time": "2024-03-06T08:49:05.982Z"
   },
   {
    "duration": 285,
    "start_time": "2024-03-06T08:49:06.300Z"
   },
   {
    "duration": 28,
    "start_time": "2024-03-06T08:49:06.587Z"
   },
   {
    "duration": 18,
    "start_time": "2024-03-06T08:49:06.618Z"
   },
   {
    "duration": 16,
    "start_time": "2024-03-06T08:49:06.637Z"
   },
   {
    "duration": 536,
    "start_time": "2024-03-06T08:49:06.654Z"
   },
   {
    "duration": 609,
    "start_time": "2024-03-06T08:49:07.192Z"
   },
   {
    "duration": 23,
    "start_time": "2024-03-06T08:49:07.803Z"
   },
   {
    "duration": 5,
    "start_time": "2024-03-06T08:49:07.827Z"
   },
   {
    "duration": 39,
    "start_time": "2024-03-06T08:49:07.833Z"
   },
   {
    "duration": 18,
    "start_time": "2024-03-06T08:49:07.874Z"
   },
   {
    "duration": 34,
    "start_time": "2024-03-06T08:49:07.894Z"
   },
   {
    "duration": 16,
    "start_time": "2024-03-06T08:49:07.930Z"
   },
   {
    "duration": 110,
    "start_time": "2024-03-06T08:49:07.947Z"
   },
   {
    "duration": 0,
    "start_time": "2024-03-06T08:49:08.059Z"
   },
   {
    "duration": 0,
    "start_time": "2024-03-06T08:49:08.060Z"
   },
   {
    "duration": 0,
    "start_time": "2024-03-06T08:49:08.061Z"
   },
   {
    "duration": 0,
    "start_time": "2024-03-06T08:49:08.062Z"
   },
   {
    "duration": 0,
    "start_time": "2024-03-06T08:49:08.064Z"
   },
   {
    "duration": 6,
    "start_time": "2024-03-06T08:49:34.241Z"
   },
   {
    "duration": 5,
    "start_time": "2024-03-06T08:50:14.094Z"
   },
   {
    "duration": 5,
    "start_time": "2024-03-06T08:50:16.550Z"
   },
   {
    "duration": 3,
    "start_time": "2024-03-06T08:50:53.546Z"
   },
   {
    "duration": 5,
    "start_time": "2024-03-06T08:51:10.482Z"
   },
   {
    "duration": 6,
    "start_time": "2024-03-06T08:51:15.526Z"
   },
   {
    "duration": 5,
    "start_time": "2024-03-06T08:51:21.335Z"
   },
   {
    "duration": 1171,
    "start_time": "2024-03-06T08:52:06.445Z"
   },
   {
    "duration": 30,
    "start_time": "2024-03-06T08:52:07.618Z"
   },
   {
    "duration": 31,
    "start_time": "2024-03-06T08:52:07.650Z"
   },
   {
    "duration": 16,
    "start_time": "2024-03-06T08:52:07.683Z"
   },
   {
    "duration": 15,
    "start_time": "2024-03-06T08:52:07.700Z"
   },
   {
    "duration": 12,
    "start_time": "2024-03-06T08:52:07.717Z"
   },
   {
    "duration": 29,
    "start_time": "2024-03-06T08:52:07.732Z"
   },
   {
    "duration": 20,
    "start_time": "2024-03-06T08:52:07.762Z"
   },
   {
    "duration": 18,
    "start_time": "2024-03-06T08:52:07.785Z"
   },
   {
    "duration": 19,
    "start_time": "2024-03-06T08:52:07.806Z"
   },
   {
    "duration": 14,
    "start_time": "2024-03-06T08:52:07.827Z"
   },
   {
    "duration": 28,
    "start_time": "2024-03-06T08:52:07.843Z"
   },
   {
    "duration": 16,
    "start_time": "2024-03-06T08:52:07.873Z"
   },
   {
    "duration": 15,
    "start_time": "2024-03-06T08:52:07.891Z"
   },
   {
    "duration": 20,
    "start_time": "2024-03-06T08:52:07.908Z"
   },
   {
    "duration": 31,
    "start_time": "2024-03-06T08:52:07.929Z"
   },
   {
    "duration": 15,
    "start_time": "2024-03-06T08:52:07.962Z"
   },
   {
    "duration": 7,
    "start_time": "2024-03-06T08:52:07.979Z"
   },
   {
    "duration": 17,
    "start_time": "2024-03-06T08:52:07.987Z"
   },
   {
    "duration": 14,
    "start_time": "2024-03-06T08:52:08.006Z"
   },
   {
    "duration": 19,
    "start_time": "2024-03-06T08:52:08.022Z"
   },
   {
    "duration": 227,
    "start_time": "2024-03-06T08:52:08.043Z"
   },
   {
    "duration": 7,
    "start_time": "2024-03-06T08:52:08.272Z"
   },
   {
    "duration": 201,
    "start_time": "2024-03-06T08:52:08.291Z"
   },
   {
    "duration": 291,
    "start_time": "2024-03-06T08:52:08.493Z"
   },
   {
    "duration": 297,
    "start_time": "2024-03-06T08:52:08.786Z"
   },
   {
    "duration": 30,
    "start_time": "2024-03-06T08:52:09.085Z"
   },
   {
    "duration": 21,
    "start_time": "2024-03-06T08:52:09.119Z"
   },
   {
    "duration": 16,
    "start_time": "2024-03-06T08:52:09.142Z"
   },
   {
    "duration": 546,
    "start_time": "2024-03-06T08:52:09.160Z"
   },
   {
    "duration": 693,
    "start_time": "2024-03-06T08:52:09.708Z"
   },
   {
    "duration": 23,
    "start_time": "2024-03-06T08:52:10.403Z"
   },
   {
    "duration": 5,
    "start_time": "2024-03-06T08:52:10.428Z"
   },
   {
    "duration": 44,
    "start_time": "2024-03-06T08:52:10.434Z"
   },
   {
    "duration": 3,
    "start_time": "2024-03-06T08:52:10.492Z"
   },
   {
    "duration": 18,
    "start_time": "2024-03-06T08:52:10.497Z"
   },
   {
    "duration": 41,
    "start_time": "2024-03-06T08:52:10.517Z"
   },
   {
    "duration": 13,
    "start_time": "2024-03-06T08:52:10.560Z"
   },
   {
    "duration": 6,
    "start_time": "2024-03-06T08:52:10.575Z"
   },
   {
    "duration": 139,
    "start_time": "2024-03-06T08:52:10.582Z"
   },
   {
    "duration": 0,
    "start_time": "2024-03-06T08:52:10.723Z"
   },
   {
    "duration": 0,
    "start_time": "2024-03-06T08:52:10.724Z"
   },
   {
    "duration": 21,
    "start_time": "2024-03-06T08:52:43.265Z"
   },
   {
    "duration": 7,
    "start_time": "2024-03-06T08:52:46.350Z"
   },
   {
    "duration": 5,
    "start_time": "2024-03-06T08:52:49.802Z"
   },
   {
    "duration": 10,
    "start_time": "2024-03-06T08:59:12.987Z"
   },
   {
    "duration": 10,
    "start_time": "2024-03-06T08:59:47.013Z"
   },
   {
    "duration": 28,
    "start_time": "2024-03-06T09:00:01.175Z"
   },
   {
    "duration": 6,
    "start_time": "2024-03-06T09:00:09.722Z"
   },
   {
    "duration": 10,
    "start_time": "2024-03-06T09:02:42.856Z"
   },
   {
    "duration": 5,
    "start_time": "2024-03-06T09:02:52.036Z"
   },
   {
    "duration": 4,
    "start_time": "2024-03-06T09:04:04.320Z"
   },
   {
    "duration": 15322,
    "start_time": "2024-03-06T09:08:10.421Z"
   },
   {
    "duration": 170,
    "start_time": "2024-03-06T09:52:30.363Z"
   },
   {
    "duration": 487,
    "start_time": "2024-03-06T09:52:46.706Z"
   },
   {
    "duration": 238,
    "start_time": "2024-03-06T09:53:30.294Z"
   },
   {
    "duration": 1514,
    "start_time": "2024-03-06T09:55:06.634Z"
   },
   {
    "duration": 826,
    "start_time": "2024-03-06T09:57:05.928Z"
   },
   {
    "duration": 49,
    "start_time": "2024-03-06T09:57:15.463Z"
   },
   {
    "duration": 13848,
    "start_time": "2024-03-06T09:57:58.838Z"
   },
   {
    "duration": 44,
    "start_time": "2024-03-06T09:58:12.688Z"
   },
   {
    "duration": 1657,
    "start_time": "2024-03-06T09:58:22.134Z"
   },
   {
    "duration": 13970,
    "start_time": "2024-03-06T10:01:57.837Z"
   },
   {
    "duration": 5,
    "start_time": "2024-03-06T10:12:18.322Z"
   },
   {
    "duration": 5,
    "start_time": "2024-03-06T10:12:24.428Z"
   },
   {
    "duration": 5,
    "start_time": "2024-03-06T10:12:32.352Z"
   },
   {
    "duration": 81,
    "start_time": "2024-03-06T10:15:39.793Z"
   },
   {
    "duration": 5,
    "start_time": "2024-03-06T10:19:07.195Z"
   },
   {
    "duration": 184,
    "start_time": "2024-03-06T10:22:18.775Z"
   },
   {
    "duration": 200,
    "start_time": "2024-03-06T10:23:29.899Z"
   },
   {
    "duration": 186,
    "start_time": "2024-03-06T10:24:43.228Z"
   },
   {
    "duration": 188,
    "start_time": "2024-03-06T10:25:35.269Z"
   },
   {
    "duration": 205,
    "start_time": "2024-03-06T10:27:55.349Z"
   },
   {
    "duration": 14091,
    "start_time": "2024-03-06T10:33:36.200Z"
   },
   {
    "duration": 179,
    "start_time": "2024-03-06T10:33:50.293Z"
   },
   {
    "duration": 13,
    "start_time": "2024-03-06T10:36:00.142Z"
   },
   {
    "duration": 184,
    "start_time": "2024-03-06T10:36:23.797Z"
   },
   {
    "duration": 219,
    "start_time": "2024-03-06T10:37:41.080Z"
   },
   {
    "duration": 209,
    "start_time": "2024-03-06T10:42:00.146Z"
   },
   {
    "duration": 236,
    "start_time": "2024-03-06T10:42:16.142Z"
   },
   {
    "duration": 230,
    "start_time": "2024-03-06T10:42:24.515Z"
   },
   {
    "duration": 454,
    "start_time": "2024-03-06T10:43:07.114Z"
   },
   {
    "duration": 472,
    "start_time": "2024-03-06T10:43:32.402Z"
   },
   {
    "duration": 3032,
    "start_time": "2024-03-06T10:43:42.564Z"
   },
   {
    "duration": 231,
    "start_time": "2024-03-06T10:43:54.646Z"
   },
   {
    "duration": 228,
    "start_time": "2024-03-06T10:59:56.446Z"
   },
   {
    "duration": 11,
    "start_time": "2024-03-06T11:05:27.088Z"
   },
   {
    "duration": 11,
    "start_time": "2024-03-06T11:05:37.315Z"
   },
   {
    "duration": 7,
    "start_time": "2024-03-06T11:05:53.511Z"
   },
   {
    "duration": 7,
    "start_time": "2024-03-06T11:08:03.327Z"
   },
   {
    "duration": 7,
    "start_time": "2024-03-06T11:09:38.244Z"
   },
   {
    "duration": 6,
    "start_time": "2024-03-06T11:09:45.752Z"
   },
   {
    "duration": 7,
    "start_time": "2024-03-06T11:15:29.572Z"
   },
   {
    "duration": 5,
    "start_time": "2024-03-06T11:15:45.319Z"
   },
   {
    "duration": 6,
    "start_time": "2024-03-06T11:15:52.299Z"
   },
   {
    "duration": 7,
    "start_time": "2024-03-06T11:17:34.331Z"
   },
   {
    "duration": 7,
    "start_time": "2024-03-06T11:17:39.847Z"
   },
   {
    "duration": 6,
    "start_time": "2024-03-06T11:20:13.419Z"
   },
   {
    "duration": 7,
    "start_time": "2024-03-06T11:20:23.908Z"
   },
   {
    "duration": 6,
    "start_time": "2024-03-06T11:20:32.944Z"
   },
   {
    "duration": 7,
    "start_time": "2024-03-06T11:20:39.980Z"
   },
   {
    "duration": 7,
    "start_time": "2024-03-06T11:20:46.160Z"
   },
   {
    "duration": 6,
    "start_time": "2024-03-06T11:21:10.042Z"
   },
   {
    "duration": 16,
    "start_time": "2024-03-06T11:38:37.183Z"
   },
   {
    "duration": 6,
    "start_time": "2024-03-06T11:39:32.091Z"
   },
   {
    "duration": 183,
    "start_time": "2024-03-06T11:40:07.010Z"
   },
   {
    "duration": 188,
    "start_time": "2024-03-06T11:40:21.207Z"
   },
   {
    "duration": 179,
    "start_time": "2024-03-06T11:42:16.388Z"
   },
   {
    "duration": 4,
    "start_time": "2024-03-06T11:42:35.663Z"
   },
   {
    "duration": 198,
    "start_time": "2024-03-06T13:13:52.244Z"
   },
   {
    "duration": 5,
    "start_time": "2024-03-06T13:15:17.021Z"
   },
   {
    "duration": 6,
    "start_time": "2024-03-06T13:15:30.646Z"
   },
   {
    "duration": 7,
    "start_time": "2024-03-06T13:15:42.369Z"
   },
   {
    "duration": 6,
    "start_time": "2024-03-06T13:15:48.649Z"
   },
   {
    "duration": 203,
    "start_time": "2024-03-06T13:16:01.527Z"
   },
   {
    "duration": 185,
    "start_time": "2024-03-06T13:21:32.048Z"
   },
   {
    "duration": 180,
    "start_time": "2024-03-06T13:21:38.932Z"
   },
   {
    "duration": 186,
    "start_time": "2024-03-06T13:21:47.500Z"
   },
   {
    "duration": 142,
    "start_time": "2024-03-06T13:22:35.160Z"
   },
   {
    "duration": 182,
    "start_time": "2024-03-06T13:22:43.732Z"
   },
   {
    "duration": 5,
    "start_time": "2024-03-06T13:36:19.354Z"
   },
   {
    "duration": 4,
    "start_time": "2024-03-06T13:37:17.020Z"
   },
   {
    "duration": 181,
    "start_time": "2024-03-07T07:17:20.557Z"
   },
   {
    "duration": 400,
    "start_time": "2024-03-07T07:20:36.245Z"
   },
   {
    "duration": 388,
    "start_time": "2024-03-07T07:26:08.859Z"
   },
   {
    "duration": 196,
    "start_time": "2024-03-07T07:26:26.462Z"
   },
   {
    "duration": 355,
    "start_time": "2024-03-07T07:27:03.691Z"
   },
   {
    "duration": 391,
    "start_time": "2024-03-07T07:28:36.151Z"
   },
   {
    "duration": 403,
    "start_time": "2024-03-07T07:29:32.447Z"
   },
   {
    "duration": 397,
    "start_time": "2024-03-07T07:30:21.011Z"
   },
   {
    "duration": 1182,
    "start_time": "2024-03-07T07:37:57.797Z"
   },
   {
    "duration": 29,
    "start_time": "2024-03-07T07:37:58.981Z"
   },
   {
    "duration": 30,
    "start_time": "2024-03-07T07:37:59.012Z"
   },
   {
    "duration": 15,
    "start_time": "2024-03-07T07:37:59.044Z"
   },
   {
    "duration": 12,
    "start_time": "2024-03-07T07:37:59.061Z"
   },
   {
    "duration": 11,
    "start_time": "2024-03-07T07:37:59.075Z"
   },
   {
    "duration": 10,
    "start_time": "2024-03-07T07:37:59.087Z"
   },
   {
    "duration": 12,
    "start_time": "2024-03-07T07:37:59.099Z"
   },
   {
    "duration": 7,
    "start_time": "2024-03-07T07:37:59.112Z"
   },
   {
    "duration": 11,
    "start_time": "2024-03-07T07:37:59.122Z"
   },
   {
    "duration": 9,
    "start_time": "2024-03-07T07:37:59.134Z"
   },
   {
    "duration": 11,
    "start_time": "2024-03-07T07:37:59.145Z"
   },
   {
    "duration": 35,
    "start_time": "2024-03-07T07:37:59.157Z"
   },
   {
    "duration": 11,
    "start_time": "2024-03-07T07:37:59.193Z"
   },
   {
    "duration": 7,
    "start_time": "2024-03-07T07:37:59.206Z"
   },
   {
    "duration": 6,
    "start_time": "2024-03-07T07:37:59.215Z"
   },
   {
    "duration": 11,
    "start_time": "2024-03-07T07:37:59.223Z"
   },
   {
    "duration": 6,
    "start_time": "2024-03-07T07:37:59.236Z"
   },
   {
    "duration": 6,
    "start_time": "2024-03-07T07:37:59.243Z"
   },
   {
    "duration": 44,
    "start_time": "2024-03-07T07:37:59.250Z"
   },
   {
    "duration": 10,
    "start_time": "2024-03-07T07:37:59.296Z"
   },
   {
    "duration": 188,
    "start_time": "2024-03-07T07:37:59.308Z"
   },
   {
    "duration": 8,
    "start_time": "2024-03-07T07:37:59.498Z"
   },
   {
    "duration": 175,
    "start_time": "2024-03-07T07:37:59.508Z"
   },
   {
    "duration": 308,
    "start_time": "2024-03-07T07:37:59.691Z"
   },
   {
    "duration": 333,
    "start_time": "2024-03-07T07:38:00.000Z"
   },
   {
    "duration": 29,
    "start_time": "2024-03-07T07:38:00.335Z"
   },
   {
    "duration": 54,
    "start_time": "2024-03-07T07:38:00.367Z"
   },
   {
    "duration": 31,
    "start_time": "2024-03-07T07:38:00.423Z"
   },
   {
    "duration": 547,
    "start_time": "2024-03-07T07:38:00.455Z"
   },
   {
    "duration": 1116,
    "start_time": "2024-03-07T07:38:01.004Z"
   },
   {
    "duration": 75,
    "start_time": "2024-03-07T07:38:02.122Z"
   },
   {
    "duration": 30,
    "start_time": "2024-03-07T07:38:02.199Z"
   },
   {
    "duration": 335,
    "start_time": "2024-03-07T07:38:02.231Z"
   },
   {
    "duration": 7,
    "start_time": "2024-03-07T07:38:02.567Z"
   },
   {
    "duration": 42,
    "start_time": "2024-03-07T07:38:02.576Z"
   },
   {
    "duration": 21,
    "start_time": "2024-03-07T07:38:02.620Z"
   },
   {
    "duration": 54,
    "start_time": "2024-03-07T07:38:02.642Z"
   },
   {
    "duration": 8,
    "start_time": "2024-03-07T07:38:02.698Z"
   },
   {
    "duration": 147,
    "start_time": "2024-03-07T07:38:02.708Z"
   },
   {
    "duration": 0,
    "start_time": "2024-03-07T07:38:02.857Z"
   },
   {
    "duration": 0,
    "start_time": "2024-03-07T07:38:02.858Z"
   },
   {
    "duration": 0,
    "start_time": "2024-03-07T07:38:02.859Z"
   },
   {
    "duration": 0,
    "start_time": "2024-03-07T07:38:02.860Z"
   },
   {
    "duration": 14,
    "start_time": "2024-03-07T07:38:06.533Z"
   },
   {
    "duration": 385,
    "start_time": "2024-03-07T07:38:46.384Z"
   },
   {
    "duration": 1196,
    "start_time": "2024-03-07T07:41:00.503Z"
   },
   {
    "duration": 30,
    "start_time": "2024-03-07T07:41:01.702Z"
   },
   {
    "duration": 144,
    "start_time": "2024-03-07T07:41:01.733Z"
   },
   {
    "duration": 94,
    "start_time": "2024-03-07T07:41:01.879Z"
   },
   {
    "duration": 87,
    "start_time": "2024-03-07T07:41:01.975Z"
   },
   {
    "duration": 35,
    "start_time": "2024-03-07T07:41:02.064Z"
   },
   {
    "duration": 88,
    "start_time": "2024-03-07T07:41:02.101Z"
   },
   {
    "duration": 74,
    "start_time": "2024-03-07T07:41:02.190Z"
   },
   {
    "duration": 56,
    "start_time": "2024-03-07T07:41:02.266Z"
   },
   {
    "duration": 31,
    "start_time": "2024-03-07T07:41:02.325Z"
   },
   {
    "duration": 30,
    "start_time": "2024-03-07T07:41:02.358Z"
   },
   {
    "duration": 19,
    "start_time": "2024-03-07T07:41:02.390Z"
   },
   {
    "duration": 12,
    "start_time": "2024-03-07T07:41:02.411Z"
   },
   {
    "duration": 186,
    "start_time": "2024-03-07T07:41:02.425Z"
   },
   {
    "duration": 38,
    "start_time": "2024-03-07T07:41:02.613Z"
   },
   {
    "duration": 19,
    "start_time": "2024-03-07T07:41:02.653Z"
   },
   {
    "duration": 54,
    "start_time": "2024-03-07T07:41:02.674Z"
   },
   {
    "duration": 65,
    "start_time": "2024-03-07T07:41:02.730Z"
   },
   {
    "duration": 10,
    "start_time": "2024-03-07T07:41:02.797Z"
   },
   {
    "duration": 16,
    "start_time": "2024-03-07T07:41:02.808Z"
   },
   {
    "duration": 23,
    "start_time": "2024-03-07T07:41:02.825Z"
   },
   {
    "duration": 202,
    "start_time": "2024-03-07T07:41:02.849Z"
   },
   {
    "duration": 7,
    "start_time": "2024-03-07T07:41:03.053Z"
   },
   {
    "duration": 225,
    "start_time": "2024-03-07T07:41:03.062Z"
   },
   {
    "duration": 295,
    "start_time": "2024-03-07T07:41:03.289Z"
   },
   {
    "duration": 288,
    "start_time": "2024-03-07T07:41:03.586Z"
   },
   {
    "duration": 33,
    "start_time": "2024-03-07T07:41:03.877Z"
   },
   {
    "duration": 469,
    "start_time": "2024-03-07T07:41:03.915Z"
   },
   {
    "duration": 165,
    "start_time": "2024-03-07T07:41:04.386Z"
   },
   {
    "duration": 501,
    "start_time": "2024-03-07T07:41:04.553Z"
   },
   {
    "duration": 598,
    "start_time": "2024-03-07T07:41:05.056Z"
   },
   {
    "duration": 22,
    "start_time": "2024-03-07T07:41:05.656Z"
   },
   {
    "duration": 13,
    "start_time": "2024-03-07T07:41:05.680Z"
   },
   {
    "duration": 51,
    "start_time": "2024-03-07T07:41:05.695Z"
   },
   {
    "duration": 9,
    "start_time": "2024-03-07T07:41:05.747Z"
   },
   {
    "duration": 8,
    "start_time": "2024-03-07T07:41:05.758Z"
   },
   {
    "duration": 21,
    "start_time": "2024-03-07T07:41:05.768Z"
   },
   {
    "duration": 30,
    "start_time": "2024-03-07T07:41:05.791Z"
   },
   {
    "duration": 32,
    "start_time": "2024-03-07T07:41:05.823Z"
   },
   {
    "duration": 130,
    "start_time": "2024-03-07T07:41:05.856Z"
   },
   {
    "duration": 0,
    "start_time": "2024-03-07T07:41:05.992Z"
   },
   {
    "duration": 0,
    "start_time": "2024-03-07T07:41:05.993Z"
   },
   {
    "duration": 0,
    "start_time": "2024-03-07T07:41:05.994Z"
   },
   {
    "duration": 0,
    "start_time": "2024-03-07T07:41:05.995Z"
   },
   {
    "duration": 2511,
    "start_time": "2024-03-07T07:50:24.994Z"
   },
   {
    "duration": 1610,
    "start_time": "2024-03-07T07:56:48.815Z"
   },
   {
    "duration": 1614,
    "start_time": "2024-03-07T07:57:49.535Z"
   },
   {
    "duration": 126829,
    "start_time": "2024-03-07T07:58:28.442Z"
   },
   {
    "duration": 190,
    "start_time": "2024-03-07T08:20:52.363Z"
   },
   {
    "duration": 192,
    "start_time": "2024-03-07T08:21:19.395Z"
   },
   {
    "duration": 202,
    "start_time": "2024-03-07T08:21:26.471Z"
   },
   {
    "duration": 190,
    "start_time": "2024-03-07T08:21:54.731Z"
   },
   {
    "duration": 6593,
    "start_time": "2024-03-07T08:24:07.279Z"
   },
   {
    "duration": 239,
    "start_time": "2024-03-07T08:24:54.307Z"
   },
   {
    "duration": 194,
    "start_time": "2024-03-07T08:25:18.423Z"
   },
   {
    "duration": 197,
    "start_time": "2024-03-07T08:25:28.963Z"
   },
   {
    "duration": 187,
    "start_time": "2024-03-07T08:25:41.316Z"
   },
   {
    "duration": 3,
    "start_time": "2024-03-07T08:28:48.319Z"
   },
   {
    "duration": 83,
    "start_time": "2024-03-07T08:28:50.323Z"
   },
   {
    "duration": 9,
    "start_time": "2024-03-07T08:29:01.568Z"
   },
   {
    "duration": 581,
    "start_time": "2024-03-07T08:29:41.755Z"
   },
   {
    "duration": 3,
    "start_time": "2024-03-07T08:30:48.531Z"
   },
   {
    "duration": 3,
    "start_time": "2024-03-07T08:30:50.575Z"
   },
   {
    "duration": 4977,
    "start_time": "2024-03-07T08:30:52.003Z"
   },
   {
    "duration": 58,
    "start_time": "2024-03-07T08:32:49.815Z"
   },
   {
    "duration": 6,
    "start_time": "2024-03-07T08:33:14.213Z"
   },
   {
    "duration": 2,
    "start_time": "2024-03-07T08:38:38.345Z"
   },
   {
    "duration": 3,
    "start_time": "2024-03-07T08:38:49.624Z"
   },
   {
    "duration": 3,
    "start_time": "2024-03-07T08:39:03.644Z"
   },
   {
    "duration": 3,
    "start_time": "2024-03-07T08:39:11.784Z"
   },
   {
    "duration": 254,
    "start_time": "2024-03-07T08:39:20.472Z"
   },
   {
    "duration": 3,
    "start_time": "2024-03-07T08:44:40.355Z"
   },
   {
    "duration": 2,
    "start_time": "2024-03-07T08:44:41.576Z"
   },
   {
    "duration": 3,
    "start_time": "2024-03-07T08:44:43.068Z"
   },
   {
    "duration": 211,
    "start_time": "2024-03-07T08:45:01.536Z"
   },
   {
    "duration": 3,
    "start_time": "2024-03-07T08:45:26.316Z"
   },
   {
    "duration": 3,
    "start_time": "2024-03-07T08:45:27.228Z"
   },
   {
    "duration": 3,
    "start_time": "2024-03-07T08:45:28.428Z"
   },
   {
    "duration": 3,
    "start_time": "2024-03-07T08:45:28.946Z"
   },
   {
    "duration": 216,
    "start_time": "2024-03-07T08:45:29.624Z"
   },
   {
    "duration": 5,
    "start_time": "2024-03-07T08:45:43.496Z"
   },
   {
    "duration": 3,
    "start_time": "2024-03-07T08:45:44.020Z"
   },
   {
    "duration": 6,
    "start_time": "2024-03-07T08:45:44.504Z"
   },
   {
    "duration": 200,
    "start_time": "2024-03-07T08:45:45.169Z"
   },
   {
    "duration": 25,
    "start_time": "2024-03-07T08:45:55.568Z"
   },
   {
    "duration": 3,
    "start_time": "2024-03-07T08:45:56.336Z"
   },
   {
    "duration": 30,
    "start_time": "2024-03-07T08:45:56.916Z"
   },
   {
    "duration": 255,
    "start_time": "2024-03-07T08:45:57.720Z"
   },
   {
    "duration": 3,
    "start_time": "2024-03-07T08:48:08.609Z"
   },
   {
    "duration": 25,
    "start_time": "2024-03-07T08:48:12.341Z"
   },
   {
    "duration": 3,
    "start_time": "2024-03-07T08:48:12.832Z"
   },
   {
    "duration": 31,
    "start_time": "2024-03-07T08:48:13.524Z"
   },
   {
    "duration": 3,
    "start_time": "2024-03-07T08:53:12.610Z"
   },
   {
    "duration": 3,
    "start_time": "2024-03-07T08:53:14.618Z"
   },
   {
    "duration": 2,
    "start_time": "2024-03-07T08:53:16.133Z"
   },
   {
    "duration": 4,
    "start_time": "2024-03-07T08:53:17.433Z"
   },
   {
    "duration": 416,
    "start_time": "2024-03-07T08:53:20.125Z"
   },
   {
    "duration": 415,
    "start_time": "2024-03-07T09:10:55.157Z"
   },
   {
    "duration": 8,
    "start_time": "2024-03-07T09:14:05.323Z"
   },
   {
    "duration": 3,
    "start_time": "2024-03-07T09:14:09.172Z"
   },
   {
    "duration": 191,
    "start_time": "2024-03-07T09:14:10.762Z"
   },
   {
    "duration": 8,
    "start_time": "2024-03-07T09:14:11.829Z"
   },
   {
    "duration": 5,
    "start_time": "2024-03-07T09:17:38.252Z"
   },
   {
    "duration": 4449,
    "start_time": "2024-03-07T09:20:54.934Z"
   },
   {
    "duration": 4429,
    "start_time": "2024-03-07T09:22:40.866Z"
   },
   {
    "duration": 4432,
    "start_time": "2024-03-07T09:22:56.092Z"
   },
   {
    "duration": 4553,
    "start_time": "2024-03-07T09:24:57.561Z"
   },
   {
    "duration": 0,
    "start_time": "2024-03-07T09:43:32.556Z"
   },
   {
    "duration": 0,
    "start_time": "2024-03-07T09:43:32.556Z"
   },
   {
    "duration": 0,
    "start_time": "2024-03-07T09:43:32.558Z"
   },
   {
    "duration": 0,
    "start_time": "2024-03-07T09:43:32.559Z"
   },
   {
    "duration": 3,
    "start_time": "2024-03-07T09:43:36.480Z"
   },
   {
    "duration": 4,
    "start_time": "2024-03-07T09:43:38.515Z"
   },
   {
    "duration": 32,
    "start_time": "2024-03-07T09:43:40.984Z"
   },
   {
    "duration": 303,
    "start_time": "2024-03-07T09:43:43.077Z"
   },
   {
    "duration": 2,
    "start_time": "2024-03-07T09:43:55.057Z"
   },
   {
    "duration": 2,
    "start_time": "2024-03-07T09:43:57.587Z"
   },
   {
    "duration": 31,
    "start_time": "2024-03-07T09:44:00.898Z"
   },
   {
    "duration": 195,
    "start_time": "2024-03-07T09:44:02.726Z"
   },
   {
    "duration": 3,
    "start_time": "2024-03-07T09:48:28.050Z"
   },
   {
    "duration": 3,
    "start_time": "2024-03-07T09:48:29.781Z"
   },
   {
    "duration": 31,
    "start_time": "2024-03-07T09:48:32.189Z"
   },
   {
    "duration": 205,
    "start_time": "2024-03-07T09:48:38.878Z"
   },
   {
    "duration": 3,
    "start_time": "2024-03-07T09:48:59.307Z"
   },
   {
    "duration": 3,
    "start_time": "2024-03-07T09:49:01.020Z"
   },
   {
    "duration": 30,
    "start_time": "2024-03-07T09:49:03.001Z"
   },
   {
    "duration": 198,
    "start_time": "2024-03-07T09:49:04.938Z"
   },
   {
    "duration": 126,
    "start_time": "2024-03-07T09:58:41.978Z"
   },
   {
    "duration": 105,
    "start_time": "2024-03-07T09:59:04.823Z"
   },
   {
    "duration": 4,
    "start_time": "2024-03-07T09:59:11.833Z"
   },
   {
    "duration": 4,
    "start_time": "2024-03-07T10:02:04.504Z"
   },
   {
    "duration": 3,
    "start_time": "2024-03-07T10:02:14.116Z"
   },
   {
    "duration": 3,
    "start_time": "2024-03-07T10:02:15.895Z"
   },
   {
    "duration": 3,
    "start_time": "2024-03-07T10:02:18.123Z"
   },
   {
    "duration": 4,
    "start_time": "2024-03-07T10:07:04.144Z"
   },
   {
    "duration": 4,
    "start_time": "2024-03-07T10:07:15.724Z"
   },
   {
    "duration": 3,
    "start_time": "2024-03-07T10:07:17.341Z"
   },
   {
    "duration": 2,
    "start_time": "2024-03-07T10:07:20.872Z"
   },
   {
    "duration": 324,
    "start_time": "2024-03-07T10:07:22.164Z"
   },
   {
    "duration": 3,
    "start_time": "2024-03-07T10:08:16.200Z"
   },
   {
    "duration": 12,
    "start_time": "2024-03-07T10:08:19.048Z"
   },
   {
    "duration": 3,
    "start_time": "2024-03-07T10:08:26.325Z"
   },
   {
    "duration": 4,
    "start_time": "2024-03-07T10:08:29.808Z"
   },
   {
    "duration": 3,
    "start_time": "2024-03-07T10:08:32.088Z"
   },
   {
    "duration": 12,
    "start_time": "2024-03-07T10:08:34.165Z"
   },
   {
    "duration": 97,
    "start_time": "2024-03-07T10:09:32.212Z"
   },
   {
    "duration": 154,
    "start_time": "2024-03-07T10:09:41.510Z"
   },
   {
    "duration": 210,
    "start_time": "2024-03-07T10:10:32.613Z"
   },
   {
    "duration": 222,
    "start_time": "2024-03-07T10:11:10.876Z"
   },
   {
    "duration": 5,
    "start_time": "2024-03-07T10:11:37.336Z"
   },
   {
    "duration": 220,
    "start_time": "2024-03-07T10:11:51.483Z"
   },
   {
    "duration": 207,
    "start_time": "2024-03-07T10:13:06.837Z"
   },
   {
    "duration": 200,
    "start_time": "2024-03-07T10:13:26.697Z"
   },
   {
    "duration": 323,
    "start_time": "2024-03-07T10:14:20.218Z"
   },
   {
    "duration": 171,
    "start_time": "2024-03-07T10:14:33.647Z"
   },
   {
    "duration": 42,
    "start_time": "2024-03-07T10:14:37.309Z"
   },
   {
    "duration": 53,
    "start_time": "2024-03-07T10:14:48.157Z"
   },
   {
    "duration": 208,
    "start_time": "2024-03-07T10:15:42.771Z"
   },
   {
    "duration": 209,
    "start_time": "2024-03-07T10:15:50.854Z"
   },
   {
    "duration": 508,
    "start_time": "2024-03-07T10:17:12.179Z"
   },
   {
    "duration": 249,
    "start_time": "2024-03-07T10:17:35.010Z"
   },
   {
    "duration": 5,
    "start_time": "2024-03-07T10:19:46.794Z"
   },
   {
    "duration": 98,
    "start_time": "2024-03-07T10:21:55.672Z"
   },
   {
    "duration": 252,
    "start_time": "2024-03-07T10:22:03.113Z"
   },
   {
    "duration": 9,
    "start_time": "2024-03-07T10:23:36.259Z"
   },
   {
    "duration": 8,
    "start_time": "2024-03-07T10:25:36.507Z"
   },
   {
    "duration": 5,
    "start_time": "2024-03-07T10:25:49.577Z"
   },
   {
    "duration": 182,
    "start_time": "2024-03-07T10:26:31.231Z"
   },
   {
    "duration": 5,
    "start_time": "2024-03-07T10:26:44.817Z"
   },
   {
    "duration": 5,
    "start_time": "2024-03-07T10:27:19.707Z"
   },
   {
    "duration": 6,
    "start_time": "2024-03-07T10:27:33.390Z"
   },
   {
    "duration": 4,
    "start_time": "2024-03-07T10:28:26.253Z"
   },
   {
    "duration": 96,
    "start_time": "2024-03-07T10:28:51.614Z"
   },
   {
    "duration": 27,
    "start_time": "2024-03-07T10:55:03.238Z"
   },
   {
    "duration": 16,
    "start_time": "2024-03-07T11:16:09.773Z"
   },
   {
    "duration": 1237,
    "start_time": "2024-03-07T11:16:29.552Z"
   },
   {
    "duration": 87,
    "start_time": "2024-03-07T11:16:30.791Z"
   },
   {
    "duration": 294,
    "start_time": "2024-03-07T11:16:30.880Z"
   },
   {
    "duration": 102,
    "start_time": "2024-03-07T11:16:31.176Z"
   },
   {
    "duration": 369,
    "start_time": "2024-03-07T11:16:31.280Z"
   },
   {
    "duration": 154,
    "start_time": "2024-03-07T11:16:31.651Z"
   },
   {
    "duration": 91,
    "start_time": "2024-03-07T11:16:31.807Z"
   },
   {
    "duration": 57,
    "start_time": "2024-03-07T11:16:31.899Z"
   },
   {
    "duration": 82,
    "start_time": "2024-03-07T11:16:31.958Z"
   },
   {
    "duration": 56,
    "start_time": "2024-03-07T11:16:32.044Z"
   },
   {
    "duration": 90,
    "start_time": "2024-03-07T11:16:32.102Z"
   },
   {
    "duration": 54,
    "start_time": "2024-03-07T11:16:32.194Z"
   },
   {
    "duration": 85,
    "start_time": "2024-03-07T11:16:32.251Z"
   },
   {
    "duration": 114,
    "start_time": "2024-03-07T11:16:32.338Z"
   },
   {
    "duration": 111,
    "start_time": "2024-03-07T11:16:32.454Z"
   },
   {
    "duration": 202,
    "start_time": "2024-03-07T11:16:32.566Z"
   },
   {
    "duration": 207,
    "start_time": "2024-03-07T11:16:32.770Z"
   },
   {
    "duration": 73,
    "start_time": "2024-03-07T11:16:32.979Z"
   },
   {
    "duration": 31,
    "start_time": "2024-03-07T11:16:33.054Z"
   },
   {
    "duration": 29,
    "start_time": "2024-03-07T11:16:33.087Z"
   },
   {
    "duration": 24,
    "start_time": "2024-03-07T11:16:33.118Z"
   },
   {
    "duration": 196,
    "start_time": "2024-03-07T11:16:33.144Z"
   },
   {
    "duration": 7,
    "start_time": "2024-03-07T11:16:33.342Z"
   },
   {
    "duration": 345,
    "start_time": "2024-03-07T11:16:33.351Z"
   },
   {
    "duration": 299,
    "start_time": "2024-03-07T11:16:33.698Z"
   },
   {
    "duration": 302,
    "start_time": "2024-03-07T11:16:33.999Z"
   },
   {
    "duration": 28,
    "start_time": "2024-03-07T11:16:34.302Z"
   },
   {
    "duration": 18,
    "start_time": "2024-03-07T11:16:34.333Z"
   },
   {
    "duration": 40,
    "start_time": "2024-03-07T11:16:34.353Z"
   },
   {
    "duration": 511,
    "start_time": "2024-03-07T11:16:34.394Z"
   },
   {
    "duration": 591,
    "start_time": "2024-03-07T11:16:34.907Z"
   },
   {
    "duration": 22,
    "start_time": "2024-03-07T11:16:35.499Z"
   },
   {
    "duration": 4,
    "start_time": "2024-03-07T11:16:35.523Z"
   },
   {
    "duration": 41,
    "start_time": "2024-03-07T11:16:35.529Z"
   },
   {
    "duration": 2,
    "start_time": "2024-03-07T11:16:35.572Z"
   },
   {
    "duration": 23,
    "start_time": "2024-03-07T11:16:35.576Z"
   },
   {
    "duration": 10,
    "start_time": "2024-03-07T11:16:35.601Z"
   },
   {
    "duration": 26,
    "start_time": "2024-03-07T11:16:35.613Z"
   },
   {
    "duration": 16,
    "start_time": "2024-03-07T11:16:35.641Z"
   },
   {
    "duration": 152,
    "start_time": "2024-03-07T11:16:35.659Z"
   },
   {
    "duration": 0,
    "start_time": "2024-03-07T11:16:35.813Z"
   },
   {
    "duration": 0,
    "start_time": "2024-03-07T11:16:35.815Z"
   },
   {
    "duration": 0,
    "start_time": "2024-03-07T11:16:35.816Z"
   },
   {
    "duration": 0,
    "start_time": "2024-03-07T11:16:35.818Z"
   },
   {
    "duration": 0,
    "start_time": "2024-03-07T11:16:35.819Z"
   },
   {
    "duration": 0,
    "start_time": "2024-03-07T11:16:35.820Z"
   },
   {
    "duration": 0,
    "start_time": "2024-03-07T11:16:35.821Z"
   },
   {
    "duration": 0,
    "start_time": "2024-03-07T11:16:35.823Z"
   },
   {
    "duration": 37,
    "start_time": "2024-03-07T11:34:44.710Z"
   },
   {
    "duration": 14,
    "start_time": "2024-03-07T11:35:26.298Z"
   },
   {
    "duration": 23,
    "start_time": "2024-03-07T11:35:49.186Z"
   },
   {
    "duration": 7,
    "start_time": "2024-03-07T11:35:52.458Z"
   },
   {
    "duration": 4,
    "start_time": "2024-03-07T11:35:55.131Z"
   },
   {
    "duration": 399,
    "start_time": "2024-03-07T11:36:11.495Z"
   },
   {
    "duration": 4,
    "start_time": "2024-03-07T11:36:17.430Z"
   },
   {
    "duration": 4,
    "start_time": "2024-03-07T11:36:20.056Z"
   },
   {
    "duration": 3,
    "start_time": "2024-03-07T11:36:22.776Z"
   },
   {
    "duration": 44,
    "start_time": "2024-03-07T11:36:24.491Z"
   },
   {
    "duration": 256,
    "start_time": "2024-03-07T11:36:41.640Z"
   },
   {
    "duration": 4,
    "start_time": "2024-03-07T11:36:46.735Z"
   },
   {
    "duration": 6,
    "start_time": "2024-03-07T11:57:39.879Z"
   },
   {
    "duration": 4,
    "start_time": "2024-03-07T11:57:44.034Z"
   },
   {
    "duration": 6,
    "start_time": "2024-03-07T12:03:25.263Z"
   },
   {
    "duration": 4,
    "start_time": "2024-03-07T12:03:27.939Z"
   },
   {
    "duration": 6,
    "start_time": "2024-03-07T12:04:12.670Z"
   },
   {
    "duration": 5,
    "start_time": "2024-03-07T12:04:23.898Z"
   },
   {
    "duration": 1209,
    "start_time": "2024-03-07T12:24:12.472Z"
   },
   {
    "duration": 29,
    "start_time": "2024-03-07T12:24:13.683Z"
   },
   {
    "duration": 29,
    "start_time": "2024-03-07T12:24:13.714Z"
   },
   {
    "duration": 15,
    "start_time": "2024-03-07T12:24:13.745Z"
   },
   {
    "duration": 13,
    "start_time": "2024-03-07T12:24:13.762Z"
   },
   {
    "duration": 19,
    "start_time": "2024-03-07T12:24:13.776Z"
   },
   {
    "duration": 11,
    "start_time": "2024-03-07T12:24:13.796Z"
   },
   {
    "duration": 13,
    "start_time": "2024-03-07T12:24:13.808Z"
   },
   {
    "duration": 7,
    "start_time": "2024-03-07T12:24:13.822Z"
   },
   {
    "duration": 10,
    "start_time": "2024-03-07T12:24:13.832Z"
   },
   {
    "duration": 8,
    "start_time": "2024-03-07T12:24:13.844Z"
   },
   {
    "duration": 38,
    "start_time": "2024-03-07T12:24:13.854Z"
   },
   {
    "duration": 5,
    "start_time": "2024-03-07T12:24:13.893Z"
   },
   {
    "duration": 11,
    "start_time": "2024-03-07T12:24:13.900Z"
   },
   {
    "duration": 10,
    "start_time": "2024-03-07T12:24:13.913Z"
   },
   {
    "duration": 7,
    "start_time": "2024-03-07T12:24:13.924Z"
   },
   {
    "duration": 14,
    "start_time": "2024-03-07T12:24:13.932Z"
   },
   {
    "duration": 6,
    "start_time": "2024-03-07T12:24:13.948Z"
   },
   {
    "duration": 4,
    "start_time": "2024-03-07T12:24:13.955Z"
   },
   {
    "duration": 36,
    "start_time": "2024-03-07T12:24:13.961Z"
   },
   {
    "duration": 7,
    "start_time": "2024-03-07T12:24:13.999Z"
   },
   {
    "duration": 201,
    "start_time": "2024-03-07T12:24:14.008Z"
   },
   {
    "duration": 7,
    "start_time": "2024-03-07T12:24:14.211Z"
   },
   {
    "duration": 173,
    "start_time": "2024-03-07T12:24:14.220Z"
   },
   {
    "duration": 303,
    "start_time": "2024-03-07T12:24:14.395Z"
   },
   {
    "duration": 296,
    "start_time": "2024-03-07T12:24:14.700Z"
   },
   {
    "duration": 31,
    "start_time": "2024-03-07T12:24:14.997Z"
   },
   {
    "duration": 61,
    "start_time": "2024-03-07T12:24:15.033Z"
   },
   {
    "duration": 74,
    "start_time": "2024-03-07T12:24:15.096Z"
   },
   {
    "duration": 538,
    "start_time": "2024-03-07T12:24:15.171Z"
   },
   {
    "duration": 654,
    "start_time": "2024-03-07T12:24:15.711Z"
   },
   {
    "duration": 29,
    "start_time": "2024-03-07T12:24:16.367Z"
   },
   {
    "duration": 65,
    "start_time": "2024-03-07T12:24:16.397Z"
   },
   {
    "duration": 64,
    "start_time": "2024-03-07T12:24:16.464Z"
   },
   {
    "duration": 35,
    "start_time": "2024-03-07T12:24:16.529Z"
   },
   {
    "duration": 40,
    "start_time": "2024-03-07T12:24:16.565Z"
   },
   {
    "duration": 11,
    "start_time": "2024-03-07T12:24:16.607Z"
   },
   {
    "duration": 9,
    "start_time": "2024-03-07T12:24:16.620Z"
   },
   {
    "duration": 10,
    "start_time": "2024-03-07T12:24:16.630Z"
   },
   {
    "duration": 126,
    "start_time": "2024-03-07T12:24:16.641Z"
   },
   {
    "duration": 0,
    "start_time": "2024-03-07T12:24:16.769Z"
   },
   {
    "duration": 0,
    "start_time": "2024-03-07T12:24:16.770Z"
   },
   {
    "duration": 0,
    "start_time": "2024-03-07T12:24:16.771Z"
   },
   {
    "duration": 0,
    "start_time": "2024-03-07T12:24:16.772Z"
   },
   {
    "duration": 0,
    "start_time": "2024-03-07T12:24:16.774Z"
   },
   {
    "duration": 0,
    "start_time": "2024-03-07T12:24:16.776Z"
   },
   {
    "duration": 0,
    "start_time": "2024-03-07T12:24:16.791Z"
   },
   {
    "duration": 0,
    "start_time": "2024-03-07T12:24:16.793Z"
   },
   {
    "duration": 1194,
    "start_time": "2024-03-07T12:25:22.637Z"
   },
   {
    "duration": 29,
    "start_time": "2024-03-07T12:25:23.833Z"
   },
   {
    "duration": 31,
    "start_time": "2024-03-07T12:25:23.863Z"
   },
   {
    "duration": 15,
    "start_time": "2024-03-07T12:25:23.896Z"
   },
   {
    "duration": 12,
    "start_time": "2024-03-07T12:25:23.913Z"
   },
   {
    "duration": 11,
    "start_time": "2024-03-07T12:25:23.927Z"
   },
   {
    "duration": 12,
    "start_time": "2024-03-07T12:25:23.940Z"
   },
   {
    "duration": 12,
    "start_time": "2024-03-07T12:25:23.953Z"
   },
   {
    "duration": 26,
    "start_time": "2024-03-07T12:25:23.967Z"
   },
   {
    "duration": 12,
    "start_time": "2024-03-07T12:25:23.997Z"
   },
   {
    "duration": 8,
    "start_time": "2024-03-07T12:25:24.011Z"
   },
   {
    "duration": 11,
    "start_time": "2024-03-07T12:25:24.021Z"
   },
   {
    "duration": 5,
    "start_time": "2024-03-07T12:25:24.034Z"
   },
   {
    "duration": 13,
    "start_time": "2024-03-07T12:25:24.040Z"
   },
   {
    "duration": 13,
    "start_time": "2024-03-07T12:25:24.092Z"
   },
   {
    "duration": 11,
    "start_time": "2024-03-07T12:25:24.108Z"
   },
   {
    "duration": 35,
    "start_time": "2024-03-07T12:25:24.121Z"
   },
   {
    "duration": 8,
    "start_time": "2024-03-07T12:25:24.158Z"
   },
   {
    "duration": 6,
    "start_time": "2024-03-07T12:25:24.168Z"
   },
   {
    "duration": 7,
    "start_time": "2024-03-07T12:25:24.175Z"
   },
   {
    "duration": 13,
    "start_time": "2024-03-07T12:25:24.183Z"
   },
   {
    "duration": 212,
    "start_time": "2024-03-07T12:25:24.199Z"
   },
   {
    "duration": 8,
    "start_time": "2024-03-07T12:25:24.413Z"
   },
   {
    "duration": 201,
    "start_time": "2024-03-07T12:25:24.423Z"
   },
   {
    "duration": 314,
    "start_time": "2024-03-07T12:25:24.626Z"
   },
   {
    "duration": 287,
    "start_time": "2024-03-07T12:25:24.942Z"
   },
   {
    "duration": 28,
    "start_time": "2024-03-07T12:25:25.231Z"
   },
   {
    "duration": 36,
    "start_time": "2024-03-07T12:25:25.263Z"
   },
   {
    "duration": 17,
    "start_time": "2024-03-07T12:25:25.300Z"
   },
   {
    "duration": 538,
    "start_time": "2024-03-07T12:25:25.319Z"
   },
   {
    "duration": 600,
    "start_time": "2024-03-07T12:25:25.858Z"
   },
   {
    "duration": 23,
    "start_time": "2024-03-07T12:25:26.460Z"
   },
   {
    "duration": 5,
    "start_time": "2024-03-07T12:25:26.492Z"
   },
   {
    "duration": 34,
    "start_time": "2024-03-07T12:25:26.499Z"
   },
   {
    "duration": 2,
    "start_time": "2024-03-07T12:25:26.535Z"
   },
   {
    "duration": 14,
    "start_time": "2024-03-07T12:25:26.539Z"
   },
   {
    "duration": 19,
    "start_time": "2024-03-07T12:25:26.554Z"
   },
   {
    "duration": 17,
    "start_time": "2024-03-07T12:25:26.575Z"
   },
   {
    "duration": 3,
    "start_time": "2024-03-07T12:25:26.594Z"
   },
   {
    "duration": 20,
    "start_time": "2024-03-07T12:25:26.598Z"
   },
   {
    "duration": 153,
    "start_time": "2024-03-07T12:25:26.620Z"
   },
   {
    "duration": 0,
    "start_time": "2024-03-07T12:25:26.775Z"
   },
   {
    "duration": 0,
    "start_time": "2024-03-07T12:25:26.777Z"
   },
   {
    "duration": 0,
    "start_time": "2024-03-07T12:25:26.778Z"
   },
   {
    "duration": 0,
    "start_time": "2024-03-07T12:25:26.791Z"
   },
   {
    "duration": 0,
    "start_time": "2024-03-07T12:25:26.792Z"
   },
   {
    "duration": 0,
    "start_time": "2024-03-07T12:25:26.794Z"
   },
   {
    "duration": 0,
    "start_time": "2024-03-07T12:25:26.794Z"
   },
   {
    "duration": 0,
    "start_time": "2024-03-07T12:25:26.796Z"
   },
   {
    "duration": 10,
    "start_time": "2024-03-07T12:27:16.253Z"
   },
   {
    "duration": 12,
    "start_time": "2024-03-07T12:27:19.558Z"
   },
   {
    "duration": 1214,
    "start_time": "2024-03-07T12:27:29.650Z"
   },
   {
    "duration": 29,
    "start_time": "2024-03-07T12:27:30.866Z"
   },
   {
    "duration": 118,
    "start_time": "2024-03-07T12:27:30.897Z"
   },
   {
    "duration": 200,
    "start_time": "2024-03-07T12:27:31.017Z"
   },
   {
    "duration": 107,
    "start_time": "2024-03-07T12:27:31.219Z"
   },
   {
    "duration": 71,
    "start_time": "2024-03-07T12:27:31.328Z"
   },
   {
    "duration": 89,
    "start_time": "2024-03-07T12:27:31.401Z"
   },
   {
    "duration": 303,
    "start_time": "2024-03-07T12:27:31.493Z"
   },
   {
    "duration": 146,
    "start_time": "2024-03-07T12:27:31.798Z"
   },
   {
    "duration": 116,
    "start_time": "2024-03-07T12:27:31.948Z"
   },
   {
    "duration": 58,
    "start_time": "2024-03-07T12:27:32.066Z"
   },
   {
    "duration": 73,
    "start_time": "2024-03-07T12:27:32.126Z"
   },
   {
    "duration": 93,
    "start_time": "2024-03-07T12:27:32.201Z"
   },
   {
    "duration": 114,
    "start_time": "2024-03-07T12:27:32.295Z"
   },
   {
    "duration": 222,
    "start_time": "2024-03-07T12:27:32.410Z"
   },
   {
    "duration": 184,
    "start_time": "2024-03-07T12:27:32.634Z"
   },
   {
    "duration": 129,
    "start_time": "2024-03-07T12:27:32.820Z"
   },
   {
    "duration": 55,
    "start_time": "2024-03-07T12:27:32.951Z"
   },
   {
    "duration": 60,
    "start_time": "2024-03-07T12:27:33.008Z"
   },
   {
    "duration": 69,
    "start_time": "2024-03-07T12:27:33.070Z"
   },
   {
    "duration": 11,
    "start_time": "2024-03-07T12:27:33.141Z"
   },
   {
    "duration": 190,
    "start_time": "2024-03-07T12:27:33.155Z"
   },
   {
    "duration": 9,
    "start_time": "2024-03-07T12:27:33.347Z"
   },
   {
    "duration": 182,
    "start_time": "2024-03-07T12:27:33.358Z"
   },
   {
    "duration": 332,
    "start_time": "2024-03-07T12:27:33.542Z"
   },
   {
    "duration": 298,
    "start_time": "2024-03-07T12:27:33.875Z"
   },
   {
    "duration": 33,
    "start_time": "2024-03-07T12:27:34.175Z"
   },
   {
    "duration": 18,
    "start_time": "2024-03-07T12:27:34.211Z"
   },
   {
    "duration": 16,
    "start_time": "2024-03-07T12:27:34.230Z"
   },
   {
    "duration": 675,
    "start_time": "2024-03-07T12:27:34.248Z"
   },
   {
    "duration": 609,
    "start_time": "2024-03-07T12:27:34.925Z"
   },
   {
    "duration": 24,
    "start_time": "2024-03-07T12:27:35.536Z"
   },
   {
    "duration": 6,
    "start_time": "2024-03-07T12:27:35.561Z"
   },
   {
    "duration": 56,
    "start_time": "2024-03-07T12:27:35.568Z"
   },
   {
    "duration": 3,
    "start_time": "2024-03-07T12:27:35.626Z"
   },
   {
    "duration": 11,
    "start_time": "2024-03-07T12:27:35.630Z"
   },
   {
    "duration": 7,
    "start_time": "2024-03-07T12:27:35.642Z"
   },
   {
    "duration": 10,
    "start_time": "2024-03-07T12:27:35.651Z"
   },
   {
    "duration": 4,
    "start_time": "2024-03-07T12:27:35.663Z"
   },
   {
    "duration": 28,
    "start_time": "2024-03-07T12:27:35.669Z"
   },
   {
    "duration": 12,
    "start_time": "2024-03-07T12:27:35.699Z"
   },
   {
    "duration": 132,
    "start_time": "2024-03-07T12:27:35.712Z"
   },
   {
    "duration": 0,
    "start_time": "2024-03-07T12:27:35.845Z"
   },
   {
    "duration": 0,
    "start_time": "2024-03-07T12:27:35.847Z"
   },
   {
    "duration": 0,
    "start_time": "2024-03-07T12:27:35.847Z"
   },
   {
    "duration": 0,
    "start_time": "2024-03-07T12:27:35.848Z"
   },
   {
    "duration": 0,
    "start_time": "2024-03-07T12:27:35.850Z"
   },
   {
    "duration": 0,
    "start_time": "2024-03-07T12:27:35.851Z"
   },
   {
    "duration": 0,
    "start_time": "2024-03-07T12:27:35.853Z"
   },
   {
    "duration": 0,
    "start_time": "2024-03-07T12:27:35.854Z"
   },
   {
    "duration": 27,
    "start_time": "2024-03-07T12:27:57.210Z"
   },
   {
    "duration": 12,
    "start_time": "2024-03-07T12:28:01.410Z"
   },
   {
    "duration": 1155,
    "start_time": "2024-03-07T12:33:04.148Z"
   },
   {
    "duration": 30,
    "start_time": "2024-03-07T12:33:05.305Z"
   },
   {
    "duration": 30,
    "start_time": "2024-03-07T12:33:05.337Z"
   },
   {
    "duration": 16,
    "start_time": "2024-03-07T12:33:05.369Z"
   },
   {
    "duration": 15,
    "start_time": "2024-03-07T12:33:05.387Z"
   },
   {
    "duration": 38,
    "start_time": "2024-03-07T12:33:05.403Z"
   },
   {
    "duration": 56,
    "start_time": "2024-03-07T12:33:05.443Z"
   },
   {
    "duration": 69,
    "start_time": "2024-03-07T12:33:05.500Z"
   },
   {
    "duration": 27,
    "start_time": "2024-03-07T12:33:05.571Z"
   },
   {
    "duration": 40,
    "start_time": "2024-03-07T12:33:05.600Z"
   },
   {
    "duration": 33,
    "start_time": "2024-03-07T12:33:05.641Z"
   },
   {
    "duration": 24,
    "start_time": "2024-03-07T12:33:05.675Z"
   },
   {
    "duration": 29,
    "start_time": "2024-03-07T12:33:05.701Z"
   },
   {
    "duration": 31,
    "start_time": "2024-03-07T12:33:05.732Z"
   },
   {
    "duration": 22,
    "start_time": "2024-03-07T12:33:05.765Z"
   },
   {
    "duration": 15,
    "start_time": "2024-03-07T12:33:05.789Z"
   },
   {
    "duration": 26,
    "start_time": "2024-03-07T12:33:05.806Z"
   },
   {
    "duration": 15,
    "start_time": "2024-03-07T12:33:05.834Z"
   },
   {
    "duration": 18,
    "start_time": "2024-03-07T12:33:05.851Z"
   },
   {
    "duration": 21,
    "start_time": "2024-03-07T12:33:05.871Z"
   },
   {
    "duration": 22,
    "start_time": "2024-03-07T12:33:05.894Z"
   },
   {
    "duration": 198,
    "start_time": "2024-03-07T12:33:05.917Z"
   },
   {
    "duration": 7,
    "start_time": "2024-03-07T12:33:06.117Z"
   },
   {
    "duration": 194,
    "start_time": "2024-03-07T12:33:06.125Z"
   },
   {
    "duration": 308,
    "start_time": "2024-03-07T12:33:06.321Z"
   },
   {
    "duration": 297,
    "start_time": "2024-03-07T12:33:06.631Z"
   },
   {
    "duration": 45,
    "start_time": "2024-03-07T12:33:06.929Z"
   },
   {
    "duration": 30,
    "start_time": "2024-03-07T12:33:06.977Z"
   },
   {
    "duration": 17,
    "start_time": "2024-03-07T12:33:07.009Z"
   },
   {
    "duration": 534,
    "start_time": "2024-03-07T12:33:07.028Z"
   },
   {
    "duration": 619,
    "start_time": "2024-03-07T12:33:07.564Z"
   },
   {
    "duration": 31,
    "start_time": "2024-03-07T12:33:08.185Z"
   },
   {
    "duration": 6,
    "start_time": "2024-03-07T12:33:08.218Z"
   },
   {
    "duration": 65,
    "start_time": "2024-03-07T12:33:08.227Z"
   },
   {
    "duration": 2,
    "start_time": "2024-03-07T12:33:08.294Z"
   },
   {
    "duration": 10,
    "start_time": "2024-03-07T12:33:08.298Z"
   },
   {
    "duration": 6,
    "start_time": "2024-03-07T12:33:08.309Z"
   },
   {
    "duration": 10,
    "start_time": "2024-03-07T12:33:08.317Z"
   },
   {
    "duration": 16,
    "start_time": "2024-03-07T12:33:08.329Z"
   },
   {
    "duration": 41,
    "start_time": "2024-03-07T12:33:08.347Z"
   },
   {
    "duration": 18,
    "start_time": "2024-03-07T12:33:08.390Z"
   },
   {
    "duration": 133,
    "start_time": "2024-03-07T12:33:08.410Z"
   },
   {
    "duration": 0,
    "start_time": "2024-03-07T12:33:08.545Z"
   },
   {
    "duration": 0,
    "start_time": "2024-03-07T12:33:08.546Z"
   },
   {
    "duration": 0,
    "start_time": "2024-03-07T12:33:08.547Z"
   },
   {
    "duration": 0,
    "start_time": "2024-03-07T12:33:08.548Z"
   },
   {
    "duration": 0,
    "start_time": "2024-03-07T12:33:08.549Z"
   },
   {
    "duration": 0,
    "start_time": "2024-03-07T12:33:08.551Z"
   },
   {
    "duration": 0,
    "start_time": "2024-03-07T12:33:08.552Z"
   },
   {
    "duration": 0,
    "start_time": "2024-03-07T12:33:08.553Z"
   },
   {
    "duration": 10,
    "start_time": "2024-03-07T12:35:02.176Z"
   },
   {
    "duration": 12,
    "start_time": "2024-03-07T12:35:09.780Z"
   },
   {
    "duration": 14,
    "start_time": "2024-03-07T12:35:11.633Z"
   },
   {
    "duration": 29,
    "start_time": "2024-03-07T12:35:13.760Z"
   },
   {
    "duration": 11,
    "start_time": "2024-03-07T12:35:38.512Z"
   },
   {
    "duration": 7,
    "start_time": "2024-03-07T12:35:41.468Z"
   },
   {
    "duration": 1209,
    "start_time": "2024-03-07T12:35:48.474Z"
   },
   {
    "duration": 29,
    "start_time": "2024-03-07T12:35:49.685Z"
   },
   {
    "duration": 30,
    "start_time": "2024-03-07T12:35:49.716Z"
   },
   {
    "duration": 17,
    "start_time": "2024-03-07T12:35:49.749Z"
   },
   {
    "duration": 17,
    "start_time": "2024-03-07T12:35:49.767Z"
   },
   {
    "duration": 15,
    "start_time": "2024-03-07T12:35:49.787Z"
   },
   {
    "duration": 11,
    "start_time": "2024-03-07T12:35:49.804Z"
   },
   {
    "duration": 23,
    "start_time": "2024-03-07T12:35:49.817Z"
   },
   {
    "duration": 9,
    "start_time": "2024-03-07T12:35:49.842Z"
   },
   {
    "duration": 16,
    "start_time": "2024-03-07T12:35:49.856Z"
   },
   {
    "duration": 22,
    "start_time": "2024-03-07T12:35:49.875Z"
   },
   {
    "duration": 31,
    "start_time": "2024-03-07T12:35:49.899Z"
   },
   {
    "duration": 15,
    "start_time": "2024-03-07T12:35:49.932Z"
   },
   {
    "duration": 15,
    "start_time": "2024-03-07T12:35:49.948Z"
   },
   {
    "duration": 11,
    "start_time": "2024-03-07T12:35:49.965Z"
   },
   {
    "duration": 8,
    "start_time": "2024-03-07T12:35:49.980Z"
   },
   {
    "duration": 18,
    "start_time": "2024-03-07T12:35:49.990Z"
   },
   {
    "duration": 38,
    "start_time": "2024-03-07T12:35:50.010Z"
   },
   {
    "duration": 9,
    "start_time": "2024-03-07T12:35:50.050Z"
   },
   {
    "duration": 33,
    "start_time": "2024-03-07T12:35:50.061Z"
   },
   {
    "duration": 22,
    "start_time": "2024-03-07T12:35:50.096Z"
   },
   {
    "duration": 189,
    "start_time": "2024-03-07T12:35:50.120Z"
   },
   {
    "duration": 8,
    "start_time": "2024-03-07T12:35:50.311Z"
   },
   {
    "duration": 307,
    "start_time": "2024-03-07T12:35:50.321Z"
   },
   {
    "duration": 801,
    "start_time": "2024-03-07T12:35:50.629Z"
   },
   {
    "duration": 696,
    "start_time": "2024-03-07T12:35:51.432Z"
   },
   {
    "duration": 94,
    "start_time": "2024-03-07T12:35:52.130Z"
   },
   {
    "duration": 20,
    "start_time": "2024-03-07T12:35:52.228Z"
   },
   {
    "duration": 50,
    "start_time": "2024-03-07T12:35:52.249Z"
   },
   {
    "duration": 543,
    "start_time": "2024-03-07T12:35:52.301Z"
   },
   {
    "duration": 585,
    "start_time": "2024-03-07T12:35:52.845Z"
   },
   {
    "duration": 22,
    "start_time": "2024-03-07T12:35:53.432Z"
   },
   {
    "duration": 6,
    "start_time": "2024-03-07T12:35:53.455Z"
   },
   {
    "duration": 48,
    "start_time": "2024-03-07T12:35:53.462Z"
   },
   {
    "duration": 4,
    "start_time": "2024-03-07T12:35:53.512Z"
   },
   {
    "duration": 31,
    "start_time": "2024-03-07T12:35:53.517Z"
   },
   {
    "duration": 7,
    "start_time": "2024-03-07T12:35:53.550Z"
   },
   {
    "duration": 8,
    "start_time": "2024-03-07T12:35:53.559Z"
   },
   {
    "duration": 10,
    "start_time": "2024-03-07T12:35:53.569Z"
   },
   {
    "duration": 18,
    "start_time": "2024-03-07T12:35:53.581Z"
   },
   {
    "duration": 18,
    "start_time": "2024-03-07T12:35:53.601Z"
   },
   {
    "duration": 20,
    "start_time": "2024-03-07T12:35:53.621Z"
   },
   {
    "duration": 6,
    "start_time": "2024-03-07T12:35:53.642Z"
   },
   {
    "duration": 7,
    "start_time": "2024-03-07T12:35:53.650Z"
   },
   {
    "duration": 441,
    "start_time": "2024-03-07T12:35:53.658Z"
   },
   {
    "duration": 4,
    "start_time": "2024-03-07T12:35:54.100Z"
   },
   {
    "duration": 6,
    "start_time": "2024-03-07T12:35:54.105Z"
   },
   {
    "duration": 8,
    "start_time": "2024-03-07T12:35:54.112Z"
   },
   {
    "duration": 267,
    "start_time": "2024-03-07T12:35:54.121Z"
   },
   {
    "duration": 3,
    "start_time": "2024-03-07T12:35:54.391Z"
   },
   {
    "duration": 1305,
    "start_time": "2024-03-07T12:55:57.287Z"
   },
   {
    "duration": 29,
    "start_time": "2024-03-07T12:55:58.594Z"
   },
   {
    "duration": 29,
    "start_time": "2024-03-07T12:55:58.625Z"
   },
   {
    "duration": 15,
    "start_time": "2024-03-07T12:55:58.657Z"
   },
   {
    "duration": 43,
    "start_time": "2024-03-07T12:55:58.674Z"
   },
   {
    "duration": 31,
    "start_time": "2024-03-07T12:55:58.719Z"
   },
   {
    "duration": 15,
    "start_time": "2024-03-07T12:55:58.752Z"
   },
   {
    "duration": 26,
    "start_time": "2024-03-07T12:55:58.769Z"
   },
   {
    "duration": 23,
    "start_time": "2024-03-07T12:55:58.797Z"
   },
   {
    "duration": 20,
    "start_time": "2024-03-07T12:55:58.822Z"
   },
   {
    "duration": 13,
    "start_time": "2024-03-07T12:55:58.844Z"
   },
   {
    "duration": 15,
    "start_time": "2024-03-07T12:55:58.859Z"
   },
   {
    "duration": 6,
    "start_time": "2024-03-07T12:55:58.876Z"
   },
   {
    "duration": 15,
    "start_time": "2024-03-07T12:55:58.884Z"
   },
   {
    "duration": 17,
    "start_time": "2024-03-07T12:55:58.902Z"
   },
   {
    "duration": 16,
    "start_time": "2024-03-07T12:55:58.920Z"
   },
   {
    "duration": 10,
    "start_time": "2024-03-07T12:55:58.938Z"
   },
   {
    "duration": 8,
    "start_time": "2024-03-07T12:55:58.950Z"
   },
   {
    "duration": 12,
    "start_time": "2024-03-07T12:55:58.959Z"
   },
   {
    "duration": 22,
    "start_time": "2024-03-07T12:55:58.973Z"
   },
   {
    "duration": 8,
    "start_time": "2024-03-07T12:55:58.997Z"
   },
   {
    "duration": 196,
    "start_time": "2024-03-07T12:55:59.006Z"
   },
   {
    "duration": 8,
    "start_time": "2024-03-07T12:55:59.204Z"
   },
   {
    "duration": 169,
    "start_time": "2024-03-07T12:55:59.214Z"
   },
   {
    "duration": 299,
    "start_time": "2024-03-07T12:55:59.385Z"
   },
   {
    "duration": 290,
    "start_time": "2024-03-07T12:55:59.691Z"
   },
   {
    "duration": 34,
    "start_time": "2024-03-07T12:55:59.983Z"
   },
   {
    "duration": 25,
    "start_time": "2024-03-07T12:56:00.021Z"
   },
   {
    "duration": 297,
    "start_time": "2024-03-07T12:56:00.048Z"
   },
   {
    "duration": 629,
    "start_time": "2024-03-07T12:56:00.347Z"
   },
   {
    "duration": 610,
    "start_time": "2024-03-07T12:56:00.977Z"
   },
   {
    "duration": 24,
    "start_time": "2024-03-07T12:56:01.591Z"
   },
   {
    "duration": 60,
    "start_time": "2024-03-07T12:56:01.617Z"
   },
   {
    "duration": 70,
    "start_time": "2024-03-07T12:56:01.678Z"
   },
   {
    "duration": 9,
    "start_time": "2024-03-07T12:56:01.750Z"
   },
   {
    "duration": 63,
    "start_time": "2024-03-07T12:56:01.760Z"
   },
   {
    "duration": 70,
    "start_time": "2024-03-07T12:56:01.825Z"
   },
   {
    "duration": 89,
    "start_time": "2024-03-07T12:56:01.896Z"
   },
   {
    "duration": 76,
    "start_time": "2024-03-07T12:56:01.987Z"
   },
   {
    "duration": 35,
    "start_time": "2024-03-07T12:56:02.065Z"
   },
   {
    "duration": 49,
    "start_time": "2024-03-07T12:56:02.102Z"
   },
   {
    "duration": 31,
    "start_time": "2024-03-07T12:56:02.153Z"
   },
   {
    "duration": 40,
    "start_time": "2024-03-07T12:56:02.186Z"
   },
   {
    "duration": 441,
    "start_time": "2024-03-07T12:56:02.228Z"
   },
   {
    "duration": 4,
    "start_time": "2024-03-07T12:56:02.671Z"
   },
   {
    "duration": 41,
    "start_time": "2024-03-07T12:56:02.676Z"
   },
   {
    "duration": 49,
    "start_time": "2024-03-07T12:56:02.718Z"
   },
   {
    "duration": 269,
    "start_time": "2024-03-07T12:56:02.769Z"
   },
   {
    "duration": 3,
    "start_time": "2024-03-07T12:56:03.040Z"
   },
   {
    "duration": 1172,
    "start_time": "2024-03-08T05:02:07.914Z"
   },
   {
    "duration": 29,
    "start_time": "2024-03-08T05:02:09.088Z"
   },
   {
    "duration": 31,
    "start_time": "2024-03-08T05:02:09.118Z"
   },
   {
    "duration": 15,
    "start_time": "2024-03-08T05:02:09.152Z"
   },
   {
    "duration": 11,
    "start_time": "2024-03-08T05:02:09.169Z"
   },
   {
    "duration": 11,
    "start_time": "2024-03-08T05:02:09.182Z"
   },
   {
    "duration": 10,
    "start_time": "2024-03-08T05:02:09.195Z"
   },
   {
    "duration": 15,
    "start_time": "2024-03-08T05:02:09.207Z"
   },
   {
    "duration": 7,
    "start_time": "2024-03-08T05:02:09.224Z"
   },
   {
    "duration": 11,
    "start_time": "2024-03-08T05:02:09.233Z"
   },
   {
    "duration": 8,
    "start_time": "2024-03-08T05:02:09.245Z"
   },
   {
    "duration": 37,
    "start_time": "2024-03-08T05:02:09.255Z"
   },
   {
    "duration": 5,
    "start_time": "2024-03-08T05:02:09.293Z"
   },
   {
    "duration": 14,
    "start_time": "2024-03-08T05:02:09.300Z"
   },
   {
    "duration": 15,
    "start_time": "2024-03-08T05:02:09.316Z"
   },
   {
    "duration": 6,
    "start_time": "2024-03-08T05:02:09.333Z"
   },
   {
    "duration": 9,
    "start_time": "2024-03-08T05:02:09.341Z"
   },
   {
    "duration": 8,
    "start_time": "2024-03-08T05:02:09.352Z"
   },
   {
    "duration": 36,
    "start_time": "2024-03-08T05:02:09.362Z"
   },
   {
    "duration": 7,
    "start_time": "2024-03-08T05:02:09.400Z"
   },
   {
    "duration": 5,
    "start_time": "2024-03-08T05:02:09.408Z"
   },
   {
    "duration": 199,
    "start_time": "2024-03-08T05:02:09.415Z"
   },
   {
    "duration": 8,
    "start_time": "2024-03-08T05:02:09.615Z"
   },
   {
    "duration": 178,
    "start_time": "2024-03-08T05:02:09.625Z"
   },
   {
    "duration": 325,
    "start_time": "2024-03-08T05:02:09.804Z"
   },
   {
    "duration": 294,
    "start_time": "2024-03-08T05:02:10.131Z"
   },
   {
    "duration": 29,
    "start_time": "2024-03-08T05:02:10.427Z"
   },
   {
    "duration": 36,
    "start_time": "2024-03-08T05:02:10.461Z"
   },
   {
    "duration": 16,
    "start_time": "2024-03-08T05:02:10.499Z"
   },
   {
    "duration": 534,
    "start_time": "2024-03-08T05:02:10.517Z"
   },
   {
    "duration": 615,
    "start_time": "2024-03-08T05:02:11.053Z"
   },
   {
    "duration": 31,
    "start_time": "2024-03-08T05:02:11.670Z"
   },
   {
    "duration": 5,
    "start_time": "2024-03-08T05:02:11.702Z"
   },
   {
    "duration": 32,
    "start_time": "2024-03-08T05:02:11.709Z"
   },
   {
    "duration": 2,
    "start_time": "2024-03-08T05:02:11.743Z"
   },
   {
    "duration": 7,
    "start_time": "2024-03-08T05:02:11.746Z"
   },
   {
    "duration": 3,
    "start_time": "2024-03-08T05:02:11.754Z"
   },
   {
    "duration": 7,
    "start_time": "2024-03-08T05:02:11.758Z"
   },
   {
    "duration": 28,
    "start_time": "2024-03-08T05:02:11.766Z"
   },
   {
    "duration": 13,
    "start_time": "2024-03-08T05:02:11.796Z"
   },
   {
    "duration": 10,
    "start_time": "2024-03-08T05:02:11.811Z"
   },
   {
    "duration": 5,
    "start_time": "2024-03-08T05:02:11.822Z"
   },
   {
    "duration": 3,
    "start_time": "2024-03-08T05:02:11.829Z"
   },
   {
    "duration": 408,
    "start_time": "2024-03-08T05:02:11.834Z"
   },
   {
    "duration": 4,
    "start_time": "2024-03-08T05:02:12.243Z"
   },
   {
    "duration": 11,
    "start_time": "2024-03-08T05:02:12.248Z"
   },
   {
    "duration": 4,
    "start_time": "2024-03-08T05:02:12.261Z"
   },
   {
    "duration": 263,
    "start_time": "2024-03-08T05:02:12.266Z"
   },
   {
    "duration": 5,
    "start_time": "2024-03-08T05:02:12.530Z"
   },
   {
    "duration": 15,
    "start_time": "2024-03-08T05:08:56.266Z"
   },
   {
    "duration": 88,
    "start_time": "2024-03-08T05:59:09.040Z"
   },
   {
    "duration": 77,
    "start_time": "2024-03-08T05:59:36.542Z"
   },
   {
    "duration": 83,
    "start_time": "2024-03-08T06:00:17.709Z"
   },
   {
    "duration": 68,
    "start_time": "2024-03-08T06:00:50.858Z"
   },
   {
    "duration": 40,
    "start_time": "2024-03-08T06:01:27.409Z"
   },
   {
    "duration": 1234,
    "start_time": "2024-03-08T06:01:36.184Z"
   },
   {
    "duration": 76,
    "start_time": "2024-03-08T06:01:37.420Z"
   },
   {
    "duration": 71,
    "start_time": "2024-03-08T06:01:37.497Z"
   },
   {
    "duration": 53,
    "start_time": "2024-03-08T06:01:37.570Z"
   },
   {
    "duration": 11,
    "start_time": "2024-03-08T06:01:37.625Z"
   },
   {
    "duration": 10,
    "start_time": "2024-03-08T06:01:37.638Z"
   },
   {
    "duration": 11,
    "start_time": "2024-03-08T06:01:37.650Z"
   },
   {
    "duration": 16,
    "start_time": "2024-03-08T06:01:37.663Z"
   },
   {
    "duration": 8,
    "start_time": "2024-03-08T06:01:37.681Z"
   },
   {
    "duration": 10,
    "start_time": "2024-03-08T06:01:37.692Z"
   },
   {
    "duration": 14,
    "start_time": "2024-03-08T06:01:37.704Z"
   },
   {
    "duration": 10,
    "start_time": "2024-03-08T06:01:37.719Z"
   },
   {
    "duration": 4,
    "start_time": "2024-03-08T06:01:37.730Z"
   },
   {
    "duration": 30,
    "start_time": "2024-03-08T06:01:37.736Z"
   },
   {
    "duration": 17,
    "start_time": "2024-03-08T06:01:37.768Z"
   },
   {
    "duration": 7,
    "start_time": "2024-03-08T06:01:37.787Z"
   },
   {
    "duration": 10,
    "start_time": "2024-03-08T06:01:37.796Z"
   },
   {
    "duration": 6,
    "start_time": "2024-03-08T06:01:37.807Z"
   },
   {
    "duration": 8,
    "start_time": "2024-03-08T06:01:37.814Z"
   },
   {
    "duration": 5,
    "start_time": "2024-03-08T06:01:37.824Z"
   },
   {
    "duration": 34,
    "start_time": "2024-03-08T06:01:37.831Z"
   },
   {
    "duration": 166,
    "start_time": "2024-03-08T06:01:37.867Z"
   },
   {
    "duration": 6,
    "start_time": "2024-03-08T06:01:38.034Z"
   },
   {
    "duration": 7,
    "start_time": "2024-03-08T06:01:38.041Z"
   },
   {
    "duration": 146,
    "start_time": "2024-03-08T06:01:38.050Z"
   },
   {
    "duration": 253,
    "start_time": "2024-03-08T06:01:38.198Z"
   },
   {
    "duration": 255,
    "start_time": "2024-03-08T06:01:38.452Z"
   },
   {
    "duration": 25,
    "start_time": "2024-03-08T06:01:38.710Z"
   },
   {
    "duration": 30,
    "start_time": "2024-03-08T06:01:38.736Z"
   },
   {
    "duration": 14,
    "start_time": "2024-03-08T06:01:38.767Z"
   },
   {
    "duration": 501,
    "start_time": "2024-03-08T06:01:38.782Z"
   },
   {
    "duration": 539,
    "start_time": "2024-03-08T06:01:39.284Z"
   },
   {
    "duration": 19,
    "start_time": "2024-03-08T06:01:39.824Z"
   },
   {
    "duration": 4,
    "start_time": "2024-03-08T06:01:39.845Z"
   },
   {
    "duration": 27,
    "start_time": "2024-03-08T06:01:39.864Z"
   },
   {
    "duration": 2,
    "start_time": "2024-03-08T06:01:39.892Z"
   },
   {
    "duration": 6,
    "start_time": "2024-03-08T06:01:39.896Z"
   },
   {
    "duration": 3,
    "start_time": "2024-03-08T06:01:39.903Z"
   },
   {
    "duration": 9,
    "start_time": "2024-03-08T06:01:39.908Z"
   },
   {
    "duration": 16,
    "start_time": "2024-03-08T06:01:39.919Z"
   },
   {
    "duration": 16,
    "start_time": "2024-03-08T06:01:39.936Z"
   },
   {
    "duration": 16,
    "start_time": "2024-03-08T06:01:39.953Z"
   },
   {
    "duration": 6,
    "start_time": "2024-03-08T06:01:39.970Z"
   },
   {
    "duration": 10,
    "start_time": "2024-03-08T06:01:39.978Z"
   },
   {
    "duration": 394,
    "start_time": "2024-03-08T06:01:39.990Z"
   },
   {
    "duration": 5,
    "start_time": "2024-03-08T06:01:40.386Z"
   },
   {
    "duration": 26,
    "start_time": "2024-03-08T06:01:40.393Z"
   },
   {
    "duration": 32,
    "start_time": "2024-03-08T06:01:40.420Z"
   },
   {
    "duration": 231,
    "start_time": "2024-03-08T06:01:40.453Z"
   },
   {
    "duration": 3,
    "start_time": "2024-03-08T06:01:40.686Z"
   },
   {
    "duration": 6,
    "start_time": "2024-03-08T06:03:50.530Z"
   },
   {
    "duration": 5,
    "start_time": "2024-03-08T06:03:58.052Z"
   },
   {
    "duration": 5,
    "start_time": "2024-03-08T06:04:02.930Z"
   },
   {
    "duration": 146,
    "start_time": "2024-03-08T06:05:42.718Z"
   },
   {
    "duration": 5,
    "start_time": "2024-03-08T06:06:07.222Z"
   },
   {
    "duration": 120,
    "start_time": "2024-03-08T06:06:34.233Z"
   },
   {
    "duration": 83,
    "start_time": "2024-03-08T06:07:11.958Z"
   },
   {
    "duration": 80,
    "start_time": "2024-03-08T06:07:33.194Z"
   },
   {
    "duration": 91,
    "start_time": "2024-03-08T06:07:40.958Z"
   },
   {
    "duration": 74,
    "start_time": "2024-03-08T06:07:47.184Z"
   },
   {
    "duration": 159,
    "start_time": "2024-03-08T06:07:59.641Z"
   },
   {
    "duration": 88,
    "start_time": "2024-03-08T06:08:07.567Z"
   },
   {
    "duration": 8,
    "start_time": "2024-03-08T06:09:23.602Z"
   },
   {
    "duration": 1210,
    "start_time": "2024-03-08T06:09:54.999Z"
   },
   {
    "duration": 10,
    "start_time": "2024-03-08T06:10:07.313Z"
   },
   {
    "duration": 8,
    "start_time": "2024-03-08T06:10:24.427Z"
   },
   {
    "duration": 1136,
    "start_time": "2024-03-08T06:10:59.467Z"
   },
   {
    "duration": 30,
    "start_time": "2024-03-08T06:11:00.605Z"
   },
   {
    "duration": 45,
    "start_time": "2024-03-08T06:11:00.636Z"
   },
   {
    "duration": 36,
    "start_time": "2024-03-08T06:11:00.683Z"
   },
   {
    "duration": 42,
    "start_time": "2024-03-08T06:11:00.720Z"
   },
   {
    "duration": 40,
    "start_time": "2024-03-08T06:11:00.764Z"
   },
   {
    "duration": 51,
    "start_time": "2024-03-08T06:11:00.806Z"
   },
   {
    "duration": 55,
    "start_time": "2024-03-08T06:11:00.859Z"
   },
   {
    "duration": 41,
    "start_time": "2024-03-08T06:11:00.916Z"
   },
   {
    "duration": 42,
    "start_time": "2024-03-08T06:11:00.959Z"
   },
   {
    "duration": 48,
    "start_time": "2024-03-08T06:11:01.003Z"
   },
   {
    "duration": 50,
    "start_time": "2024-03-08T06:11:01.053Z"
   },
   {
    "duration": 31,
    "start_time": "2024-03-08T06:11:01.105Z"
   },
   {
    "duration": 48,
    "start_time": "2024-03-08T06:11:01.137Z"
   },
   {
    "duration": 31,
    "start_time": "2024-03-08T06:11:01.187Z"
   },
   {
    "duration": 25,
    "start_time": "2024-03-08T06:11:01.219Z"
   },
   {
    "duration": 36,
    "start_time": "2024-03-08T06:11:01.246Z"
   },
   {
    "duration": 31,
    "start_time": "2024-03-08T06:11:01.284Z"
   },
   {
    "duration": 20,
    "start_time": "2024-03-08T06:11:01.317Z"
   },
   {
    "duration": 48,
    "start_time": "2024-03-08T06:11:01.339Z"
   },
   {
    "duration": 42,
    "start_time": "2024-03-08T06:11:01.388Z"
   },
   {
    "duration": 190,
    "start_time": "2024-03-08T06:11:01.431Z"
   },
   {
    "duration": 6,
    "start_time": "2024-03-08T06:11:01.623Z"
   },
   {
    "duration": 120,
    "start_time": "2024-03-08T06:11:01.630Z"
   },
   {
    "duration": 17,
    "start_time": "2024-03-08T06:11:01.751Z"
   },
   {
    "duration": 185,
    "start_time": "2024-03-08T06:11:01.770Z"
   },
   {
    "duration": 13,
    "start_time": "2024-03-08T06:11:01.956Z"
   },
   {
    "duration": 278,
    "start_time": "2024-03-08T06:11:01.972Z"
   },
   {
    "duration": 18,
    "start_time": "2024-03-08T06:11:02.251Z"
   },
   {
    "duration": 257,
    "start_time": "2024-03-08T06:11:02.271Z"
   },
   {
    "duration": 7,
    "start_time": "2024-03-08T06:11:02.530Z"
   },
   {
    "duration": 33,
    "start_time": "2024-03-08T06:11:02.539Z"
   },
   {
    "duration": 16,
    "start_time": "2024-03-08T06:11:02.573Z"
   },
   {
    "duration": 13,
    "start_time": "2024-03-08T06:11:02.591Z"
   },
   {
    "duration": 532,
    "start_time": "2024-03-08T06:11:02.605Z"
   },
   {
    "duration": 448,
    "start_time": "2024-03-08T06:11:03.139Z"
   },
   {
    "duration": 21,
    "start_time": "2024-03-08T06:11:03.588Z"
   },
   {
    "duration": 4,
    "start_time": "2024-03-08T06:11:03.610Z"
   },
   {
    "duration": 36,
    "start_time": "2024-03-08T06:11:03.615Z"
   },
   {
    "duration": 13,
    "start_time": "2024-03-08T06:11:03.652Z"
   },
   {
    "duration": 10,
    "start_time": "2024-03-08T06:11:03.667Z"
   },
   {
    "duration": 6,
    "start_time": "2024-03-08T06:11:03.679Z"
   },
   {
    "duration": 7,
    "start_time": "2024-03-08T06:11:03.686Z"
   },
   {
    "duration": 4,
    "start_time": "2024-03-08T06:11:03.694Z"
   },
   {
    "duration": 8,
    "start_time": "2024-03-08T06:11:03.699Z"
   },
   {
    "duration": 9,
    "start_time": "2024-03-08T06:11:03.709Z"
   },
   {
    "duration": 7,
    "start_time": "2024-03-08T06:11:03.719Z"
   },
   {
    "duration": 3,
    "start_time": "2024-03-08T06:11:03.727Z"
   },
   {
    "duration": 380,
    "start_time": "2024-03-08T06:11:03.731Z"
   },
   {
    "duration": 3,
    "start_time": "2024-03-08T06:11:04.112Z"
   },
   {
    "duration": 6,
    "start_time": "2024-03-08T06:11:04.116Z"
   },
   {
    "duration": 8,
    "start_time": "2024-03-08T06:11:04.123Z"
   },
   {
    "duration": 232,
    "start_time": "2024-03-08T06:11:04.132Z"
   },
   {
    "duration": 3,
    "start_time": "2024-03-08T06:11:04.366Z"
   },
   {
    "duration": 109,
    "start_time": "2024-03-08T06:20:50.984Z"
   },
   {
    "duration": 10,
    "start_time": "2024-03-08T06:21:02.681Z"
   },
   {
    "duration": 7,
    "start_time": "2024-03-08T06:21:53.526Z"
   },
   {
    "duration": 5,
    "start_time": "2024-03-08T06:21:55.609Z"
   },
   {
    "duration": 4,
    "start_time": "2024-03-08T06:22:12.109Z"
   },
   {
    "duration": 11,
    "start_time": "2024-03-08T06:22:40.308Z"
   },
   {
    "duration": 12,
    "start_time": "2024-03-08T06:23:53.729Z"
   },
   {
    "duration": 10,
    "start_time": "2024-03-08T06:24:27.440Z"
   },
   {
    "duration": 19,
    "start_time": "2024-03-08T06:24:30.777Z"
   },
   {
    "duration": 13,
    "start_time": "2024-03-08T06:24:43.336Z"
   },
   {
    "duration": 1078,
    "start_time": "2024-03-08T06:24:50.437Z"
   },
   {
    "duration": 29,
    "start_time": "2024-03-08T06:24:51.516Z"
   },
   {
    "duration": 29,
    "start_time": "2024-03-08T06:24:51.546Z"
   },
   {
    "duration": 16,
    "start_time": "2024-03-08T06:24:51.577Z"
   },
   {
    "duration": 11,
    "start_time": "2024-03-08T06:24:51.594Z"
   },
   {
    "duration": 19,
    "start_time": "2024-03-08T06:24:51.607Z"
   },
   {
    "duration": 30,
    "start_time": "2024-03-08T06:24:51.628Z"
   },
   {
    "duration": 14,
    "start_time": "2024-03-08T06:24:51.660Z"
   },
   {
    "duration": 21,
    "start_time": "2024-03-08T06:24:51.676Z"
   },
   {
    "duration": 14,
    "start_time": "2024-03-08T06:24:51.701Z"
   },
   {
    "duration": 20,
    "start_time": "2024-03-08T06:24:51.717Z"
   },
   {
    "duration": 15,
    "start_time": "2024-03-08T06:24:51.739Z"
   },
   {
    "duration": 12,
    "start_time": "2024-03-08T06:24:51.756Z"
   },
   {
    "duration": 22,
    "start_time": "2024-03-08T06:24:51.771Z"
   },
   {
    "duration": 23,
    "start_time": "2024-03-08T06:24:51.794Z"
   },
   {
    "duration": 9,
    "start_time": "2024-03-08T06:24:51.819Z"
   },
   {
    "duration": 24,
    "start_time": "2024-03-08T06:24:51.829Z"
   },
   {
    "duration": 17,
    "start_time": "2024-03-08T06:24:51.855Z"
   },
   {
    "duration": 19,
    "start_time": "2024-03-08T06:24:51.874Z"
   },
   {
    "duration": 9,
    "start_time": "2024-03-08T06:24:51.895Z"
   },
   {
    "duration": 10,
    "start_time": "2024-03-08T06:24:51.905Z"
   },
   {
    "duration": 176,
    "start_time": "2024-03-08T06:24:51.916Z"
   },
   {
    "duration": 6,
    "start_time": "2024-03-08T06:24:52.094Z"
   },
   {
    "duration": 97,
    "start_time": "2024-03-08T06:24:52.101Z"
   },
   {
    "duration": 6,
    "start_time": "2024-03-08T06:24:52.199Z"
   },
   {
    "duration": 154,
    "start_time": "2024-03-08T06:24:52.207Z"
   },
   {
    "duration": 8,
    "start_time": "2024-03-08T06:24:52.364Z"
   },
   {
    "duration": 272,
    "start_time": "2024-03-08T06:24:52.376Z"
   },
   {
    "duration": 8,
    "start_time": "2024-03-08T06:24:52.649Z"
   },
   {
    "duration": 254,
    "start_time": "2024-03-08T06:24:52.664Z"
   },
   {
    "duration": 9,
    "start_time": "2024-03-08T06:24:52.919Z"
   },
   {
    "duration": 6,
    "start_time": "2024-03-08T06:24:52.929Z"
   },
   {
    "duration": 16,
    "start_time": "2024-03-08T06:24:52.937Z"
   },
   {
    "duration": 15,
    "start_time": "2024-03-08T06:24:52.964Z"
   },
   {
    "duration": 18,
    "start_time": "2024-03-08T06:24:52.981Z"
   },
   {
    "duration": 15,
    "start_time": "2024-03-08T06:24:53.001Z"
   },
   {
    "duration": 4,
    "start_time": "2024-03-08T06:24:53.018Z"
   },
   {
    "duration": 53,
    "start_time": "2024-03-08T06:24:53.023Z"
   },
   {
    "duration": 16,
    "start_time": "2024-03-08T06:24:53.078Z"
   },
   {
    "duration": 1195,
    "start_time": "2024-03-08T06:24:53.096Z"
   },
   {
    "duration": 616,
    "start_time": "2024-03-08T06:24:54.293Z"
   },
   {
    "duration": 20,
    "start_time": "2024-03-08T06:24:54.910Z"
   },
   {
    "duration": 4,
    "start_time": "2024-03-08T06:24:54.932Z"
   },
   {
    "duration": 41,
    "start_time": "2024-03-08T06:24:54.937Z"
   },
   {
    "duration": 3,
    "start_time": "2024-03-08T06:24:54.979Z"
   },
   {
    "duration": 7,
    "start_time": "2024-03-08T06:24:54.983Z"
   },
   {
    "duration": 11,
    "start_time": "2024-03-08T06:24:54.992Z"
   },
   {
    "duration": 5,
    "start_time": "2024-03-08T06:24:55.004Z"
   },
   {
    "duration": 3,
    "start_time": "2024-03-08T06:24:55.011Z"
   },
   {
    "duration": 18,
    "start_time": "2024-03-08T06:24:55.015Z"
   },
   {
    "duration": 8,
    "start_time": "2024-03-08T06:24:55.035Z"
   },
   {
    "duration": 22,
    "start_time": "2024-03-08T06:24:55.045Z"
   },
   {
    "duration": 3,
    "start_time": "2024-03-08T06:24:55.068Z"
   },
   {
    "duration": 358,
    "start_time": "2024-03-08T06:24:55.072Z"
   },
   {
    "duration": 3,
    "start_time": "2024-03-08T06:24:55.432Z"
   },
   {
    "duration": 14,
    "start_time": "2024-03-08T06:24:55.436Z"
   },
   {
    "duration": 4,
    "start_time": "2024-03-08T06:24:55.451Z"
   },
   {
    "duration": 232,
    "start_time": "2024-03-08T06:24:55.457Z"
   },
   {
    "duration": 3,
    "start_time": "2024-03-08T06:24:55.691Z"
   },
   {
    "duration": 4,
    "start_time": "2024-03-08T06:25:29.159Z"
   },
   {
    "duration": 90,
    "start_time": "2024-03-08T06:26:30.364Z"
   },
   {
    "duration": 8,
    "start_time": "2024-03-08T06:26:34.457Z"
   },
   {
    "duration": 4,
    "start_time": "2024-03-08T06:26:37.193Z"
   },
   {
    "duration": 13,
    "start_time": "2024-03-08T06:26:49.396Z"
   },
   {
    "duration": 1091,
    "start_time": "2024-03-08T06:26:58.813Z"
   },
   {
    "duration": 30,
    "start_time": "2024-03-08T06:26:59.906Z"
   },
   {
    "duration": 29,
    "start_time": "2024-03-08T06:26:59.937Z"
   },
   {
    "duration": 15,
    "start_time": "2024-03-08T06:26:59.968Z"
   },
   {
    "duration": 11,
    "start_time": "2024-03-08T06:26:59.984Z"
   },
   {
    "duration": 9,
    "start_time": "2024-03-08T06:26:59.996Z"
   },
   {
    "duration": 31,
    "start_time": "2024-03-08T06:27:00.007Z"
   },
   {
    "duration": 43,
    "start_time": "2024-03-08T06:27:00.039Z"
   },
   {
    "duration": 11,
    "start_time": "2024-03-08T06:27:00.084Z"
   },
   {
    "duration": 71,
    "start_time": "2024-03-08T06:27:00.097Z"
   },
   {
    "duration": 25,
    "start_time": "2024-03-08T06:27:00.169Z"
   },
   {
    "duration": 29,
    "start_time": "2024-03-08T06:27:00.196Z"
   },
   {
    "duration": 39,
    "start_time": "2024-03-08T06:27:00.227Z"
   },
   {
    "duration": 45,
    "start_time": "2024-03-08T06:27:00.267Z"
   },
   {
    "duration": 48,
    "start_time": "2024-03-08T06:27:00.313Z"
   },
   {
    "duration": 53,
    "start_time": "2024-03-08T06:27:00.363Z"
   },
   {
    "duration": 48,
    "start_time": "2024-03-08T06:27:00.417Z"
   },
   {
    "duration": 39,
    "start_time": "2024-03-08T06:27:00.467Z"
   },
   {
    "duration": 18,
    "start_time": "2024-03-08T06:27:00.507Z"
   },
   {
    "duration": 77,
    "start_time": "2024-03-08T06:27:00.527Z"
   },
   {
    "duration": 73,
    "start_time": "2024-03-08T06:27:00.606Z"
   },
   {
    "duration": 241,
    "start_time": "2024-03-08T06:27:00.680Z"
   },
   {
    "duration": 6,
    "start_time": "2024-03-08T06:27:00.923Z"
   },
   {
    "duration": 103,
    "start_time": "2024-03-08T06:27:00.931Z"
   },
   {
    "duration": 6,
    "start_time": "2024-03-08T06:27:01.036Z"
   },
   {
    "duration": 180,
    "start_time": "2024-03-08T06:27:01.044Z"
   },
   {
    "duration": 8,
    "start_time": "2024-03-08T06:27:01.226Z"
   },
   {
    "duration": 281,
    "start_time": "2024-03-08T06:27:01.238Z"
   },
   {
    "duration": 8,
    "start_time": "2024-03-08T06:27:01.522Z"
   },
   {
    "duration": 347,
    "start_time": "2024-03-08T06:27:01.532Z"
   },
   {
    "duration": 10,
    "start_time": "2024-03-08T06:27:01.881Z"
   },
   {
    "duration": 74,
    "start_time": "2024-03-08T06:27:01.892Z"
   },
   {
    "duration": 55,
    "start_time": "2024-03-08T06:27:01.968Z"
   },
   {
    "duration": 47,
    "start_time": "2024-03-08T06:27:02.024Z"
   },
   {
    "duration": 28,
    "start_time": "2024-03-08T06:27:02.073Z"
   },
   {
    "duration": 22,
    "start_time": "2024-03-08T06:27:02.102Z"
   },
   {
    "duration": 50,
    "start_time": "2024-03-08T06:27:02.125Z"
   },
   {
    "duration": 11,
    "start_time": "2024-03-08T06:27:02.177Z"
   },
   {
    "duration": 22,
    "start_time": "2024-03-08T06:27:02.190Z"
   },
   {
    "duration": 62,
    "start_time": "2024-03-08T06:27:02.214Z"
   },
   {
    "duration": 4,
    "start_time": "2024-03-08T06:27:02.278Z"
   },
   {
    "duration": 38,
    "start_time": "2024-03-08T06:27:02.283Z"
   },
   {
    "duration": 54,
    "start_time": "2024-03-08T06:27:02.323Z"
   },
   {
    "duration": 853,
    "start_time": "2024-03-08T06:27:02.378Z"
   },
   {
    "duration": 461,
    "start_time": "2024-03-08T06:27:03.233Z"
   },
   {
    "duration": 20,
    "start_time": "2024-03-08T06:27:03.695Z"
   },
   {
    "duration": 4,
    "start_time": "2024-03-08T06:27:03.717Z"
   },
   {
    "duration": 44,
    "start_time": "2024-03-08T06:27:03.722Z"
   },
   {
    "duration": 2,
    "start_time": "2024-03-08T06:27:03.768Z"
   },
   {
    "duration": 14,
    "start_time": "2024-03-08T06:27:03.771Z"
   },
   {
    "duration": 4,
    "start_time": "2024-03-08T06:27:03.787Z"
   },
   {
    "duration": 12,
    "start_time": "2024-03-08T06:27:03.792Z"
   },
   {
    "duration": 5,
    "start_time": "2024-03-08T06:27:03.805Z"
   },
   {
    "duration": 15,
    "start_time": "2024-03-08T06:27:03.811Z"
   },
   {
    "duration": 20,
    "start_time": "2024-03-08T06:27:03.828Z"
   },
   {
    "duration": 5,
    "start_time": "2024-03-08T06:27:03.849Z"
   },
   {
    "duration": 3,
    "start_time": "2024-03-08T06:27:03.865Z"
   },
   {
    "duration": 341,
    "start_time": "2024-03-08T06:27:03.869Z"
   },
   {
    "duration": 3,
    "start_time": "2024-03-08T06:27:04.212Z"
   },
   {
    "duration": 6,
    "start_time": "2024-03-08T06:27:04.217Z"
   },
   {
    "duration": 4,
    "start_time": "2024-03-08T06:27:04.224Z"
   },
   {
    "duration": 244,
    "start_time": "2024-03-08T06:27:04.229Z"
   },
   {
    "duration": 5,
    "start_time": "2024-03-08T06:27:04.474Z"
   },
   {
    "duration": 5,
    "start_time": "2024-03-08T06:29:18.870Z"
   },
   {
    "duration": 1247,
    "start_time": "2024-03-08T06:29:21.373Z"
   },
   {
    "duration": 87,
    "start_time": "2024-03-08T06:30:52.257Z"
   },
   {
    "duration": 4,
    "start_time": "2024-03-08T06:31:08.621Z"
   },
   {
    "duration": 1918,
    "start_time": "2024-03-08T06:31:11.757Z"
   },
   {
    "duration": 5,
    "start_time": "2024-03-08T06:31:43.585Z"
   },
   {
    "duration": 2311,
    "start_time": "2024-03-08T06:31:46.491Z"
   },
   {
    "duration": 5,
    "start_time": "2024-03-08T06:32:01.902Z"
   },
   {
    "duration": 769,
    "start_time": "2024-03-08T06:32:03.581Z"
   },
   {
    "duration": 5,
    "start_time": "2024-03-08T06:34:22.493Z"
   },
   {
    "duration": 78,
    "start_time": "2024-03-08T06:38:26.629Z"
   },
   {
    "duration": 1011,
    "start_time": "2024-03-08T06:56:04.403Z"
   },
   {
    "duration": 29,
    "start_time": "2024-03-08T06:56:05.416Z"
   },
   {
    "duration": 29,
    "start_time": "2024-03-08T06:56:05.447Z"
   },
   {
    "duration": 15,
    "start_time": "2024-03-08T06:56:05.478Z"
   },
   {
    "duration": 14,
    "start_time": "2024-03-08T06:56:05.494Z"
   },
   {
    "duration": 16,
    "start_time": "2024-03-08T06:56:05.509Z"
   },
   {
    "duration": 8,
    "start_time": "2024-03-08T06:56:05.527Z"
   },
   {
    "duration": 14,
    "start_time": "2024-03-08T06:56:05.536Z"
   },
   {
    "duration": 14,
    "start_time": "2024-03-08T06:56:05.551Z"
   },
   {
    "duration": 17,
    "start_time": "2024-03-08T06:56:05.568Z"
   },
   {
    "duration": 13,
    "start_time": "2024-03-08T06:56:05.586Z"
   },
   {
    "duration": 9,
    "start_time": "2024-03-08T06:56:05.600Z"
   },
   {
    "duration": 5,
    "start_time": "2024-03-08T06:56:05.611Z"
   },
   {
    "duration": 7,
    "start_time": "2024-03-08T06:56:05.618Z"
   },
   {
    "duration": 6,
    "start_time": "2024-03-08T06:56:05.627Z"
   },
   {
    "duration": 5,
    "start_time": "2024-03-08T06:56:05.634Z"
   },
   {
    "duration": 7,
    "start_time": "2024-03-08T06:56:05.665Z"
   },
   {
    "duration": 12,
    "start_time": "2024-03-08T06:56:05.673Z"
   },
   {
    "duration": 4,
    "start_time": "2024-03-08T06:56:05.686Z"
   },
   {
    "duration": 7,
    "start_time": "2024-03-08T06:56:05.692Z"
   },
   {
    "duration": 21,
    "start_time": "2024-03-08T06:56:05.700Z"
   },
   {
    "duration": 171,
    "start_time": "2024-03-08T06:56:05.723Z"
   },
   {
    "duration": 6,
    "start_time": "2024-03-08T06:56:05.895Z"
   },
   {
    "duration": 96,
    "start_time": "2024-03-08T06:56:05.902Z"
   },
   {
    "duration": 6,
    "start_time": "2024-03-08T06:56:05.999Z"
   },
   {
    "duration": 148,
    "start_time": "2024-03-08T06:56:06.007Z"
   },
   {
    "duration": 14,
    "start_time": "2024-03-08T06:56:06.157Z"
   },
   {
    "duration": 258,
    "start_time": "2024-03-08T06:56:06.174Z"
   },
   {
    "duration": 8,
    "start_time": "2024-03-08T06:56:06.433Z"
   },
   {
    "duration": 257,
    "start_time": "2024-03-08T06:56:06.443Z"
   },
   {
    "duration": 10,
    "start_time": "2024-03-08T06:56:06.701Z"
   },
   {
    "duration": 4,
    "start_time": "2024-03-08T06:56:06.713Z"
   },
   {
    "duration": 5,
    "start_time": "2024-03-08T06:56:06.719Z"
   },
   {
    "duration": 10,
    "start_time": "2024-03-08T06:56:06.725Z"
   },
   {
    "duration": 4,
    "start_time": "2024-03-08T06:56:06.736Z"
   },
   {
    "duration": 9,
    "start_time": "2024-03-08T06:56:06.765Z"
   },
   {
    "duration": 4,
    "start_time": "2024-03-08T06:56:06.775Z"
   },
   {
    "duration": 14,
    "start_time": "2024-03-08T06:56:06.780Z"
   },
   {
    "duration": 11,
    "start_time": "2024-03-08T06:56:06.795Z"
   },
   {
    "duration": 15,
    "start_time": "2024-03-08T06:56:06.807Z"
   },
   {
    "duration": 55,
    "start_time": "2024-03-08T06:56:06.824Z"
   },
   {
    "duration": 4,
    "start_time": "2024-03-08T06:56:06.880Z"
   },
   {
    "duration": 21,
    "start_time": "2024-03-08T06:56:06.886Z"
   },
   {
    "duration": 15,
    "start_time": "2024-03-08T06:56:06.909Z"
   },
   {
    "duration": 528,
    "start_time": "2024-03-08T06:56:06.926Z"
   },
   {
    "duration": 654,
    "start_time": "2024-03-08T06:56:07.456Z"
   },
   {
    "duration": 77,
    "start_time": "2024-03-08T06:56:08.112Z"
   },
   {
    "duration": 6,
    "start_time": "2024-03-08T06:56:08.191Z"
   },
   {
    "duration": 597,
    "start_time": "2024-03-08T06:56:08.198Z"
   },
   {
    "duration": 0,
    "start_time": "2024-03-08T06:56:08.797Z"
   },
   {
    "duration": 0,
    "start_time": "2024-03-08T06:56:08.797Z"
   },
   {
    "duration": 1,
    "start_time": "2024-03-08T06:56:08.798Z"
   },
   {
    "duration": 0,
    "start_time": "2024-03-08T06:56:08.800Z"
   },
   {
    "duration": 0,
    "start_time": "2024-03-08T06:56:08.801Z"
   },
   {
    "duration": 0,
    "start_time": "2024-03-08T06:56:08.802Z"
   },
   {
    "duration": 0,
    "start_time": "2024-03-08T06:56:08.803Z"
   },
   {
    "duration": 0,
    "start_time": "2024-03-08T06:56:08.803Z"
   },
   {
    "duration": 0,
    "start_time": "2024-03-08T06:56:08.804Z"
   },
   {
    "duration": 0,
    "start_time": "2024-03-08T06:56:08.805Z"
   },
   {
    "duration": 0,
    "start_time": "2024-03-08T06:56:08.806Z"
   },
   {
    "duration": 0,
    "start_time": "2024-03-08T06:56:08.807Z"
   },
   {
    "duration": 0,
    "start_time": "2024-03-08T06:56:08.808Z"
   },
   {
    "duration": 0,
    "start_time": "2024-03-08T06:56:08.809Z"
   },
   {
    "duration": 0,
    "start_time": "2024-03-08T06:56:08.810Z"
   },
   {
    "duration": 8,
    "start_time": "2024-03-08T06:57:45.647Z"
   },
   {
    "duration": 15,
    "start_time": "2024-03-08T06:58:09.518Z"
   },
   {
    "duration": 9,
    "start_time": "2024-03-08T06:58:24.659Z"
   },
   {
    "duration": 1097,
    "start_time": "2024-03-08T06:58:29.926Z"
   },
   {
    "duration": 29,
    "start_time": "2024-03-08T06:58:31.025Z"
   },
   {
    "duration": 31,
    "start_time": "2024-03-08T06:58:31.056Z"
   },
   {
    "duration": 18,
    "start_time": "2024-03-08T06:58:31.088Z"
   },
   {
    "duration": 19,
    "start_time": "2024-03-08T06:58:31.108Z"
   },
   {
    "duration": 30,
    "start_time": "2024-03-08T06:58:31.129Z"
   },
   {
    "duration": 22,
    "start_time": "2024-03-08T06:58:31.161Z"
   },
   {
    "duration": 27,
    "start_time": "2024-03-08T06:58:31.185Z"
   },
   {
    "duration": 21,
    "start_time": "2024-03-08T06:58:31.213Z"
   },
   {
    "duration": 30,
    "start_time": "2024-03-08T06:58:31.236Z"
   },
   {
    "duration": 34,
    "start_time": "2024-03-08T06:58:31.267Z"
   },
   {
    "duration": 52,
    "start_time": "2024-03-08T06:58:31.302Z"
   },
   {
    "duration": 25,
    "start_time": "2024-03-08T06:58:31.355Z"
   },
   {
    "duration": 38,
    "start_time": "2024-03-08T06:58:31.381Z"
   },
   {
    "duration": 30,
    "start_time": "2024-03-08T06:58:31.420Z"
   },
   {
    "duration": 38,
    "start_time": "2024-03-08T06:58:31.452Z"
   },
   {
    "duration": 23,
    "start_time": "2024-03-08T06:58:31.491Z"
   },
   {
    "duration": 19,
    "start_time": "2024-03-08T06:58:31.515Z"
   },
   {
    "duration": 12,
    "start_time": "2024-03-08T06:58:31.535Z"
   },
   {
    "duration": 37,
    "start_time": "2024-03-08T06:58:31.549Z"
   },
   {
    "duration": 32,
    "start_time": "2024-03-08T06:58:31.587Z"
   },
   {
    "duration": 187,
    "start_time": "2024-03-08T06:58:31.621Z"
   },
   {
    "duration": 5,
    "start_time": "2024-03-08T06:58:31.810Z"
   },
   {
    "duration": 96,
    "start_time": "2024-03-08T06:58:31.816Z"
   },
   {
    "duration": 6,
    "start_time": "2024-03-08T06:58:31.913Z"
   },
   {
    "duration": 173,
    "start_time": "2024-03-08T06:58:31.920Z"
   },
   {
    "duration": 9,
    "start_time": "2024-03-08T06:58:32.095Z"
   },
   {
    "duration": 306,
    "start_time": "2024-03-08T06:58:32.109Z"
   },
   {
    "duration": 7,
    "start_time": "2024-03-08T06:58:32.417Z"
   },
   {
    "duration": 256,
    "start_time": "2024-03-08T06:58:32.426Z"
   },
   {
    "duration": 7,
    "start_time": "2024-03-08T06:58:32.684Z"
   },
   {
    "duration": 22,
    "start_time": "2024-03-08T06:58:32.693Z"
   },
   {
    "duration": 5,
    "start_time": "2024-03-08T06:58:32.717Z"
   },
   {
    "duration": 17,
    "start_time": "2024-03-08T06:58:32.723Z"
   },
   {
    "duration": 3,
    "start_time": "2024-03-08T06:58:32.742Z"
   },
   {
    "duration": 8,
    "start_time": "2024-03-08T06:58:32.747Z"
   },
   {
    "duration": 11,
    "start_time": "2024-03-08T06:58:32.757Z"
   },
   {
    "duration": 16,
    "start_time": "2024-03-08T06:58:32.770Z"
   },
   {
    "duration": 12,
    "start_time": "2024-03-08T06:58:32.787Z"
   },
   {
    "duration": 11,
    "start_time": "2024-03-08T06:58:32.800Z"
   },
   {
    "duration": 17,
    "start_time": "2024-03-08T06:58:32.812Z"
   },
   {
    "duration": 14,
    "start_time": "2024-03-08T06:58:32.830Z"
   },
   {
    "duration": 3,
    "start_time": "2024-03-08T06:58:32.865Z"
   },
   {
    "duration": 21,
    "start_time": "2024-03-08T06:58:32.870Z"
   },
   {
    "duration": 14,
    "start_time": "2024-03-08T06:58:32.893Z"
   },
   {
    "duration": 511,
    "start_time": "2024-03-08T06:58:32.908Z"
   },
   {
    "duration": 430,
    "start_time": "2024-03-08T06:58:33.421Z"
   },
   {
    "duration": 25,
    "start_time": "2024-03-08T06:58:33.853Z"
   },
   {
    "duration": 4,
    "start_time": "2024-03-08T06:58:33.879Z"
   },
   {
    "duration": 397,
    "start_time": "2024-03-08T06:58:33.884Z"
   },
   {
    "duration": 0,
    "start_time": "2024-03-08T06:58:34.282Z"
   },
   {
    "duration": 0,
    "start_time": "2024-03-08T06:58:34.283Z"
   },
   {
    "duration": 0,
    "start_time": "2024-03-08T06:58:34.285Z"
   },
   {
    "duration": 0,
    "start_time": "2024-03-08T06:58:34.287Z"
   },
   {
    "duration": 0,
    "start_time": "2024-03-08T06:58:34.288Z"
   },
   {
    "duration": 0,
    "start_time": "2024-03-08T06:58:34.290Z"
   },
   {
    "duration": 0,
    "start_time": "2024-03-08T06:58:34.291Z"
   },
   {
    "duration": 0,
    "start_time": "2024-03-08T06:58:34.292Z"
   },
   {
    "duration": 0,
    "start_time": "2024-03-08T06:58:34.294Z"
   },
   {
    "duration": 0,
    "start_time": "2024-03-08T06:58:34.295Z"
   },
   {
    "duration": 0,
    "start_time": "2024-03-08T06:58:34.297Z"
   },
   {
    "duration": 0,
    "start_time": "2024-03-08T06:58:34.297Z"
   },
   {
    "duration": 0,
    "start_time": "2024-03-08T06:58:34.298Z"
   },
   {
    "duration": 0,
    "start_time": "2024-03-08T06:58:34.300Z"
   },
   {
    "duration": 0,
    "start_time": "2024-03-08T06:58:34.301Z"
   },
   {
    "duration": 26,
    "start_time": "2024-03-08T06:59:03.047Z"
   },
   {
    "duration": 13,
    "start_time": "2024-03-08T06:59:13.855Z"
   },
   {
    "duration": 14,
    "start_time": "2024-03-08T06:59:30.807Z"
   },
   {
    "duration": 9,
    "start_time": "2024-03-08T07:01:47.155Z"
   },
   {
    "duration": 4,
    "start_time": "2024-03-08T07:01:48.607Z"
   },
   {
    "duration": 1629,
    "start_time": "2024-03-08T07:02:02.463Z"
   },
   {
    "duration": 71,
    "start_time": "2024-03-08T07:02:04.094Z"
   },
   {
    "duration": 29,
    "start_time": "2024-03-08T07:02:04.167Z"
   },
   {
    "duration": 15,
    "start_time": "2024-03-08T07:02:04.198Z"
   },
   {
    "duration": 50,
    "start_time": "2024-03-08T07:02:04.215Z"
   },
   {
    "duration": 14,
    "start_time": "2024-03-08T07:02:04.267Z"
   },
   {
    "duration": 19,
    "start_time": "2024-03-08T07:02:04.283Z"
   },
   {
    "duration": 62,
    "start_time": "2024-03-08T07:02:04.304Z"
   },
   {
    "duration": 7,
    "start_time": "2024-03-08T07:02:04.367Z"
   },
   {
    "duration": 10,
    "start_time": "2024-03-08T07:02:04.377Z"
   },
   {
    "duration": 8,
    "start_time": "2024-03-08T07:02:04.388Z"
   },
   {
    "duration": 10,
    "start_time": "2024-03-08T07:02:04.397Z"
   },
   {
    "duration": 5,
    "start_time": "2024-03-08T07:02:04.408Z"
   },
   {
    "duration": 56,
    "start_time": "2024-03-08T07:02:04.414Z"
   },
   {
    "duration": 11,
    "start_time": "2024-03-08T07:02:04.472Z"
   },
   {
    "duration": 7,
    "start_time": "2024-03-08T07:02:04.485Z"
   },
   {
    "duration": 9,
    "start_time": "2024-03-08T07:02:04.493Z"
   },
   {
    "duration": 7,
    "start_time": "2024-03-08T07:02:04.503Z"
   },
   {
    "duration": 5,
    "start_time": "2024-03-08T07:02:04.512Z"
   },
   {
    "duration": 6,
    "start_time": "2024-03-08T07:02:04.518Z"
   },
   {
    "duration": 41,
    "start_time": "2024-03-08T07:02:04.525Z"
   },
   {
    "duration": 170,
    "start_time": "2024-03-08T07:02:04.568Z"
   },
   {
    "duration": 6,
    "start_time": "2024-03-08T07:02:04.739Z"
   },
   {
    "duration": 91,
    "start_time": "2024-03-08T07:02:04.746Z"
   },
   {
    "duration": 6,
    "start_time": "2024-03-08T07:02:04.839Z"
   },
   {
    "duration": 153,
    "start_time": "2024-03-08T07:02:04.846Z"
   },
   {
    "duration": 8,
    "start_time": "2024-03-08T07:02:05.001Z"
   },
   {
    "duration": 271,
    "start_time": "2024-03-08T07:02:05.014Z"
   },
   {
    "duration": 9,
    "start_time": "2024-03-08T07:02:05.287Z"
   },
   {
    "duration": 263,
    "start_time": "2024-03-08T07:02:05.297Z"
   },
   {
    "duration": 11,
    "start_time": "2024-03-08T07:02:05.561Z"
   },
   {
    "duration": 4,
    "start_time": "2024-03-08T07:02:05.573Z"
   },
   {
    "duration": 5,
    "start_time": "2024-03-08T07:02:05.578Z"
   },
   {
    "duration": 30,
    "start_time": "2024-03-08T07:02:05.584Z"
   },
   {
    "duration": 4,
    "start_time": "2024-03-08T07:02:05.616Z"
   },
   {
    "duration": 10,
    "start_time": "2024-03-08T07:02:05.622Z"
   },
   {
    "duration": 4,
    "start_time": "2024-03-08T07:02:05.633Z"
   },
   {
    "duration": 37,
    "start_time": "2024-03-08T07:02:05.639Z"
   },
   {
    "duration": 12,
    "start_time": "2024-03-08T07:02:05.678Z"
   },
   {
    "duration": 12,
    "start_time": "2024-03-08T07:02:05.692Z"
   },
   {
    "duration": 19,
    "start_time": "2024-03-08T07:02:05.705Z"
   },
   {
    "duration": 44,
    "start_time": "2024-03-08T07:02:05.726Z"
   },
   {
    "duration": 4,
    "start_time": "2024-03-08T07:02:05.771Z"
   },
   {
    "duration": 17,
    "start_time": "2024-03-08T07:02:05.777Z"
   },
   {
    "duration": 21,
    "start_time": "2024-03-08T07:02:05.795Z"
   },
   {
    "duration": 554,
    "start_time": "2024-03-08T07:02:05.818Z"
   },
   {
    "duration": 728,
    "start_time": "2024-03-08T07:02:06.373Z"
   },
   {
    "duration": 72,
    "start_time": "2024-03-08T07:02:07.102Z"
   },
   {
    "duration": 4,
    "start_time": "2024-03-08T07:02:07.175Z"
   },
   {
    "duration": 492,
    "start_time": "2024-03-08T07:02:07.181Z"
   },
   {
    "duration": 0,
    "start_time": "2024-03-08T07:02:07.674Z"
   },
   {
    "duration": 0,
    "start_time": "2024-03-08T07:02:07.676Z"
   },
   {
    "duration": 0,
    "start_time": "2024-03-08T07:02:07.677Z"
   },
   {
    "duration": 0,
    "start_time": "2024-03-08T07:02:07.678Z"
   },
   {
    "duration": 0,
    "start_time": "2024-03-08T07:02:07.679Z"
   },
   {
    "duration": 0,
    "start_time": "2024-03-08T07:02:07.680Z"
   },
   {
    "duration": 0,
    "start_time": "2024-03-08T07:02:07.681Z"
   },
   {
    "duration": 0,
    "start_time": "2024-03-08T07:02:07.682Z"
   },
   {
    "duration": 0,
    "start_time": "2024-03-08T07:02:07.683Z"
   },
   {
    "duration": 0,
    "start_time": "2024-03-08T07:02:07.684Z"
   },
   {
    "duration": 0,
    "start_time": "2024-03-08T07:02:07.685Z"
   },
   {
    "duration": 0,
    "start_time": "2024-03-08T07:02:07.686Z"
   },
   {
    "duration": 0,
    "start_time": "2024-03-08T07:02:07.687Z"
   },
   {
    "duration": 0,
    "start_time": "2024-03-08T07:02:07.688Z"
   },
   {
    "duration": 0,
    "start_time": "2024-03-08T07:02:07.689Z"
   },
   {
    "duration": 9,
    "start_time": "2024-03-08T07:03:03.570Z"
   },
   {
    "duration": 3,
    "start_time": "2024-03-08T07:03:04.449Z"
   },
   {
    "duration": 9,
    "start_time": "2024-03-08T07:03:11.430Z"
   },
   {
    "duration": 4,
    "start_time": "2024-03-08T07:03:13.709Z"
   },
   {
    "duration": 15,
    "start_time": "2024-03-08T07:03:14.435Z"
   },
   {
    "duration": 8,
    "start_time": "2024-03-08T07:03:44.824Z"
   },
   {
    "duration": 3,
    "start_time": "2024-03-08T07:03:45.447Z"
   },
   {
    "duration": 1021,
    "start_time": "2024-03-08T07:03:52.987Z"
   },
   {
    "duration": 29,
    "start_time": "2024-03-08T07:03:54.010Z"
   },
   {
    "duration": 29,
    "start_time": "2024-03-08T07:03:54.040Z"
   },
   {
    "duration": 16,
    "start_time": "2024-03-08T07:03:54.071Z"
   },
   {
    "duration": 12,
    "start_time": "2024-03-08T07:03:54.088Z"
   },
   {
    "duration": 12,
    "start_time": "2024-03-08T07:03:54.101Z"
   },
   {
    "duration": 9,
    "start_time": "2024-03-08T07:03:54.115Z"
   },
   {
    "duration": 10,
    "start_time": "2024-03-08T07:03:54.126Z"
   },
   {
    "duration": 6,
    "start_time": "2024-03-08T07:03:54.138Z"
   },
   {
    "duration": 26,
    "start_time": "2024-03-08T07:03:54.147Z"
   },
   {
    "duration": 8,
    "start_time": "2024-03-08T07:03:54.174Z"
   },
   {
    "duration": 18,
    "start_time": "2024-03-08T07:03:54.183Z"
   },
   {
    "duration": 6,
    "start_time": "2024-03-08T07:03:54.202Z"
   },
   {
    "duration": 9,
    "start_time": "2024-03-08T07:03:54.209Z"
   },
   {
    "duration": 7,
    "start_time": "2024-03-08T07:03:54.220Z"
   },
   {
    "duration": 39,
    "start_time": "2024-03-08T07:03:54.228Z"
   },
   {
    "duration": 9,
    "start_time": "2024-03-08T07:03:54.268Z"
   },
   {
    "duration": 7,
    "start_time": "2024-03-08T07:03:54.278Z"
   },
   {
    "duration": 4,
    "start_time": "2024-03-08T07:03:54.287Z"
   },
   {
    "duration": 5,
    "start_time": "2024-03-08T07:03:54.292Z"
   },
   {
    "duration": 6,
    "start_time": "2024-03-08T07:03:54.299Z"
   },
   {
    "duration": 217,
    "start_time": "2024-03-08T07:03:54.307Z"
   },
   {
    "duration": 5,
    "start_time": "2024-03-08T07:03:54.526Z"
   },
   {
    "duration": 93,
    "start_time": "2024-03-08T07:03:54.532Z"
   },
   {
    "duration": 6,
    "start_time": "2024-03-08T07:03:54.626Z"
   },
   {
    "duration": 153,
    "start_time": "2024-03-08T07:03:54.634Z"
   },
   {
    "duration": 7,
    "start_time": "2024-03-08T07:03:54.789Z"
   },
   {
    "duration": 257,
    "start_time": "2024-03-08T07:03:54.799Z"
   },
   {
    "duration": 13,
    "start_time": "2024-03-08T07:03:55.057Z"
   },
   {
    "duration": 247,
    "start_time": "2024-03-08T07:03:55.072Z"
   },
   {
    "duration": 7,
    "start_time": "2024-03-08T07:03:55.321Z"
   },
   {
    "duration": 5,
    "start_time": "2024-03-08T07:03:55.329Z"
   },
   {
    "duration": 6,
    "start_time": "2024-03-08T07:03:55.335Z"
   },
   {
    "duration": 23,
    "start_time": "2024-03-08T07:03:55.342Z"
   },
   {
    "duration": 2,
    "start_time": "2024-03-08T07:03:55.367Z"
   },
   {
    "duration": 15,
    "start_time": "2024-03-08T07:03:55.371Z"
   },
   {
    "duration": 7,
    "start_time": "2024-03-08T07:03:55.387Z"
   },
   {
    "duration": 21,
    "start_time": "2024-03-08T07:03:55.395Z"
   },
   {
    "duration": 12,
    "start_time": "2024-03-08T07:03:55.417Z"
   },
   {
    "duration": 11,
    "start_time": "2024-03-08T07:03:55.431Z"
   },
   {
    "duration": 35,
    "start_time": "2024-03-08T07:03:55.443Z"
   },
   {
    "duration": 20,
    "start_time": "2024-03-08T07:03:55.479Z"
   },
   {
    "duration": 3,
    "start_time": "2024-03-08T07:03:55.501Z"
   },
   {
    "duration": 38,
    "start_time": "2024-03-08T07:03:55.505Z"
   },
   {
    "duration": 13,
    "start_time": "2024-03-08T07:03:55.545Z"
   },
   {
    "duration": 542,
    "start_time": "2024-03-08T07:03:55.559Z"
   },
   {
    "duration": 438,
    "start_time": "2024-03-08T07:03:56.103Z"
   },
   {
    "duration": 30,
    "start_time": "2024-03-08T07:03:56.542Z"
   },
   {
    "duration": 3,
    "start_time": "2024-03-08T07:03:56.574Z"
   },
   {
    "duration": 436,
    "start_time": "2024-03-08T07:03:56.579Z"
   },
   {
    "duration": 0,
    "start_time": "2024-03-08T07:03:57.018Z"
   },
   {
    "duration": 0,
    "start_time": "2024-03-08T07:03:57.019Z"
   },
   {
    "duration": 0,
    "start_time": "2024-03-08T07:03:57.021Z"
   },
   {
    "duration": 0,
    "start_time": "2024-03-08T07:03:57.022Z"
   },
   {
    "duration": 0,
    "start_time": "2024-03-08T07:03:57.024Z"
   },
   {
    "duration": 0,
    "start_time": "2024-03-08T07:03:57.026Z"
   },
   {
    "duration": 1,
    "start_time": "2024-03-08T07:03:57.027Z"
   },
   {
    "duration": 0,
    "start_time": "2024-03-08T07:03:57.029Z"
   },
   {
    "duration": 0,
    "start_time": "2024-03-08T07:03:57.030Z"
   },
   {
    "duration": 0,
    "start_time": "2024-03-08T07:03:57.031Z"
   },
   {
    "duration": 0,
    "start_time": "2024-03-08T07:03:57.033Z"
   },
   {
    "duration": 0,
    "start_time": "2024-03-08T07:03:57.034Z"
   },
   {
    "duration": 0,
    "start_time": "2024-03-08T07:03:57.066Z"
   },
   {
    "duration": 0,
    "start_time": "2024-03-08T07:03:57.067Z"
   },
   {
    "duration": 0,
    "start_time": "2024-03-08T07:03:57.069Z"
   },
   {
    "duration": 9,
    "start_time": "2024-03-08T07:09:15.212Z"
   },
   {
    "duration": 24,
    "start_time": "2024-03-08T07:09:29.359Z"
   },
   {
    "duration": 4,
    "start_time": "2024-03-08T07:09:34.649Z"
   },
   {
    "duration": 10,
    "start_time": "2024-03-08T07:12:19.256Z"
   },
   {
    "duration": 11,
    "start_time": "2024-03-08T07:12:37.428Z"
   },
   {
    "duration": 4,
    "start_time": "2024-03-08T07:16:52.876Z"
   },
   {
    "duration": 63,
    "start_time": "2024-03-08T07:17:07.391Z"
   },
   {
    "duration": 11,
    "start_time": "2024-03-08T07:17:11.132Z"
   },
   {
    "duration": 9,
    "start_time": "2024-03-08T07:17:23.108Z"
   },
   {
    "duration": 9,
    "start_time": "2024-03-08T07:17:28.876Z"
   },
   {
    "duration": 10,
    "start_time": "2024-03-08T07:18:50.056Z"
   },
   {
    "duration": 4,
    "start_time": "2024-03-08T07:18:50.960Z"
   },
   {
    "duration": 13,
    "start_time": "2024-03-08T07:19:12.127Z"
   },
   {
    "duration": 14,
    "start_time": "2024-03-08T07:20:30.609Z"
   },
   {
    "duration": 4,
    "start_time": "2024-03-08T07:20:31.616Z"
   },
   {
    "duration": 3,
    "start_time": "2024-03-08T07:21:03.537Z"
   },
   {
    "duration": 1146,
    "start_time": "2024-03-08T07:21:39.384Z"
   },
   {
    "duration": 30,
    "start_time": "2024-03-08T07:21:40.532Z"
   },
   {
    "duration": 29,
    "start_time": "2024-03-08T07:21:40.564Z"
   },
   {
    "duration": 15,
    "start_time": "2024-03-08T07:21:40.595Z"
   },
   {
    "duration": 11,
    "start_time": "2024-03-08T07:21:40.612Z"
   },
   {
    "duration": 15,
    "start_time": "2024-03-08T07:21:40.625Z"
   },
   {
    "duration": 18,
    "start_time": "2024-03-08T07:21:40.643Z"
   },
   {
    "duration": 12,
    "start_time": "2024-03-08T07:21:40.662Z"
   },
   {
    "duration": 7,
    "start_time": "2024-03-08T07:21:40.676Z"
   },
   {
    "duration": 18,
    "start_time": "2024-03-08T07:21:40.687Z"
   },
   {
    "duration": 9,
    "start_time": "2024-03-08T07:21:40.707Z"
   },
   {
    "duration": 12,
    "start_time": "2024-03-08T07:21:40.718Z"
   },
   {
    "duration": 13,
    "start_time": "2024-03-08T07:21:40.732Z"
   },
   {
    "duration": 27,
    "start_time": "2024-03-08T07:21:40.746Z"
   },
   {
    "duration": 7,
    "start_time": "2024-03-08T07:21:40.775Z"
   },
   {
    "duration": 8,
    "start_time": "2024-03-08T07:21:40.783Z"
   },
   {
    "duration": 14,
    "start_time": "2024-03-08T07:21:40.793Z"
   },
   {
    "duration": 6,
    "start_time": "2024-03-08T07:21:40.810Z"
   },
   {
    "duration": 5,
    "start_time": "2024-03-08T07:21:40.818Z"
   },
   {
    "duration": 45,
    "start_time": "2024-03-08T07:21:40.825Z"
   },
   {
    "duration": 14,
    "start_time": "2024-03-08T07:21:40.872Z"
   },
   {
    "duration": 187,
    "start_time": "2024-03-08T07:21:40.888Z"
   },
   {
    "duration": 6,
    "start_time": "2024-03-08T07:21:41.077Z"
   },
   {
    "duration": 99,
    "start_time": "2024-03-08T07:21:41.085Z"
   },
   {
    "duration": 6,
    "start_time": "2024-03-08T07:21:41.186Z"
   },
   {
    "duration": 158,
    "start_time": "2024-03-08T07:21:41.194Z"
   },
   {
    "duration": 12,
    "start_time": "2024-03-08T07:21:41.353Z"
   },
   {
    "duration": 259,
    "start_time": "2024-03-08T07:21:41.369Z"
   },
   {
    "duration": 9,
    "start_time": "2024-03-08T07:21:41.629Z"
   },
   {
    "duration": 268,
    "start_time": "2024-03-08T07:21:41.639Z"
   },
   {
    "duration": 10,
    "start_time": "2024-03-08T07:21:41.909Z"
   },
   {
    "duration": 4,
    "start_time": "2024-03-08T07:21:41.921Z"
   },
   {
    "duration": 8,
    "start_time": "2024-03-08T07:21:41.928Z"
   },
   {
    "duration": 29,
    "start_time": "2024-03-08T07:21:41.938Z"
   },
   {
    "duration": 4,
    "start_time": "2024-03-08T07:21:41.970Z"
   },
   {
    "duration": 12,
    "start_time": "2024-03-08T07:21:41.977Z"
   },
   {
    "duration": 5,
    "start_time": "2024-03-08T07:21:41.991Z"
   },
   {
    "duration": 31,
    "start_time": "2024-03-08T07:21:41.999Z"
   },
   {
    "duration": 37,
    "start_time": "2024-03-08T07:21:42.032Z"
   },
   {
    "duration": 12,
    "start_time": "2024-03-08T07:21:42.071Z"
   },
   {
    "duration": 32,
    "start_time": "2024-03-08T07:21:42.085Z"
   },
   {
    "duration": 14,
    "start_time": "2024-03-08T07:21:42.119Z"
   },
   {
    "duration": 4,
    "start_time": "2024-03-08T07:21:42.134Z"
   },
   {
    "duration": 17,
    "start_time": "2024-03-08T07:21:42.166Z"
   },
   {
    "duration": 24,
    "start_time": "2024-03-08T07:21:42.186Z"
   },
   {
    "duration": 552,
    "start_time": "2024-03-08T07:21:42.213Z"
   },
   {
    "duration": 439,
    "start_time": "2024-03-08T07:21:42.767Z"
   },
   {
    "duration": 21,
    "start_time": "2024-03-08T07:21:43.207Z"
   },
   {
    "duration": 4,
    "start_time": "2024-03-08T07:21:43.230Z"
   },
   {
    "duration": 408,
    "start_time": "2024-03-08T07:21:43.236Z"
   },
   {
    "duration": 0,
    "start_time": "2024-03-08T07:21:43.647Z"
   },
   {
    "duration": 0,
    "start_time": "2024-03-08T07:21:43.647Z"
   },
   {
    "duration": 0,
    "start_time": "2024-03-08T07:21:43.649Z"
   },
   {
    "duration": 0,
    "start_time": "2024-03-08T07:21:43.651Z"
   },
   {
    "duration": 0,
    "start_time": "2024-03-08T07:21:43.652Z"
   },
   {
    "duration": 0,
    "start_time": "2024-03-08T07:21:43.653Z"
   },
   {
    "duration": 0,
    "start_time": "2024-03-08T07:21:43.654Z"
   },
   {
    "duration": 0,
    "start_time": "2024-03-08T07:21:43.656Z"
   },
   {
    "duration": 0,
    "start_time": "2024-03-08T07:21:43.657Z"
   },
   {
    "duration": 0,
    "start_time": "2024-03-08T07:21:43.658Z"
   },
   {
    "duration": 0,
    "start_time": "2024-03-08T07:21:43.660Z"
   },
   {
    "duration": 0,
    "start_time": "2024-03-08T07:21:43.661Z"
   },
   {
    "duration": 0,
    "start_time": "2024-03-08T07:21:43.662Z"
   },
   {
    "duration": 0,
    "start_time": "2024-03-08T07:21:43.663Z"
   },
   {
    "duration": 0,
    "start_time": "2024-03-08T07:21:43.664Z"
   },
   {
    "duration": 11,
    "start_time": "2024-03-08T07:25:01.414Z"
   },
   {
    "duration": 4,
    "start_time": "2024-03-08T07:25:02.225Z"
   },
   {
    "duration": 15,
    "start_time": "2024-03-08T07:25:04.521Z"
   },
   {
    "duration": 4,
    "start_time": "2024-03-08T07:25:10.395Z"
   },
   {
    "duration": 3,
    "start_time": "2024-03-08T07:25:12.277Z"
   },
   {
    "duration": 10,
    "start_time": "2024-03-08T07:26:22.350Z"
   },
   {
    "duration": 4,
    "start_time": "2024-03-08T07:26:22.990Z"
   },
   {
    "duration": 69,
    "start_time": "2024-03-08T07:29:45.435Z"
   },
   {
    "duration": 10,
    "start_time": "2024-03-08T07:29:57.269Z"
   },
   {
    "duration": 4,
    "start_time": "2024-03-08T07:30:01.094Z"
   },
   {
    "duration": 16,
    "start_time": "2024-03-08T07:30:05.412Z"
   },
   {
    "duration": 20,
    "start_time": "2024-03-08T07:30:07.925Z"
   },
   {
    "duration": 4,
    "start_time": "2024-03-08T07:30:30.984Z"
   },
   {
    "duration": 5,
    "start_time": "2024-03-08T07:30:32.931Z"
   },
   {
    "duration": 12,
    "start_time": "2024-03-08T07:31:25.032Z"
   },
   {
    "duration": 5,
    "start_time": "2024-03-08T07:31:26.023Z"
   },
   {
    "duration": 9,
    "start_time": "2024-03-08T07:31:34.230Z"
   },
   {
    "duration": 5,
    "start_time": "2024-03-08T07:31:34.982Z"
   },
   {
    "duration": 15,
    "start_time": "2024-03-08T07:33:25.207Z"
   },
   {
    "duration": 4,
    "start_time": "2024-03-08T07:33:25.898Z"
   },
   {
    "duration": 69,
    "start_time": "2024-03-08T07:34:16.043Z"
   },
   {
    "duration": 8,
    "start_time": "2024-03-08T07:34:29.015Z"
   },
   {
    "duration": 5,
    "start_time": "2024-03-08T07:34:29.846Z"
   },
   {
    "duration": 23,
    "start_time": "2024-03-08T07:34:30.143Z"
   },
   {
    "duration": 9,
    "start_time": "2024-03-08T07:34:33.135Z"
   },
   {
    "duration": 3,
    "start_time": "2024-03-08T07:34:33.671Z"
   },
   {
    "duration": 11,
    "start_time": "2024-03-08T07:34:42.764Z"
   },
   {
    "duration": 4,
    "start_time": "2024-03-08T07:34:43.327Z"
   },
   {
    "duration": 26,
    "start_time": "2024-03-08T07:35:00.781Z"
   },
   {
    "duration": 14,
    "start_time": "2024-03-08T07:35:18.507Z"
   },
   {
    "duration": 4,
    "start_time": "2024-03-08T07:36:15.891Z"
   },
   {
    "duration": 5,
    "start_time": "2024-03-08T07:36:27.255Z"
   },
   {
    "duration": 3,
    "start_time": "2024-03-08T07:36:35.340Z"
   },
   {
    "duration": 11,
    "start_time": "2024-03-08T07:36:48.143Z"
   },
   {
    "duration": 11,
    "start_time": "2024-03-08T07:36:57.760Z"
   },
   {
    "duration": 10,
    "start_time": "2024-03-08T07:37:58.455Z"
   },
   {
    "duration": 10,
    "start_time": "2024-03-08T07:38:07.883Z"
   },
   {
    "duration": 4,
    "start_time": "2024-03-08T07:38:11.215Z"
   },
   {
    "duration": 14,
    "start_time": "2024-03-08T07:38:16.739Z"
   },
   {
    "duration": 10,
    "start_time": "2024-03-08T07:38:48.547Z"
   },
   {
    "duration": 12,
    "start_time": "2024-03-08T07:38:54.720Z"
   },
   {
    "duration": 4,
    "start_time": "2024-03-08T07:41:09.515Z"
   },
   {
    "duration": 6,
    "start_time": "2024-03-08T07:41:18.549Z"
   },
   {
    "duration": 4,
    "start_time": "2024-03-08T07:41:26.180Z"
   },
   {
    "duration": 5,
    "start_time": "2024-03-08T07:41:30.292Z"
   },
   {
    "duration": 13,
    "start_time": "2024-03-08T07:42:28.066Z"
   },
   {
    "duration": 13,
    "start_time": "2024-03-08T07:43:48.520Z"
   },
   {
    "duration": 4,
    "start_time": "2024-03-08T07:43:49.160Z"
   },
   {
    "duration": 13,
    "start_time": "2024-03-08T07:43:50.664Z"
   },
   {
    "duration": 11,
    "start_time": "2024-03-08T07:43:58.020Z"
   },
   {
    "duration": 4,
    "start_time": "2024-03-08T07:44:14.388Z"
   },
   {
    "duration": 13,
    "start_time": "2024-03-08T07:44:16.180Z"
   },
   {
    "duration": 66,
    "start_time": "2024-03-08T07:45:18.712Z"
   },
   {
    "duration": 75,
    "start_time": "2024-03-08T07:46:23.729Z"
   },
   {
    "duration": 64,
    "start_time": "2024-03-08T07:47:14.884Z"
   },
   {
    "duration": 10,
    "start_time": "2024-03-08T07:47:23.577Z"
   },
   {
    "duration": 1101,
    "start_time": "2024-03-08T13:48:33.049Z"
   },
   {
    "duration": 29,
    "start_time": "2024-03-08T13:48:34.152Z"
   },
   {
    "duration": 28,
    "start_time": "2024-03-08T13:48:34.183Z"
   },
   {
    "duration": 14,
    "start_time": "2024-03-08T13:48:34.213Z"
   },
   {
    "duration": 10,
    "start_time": "2024-03-08T13:48:34.229Z"
   },
   {
    "duration": 22,
    "start_time": "2024-03-08T13:48:34.241Z"
   },
   {
    "duration": 14,
    "start_time": "2024-03-08T13:48:34.264Z"
   },
   {
    "duration": 12,
    "start_time": "2024-03-08T13:48:34.279Z"
   },
   {
    "duration": 7,
    "start_time": "2024-03-08T13:48:34.292Z"
   },
   {
    "duration": 9,
    "start_time": "2024-03-08T13:48:34.303Z"
   },
   {
    "duration": 7,
    "start_time": "2024-03-08T13:48:34.314Z"
   },
   {
    "duration": 10,
    "start_time": "2024-03-08T13:48:34.322Z"
   },
   {
    "duration": 35,
    "start_time": "2024-03-08T13:48:34.333Z"
   },
   {
    "duration": 7,
    "start_time": "2024-03-08T13:48:34.370Z"
   },
   {
    "duration": 5,
    "start_time": "2024-03-08T13:48:34.379Z"
   },
   {
    "duration": 6,
    "start_time": "2024-03-08T13:48:34.386Z"
   },
   {
    "duration": 10,
    "start_time": "2024-03-08T13:48:34.393Z"
   },
   {
    "duration": 5,
    "start_time": "2024-03-08T13:48:34.405Z"
   },
   {
    "duration": 5,
    "start_time": "2024-03-08T13:48:34.411Z"
   },
   {
    "duration": 48,
    "start_time": "2024-03-08T13:48:34.417Z"
   },
   {
    "duration": 5,
    "start_time": "2024-03-08T13:48:34.467Z"
   },
   {
    "duration": 180,
    "start_time": "2024-03-08T13:48:34.473Z"
   },
   {
    "duration": 11,
    "start_time": "2024-03-08T13:48:34.655Z"
   },
   {
    "duration": 83,
    "start_time": "2024-03-08T13:48:34.667Z"
   },
   {
    "duration": 6,
    "start_time": "2024-03-08T13:48:34.764Z"
   },
   {
    "duration": 152,
    "start_time": "2024-03-08T13:48:34.771Z"
   },
   {
    "duration": 7,
    "start_time": "2024-03-08T13:48:34.924Z"
   },
   {
    "duration": 274,
    "start_time": "2024-03-08T13:48:34.934Z"
   },
   {
    "duration": 9,
    "start_time": "2024-03-08T13:48:35.209Z"
   },
   {
    "duration": 257,
    "start_time": "2024-03-08T13:48:35.219Z"
   },
   {
    "duration": 7,
    "start_time": "2024-03-08T13:48:35.478Z"
   },
   {
    "duration": 3,
    "start_time": "2024-03-08T13:48:35.486Z"
   },
   {
    "duration": 9,
    "start_time": "2024-03-08T13:48:35.491Z"
   },
   {
    "duration": 3,
    "start_time": "2024-03-08T13:48:35.501Z"
   },
   {
    "duration": 10,
    "start_time": "2024-03-08T13:48:35.505Z"
   },
   {
    "duration": 4,
    "start_time": "2024-03-08T13:48:35.516Z"
   },
   {
    "duration": 14,
    "start_time": "2024-03-08T13:48:35.521Z"
   },
   {
    "duration": 44,
    "start_time": "2024-03-08T13:48:35.536Z"
   },
   {
    "duration": 13,
    "start_time": "2024-03-08T13:48:35.581Z"
   },
   {
    "duration": 534,
    "start_time": "2024-03-08T13:48:35.595Z"
   },
   {
    "duration": 440,
    "start_time": "2024-03-08T13:48:36.131Z"
   },
   {
    "duration": 19,
    "start_time": "2024-03-08T13:48:36.573Z"
   },
   {
    "duration": 4,
    "start_time": "2024-03-08T13:48:36.594Z"
   },
   {
    "duration": 422,
    "start_time": "2024-03-08T13:48:36.599Z"
   },
   {
    "duration": 0,
    "start_time": "2024-03-08T13:48:37.022Z"
   },
   {
    "duration": 0,
    "start_time": "2024-03-08T13:48:37.024Z"
   },
   {
    "duration": 0,
    "start_time": "2024-03-08T13:48:37.025Z"
   },
   {
    "duration": 0,
    "start_time": "2024-03-08T13:48:37.026Z"
   },
   {
    "duration": 0,
    "start_time": "2024-03-08T13:48:37.027Z"
   },
   {
    "duration": 0,
    "start_time": "2024-03-08T13:48:37.028Z"
   },
   {
    "duration": 0,
    "start_time": "2024-03-08T13:48:37.029Z"
   },
   {
    "duration": 0,
    "start_time": "2024-03-08T13:48:37.030Z"
   },
   {
    "duration": 0,
    "start_time": "2024-03-08T13:48:37.031Z"
   },
   {
    "duration": 0,
    "start_time": "2024-03-08T13:48:37.032Z"
   },
   {
    "duration": 0,
    "start_time": "2024-03-08T13:48:37.033Z"
   },
   {
    "duration": 0,
    "start_time": "2024-03-08T13:48:37.034Z"
   },
   {
    "duration": 0,
    "start_time": "2024-03-08T13:48:37.035Z"
   },
   {
    "duration": 0,
    "start_time": "2024-03-08T13:48:37.035Z"
   },
   {
    "duration": 0,
    "start_time": "2024-03-08T13:48:37.036Z"
   },
   {
    "duration": 323,
    "start_time": "2024-03-08T13:49:11.429Z"
   },
   {
    "duration": 4,
    "start_time": "2024-03-08T13:49:27.142Z"
   },
   {
    "duration": 32,
    "start_time": "2024-03-08T13:49:28.930Z"
   },
   {
    "duration": 5,
    "start_time": "2024-03-08T13:53:18.698Z"
   },
   {
    "duration": 34,
    "start_time": "2024-03-08T13:53:22.950Z"
   },
   {
    "duration": 70,
    "start_time": "2024-03-08T13:53:55.991Z"
   },
   {
    "duration": 82,
    "start_time": "2024-03-08T13:54:04.385Z"
   },
   {
    "duration": 5,
    "start_time": "2024-03-08T13:54:25.581Z"
   },
   {
    "duration": 777,
    "start_time": "2024-03-08T13:54:29.538Z"
   },
   {
    "duration": 849,
    "start_time": "2024-03-08T13:54:39.110Z"
   },
   {
    "duration": 819,
    "start_time": "2024-03-08T13:54:51.454Z"
   },
   {
    "duration": 779,
    "start_time": "2024-03-08T13:54:59.541Z"
   },
   {
    "duration": 819,
    "start_time": "2024-03-08T13:55:06.085Z"
   },
   {
    "duration": 771,
    "start_time": "2024-03-08T13:55:11.734Z"
   },
   {
    "duration": 739,
    "start_time": "2024-03-08T13:55:20.570Z"
   },
   {
    "duration": 57,
    "start_time": "2024-03-08T13:59:29.775Z"
   },
   {
    "duration": 42,
    "start_time": "2024-03-08T14:01:37.431Z"
   },
   {
    "duration": 9,
    "start_time": "2024-03-08T14:01:46.846Z"
   },
   {
    "duration": 10,
    "start_time": "2024-03-08T14:02:52.279Z"
   },
   {
    "duration": 3,
    "start_time": "2024-03-08T14:10:40.250Z"
   },
   {
    "duration": 12,
    "start_time": "2024-03-08T14:10:54.632Z"
   },
   {
    "duration": 3,
    "start_time": "2024-03-08T14:11:05.924Z"
   },
   {
    "duration": 3,
    "start_time": "2024-03-08T14:11:19.152Z"
   },
   {
    "duration": 14,
    "start_time": "2024-03-08T14:11:20.960Z"
   },
   {
    "duration": 3,
    "start_time": "2024-03-08T14:11:30.264Z"
   },
   {
    "duration": 18,
    "start_time": "2024-03-08T14:11:32.651Z"
   },
   {
    "duration": 3,
    "start_time": "2024-03-08T14:12:00.680Z"
   },
   {
    "duration": 20,
    "start_time": "2024-03-08T14:12:04.064Z"
   },
   {
    "duration": 3,
    "start_time": "2024-03-08T14:13:47.940Z"
   },
   {
    "duration": 25,
    "start_time": "2024-03-08T14:13:50.684Z"
   },
   {
    "duration": 4,
    "start_time": "2024-03-08T14:14:02.727Z"
   },
   {
    "duration": 23,
    "start_time": "2024-03-08T14:14:04.681Z"
   },
   {
    "duration": 4,
    "start_time": "2024-03-08T14:15:27.192Z"
   },
   {
    "duration": 24,
    "start_time": "2024-03-08T14:15:29.249Z"
   },
   {
    "duration": 3,
    "start_time": "2024-03-08T14:15:58.606Z"
   },
   {
    "duration": 4,
    "start_time": "2024-03-08T14:16:05.664Z"
   },
   {
    "duration": 21,
    "start_time": "2024-03-08T14:16:08.444Z"
   },
   {
    "duration": 80,
    "start_time": "2024-03-08T14:17:24.724Z"
   },
   {
    "duration": 4,
    "start_time": "2024-03-08T14:18:01.258Z"
   },
   {
    "duration": 4,
    "start_time": "2024-03-08T14:18:08.565Z"
   },
   {
    "duration": 4,
    "start_time": "2024-03-08T14:18:13.324Z"
   },
   {
    "duration": 4,
    "start_time": "2024-03-08T14:18:22.966Z"
   },
   {
    "duration": 4,
    "start_time": "2024-03-08T14:19:19.577Z"
   },
   {
    "duration": 22,
    "start_time": "2024-03-08T14:19:23.549Z"
   },
   {
    "duration": 4,
    "start_time": "2024-03-08T14:20:30.482Z"
   },
   {
    "duration": 26,
    "start_time": "2024-03-08T14:20:33.281Z"
   },
   {
    "duration": 32,
    "start_time": "2024-03-08T14:21:42.702Z"
   },
   {
    "duration": 4,
    "start_time": "2024-03-08T14:22:09.077Z"
   },
   {
    "duration": 24,
    "start_time": "2024-03-08T14:22:12.474Z"
   },
   {
    "duration": 32,
    "start_time": "2024-03-08T14:22:20.777Z"
   },
   {
    "duration": 26,
    "start_time": "2024-03-08T14:22:31.935Z"
   },
   {
    "duration": 77,
    "start_time": "2024-03-08T14:23:44.895Z"
   },
   {
    "duration": 1170,
    "start_time": "2024-03-08T14:24:18.986Z"
   },
   {
    "duration": 29,
    "start_time": "2024-03-08T14:24:20.158Z"
   },
   {
    "duration": 32,
    "start_time": "2024-03-08T14:24:20.188Z"
   },
   {
    "duration": 15,
    "start_time": "2024-03-08T14:24:20.222Z"
   },
   {
    "duration": 4,
    "start_time": "2024-03-08T14:24:20.239Z"
   },
   {
    "duration": 38,
    "start_time": "2024-03-08T14:24:20.245Z"
   },
   {
    "duration": 33,
    "start_time": "2024-03-08T14:24:20.284Z"
   },
   {
    "duration": 48,
    "start_time": "2024-03-08T14:24:20.319Z"
   },
   {
    "duration": 5,
    "start_time": "2024-03-08T14:24:20.369Z"
   },
   {
    "duration": 9,
    "start_time": "2024-03-08T14:24:20.377Z"
   },
   {
    "duration": 6,
    "start_time": "2024-03-08T14:24:20.387Z"
   },
   {
    "duration": 12,
    "start_time": "2024-03-08T14:24:20.394Z"
   },
   {
    "duration": 11,
    "start_time": "2024-03-08T14:24:20.408Z"
   },
   {
    "duration": 11,
    "start_time": "2024-03-08T14:24:20.420Z"
   },
   {
    "duration": 34,
    "start_time": "2024-03-08T14:24:20.432Z"
   },
   {
    "duration": 8,
    "start_time": "2024-03-08T14:24:20.468Z"
   },
   {
    "duration": 5,
    "start_time": "2024-03-08T14:24:20.477Z"
   },
   {
    "duration": 183,
    "start_time": "2024-03-08T14:24:20.483Z"
   },
   {
    "duration": 6,
    "start_time": "2024-03-08T14:24:20.668Z"
   },
   {
    "duration": 97,
    "start_time": "2024-03-08T14:24:20.675Z"
   },
   {
    "duration": 6,
    "start_time": "2024-03-08T14:24:20.774Z"
   },
   {
    "duration": 156,
    "start_time": "2024-03-08T14:24:20.781Z"
   },
   {
    "duration": 8,
    "start_time": "2024-03-08T14:24:20.938Z"
   },
   {
    "duration": 270,
    "start_time": "2024-03-08T14:24:20.947Z"
   },
   {
    "duration": 7,
    "start_time": "2024-03-08T14:24:21.219Z"
   },
   {
    "duration": 265,
    "start_time": "2024-03-08T14:24:21.228Z"
   },
   {
    "duration": 9,
    "start_time": "2024-03-08T14:24:21.495Z"
   },
   {
    "duration": 3,
    "start_time": "2024-03-08T14:24:21.508Z"
   },
   {
    "duration": 11,
    "start_time": "2024-03-08T14:24:21.513Z"
   },
   {
    "duration": 4,
    "start_time": "2024-03-08T14:24:21.526Z"
   },
   {
    "duration": 10,
    "start_time": "2024-03-08T14:24:21.564Z"
   },
   {
    "duration": 4,
    "start_time": "2024-03-08T14:24:21.575Z"
   },
   {
    "duration": 9,
    "start_time": "2024-03-08T14:24:21.580Z"
   },
   {
    "duration": 17,
    "start_time": "2024-03-08T14:24:21.590Z"
   },
   {
    "duration": 15,
    "start_time": "2024-03-08T14:24:21.608Z"
   },
   {
    "duration": 948,
    "start_time": "2024-03-08T14:24:21.624Z"
   },
   {
    "duration": 777,
    "start_time": "2024-03-08T14:24:22.574Z"
   },
   {
    "duration": 19,
    "start_time": "2024-03-08T14:24:23.353Z"
   },
   {
    "duration": 4,
    "start_time": "2024-03-08T14:24:23.374Z"
   },
   {
    "duration": 921,
    "start_time": "2024-03-08T14:24:23.379Z"
   },
   {
    "duration": 2,
    "start_time": "2024-03-08T14:24:24.302Z"
   },
   {
    "duration": 24,
    "start_time": "2024-03-08T14:24:24.306Z"
   },
   {
    "duration": 7,
    "start_time": "2024-03-08T14:24:24.331Z"
   },
   {
    "duration": 20,
    "start_time": "2024-03-08T14:24:24.340Z"
   },
   {
    "duration": 3,
    "start_time": "2024-03-08T14:24:24.362Z"
   },
   {
    "duration": 12,
    "start_time": "2024-03-08T14:24:24.367Z"
   },
   {
    "duration": 121,
    "start_time": "2024-03-08T14:24:24.380Z"
   },
   {
    "duration": 0,
    "start_time": "2024-03-08T14:24:24.503Z"
   },
   {
    "duration": 0,
    "start_time": "2024-03-08T14:24:24.504Z"
   },
   {
    "duration": 0,
    "start_time": "2024-03-08T14:24:24.505Z"
   },
   {
    "duration": 0,
    "start_time": "2024-03-08T14:24:24.506Z"
   },
   {
    "duration": 0,
    "start_time": "2024-03-08T14:24:24.507Z"
   },
   {
    "duration": 0,
    "start_time": "2024-03-08T14:24:24.509Z"
   },
   {
    "duration": 0,
    "start_time": "2024-03-08T14:24:24.510Z"
   },
   {
    "duration": 0,
    "start_time": "2024-03-08T14:24:24.511Z"
   },
   {
    "duration": 6,
    "start_time": "2024-03-08T14:28:40.567Z"
   },
   {
    "duration": 4,
    "start_time": "2024-03-08T14:32:10.874Z"
   },
   {
    "duration": 13,
    "start_time": "2024-03-08T14:32:19.120Z"
   },
   {
    "duration": 1113,
    "start_time": "2024-03-08T14:32:47.993Z"
   },
   {
    "duration": 29,
    "start_time": "2024-03-08T14:32:49.108Z"
   },
   {
    "duration": 40,
    "start_time": "2024-03-08T14:32:49.139Z"
   },
   {
    "duration": 16,
    "start_time": "2024-03-08T14:32:49.181Z"
   },
   {
    "duration": 4,
    "start_time": "2024-03-08T14:32:49.198Z"
   },
   {
    "duration": 36,
    "start_time": "2024-03-08T14:32:49.204Z"
   },
   {
    "duration": 44,
    "start_time": "2024-03-08T14:32:49.242Z"
   },
   {
    "duration": 24,
    "start_time": "2024-03-08T14:32:49.288Z"
   },
   {
    "duration": 4,
    "start_time": "2024-03-08T14:32:49.313Z"
   },
   {
    "duration": 8,
    "start_time": "2024-03-08T14:32:49.319Z"
   },
   {
    "duration": 5,
    "start_time": "2024-03-08T14:32:49.328Z"
   },
   {
    "duration": 33,
    "start_time": "2024-03-08T14:32:49.335Z"
   },
   {
    "duration": 12,
    "start_time": "2024-03-08T14:32:49.369Z"
   },
   {
    "duration": 9,
    "start_time": "2024-03-08T14:32:49.382Z"
   },
   {
    "duration": 16,
    "start_time": "2024-03-08T14:32:49.392Z"
   },
   {
    "duration": 179,
    "start_time": "2024-03-08T14:32:49.410Z"
   },
   {
    "duration": 5,
    "start_time": "2024-03-08T14:32:49.591Z"
   },
   {
    "duration": 103,
    "start_time": "2024-03-08T14:32:49.598Z"
   },
   {
    "duration": 6,
    "start_time": "2024-03-08T14:32:49.703Z"
   },
   {
    "duration": 177,
    "start_time": "2024-03-08T14:32:49.710Z"
   },
   {
    "duration": 8,
    "start_time": "2024-03-08T14:32:49.888Z"
   },
   {
    "duration": 269,
    "start_time": "2024-03-08T14:32:49.898Z"
   },
   {
    "duration": 8,
    "start_time": "2024-03-08T14:32:50.169Z"
   },
   {
    "duration": 260,
    "start_time": "2024-03-08T14:32:50.179Z"
   },
   {
    "duration": 9,
    "start_time": "2024-03-08T14:32:50.440Z"
   },
   {
    "duration": 16,
    "start_time": "2024-03-08T14:32:50.450Z"
   },
   {
    "duration": 9,
    "start_time": "2024-03-08T14:32:50.467Z"
   },
   {
    "duration": 5,
    "start_time": "2024-03-08T14:32:50.479Z"
   },
   {
    "duration": 11,
    "start_time": "2024-03-08T14:32:50.485Z"
   },
   {
    "duration": 4,
    "start_time": "2024-03-08T14:32:50.497Z"
   },
   {
    "duration": 10,
    "start_time": "2024-03-08T14:32:50.502Z"
   },
   {
    "duration": 22,
    "start_time": "2024-03-08T14:32:50.514Z"
   },
   {
    "duration": 13,
    "start_time": "2024-03-08T14:32:50.566Z"
   },
   {
    "duration": 494,
    "start_time": "2024-03-08T14:32:50.581Z"
   },
   {
    "duration": 446,
    "start_time": "2024-03-08T14:32:51.076Z"
   },
   {
    "duration": 20,
    "start_time": "2024-03-08T14:32:51.523Z"
   },
   {
    "duration": 3,
    "start_time": "2024-03-08T14:32:51.545Z"
   },
   {
    "duration": 764,
    "start_time": "2024-03-08T14:32:51.550Z"
   },
   {
    "duration": 3,
    "start_time": "2024-03-08T14:32:52.315Z"
   },
   {
    "duration": 14,
    "start_time": "2024-03-08T14:32:52.319Z"
   },
   {
    "duration": 4,
    "start_time": "2024-03-08T14:32:52.335Z"
   },
   {
    "duration": 5,
    "start_time": "2024-03-08T14:32:52.340Z"
   },
   {
    "duration": 4,
    "start_time": "2024-03-08T14:32:52.346Z"
   },
   {
    "duration": 9,
    "start_time": "2024-03-08T14:32:52.365Z"
   },
   {
    "duration": 130,
    "start_time": "2024-03-08T14:32:52.376Z"
   },
   {
    "duration": 0,
    "start_time": "2024-03-08T14:32:52.508Z"
   },
   {
    "duration": 0,
    "start_time": "2024-03-08T14:32:52.509Z"
   },
   {
    "duration": 0,
    "start_time": "2024-03-08T14:32:52.511Z"
   },
   {
    "duration": 0,
    "start_time": "2024-03-08T14:32:52.513Z"
   },
   {
    "duration": 0,
    "start_time": "2024-03-08T14:32:52.514Z"
   },
   {
    "duration": 0,
    "start_time": "2024-03-08T14:32:52.515Z"
   },
   {
    "duration": 0,
    "start_time": "2024-03-08T14:32:52.517Z"
   },
   {
    "duration": 0,
    "start_time": "2024-03-08T14:32:52.518Z"
   },
   {
    "duration": 13,
    "start_time": "2024-03-08T14:35:26.586Z"
   },
   {
    "duration": 4,
    "start_time": "2024-03-08T14:37:38.035Z"
   },
   {
    "duration": 4,
    "start_time": "2024-03-08T14:37:50.128Z"
   },
   {
    "duration": 68,
    "start_time": "2024-03-08T14:38:33.847Z"
   },
   {
    "duration": 71,
    "start_time": "2024-03-08T14:39:07.393Z"
   },
   {
    "duration": 4,
    "start_time": "2024-03-08T14:39:46.964Z"
   },
   {
    "duration": 10,
    "start_time": "2024-03-08T14:42:03.528Z"
   },
   {
    "duration": 20,
    "start_time": "2024-03-08T14:45:07.783Z"
   },
   {
    "duration": 19,
    "start_time": "2024-03-08T14:53:56.147Z"
   },
   {
    "duration": 11,
    "start_time": "2024-03-08T14:54:12.376Z"
   },
   {
    "duration": 11,
    "start_time": "2024-03-08T14:54:34.416Z"
   },
   {
    "duration": 14,
    "start_time": "2024-03-08T14:55:27.423Z"
   },
   {
    "duration": 13,
    "start_time": "2024-03-08T14:55:44.060Z"
   },
   {
    "duration": 13,
    "start_time": "2024-03-08T14:56:45.152Z"
   },
   {
    "duration": 5,
    "start_time": "2024-03-08T14:57:03.065Z"
   },
   {
    "duration": 3,
    "start_time": "2024-03-08T15:00:30.708Z"
   },
   {
    "duration": 1067,
    "start_time": "2024-03-08T15:00:35.456Z"
   },
   {
    "duration": 29,
    "start_time": "2024-03-08T15:00:36.525Z"
   },
   {
    "duration": 33,
    "start_time": "2024-03-08T15:00:36.556Z"
   },
   {
    "duration": 16,
    "start_time": "2024-03-08T15:00:36.591Z"
   },
   {
    "duration": 4,
    "start_time": "2024-03-08T15:00:36.608Z"
   },
   {
    "duration": 38,
    "start_time": "2024-03-08T15:00:36.613Z"
   },
   {
    "duration": 34,
    "start_time": "2024-03-08T15:00:36.652Z"
   },
   {
    "duration": 25,
    "start_time": "2024-03-08T15:00:36.687Z"
   },
   {
    "duration": 5,
    "start_time": "2024-03-08T15:00:36.714Z"
   },
   {
    "duration": 7,
    "start_time": "2024-03-08T15:00:36.722Z"
   },
   {
    "duration": 36,
    "start_time": "2024-03-08T15:00:36.730Z"
   },
   {
    "duration": 5,
    "start_time": "2024-03-08T15:00:36.767Z"
   },
   {
    "duration": 6,
    "start_time": "2024-03-08T15:00:36.773Z"
   },
   {
    "duration": 21,
    "start_time": "2024-03-08T15:00:36.780Z"
   },
   {
    "duration": 8,
    "start_time": "2024-03-08T15:00:36.802Z"
   },
   {
    "duration": 209,
    "start_time": "2024-03-08T15:00:36.811Z"
   },
   {
    "duration": 5,
    "start_time": "2024-03-08T15:00:37.022Z"
   },
   {
    "duration": 99,
    "start_time": "2024-03-08T15:00:37.028Z"
   },
   {
    "duration": 5,
    "start_time": "2024-03-08T15:00:37.129Z"
   },
   {
    "duration": 180,
    "start_time": "2024-03-08T15:00:37.136Z"
   },
   {
    "duration": 9,
    "start_time": "2024-03-08T15:00:37.318Z"
   },
   {
    "duration": 259,
    "start_time": "2024-03-08T15:00:37.328Z"
   },
   {
    "duration": 8,
    "start_time": "2024-03-08T15:00:37.589Z"
   },
   {
    "duration": 273,
    "start_time": "2024-03-08T15:00:37.599Z"
   },
   {
    "duration": 8,
    "start_time": "2024-03-08T15:00:37.874Z"
   },
   {
    "duration": 8,
    "start_time": "2024-03-08T15:00:37.884Z"
   },
   {
    "duration": 13,
    "start_time": "2024-03-08T15:00:37.893Z"
   },
   {
    "duration": 4,
    "start_time": "2024-03-08T15:00:37.909Z"
   },
   {
    "duration": 28,
    "start_time": "2024-03-08T15:00:37.914Z"
   },
   {
    "duration": 3,
    "start_time": "2024-03-08T15:00:37.943Z"
   },
   {
    "duration": 19,
    "start_time": "2024-03-08T15:00:37.948Z"
   },
   {
    "duration": 18,
    "start_time": "2024-03-08T15:00:37.968Z"
   },
   {
    "duration": 15,
    "start_time": "2024-03-08T15:00:37.987Z"
   },
   {
    "duration": 566,
    "start_time": "2024-03-08T15:00:38.003Z"
   },
   {
    "duration": 512,
    "start_time": "2024-03-08T15:00:38.570Z"
   },
   {
    "duration": 22,
    "start_time": "2024-03-08T15:00:39.084Z"
   },
   {
    "duration": 5,
    "start_time": "2024-03-08T15:00:39.108Z"
   },
   {
    "duration": 795,
    "start_time": "2024-03-08T15:00:39.115Z"
   },
   {
    "duration": 3,
    "start_time": "2024-03-08T15:00:39.912Z"
   },
   {
    "duration": 10,
    "start_time": "2024-03-08T15:00:39.916Z"
   },
   {
    "duration": 3,
    "start_time": "2024-03-08T15:00:39.928Z"
   },
   {
    "duration": 6,
    "start_time": "2024-03-08T15:00:39.933Z"
   },
   {
    "duration": 5,
    "start_time": "2024-03-08T15:00:39.940Z"
   },
   {
    "duration": 27,
    "start_time": "2024-03-08T15:00:39.946Z"
   },
   {
    "duration": 232,
    "start_time": "2024-03-08T15:00:39.975Z"
   },
   {
    "duration": 0,
    "start_time": "2024-03-08T15:00:40.209Z"
   },
   {
    "duration": 0,
    "start_time": "2024-03-08T15:00:40.210Z"
   },
   {
    "duration": 0,
    "start_time": "2024-03-08T15:00:40.265Z"
   },
   {
    "duration": 0,
    "start_time": "2024-03-08T15:00:40.267Z"
   },
   {
    "duration": 0,
    "start_time": "2024-03-08T15:00:40.268Z"
   },
   {
    "duration": 0,
    "start_time": "2024-03-08T15:00:40.270Z"
   },
   {
    "duration": 0,
    "start_time": "2024-03-08T15:00:40.271Z"
   },
   {
    "duration": 0,
    "start_time": "2024-03-08T15:00:40.272Z"
   },
   {
    "duration": 8,
    "start_time": "2024-03-08T15:01:31.988Z"
   },
   {
    "duration": 28,
    "start_time": "2024-03-08T15:01:33.767Z"
   },
   {
    "duration": 25,
    "start_time": "2024-03-08T15:01:43.638Z"
   },
   {
    "duration": 24,
    "start_time": "2024-03-08T15:01:59.244Z"
   },
   {
    "duration": 25,
    "start_time": "2024-03-08T15:02:04.632Z"
   },
   {
    "duration": 1047,
    "start_time": "2024-03-08T15:02:35.059Z"
   },
   {
    "duration": 30,
    "start_time": "2024-03-08T15:02:36.107Z"
   },
   {
    "duration": 32,
    "start_time": "2024-03-08T15:02:36.138Z"
   },
   {
    "duration": 15,
    "start_time": "2024-03-08T15:02:36.172Z"
   },
   {
    "duration": 3,
    "start_time": "2024-03-08T15:02:36.189Z"
   },
   {
    "duration": 29,
    "start_time": "2024-03-08T15:02:36.194Z"
   },
   {
    "duration": 41,
    "start_time": "2024-03-08T15:02:36.224Z"
   },
   {
    "duration": 24,
    "start_time": "2024-03-08T15:02:36.266Z"
   },
   {
    "duration": 4,
    "start_time": "2024-03-08T15:02:36.291Z"
   },
   {
    "duration": 6,
    "start_time": "2024-03-08T15:02:36.297Z"
   },
   {
    "duration": 8,
    "start_time": "2024-03-08T15:02:36.304Z"
   },
   {
    "duration": 4,
    "start_time": "2024-03-08T15:02:36.314Z"
   },
   {
    "duration": 5,
    "start_time": "2024-03-08T15:02:36.320Z"
   },
   {
    "duration": 51,
    "start_time": "2024-03-08T15:02:36.326Z"
   },
   {
    "duration": 7,
    "start_time": "2024-03-08T15:02:36.378Z"
   },
   {
    "duration": 173,
    "start_time": "2024-03-08T15:02:36.387Z"
   },
   {
    "duration": 8,
    "start_time": "2024-03-08T15:02:36.561Z"
   },
   {
    "duration": 108,
    "start_time": "2024-03-08T15:02:36.570Z"
   },
   {
    "duration": 7,
    "start_time": "2024-03-08T15:02:36.680Z"
   },
   {
    "duration": 162,
    "start_time": "2024-03-08T15:02:36.688Z"
   },
   {
    "duration": 8,
    "start_time": "2024-03-08T15:02:36.851Z"
   },
   {
    "duration": 270,
    "start_time": "2024-03-08T15:02:36.865Z"
   },
   {
    "duration": 9,
    "start_time": "2024-03-08T15:02:37.136Z"
   },
   {
    "duration": 265,
    "start_time": "2024-03-08T15:02:37.146Z"
   },
   {
    "duration": 9,
    "start_time": "2024-03-08T15:02:37.413Z"
   },
   {
    "duration": 4,
    "start_time": "2024-03-08T15:02:37.424Z"
   },
   {
    "duration": 13,
    "start_time": "2024-03-08T15:02:37.429Z"
   },
   {
    "duration": 3,
    "start_time": "2024-03-08T15:02:37.465Z"
   },
   {
    "duration": 10,
    "start_time": "2024-03-08T15:02:37.470Z"
   },
   {
    "duration": 4,
    "start_time": "2024-03-08T15:02:37.482Z"
   },
   {
    "duration": 9,
    "start_time": "2024-03-08T15:02:37.487Z"
   },
   {
    "duration": 19,
    "start_time": "2024-03-08T15:02:37.498Z"
   },
   {
    "duration": 50,
    "start_time": "2024-03-08T15:02:37.519Z"
   },
   {
    "duration": 568,
    "start_time": "2024-03-08T15:02:37.571Z"
   },
   {
    "duration": 456,
    "start_time": "2024-03-08T15:02:38.141Z"
   },
   {
    "duration": 21,
    "start_time": "2024-03-08T15:02:38.599Z"
   },
   {
    "duration": 5,
    "start_time": "2024-03-08T15:02:38.622Z"
   },
   {
    "duration": 854,
    "start_time": "2024-03-08T15:02:38.629Z"
   },
   {
    "duration": 3,
    "start_time": "2024-03-08T15:02:39.484Z"
   },
   {
    "duration": 8,
    "start_time": "2024-03-08T15:02:39.488Z"
   },
   {
    "duration": 67,
    "start_time": "2024-03-08T15:02:39.498Z"
   },
   {
    "duration": 5,
    "start_time": "2024-03-08T15:02:39.567Z"
   },
   {
    "duration": 17,
    "start_time": "2024-03-08T15:02:39.573Z"
   },
   {
    "duration": 73,
    "start_time": "2024-03-08T15:02:39.592Z"
   },
   {
    "duration": 231,
    "start_time": "2024-03-08T15:02:39.667Z"
   },
   {
    "duration": 0,
    "start_time": "2024-03-08T15:02:39.899Z"
   },
   {
    "duration": 0,
    "start_time": "2024-03-08T15:02:39.901Z"
   },
   {
    "duration": 0,
    "start_time": "2024-03-08T15:02:39.902Z"
   },
   {
    "duration": 0,
    "start_time": "2024-03-08T15:02:39.903Z"
   },
   {
    "duration": 0,
    "start_time": "2024-03-08T15:02:39.904Z"
   },
   {
    "duration": 0,
    "start_time": "2024-03-08T15:02:39.904Z"
   },
   {
    "duration": 0,
    "start_time": "2024-03-08T15:02:39.906Z"
   },
   {
    "duration": 0,
    "start_time": "2024-03-08T15:02:39.906Z"
   },
   {
    "duration": 9,
    "start_time": "2024-03-08T15:03:32.113Z"
   },
   {
    "duration": 5,
    "start_time": "2024-03-08T15:03:35.992Z"
   },
   {
    "duration": 1126,
    "start_time": "2024-03-08T15:04:11.372Z"
   },
   {
    "duration": 30,
    "start_time": "2024-03-08T15:04:12.499Z"
   },
   {
    "duration": 32,
    "start_time": "2024-03-08T15:04:12.531Z"
   },
   {
    "duration": 15,
    "start_time": "2024-03-08T15:04:12.565Z"
   },
   {
    "duration": 3,
    "start_time": "2024-03-08T15:04:12.582Z"
   },
   {
    "duration": 34,
    "start_time": "2024-03-08T15:04:12.587Z"
   },
   {
    "duration": 49,
    "start_time": "2024-03-08T15:04:12.623Z"
   },
   {
    "duration": 27,
    "start_time": "2024-03-08T15:04:12.673Z"
   },
   {
    "duration": 4,
    "start_time": "2024-03-08T15:04:12.701Z"
   },
   {
    "duration": 5,
    "start_time": "2024-03-08T15:04:12.708Z"
   },
   {
    "duration": 8,
    "start_time": "2024-03-08T15:04:12.715Z"
   },
   {
    "duration": 9,
    "start_time": "2024-03-08T15:04:12.725Z"
   },
   {
    "duration": 7,
    "start_time": "2024-03-08T15:04:12.766Z"
   },
   {
    "duration": 19,
    "start_time": "2024-03-08T15:04:12.775Z"
   },
   {
    "duration": 8,
    "start_time": "2024-03-08T15:04:12.796Z"
   },
   {
    "duration": 190,
    "start_time": "2024-03-08T15:04:12.806Z"
   },
   {
    "duration": 5,
    "start_time": "2024-03-08T15:04:12.998Z"
   },
   {
    "duration": 96,
    "start_time": "2024-03-08T15:04:13.004Z"
   },
   {
    "duration": 6,
    "start_time": "2024-03-08T15:04:13.101Z"
   },
   {
    "duration": 157,
    "start_time": "2024-03-08T15:04:13.108Z"
   },
   {
    "duration": 7,
    "start_time": "2024-03-08T15:04:13.266Z"
   },
   {
    "duration": 268,
    "start_time": "2024-03-08T15:04:13.275Z"
   },
   {
    "duration": 8,
    "start_time": "2024-03-08T15:04:13.545Z"
   },
   {
    "duration": 284,
    "start_time": "2024-03-08T15:04:13.554Z"
   },
   {
    "duration": 11,
    "start_time": "2024-03-08T15:04:13.840Z"
   },
   {
    "duration": 4,
    "start_time": "2024-03-08T15:04:13.865Z"
   },
   {
    "duration": 16,
    "start_time": "2024-03-08T15:04:13.871Z"
   },
   {
    "duration": 4,
    "start_time": "2024-03-08T15:04:13.890Z"
   },
   {
    "duration": 12,
    "start_time": "2024-03-08T15:04:13.896Z"
   },
   {
    "duration": 3,
    "start_time": "2024-03-08T15:04:13.910Z"
   },
   {
    "duration": 20,
    "start_time": "2024-03-08T15:04:13.915Z"
   },
   {
    "duration": 37,
    "start_time": "2024-03-08T15:04:13.937Z"
   },
   {
    "duration": 15,
    "start_time": "2024-03-08T15:04:13.976Z"
   },
   {
    "duration": 783,
    "start_time": "2024-03-08T15:04:13.993Z"
   },
   {
    "duration": 934,
    "start_time": "2024-03-08T15:04:14.778Z"
   },
   {
    "duration": 20,
    "start_time": "2024-03-08T15:04:15.714Z"
   },
   {
    "duration": 31,
    "start_time": "2024-03-08T15:04:15.736Z"
   },
   {
    "duration": 793,
    "start_time": "2024-03-08T15:04:15.769Z"
   },
   {
    "duration": 3,
    "start_time": "2024-03-08T15:04:16.565Z"
   },
   {
    "duration": 12,
    "start_time": "2024-03-08T15:04:16.570Z"
   },
   {
    "duration": 4,
    "start_time": "2024-03-08T15:04:16.584Z"
   },
   {
    "duration": 16,
    "start_time": "2024-03-08T15:04:16.590Z"
   },
   {
    "duration": 3,
    "start_time": "2024-03-08T15:04:16.608Z"
   },
   {
    "duration": 9,
    "start_time": "2024-03-08T15:04:16.613Z"
   },
   {
    "duration": 6,
    "start_time": "2024-03-08T15:04:16.623Z"
   },
   {
    "duration": 3,
    "start_time": "2024-03-08T15:04:16.631Z"
   },
   {
    "duration": 426,
    "start_time": "2024-03-08T15:04:16.665Z"
   },
   {
    "duration": 3,
    "start_time": "2024-03-08T15:04:17.092Z"
   },
   {
    "duration": 6,
    "start_time": "2024-03-08T15:04:17.097Z"
   },
   {
    "duration": 6,
    "start_time": "2024-03-08T15:04:17.105Z"
   },
   {
    "duration": 253,
    "start_time": "2024-03-08T15:04:17.112Z"
   },
   {
    "duration": 4,
    "start_time": "2024-03-08T15:04:17.366Z"
   },
   {
    "duration": 1092,
    "start_time": "2024-03-08T15:09:10.532Z"
   },
   {
    "duration": 30,
    "start_time": "2024-03-08T15:09:11.626Z"
   },
   {
    "duration": 33,
    "start_time": "2024-03-08T15:09:11.657Z"
   },
   {
    "duration": 15,
    "start_time": "2024-03-08T15:09:11.692Z"
   },
   {
    "duration": 4,
    "start_time": "2024-03-08T15:09:11.708Z"
   },
   {
    "duration": 44,
    "start_time": "2024-03-08T15:09:11.713Z"
   },
   {
    "duration": 32,
    "start_time": "2024-03-08T15:09:11.758Z"
   },
   {
    "duration": 28,
    "start_time": "2024-03-08T15:09:11.792Z"
   },
   {
    "duration": 4,
    "start_time": "2024-03-08T15:09:11.822Z"
   },
   {
    "duration": 6,
    "start_time": "2024-03-08T15:09:11.828Z"
   },
   {
    "duration": 37,
    "start_time": "2024-03-08T15:09:11.835Z"
   },
   {
    "duration": 5,
    "start_time": "2024-03-08T15:09:11.874Z"
   },
   {
    "duration": 6,
    "start_time": "2024-03-08T15:09:11.881Z"
   },
   {
    "duration": 15,
    "start_time": "2024-03-08T15:09:11.888Z"
   },
   {
    "duration": 9,
    "start_time": "2024-03-08T15:09:11.904Z"
   },
   {
    "duration": 203,
    "start_time": "2024-03-08T15:09:11.914Z"
   },
   {
    "duration": 6,
    "start_time": "2024-03-08T15:09:12.118Z"
   },
   {
    "duration": 99,
    "start_time": "2024-03-08T15:09:12.125Z"
   },
   {
    "duration": 7,
    "start_time": "2024-03-08T15:09:12.226Z"
   },
   {
    "duration": 165,
    "start_time": "2024-03-08T15:09:12.235Z"
   },
   {
    "duration": 8,
    "start_time": "2024-03-08T15:09:12.401Z"
   },
   {
    "duration": 275,
    "start_time": "2024-03-08T15:09:12.410Z"
   },
   {
    "duration": 8,
    "start_time": "2024-03-08T15:09:12.687Z"
   },
   {
    "duration": 264,
    "start_time": "2024-03-08T15:09:12.696Z"
   },
   {
    "duration": 9,
    "start_time": "2024-03-08T15:09:12.962Z"
   },
   {
    "duration": 3,
    "start_time": "2024-03-08T15:09:12.973Z"
   },
   {
    "duration": 9,
    "start_time": "2024-03-08T15:09:12.977Z"
   },
   {
    "duration": 3,
    "start_time": "2024-03-08T15:09:12.989Z"
   },
   {
    "duration": 9,
    "start_time": "2024-03-08T15:09:12.993Z"
   },
   {
    "duration": 3,
    "start_time": "2024-03-08T15:09:13.003Z"
   },
   {
    "duration": 9,
    "start_time": "2024-03-08T15:09:13.007Z"
   },
   {
    "duration": 52,
    "start_time": "2024-03-08T15:09:13.018Z"
   },
   {
    "duration": 14,
    "start_time": "2024-03-08T15:09:13.072Z"
   },
   {
    "duration": 536,
    "start_time": "2024-03-08T15:09:13.087Z"
   },
   {
    "duration": 465,
    "start_time": "2024-03-08T15:09:13.625Z"
   },
   {
    "duration": 20,
    "start_time": "2024-03-08T15:09:14.092Z"
   },
   {
    "duration": 4,
    "start_time": "2024-03-08T15:09:14.113Z"
   },
   {
    "duration": 810,
    "start_time": "2024-03-08T15:09:14.118Z"
   },
   {
    "duration": 3,
    "start_time": "2024-03-08T15:09:14.930Z"
   },
   {
    "duration": 18,
    "start_time": "2024-03-08T15:09:14.935Z"
   },
   {
    "duration": 13,
    "start_time": "2024-03-08T15:09:14.954Z"
   },
   {
    "duration": 7,
    "start_time": "2024-03-08T15:09:14.969Z"
   },
   {
    "duration": 7,
    "start_time": "2024-03-08T15:09:14.977Z"
   },
   {
    "duration": 25,
    "start_time": "2024-03-08T15:09:14.985Z"
   },
   {
    "duration": 36,
    "start_time": "2024-03-08T15:09:15.012Z"
   },
   {
    "duration": 16,
    "start_time": "2024-03-08T15:09:15.049Z"
   },
   {
    "duration": 374,
    "start_time": "2024-03-08T15:09:15.066Z"
   },
   {
    "duration": 3,
    "start_time": "2024-03-08T15:09:15.441Z"
   },
   {
    "duration": 10,
    "start_time": "2024-03-08T15:09:15.445Z"
   },
   {
    "duration": 37,
    "start_time": "2024-03-08T15:09:15.456Z"
   },
   {
    "duration": 378,
    "start_time": "2024-03-08T15:09:15.494Z"
   },
   {
    "duration": 4,
    "start_time": "2024-03-08T15:09:15.873Z"
   },
   {
    "duration": 147,
    "start_time": "2024-03-08T15:13:59.773Z"
   },
   {
    "duration": 904,
    "start_time": "2024-03-08T15:14:09.376Z"
   },
   {
    "duration": 13,
    "start_time": "2024-03-08T15:14:42.162Z"
   },
   {
    "duration": 149,
    "start_time": "2024-03-08T15:14:53.841Z"
   },
   {
    "duration": 3,
    "start_time": "2024-03-08T15:15:20.860Z"
   },
   {
    "duration": 3,
    "start_time": "2024-03-08T15:16:04.670Z"
   },
   {
    "duration": 1194,
    "start_time": "2024-03-08T15:16:08.689Z"
   },
   {
    "duration": 32,
    "start_time": "2024-03-08T15:16:09.885Z"
   },
   {
    "duration": 35,
    "start_time": "2024-03-08T15:16:09.919Z"
   },
   {
    "duration": 16,
    "start_time": "2024-03-08T15:16:09.956Z"
   },
   {
    "duration": 4,
    "start_time": "2024-03-08T15:16:09.974Z"
   },
   {
    "duration": 41,
    "start_time": "2024-03-08T15:16:09.979Z"
   },
   {
    "duration": 50,
    "start_time": "2024-03-08T15:16:10.022Z"
   },
   {
    "duration": 26,
    "start_time": "2024-03-08T15:16:10.073Z"
   },
   {
    "duration": 4,
    "start_time": "2024-03-08T15:16:10.101Z"
   },
   {
    "duration": 5,
    "start_time": "2024-03-08T15:16:10.107Z"
   },
   {
    "duration": 20,
    "start_time": "2024-03-08T15:16:10.113Z"
   },
   {
    "duration": 30,
    "start_time": "2024-03-08T15:16:10.135Z"
   },
   {
    "duration": 7,
    "start_time": "2024-03-08T15:16:10.166Z"
   },
   {
    "duration": 15,
    "start_time": "2024-03-08T15:16:10.174Z"
   },
   {
    "duration": 8,
    "start_time": "2024-03-08T15:16:10.191Z"
   },
   {
    "duration": 194,
    "start_time": "2024-03-08T15:16:10.200Z"
   },
   {
    "duration": 5,
    "start_time": "2024-03-08T15:16:10.396Z"
   },
   {
    "duration": 96,
    "start_time": "2024-03-08T15:16:10.403Z"
   },
   {
    "duration": 6,
    "start_time": "2024-03-08T15:16:10.500Z"
   },
   {
    "duration": 160,
    "start_time": "2024-03-08T15:16:10.507Z"
   },
   {
    "duration": 7,
    "start_time": "2024-03-08T15:16:10.668Z"
   },
   {
    "duration": 276,
    "start_time": "2024-03-08T15:16:10.677Z"
   },
   {
    "duration": 14,
    "start_time": "2024-03-08T15:16:10.955Z"
   },
   {
    "duration": 260,
    "start_time": "2024-03-08T15:16:10.970Z"
   },
   {
    "duration": 8,
    "start_time": "2024-03-08T15:16:11.232Z"
   },
   {
    "duration": 9,
    "start_time": "2024-03-08T15:16:11.241Z"
   },
   {
    "duration": 22,
    "start_time": "2024-03-08T15:16:11.251Z"
   },
   {
    "duration": 4,
    "start_time": "2024-03-08T15:16:11.276Z"
   },
   {
    "duration": 18,
    "start_time": "2024-03-08T15:16:11.281Z"
   },
   {
    "duration": 5,
    "start_time": "2024-03-08T15:16:11.301Z"
   },
   {
    "duration": 24,
    "start_time": "2024-03-08T15:16:11.308Z"
   },
   {
    "duration": 33,
    "start_time": "2024-03-08T15:16:11.333Z"
   },
   {
    "duration": 14,
    "start_time": "2024-03-08T15:16:11.368Z"
   },
   {
    "duration": 550,
    "start_time": "2024-03-08T15:16:11.384Z"
   },
   {
    "duration": 550,
    "start_time": "2024-03-08T15:16:11.936Z"
   },
   {
    "duration": 21,
    "start_time": "2024-03-08T15:16:12.487Z"
   },
   {
    "duration": 5,
    "start_time": "2024-03-08T15:16:12.564Z"
   },
   {
    "duration": 1236,
    "start_time": "2024-03-08T15:16:12.571Z"
   },
   {
    "duration": 56,
    "start_time": "2024-03-08T15:16:13.809Z"
   },
   {
    "duration": 21,
    "start_time": "2024-03-08T15:16:13.867Z"
   },
   {
    "duration": 19,
    "start_time": "2024-03-08T15:16:13.890Z"
   },
   {
    "duration": 56,
    "start_time": "2024-03-08T15:16:13.911Z"
   },
   {
    "duration": 4,
    "start_time": "2024-03-08T15:16:13.969Z"
   },
   {
    "duration": 30,
    "start_time": "2024-03-08T15:16:13.975Z"
   },
   {
    "duration": 61,
    "start_time": "2024-03-08T15:16:14.007Z"
   },
   {
    "duration": 18,
    "start_time": "2024-03-08T15:16:14.069Z"
   },
   {
    "duration": 427,
    "start_time": "2024-03-08T15:16:14.089Z"
   },
   {
    "duration": 4,
    "start_time": "2024-03-08T15:16:14.518Z"
   },
   {
    "duration": 26,
    "start_time": "2024-03-08T15:16:14.523Z"
   },
   {
    "duration": 14,
    "start_time": "2024-03-08T15:16:14.550Z"
   },
   {
    "duration": 628,
    "start_time": "2024-03-08T15:16:14.566Z"
   },
   {
    "duration": 4,
    "start_time": "2024-03-08T15:16:15.196Z"
   },
   {
    "duration": 392,
    "start_time": "2024-03-08T15:16:15.202Z"
   },
   {
    "duration": 69,
    "start_time": "2024-03-08T15:18:42.361Z"
   },
   {
    "duration": 177,
    "start_time": "2024-03-08T15:23:05.129Z"
   },
   {
    "duration": 1212,
    "start_time": "2024-03-08T15:24:50.659Z"
   },
   {
    "duration": 29,
    "start_time": "2024-03-08T15:24:51.873Z"
   },
   {
    "duration": 32,
    "start_time": "2024-03-08T15:24:51.904Z"
   },
   {
    "duration": 15,
    "start_time": "2024-03-08T15:24:51.938Z"
   },
   {
    "duration": 4,
    "start_time": "2024-03-08T15:24:51.954Z"
   },
   {
    "duration": 37,
    "start_time": "2024-03-08T15:24:51.959Z"
   },
   {
    "duration": 31,
    "start_time": "2024-03-08T15:24:51.997Z"
   },
   {
    "duration": 41,
    "start_time": "2024-03-08T15:24:52.030Z"
   },
   {
    "duration": 3,
    "start_time": "2024-03-08T15:24:52.073Z"
   },
   {
    "duration": 22,
    "start_time": "2024-03-08T15:24:52.079Z"
   },
   {
    "duration": 8,
    "start_time": "2024-03-08T15:24:52.103Z"
   },
   {
    "duration": 10,
    "start_time": "2024-03-08T15:24:52.112Z"
   },
   {
    "duration": 9,
    "start_time": "2024-03-08T15:24:52.124Z"
   },
   {
    "duration": 13,
    "start_time": "2024-03-08T15:24:52.135Z"
   },
   {
    "duration": 18,
    "start_time": "2024-03-08T15:24:52.149Z"
   },
   {
    "duration": 168,
    "start_time": "2024-03-08T15:24:52.168Z"
   },
   {
    "duration": 5,
    "start_time": "2024-03-08T15:24:52.337Z"
   },
   {
    "duration": 104,
    "start_time": "2024-03-08T15:24:52.344Z"
   },
   {
    "duration": 19,
    "start_time": "2024-03-08T15:24:52.450Z"
   },
   {
    "duration": 163,
    "start_time": "2024-03-08T15:24:52.471Z"
   },
   {
    "duration": 10,
    "start_time": "2024-03-08T15:24:52.635Z"
   },
   {
    "duration": 268,
    "start_time": "2024-03-08T15:24:52.647Z"
   },
   {
    "duration": 8,
    "start_time": "2024-03-08T15:24:52.916Z"
   },
   {
    "duration": 262,
    "start_time": "2024-03-08T15:24:52.926Z"
   },
   {
    "duration": 8,
    "start_time": "2024-03-08T15:24:53.189Z"
   },
   {
    "duration": 5,
    "start_time": "2024-03-08T15:24:53.199Z"
   },
   {
    "duration": 14,
    "start_time": "2024-03-08T15:24:53.205Z"
   },
   {
    "duration": 3,
    "start_time": "2024-03-08T15:24:53.223Z"
   },
   {
    "duration": 17,
    "start_time": "2024-03-08T15:24:53.228Z"
   },
   {
    "duration": 20,
    "start_time": "2024-03-08T15:24:53.246Z"
   },
   {
    "duration": 9,
    "start_time": "2024-03-08T15:24:53.267Z"
   },
   {
    "duration": 36,
    "start_time": "2024-03-08T15:24:53.278Z"
   },
   {
    "duration": 14,
    "start_time": "2024-03-08T15:24:53.315Z"
   },
   {
    "duration": 541,
    "start_time": "2024-03-08T15:24:53.331Z"
   },
   {
    "duration": 456,
    "start_time": "2024-03-08T15:24:53.874Z"
   },
   {
    "duration": 20,
    "start_time": "2024-03-08T15:24:54.332Z"
   },
   {
    "duration": 14,
    "start_time": "2024-03-08T15:24:54.353Z"
   },
   {
    "duration": 804,
    "start_time": "2024-03-08T15:24:54.369Z"
   },
   {
    "duration": 2,
    "start_time": "2024-03-08T15:24:55.175Z"
   },
   {
    "duration": 7,
    "start_time": "2024-03-08T15:24:55.179Z"
   },
   {
    "duration": 13,
    "start_time": "2024-03-08T15:24:55.188Z"
   },
   {
    "duration": 5,
    "start_time": "2024-03-08T15:24:55.203Z"
   },
   {
    "duration": 3,
    "start_time": "2024-03-08T15:24:55.210Z"
   },
   {
    "duration": 9,
    "start_time": "2024-03-08T15:24:55.215Z"
   },
   {
    "duration": 40,
    "start_time": "2024-03-08T15:24:55.226Z"
   },
   {
    "duration": 3,
    "start_time": "2024-03-08T15:24:55.268Z"
   },
   {
    "duration": 359,
    "start_time": "2024-03-08T15:24:55.273Z"
   },
   {
    "duration": 3,
    "start_time": "2024-03-08T15:24:55.634Z"
   },
   {
    "duration": 11,
    "start_time": "2024-03-08T15:24:55.639Z"
   },
   {
    "duration": 7,
    "start_time": "2024-03-08T15:24:55.652Z"
   },
   {
    "duration": 249,
    "start_time": "2024-03-08T15:24:55.660Z"
   },
   {
    "duration": 4,
    "start_time": "2024-03-08T15:24:55.911Z"
   },
   {
    "duration": 71,
    "start_time": "2024-03-08T15:25:53.090Z"
   },
   {
    "duration": 1044,
    "start_time": "2024-03-09T06:20:09.674Z"
   },
   {
    "duration": 28,
    "start_time": "2024-03-09T06:20:10.719Z"
   },
   {
    "duration": 32,
    "start_time": "2024-03-09T06:20:10.748Z"
   },
   {
    "duration": 14,
    "start_time": "2024-03-09T06:20:10.782Z"
   },
   {
    "duration": 4,
    "start_time": "2024-03-09T06:20:10.797Z"
   },
   {
    "duration": 28,
    "start_time": "2024-03-09T06:20:10.802Z"
   },
   {
    "duration": 30,
    "start_time": "2024-03-09T06:20:10.832Z"
   },
   {
    "duration": 25,
    "start_time": "2024-03-09T06:20:10.863Z"
   },
   {
    "duration": 29,
    "start_time": "2024-03-09T06:20:10.889Z"
   },
   {
    "duration": 5,
    "start_time": "2024-03-09T06:20:10.920Z"
   },
   {
    "duration": 8,
    "start_time": "2024-03-09T06:20:10.926Z"
   },
   {
    "duration": 5,
    "start_time": "2024-03-09T06:20:10.936Z"
   },
   {
    "duration": 5,
    "start_time": "2024-03-09T06:20:10.942Z"
   },
   {
    "duration": 13,
    "start_time": "2024-03-09T06:20:10.949Z"
   },
   {
    "duration": 7,
    "start_time": "2024-03-09T06:20:10.963Z"
   },
   {
    "duration": 206,
    "start_time": "2024-03-09T06:20:10.971Z"
   },
   {
    "duration": 5,
    "start_time": "2024-03-09T06:20:11.178Z"
   },
   {
    "duration": 91,
    "start_time": "2024-03-09T06:20:11.184Z"
   },
   {
    "duration": 5,
    "start_time": "2024-03-09T06:20:11.277Z"
   },
   {
    "duration": 154,
    "start_time": "2024-03-09T06:20:11.283Z"
   },
   {
    "duration": 7,
    "start_time": "2024-03-09T06:20:11.438Z"
   },
   {
    "duration": 274,
    "start_time": "2024-03-09T06:20:11.446Z"
   },
   {
    "duration": 10,
    "start_time": "2024-03-09T06:20:11.721Z"
   },
   {
    "duration": 274,
    "start_time": "2024-03-09T06:20:11.732Z"
   },
   {
    "duration": 14,
    "start_time": "2024-03-09T06:20:12.008Z"
   },
   {
    "duration": 4,
    "start_time": "2024-03-09T06:20:12.024Z"
   },
   {
    "duration": 10,
    "start_time": "2024-03-09T06:20:12.030Z"
   },
   {
    "duration": 3,
    "start_time": "2024-03-09T06:20:12.045Z"
   },
   {
    "duration": 10,
    "start_time": "2024-03-09T06:20:12.050Z"
   },
   {
    "duration": 4,
    "start_time": "2024-03-09T06:20:12.061Z"
   },
   {
    "duration": 53,
    "start_time": "2024-03-09T06:20:12.067Z"
   },
   {
    "duration": 25,
    "start_time": "2024-03-09T06:20:12.121Z"
   },
   {
    "duration": 15,
    "start_time": "2024-03-09T06:20:12.148Z"
   },
   {
    "duration": 530,
    "start_time": "2024-03-09T06:20:12.165Z"
   },
   {
    "duration": 448,
    "start_time": "2024-03-09T06:20:12.697Z"
   },
   {
    "duration": 20,
    "start_time": "2024-03-09T06:20:13.147Z"
   },
   {
    "duration": 5,
    "start_time": "2024-03-09T06:20:13.169Z"
   },
   {
    "duration": 846,
    "start_time": "2024-03-09T06:20:13.176Z"
   },
   {
    "duration": 3,
    "start_time": "2024-03-09T06:20:14.023Z"
   },
   {
    "duration": 6,
    "start_time": "2024-03-09T06:20:14.027Z"
   },
   {
    "duration": 3,
    "start_time": "2024-03-09T06:20:14.035Z"
   },
   {
    "duration": 11,
    "start_time": "2024-03-09T06:20:14.039Z"
   },
   {
    "duration": 11,
    "start_time": "2024-03-09T06:20:14.052Z"
   },
   {
    "duration": 17,
    "start_time": "2024-03-09T06:20:14.065Z"
   },
   {
    "duration": 4,
    "start_time": "2024-03-09T06:20:14.084Z"
   },
   {
    "duration": 29,
    "start_time": "2024-03-09T06:20:14.089Z"
   },
   {
    "duration": 346,
    "start_time": "2024-03-09T06:20:14.119Z"
   },
   {
    "duration": 3,
    "start_time": "2024-03-09T06:20:14.467Z"
   },
   {
    "duration": 4,
    "start_time": "2024-03-09T06:20:14.471Z"
   },
   {
    "duration": 2,
    "start_time": "2024-03-09T06:20:14.477Z"
   },
   {
    "duration": 245,
    "start_time": "2024-03-09T06:20:14.481Z"
   },
   {
    "duration": 3,
    "start_time": "2024-03-09T06:20:14.728Z"
   },
   {
    "duration": 78,
    "start_time": "2024-03-09T06:22:41.406Z"
   },
   {
    "duration": 57,
    "start_time": "2024-03-09T06:23:13.466Z"
   }
  ],
  "kernelspec": {
   "display_name": "Python 3 (ipykernel)",
   "language": "python",
   "name": "python3"
  },
  "language_info": {
   "codemirror_mode": {
    "name": "ipython",
    "version": 3
   },
   "file_extension": ".py",
   "mimetype": "text/x-python",
   "name": "python",
   "nbconvert_exporter": "python",
   "pygments_lexer": "ipython3",
   "version": "3.9.19"
  },
  "latex_envs": {
   "LaTeX_envs_menu_present": true,
   "autoclose": true,
   "autocomplete": true,
   "bibliofile": "biblio.bib",
   "cite_by": "apalike",
   "current_citInitial": 1,
   "eqLabelWithNumbers": true,
   "eqNumInitial": 1,
   "hotkeys": {
    "equation": "Ctrl-E",
    "itemize": "Ctrl-I"
   },
   "labels_anchors": false,
   "latex_user_defs": false,
   "report_style_numbering": false,
   "user_envs_cfg": false
  },
  "toc": {
   "base_numbering": 1,
   "nav_menu": {},
   "number_sections": true,
   "sideBar": true,
   "skip_h1_title": true,
   "title_cell": "План работы",
   "title_sidebar": "План работы",
   "toc_cell": true,
   "toc_position": {
    "height": "530px",
    "left": "21px",
    "top": "200px",
    "width": "312px"
   },
   "toc_section_display": true,
   "toc_window_display": true
  }
 },
 "nbformat": 4,
 "nbformat_minor": 5
}
