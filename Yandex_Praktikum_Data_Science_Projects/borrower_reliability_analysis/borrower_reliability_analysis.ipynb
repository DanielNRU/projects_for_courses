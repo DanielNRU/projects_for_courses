{
 "cells": [
  {
   "cell_type": "markdown",
   "id": "e1854141",
   "metadata": {},
   "source": [
    "# Анализ надёжности заёмщиков"
   ]
  },
  {
   "cell_type": "markdown",
   "id": "c329ec42",
   "metadata": {},
   "source": [
    "**Описание задачи и цель исследования**\n",
    "\n",
    "Кредитный отдел банка поставил задачу: *разобраться, влияет ли семейное положение и количество детей клиента на факт погашения кредита в срок*. \n",
    "Входные данные от банка — статистика о платёжеспособности клиентов.\n",
    "Результаты исследования будут учтены при построении модели кредитного скоринга — специальной системы, которая оценивает способность потенциального заёмщика вернуть кредит банку."
   ]
  },
  {
   "cell_type": "markdown",
   "id": "66a65060",
   "metadata": {},
   "source": [
    "**Описание данных**\n",
    "\n",
    "* `children` — количество детей в семье\n",
    "* `days_employed` — общий трудовой стаж в днях\n",
    "* `dob_years` — возраст клиента в годах\n",
    "* `education` — уровень образования клиента\n",
    "* `education_id` — идентификатор уровня образования\n",
    "* `family_status` — семейное положение\n",
    "* `family_status_id` — идентификатор семейного положения\n",
    "* `gender` — пол клиента\n",
    "* `income_type` — тип занятости\n",
    "* `debt` — имел ли задолженность по возврату кредитов\n",
    "* `total_income` — ежемесячный доход\n",
    "* `purpose` — цель получения кредита"
   ]
  },
  {
   "cell_type": "markdown",
   "id": "4c449f29",
   "metadata": {
    "toc": true
   },
   "source": [
    "<h1>План работы<span class=\"tocSkip\"></span></h1>\n",
    "<div class=\"toc\"><ul class=\"toc-item\"><li><span><a href=\"#Откроем-таблицу-и-изучим-общую-информацию-о-данных\" data-toc-modified-id=\"Откроем-таблицу-и-изучим-общую-информацию-о-данных-1\"><span class=\"toc-item-num\">1&nbsp;&nbsp;</span>Откроем таблицу и изучим общую информацию о данных</a></span></li><li><span><a href=\"#Предобработем-данные\" data-toc-modified-id=\"Предобработем-данные-2\"><span class=\"toc-item-num\">2&nbsp;&nbsp;</span>Предобработем данные</a></span><ul class=\"toc-item\"><li><span><a href=\"#Удаленим-пропуски\" data-toc-modified-id=\"Удаленим-пропуски-2.1\"><span class=\"toc-item-num\">2.1&nbsp;&nbsp;</span>Удаленим пропуски</a></span></li><li><span><a href=\"#Обработаем-аномальные-значения\" data-toc-modified-id=\"Обработаем-аномальные-значения-2.2\"><span class=\"toc-item-num\">2.2&nbsp;&nbsp;</span>Обработаем аномальные значения</a></span></li><li><span><a href=\"#Изменим-типы-данных\" data-toc-modified-id=\"Изменим-типы-данных-2.3\"><span class=\"toc-item-num\">2.3&nbsp;&nbsp;</span>Изменим типы данных</a></span></li><li><span><a href=\"#Обработаем-дубликаты\" data-toc-modified-id=\"Обработаем-дубликаты-2.4\"><span class=\"toc-item-num\">2.4&nbsp;&nbsp;</span>Обработаем дубликаты</a></span></li><li><span><a href=\"#Категоризируем-данные\" data-toc-modified-id=\"Категоризируем-данные-2.5\"><span class=\"toc-item-num\">2.5&nbsp;&nbsp;</span>Категоризируем данные</a></span></li></ul></li><li><span><a href=\"#Исследуем-данные-и-ответим-на-вопросы\" data-toc-modified-id=\"Исследуем-данные-и-ответим-на-вопросы-3\"><span class=\"toc-item-num\">3&nbsp;&nbsp;</span>Исследуем данные и ответим на вопросы</a></span><ul class=\"toc-item\"><li><span><a href=\"#Есть-ли-зависимость-между-количеством-детей-и-возвратом-кредита-в-срок?\" data-toc-modified-id=\"Есть-ли-зависимость-между-количеством-детей-и-возвратом-кредита-в-срок?-3.1\"><span class=\"toc-item-num\">3.1&nbsp;&nbsp;</span>Есть ли зависимость между количеством детей и возвратом кредита в срок?</a></span></li><li><span><a href=\"#Есть-ли-зависимость-между-семейным-положением-и-возвратом-кредита-в-срок?\" data-toc-modified-id=\"Есть-ли-зависимость-между-семейным-положением-и-возвратом-кредита-в-срок?-3.2\"><span class=\"toc-item-num\">3.2&nbsp;&nbsp;</span>Есть ли зависимость между семейным положением и возвратом кредита в срок?</a></span></li><li><span><a href=\"#Есть-ли-зависимость-между-уровнем-дохода-и-возвратом-кредита-в-срок?\" data-toc-modified-id=\"Есть-ли-зависимость-между-уровнем-дохода-и-возвратом-кредита-в-срок?-3.3\"><span class=\"toc-item-num\">3.3&nbsp;&nbsp;</span>Есть ли зависимость между уровнем дохода и возвратом кредита в срок?</a></span></li><li><span><a href=\"#Как-разные-цели-кредита-влияют-на-его-возврат-в-срок?\" data-toc-modified-id=\"Как-разные-цели-кредита-влияют-на-его-возврат-в-срок?-3.4\"><span class=\"toc-item-num\">3.4&nbsp;&nbsp;</span>Как разные цели кредита влияют на его возврат в срок?</a></span></li><li><span><a href=\"#Возможные-причины-появления-пропусков-в-исходных-данных.\" data-toc-modified-id=\"Возможные-причины-появления-пропусков-в-исходных-данных.-3.5\"><span class=\"toc-item-num\">3.5&nbsp;&nbsp;</span>Возможные причины появления пропусков в исходных данных.</a></span></li><li><span><a href=\"#Почему-заполнить-пропуски-медианным-значением-—-лучшее-решение-для-количественных-переменных.\" data-toc-modified-id=\"Почему-заполнить-пропуски-медианным-значением-—-лучшее-решение-для-количественных-переменных.-3.6\"><span class=\"toc-item-num\">3.6&nbsp;&nbsp;</span>Почему заполнить пропуски медианным значением — лучшее решение для количественных переменных.</a></span></li></ul></li><li><span><a href=\"#Общий-вывод.\" data-toc-modified-id=\"Общий-вывод.-4\"><span class=\"toc-item-num\">4&nbsp;&nbsp;</span>Общий вывод.</a></span></li></ul></div>"
   ]
  },
  {
   "cell_type": "markdown",
   "id": "39abe93b",
   "metadata": {},
   "source": [
    "## Откроем таблицу и изучим общую информацию о данных"
   ]
  },
  {
   "cell_type": "markdown",
   "id": "9e542cfe",
   "metadata": {},
   "source": [
    "**Импортируем библиотеку pandas. Считайте данные из csv-файла в датафрейм и сохраните в переменную `data`. Путь к файлу:**\n",
    "\n",
    "`/datasets/data.csv`"
   ]
  },
  {
   "cell_type": "code",
   "execution_count": 1,
   "id": "d115e9eb",
   "metadata": {},
   "outputs": [],
   "source": [
    "import pandas as pd\n",
    "\n",
    "try:\n",
    "    data = pd.read_csv('/datasets/data.csv')\n",
    "except:\n",
    "    data = pd.read_csv('https://code.s3.yandex.net/datasets/data.csv')"
   ]
  },
  {
   "cell_type": "markdown",
   "id": "3a0849f2",
   "metadata": {},
   "source": [
    "**Выведем первые 10 строчек датафрейма `data` на экран.**"
   ]
  },
  {
   "cell_type": "code",
   "execution_count": 2,
   "id": "2f7a5581",
   "metadata": {},
   "outputs": [
    {
     "data": {
      "text/html": [
       "<div>\n",
       "<style scoped>\n",
       "    .dataframe tbody tr th:only-of-type {\n",
       "        vertical-align: middle;\n",
       "    }\n",
       "\n",
       "    .dataframe tbody tr th {\n",
       "        vertical-align: top;\n",
       "    }\n",
       "\n",
       "    .dataframe thead th {\n",
       "        text-align: right;\n",
       "    }\n",
       "</style>\n",
       "<table border=\"1\" class=\"dataframe\">\n",
       "  <thead>\n",
       "    <tr style=\"text-align: right;\">\n",
       "      <th></th>\n",
       "      <th>children</th>\n",
       "      <th>days_employed</th>\n",
       "      <th>dob_years</th>\n",
       "      <th>education</th>\n",
       "      <th>education_id</th>\n",
       "      <th>family_status</th>\n",
       "      <th>family_status_id</th>\n",
       "      <th>gender</th>\n",
       "      <th>income_type</th>\n",
       "      <th>debt</th>\n",
       "      <th>total_income</th>\n",
       "      <th>purpose</th>\n",
       "    </tr>\n",
       "  </thead>\n",
       "  <tbody>\n",
       "    <tr>\n",
       "      <th>0</th>\n",
       "      <td>1</td>\n",
       "      <td>-8437.673028</td>\n",
       "      <td>42</td>\n",
       "      <td>высшее</td>\n",
       "      <td>0</td>\n",
       "      <td>женат / замужем</td>\n",
       "      <td>0</td>\n",
       "      <td>F</td>\n",
       "      <td>сотрудник</td>\n",
       "      <td>0</td>\n",
       "      <td>253875.639453</td>\n",
       "      <td>покупка жилья</td>\n",
       "    </tr>\n",
       "    <tr>\n",
       "      <th>1</th>\n",
       "      <td>1</td>\n",
       "      <td>-4024.803754</td>\n",
       "      <td>36</td>\n",
       "      <td>среднее</td>\n",
       "      <td>1</td>\n",
       "      <td>женат / замужем</td>\n",
       "      <td>0</td>\n",
       "      <td>F</td>\n",
       "      <td>сотрудник</td>\n",
       "      <td>0</td>\n",
       "      <td>112080.014102</td>\n",
       "      <td>приобретение автомобиля</td>\n",
       "    </tr>\n",
       "    <tr>\n",
       "      <th>2</th>\n",
       "      <td>0</td>\n",
       "      <td>-5623.422610</td>\n",
       "      <td>33</td>\n",
       "      <td>Среднее</td>\n",
       "      <td>1</td>\n",
       "      <td>женат / замужем</td>\n",
       "      <td>0</td>\n",
       "      <td>M</td>\n",
       "      <td>сотрудник</td>\n",
       "      <td>0</td>\n",
       "      <td>145885.952297</td>\n",
       "      <td>покупка жилья</td>\n",
       "    </tr>\n",
       "    <tr>\n",
       "      <th>3</th>\n",
       "      <td>3</td>\n",
       "      <td>-4124.747207</td>\n",
       "      <td>32</td>\n",
       "      <td>среднее</td>\n",
       "      <td>1</td>\n",
       "      <td>женат / замужем</td>\n",
       "      <td>0</td>\n",
       "      <td>M</td>\n",
       "      <td>сотрудник</td>\n",
       "      <td>0</td>\n",
       "      <td>267628.550329</td>\n",
       "      <td>дополнительное образование</td>\n",
       "    </tr>\n",
       "    <tr>\n",
       "      <th>4</th>\n",
       "      <td>0</td>\n",
       "      <td>340266.072047</td>\n",
       "      <td>53</td>\n",
       "      <td>среднее</td>\n",
       "      <td>1</td>\n",
       "      <td>гражданский брак</td>\n",
       "      <td>1</td>\n",
       "      <td>F</td>\n",
       "      <td>пенсионер</td>\n",
       "      <td>0</td>\n",
       "      <td>158616.077870</td>\n",
       "      <td>сыграть свадьбу</td>\n",
       "    </tr>\n",
       "    <tr>\n",
       "      <th>5</th>\n",
       "      <td>0</td>\n",
       "      <td>-926.185831</td>\n",
       "      <td>27</td>\n",
       "      <td>высшее</td>\n",
       "      <td>0</td>\n",
       "      <td>гражданский брак</td>\n",
       "      <td>1</td>\n",
       "      <td>M</td>\n",
       "      <td>компаньон</td>\n",
       "      <td>0</td>\n",
       "      <td>255763.565419</td>\n",
       "      <td>покупка жилья</td>\n",
       "    </tr>\n",
       "    <tr>\n",
       "      <th>6</th>\n",
       "      <td>0</td>\n",
       "      <td>-2879.202052</td>\n",
       "      <td>43</td>\n",
       "      <td>высшее</td>\n",
       "      <td>0</td>\n",
       "      <td>женат / замужем</td>\n",
       "      <td>0</td>\n",
       "      <td>F</td>\n",
       "      <td>компаньон</td>\n",
       "      <td>0</td>\n",
       "      <td>240525.971920</td>\n",
       "      <td>операции с жильем</td>\n",
       "    </tr>\n",
       "    <tr>\n",
       "      <th>7</th>\n",
       "      <td>0</td>\n",
       "      <td>-152.779569</td>\n",
       "      <td>50</td>\n",
       "      <td>СРЕДНЕЕ</td>\n",
       "      <td>1</td>\n",
       "      <td>женат / замужем</td>\n",
       "      <td>0</td>\n",
       "      <td>M</td>\n",
       "      <td>сотрудник</td>\n",
       "      <td>0</td>\n",
       "      <td>135823.934197</td>\n",
       "      <td>образование</td>\n",
       "    </tr>\n",
       "    <tr>\n",
       "      <th>8</th>\n",
       "      <td>2</td>\n",
       "      <td>-6929.865299</td>\n",
       "      <td>35</td>\n",
       "      <td>ВЫСШЕЕ</td>\n",
       "      <td>0</td>\n",
       "      <td>гражданский брак</td>\n",
       "      <td>1</td>\n",
       "      <td>F</td>\n",
       "      <td>сотрудник</td>\n",
       "      <td>0</td>\n",
       "      <td>95856.832424</td>\n",
       "      <td>на проведение свадьбы</td>\n",
       "    </tr>\n",
       "    <tr>\n",
       "      <th>9</th>\n",
       "      <td>0</td>\n",
       "      <td>-2188.756445</td>\n",
       "      <td>41</td>\n",
       "      <td>среднее</td>\n",
       "      <td>1</td>\n",
       "      <td>женат / замужем</td>\n",
       "      <td>0</td>\n",
       "      <td>M</td>\n",
       "      <td>сотрудник</td>\n",
       "      <td>0</td>\n",
       "      <td>144425.938277</td>\n",
       "      <td>покупка жилья для семьи</td>\n",
       "    </tr>\n",
       "  </tbody>\n",
       "</table>\n",
       "</div>"
      ],
      "text/plain": [
       "   children  days_employed  dob_years education  education_id  \\\n",
       "0         1   -8437.673028         42    высшее             0   \n",
       "1         1   -4024.803754         36   среднее             1   \n",
       "2         0   -5623.422610         33   Среднее             1   \n",
       "3         3   -4124.747207         32   среднее             1   \n",
       "4         0  340266.072047         53   среднее             1   \n",
       "5         0    -926.185831         27    высшее             0   \n",
       "6         0   -2879.202052         43    высшее             0   \n",
       "7         0    -152.779569         50   СРЕДНЕЕ             1   \n",
       "8         2   -6929.865299         35    ВЫСШЕЕ             0   \n",
       "9         0   -2188.756445         41   среднее             1   \n",
       "\n",
       "      family_status  family_status_id gender income_type  debt   total_income  \\\n",
       "0   женат / замужем                 0      F   сотрудник     0  253875.639453   \n",
       "1   женат / замужем                 0      F   сотрудник     0  112080.014102   \n",
       "2   женат / замужем                 0      M   сотрудник     0  145885.952297   \n",
       "3   женат / замужем                 0      M   сотрудник     0  267628.550329   \n",
       "4  гражданский брак                 1      F   пенсионер     0  158616.077870   \n",
       "5  гражданский брак                 1      M   компаньон     0  255763.565419   \n",
       "6   женат / замужем                 0      F   компаньон     0  240525.971920   \n",
       "7   женат / замужем                 0      M   сотрудник     0  135823.934197   \n",
       "8  гражданский брак                 1      F   сотрудник     0   95856.832424   \n",
       "9   женат / замужем                 0      M   сотрудник     0  144425.938277   \n",
       "\n",
       "                      purpose  \n",
       "0               покупка жилья  \n",
       "1     приобретение автомобиля  \n",
       "2               покупка жилья  \n",
       "3  дополнительное образование  \n",
       "4             сыграть свадьбу  \n",
       "5               покупка жилья  \n",
       "6           операции с жильем  \n",
       "7                 образование  \n",
       "8       на проведение свадьбы  \n",
       "9     покупка жилья для семьи  "
      ]
     },
     "execution_count": 2,
     "metadata": {},
     "output_type": "execute_result"
    }
   ],
   "source": [
    "data.head(10)"
   ]
  },
  {
   "cell_type": "markdown",
   "id": "3e8ff824",
   "metadata": {},
   "source": [
    "**Выведем основную информацию о датафрейме с помощью метода `info()`.**"
   ]
  },
  {
   "cell_type": "code",
   "execution_count": 3,
   "id": "ab633da1",
   "metadata": {},
   "outputs": [
    {
     "name": "stdout",
     "output_type": "stream",
     "text": [
      "<class 'pandas.core.frame.DataFrame'>\n",
      "RangeIndex: 21525 entries, 0 to 21524\n",
      "Data columns (total 12 columns):\n",
      " #   Column            Non-Null Count  Dtype  \n",
      "---  ------            --------------  -----  \n",
      " 0   children          21525 non-null  int64  \n",
      " 1   days_employed     19351 non-null  float64\n",
      " 2   dob_years         21525 non-null  int64  \n",
      " 3   education         21525 non-null  object \n",
      " 4   education_id      21525 non-null  int64  \n",
      " 5   family_status     21525 non-null  object \n",
      " 6   family_status_id  21525 non-null  int64  \n",
      " 7   gender            21525 non-null  object \n",
      " 8   income_type       21525 non-null  object \n",
      " 9   debt              21525 non-null  int64  \n",
      " 10  total_income      19351 non-null  float64\n",
      " 11  purpose           21525 non-null  object \n",
      "dtypes: float64(2), int64(5), object(5)\n",
      "memory usage: 2.0+ MB\n"
     ]
    }
   ],
   "source": [
    "data.info()"
   ]
  },
  {
   "cell_type": "markdown",
   "id": "96faab9e",
   "metadata": {},
   "source": [
    "***Вывод:*** Считав данные из csv-файла в датафрейм и просмотрев основную информацию о датафрейме, мы можем сделать вывод, что в стобцах `days_employed` и `total_income` данных меньше, чем в остальных. В столбце `days_employed` (общий трудовой стаж в днях) присутствуют отрицательные значения, хотя эти данные не могут быть отрицательными. В столбце `education` (уровень образования клиента) данные представлены в разном регистре."
   ]
  },
  {
   "cell_type": "markdown",
   "id": "640fec9b",
   "metadata": {},
   "source": [
    "## Предобработем данные"
   ]
  },
  {
   "cell_type": "markdown",
   "id": "b313e626",
   "metadata": {},
   "source": [
    "### Удаленим пропуски"
   ]
  },
  {
   "cell_type": "markdown",
   "id": "64d6a3e2",
   "metadata": {},
   "source": [
    "**Выведим количество пропущенных значений для каждого столбца.**"
   ]
  },
  {
   "cell_type": "code",
   "execution_count": 4,
   "id": "fa462d0b",
   "metadata": {},
   "outputs": [
    {
     "data": {
      "text/plain": [
       "children               0\n",
       "days_employed       2174\n",
       "dob_years              0\n",
       "education              0\n",
       "education_id           0\n",
       "family_status          0\n",
       "family_status_id       0\n",
       "gender                 0\n",
       "income_type            0\n",
       "debt                   0\n",
       "total_income        2174\n",
       "purpose                0\n",
       "dtype: int64"
      ]
     },
     "execution_count": 4,
     "metadata": {},
     "output_type": "execute_result"
    }
   ],
   "source": [
    "data.isna().sum()"
   ]
  },
  {
   "cell_type": "markdown",
   "id": "7768eaf8",
   "metadata": {},
   "source": [
    "**Заполним пропуске в столбце с пропущенными значениями — `total_income`**"
   ]
  },
  {
   "cell_type": "markdown",
   "id": "92c72240",
   "metadata": {},
   "source": [
    "Столбец — `total_income` — хранит данные о доходах. На сумму дохода сильнее всего влияет тип занятости, поэтому заполним пропуски в этом столбце медианным значением по каждому типу занятости из столбца `income_type`."
   ]
  },
  {
   "cell_type": "code",
   "execution_count": 5,
   "id": "b4f60dae",
   "metadata": {},
   "outputs": [],
   "source": [
    "for t in data['income_type'].unique():\n",
    "    data.loc[(data['income_type'] == t) & (data['total_income'].isna()), 'total_income'] = \\\n",
    "    data.loc[(data['income_type'] == t), 'total_income'].median()"
   ]
  },
  {
   "cell_type": "markdown",
   "id": "7e7353cd",
   "metadata": {},
   "source": [
    "**Заполним пропуски в столбце `days_employed` медианными значениями по каждого типа занятости `income_type`.**"
   ]
  },
  {
   "cell_type": "code",
   "execution_count": 6,
   "id": "66eeb2fc",
   "metadata": {},
   "outputs": [],
   "source": [
    "for t in data['income_type'].unique():\n",
    "    data.loc[(data['income_type'] == t) & (data['days_employed'].isna()), 'days_employed'] = \\\n",
    "    data.loc[(data['income_type'] == t), 'days_employed'].median()"
   ]
  },
  {
   "cell_type": "markdown",
   "id": "f7b9df4c",
   "metadata": {},
   "source": [
    "**Убедимся, что все пропуски заполнены.**"
   ]
  },
  {
   "cell_type": "code",
   "execution_count": 7,
   "id": "949967c1",
   "metadata": {},
   "outputs": [
    {
     "data": {
      "text/plain": [
       "children            0\n",
       "days_employed       0\n",
       "dob_years           0\n",
       "education           0\n",
       "education_id        0\n",
       "family_status       0\n",
       "family_status_id    0\n",
       "gender              0\n",
       "income_type         0\n",
       "debt                0\n",
       "total_income        0\n",
       "purpose             0\n",
       "dtype: int64"
      ]
     },
     "execution_count": 7,
     "metadata": {},
     "output_type": "execute_result"
    }
   ],
   "source": [
    "data.isna().sum()"
   ]
  },
  {
   "cell_type": "markdown",
   "id": "c05f11ae",
   "metadata": {},
   "source": [
    "### Обработаем аномальные значения"
   ]
  },
  {
   "cell_type": "markdown",
   "id": "c82c00b0",
   "metadata": {},
   "source": [
    "**В столбце `days_employed` присутствуют отрицательные количества дней трудового стажа. Заменим все отрицательные значения положительными с помощью метода `abs()`.**"
   ]
  },
  {
   "cell_type": "code",
   "execution_count": 8,
   "id": "6912b071",
   "metadata": {},
   "outputs": [],
   "source": [
    "data['days_employed'] = data['days_employed'].abs()"
   ]
  },
  {
   "cell_type": "markdown",
   "id": "ffe39ef5",
   "metadata": {},
   "source": [
    "**Для каждого типа занятости выведим медианные значения трудового стажа `days_employed` в днях.**"
   ]
  },
  {
   "cell_type": "code",
   "execution_count": 9,
   "id": "c62361a3",
   "metadata": {},
   "outputs": [
    {
     "data": {
      "text/plain": [
       "income_type\n",
       "безработный        366413.652744\n",
       "в декрете            3296.759962\n",
       "госслужащий          2689.368353\n",
       "компаньон            1547.382223\n",
       "пенсионер          365213.306266\n",
       "предприниматель       520.848083\n",
       "сотрудник            1574.202821\n",
       "студент               578.751554\n",
       "Name: days_employed, dtype: float64"
      ]
     },
     "execution_count": 9,
     "metadata": {},
     "output_type": "execute_result"
    }
   ],
   "source": [
    "data.groupby('income_type')['days_employed'].agg('median')"
   ]
  },
  {
   "cell_type": "markdown",
   "id": "f7e19cef",
   "metadata": {},
   "source": [
    "У двух типов (безработные и пенсионеры) аномально большие значения. "
   ]
  },
  {
   "cell_type": "markdown",
   "id": "866301ed",
   "metadata": {},
   "source": [
    "**Выведим перечень уникальных значений столбца `children`.**"
   ]
  },
  {
   "cell_type": "code",
   "execution_count": 10,
   "id": "10ffcfaa",
   "metadata": {},
   "outputs": [
    {
     "data": {
      "text/plain": [
       "array([ 1,  0,  3,  2, -1,  4, 20,  5])"
      ]
     },
     "execution_count": 10,
     "metadata": {},
     "output_type": "execute_result"
    }
   ],
   "source": [
    "data['children'].unique()"
   ]
  },
  {
   "cell_type": "markdown",
   "id": "71951215",
   "metadata": {},
   "source": [
    "**В столбце `children` есть два аномальных значения. Удалим строки, в которых встречаются такие аномальные значения из датафрейма `data`.**"
   ]
  },
  {
   "cell_type": "code",
   "execution_count": 11,
   "id": "b0582ce0",
   "metadata": {},
   "outputs": [],
   "source": [
    "data = data[(data['children'] != -1) & (data['children'] != 20)]"
   ]
  },
  {
   "cell_type": "markdown",
   "id": "ae587012",
   "metadata": {},
   "source": [
    "**Ещё раз выведим перечень уникальных значений столбца `children`, чтобы убедиться, что артефакты удалены.**"
   ]
  },
  {
   "cell_type": "code",
   "execution_count": 12,
   "id": "f12bcbc4",
   "metadata": {},
   "outputs": [
    {
     "data": {
      "text/plain": [
       "array([1, 0, 3, 2, 4, 5])"
      ]
     },
     "execution_count": 12,
     "metadata": {},
     "output_type": "execute_result"
    }
   ],
   "source": [
    "data['children'].unique()"
   ]
  },
  {
   "cell_type": "markdown",
   "id": "51861d7d",
   "metadata": {},
   "source": [
    "### Изменим типы данных"
   ]
  },
  {
   "cell_type": "markdown",
   "id": "bb86bb32",
   "metadata": {},
   "source": [
    "**Заменим вещественный тип данных в столбце `total_income` на целочисленный с помощью метода `astype()`.**"
   ]
  },
  {
   "cell_type": "code",
   "execution_count": 13,
   "id": "3c8c36b6",
   "metadata": {},
   "outputs": [],
   "source": [
    "data['total_income'] = data['total_income'].astype(int)"
   ]
  },
  {
   "cell_type": "markdown",
   "id": "f185ff2a",
   "metadata": {},
   "source": [
    "### Обработаем дубликаты"
   ]
  },
  {
   "cell_type": "markdown",
   "id": "b9e2f38a",
   "metadata": {},
   "source": [
    "**Обработаем неявные дубликаты в столбце `education`.**"
   ]
  },
  {
   "cell_type": "markdown",
   "id": "d642c731",
   "metadata": {},
   "source": [
    "В этом столбце есть одни и те же значения, но записанные по-разному: с использованием заглавных и строчных букв. Приведём их к нижнему регистру."
   ]
  },
  {
   "cell_type": "code",
   "execution_count": 15,
   "id": "9abb8911",
   "metadata": {},
   "outputs": [],
   "source": [
    "data['education'] = data['education'].str.lower()"
   ]
  },
  {
   "cell_type": "markdown",
   "id": "e754180c",
   "metadata": {},
   "source": [
    "**Выведем на экран количество строк-дубликатов в данных.**"
   ]
  },
  {
   "cell_type": "code",
   "execution_count": 16,
   "id": "e3e709bd",
   "metadata": {},
   "outputs": [
    {
     "data": {
      "text/plain": [
       "71"
      ]
     },
     "execution_count": 16,
     "metadata": {},
     "output_type": "execute_result"
    }
   ],
   "source": [
    "data.duplicated().sum()"
   ]
  },
  {
   "cell_type": "markdown",
   "id": "a4c6d5d7",
   "metadata": {},
   "source": [
    "**Удалим дубликаты**"
   ]
  },
  {
   "cell_type": "code",
   "execution_count": 17,
   "id": "55f26bf6",
   "metadata": {},
   "outputs": [],
   "source": [
    "data = data.drop_duplicates()"
   ]
  },
  {
   "cell_type": "markdown",
   "id": "048cc32c",
   "metadata": {},
   "source": [
    "### Категоризируем данные"
   ]
  },
  {
   "cell_type": "markdown",
   "id": "e48132eb",
   "metadata": {},
   "source": [
    "**На основании диапазонов, указанных ниже, создадим в датафрейме `data` столбец `total_income_category` с категориями:**\n",
    "\n",
    "- 0–30000 — `'E'`;\n",
    "- 30001–50000 — `'D'`;\n",
    "- 50001–200000 — `'C'`;\n",
    "- 200001–1000000 — `'B'`;\n",
    "- 1000001 и выше — `'A'`."
   ]
  },
  {
   "cell_type": "markdown",
   "id": "0d6c1a89",
   "metadata": {},
   "source": [
    "**Создадим функцию для категоризации**"
   ]
  },
  {
   "cell_type": "code",
   "execution_count": 18,
   "id": "a281015e",
   "metadata": {},
   "outputs": [],
   "source": [
    "def categorize_income(income):\n",
    "    try:\n",
    "        if 0 <= income <= 30000:\n",
    "            return 'E'\n",
    "        elif 30001 <= income <= 50000:\n",
    "            return 'D'\n",
    "        elif 50001 <= income <= 200000:\n",
    "            return 'C'\n",
    "        elif 200001 <= income <= 1000000:\n",
    "            return 'B'\n",
    "        elif income >= 1000001:\n",
    "            return 'A'\n",
    "    except:\n",
    "        pass"
   ]
  },
  {
   "cell_type": "markdown",
   "id": "2dc33eff",
   "metadata": {},
   "source": [
    "**Применим её**"
   ]
  },
  {
   "cell_type": "code",
   "execution_count": 19,
   "id": "b158d306",
   "metadata": {},
   "outputs": [],
   "source": [
    "data['total_income_category'] = data['total_income'].apply(categorize_income)"
   ]
  },
  {
   "cell_type": "markdown",
   "id": "ddd25345",
   "metadata": {},
   "source": [
    "**Выведем на экран перечень уникальных целей взятия кредита из столбца `purpose`.**"
   ]
  },
  {
   "cell_type": "code",
   "execution_count": 20,
   "id": "8ec25b78",
   "metadata": {},
   "outputs": [
    {
     "data": {
      "text/plain": [
       "array(['покупка жилья', 'приобретение автомобиля',\n",
       "       'дополнительное образование', 'сыграть свадьбу',\n",
       "       'операции с жильем', 'образование', 'на проведение свадьбы',\n",
       "       'покупка жилья для семьи', 'покупка недвижимости',\n",
       "       'покупка коммерческой недвижимости', 'покупка жилой недвижимости',\n",
       "       'строительство собственной недвижимости', 'недвижимость',\n",
       "       'строительство недвижимости', 'на покупку подержанного автомобиля',\n",
       "       'на покупку своего автомобиля',\n",
       "       'операции с коммерческой недвижимостью',\n",
       "       'строительство жилой недвижимости', 'жилье',\n",
       "       'операции со своей недвижимостью', 'автомобили',\n",
       "       'заняться образованием', 'сделка с подержанным автомобилем',\n",
       "       'получение образования', 'автомобиль', 'свадьба',\n",
       "       'получение дополнительного образования', 'покупка своего жилья',\n",
       "       'операции с недвижимостью', 'получение высшего образования',\n",
       "       'свой автомобиль', 'сделка с автомобилем',\n",
       "       'профильное образование', 'высшее образование',\n",
       "       'покупка жилья для сдачи', 'на покупку автомобиля', 'ремонт жилью',\n",
       "       'заняться высшим образованием'], dtype=object)"
      ]
     },
     "execution_count": 20,
     "metadata": {},
     "output_type": "execute_result"
    }
   ],
   "source": [
    "data['purpose'].unique()"
   ]
  },
  {
   "cell_type": "markdown",
   "id": "2ed282ea",
   "metadata": {},
   "source": [
    "**Создадим функцию, которая на основании данных из столбца `purpose` сформирует новый столбец `purpose_category`, в который войдут следующие категории:**\n",
    "\n",
    "- `'операции с автомобилем'`,\n",
    "- `'операции с недвижимостью'`,\n",
    "- `'проведение свадьбы'`,\n",
    "- `'получение образования'`."
   ]
  },
  {
   "cell_type": "code",
   "execution_count": 21,
   "id": "171a71b9",
   "metadata": {},
   "outputs": [],
   "source": [
    "def categorize_purpose(row):\n",
    "    try:\n",
    "        if 'автом' in row:\n",
    "            return 'операции с автомобилем'\n",
    "        elif 'жил' in row or 'недвиж' in row:\n",
    "            return 'операции с недвижимостью'\n",
    "        elif 'свад' in row:\n",
    "            return 'проведение свадьбы'\n",
    "        elif 'образов' in row:\n",
    "            return 'получение образования'\n",
    "    except:\n",
    "        return 'нет категории'"
   ]
  },
  {
   "cell_type": "markdown",
   "id": "0139c123",
   "metadata": {},
   "source": [
    "**Применим её**"
   ]
  },
  {
   "cell_type": "code",
   "execution_count": 22,
   "id": "a61aa24d",
   "metadata": {},
   "outputs": [],
   "source": [
    "data['purpose_category'] = data['purpose'].apply(categorize_purpose)"
   ]
  },
  {
   "cell_type": "markdown",
   "id": "d748d410",
   "metadata": {},
   "source": [
    "## Исследуем данные и ответим на вопросы"
   ]
  },
  {
   "cell_type": "markdown",
   "id": "8fcabb5b",
   "metadata": {},
   "source": [
    "### Есть ли зависимость между количеством детей и возвратом кредита в срок?"
   ]
  },
  {
   "cell_type": "markdown",
   "id": "7c2079d1",
   "metadata": {},
   "source": [
    "**Напишем функцию для построения сводных таблиц с помощью метода `pivot_table()`, построим сводную таблицу, сгруппировав данные по целевому показателю и к данным о наличии задолженности по возврату кредитов (столбец `debt`), применим функции: `sum()` - чтобы посчитать общее количество кредитополучателей, `count()` - чтобы посчитать количество должников, `mean()`, чтобы узнать долю должников от общего количества кредитополучателей, переименуем столбцы и отсортируем по убыванию среднего значения, с помощью метода `.sort_values()`**"
   ]
  },
  {
   "cell_type": "code",
   "execution_count": 23,
   "id": "7d0964e4",
   "metadata": {},
   "outputs": [],
   "source": [
    "def data_pivot_table(data, index):\n",
    "    pivot = data.pivot_table(index = [index], values = 'debt', aggfunc={'sum','count','mean'})\n",
    "    pivot = pivot.rename(\n",
    "        columns={\n",
    "            'count': 'total_borrowers',\n",
    "            'sum': 'total_debtors',\n",
    "            'mean': 'share_of_debtors',        \n",
    "        }    \n",
    "    )\n",
    "    return pivot.sort_values(by='share_of_debtors', ascending=False)"
   ]
  },
  {
   "cell_type": "markdown",
   "id": "2305d9de",
   "metadata": {},
   "source": [
    "**Применим функцию `data_pivot_table`, сгруппировав данные по семейному статусу (столбец `children`)**"
   ]
  },
  {
   "cell_type": "code",
   "execution_count": 24,
   "id": "7d1c5911",
   "metadata": {},
   "outputs": [
    {
     "data": {
      "text/html": [
       "<div>\n",
       "<style scoped>\n",
       "    .dataframe tbody tr th:only-of-type {\n",
       "        vertical-align: middle;\n",
       "    }\n",
       "\n",
       "    .dataframe tbody tr th {\n",
       "        vertical-align: top;\n",
       "    }\n",
       "\n",
       "    .dataframe thead th {\n",
       "        text-align: right;\n",
       "    }\n",
       "</style>\n",
       "<table border=\"1\" class=\"dataframe\">\n",
       "  <thead>\n",
       "    <tr style=\"text-align: right;\">\n",
       "      <th></th>\n",
       "      <th>total_borrowers</th>\n",
       "      <th>share_of_debtors</th>\n",
       "      <th>total_debtors</th>\n",
       "    </tr>\n",
       "    <tr>\n",
       "      <th>children</th>\n",
       "      <th></th>\n",
       "      <th></th>\n",
       "      <th></th>\n",
       "    </tr>\n",
       "  </thead>\n",
       "  <tbody>\n",
       "    <tr>\n",
       "      <th>4</th>\n",
       "      <td>41.0</td>\n",
       "      <td>0.097561</td>\n",
       "      <td>4.0</td>\n",
       "    </tr>\n",
       "    <tr>\n",
       "      <th>2</th>\n",
       "      <td>2052.0</td>\n",
       "      <td>0.094542</td>\n",
       "      <td>194.0</td>\n",
       "    </tr>\n",
       "    <tr>\n",
       "      <th>1</th>\n",
       "      <td>4808.0</td>\n",
       "      <td>0.092346</td>\n",
       "      <td>444.0</td>\n",
       "    </tr>\n",
       "    <tr>\n",
       "      <th>3</th>\n",
       "      <td>330.0</td>\n",
       "      <td>0.081818</td>\n",
       "      <td>27.0</td>\n",
       "    </tr>\n",
       "    <tr>\n",
       "      <th>0</th>\n",
       "      <td>14091.0</td>\n",
       "      <td>0.075438</td>\n",
       "      <td>1063.0</td>\n",
       "    </tr>\n",
       "    <tr>\n",
       "      <th>5</th>\n",
       "      <td>9.0</td>\n",
       "      <td>0.000000</td>\n",
       "      <td>0.0</td>\n",
       "    </tr>\n",
       "  </tbody>\n",
       "</table>\n",
       "</div>"
      ],
      "text/plain": [
       "          total_borrowers  share_of_debtors  total_debtors\n",
       "children                                                  \n",
       "4                    41.0          0.097561            4.0\n",
       "2                  2052.0          0.094542          194.0\n",
       "1                  4808.0          0.092346          444.0\n",
       "3                   330.0          0.081818           27.0\n",
       "0                 14091.0          0.075438         1063.0\n",
       "5                     9.0          0.000000            0.0"
      ]
     },
     "execution_count": 24,
     "metadata": {},
     "output_type": "execute_result"
    }
   ],
   "source": [
    "data_pivot = data_pivot_table(data, 'children')\n",
    "data_pivot"
   ]
  },
  {
   "cell_type": "markdown",
   "id": "4c471ef4",
   "metadata": {},
   "source": [
    "**Вывод:** \n",
    "Исходя из полученных данных, мы можем сделать вывод: заёмщики без детей возвращают кредит лучше, чем заёмщики с 1-2 детьми. Скорее всего это связано с дополнительными расходами на обеспечение детей. \n",
    "\n",
    "Заёмщики с 3-5 детьми недостаточно представлены в выборке, для корректных выводов."
   ]
  },
  {
   "cell_type": "markdown",
   "id": "1b14c0a9",
   "metadata": {},
   "source": [
    "### Есть ли зависимость между семейным положением и возвратом кредита в срок?"
   ]
  },
  {
   "cell_type": "markdown",
   "id": "553f3295",
   "metadata": {},
   "source": [
    "**Применим функцию `data_pivot_table`, сгруппировав данные по семейному статусу (столбец `family_status`)**"
   ]
  },
  {
   "cell_type": "code",
   "execution_count": 25,
   "id": "4ba0282f",
   "metadata": {},
   "outputs": [
    {
     "data": {
      "text/html": [
       "<div>\n",
       "<style scoped>\n",
       "    .dataframe tbody tr th:only-of-type {\n",
       "        vertical-align: middle;\n",
       "    }\n",
       "\n",
       "    .dataframe tbody tr th {\n",
       "        vertical-align: top;\n",
       "    }\n",
       "\n",
       "    .dataframe thead th {\n",
       "        text-align: right;\n",
       "    }\n",
       "</style>\n",
       "<table border=\"1\" class=\"dataframe\">\n",
       "  <thead>\n",
       "    <tr style=\"text-align: right;\">\n",
       "      <th></th>\n",
       "      <th>total_borrowers</th>\n",
       "      <th>share_of_debtors</th>\n",
       "      <th>total_debtors</th>\n",
       "    </tr>\n",
       "    <tr>\n",
       "      <th>family_status</th>\n",
       "      <th></th>\n",
       "      <th></th>\n",
       "      <th></th>\n",
       "    </tr>\n",
       "  </thead>\n",
       "  <tbody>\n",
       "    <tr>\n",
       "      <th>Не женат / не замужем</th>\n",
       "      <td>2796.0</td>\n",
       "      <td>0.097639</td>\n",
       "      <td>273.0</td>\n",
       "    </tr>\n",
       "    <tr>\n",
       "      <th>гражданский брак</th>\n",
       "      <td>4134.0</td>\n",
       "      <td>0.093130</td>\n",
       "      <td>385.0</td>\n",
       "    </tr>\n",
       "    <tr>\n",
       "      <th>женат / замужем</th>\n",
       "      <td>12261.0</td>\n",
       "      <td>0.075606</td>\n",
       "      <td>927.0</td>\n",
       "    </tr>\n",
       "    <tr>\n",
       "      <th>в разводе</th>\n",
       "      <td>1189.0</td>\n",
       "      <td>0.070648</td>\n",
       "      <td>84.0</td>\n",
       "    </tr>\n",
       "    <tr>\n",
       "      <th>вдовец / вдова</th>\n",
       "      <td>951.0</td>\n",
       "      <td>0.066246</td>\n",
       "      <td>63.0</td>\n",
       "    </tr>\n",
       "  </tbody>\n",
       "</table>\n",
       "</div>"
      ],
      "text/plain": [
       "                       total_borrowers  share_of_debtors  total_debtors\n",
       "family_status                                                          \n",
       "Не женат / не замужем           2796.0          0.097639          273.0\n",
       "гражданский брак                4134.0          0.093130          385.0\n",
       "женат / замужем                12261.0          0.075606          927.0\n",
       "в разводе                       1189.0          0.070648           84.0\n",
       "вдовец / вдова                   951.0          0.066246           63.0"
      ]
     },
     "metadata": {},
     "output_type": "display_data"
    }
   ],
   "source": [
    "data_pivot = data_pivot_table(data, 'family_status')\n",
    "display(data_pivot)"
   ]
  },
  {
   "cell_type": "markdown",
   "id": "fef4d5a6",
   "metadata": {},
   "source": [
    "**Вывод:** \n",
    "Исходя из полученных данных, мы можем сделать вывод: заёмщики не женатые/ не замужние и состоящие в гражданском браке, выплачивают кредиты хуже, чем состоящие или когда-либо состоявшие в браке. Видимо в брак вступают более ответственные люди или брак делает людей более отвественными. Разведенные и вдовцы - обычно люди в возрасте, с возрастом люди становятся более опытными и более ответственными."
   ]
  },
  {
   "cell_type": "markdown",
   "id": "3b9b240f",
   "metadata": {},
   "source": [
    "### Есть ли зависимость между уровнем дохода и возвратом кредита в срок?"
   ]
  },
  {
   "cell_type": "markdown",
   "id": "7f99b23b",
   "metadata": {},
   "source": [
    "**Применим функцию `data_pivot_table`, сгруппировав данные по категории доходов (столбец `total_income_category`)**"
   ]
  },
  {
   "cell_type": "code",
   "execution_count": 26,
   "id": "fe70b30c",
   "metadata": {},
   "outputs": [
    {
     "data": {
      "text/html": [
       "<div>\n",
       "<style scoped>\n",
       "    .dataframe tbody tr th:only-of-type {\n",
       "        vertical-align: middle;\n",
       "    }\n",
       "\n",
       "    .dataframe tbody tr th {\n",
       "        vertical-align: top;\n",
       "    }\n",
       "\n",
       "    .dataframe thead th {\n",
       "        text-align: right;\n",
       "    }\n",
       "</style>\n",
       "<table border=\"1\" class=\"dataframe\">\n",
       "  <thead>\n",
       "    <tr style=\"text-align: right;\">\n",
       "      <th></th>\n",
       "      <th>total_borrowers</th>\n",
       "      <th>share_of_debtors</th>\n",
       "      <th>total_debtors</th>\n",
       "    </tr>\n",
       "    <tr>\n",
       "      <th>total_income_category</th>\n",
       "      <th></th>\n",
       "      <th></th>\n",
       "      <th></th>\n",
       "    </tr>\n",
       "  </thead>\n",
       "  <tbody>\n",
       "    <tr>\n",
       "      <th>E</th>\n",
       "      <td>22.0</td>\n",
       "      <td>0.090909</td>\n",
       "      <td>2.0</td>\n",
       "    </tr>\n",
       "    <tr>\n",
       "      <th>C</th>\n",
       "      <td>15921.0</td>\n",
       "      <td>0.084982</td>\n",
       "      <td>1353.0</td>\n",
       "    </tr>\n",
       "    <tr>\n",
       "      <th>A</th>\n",
       "      <td>25.0</td>\n",
       "      <td>0.080000</td>\n",
       "      <td>2.0</td>\n",
       "    </tr>\n",
       "    <tr>\n",
       "      <th>B</th>\n",
       "      <td>5014.0</td>\n",
       "      <td>0.070602</td>\n",
       "      <td>354.0</td>\n",
       "    </tr>\n",
       "    <tr>\n",
       "      <th>D</th>\n",
       "      <td>349.0</td>\n",
       "      <td>0.060172</td>\n",
       "      <td>21.0</td>\n",
       "    </tr>\n",
       "  </tbody>\n",
       "</table>\n",
       "</div>"
      ],
      "text/plain": [
       "                       total_borrowers  share_of_debtors  total_debtors\n",
       "total_income_category                                                  \n",
       "E                                 22.0          0.090909            2.0\n",
       "C                              15921.0          0.084982         1353.0\n",
       "A                                 25.0          0.080000            2.0\n",
       "B                               5014.0          0.070602          354.0\n",
       "D                                349.0          0.060172           21.0"
      ]
     },
     "metadata": {},
     "output_type": "display_data"
    }
   ],
   "source": [
    "data_pivot = data_pivot_table(data, 'total_income_category')\n",
    "display(data_pivot)"
   ]
  },
  {
   "cell_type": "markdown",
   "id": "6b8b4e4a",
   "metadata": {},
   "source": [
    "**Вывод:** \n",
    "Исходя из полученных данных, мы можем сделать вывод: заёмщики с категорией B (200001–1000000) реже имеют задолжность по возврату кредита, чем с категорией C (50001–200000). Заёмщикам с более высоким уровнем дохода проще выплачивать кредит, чем заёмщикам с более низким доходом. \n",
    "\n",
    "Остальные категории заёмщиков недостаточно представлены в выборке, для корректных выводов. "
   ]
  },
  {
   "cell_type": "markdown",
   "id": "bae047e5",
   "metadata": {},
   "source": [
    "### Как разные цели кредита влияют на его возврат в срок?"
   ]
  },
  {
   "cell_type": "markdown",
   "id": "6e432148",
   "metadata": {},
   "source": [
    "**Применим функцю `data_pivot_table`, сгруппировав данные по категории цели взятия кредита (столбец `purpose_category`)**"
   ]
  },
  {
   "cell_type": "code",
   "execution_count": 27,
   "id": "f480757f",
   "metadata": {},
   "outputs": [
    {
     "data": {
      "text/html": [
       "<div>\n",
       "<style scoped>\n",
       "    .dataframe tbody tr th:only-of-type {\n",
       "        vertical-align: middle;\n",
       "    }\n",
       "\n",
       "    .dataframe tbody tr th {\n",
       "        vertical-align: top;\n",
       "    }\n",
       "\n",
       "    .dataframe thead th {\n",
       "        text-align: right;\n",
       "    }\n",
       "</style>\n",
       "<table border=\"1\" class=\"dataframe\">\n",
       "  <thead>\n",
       "    <tr style=\"text-align: right;\">\n",
       "      <th></th>\n",
       "      <th>total_borrowers</th>\n",
       "      <th>share_of_debtors</th>\n",
       "      <th>total_debtors</th>\n",
       "    </tr>\n",
       "    <tr>\n",
       "      <th>purpose_category</th>\n",
       "      <th></th>\n",
       "      <th></th>\n",
       "      <th></th>\n",
       "    </tr>\n",
       "  </thead>\n",
       "  <tbody>\n",
       "    <tr>\n",
       "      <th>операции с автомобилем</th>\n",
       "      <td>4279.0</td>\n",
       "      <td>0.093480</td>\n",
       "      <td>400.0</td>\n",
       "    </tr>\n",
       "    <tr>\n",
       "      <th>получение образования</th>\n",
       "      <td>3988.0</td>\n",
       "      <td>0.092528</td>\n",
       "      <td>369.0</td>\n",
       "    </tr>\n",
       "    <tr>\n",
       "      <th>проведение свадьбы</th>\n",
       "      <td>2313.0</td>\n",
       "      <td>0.079118</td>\n",
       "      <td>183.0</td>\n",
       "    </tr>\n",
       "    <tr>\n",
       "      <th>операции с недвижимостью</th>\n",
       "      <td>10751.0</td>\n",
       "      <td>0.072551</td>\n",
       "      <td>780.0</td>\n",
       "    </tr>\n",
       "  </tbody>\n",
       "</table>\n",
       "</div>"
      ],
      "text/plain": [
       "                          total_borrowers  share_of_debtors  total_debtors\n",
       "purpose_category                                                          \n",
       "операции с автомобилем             4279.0          0.093480          400.0\n",
       "получение образования              3988.0          0.092528          369.0\n",
       "проведение свадьбы                 2313.0          0.079118          183.0\n",
       "операции с недвижимостью          10751.0          0.072551          780.0"
      ]
     },
     "metadata": {},
     "output_type": "display_data"
    }
   ],
   "source": [
    "data_pivot = data_pivot_table(data, 'purpose_category')\n",
    "display(data_pivot)"
   ]
  },
  {
   "cell_type": "markdown",
   "id": "2f18359a",
   "metadata": {},
   "source": [
    "**Вывод:** \n",
    "Исходя из полученных данных, мы можем сделать вывод: заёмщики, которые берут кредит на проведение свадьбы и операции с недвижимостью, чаще выплачивают кредит вовремя, чем заёмщики, которые берут кредит на операции с автомобилем и для получения образования. Возможно, покупка недвижимости и проведение свадьбы - являются более ответственными и значимыми событиями, а при получении образования может быть сложно параллельно работать, чтобы своевременно выплачивать кредит, при серьёзном ДТП повышается риск невыплаты или несвоевременной выплаты задолженности по автокредиту."
   ]
  },
  {
   "cell_type": "markdown",
   "id": "45b0bd1c",
   "metadata": {},
   "source": [
    "### Возможные причины появления пропусков в исходных данных."
   ]
  },
  {
   "cell_type": "markdown",
   "id": "ecf78bd5",
   "metadata": {},
   "source": [
    "Пропуски присутствуют в столбцах 'days_employed' (общий трудовой стаж в днях) и 'total_income' (ежемесячный доход), возможно, потому что заёмщик никогда не работал, отказался предоставить эти данные или из-за технического сбоя эти данные были утеряны."
   ]
  },
  {
   "cell_type": "markdown",
   "id": "36f6fe0b",
   "metadata": {},
   "source": [
    "### Почему заполнить пропуски медианным значением — лучшее решение для количественных переменных."
   ]
  },
  {
   "cell_type": "markdown",
   "id": "6f8b321d",
   "metadata": {},
   "source": [
    "Заполнение пропусков медианным значением - является лучшим решением для количественных значений, потому что, обычно, это не искажает распределение данных так сильно, как заполнение средним значением. Среднее значение может быть существенно изменено, если в данных присутствуют выбросы или аномальные значения, что может привести к искаженным результатам анализа, а медианное значение - представляет собой значение, которое находится между двух равных частей выборки и позволяет сохранить статистические свойства выборки."
   ]
  },
  {
   "cell_type": "markdown",
   "id": "f2f89db2",
   "metadata": {},
   "source": [
    "## Общий вывод."
   ]
  },
  {
   "cell_type": "markdown",
   "id": "0494a223",
   "metadata": {},
   "source": [
    "В ходе исследования, мы предобработали данные: заполнили пропуски, заменили отрицательные значения на положительными, вещественный тип данных на целочисленный, удалили строки с аномальным значениями, обработали неявные дубликаты6 категоризировали заемщиков по категориями, в зависимости от их ежемесячного дохода и по целям взятия кредита.\n",
    "\n",
    "Проведя анализ полученных нами данных, можно сделать вывод, что семейное положение и количество детей у клиента влияют на факт погашения кредита в срок:\n",
    "* Когда-либо состоявшие в официальном браке заёмщики, выплачивают кредиты лучше, чем никогда не состоявшие в официальном браке. Видимо в брак вступают более ответственные люди или брак делает людей более отвественными. Разведенные и вдовцы - обычно люди в возрасте, с возрастом люди становятся более опытными и более ответственными.\n",
    "* Заёмщики без детей возвращают кредит лучше, чем заёмщики с 1-2 детьми. Скорее всего это связано с дополнительными расходами на обеспечение детей. \n",
    "\n",
    "Так же на наличие задолжности по выплате кредита влияет цель получения кредита: на проведение свадьбы и на операции с недвижимостью кредиты лучше выплачиваются, чем на операции с автомобилями или на получение образования. Возможно, покупка недвижимости и проведение свадьбы - являются более ответственными и значимыми целями, а при получении образования может быть сложно параллельно работать, чтобы своевременно выплачивать кредит, при серьёзном ДТП повышается риск невыплаты или несвоевременной выплаты задолженности по автокредиту.\n",
    "\n",
    "Заёмщики с высоким доходом реже имеют задолжность по возврату кредита, чем с низким, потому что это напрямую влияет на возможность заёмщика выплачивать кредит своевременно.\n",
    "\n",
    "Чаще всего более надёжным заёмщиком является заёмщик у которого нет детей и он когда-либо состоял в официальном браке, имеет высокий доход и берёт кредит на проведение свадьбы или на операции с недвижимостью. Рискованным заёмщиком обычно является заёмщик, который никогда не состоял в официальном браке, у него есть дети, оформляет кредит на образование или автомобиль и имеет низкий доход.\n",
    "\n",
    "Рекомендуем заказчику при построении модели кредитного скоринга повысить процент одобряемости кредитов для надёжных заёмщиков и снизить для рискованных."
   ]
  },
  {
   "cell_type": "code",
   "execution_count": null,
   "id": "634ee862",
   "metadata": {},
   "outputs": [],
   "source": []
  }
 ],
 "metadata": {
  "kernelspec": {
   "display_name": "Python 3 (ipykernel)",
   "language": "python",
   "name": "python3"
  },
  "language_info": {
   "codemirror_mode": {
    "name": "ipython",
    "version": 3
   },
   "file_extension": ".py",
   "mimetype": "text/x-python",
   "name": "python",
   "nbconvert_exporter": "python",
   "pygments_lexer": "ipython3",
   "version": "3.9.19"
  },
  "latex_envs": {
   "LaTeX_envs_menu_present": true,
   "autoclose": true,
   "autocomplete": true,
   "bibliofile": "biblio.bib",
   "cite_by": "apalike",
   "current_citInitial": 1,
   "eqLabelWithNumbers": true,
   "eqNumInitial": 1,
   "hotkeys": {
    "equation": "Ctrl-E",
    "itemize": "Ctrl-I"
   },
   "labels_anchors": false,
   "latex_user_defs": false,
   "report_style_numbering": false,
   "user_envs_cfg": false
  },
  "toc": {
   "base_numbering": 1,
   "nav_menu": {},
   "number_sections": true,
   "sideBar": true,
   "skip_h1_title": true,
   "title_cell": "План работы",
   "title_sidebar": "План работы",
   "toc_cell": true,
   "toc_position": {
    "height": "calc(100% - 180px)",
    "left": "10px",
    "top": "150px",
    "width": "288px"
   },
   "toc_section_display": true,
   "toc_window_display": true
  }
 },
 "nbformat": 4,
 "nbformat_minor": 5
}
