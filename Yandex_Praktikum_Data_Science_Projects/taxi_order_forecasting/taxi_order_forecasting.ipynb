{
 "cells": [
  {
   "cell_type": "markdown",
   "metadata": {},
   "source": [
    "#  Прогнозирование спроса на такси "
   ]
  },
  {
   "cell_type": "markdown",
   "metadata": {},
   "source": [
    "Компания «Чётенькое такси» собрала исторические данные о заказах такси в аэропортах. Чтобы привлекать больше водителей в период пиковой нагрузки, нужно спрогнозировать количество заказов такси на следующий час. Постройте модель для такого предсказания.\n",
    "\n",
    "Значение метрики *RMSE* на тестовой выборке должно быть не больше 48.\n",
    "\n",
    "Вам нужно:\n",
    "\n",
    "1. Загрузить данные и выполнить их ресемплирование по одному часу.\n",
    "2. Проанализировать данные.\n",
    "3. Обучить разные модели с различными гиперпараметрами. Сделать тестовую выборку размером 10% от исходных данных.\n",
    "4. Проверить данные на тестовой выборке и сделать выводы.\n",
    "\n",
    "\n",
    "Данные лежат в файле `taxi.csv`. Количество заказов находится в столбце `num_orders` (от англ. *number of orders*, «число заказов»)."
   ]
  },
  {
   "cell_type": "markdown",
   "metadata": {
    "toc": true
   },
   "source": [
    "<h1>Содержание<span class=\"tocSkip\"></span></h1>\n",
    "<div class=\"toc\"><ul class=\"toc-item\"><li><ul class=\"toc-item\"><li><span><a href=\"#Импортируем-необходимые-библиотеки\" data-toc-modified-id=\"Импортируем-необходимые-библиотеки-0.1\"><span class=\"toc-item-num\">0.1&nbsp;&nbsp;</span>Импортируем необходимые библиотеки</a></span></li><li><span><a href=\"#Используемые-функции\" data-toc-modified-id=\"Используемые-функции-0.2\"><span class=\"toc-item-num\">0.2&nbsp;&nbsp;</span>Используемые функции</a></span></li></ul></li><li><span><a href=\"#Подготовка\" data-toc-modified-id=\"Подготовка-1\"><span class=\"toc-item-num\">1&nbsp;&nbsp;</span>Подготовка</a></span><ul class=\"toc-item\"><li><span><a href=\"#Загрузка-данных\" data-toc-modified-id=\"Загрузка-данных-1.1\"><span class=\"toc-item-num\">1.1&nbsp;&nbsp;</span>Загрузка данных</a></span></li><li><span><a href=\"#Выполним-ресемплирование-по-одному-часу\" data-toc-modified-id=\"Выполним-ресемплирование-по-одному-часу-1.2\"><span class=\"toc-item-num\">1.2&nbsp;&nbsp;</span>Выполним ресемплирование по одному часу</a></span></li></ul></li><li><span><a href=\"#Анализ\" data-toc-modified-id=\"Анализ-2\"><span class=\"toc-item-num\">2&nbsp;&nbsp;</span>Анализ</a></span></li><li><span><a href=\"#Обучение\" data-toc-modified-id=\"Обучение-3\"><span class=\"toc-item-num\">3&nbsp;&nbsp;</span>Обучение</a></span></li><li><span><a href=\"#Тестирование\" data-toc-modified-id=\"Тестирование-4\"><span class=\"toc-item-num\">4&nbsp;&nbsp;</span>Тестирование</a></span></li></ul></div>"
   ]
  },
  {
   "cell_type": "markdown",
   "metadata": {},
   "source": [
    "### Импортируем необходимые библиотеки"
   ]
  },
  {
   "cell_type": "code",
   "execution_count": 1,
   "metadata": {},
   "outputs": [],
   "source": [
    "import os\n",
    "import pandas as pd\n",
    "import numpy as np\n",
    "import matplotlib.pyplot as plt\n",
    "from sklearn.model_selection import train_test_split, TimeSeriesSplit, GridSearchCV, cross_val_score\n",
    "from sklearn.metrics import mean_squared_error\n",
    "from sklearn.ensemble import RandomForestRegressor\n",
    "from sklearn.linear_model import LinearRegression\n",
    "from sklearn.preprocessing import StandardScaler\n",
    "\n",
    "from statsmodels.tsa.seasonal import seasonal_decompose\n",
    "import seaborn as sns\n",
    "\n",
    "# задаём значение констант\n",
    "TEST_SIZE = 0.1\n",
    "RANDOM_STATE = 42 \n",
    "\n",
    "# игнорируем предупреждения\n",
    "import warnings\n",
    "warnings.simplefilter(\"ignore\")"
   ]
  },
  {
   "cell_type": "markdown",
   "metadata": {},
   "source": [
    "### Используемые функции"
   ]
  },
  {
   "cell_type": "code",
   "execution_count": 2,
   "metadata": {},
   "outputs": [],
   "source": [
    "def plot_graph(x, y, title, xlabel='Дата и время', ylabel='Количество заказов', xticks=None):\n",
    "    sns.set_style(\"darkgrid\")\n",
    "    sns.set_palette(\"Set1\")\n",
    "    plt.figure(figsize=(15, 5))\n",
    "    sns.lineplot(x=x, y=y)\n",
    "    plt.title(title)\n",
    "    plt.xlabel(xlabel)\n",
    "    plt.ylabel(ylabel)\n",
    "    if xticks is not None:\n",
    "        plt.xticks(ticks=xticks)\n",
    "    plt.grid(True)\n",
    "    plt.show()"
   ]
  },
  {
   "cell_type": "markdown",
   "metadata": {},
   "source": [
    "## Подготовка"
   ]
  },
  {
   "cell_type": "markdown",
   "metadata": {},
   "source": [
    "### Загрузка данных"
   ]
  },
  {
   "cell_type": "markdown",
   "metadata": {},
   "source": [
    "Считаем CSV-файлы в датафреймы"
   ]
  },
  {
   "cell_type": "code",
   "execution_count": 3,
   "metadata": {},
   "outputs": [
    {
     "name": "stdout",
     "output_type": "stream",
     "text": [
      "Данные загружены из локальной директории\n"
     ]
    }
   ],
   "source": [
    "# Чтение файла и создание датафрейма\n",
    "local_file_path = '/datasets/taxi.csv'\n",
    "online_file_path = 'https://xxx/datasets/taxi.csv'\n",
    "\n",
    "try:\n",
    "    if os.path.exists(local_file_path):\n",
    "        df = pd.read_csv(local_file_path, index_col=[0], parse_dates=[0])\n",
    "        print(f\"Данные загружены из локальной директории\") \n",
    "    else:\n",
    "        df = pd.read_csv(online_file_path, index_col=[0], parse_dates=[0])\n",
    "        print(f\"Данные загружены из сети\")\n",
    "except Exception as e:\n",
    "    print(f\"Произошла ошибка при чтении файла: {e}\")"
   ]
  },
  {
   "cell_type": "code",
   "execution_count": 4,
   "metadata": {},
   "outputs": [
    {
     "name": "stdout",
     "output_type": "stream",
     "text": [
      "Начальная дата: 2018-03-01 00:00:00\n",
      "Конечная дата: 2018-08-31 23:50:00\n",
      "********************************************************************************\n",
      "\n",
      "Общая информация о датафрейме:\n",
      "<class 'pandas.core.frame.DataFrame'>\n",
      "DatetimeIndex: 26496 entries, 2018-03-01 00:00:00 to 2018-08-31 23:50:00\n",
      "Data columns (total 1 columns):\n",
      " #   Column      Non-Null Count  Dtype\n",
      "---  ------      --------------  -----\n",
      " 0   num_orders  26496 non-null  int64\n",
      "dtypes: int64(1)\n",
      "memory usage: 414.0 KB\n",
      "None\n",
      "********************************************************************************\n",
      "\n",
      "Описательная статистика:\n"
     ]
    },
    {
     "data": {
      "text/html": [
       "<div>\n",
       "<style scoped>\n",
       "    .dataframe tbody tr th:only-of-type {\n",
       "        vertical-align: middle;\n",
       "    }\n",
       "\n",
       "    .dataframe tbody tr th {\n",
       "        vertical-align: top;\n",
       "    }\n",
       "\n",
       "    .dataframe thead th {\n",
       "        text-align: right;\n",
       "    }\n",
       "</style>\n",
       "<table border=\"1\" class=\"dataframe\">\n",
       "  <thead>\n",
       "    <tr style=\"text-align: right;\">\n",
       "      <th></th>\n",
       "      <th>count</th>\n",
       "      <th>mean</th>\n",
       "      <th>std</th>\n",
       "      <th>min</th>\n",
       "      <th>25%</th>\n",
       "      <th>50%</th>\n",
       "      <th>75%</th>\n",
       "      <th>max</th>\n",
       "    </tr>\n",
       "  </thead>\n",
       "  <tbody>\n",
       "    <tr>\n",
       "      <th>num_orders</th>\n",
       "      <td>26496.0</td>\n",
       "      <td>14.070463</td>\n",
       "      <td>9.21133</td>\n",
       "      <td>0.0</td>\n",
       "      <td>8.0</td>\n",
       "      <td>13.0</td>\n",
       "      <td>19.0</td>\n",
       "      <td>119.0</td>\n",
       "    </tr>\n",
       "  </tbody>\n",
       "</table>\n",
       "</div>"
      ],
      "text/plain": [
       "              count       mean      std  min  25%   50%   75%    max\n",
       "num_orders  26496.0  14.070463  9.21133  0.0  8.0  13.0  19.0  119.0"
      ]
     },
     "metadata": {},
     "output_type": "display_data"
    },
    {
     "name": "stdout",
     "output_type": "stream",
     "text": [
      "********************************************************************************\n",
      "Количество пропусков:\n",
      " num_orders    0\n",
      "dtype: int64\n",
      "********************************************************************************\n",
      "\n",
      "Проверка на монотонность:\n",
      "True\n",
      "********************************************************************************\n",
      "\n",
      "Пример данных:\n"
     ]
    },
    {
     "data": {
      "text/html": [
       "<div>\n",
       "<style scoped>\n",
       "    .dataframe tbody tr th:only-of-type {\n",
       "        vertical-align: middle;\n",
       "    }\n",
       "\n",
       "    .dataframe tbody tr th {\n",
       "        vertical-align: top;\n",
       "    }\n",
       "\n",
       "    .dataframe thead th {\n",
       "        text-align: right;\n",
       "    }\n",
       "</style>\n",
       "<table border=\"1\" class=\"dataframe\">\n",
       "  <thead>\n",
       "    <tr style=\"text-align: right;\">\n",
       "      <th></th>\n",
       "      <th>num_orders</th>\n",
       "    </tr>\n",
       "    <tr>\n",
       "      <th>datetime</th>\n",
       "      <th></th>\n",
       "    </tr>\n",
       "  </thead>\n",
       "  <tbody>\n",
       "    <tr>\n",
       "      <th>2018-03-01 00:00:00</th>\n",
       "      <td>9</td>\n",
       "    </tr>\n",
       "    <tr>\n",
       "      <th>2018-03-01 00:10:00</th>\n",
       "      <td>14</td>\n",
       "    </tr>\n",
       "    <tr>\n",
       "      <th>2018-03-01 00:20:00</th>\n",
       "      <td>28</td>\n",
       "    </tr>\n",
       "    <tr>\n",
       "      <th>2018-03-01 00:30:00</th>\n",
       "      <td>20</td>\n",
       "    </tr>\n",
       "    <tr>\n",
       "      <th>2018-03-01 00:40:00</th>\n",
       "      <td>32</td>\n",
       "    </tr>\n",
       "  </tbody>\n",
       "</table>\n",
       "</div>"
      ],
      "text/plain": [
       "                     num_orders\n",
       "datetime                       \n",
       "2018-03-01 00:00:00           9\n",
       "2018-03-01 00:10:00          14\n",
       "2018-03-01 00:20:00          28\n",
       "2018-03-01 00:30:00          20\n",
       "2018-03-01 00:40:00          32"
      ]
     },
     "metadata": {},
     "output_type": "display_data"
    }
   ],
   "source": [
    "# Проверка загрузки данных\n",
    "print(f'Начальная дата: {df.index.min()}')\n",
    "print(f'Конечная дата: {df.index.max()}')\n",
    "print('*'*80)\n",
    "print('\\nОбщая информация о датафрейме:') \n",
    "print(df.info())\n",
    "print('*'*80)\n",
    "print('\\nОписательная статистика:')\n",
    "display(df.describe().T)\n",
    "print('*'*80)\n",
    "print('Количество пропусков:\\n', df.isna().sum())\n",
    "print('*'*80)\n",
    "print('\\nПроверка на монотонность:')\n",
    "print(df.index.is_monotonic_increasing)\n",
    "print('*'*80)\n",
    "print('\\nПример данных:')\n",
    "display(df.head())"
   ]
  },
  {
   "cell_type": "markdown",
   "metadata": {},
   "source": [
    "### Выполним ресемплирование по одному часу"
   ]
  },
  {
   "cell_type": "code",
   "execution_count": 5,
   "metadata": {},
   "outputs": [],
   "source": [
    "df = df.resample('1H').sum()"
   ]
  },
  {
   "cell_type": "markdown",
   "metadata": {},
   "source": [
    "**Вывод:**\n",
    "* датасет taxi.csv содержит 26496 записей\n",
    "* период с 1 марта 2018 года по 31 августа 2018 года\n",
    "* пропуски в данных отсутствуют\n",
    "* данные расположены в хронологическом порядке"
   ]
  },
  {
   "cell_type": "markdown",
   "metadata": {},
   "source": [
    "## Анализ"
   ]
  },
  {
   "cell_type": "markdown",
   "metadata": {},
   "source": [
    "Построим график количества заказов по часам"
   ]
  },
  {
   "cell_type": "code",
   "execution_count": 6,
   "metadata": {},
   "outputs": [
    {
     "data": {
      "image/png": "[encoded data removed]",
      "text/plain": [
       "<Figure size 1080x360 with 1 Axes>"
      ]
     },
     "metadata": {},
     "output_type": "display_data"
    }
   ],
   "source": [
    "plot_graph(df.index, \n",
    "           df['num_orders'], \n",
    "           'Количество заказов такси по часам')"
   ]
  },
  {
   "cell_type": "markdown",
   "metadata": {},
   "source": [
    "Декомпозируем данные"
   ]
  },
  {
   "cell_type": "code",
   "execution_count": 7,
   "metadata": {},
   "outputs": [],
   "source": [
    "decomposed_taxi = seasonal_decompose(df)"
   ]
  },
  {
   "cell_type": "markdown",
   "metadata": {},
   "source": [
    "Построим график трендов"
   ]
  },
  {
   "cell_type": "code",
   "execution_count": 8,
   "metadata": {},
   "outputs": [
    {
     "data": {
      "image/png": "[encoded data removed]",
      "text/plain": [
       "<Figure size 1080x360 with 1 Axes>"
      ]
     },
     "metadata": {},
     "output_type": "display_data"
    }
   ],
   "source": [
    "plot_graph(decomposed_taxi.trend.index,\n",
    "           decomposed_taxi.trend, \n",
    "           'Тренд')"
   ]
  },
  {
   "cell_type": "markdown",
   "metadata": {},
   "source": [
    "Построим графики сезонности"
   ]
  },
  {
   "cell_type": "markdown",
   "metadata": {},
   "source": [
    "за весь период:"
   ]
  },
  {
   "cell_type": "code",
   "execution_count": 9,
   "metadata": {},
   "outputs": [
    {
     "data": {
      "image/png": "[encoded data removed]",
      "text/plain": [
       "<Figure size 1080x360 with 1 Axes>"
      ]
     },
     "metadata": {},
     "output_type": "display_data"
    }
   ],
   "source": [
    "plot_graph(decomposed_taxi.seasonal.index, \n",
    "           decomposed_taxi.seasonal, \n",
    "           'Сезонность')"
   ]
  },
  {
   "cell_type": "markdown",
   "metadata": {},
   "source": [
    "за неделю:"
   ]
  },
  {
   "cell_type": "code",
   "execution_count": 10,
   "metadata": {},
   "outputs": [
    {
     "data": {
      "image/png": "[encoded data removed]",
      "text/plain": [
       "<Figure size 1080x360 with 1 Axes>"
      ]
     },
     "metadata": {},
     "output_type": "display_data"
    }
   ],
   "source": [
    "plot_graph(decomposed_taxi.seasonal['2018-08-25':'2018-08-31'].index,\n",
    "           decomposed_taxi.seasonal['2018-08-25':'2018-08-31'],\n",
    "           'Сезонность (за одну неделю)')"
   ]
  },
  {
   "cell_type": "markdown",
   "metadata": {},
   "source": [
    "за три дня:"
   ]
  },
  {
   "cell_type": "code",
   "execution_count": 11,
   "metadata": {},
   "outputs": [
    {
     "data": {
      "image/png": "[encoded data removed]",
      "text/plain": [
       "<Figure size 1080x360 with 1 Axes>"
      ]
     },
     "metadata": {},
     "output_type": "display_data"
    }
   ],
   "source": [
    "plot_graph(decomposed_taxi.seasonal['2018-08-29':'2018-08-31'].index, \n",
    "           decomposed_taxi.seasonal['2018-08-29':'2018-08-31'], \n",
    "           'Сезонность (по часам за три дня)')"
   ]
  },
  {
   "cell_type": "markdown",
   "metadata": {},
   "source": [
    "Напишем функцию для создания новых признаков"
   ]
  },
  {
   "cell_type": "code",
   "execution_count": 12,
   "metadata": {},
   "outputs": [],
   "source": [
    "def create_features(df, max_lag, rolling_mean_size):\n",
    "    df['hour'] = df.index.hour\n",
    "    df['day'] = df.index.day\n",
    "    df['dayofweek'] = df.index.dayofweek\n",
    "    \n",
    "    for lag in range(1, max_lag + 1):\n",
    "        df[f'lag_{lag}'] = df['num_orders'].shift(lag)\n",
    "    \n",
    "    df['rolling_mean'] = df['num_orders'].shift().rolling(rolling_mean_size).mean()\n",
    "    \n",
    "    df = df.dropna()\n",
    "    return df"
   ]
  },
  {
   "cell_type": "markdown",
   "metadata": {},
   "source": [
    "Создадим новые признаки на основе временных рядов"
   ]
  },
  {
   "cell_type": "code",
   "execution_count": 13,
   "metadata": {},
   "outputs": [],
   "source": [
    "df_n = create_features(df, max_lag=24, rolling_mean_size=24)"
   ]
  },
  {
   "cell_type": "markdown",
   "metadata": {},
   "source": [
    "Вычислим среднее количество заказов по часам в течение дня за весь период"
   ]
  },
  {
   "cell_type": "code",
   "execution_count": 14,
   "metadata": {},
   "outputs": [],
   "source": [
    "average_orders_per_hour = df_n.groupby('hour')['num_orders'].mean()"
   ]
  },
  {
   "cell_type": "markdown",
   "metadata": {},
   "source": [
    "Построим график среднего количества заказов такси по часам в течение дня за весь период"
   ]
  },
  {
   "cell_type": "code",
   "execution_count": 15,
   "metadata": {},
   "outputs": [
    {
     "data": {
      "image/png": "[encoded data removed]",
      "text/plain": [
       "<Figure size 1080x360 with 1 Axes>"
      ]
     },
     "metadata": {},
     "output_type": "display_data"
    }
   ],
   "source": [
    "plot_graph(average_orders_per_hour.index, average_orders_per_hour.values, \n",
    "           'Среднее количество заказов такси по часам в течение дня за весь период',\n",
    "           xlabel='Часы', ylabel='Среднее количество заказов', xticks=np.arange(0, 24, 2))"
   ]
  },
  {
   "cell_type": "markdown",
   "metadata": {},
   "source": [
    "**Вывод:**\n",
    "\n",
    "по графикам наблюдается:\n",
    "* с конца апреля начинается рост заказа такси в аэропорт, возможно, это связано с началом сезона отпусков\n",
    "* минимальное количество заказов такси около 6 утра \n",
    "* максимальное количество заказов такси около полуночи"
   ]
  },
  {
   "cell_type": "markdown",
   "metadata": {},
   "source": [
    "## Обучение"
   ]
  },
  {
   "cell_type": "markdown",
   "metadata": {},
   "source": [
    "Обучим модели линейной регрессии и случайного леса"
   ]
  },
  {
   "cell_type": "markdown",
   "metadata": {},
   "source": [
    "Зададим целевую переменную и признаки"
   ]
  },
  {
   "cell_type": "code",
   "execution_count": 16,
   "metadata": {},
   "outputs": [],
   "source": [
    "X = df_n.drop('num_orders', axis=1)\n",
    "y = df_n['num_orders']"
   ]
  },
  {
   "cell_type": "markdown",
   "metadata": {},
   "source": [
    "Разделим данные на обучающую и тестовую выборки, размером 10% от исходных данных"
   ]
  },
  {
   "cell_type": "code",
   "execution_count": 17,
   "metadata": {},
   "outputs": [],
   "source": [
    "X_train, X_test, y_train, y_test = train_test_split(X, y, test_size=TEST_SIZE, shuffle=False)"
   ]
  },
  {
   "cell_type": "markdown",
   "metadata": {},
   "source": [
    "Масштабируем признаки"
   ]
  },
  {
   "cell_type": "code",
   "execution_count": 18,
   "metadata": {},
   "outputs": [],
   "source": [
    "scaler = StandardScaler()\n",
    "X_train_scaled = scaler.fit_transform(X_train)\n",
    "X_test_scaled = scaler.transform(X_test)"
   ]
  },
  {
   "cell_type": "markdown",
   "metadata": {},
   "source": [
    "Обучим модель линейной регрессии с кросс-валидацией"
   ]
  },
  {
   "cell_type": "code",
   "execution_count": 19,
   "metadata": {},
   "outputs": [
    {
     "name": "stdout",
     "output_type": "stream",
     "text": [
      "RMSE для линейной регрессии на кросс-валидации: 27.31\n"
     ]
    }
   ],
   "source": [
    "lr = LinearRegression()\n",
    "tscv = TimeSeriesSplit(n_splits=4)\n",
    "cv_scores_lr = cross_val_score(lr, X_train_scaled, y_train, cv=tscv, scoring='neg_mean_squared_error')\n",
    "rmse_cv_lr = np.sqrt(-cv_scores_lr).mean()\n",
    "print(f'RMSE для линейной регрессии на кросс-валидации: {rmse_cv_lr:.2f}')"
   ]
  },
  {
   "cell_type": "markdown",
   "metadata": {},
   "source": [
    "Обучим модель случайного леса с кросс-валидацией"
   ]
  },
  {
   "cell_type": "code",
   "execution_count": 20,
   "metadata": {},
   "outputs": [
    {
     "name": "stdout",
     "output_type": "stream",
     "text": [
      "RMSE для случайного леса на кросс-валидации: 25.88\n"
     ]
    }
   ],
   "source": [
    "rf = RandomForestRegressor(random_state=RANDOM_STATE)\n",
    "param_grid = {\n",
    "    'n_estimators': [100, 200, 300],\n",
    "    'max_depth': [10, 20, 30]\n",
    "}\n",
    "grid_search = GridSearchCV(rf, param_grid, cv=tscv, scoring='neg_mean_squared_error')\n",
    "grid_search.fit(X_train_scaled, y_train)\n",
    "best_rf = grid_search.best_estimator_\n",
    "cv_scores_rf = cross_val_score(best_rf, X_train_scaled, y_train, cv=tscv, scoring='neg_mean_squared_error')\n",
    "rmse_cv_rf = np.sqrt(-cv_scores_rf).mean()\n",
    "print(f'RMSE для случайного леса на кросс-валидации: {rmse_cv_rf:.2f}')"
   ]
  },
  {
   "cell_type": "markdown",
   "metadata": {},
   "source": [
    "Модель случайного леса показала лучший показатель метрики RMSE, проверим её на тестовой выборке"
   ]
  },
  {
   "cell_type": "markdown",
   "metadata": {},
   "source": [
    "## Тестирование"
   ]
  },
  {
   "cell_type": "markdown",
   "metadata": {},
   "source": [
    "Проверим данные на тестовой выборке"
   ]
  },
  {
   "cell_type": "code",
   "execution_count": 21,
   "metadata": {},
   "outputs": [
    {
     "name": "stdout",
     "output_type": "stream",
     "text": [
      "RMSE на тестовой выборке: 42.91\n"
     ]
    }
   ],
   "source": [
    "y_test_pred = best_rf.predict(X_test_scaled)\n",
    "rmse_test = mean_squared_error(y_test, y_test_pred, squared=False)\n",
    "print(f'RMSE на тестовой выборке: {rmse_test:.2f}')"
   ]
  },
  {
   "cell_type": "code",
   "execution_count": 22,
   "metadata": {},
   "outputs": [
    {
     "data": {
      "image/png": "[encoded data removed]",
      "text/plain": [
       "<Figure size 1080x360 with 1 Axes>"
      ]
     },
     "metadata": {},
     "output_type": "display_data"
    }
   ],
   "source": [
    "plt.figure(figsize=(15, 5))\n",
    "sns.lineplot(x=X_test.index, y=y_test, label='Фактические значения')\n",
    "sns.lineplot(x=X_test.index, y=y_test_pred, label='Предсказания')\n",
    "plt.title('Фактические значения и предсказания')\n",
    "plt.xlabel('Дата и время')\n",
    "plt.ylabel('Количество заказов')\n",
    "plt.legend()\n",
    "plt.grid(True)\n",
    "plt.show()"
   ]
  },
  {
   "cell_type": "markdown",
   "metadata": {},
   "source": [
    "**Выводы**"
   ]
  },
  {
   "cell_type": "code",
   "execution_count": 23,
   "metadata": {},
   "outputs": [
    {
     "name": "stdout",
     "output_type": "stream",
     "text": [
      "Модель соответствует заданным требованиям.\n"
     ]
    }
   ],
   "source": [
    "# Выводы\n",
    "if rmse_test <= 48:\n",
    "    print(\"Модель соответствует заданным требованиям.\")\n",
    "else:\n",
    "    print(\"Модель не соответствует заданным требованиям. Нужно попробовать другие гиперпараметры или модели.\")"
   ]
  },
  {
   "cell_type": "markdown",
   "metadata": {},
   "source": [
    "**Цель**\n",
    "\n",
    "Целью данной работы было построить модель для предсказания количества заказов такси на следующий час для компании «Чётенькое такси». Требовалось, чтобы значение метрики RMSE (корень из средней квадратичной ошибки) на тестовой выборке было не больше 48.\n",
    "\n",
    "**Этапы работы**\n",
    "\n",
    "1. Подготовка данных:\n",
    "\n",
    " * Данные были загружены из файла taxi.csv, проверены на наличие пропусков и монотонность.\n",
    " * Данные были ресемплированы по одному часу для создания временного ряда.\n",
    "\n",
    "\n",
    "2. Анализ данных:\n",
    "\n",
    " * Проведен визуальный анализ временного ряда. Построены графики общего количества заказов, тренда и сезонности (за весь период, за неделю, за три дня).\n",
    " * Анализ графиков показал, что:\n",
    "    * С конца апреля начинается рост количества заказов, что может быть связано с началом сезона отпусков.\n",
    "    * Минимальное количество заказов такси наблюдается около 6 утра.\n",
    "    * Максимальное количество заказов такси приходится на полночь.\n",
    "\n",
    "\n",
    "3. Обучение моделей:\n",
    "\n",
    " * Были созданы новые признаки на основе временных рядов: час, день недели, лаги и скользящее среднее.\n",
    " * Данные были разделены на обучающую и тестовую выборки в соотношении 90% к 10%.\n",
    " * Признаки были масштабированы.\n",
    " * Обучены две модели: линейной регрессии и случайного леса.\n",
    " * Проведена кросс-валидация моделей.\n",
    " * Показатели RMSE на кросс-валидации:\n",
    "    * Линейная регрессия: 27.31\n",
    "    * Случайный лес: 25.88\n",
    "\n",
    "\n",
    "4. Тестирование:\n",
    "\n",
    " * Проведено тестирование модели случайного леса на тестовой выборке.\n",
    " * Показатель RMSE на тестовой выборке составил 42.91, что соответствует заданным требованиям.\n",
    "\n",
    "**Выводы**\n",
    "\n",
    "Модель случайного леса показала хороший результат на тестовой выборке, достигнув значения RMSE 42.91, что значительно ниже порогового значения 48. Это означает, что модель успешно предсказывает количество заказов такси на следующий час и может быть использована для привлечения водителей в периоды пиковой нагрузки."
   ]
  }
 ],
 "metadata": {
  "ExecuteTimeLog": [
   {
    "duration": 67,
    "start_time": "2024-07-08T14:49:52.164Z"
   },
   {
    "duration": 3265,
    "start_time": "2024-07-08T14:52:37.313Z"
   },
   {
    "duration": 6086,
    "start_time": "2024-07-08T14:52:40.580Z"
   },
   {
    "duration": 2518,
    "start_time": "2024-07-08T14:52:46.668Z"
   },
   {
    "duration": 1408,
    "start_time": "2024-07-08T14:52:49.188Z"
   },
   {
    "duration": 3,
    "start_time": "2024-07-08T14:52:50.598Z"
   },
   {
    "duration": 13,
    "start_time": "2024-07-08T14:52:50.603Z"
   },
   {
    "duration": 14,
    "start_time": "2024-07-08T14:52:50.617Z"
   },
   {
    "duration": 17,
    "start_time": "2024-07-08T14:52:50.633Z"
   },
   {
    "duration": 143,
    "start_time": "2024-07-08T14:52:50.652Z"
   },
   {
    "duration": 2,
    "start_time": "2024-07-08T14:52:50.797Z"
   },
   {
    "duration": 110,
    "start_time": "2024-07-08T14:53:06.133Z"
   },
   {
    "duration": 2,
    "start_time": "2024-07-08T14:53:09.342Z"
   },
   {
    "duration": 9,
    "start_time": "2024-07-08T14:53:20.501Z"
   },
   {
    "duration": 11,
    "start_time": "2024-07-08T14:53:47.061Z"
   },
   {
    "duration": 46,
    "start_time": "2024-07-08T14:53:52.726Z"
   },
   {
    "duration": 2,
    "start_time": "2024-07-08T14:53:56.989Z"
   },
   {
    "duration": 2,
    "start_time": "2024-07-08T14:54:28.637Z"
   },
   {
    "duration": 193,
    "start_time": "2024-07-08T14:54:35.021Z"
   },
   {
    "duration": 4,
    "start_time": "2024-07-08T14:56:12.789Z"
   },
   {
    "duration": 25,
    "start_time": "2024-07-08T14:56:15.692Z"
   },
   {
    "duration": 306,
    "start_time": "2024-07-08T14:56:47.656Z"
   },
   {
    "duration": 44,
    "start_time": "2024-07-08T15:04:38.547Z"
   },
   {
    "duration": 48,
    "start_time": "2024-07-08T15:05:01.684Z"
   },
   {
    "duration": 730,
    "start_time": "2024-07-08T15:05:29.104Z"
   },
   {
    "duration": 7,
    "start_time": "2024-07-08T15:06:12.222Z"
   },
   {
    "duration": 7,
    "start_time": "2024-07-08T15:06:25.281Z"
   },
   {
    "duration": 3,
    "start_time": "2024-07-08T15:07:33.967Z"
   },
   {
    "duration": 691,
    "start_time": "2024-07-08T15:07:37.299Z"
   },
   {
    "duration": 56,
    "start_time": "2024-07-08T15:11:59.936Z"
   },
   {
    "duration": 987,
    "start_time": "2024-07-08T15:12:08.000Z"
   },
   {
    "duration": 1004,
    "start_time": "2024-07-08T15:12:27.323Z"
   },
   {
    "duration": 46,
    "start_time": "2024-07-08T15:13:27.096Z"
   },
   {
    "duration": 3,
    "start_time": "2024-07-08T15:13:29.879Z"
   },
   {
    "duration": 21,
    "start_time": "2024-07-08T15:13:31.564Z"
   },
   {
    "duration": 2,
    "start_time": "2024-07-08T15:13:39.313Z"
   },
   {
    "duration": 250,
    "start_time": "2024-07-08T15:13:41.398Z"
   },
   {
    "duration": 12,
    "start_time": "2024-07-08T15:13:47.704Z"
   },
   {
    "duration": 4,
    "start_time": "2024-07-08T15:13:51.275Z"
   },
   {
    "duration": 4,
    "start_time": "2024-07-08T15:14:08.171Z"
   },
   {
    "duration": 4,
    "start_time": "2024-07-08T15:21:58.559Z"
   },
   {
    "duration": 11,
    "start_time": "2024-07-08T15:22:51.238Z"
   },
   {
    "duration": 8,
    "start_time": "2024-07-08T15:22:59.147Z"
   },
   {
    "duration": 4,
    "start_time": "2024-07-08T15:23:06.066Z"
   },
   {
    "duration": 16,
    "start_time": "2024-07-08T15:23:10.709Z"
   },
   {
    "duration": 5,
    "start_time": "2024-07-08T15:23:34.822Z"
   },
   {
    "duration": 46,
    "start_time": "2024-07-08T15:24:02.544Z"
   },
   {
    "duration": 28,
    "start_time": "2024-07-08T15:28:11.113Z"
   },
   {
    "duration": 3,
    "start_time": "2024-07-08T15:28:15.944Z"
   },
   {
    "duration": 223,
    "start_time": "2024-07-08T15:28:16.181Z"
   },
   {
    "duration": 6,
    "start_time": "2024-07-08T15:28:27.515Z"
   },
   {
    "duration": 57,
    "start_time": "2024-07-08T15:28:37.139Z"
   },
   {
    "duration": 3,
    "start_time": "2024-07-08T15:28:37.360Z"
   },
   {
    "duration": 4,
    "start_time": "2024-07-08T15:28:38.467Z"
   },
   {
    "duration": 4,
    "start_time": "2024-07-08T15:28:41.809Z"
   },
   {
    "duration": 11,
    "start_time": "2024-07-08T15:28:43.328Z"
   },
   {
    "duration": 2,
    "start_time": "2024-07-08T15:29:02.595Z"
   },
   {
    "duration": 20,
    "start_time": "2024-07-08T15:29:06.376Z"
   },
   {
    "duration": 2,
    "start_time": "2024-07-08T15:29:48.239Z"
   },
   {
    "duration": 695,
    "start_time": "2024-07-08T15:29:48.411Z"
   },
   {
    "duration": 6,
    "start_time": "2024-07-08T15:30:07.436Z"
   },
   {
    "duration": 67,
    "start_time": "2024-07-08T16:01:29.742Z"
   },
   {
    "duration": 5058,
    "start_time": "2024-07-08T16:01:49.314Z"
   },
   {
    "duration": 10,
    "start_time": "2024-07-08T16:02:48.052Z"
   },
   {
    "duration": 4918,
    "start_time": "2024-07-08T16:03:21.518Z"
   },
   {
    "duration": 2538,
    "start_time": "2024-07-08T16:04:00.611Z"
   },
   {
    "duration": 3202,
    "start_time": "2024-07-08T16:04:03.152Z"
   },
   {
    "duration": 2720,
    "start_time": "2024-07-08T16:04:06.356Z"
   },
   {
    "duration": 1275,
    "start_time": "2024-07-08T16:04:09.078Z"
   },
   {
    "duration": 5,
    "start_time": "2024-07-08T16:04:10.354Z"
   },
   {
    "duration": 64,
    "start_time": "2024-07-08T16:04:10.360Z"
   },
   {
    "duration": 2,
    "start_time": "2024-07-08T16:04:10.426Z"
   },
   {
    "duration": 5,
    "start_time": "2024-07-08T16:04:10.429Z"
   },
   {
    "duration": 5,
    "start_time": "2024-07-08T16:04:10.435Z"
   },
   {
    "duration": 3,
    "start_time": "2024-07-08T16:04:10.442Z"
   },
   {
    "duration": 32,
    "start_time": "2024-07-08T16:04:10.446Z"
   },
   {
    "duration": 3,
    "start_time": "2024-07-08T16:04:10.480Z"
   },
   {
    "duration": 866,
    "start_time": "2024-07-08T16:04:10.485Z"
   },
   {
    "duration": 147,
    "start_time": "2024-07-08T16:04:11.353Z"
   },
   {
    "duration": 0,
    "start_time": "2024-07-08T16:04:11.502Z"
   },
   {
    "duration": 4,
    "start_time": "2024-07-08T16:04:37.861Z"
   },
   {
    "duration": 4,
    "start_time": "2024-07-08T16:04:38.475Z"
   },
   {
    "duration": 50,
    "start_time": "2024-07-08T16:04:39.360Z"
   },
   {
    "duration": 2,
    "start_time": "2024-07-08T16:04:39.487Z"
   },
   {
    "duration": 5,
    "start_time": "2024-07-08T16:04:39.650Z"
   },
   {
    "duration": 4,
    "start_time": "2024-07-08T16:04:39.817Z"
   },
   {
    "duration": 2,
    "start_time": "2024-07-08T16:04:40.319Z"
   },
   {
    "duration": 19,
    "start_time": "2024-07-08T16:04:40.515Z"
   },
   {
    "duration": 3,
    "start_time": "2024-07-08T16:04:40.652Z"
   },
   {
    "duration": 697,
    "start_time": "2024-07-08T16:04:40.891Z"
   },
   {
    "duration": 5135,
    "start_time": "2024-07-08T16:04:41.589Z"
   },
   {
    "duration": 16,
    "start_time": "2024-07-08T16:04:46.726Z"
   },
   {
    "duration": 4,
    "start_time": "2024-07-09T02:04:11.481Z"
   },
   {
    "duration": 6,
    "start_time": "2024-07-09T02:06:47.675Z"
   },
   {
    "duration": 33,
    "start_time": "2024-07-09T02:13:20.160Z"
   },
   {
    "duration": 24,
    "start_time": "2024-07-09T02:14:28.800Z"
   },
   {
    "duration": 10,
    "start_time": "2024-07-09T02:15:18.500Z"
   },
   {
    "duration": 9,
    "start_time": "2024-07-09T02:16:18.557Z"
   },
   {
    "duration": 3,
    "start_time": "2024-07-09T02:16:27.007Z"
   },
   {
    "duration": 45,
    "start_time": "2024-07-09T02:16:27.012Z"
   },
   {
    "duration": 0,
    "start_time": "2024-07-09T02:16:27.058Z"
   },
   {
    "duration": 0,
    "start_time": "2024-07-09T02:16:27.059Z"
   },
   {
    "duration": 0,
    "start_time": "2024-07-09T02:16:27.059Z"
   },
   {
    "duration": 0,
    "start_time": "2024-07-09T02:16:27.060Z"
   },
   {
    "duration": 0,
    "start_time": "2024-07-09T02:16:27.061Z"
   },
   {
    "duration": 0,
    "start_time": "2024-07-09T02:16:27.062Z"
   },
   {
    "duration": 0,
    "start_time": "2024-07-09T02:16:27.063Z"
   },
   {
    "duration": 0,
    "start_time": "2024-07-09T02:16:27.063Z"
   },
   {
    "duration": 0,
    "start_time": "2024-07-09T02:16:27.064Z"
   },
   {
    "duration": 0,
    "start_time": "2024-07-09T02:16:27.064Z"
   },
   {
    "duration": 0,
    "start_time": "2024-07-09T02:16:27.065Z"
   },
   {
    "duration": 1059,
    "start_time": "2024-07-09T02:18:45.941Z"
   },
   {
    "duration": 47,
    "start_time": "2024-07-09T02:19:01.881Z"
   },
   {
    "duration": 2,
    "start_time": "2024-07-09T02:19:05.416Z"
   },
   {
    "duration": 4,
    "start_time": "2024-07-09T02:19:09.748Z"
   },
   {
    "duration": 66,
    "start_time": "2024-07-09T02:19:27.239Z"
   },
   {
    "duration": 8,
    "start_time": "2024-07-09T02:19:44.437Z"
   },
   {
    "duration": 6,
    "start_time": "2024-07-09T02:19:53.297Z"
   },
   {
    "duration": 44,
    "start_time": "2024-07-09T02:20:47.399Z"
   },
   {
    "duration": 2,
    "start_time": "2024-07-09T02:20:57.086Z"
   },
   {
    "duration": 3,
    "start_time": "2024-07-09T02:20:57.273Z"
   },
   {
    "duration": 9,
    "start_time": "2024-07-09T02:21:00.465Z"
   },
   {
    "duration": 7,
    "start_time": "2024-07-09T02:21:34.165Z"
   },
   {
    "duration": 8,
    "start_time": "2024-07-09T02:21:38.212Z"
   },
   {
    "duration": 5,
    "start_time": "2024-07-09T02:21:42.070Z"
   },
   {
    "duration": 4,
    "start_time": "2024-07-09T02:21:46.066Z"
   },
   {
    "duration": 3,
    "start_time": "2024-07-09T02:21:49.367Z"
   },
   {
    "duration": 503,
    "start_time": "2024-07-09T02:21:52.599Z"
   },
   {
    "duration": 7,
    "start_time": "2024-07-09T02:21:59.693Z"
   },
   {
    "duration": 351,
    "start_time": "2024-07-09T02:22:02.873Z"
   },
   {
    "duration": 10,
    "start_time": "2024-07-09T02:25:10.066Z"
   },
   {
    "duration": 8,
    "start_time": "2024-07-09T02:25:26.763Z"
   },
   {
    "duration": 45,
    "start_time": "2024-07-09T02:25:32.697Z"
   },
   {
    "duration": 2,
    "start_time": "2024-07-09T02:25:37.876Z"
   },
   {
    "duration": 4,
    "start_time": "2024-07-09T02:25:38.312Z"
   },
   {
    "duration": 5,
    "start_time": "2024-07-09T02:25:39.495Z"
   },
   {
    "duration": 8,
    "start_time": "2024-07-09T02:25:40.321Z"
   },
   {
    "duration": 5,
    "start_time": "2024-07-09T02:25:41.245Z"
   },
   {
    "duration": 5,
    "start_time": "2024-07-09T02:25:41.609Z"
   },
   {
    "duration": 1097,
    "start_time": "2024-07-09T02:26:32.485Z"
   },
   {
    "duration": 47,
    "start_time": "2024-07-09T02:26:33.584Z"
   },
   {
    "duration": 2,
    "start_time": "2024-07-09T02:26:33.633Z"
   },
   {
    "duration": 4,
    "start_time": "2024-07-09T02:26:33.637Z"
   },
   {
    "duration": 10,
    "start_time": "2024-07-09T02:26:33.643Z"
   },
   {
    "duration": 13,
    "start_time": "2024-07-09T02:26:33.654Z"
   },
   {
    "duration": 5,
    "start_time": "2024-07-09T02:26:33.670Z"
   },
   {
    "duration": 4,
    "start_time": "2024-07-09T02:26:33.676Z"
   },
   {
    "duration": 7,
    "start_time": "2024-07-09T02:26:33.681Z"
   },
   {
    "duration": 298,
    "start_time": "2024-07-09T02:26:33.690Z"
   },
   {
    "duration": 1153,
    "start_time": "2024-07-09T02:28:56.356Z"
   },
   {
    "duration": 47,
    "start_time": "2024-07-09T02:28:57.510Z"
   },
   {
    "duration": 6,
    "start_time": "2024-07-09T02:28:57.558Z"
   },
   {
    "duration": 7,
    "start_time": "2024-07-09T02:28:57.566Z"
   },
   {
    "duration": 9,
    "start_time": "2024-07-09T02:28:57.574Z"
   },
   {
    "duration": 4,
    "start_time": "2024-07-09T02:28:57.584Z"
   },
   {
    "duration": 6,
    "start_time": "2024-07-09T02:28:57.589Z"
   },
   {
    "duration": 8,
    "start_time": "2024-07-09T02:28:57.596Z"
   },
   {
    "duration": 543,
    "start_time": "2024-07-09T02:28:57.605Z"
   },
   {
    "duration": 7,
    "start_time": "2024-07-09T02:29:11.756Z"
   },
   {
    "duration": 7,
    "start_time": "2024-07-09T02:29:44.825Z"
   },
   {
    "duration": 7,
    "start_time": "2024-07-09T02:30:06.941Z"
   },
   {
    "duration": 122,
    "start_time": "2024-07-09T02:30:12.841Z"
   },
   {
    "duration": 7,
    "start_time": "2024-07-09T02:30:20.013Z"
   },
   {
    "duration": 7,
    "start_time": "2024-07-09T02:30:36.780Z"
   },
   {
    "duration": 14,
    "start_time": "2024-07-09T02:31:39.357Z"
   },
   {
    "duration": 14,
    "start_time": "2024-07-09T02:32:12.039Z"
   },
   {
    "duration": 15,
    "start_time": "2024-07-09T02:35:28.404Z"
   },
   {
    "duration": 24,
    "start_time": "2024-07-09T02:35:34.004Z"
   },
   {
    "duration": 25,
    "start_time": "2024-07-09T02:36:03.831Z"
   },
   {
    "duration": 24,
    "start_time": "2024-07-09T02:36:14.752Z"
   },
   {
    "duration": 73,
    "start_time": "2024-07-09T02:38:15.212Z"
   },
   {
    "duration": 49,
    "start_time": "2024-07-09T02:38:39.502Z"
   },
   {
    "duration": 19,
    "start_time": "2024-07-09T02:38:58.273Z"
   },
   {
    "duration": 53,
    "start_time": "2024-07-09T02:39:15.153Z"
   },
   {
    "duration": 24,
    "start_time": "2024-07-09T02:39:21.536Z"
   },
   {
    "duration": 24,
    "start_time": "2024-07-09T02:39:35.459Z"
   },
   {
    "duration": 23,
    "start_time": "2024-07-09T02:39:43.384Z"
   },
   {
    "duration": 25,
    "start_time": "2024-07-09T02:39:48.776Z"
   },
   {
    "duration": 47,
    "start_time": "2024-07-09T02:40:15.311Z"
   },
   {
    "duration": 24,
    "start_time": "2024-07-09T02:40:22.092Z"
   },
   {
    "duration": 34,
    "start_time": "2024-07-09T02:40:41.089Z"
   },
   {
    "duration": 26,
    "start_time": "2024-07-09T02:40:48.025Z"
   },
   {
    "duration": 22,
    "start_time": "2024-07-09T02:40:52.740Z"
   },
   {
    "duration": 31,
    "start_time": "2024-07-09T02:41:02.456Z"
   },
   {
    "duration": 25,
    "start_time": "2024-07-09T02:41:23.253Z"
   },
   {
    "duration": 23,
    "start_time": "2024-07-09T02:41:31.384Z"
   },
   {
    "duration": 24,
    "start_time": "2024-07-09T02:41:47.271Z"
   },
   {
    "duration": 23,
    "start_time": "2024-07-09T02:41:59.565Z"
   },
   {
    "duration": 26,
    "start_time": "2024-07-09T02:42:11.469Z"
   },
   {
    "duration": 5,
    "start_time": "2024-07-09T02:42:23.904Z"
   },
   {
    "duration": 189,
    "start_time": "2024-07-09T02:42:24.100Z"
   },
   {
    "duration": 177,
    "start_time": "2024-07-09T02:42:33.830Z"
   },
   {
    "duration": 3,
    "start_time": "2024-07-09T02:43:34.267Z"
   },
   {
    "duration": 6,
    "start_time": "2024-07-09T02:43:36.420Z"
   },
   {
    "duration": 182,
    "start_time": "2024-07-09T02:43:39.000Z"
   },
   {
    "duration": 25,
    "start_time": "2024-07-09T02:46:21.801Z"
   },
   {
    "duration": 24,
    "start_time": "2024-07-09T02:46:48.580Z"
   },
   {
    "duration": 3,
    "start_time": "2024-07-09T03:42:23.224Z"
   },
   {
    "duration": 46,
    "start_time": "2024-07-09T03:42:24.692Z"
   },
   {
    "duration": 35,
    "start_time": "2024-07-09T03:42:25.465Z"
   },
   {
    "duration": 5,
    "start_time": "2024-07-09T03:42:27.029Z"
   },
   {
    "duration": 213,
    "start_time": "2024-07-09T03:42:28.378Z"
   },
   {
    "duration": 8,
    "start_time": "2024-07-09T03:43:00.076Z"
   },
   {
    "duration": 19,
    "start_time": "2024-07-09T03:43:33.292Z"
   },
   {
    "duration": 15,
    "start_time": "2024-07-09T03:43:37.883Z"
   },
   {
    "duration": 10,
    "start_time": "2024-07-09T03:44:48.988Z"
   },
   {
    "duration": 47,
    "start_time": "2024-07-09T03:45:22.084Z"
   },
   {
    "duration": 291,
    "start_time": "2024-07-09T03:45:27.399Z"
   },
   {
    "duration": 276,
    "start_time": "2024-07-09T03:45:36.661Z"
   },
   {
    "duration": 4,
    "start_time": "2024-07-09T03:46:50.015Z"
   },
   {
    "duration": 236,
    "start_time": "2024-07-09T03:46:55.464Z"
   },
   {
    "duration": 341,
    "start_time": "2024-07-09T03:46:59.645Z"
   },
   {
    "duration": 4,
    "start_time": "2024-07-09T03:47:26.417Z"
   },
   {
    "duration": 231,
    "start_time": "2024-07-09T03:47:30.180Z"
   },
   {
    "duration": 362,
    "start_time": "2024-07-09T03:47:32.360Z"
   },
   {
    "duration": 266,
    "start_time": "2024-07-09T03:51:33.879Z"
   },
   {
    "duration": 221,
    "start_time": "2024-07-09T03:51:34.163Z"
   },
   {
    "duration": 375,
    "start_time": "2024-07-09T03:51:37.268Z"
   },
   {
    "duration": 1188,
    "start_time": "2024-07-09T03:53:14.774Z"
   },
   {
    "duration": 46,
    "start_time": "2024-07-09T03:53:15.964Z"
   },
   {
    "duration": 27,
    "start_time": "2024-07-09T03:53:16.011Z"
   },
   {
    "duration": 7,
    "start_time": "2024-07-09T03:53:16.040Z"
   },
   {
    "duration": 323,
    "start_time": "2024-07-09T03:53:16.048Z"
   },
   {
    "duration": 358,
    "start_time": "2024-07-09T03:53:16.373Z"
   },
   {
    "duration": 438,
    "start_time": "2024-07-09T03:53:16.733Z"
   },
   {
    "duration": 241,
    "start_time": "2024-07-09T03:53:17.172Z"
   },
   {
    "duration": 248,
    "start_time": "2024-07-09T03:53:17.415Z"
   },
   {
    "duration": 4,
    "start_time": "2024-07-09T03:55:07.324Z"
   },
   {
    "duration": 1133,
    "start_time": "2024-07-09T03:55:12.812Z"
   },
   {
    "duration": 48,
    "start_time": "2024-07-09T03:55:13.946Z"
   },
   {
    "duration": 30,
    "start_time": "2024-07-09T03:55:13.996Z"
   },
   {
    "duration": 8,
    "start_time": "2024-07-09T03:55:14.028Z"
   },
   {
    "duration": 346,
    "start_time": "2024-07-09T03:55:14.037Z"
   },
   {
    "duration": 361,
    "start_time": "2024-07-09T03:55:14.385Z"
   },
   {
    "duration": 446,
    "start_time": "2024-07-09T03:55:14.747Z"
   },
   {
    "duration": 228,
    "start_time": "2024-07-09T03:55:15.195Z"
   },
   {
    "duration": 232,
    "start_time": "2024-07-09T03:55:15.424Z"
   },
   {
    "duration": 208,
    "start_time": "2024-07-09T03:59:55.100Z"
   },
   {
    "duration": 1198,
    "start_time": "2024-07-09T04:01:12.260Z"
   },
   {
    "duration": 46,
    "start_time": "2024-07-09T04:01:13.460Z"
   },
   {
    "duration": 29,
    "start_time": "2024-07-09T04:01:13.507Z"
   },
   {
    "duration": 7,
    "start_time": "2024-07-09T04:01:13.538Z"
   },
   {
    "duration": 350,
    "start_time": "2024-07-09T04:01:13.546Z"
   },
   {
    "duration": 392,
    "start_time": "2024-07-09T04:01:13.897Z"
   },
   {
    "duration": 446,
    "start_time": "2024-07-09T04:01:14.290Z"
   },
   {
    "duration": 235,
    "start_time": "2024-07-09T04:01:14.738Z"
   },
   {
    "duration": 227,
    "start_time": "2024-07-09T04:01:14.975Z"
   },
   {
    "duration": 240,
    "start_time": "2024-07-09T04:02:14.679Z"
   },
   {
    "duration": 233,
    "start_time": "2024-07-09T04:02:33.456Z"
   },
   {
    "duration": 9538,
    "start_time": "2024-07-09T04:05:27.135Z"
   },
   {
    "duration": 12,
    "start_time": "2024-07-09T04:05:36.675Z"
   },
   {
    "duration": 528,
    "start_time": "2024-07-09T04:09:51.686Z"
   },
   {
    "duration": 7,
    "start_time": "2024-07-09T04:12:21.351Z"
   },
   {
    "duration": 46,
    "start_time": "2024-07-09T04:12:23.962Z"
   },
   {
    "duration": 25,
    "start_time": "2024-07-09T04:12:24.299Z"
   },
   {
    "duration": 6,
    "start_time": "2024-07-09T04:12:25.062Z"
   },
   {
    "duration": 527,
    "start_time": "2024-07-09T04:12:25.874Z"
   },
   {
    "duration": 363,
    "start_time": "2024-07-09T04:12:28.038Z"
   },
   {
    "duration": 389,
    "start_time": "2024-07-09T04:12:28.403Z"
   },
   {
    "duration": 226,
    "start_time": "2024-07-09T04:12:29.006Z"
   },
   {
    "duration": 271,
    "start_time": "2024-07-09T04:12:29.502Z"
   },
   {
    "duration": 7,
    "start_time": "2024-07-09T04:12:30.083Z"
   },
   {
    "duration": 4,
    "start_time": "2024-07-09T04:12:31.998Z"
   },
   {
    "duration": 3,
    "start_time": "2024-07-09T04:14:47.486Z"
   },
   {
    "duration": 6,
    "start_time": "2024-07-09T04:15:11.867Z"
   },
   {
    "duration": 4,
    "start_time": "2024-07-09T04:15:13.003Z"
   },
   {
    "duration": 524,
    "start_time": "2024-07-09T04:15:51.907Z"
   },
   {
    "duration": 124,
    "start_time": "2024-07-09T04:16:35.830Z"
   },
   {
    "duration": 1131,
    "start_time": "2024-07-09T04:19:18.297Z"
   },
   {
    "duration": 3,
    "start_time": "2024-07-09T04:19:19.430Z"
   },
   {
    "duration": 51,
    "start_time": "2024-07-09T04:19:19.434Z"
   },
   {
    "duration": 30,
    "start_time": "2024-07-09T04:19:19.487Z"
   },
   {
    "duration": 8,
    "start_time": "2024-07-09T04:19:19.518Z"
   },
   {
    "duration": 622,
    "start_time": "2024-07-09T04:19:19.527Z"
   },
   {
    "duration": 6,
    "start_time": "2024-07-09T04:19:20.151Z"
   },
   {
    "duration": 584,
    "start_time": "2024-07-09T04:19:20.158Z"
   },
   {
    "duration": 557,
    "start_time": "2024-07-09T04:19:20.743Z"
   },
   {
    "duration": 237,
    "start_time": "2024-07-09T04:19:21.302Z"
   },
   {
    "duration": 231,
    "start_time": "2024-07-09T04:19:21.540Z"
   },
   {
    "duration": 6,
    "start_time": "2024-07-09T04:19:21.772Z"
   },
   {
    "duration": 6,
    "start_time": "2024-07-09T04:19:21.779Z"
   },
   {
    "duration": 4,
    "start_time": "2024-07-09T04:19:21.786Z"
   },
   {
    "duration": 9558,
    "start_time": "2024-07-09T04:19:21.791Z"
   },
   {
    "duration": 12,
    "start_time": "2024-07-09T04:19:31.350Z"
   },
   {
    "duration": 3,
    "start_time": "2024-07-09T04:21:37.020Z"
   },
   {
    "duration": 108,
    "start_time": "2024-07-09T04:21:41.638Z"
   },
   {
    "duration": 3,
    "start_time": "2024-07-09T04:21:55.212Z"
   },
   {
    "duration": 2,
    "start_time": "2024-07-09T04:21:59.844Z"
   },
   {
    "duration": 542,
    "start_time": "2024-07-09T04:22:04.764Z"
   },
   {
    "duration": 516,
    "start_time": "2024-07-09T04:22:12.056Z"
   },
   {
    "duration": 530,
    "start_time": "2024-07-09T04:22:18.457Z"
   },
   {
    "duration": 232,
    "start_time": "2024-07-09T04:22:25.531Z"
   },
   {
    "duration": 218,
    "start_time": "2024-07-09T04:22:32.266Z"
   },
   {
    "duration": 3,
    "start_time": "2024-07-09T04:24:07.624Z"
   },
   {
    "duration": 44,
    "start_time": "2024-07-09T04:24:09.108Z"
   },
   {
    "duration": 27,
    "start_time": "2024-07-09T04:24:09.260Z"
   },
   {
    "duration": 6,
    "start_time": "2024-07-09T04:24:09.640Z"
   },
   {
    "duration": 529,
    "start_time": "2024-07-09T04:24:10.860Z"
   },
   {
    "duration": 6,
    "start_time": "2024-07-09T04:24:15.200Z"
   },
   {
    "duration": 579,
    "start_time": "2024-07-09T04:24:15.412Z"
   },
   {
    "duration": 545,
    "start_time": "2024-07-09T04:24:15.999Z"
   },
   {
    "duration": 249,
    "start_time": "2024-07-09T04:24:16.545Z"
   },
   {
    "duration": 224,
    "start_time": "2024-07-09T04:24:16.796Z"
   },
   {
    "duration": 1113,
    "start_time": "2024-07-09T04:30:22.625Z"
   },
   {
    "duration": 3,
    "start_time": "2024-07-09T04:30:23.739Z"
   },
   {
    "duration": 77,
    "start_time": "2024-07-09T04:30:23.743Z"
   },
   {
    "duration": 30,
    "start_time": "2024-07-09T04:30:23.823Z"
   },
   {
    "duration": 7,
    "start_time": "2024-07-09T04:30:23.854Z"
   },
   {
    "duration": 597,
    "start_time": "2024-07-09T04:30:23.862Z"
   },
   {
    "duration": 10,
    "start_time": "2024-07-09T04:30:24.461Z"
   },
   {
    "duration": 558,
    "start_time": "2024-07-09T04:30:24.472Z"
   },
   {
    "duration": 536,
    "start_time": "2024-07-09T04:30:25.031Z"
   },
   {
    "duration": 246,
    "start_time": "2024-07-09T04:30:25.577Z"
   },
   {
    "duration": 220,
    "start_time": "2024-07-09T04:30:25.824Z"
   },
   {
    "duration": 5,
    "start_time": "2024-07-09T04:30:26.045Z"
   },
   {
    "duration": 3,
    "start_time": "2024-07-09T04:30:26.051Z"
   },
   {
    "duration": 18,
    "start_time": "2024-07-09T04:30:26.055Z"
   },
   {
    "duration": 8,
    "start_time": "2024-07-09T04:30:26.074Z"
   },
   {
    "duration": 115,
    "start_time": "2024-07-09T04:30:26.084Z"
   },
   {
    "duration": 0,
    "start_time": "2024-07-09T04:30:26.200Z"
   },
   {
    "duration": 0,
    "start_time": "2024-07-09T04:30:26.201Z"
   },
   {
    "duration": 4,
    "start_time": "2024-07-09T04:31:16.578Z"
   },
   {
    "duration": 15,
    "start_time": "2024-07-09T04:31:26.074Z"
   },
   {
    "duration": 18268,
    "start_time": "2024-07-09T04:31:29.310Z"
   },
   {
    "duration": 12,
    "start_time": "2024-07-09T04:31:47.580Z"
   },
   {
    "duration": 52,
    "start_time": "2024-07-09T04:44:59.458Z"
   },
   {
    "duration": 1201,
    "start_time": "2024-07-09T04:47:03.645Z"
   },
   {
    "duration": 3,
    "start_time": "2024-07-09T04:47:04.848Z"
   },
   {
    "duration": 103,
    "start_time": "2024-07-09T04:47:04.852Z"
   },
   {
    "duration": 28,
    "start_time": "2024-07-09T04:47:04.957Z"
   },
   {
    "duration": 6,
    "start_time": "2024-07-09T04:47:04.986Z"
   },
   {
    "duration": 651,
    "start_time": "2024-07-09T04:47:04.994Z"
   },
   {
    "duration": 6,
    "start_time": "2024-07-09T04:47:05.647Z"
   },
   {
    "duration": 564,
    "start_time": "2024-07-09T04:47:05.655Z"
   },
   {
    "duration": 561,
    "start_time": "2024-07-09T04:47:06.221Z"
   },
   {
    "duration": 248,
    "start_time": "2024-07-09T04:47:06.785Z"
   },
   {
    "duration": 236,
    "start_time": "2024-07-09T04:47:07.035Z"
   },
   {
    "duration": 7,
    "start_time": "2024-07-09T04:47:07.272Z"
   },
   {
    "duration": 50,
    "start_time": "2024-07-09T04:47:07.280Z"
   },
   {
    "duration": 15,
    "start_time": "2024-07-09T04:47:07.331Z"
   },
   {
    "duration": 15,
    "start_time": "2024-07-09T04:47:07.347Z"
   },
   {
    "duration": 17,
    "start_time": "2024-07-09T04:47:07.363Z"
   },
   {
    "duration": 18188,
    "start_time": "2024-07-09T04:47:07.381Z"
   },
   {
    "duration": 12,
    "start_time": "2024-07-09T04:47:25.570Z"
   },
   {
    "duration": 3,
    "start_time": "2024-07-09T04:47:25.583Z"
   },
   {
    "duration": 228,
    "start_time": "2024-07-09T04:54:14.624Z"
   },
   {
    "duration": 218,
    "start_time": "2024-07-09T04:56:10.361Z"
   },
   {
    "duration": 33,
    "start_time": "2024-07-09T05:09:48.147Z"
   },
   {
    "duration": 31,
    "start_time": "2024-07-09T05:10:18.657Z"
   },
   {
    "duration": 5,
    "start_time": "2024-07-09T05:10:18.961Z"
   },
   {
    "duration": 542,
    "start_time": "2024-07-09T05:10:19.486Z"
   },
   {
    "duration": 125,
    "start_time": "2024-07-09T05:10:20.030Z"
   },
   {
    "duration": 509,
    "start_time": "2024-07-09T05:10:20.528Z"
   },
   {
    "duration": 1155,
    "start_time": "2024-07-09T05:10:27.289Z"
   },
   {
    "duration": 3,
    "start_time": "2024-07-09T05:10:28.446Z"
   },
   {
    "duration": 48,
    "start_time": "2024-07-09T05:10:28.450Z"
   },
   {
    "duration": 29,
    "start_time": "2024-07-09T05:10:28.500Z"
   },
   {
    "duration": 6,
    "start_time": "2024-07-09T05:10:28.531Z"
   },
   {
    "duration": 628,
    "start_time": "2024-07-09T05:10:28.538Z"
   },
   {
    "duration": 5,
    "start_time": "2024-07-09T05:10:29.172Z"
   },
   {
    "duration": 560,
    "start_time": "2024-07-09T05:10:29.179Z"
   },
   {
    "duration": 544,
    "start_time": "2024-07-09T05:10:29.741Z"
   },
   {
    "duration": 263,
    "start_time": "2024-07-09T05:10:30.287Z"
   },
   {
    "duration": 246,
    "start_time": "2024-07-09T05:10:30.551Z"
   },
   {
    "duration": 4,
    "start_time": "2024-07-09T05:10:30.798Z"
   },
   {
    "duration": 31,
    "start_time": "2024-07-09T05:10:30.804Z"
   },
   {
    "duration": 25,
    "start_time": "2024-07-09T05:10:30.837Z"
   },
   {
    "duration": 76,
    "start_time": "2024-07-09T05:10:30.863Z"
   },
   {
    "duration": 64,
    "start_time": "2024-07-09T05:10:30.940Z"
   },
   {
    "duration": 18039,
    "start_time": "2024-07-09T05:10:31.005Z"
   },
   {
    "duration": 14,
    "start_time": "2024-07-09T05:10:49.046Z"
   },
   {
    "duration": 11,
    "start_time": "2024-07-09T05:10:49.061Z"
   },
   {
    "duration": 8,
    "start_time": "2024-07-09T05:18:01.828Z"
   },
   {
    "duration": 228,
    "start_time": "2024-07-09T05:18:09.124Z"
   },
   {
    "duration": 230,
    "start_time": "2024-07-09T05:18:17.420Z"
   },
   {
    "duration": 3,
    "start_time": "2024-07-09T05:21:55.864Z"
   },
   {
    "duration": 141,
    "start_time": "2024-07-09T05:21:57.191Z"
   },
   {
    "duration": 4,
    "start_time": "2024-07-09T05:22:05.063Z"
   },
   {
    "duration": 4,
    "start_time": "2024-07-09T05:22:06.215Z"
   },
   {
    "duration": 178,
    "start_time": "2024-07-09T05:22:27.241Z"
   },
   {
    "duration": 1228,
    "start_time": "2024-07-09T05:31:20.458Z"
   },
   {
    "duration": 3,
    "start_time": "2024-07-09T05:31:21.688Z"
   },
   {
    "duration": 48,
    "start_time": "2024-07-09T05:31:21.692Z"
   },
   {
    "duration": 28,
    "start_time": "2024-07-09T05:31:21.742Z"
   },
   {
    "duration": 7,
    "start_time": "2024-07-09T05:31:21.771Z"
   },
   {
    "duration": 620,
    "start_time": "2024-07-09T05:31:21.779Z"
   },
   {
    "duration": 6,
    "start_time": "2024-07-09T05:31:22.400Z"
   },
   {
    "duration": 580,
    "start_time": "2024-07-09T05:31:22.407Z"
   },
   {
    "duration": 534,
    "start_time": "2024-07-09T05:31:22.988Z"
   },
   {
    "duration": 242,
    "start_time": "2024-07-09T05:31:23.524Z"
   },
   {
    "duration": 243,
    "start_time": "2024-07-09T05:31:23.768Z"
   },
   {
    "duration": 122,
    "start_time": "2024-07-09T05:31:24.013Z"
   },
   {
    "duration": 0,
    "start_time": "2024-07-09T05:31:24.136Z"
   },
   {
    "duration": 0,
    "start_time": "2024-07-09T05:31:24.137Z"
   },
   {
    "duration": 0,
    "start_time": "2024-07-09T05:31:24.138Z"
   },
   {
    "duration": 0,
    "start_time": "2024-07-09T05:31:24.139Z"
   },
   {
    "duration": 0,
    "start_time": "2024-07-09T05:31:24.140Z"
   },
   {
    "duration": 0,
    "start_time": "2024-07-09T05:31:24.141Z"
   },
   {
    "duration": 0,
    "start_time": "2024-07-09T05:31:24.141Z"
   },
   {
    "duration": 0,
    "start_time": "2024-07-09T05:31:24.142Z"
   },
   {
    "duration": 0,
    "start_time": "2024-07-09T05:31:24.143Z"
   },
   {
    "duration": 0,
    "start_time": "2024-07-09T05:31:24.144Z"
   },
   {
    "duration": 0,
    "start_time": "2024-07-09T05:31:24.145Z"
   },
   {
    "duration": 6,
    "start_time": "2024-07-09T05:32:22.710Z"
   },
   {
    "duration": 4,
    "start_time": "2024-07-09T05:32:23.063Z"
   },
   {
    "duration": 156,
    "start_time": "2024-07-09T05:32:30.984Z"
   },
   {
    "duration": 1158,
    "start_time": "2024-07-09T05:33:11.226Z"
   },
   {
    "duration": 3,
    "start_time": "2024-07-09T05:33:12.386Z"
   },
   {
    "duration": 47,
    "start_time": "2024-07-09T05:33:12.390Z"
   },
   {
    "duration": 28,
    "start_time": "2024-07-09T05:33:12.439Z"
   },
   {
    "duration": 7,
    "start_time": "2024-07-09T05:33:12.468Z"
   },
   {
    "duration": 598,
    "start_time": "2024-07-09T05:33:12.476Z"
   },
   {
    "duration": 5,
    "start_time": "2024-07-09T05:33:13.075Z"
   },
   {
    "duration": 588,
    "start_time": "2024-07-09T05:33:13.082Z"
   },
   {
    "duration": 537,
    "start_time": "2024-07-09T05:33:13.672Z"
   },
   {
    "duration": 246,
    "start_time": "2024-07-09T05:33:14.212Z"
   },
   {
    "duration": 229,
    "start_time": "2024-07-09T05:33:14.459Z"
   },
   {
    "duration": 2,
    "start_time": "2024-07-09T05:33:14.690Z"
   },
   {
    "duration": 131,
    "start_time": "2024-07-09T05:33:14.693Z"
   },
   {
    "duration": 0,
    "start_time": "2024-07-09T05:33:14.826Z"
   },
   {
    "duration": 0,
    "start_time": "2024-07-09T05:33:14.826Z"
   },
   {
    "duration": 0,
    "start_time": "2024-07-09T05:33:14.828Z"
   },
   {
    "duration": 0,
    "start_time": "2024-07-09T05:33:14.828Z"
   },
   {
    "duration": 0,
    "start_time": "2024-07-09T05:33:14.829Z"
   },
   {
    "duration": 0,
    "start_time": "2024-07-09T05:33:14.831Z"
   },
   {
    "duration": 0,
    "start_time": "2024-07-09T05:33:14.831Z"
   },
   {
    "duration": 0,
    "start_time": "2024-07-09T05:33:14.832Z"
   },
   {
    "duration": 0,
    "start_time": "2024-07-09T05:33:14.833Z"
   },
   {
    "duration": 6,
    "start_time": "2024-07-09T05:33:53.014Z"
   },
   {
    "duration": 4,
    "start_time": "2024-07-09T05:33:53.548Z"
   },
   {
    "duration": 181,
    "start_time": "2024-07-09T05:33:54.738Z"
   },
   {
    "duration": 1352,
    "start_time": "2024-07-09T05:35:39.751Z"
   },
   {
    "duration": 4,
    "start_time": "2024-07-09T05:35:41.104Z"
   },
   {
    "duration": 48,
    "start_time": "2024-07-09T05:35:41.110Z"
   },
   {
    "duration": 32,
    "start_time": "2024-07-09T05:35:41.160Z"
   },
   {
    "duration": 7,
    "start_time": "2024-07-09T05:35:41.193Z"
   },
   {
    "duration": 613,
    "start_time": "2024-07-09T05:35:41.201Z"
   },
   {
    "duration": 5,
    "start_time": "2024-07-09T05:35:41.816Z"
   },
   {
    "duration": 556,
    "start_time": "2024-07-09T05:35:41.822Z"
   },
   {
    "duration": 555,
    "start_time": "2024-07-09T05:35:42.379Z"
   },
   {
    "duration": 240,
    "start_time": "2024-07-09T05:35:42.936Z"
   },
   {
    "duration": 217,
    "start_time": "2024-07-09T05:35:43.178Z"
   },
   {
    "duration": 5,
    "start_time": "2024-07-09T05:35:43.396Z"
   },
   {
    "duration": 3,
    "start_time": "2024-07-09T05:35:43.402Z"
   },
   {
    "duration": 191,
    "start_time": "2024-07-09T05:35:43.407Z"
   },
   {
    "duration": 4,
    "start_time": "2024-07-09T05:35:43.599Z"
   },
   {
    "duration": 6,
    "start_time": "2024-07-09T05:35:43.604Z"
   },
   {
    "duration": 8,
    "start_time": "2024-07-09T05:35:43.611Z"
   },
   {
    "duration": 20,
    "start_time": "2024-07-09T05:35:43.621Z"
   },
   {
    "duration": 17901,
    "start_time": "2024-07-09T05:35:43.642Z"
   },
   {
    "duration": 11,
    "start_time": "2024-07-09T05:36:01.544Z"
   },
   {
    "duration": 14,
    "start_time": "2024-07-09T05:36:01.556Z"
   },
   {
    "duration": 12,
    "start_time": "2024-07-09T05:41:13.907Z"
   },
   {
    "duration": 1163,
    "start_time": "2024-07-09T05:47:49.734Z"
   },
   {
    "duration": 3,
    "start_time": "2024-07-09T05:47:50.899Z"
   },
   {
    "duration": 78,
    "start_time": "2024-07-09T05:47:50.904Z"
   },
   {
    "duration": 48,
    "start_time": "2024-07-09T05:47:50.984Z"
   },
   {
    "duration": 7,
    "start_time": "2024-07-09T05:47:51.033Z"
   },
   {
    "duration": 611,
    "start_time": "2024-07-09T05:47:51.041Z"
   },
   {
    "duration": 6,
    "start_time": "2024-07-09T05:47:51.653Z"
   },
   {
    "duration": 568,
    "start_time": "2024-07-09T05:47:51.660Z"
   },
   {
    "duration": 546,
    "start_time": "2024-07-09T05:47:52.229Z"
   },
   {
    "duration": 241,
    "start_time": "2024-07-09T05:47:52.778Z"
   },
   {
    "duration": 229,
    "start_time": "2024-07-09T05:47:53.020Z"
   },
   {
    "duration": 5,
    "start_time": "2024-07-09T05:47:53.250Z"
   },
   {
    "duration": 16,
    "start_time": "2024-07-09T05:47:53.256Z"
   },
   {
    "duration": 191,
    "start_time": "2024-07-09T05:47:53.273Z"
   },
   {
    "duration": 7,
    "start_time": "2024-07-09T05:47:53.466Z"
   },
   {
    "duration": 6,
    "start_time": "2024-07-09T05:47:53.474Z"
   },
   {
    "duration": 8,
    "start_time": "2024-07-09T05:47:53.481Z"
   },
   {
    "duration": 15,
    "start_time": "2024-07-09T05:47:53.490Z"
   },
   {
    "duration": 17940,
    "start_time": "2024-07-09T05:47:53.506Z"
   },
   {
    "duration": 12,
    "start_time": "2024-07-09T05:48:11.448Z"
   },
   {
    "duration": 10,
    "start_time": "2024-07-09T05:48:11.461Z"
   },
   {
    "duration": 14,
    "start_time": "2024-07-09T08:01:41.382Z"
   },
   {
    "duration": 45,
    "start_time": "2024-07-09T08:01:42.677Z"
   },
   {
    "duration": 1864,
    "start_time": "2024-07-09T08:01:48.486Z"
   },
   {
    "duration": 5,
    "start_time": "2024-07-09T08:01:50.352Z"
   },
   {
    "duration": 207,
    "start_time": "2024-07-09T08:01:50.359Z"
   },
   {
    "duration": 37,
    "start_time": "2024-07-09T08:01:50.568Z"
   },
   {
    "duration": 12,
    "start_time": "2024-07-09T08:01:50.607Z"
   },
   {
    "duration": 782,
    "start_time": "2024-07-09T08:01:52.765Z"
   },
   {
    "duration": 15,
    "start_time": "2024-07-09T08:01:53.549Z"
   },
   {
    "duration": 592,
    "start_time": "2024-07-09T08:01:53.658Z"
   },
   {
    "duration": 604,
    "start_time": "2024-07-09T08:01:55.161Z"
   },
   {
    "duration": 327,
    "start_time": "2024-07-09T08:01:59.597Z"
   },
   {
    "duration": 284,
    "start_time": "2024-07-09T08:02:00.493Z"
   },
   {
    "duration": 5,
    "start_time": "2024-07-09T08:02:01.845Z"
   },
   {
    "duration": 27,
    "start_time": "2024-07-09T08:02:03.137Z"
   },
   {
    "duration": 5,
    "start_time": "2024-07-09T08:02:42.902Z"
   },
   {
    "duration": 237,
    "start_time": "2024-07-09T08:02:43.981Z"
   },
   {
    "duration": 4,
    "start_time": "2024-07-09T08:04:53.247Z"
   },
   {
    "duration": 4,
    "start_time": "2024-07-09T08:05:02.314Z"
   },
   {
    "duration": 7,
    "start_time": "2024-07-09T08:05:04.414Z"
   },
   {
    "duration": 15,
    "start_time": "2024-07-09T08:07:07.746Z"
   },
   {
    "duration": 318,
    "start_time": "2024-07-09T08:07:11.137Z"
   },
   {
    "duration": 1588,
    "start_time": "2024-07-09T08:10:00.251Z"
   },
   {
    "duration": 4,
    "start_time": "2024-07-09T08:10:01.841Z"
   },
   {
    "duration": 371,
    "start_time": "2024-07-09T08:10:01.846Z"
   },
   {
    "duration": 114,
    "start_time": "2024-07-09T08:10:02.219Z"
   },
   {
    "duration": 9,
    "start_time": "2024-07-09T08:10:02.335Z"
   },
   {
    "duration": 696,
    "start_time": "2024-07-09T08:10:02.345Z"
   },
   {
    "duration": 13,
    "start_time": "2024-07-09T08:10:03.042Z"
   },
   {
    "duration": 656,
    "start_time": "2024-07-09T08:10:03.057Z"
   },
   {
    "duration": 628,
    "start_time": "2024-07-09T08:10:03.715Z"
   },
   {
    "duration": 293,
    "start_time": "2024-07-09T08:10:04.345Z"
   },
   {
    "duration": 297,
    "start_time": "2024-07-09T08:10:04.640Z"
   },
   {
    "duration": 4,
    "start_time": "2024-07-09T08:10:04.938Z"
   },
   {
    "duration": 58,
    "start_time": "2024-07-09T08:10:04.943Z"
   },
   {
    "duration": 5,
    "start_time": "2024-07-09T08:10:05.005Z"
   },
   {
    "duration": 224,
    "start_time": "2024-07-09T08:10:05.012Z"
   },
   {
    "duration": 4,
    "start_time": "2024-07-09T08:10:05.237Z"
   },
   {
    "duration": 12,
    "start_time": "2024-07-09T08:10:05.243Z"
   },
   {
    "duration": 16,
    "start_time": "2024-07-09T08:10:05.257Z"
   },
   {
    "duration": 582,
    "start_time": "2024-07-09T08:10:05.275Z"
   },
   {
    "duration": 165227,
    "start_time": "2024-07-09T08:10:05.859Z"
   },
   {
    "duration": 37,
    "start_time": "2024-07-09T08:12:51.087Z"
   },
   {
    "duration": 639,
    "start_time": "2024-07-09T08:12:51.125Z"
   },
   {
    "duration": 4,
    "start_time": "2024-07-09T08:12:51.765Z"
   },
   {
    "duration": 407,
    "start_time": "2024-07-09T08:15:31.140Z"
   },
   {
    "duration": 428,
    "start_time": "2024-07-09T08:16:48.910Z"
   },
   {
    "duration": 5,
    "start_time": "2024-07-09T08:17:30.344Z"
   },
   {
    "duration": 1563,
    "start_time": "2024-07-09T08:17:35.721Z"
   },
   {
    "duration": 4,
    "start_time": "2024-07-09T08:17:37.286Z"
   },
   {
    "duration": 89,
    "start_time": "2024-07-09T08:17:37.292Z"
   },
   {
    "duration": 90,
    "start_time": "2024-07-09T08:17:37.384Z"
   },
   {
    "duration": 8,
    "start_time": "2024-07-09T08:17:37.476Z"
   },
   {
    "duration": 1385,
    "start_time": "2024-07-09T08:17:37.485Z"
   },
   {
    "duration": 8,
    "start_time": "2024-07-09T08:17:38.871Z"
   },
   {
    "duration": 1403,
    "start_time": "2024-07-09T08:17:38.881Z"
   },
   {
    "duration": 767,
    "start_time": "2024-07-09T08:17:40.285Z"
   },
   {
    "duration": 302,
    "start_time": "2024-07-09T08:17:41.054Z"
   },
   {
    "duration": 274,
    "start_time": "2024-07-09T08:17:41.357Z"
   },
   {
    "duration": 5,
    "start_time": "2024-07-09T08:17:41.632Z"
   },
   {
    "duration": 41,
    "start_time": "2024-07-09T08:17:41.638Z"
   },
   {
    "duration": 5,
    "start_time": "2024-07-09T08:17:41.680Z"
   },
   {
    "duration": 236,
    "start_time": "2024-07-09T08:17:41.686Z"
   },
   {
    "duration": 5,
    "start_time": "2024-07-09T08:17:41.924Z"
   },
   {
    "duration": 27,
    "start_time": "2024-07-09T08:17:41.931Z"
   },
   {
    "duration": 31,
    "start_time": "2024-07-09T08:17:41.960Z"
   },
   {
    "duration": 473,
    "start_time": "2024-07-09T08:17:41.992Z"
   },
   {
    "duration": 165869,
    "start_time": "2024-07-09T08:17:42.557Z"
   },
   {
    "duration": 40,
    "start_time": "2024-07-09T08:20:28.428Z"
   },
   {
    "duration": 474,
    "start_time": "2024-07-09T08:20:28.470Z"
   },
   {
    "duration": 4,
    "start_time": "2024-07-09T08:20:28.945Z"
   },
   {
    "duration": 97,
    "start_time": "2024-07-09T08:20:41.801Z"
   },
   {
    "duration": 883,
    "start_time": "2024-07-09T08:23:41.473Z"
   },
   {
    "duration": 52,
    "start_time": "2024-07-09T08:23:47.112Z"
   },
   {
    "duration": 98,
    "start_time": "2024-07-09T08:23:51.760Z"
   },
   {
    "duration": 56,
    "start_time": "2024-07-09T08:23:55.609Z"
   },
   {
    "duration": 486,
    "start_time": "2024-07-09T08:23:58.877Z"
   },
   {
    "duration": 252,
    "start_time": "2024-07-09T08:24:03.012Z"
   },
   {
    "duration": 95,
    "start_time": "2024-07-09T08:24:52.453Z"
   },
   {
    "duration": 1487,
    "start_time": "2024-07-09T08:30:22.286Z"
   },
   {
    "duration": 4,
    "start_time": "2024-07-09T08:30:23.775Z"
   },
   {
    "duration": 57,
    "start_time": "2024-07-09T08:30:23.780Z"
   },
   {
    "duration": 35,
    "start_time": "2024-07-09T08:30:23.840Z"
   },
   {
    "duration": 9,
    "start_time": "2024-07-09T08:30:23.876Z"
   },
   {
    "duration": 704,
    "start_time": "2024-07-09T08:30:23.886Z"
   },
   {
    "duration": 11,
    "start_time": "2024-07-09T08:30:24.592Z"
   },
   {
    "duration": 668,
    "start_time": "2024-07-09T08:30:24.605Z"
   },
   {
    "duration": 609,
    "start_time": "2024-07-09T08:30:25.275Z"
   },
   {
    "duration": 336,
    "start_time": "2024-07-09T08:30:25.887Z"
   },
   {
    "duration": 291,
    "start_time": "2024-07-09T08:30:26.225Z"
   },
   {
    "duration": 4,
    "start_time": "2024-07-09T08:30:26.517Z"
   },
   {
    "duration": 35,
    "start_time": "2024-07-09T08:30:26.522Z"
   },
   {
    "duration": 4,
    "start_time": "2024-07-09T08:30:26.559Z"
   },
   {
    "duration": 247,
    "start_time": "2024-07-09T08:30:26.564Z"
   },
   {
    "duration": 4,
    "start_time": "2024-07-09T08:30:26.813Z"
   },
   {
    "duration": 17,
    "start_time": "2024-07-09T08:30:26.818Z"
   },
   {
    "duration": 22,
    "start_time": "2024-07-09T08:30:26.837Z"
   },
   {
    "duration": 295,
    "start_time": "2024-07-09T08:30:26.860Z"
   },
   {
    "duration": 1578,
    "start_time": "2024-07-09T08:42:27.762Z"
   },
   {
    "duration": 5,
    "start_time": "2024-07-09T08:42:29.343Z"
   },
   {
    "duration": 63,
    "start_time": "2024-07-09T08:42:29.349Z"
   },
   {
    "duration": 38,
    "start_time": "2024-07-09T08:42:29.414Z"
   },
   {
    "duration": 10,
    "start_time": "2024-07-09T08:42:29.453Z"
   },
   {
    "duration": 747,
    "start_time": "2024-07-09T08:42:29.465Z"
   },
   {
    "duration": 8,
    "start_time": "2024-07-09T08:42:30.214Z"
   },
   {
    "duration": 841,
    "start_time": "2024-07-09T08:42:30.224Z"
   },
   {
    "duration": 639,
    "start_time": "2024-07-09T08:42:31.067Z"
   },
   {
    "duration": 307,
    "start_time": "2024-07-09T08:42:31.709Z"
   },
   {
    "duration": 340,
    "start_time": "2024-07-09T08:42:32.018Z"
   },
   {
    "duration": 4,
    "start_time": "2024-07-09T08:42:32.360Z"
   },
   {
    "duration": 56,
    "start_time": "2024-07-09T08:42:32.366Z"
   },
   {
    "duration": 14,
    "start_time": "2024-07-09T08:42:32.424Z"
   },
   {
    "duration": 247,
    "start_time": "2024-07-09T08:42:32.440Z"
   },
   {
    "duration": 5,
    "start_time": "2024-07-09T08:42:32.689Z"
   },
   {
    "duration": 40,
    "start_time": "2024-07-09T08:42:32.695Z"
   },
   {
    "duration": 16,
    "start_time": "2024-07-09T08:42:32.737Z"
   },
   {
    "duration": 604,
    "start_time": "2024-07-09T08:42:32.755Z"
   },
   {
    "duration": 195154,
    "start_time": "2024-07-09T08:42:33.361Z"
   },
   {
    "duration": 21,
    "start_time": "2024-07-09T08:45:48.517Z"
   },
   {
    "duration": 493,
    "start_time": "2024-07-09T08:45:48.539Z"
   },
   {
    "duration": 4,
    "start_time": "2024-07-09T08:45:49.034Z"
   },
   {
    "duration": 1565,
    "start_time": "2024-07-09T10:15:48.704Z"
   },
   {
    "duration": 5,
    "start_time": "2024-07-09T10:15:50.271Z"
   },
   {
    "duration": 68,
    "start_time": "2024-07-09T10:15:50.278Z"
   },
   {
    "duration": 34,
    "start_time": "2024-07-09T10:15:50.348Z"
   },
   {
    "duration": 8,
    "start_time": "2024-07-09T10:15:50.384Z"
   },
   {
    "duration": 684,
    "start_time": "2024-07-09T10:15:50.394Z"
   },
   {
    "duration": 6,
    "start_time": "2024-07-09T10:15:51.080Z"
   },
   {
    "duration": 654,
    "start_time": "2024-07-09T10:15:51.088Z"
   },
   {
    "duration": 620,
    "start_time": "2024-07-09T10:15:51.743Z"
   },
   {
    "duration": 292,
    "start_time": "2024-07-09T10:15:52.366Z"
   },
   {
    "duration": 270,
    "start_time": "2024-07-09T10:15:52.660Z"
   },
   {
    "duration": 6,
    "start_time": "2024-07-09T10:15:52.932Z"
   },
   {
    "duration": 34,
    "start_time": "2024-07-09T10:15:52.940Z"
   },
   {
    "duration": 4,
    "start_time": "2024-07-09T10:15:52.975Z"
   },
   {
    "duration": 346,
    "start_time": "2024-07-09T10:15:52.981Z"
   },
   {
    "duration": 5,
    "start_time": "2024-07-09T10:15:53.329Z"
   },
   {
    "duration": 9,
    "start_time": "2024-07-09T10:15:53.336Z"
   },
   {
    "duration": 11,
    "start_time": "2024-07-09T10:15:53.355Z"
   },
   {
    "duration": 201,
    "start_time": "2024-07-09T10:15:53.368Z"
   },
   {
    "duration": 1543,
    "start_time": "2024-07-09T10:54:18.023Z"
   },
   {
    "duration": 4,
    "start_time": "2024-07-09T10:54:19.568Z"
   },
   {
    "duration": 80,
    "start_time": "2024-07-09T10:54:19.574Z"
   },
   {
    "duration": 37,
    "start_time": "2024-07-09T10:54:19.656Z"
   },
   {
    "duration": 11,
    "start_time": "2024-07-09T10:54:19.695Z"
   },
   {
    "duration": 1270,
    "start_time": "2024-07-09T10:54:19.708Z"
   },
   {
    "duration": 7,
    "start_time": "2024-07-09T10:54:20.980Z"
   },
   {
    "duration": 973,
    "start_time": "2024-07-09T10:54:20.988Z"
   },
   {
    "duration": 606,
    "start_time": "2024-07-09T10:54:21.962Z"
   },
   {
    "duration": 296,
    "start_time": "2024-07-09T10:54:22.572Z"
   },
   {
    "duration": 288,
    "start_time": "2024-07-09T10:54:22.870Z"
   },
   {
    "duration": 4,
    "start_time": "2024-07-09T10:54:23.160Z"
   },
   {
    "duration": 54,
    "start_time": "2024-07-09T10:54:23.165Z"
   },
   {
    "duration": 4,
    "start_time": "2024-07-09T10:54:23.221Z"
   },
   {
    "duration": 246,
    "start_time": "2024-07-09T10:54:23.227Z"
   },
   {
    "duration": 4,
    "start_time": "2024-07-09T10:54:23.475Z"
   },
   {
    "duration": 20,
    "start_time": "2024-07-09T10:54:23.480Z"
   },
   {
    "duration": 18,
    "start_time": "2024-07-09T10:54:23.502Z"
   },
   {
    "duration": 535,
    "start_time": "2024-07-09T10:54:23.522Z"
   },
   {
    "duration": 1476,
    "start_time": "2024-07-09T11:17:21.092Z"
   },
   {
    "duration": 6,
    "start_time": "2024-07-09T11:17:22.570Z"
   },
   {
    "duration": 58,
    "start_time": "2024-07-09T11:17:22.577Z"
   },
   {
    "duration": 39,
    "start_time": "2024-07-09T11:17:22.637Z"
   },
   {
    "duration": 9,
    "start_time": "2024-07-09T11:17:22.678Z"
   },
   {
    "duration": 718,
    "start_time": "2024-07-09T11:17:22.689Z"
   },
   {
    "duration": 9,
    "start_time": "2024-07-09T11:17:23.409Z"
   },
   {
    "duration": 669,
    "start_time": "2024-07-09T11:17:23.420Z"
   },
   {
    "duration": 639,
    "start_time": "2024-07-09T11:17:24.091Z"
   },
   {
    "duration": 292,
    "start_time": "2024-07-09T11:17:24.732Z"
   },
   {
    "duration": 280,
    "start_time": "2024-07-09T11:17:25.026Z"
   },
   {
    "duration": 4,
    "start_time": "2024-07-09T11:17:25.308Z"
   },
   {
    "duration": 48,
    "start_time": "2024-07-09T11:17:25.314Z"
   },
   {
    "duration": 5,
    "start_time": "2024-07-09T11:17:25.363Z"
   },
   {
    "duration": 227,
    "start_time": "2024-07-09T11:17:25.369Z"
   },
   {
    "duration": 4,
    "start_time": "2024-07-09T11:17:25.597Z"
   },
   {
    "duration": 15,
    "start_time": "2024-07-09T11:17:25.603Z"
   },
   {
    "duration": 16,
    "start_time": "2024-07-09T11:17:25.619Z"
   },
   {
    "duration": 820,
    "start_time": "2024-07-09T11:17:25.637Z"
   },
   {
    "duration": 190780,
    "start_time": "2024-07-09T11:17:26.459Z"
   },
   {
    "duration": 26,
    "start_time": "2024-07-09T11:20:37.241Z"
   },
   {
    "duration": 483,
    "start_time": "2024-07-09T11:20:37.269Z"
   },
   {
    "duration": 4,
    "start_time": "2024-07-09T11:20:37.754Z"
   },
   {
    "duration": 4,
    "start_time": "2024-07-09T11:37:30.529Z"
   },
   {
    "duration": 17,
    "start_time": "2024-07-09T11:37:32.409Z"
   },
   {
    "duration": 1560,
    "start_time": "2024-07-09T11:37:37.577Z"
   },
   {
    "duration": 5,
    "start_time": "2024-07-09T11:37:39.139Z"
   },
   {
    "duration": 78,
    "start_time": "2024-07-09T11:37:39.146Z"
   },
   {
    "duration": 39,
    "start_time": "2024-07-09T11:37:39.227Z"
   },
   {
    "duration": 10,
    "start_time": "2024-07-09T11:37:39.268Z"
   },
   {
    "duration": 747,
    "start_time": "2024-07-09T11:37:39.280Z"
   },
   {
    "duration": 8,
    "start_time": "2024-07-09T11:37:40.029Z"
   },
   {
    "duration": 752,
    "start_time": "2024-07-09T11:37:40.039Z"
   },
   {
    "duration": 622,
    "start_time": "2024-07-09T11:37:40.793Z"
   },
   {
    "duration": 316,
    "start_time": "2024-07-09T11:37:41.417Z"
   },
   {
    "duration": 284,
    "start_time": "2024-07-09T11:37:41.734Z"
   },
   {
    "duration": 5,
    "start_time": "2024-07-09T11:37:42.021Z"
   },
   {
    "duration": 56,
    "start_time": "2024-07-09T11:37:42.028Z"
   },
   {
    "duration": 6,
    "start_time": "2024-07-09T11:37:42.086Z"
   },
   {
    "duration": 266,
    "start_time": "2024-07-09T11:37:42.094Z"
   },
   {
    "duration": 4,
    "start_time": "2024-07-09T11:37:42.362Z"
   },
   {
    "duration": 9,
    "start_time": "2024-07-09T11:37:42.368Z"
   },
   {
    "duration": 27,
    "start_time": "2024-07-09T11:37:42.379Z"
   },
   {
    "duration": 349,
    "start_time": "2024-07-09T11:37:42.408Z"
   },
   {
    "duration": 195835,
    "start_time": "2024-07-09T11:37:42.760Z"
   },
   {
    "duration": 22,
    "start_time": "2024-07-09T11:40:58.597Z"
   },
   {
    "duration": 468,
    "start_time": "2024-07-09T11:40:58.620Z"
   },
   {
    "duration": 4,
    "start_time": "2024-07-09T11:40:59.089Z"
   }
  ],
  "kernelspec": {
   "display_name": "Python 3 (ipykernel)",
   "language": "python",
   "name": "python3"
  },
  "language_info": {
   "codemirror_mode": {
    "name": "ipython",
    "version": 3
   },
   "file_extension": ".py",
   "mimetype": "text/x-python",
   "name": "python",
   "nbconvert_exporter": "python",
   "pygments_lexer": "ipython3",
   "version": "3.9.19"
  },
  "latex_envs": {
   "LaTeX_envs_menu_present": true,
   "autoclose": true,
   "autocomplete": true,
   "bibliofile": "biblio.bib",
   "cite_by": "apalike",
   "current_citInitial": 1,
   "eqLabelWithNumbers": true,
   "eqNumInitial": 1,
   "hotkeys": {
    "equation": "Ctrl-E",
    "itemize": "Ctrl-I"
   },
   "labels_anchors": false,
   "latex_user_defs": false,
   "report_style_numbering": false,
   "user_envs_cfg": false
  },
  "toc": {
   "base_numbering": 1,
   "nav_menu": {},
   "number_sections": true,
   "sideBar": true,
   "skip_h1_title": true,
   "title_cell": "Содержание",
   "title_sidebar": "Contents",
   "toc_cell": true,
   "toc_position": {
    "height": "calc(100% - 180px)",
    "left": "10px",
    "top": "150px",
    "width": "243.796875px"
   },
   "toc_section_display": true,
   "toc_window_display": true
  }
 },
 "nbformat": 4,
 "nbformat_minor": 2
}
